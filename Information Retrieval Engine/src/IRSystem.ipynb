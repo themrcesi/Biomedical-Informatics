{
 "cells": [
  {
   "cell_type": "code",
   "execution_count": 1,
   "metadata": {
    "ExecuteTime": {
     "end_time": "2020-12-11T23:39:04.536116Z",
     "start_time": "2020-12-11T23:39:01.991922Z"
    }
   },
   "outputs": [],
   "source": [
    "import json\n",
    "import xmltodict as xtd\n",
    "import numpy as np\n",
    "import os\n",
    "from nltk.corpus import stopwords\n",
    "from nltk.tokenize import wordpunct_tokenize\n",
    "from nltk.stem import PorterStemmer\n",
    "from joblib import Parallel, delayed\n",
    "from gensim import corpora\n",
    "from gensim import models\n",
    "import pandas as pd\n",
    "from gensim.similarities import MatrixSimilarity, SparseMatrixSimilarity, Similarity\n",
    "from operator import itemgetter\n",
    "import glob\n",
    "from matplotlib import pyplot as plt"
   ]
  },
  {
   "cell_type": "code",
   "execution_count": 2,
   "metadata": {
    "ExecuteTime": {
     "end_time": "2020-12-11T23:39:04.550117Z",
     "start_time": "2020-12-11T23:39:04.548116Z"
    }
   },
   "outputs": [],
   "source": [
    "path_queries = r\"B:\\document_parser\\document_parses\\topics-rnd5.xml\"\n",
    "path_texts = \"B:\\document_parser\\document_parses\\pdf_json\"\n",
    "path_test = \"B:/document_parser/document_parses/test\"\n",
    "path_judgements = \"B:/document_parser/document_parses/judgements.csv\"\n",
    "path_judgements2 = \"B:/document_parser/document_parses/judgements2.csv\""
   ]
  },
  {
   "cell_type": "markdown",
   "metadata": {},
   "source": [
    "# Preprocessing"
   ]
  },
  {
   "cell_type": "markdown",
   "metadata": {},
   "source": [
    "## Creación del Diccionario\n",
    "\n",
    "Regarding the dictionary, we found out that there exists another special dictionary called HashDictionary, that doesn´t need to be filled before used it. However, it is likely that two different words get the same key. So, we decided to use the basic one in spite of having to fill it before hand."
   ]
  },
  {
   "cell_type": "code",
   "execution_count": 25,
   "metadata": {
    "ExecuteTime": {
     "end_time": "2020-12-11T23:46:12.315083Z",
     "start_time": "2020-12-11T23:43:52.387083Z"
    }
   },
   "outputs": [
    {
     "name": "stdout",
     "output_type": "stream",
     "text": [
      "Dictionary(1392828 unique tokens: ['abl', 'absenc', 'absent', 'abundantli', 'accept']...)\n"
     ]
    }
   ],
   "source": [
    "dictionary = corpora.Dictionary(line.split() for line in open(\"docs.txt\",\"r\"))\n",
    "dictionary.save('covid19.dict')  # store the dictionary, for future reference\n",
    "print(dictionary)"
   ]
  },
  {
   "cell_type": "markdown",
   "metadata": {},
   "source": [
    "## Creación BOW"
   ]
  },
  {
   "cell_type": "code",
   "execution_count": 22,
   "metadata": {
    "ExecuteTime": {
     "end_time": "2020-12-05T10:53:38.645238Z",
     "start_time": "2020-12-05T10:53:38.641238Z"
    }
   },
   "outputs": [],
   "source": [
    "stopset = set(stopwords.words(\"english\"))"
   ]
  },
  {
   "cell_type": "code",
   "execution_count": 23,
   "metadata": {
    "ExecuteTime": {
     "end_time": "2020-12-05T10:53:39.429195Z",
     "start_time": "2020-12-05T10:53:39.424196Z"
    }
   },
   "outputs": [],
   "source": [
    "def preprocess_document(doc,stopset):\n",
    "    title = np.array([doc[\"metadata\"][\"title\"]], dtype=str)\n",
    "    abstract = np.array([paragraph[\"text\"] for paragraph in doc[\"abstract\"]], dtype=str)\n",
    "    text = np.array([paragraph[\"text\"] for paragraph in doc[\"body_text\"]], dtype=str)\n",
    "    stemmer = PorterStemmer()\n",
    "    information = np.concatenate((title, abstract, text))\n",
    "    tokens = np.concatenate(([wordpunct_tokenize(inf) for inf in information]))\n",
    "    clean = [token.lower() for token in tokens if token.lower() not in stopset and len(token) > 2 and not token.isnumeric()]\n",
    "    final = \" \".join([stemmer.stem(word) for word in clean])\n",
    "    return title[0], str(final.encode(\"utf-8\"))"
   ]
  },
  {
   "cell_type": "code",
   "execution_count": 25,
   "metadata": {
    "ExecuteTime": {
     "end_time": "2020-12-05T10:54:03.397173Z",
     "start_time": "2020-12-05T10:54:03.394172Z"
    }
   },
   "outputs": [],
   "source": [
    "#files = glob.glob(path_texts + \"/*.json\")\n",
    "#with open(\"docs.txt\", \"w+\") as f:\n",
    "#    i = 1\n",
    " #   for file in files:\n",
    "  #      print(i)\n",
    "   #     i+=1\n",
    "    #    with open(file) as js:\n",
    "     #       file_json = json.load(js)\n",
    "      #  _, stems = preprocess_document(file_json, stopset)\n",
    "       # f.write(stems.strip('b\\'')+\"\\n\")"
   ]
  },
  {
   "cell_type": "code",
   "execution_count": 27,
   "metadata": {
    "ExecuteTime": {
     "end_time": "2020-12-11T23:46:35.809849Z",
     "start_time": "2020-12-11T23:46:35.805848Z"
    }
   },
   "outputs": [],
   "source": [
    "class MyCorpus:\n",
    "    \n",
    "    def __init__(self, file):\n",
    "        self.path = file\n",
    "        \n",
    "    def __iter__(self):\n",
    "        for line in open(self.path):\n",
    "            # assume there's one document per line, tokens separated by whitespace\n",
    "            yield dictionary.doc2bow(line.split())"
   ]
  },
  {
   "cell_type": "code",
   "execution_count": 28,
   "metadata": {
    "ExecuteTime": {
     "end_time": "2020-12-11T23:49:13.532909Z",
     "start_time": "2020-12-11T23:46:36.196909Z"
    }
   },
   "outputs": [
    {
     "name": "stdout",
     "output_type": "stream",
     "text": [
      "<__main__.MyCorpus object at 0x000001AD3EAC7148>\n"
     ]
    }
   ],
   "source": [
    "path_corpus = \"docs.txt\"\n",
    "bow = MyCorpus(path_corpus)\n",
    "corpora.MmCorpus.serialize(\"covid19.mm\", bow, metadata=True)\n",
    "print(bow)"
   ]
  },
  {
   "cell_type": "markdown",
   "metadata": {},
   "source": [
    "## Creación de la matriz de Similaridades\n",
    "\n",
    "Regarding the similarities, we chose to use Similarity instead of MatrixSimilarity since it allows lazy generation, not making us to store all the data in RAM."
   ]
  },
  {
   "cell_type": "code",
   "execution_count": 29,
   "metadata": {
    "ExecuteTime": {
     "end_time": "2020-12-11T23:53:08.092549Z",
     "start_time": "2020-12-11T23:49:13.581909Z"
    }
   },
   "outputs": [],
   "source": [
    "from gensim.test.utils import datapath, get_tmpfile\n",
    "index_temp = get_tmpfile(\"index\")\n",
    "index = Similarity(index_temp, bow, num_features=len(dictionary))  # create index\n",
    "index.save(\"covid19.index\")"
   ]
  },
  {
   "cell_type": "markdown",
   "metadata": {},
   "source": [
    "# Carga de datos "
   ]
  },
  {
   "cell_type": "markdown",
   "metadata": {},
   "source": [
    "## Titles"
   ]
  },
  {
   "cell_type": "code",
   "execution_count": 3,
   "metadata": {
    "ExecuteTime": {
     "end_time": "2020-12-11T23:39:07.680355Z",
     "start_time": "2020-12-11T23:39:06.236073Z"
    }
   },
   "outputs": [
    {
     "data": {
      "text/html": [
       "<table style=\"border: 2px solid white;\">\n",
       "<tr>\n",
       "<td style=\"vertical-align: top; border: 0px solid white\">\n",
       "<h3 style=\"text-align: left;\">Client</h3>\n",
       "<ul style=\"text-align: left; list-style: none; margin: 0; padding: 0;\">\n",
       "  <li><b>Scheduler: </b>tcp://127.0.0.1:52402</li>\n",
       "  <li><b>Dashboard: </b><a href='http://127.0.0.1:8787/status' target='_blank'>http://127.0.0.1:8787/status</a>\n",
       "</ul>\n",
       "</td>\n",
       "<td style=\"vertical-align: top; border: 0px solid white\">\n",
       "<h3 style=\"text-align: left;\">Cluster</h3>\n",
       "<ul style=\"text-align: left; list-style:none; margin: 0; padding: 0;\">\n",
       "  <li><b>Workers: </b>6</li>\n",
       "  <li><b>Cores: </b>12</li>\n",
       "  <li><b>Memory: </b>34.31 GB</li>\n",
       "</ul>\n",
       "</td>\n",
       "</tr>\n",
       "</table>"
      ],
      "text/plain": [
       "<Client: 'tcp://127.0.0.1:52402' processes=6 threads=12, memory=34.31 GB>"
      ]
     },
     "execution_count": 3,
     "metadata": {},
     "output_type": "execute_result"
    }
   ],
   "source": [
    "import dask.bag as db\n",
    "from dask.distributed import Client, progress\n",
    "client = Client(n_workers=6, threads_per_worker=2)\n",
    "\n",
    "client"
   ]
  },
  {
   "cell_type": "code",
   "execution_count": 4,
   "metadata": {
    "ExecuteTime": {
     "end_time": "2020-12-11T23:39:07.693353Z",
     "start_time": "2020-12-11T23:39:07.688354Z"
    }
   },
   "outputs": [],
   "source": [
    "def load_dataset(path):\n",
    "    files = glob.glob(path + \"/*.json\")\n",
    "    b = db.from_sequence(files).map(load_json)\n",
    "    df = b.to_dataframe(columns=[\"id\", \"title\", \"abstract\", \"body\"])\n",
    "    return df\n",
    "\n",
    "def load_document(doc):\n",
    "    title = doc[\"metadata\"][\"title\"]\n",
    "    abstract = \" \".join([paragraph[\"text\"] for paragraph in doc[\"abstract\"]])\n",
    "    text = \" \".join([paragraph[\"text\"] for paragraph in doc[\"body_text\"]])\n",
    "    returned = {}\n",
    "    returned[\"id\"] = doc[\"paper_id\"]\n",
    "    returned[\"title\"] = title\n",
    "    returned[\"abstract\"] = abstract\n",
    "    returned[\"body\"] = text\n",
    "    return returned\n",
    "\n",
    "def load_json(file_path):\n",
    "    with open(file_path) as file:\n",
    "        file_json = json.load(file)\n",
    "    returned = load_document(file_json)\n",
    "    return returned"
   ]
  },
  {
   "cell_type": "code",
   "execution_count": 5,
   "metadata": {
    "ExecuteTime": {
     "end_time": "2020-12-11T23:39:08.990026Z",
     "start_time": "2020-12-11T23:39:07.703354Z"
    }
   },
   "outputs": [],
   "source": [
    "dataset = load_dataset(path_texts)"
   ]
  },
  {
   "cell_type": "code",
   "execution_count": 6,
   "metadata": {
    "ExecuteTime": {
     "end_time": "2020-12-11T23:41:09.423025Z",
     "start_time": "2020-12-11T23:39:09.016025Z"
    }
   },
   "outputs": [],
   "source": [
    "titles = dataset[[\"id\",\"title\"]].compute()"
   ]
  },
  {
   "cell_type": "code",
   "execution_count": 7,
   "metadata": {
    "ExecuteTime": {
     "end_time": "2020-12-11T23:41:09.462026Z",
     "start_time": "2020-12-11T23:41:09.453025Z"
    }
   },
   "outputs": [
    {
     "data": {
      "text/html": [
       "<div>\n",
       "<style scoped>\n",
       "    .dataframe tbody tr th:only-of-type {\n",
       "        vertical-align: middle;\n",
       "    }\n",
       "\n",
       "    .dataframe tbody tr th {\n",
       "        vertical-align: top;\n",
       "    }\n",
       "\n",
       "    .dataframe thead th {\n",
       "        text-align: right;\n",
       "    }\n",
       "</style>\n",
       "<table border=\"1\" class=\"dataframe\">\n",
       "  <thead>\n",
       "    <tr style=\"text-align: right;\">\n",
       "      <th></th>\n",
       "      <th>id</th>\n",
       "      <th>title</th>\n",
       "    </tr>\n",
       "  </thead>\n",
       "  <tbody>\n",
       "    <tr>\n",
       "      <th>0</th>\n",
       "      <td>0001418189999fea7f7cbe3e82703d71c85a6fe5</td>\n",
       "      <td>Absence of surface expression of feline infect...</td>\n",
       "    </tr>\n",
       "    <tr>\n",
       "      <th>1</th>\n",
       "      <td>0003793cf9e709bc2b9d0c8111186f78fb73fc04</td>\n",
       "      <td>Title: Rethinking high-risk groups in COVID-19</td>\n",
       "    </tr>\n",
       "    <tr>\n",
       "      <th>2</th>\n",
       "      <td>000379d7a7f37a2ccb978862b9f2016bd03259ea</td>\n",
       "      <td>ScienceDirect ScienceDirect Effect of Nanomate...</td>\n",
       "    </tr>\n",
       "    <tr>\n",
       "      <th>3</th>\n",
       "      <td>00039b94e6cb7609ecbddee1755314bcfeb77faa</td>\n",
       "      <td>Plasma inflammatory cytokines and chemokines i...</td>\n",
       "    </tr>\n",
       "    <tr>\n",
       "      <th>4</th>\n",
       "      <td>0003ddc51c4291d742855e9ac56076a3bea33ad7</td>\n",
       "      <td>Journal Pre-proofs The Fire This Time: The Str...</td>\n",
       "    </tr>\n",
       "    <tr>\n",
       "      <th>...</th>\n",
       "      <td>...</td>\n",
       "      <td>...</td>\n",
       "    </tr>\n",
       "    <tr>\n",
       "      <th>15</th>\n",
       "      <td>fff8b9e88db122ffcbaf1daf6b697e44eaaffd93</td>\n",
       "      <td>Septic shock caused by Mycobacterium tuberculo...</td>\n",
       "    </tr>\n",
       "    <tr>\n",
       "      <th>16</th>\n",
       "      <td>fffaed7e9353b7df6c4ca8f66b62e117013cb86d</td>\n",
       "      <td>Dengue Virus Glycosylation: What Do We Know?</td>\n",
       "    </tr>\n",
       "    <tr>\n",
       "      <th>17</th>\n",
       "      <td>fffb268f02887d8680dc611f6fc0b20c489030cb</td>\n",
       "      <td>Emergence of novel coronavirus and progress to...</td>\n",
       "    </tr>\n",
       "    <tr>\n",
       "      <th>18</th>\n",
       "      <td>fffc88be66eb39823fc9b50f0683e06a3038c9fe</td>\n",
       "      <td>A fractional-order compartmental model for pre...</td>\n",
       "    </tr>\n",
       "    <tr>\n",
       "      <th>19</th>\n",
       "      <td>ffff2fb21d4880b63a7cf3849cecc45bc596f4f0</td>\n",
       "      <td>Comparison of SARS-CoV-2 detection in nasophar...</td>\n",
       "    </tr>\n",
       "  </tbody>\n",
       "</table>\n",
       "<p>84420 rows × 2 columns</p>\n",
       "</div>"
      ],
      "text/plain": [
       "                                          id  \\\n",
       "0   0001418189999fea7f7cbe3e82703d71c85a6fe5   \n",
       "1   0003793cf9e709bc2b9d0c8111186f78fb73fc04   \n",
       "2   000379d7a7f37a2ccb978862b9f2016bd03259ea   \n",
       "3   00039b94e6cb7609ecbddee1755314bcfeb77faa   \n",
       "4   0003ddc51c4291d742855e9ac56076a3bea33ad7   \n",
       "..                                       ...   \n",
       "15  fff8b9e88db122ffcbaf1daf6b697e44eaaffd93   \n",
       "16  fffaed7e9353b7df6c4ca8f66b62e117013cb86d   \n",
       "17  fffb268f02887d8680dc611f6fc0b20c489030cb   \n",
       "18  fffc88be66eb39823fc9b50f0683e06a3038c9fe   \n",
       "19  ffff2fb21d4880b63a7cf3849cecc45bc596f4f0   \n",
       "\n",
       "                                                title  \n",
       "0   Absence of surface expression of feline infect...  \n",
       "1      Title: Rethinking high-risk groups in COVID-19  \n",
       "2   ScienceDirect ScienceDirect Effect of Nanomate...  \n",
       "3   Plasma inflammatory cytokines and chemokines i...  \n",
       "4   Journal Pre-proofs The Fire This Time: The Str...  \n",
       "..                                                ...  \n",
       "15  Septic shock caused by Mycobacterium tuberculo...  \n",
       "16       Dengue Virus Glycosylation: What Do We Know?  \n",
       "17  Emergence of novel coronavirus and progress to...  \n",
       "18  A fractional-order compartmental model for pre...  \n",
       "19  Comparison of SARS-CoV-2 detection in nasophar...  \n",
       "\n",
       "[84420 rows x 2 columns]"
      ]
     },
     "execution_count": 7,
     "metadata": {},
     "output_type": "execute_result"
    }
   ],
   "source": [
    "titles"
   ]
  },
  {
   "cell_type": "markdown",
   "metadata": {},
   "source": [
    "## Judgements"
   ]
  },
  {
   "cell_type": "code",
   "execution_count": 8,
   "metadata": {
    "ExecuteTime": {
     "end_time": "2020-12-11T23:41:09.539025Z",
     "start_time": "2020-12-11T23:41:09.497025Z"
    }
   },
   "outputs": [
    {
     "data": {
      "text/html": [
       "<div>\n",
       "<style scoped>\n",
       "    .dataframe tbody tr th:only-of-type {\n",
       "        vertical-align: middle;\n",
       "    }\n",
       "\n",
       "    .dataframe tbody tr th {\n",
       "        vertical-align: top;\n",
       "    }\n",
       "\n",
       "    .dataframe thead th {\n",
       "        text-align: right;\n",
       "    }\n",
       "</style>\n",
       "<table border=\"1\" class=\"dataframe\">\n",
       "  <thead>\n",
       "    <tr style=\"text-align: right;\">\n",
       "      <th></th>\n",
       "      <th>query</th>\n",
       "      <th>cord_uid</th>\n",
       "      <th>score</th>\n",
       "      <th>binary_score</th>\n",
       "    </tr>\n",
       "  </thead>\n",
       "  <tbody>\n",
       "    <tr>\n",
       "      <th>0</th>\n",
       "      <td>1</td>\n",
       "      <td>005b2j4b</td>\n",
       "      <td>2</td>\n",
       "      <td>1.0</td>\n",
       "    </tr>\n",
       "    <tr>\n",
       "      <th>1</th>\n",
       "      <td>1</td>\n",
       "      <td>00fmeepz</td>\n",
       "      <td>1</td>\n",
       "      <td>1.0</td>\n",
       "    </tr>\n",
       "    <tr>\n",
       "      <th>2</th>\n",
       "      <td>1</td>\n",
       "      <td>010vptx3</td>\n",
       "      <td>2</td>\n",
       "      <td>1.0</td>\n",
       "    </tr>\n",
       "    <tr>\n",
       "      <th>3</th>\n",
       "      <td>1</td>\n",
       "      <td>0194oljo</td>\n",
       "      <td>1</td>\n",
       "      <td>1.0</td>\n",
       "    </tr>\n",
       "    <tr>\n",
       "      <th>4</th>\n",
       "      <td>1</td>\n",
       "      <td>021q9884</td>\n",
       "      <td>1</td>\n",
       "      <td>1.0</td>\n",
       "    </tr>\n",
       "    <tr>\n",
       "      <th>...</th>\n",
       "      <td>...</td>\n",
       "      <td>...</td>\n",
       "      <td>...</td>\n",
       "      <td>...</td>\n",
       "    </tr>\n",
       "    <tr>\n",
       "      <th>69313</th>\n",
       "      <td>50</td>\n",
       "      <td>zvop8bxh</td>\n",
       "      <td>2</td>\n",
       "      <td>1.0</td>\n",
       "    </tr>\n",
       "    <tr>\n",
       "      <th>69314</th>\n",
       "      <td>50</td>\n",
       "      <td>zwf26o63</td>\n",
       "      <td>1</td>\n",
       "      <td>1.0</td>\n",
       "    </tr>\n",
       "    <tr>\n",
       "      <th>69315</th>\n",
       "      <td>50</td>\n",
       "      <td>zwsvlnwe</td>\n",
       "      <td>0</td>\n",
       "      <td>0.0</td>\n",
       "    </tr>\n",
       "    <tr>\n",
       "      <th>69316</th>\n",
       "      <td>50</td>\n",
       "      <td>zxr01yln</td>\n",
       "      <td>1</td>\n",
       "      <td>1.0</td>\n",
       "    </tr>\n",
       "    <tr>\n",
       "      <th>69317</th>\n",
       "      <td>50</td>\n",
       "      <td>zz8wvos9</td>\n",
       "      <td>1</td>\n",
       "      <td>1.0</td>\n",
       "    </tr>\n",
       "  </tbody>\n",
       "</table>\n",
       "<p>69318 rows × 4 columns</p>\n",
       "</div>"
      ],
      "text/plain": [
       "       query  cord_uid  score  binary_score\n",
       "0          1  005b2j4b      2           1.0\n",
       "1          1  00fmeepz      1           1.0\n",
       "2          1  010vptx3      2           1.0\n",
       "3          1  0194oljo      1           1.0\n",
       "4          1  021q9884      1           1.0\n",
       "...      ...       ...    ...           ...\n",
       "69313     50  zvop8bxh      2           1.0\n",
       "69314     50  zwf26o63      1           1.0\n",
       "69315     50  zwsvlnwe      0           0.0\n",
       "69316     50  zxr01yln      1           1.0\n",
       "69317     50  zz8wvos9      1           1.0\n",
       "\n",
       "[69318 rows x 4 columns]"
      ]
     },
     "execution_count": 8,
     "metadata": {},
     "output_type": "execute_result"
    }
   ],
   "source": [
    "def load_judgements(path_judgements):\n",
    "    judgements = pd.read_csv(path_judgements, delimiter=' ', names = [\"query\", \"cord_uid\", \"score\"], usecols=[0,2,3])\n",
    "    judgements.loc[judgements['score'] < 1, 'binary_score'] = 0\n",
    "    judgements.loc[judgements['score'] >=1 , 'binary_score'] = 1\n",
    "    return judgements\n",
    "\n",
    "judgements = load_judgements(path_judgements2)\n",
    "judgements"
   ]
  },
  {
   "cell_type": "markdown",
   "metadata": {},
   "source": [
    "## Queries"
   ]
  },
  {
   "cell_type": "code",
   "execution_count": 9,
   "metadata": {
    "ExecuteTime": {
     "end_time": "2020-12-11T23:41:09.593025Z",
     "start_time": "2020-12-11T23:41:09.578025Z"
    }
   },
   "outputs": [
    {
     "data": {
      "text/html": [
       "<div>\n",
       "<style scoped>\n",
       "    .dataframe tbody tr th:only-of-type {\n",
       "        vertical-align: middle;\n",
       "    }\n",
       "\n",
       "    .dataframe tbody tr th {\n",
       "        vertical-align: top;\n",
       "    }\n",
       "\n",
       "    .dataframe thead th {\n",
       "        text-align: right;\n",
       "    }\n",
       "</style>\n",
       "<table border=\"1\" class=\"dataframe\">\n",
       "  <thead>\n",
       "    <tr style=\"text-align: right;\">\n",
       "      <th></th>\n",
       "      <th>query</th>\n",
       "    </tr>\n",
       "  </thead>\n",
       "  <tbody>\n",
       "    <tr>\n",
       "      <th>1</th>\n",
       "      <td>coronavirus origin</td>\n",
       "    </tr>\n",
       "    <tr>\n",
       "      <th>2</th>\n",
       "      <td>coronavirus response to weather changes</td>\n",
       "    </tr>\n",
       "    <tr>\n",
       "      <th>3</th>\n",
       "      <td>coronavirus immunity</td>\n",
       "    </tr>\n",
       "    <tr>\n",
       "      <th>4</th>\n",
       "      <td>how do people die from the coronavirus</td>\n",
       "    </tr>\n",
       "    <tr>\n",
       "      <th>5</th>\n",
       "      <td>animal models of COVID-19</td>\n",
       "    </tr>\n",
       "  </tbody>\n",
       "</table>\n",
       "</div>"
      ],
      "text/plain": [
       "                                     query\n",
       "1                       coronavirus origin\n",
       "2  coronavirus response to weather changes\n",
       "3                     coronavirus immunity\n",
       "4   how do people die from the coronavirus\n",
       "5                animal models of COVID-19"
      ]
     },
     "execution_count": 9,
     "metadata": {},
     "output_type": "execute_result"
    }
   ],
   "source": [
    "def load_queries(queries_path):\n",
    "    \"\"\"\n",
    "    Receives the path of the queries files and returns a dictionary containing all the queries.\n",
    "\n",
    "    Parameters\n",
    "    ----------\n",
    "    queries_path : path of the queries file\n",
    "\n",
    "    Returns\n",
    "    -------\n",
    "    dic_judgements : dictionary\n",
    "\n",
    "    \"\"\"\n",
    "    with open(queries_path, \"r\") as xml_file:\n",
    "        data_dict = xtd.parse(xml_file.read())\n",
    "    xml_file.close()\n",
    "\n",
    "    dic_queries = {}\n",
    "    for query in data_dict[\"topics\"][\"topic\"]:\n",
    "        dic_queries[query[\"@number\"]] = query[\"query\"]\n",
    "\n",
    "    df = pd.DataFrame.from_dict(dic_queries, orient='index', columns=['query'])\n",
    "\n",
    "    return df\n",
    "\n",
    "queries = load_queries(path_queries)\n",
    "queries.head()"
   ]
  },
  {
   "cell_type": "markdown",
   "metadata": {},
   "source": [
    "## Metadata"
   ]
  },
  {
   "cell_type": "code",
   "execution_count": 10,
   "metadata": {
    "ExecuteTime": {
     "end_time": "2020-12-11T23:41:09.639027Z",
     "start_time": "2020-12-11T23:41:09.637028Z"
    }
   },
   "outputs": [],
   "source": [
    "path_metadata = \"B:/document_parser/document_parses/metadata.csv\""
   ]
  },
  {
   "cell_type": "code",
   "execution_count": 11,
   "metadata": {
    "ExecuteTime": {
     "end_time": "2020-12-11T23:41:11.187080Z",
     "start_time": "2020-12-11T23:41:09.680026Z"
    }
   },
   "outputs": [],
   "source": [
    "metadata = pd.read_csv(path_metadata, header = 0, usecols = [0,1])"
   ]
  },
  {
   "cell_type": "code",
   "execution_count": 12,
   "metadata": {
    "ExecuteTime": {
     "end_time": "2020-12-11T23:41:11.702082Z",
     "start_time": "2020-12-11T23:41:11.228081Z"
    }
   },
   "outputs": [
    {
     "data": {
      "text/html": [
       "<div>\n",
       "<style scoped>\n",
       "    .dataframe tbody tr th:only-of-type {\n",
       "        vertical-align: middle;\n",
       "    }\n",
       "\n",
       "    .dataframe tbody tr th {\n",
       "        vertical-align: top;\n",
       "    }\n",
       "\n",
       "    .dataframe thead th {\n",
       "        text-align: right;\n",
       "    }\n",
       "</style>\n",
       "<table border=\"1\" class=\"dataframe\">\n",
       "  <thead>\n",
       "    <tr style=\"text-align: right;\">\n",
       "      <th></th>\n",
       "      <th>cord_uid</th>\n",
       "      <th>sha</th>\n",
       "    </tr>\n",
       "  </thead>\n",
       "  <tbody>\n",
       "    <tr>\n",
       "      <th>0</th>\n",
       "      <td>ug7v899j</td>\n",
       "      <td>d1aafb70c066a2068b02786f8929fd9c900897fb</td>\n",
       "    </tr>\n",
       "    <tr>\n",
       "      <th>1</th>\n",
       "      <td>02tnwd4m</td>\n",
       "      <td>6b0567729c2143a66d737eb0a2f63f2dce2e5a7d</td>\n",
       "    </tr>\n",
       "    <tr>\n",
       "      <th>2</th>\n",
       "      <td>ejv2xln0</td>\n",
       "      <td>06ced00a5fc04215949aa72528f2eeaae1d58927</td>\n",
       "    </tr>\n",
       "    <tr>\n",
       "      <th>3</th>\n",
       "      <td>2b73a28n</td>\n",
       "      <td>348055649b6b8cf2b9a376498df9bf41f7123605</td>\n",
       "    </tr>\n",
       "    <tr>\n",
       "      <th>4</th>\n",
       "      <td>9785vg6d</td>\n",
       "      <td>5f48792a5fa08bed9f56016f4981ae2ca6031b32</td>\n",
       "    </tr>\n",
       "    <tr>\n",
       "      <th>...</th>\n",
       "      <td>...</td>\n",
       "      <td>...</td>\n",
       "    </tr>\n",
       "    <tr>\n",
       "      <th>320513</th>\n",
       "      <td>jwp8f10m</td>\n",
       "      <td>fc8e76ad02e87bd7d66d5e952a23d1d15480e27c</td>\n",
       "    </tr>\n",
       "    <tr>\n",
       "      <th>320514</th>\n",
       "      <td>r21k0gku</td>\n",
       "      <td>c7c88bf0abd741c2969d03f55373a729ddfcd802</td>\n",
       "    </tr>\n",
       "    <tr>\n",
       "      <th>320515</th>\n",
       "      <td>jx8wulcg</td>\n",
       "      <td>a183646896ed073a4ec4035c5b6c6c77db89f0b3</td>\n",
       "    </tr>\n",
       "    <tr>\n",
       "      <th>320516</th>\n",
       "      <td>q1fzxt3r</td>\n",
       "      <td>c4e99c8b861f4457b4a0518860bc9e52f5348e87</td>\n",
       "    </tr>\n",
       "    <tr>\n",
       "      <th>320517</th>\n",
       "      <td>3gg7ju6f</td>\n",
       "      <td>30fcdec34c5743310e04d2afc601ac4311eb0288</td>\n",
       "    </tr>\n",
       "  </tbody>\n",
       "</table>\n",
       "<p>327142 rows × 2 columns</p>\n",
       "</div>"
      ],
      "text/plain": [
       "        cord_uid                                       sha\n",
       "0       ug7v899j  d1aafb70c066a2068b02786f8929fd9c900897fb\n",
       "1       02tnwd4m  6b0567729c2143a66d737eb0a2f63f2dce2e5a7d\n",
       "2       ejv2xln0  06ced00a5fc04215949aa72528f2eeaae1d58927\n",
       "3       2b73a28n  348055649b6b8cf2b9a376498df9bf41f7123605\n",
       "4       9785vg6d  5f48792a5fa08bed9f56016f4981ae2ca6031b32\n",
       "...          ...                                       ...\n",
       "320513  jwp8f10m  fc8e76ad02e87bd7d66d5e952a23d1d15480e27c\n",
       "320514  r21k0gku  c7c88bf0abd741c2969d03f55373a729ddfcd802\n",
       "320515  jx8wulcg  a183646896ed073a4ec4035c5b6c6c77db89f0b3\n",
       "320516  q1fzxt3r  c4e99c8b861f4457b4a0518860bc9e52f5348e87\n",
       "320517  3gg7ju6f  30fcdec34c5743310e04d2afc601ac4311eb0288\n",
       "\n",
       "[327142 rows x 2 columns]"
      ]
     },
     "execution_count": 12,
     "metadata": {},
     "output_type": "execute_result"
    }
   ],
   "source": [
    "metadata = metadata.assign(sha=metadata.sha.str.split('; ')).explode('sha')\n",
    "metadata"
   ]
  },
  {
   "cell_type": "code",
   "execution_count": 13,
   "metadata": {
    "ExecuteTime": {
     "end_time": "2020-12-11T23:41:11.759082Z",
     "start_time": "2020-12-11T23:41:11.745082Z"
    }
   },
   "outputs": [
    {
     "data": {
      "text/plain": [
       "204463"
      ]
     },
     "execution_count": 13,
     "metadata": {},
     "output_type": "execute_result"
    }
   ],
   "source": [
    "metadata['sha'].isnull().values.sum()"
   ]
  },
  {
   "cell_type": "code",
   "execution_count": 14,
   "metadata": {
    "ExecuteTime": {
     "end_time": "2020-12-11T23:41:11.832082Z",
     "start_time": "2020-12-11T23:41:11.804082Z"
    }
   },
   "outputs": [],
   "source": [
    "metadata = metadata.dropna()"
   ]
  },
  {
   "cell_type": "markdown",
   "metadata": {},
   "source": [
    "# Retrieval models"
   ]
  },
  {
   "cell_type": "markdown",
   "metadata": {},
   "source": [
    "## TFIDF Model\n",
    "\n",
    "The TFIDF (Term Frequency Inversed Document Frequency) model is a numerical statistical model"
   ]
  },
  {
   "cell_type": "markdown",
   "metadata": {},
   "source": [
    "The first thing that we need to do is loading the bag of words created before."
   ]
  },
  {
   "cell_type": "code",
   "execution_count": 39,
   "metadata": {
    "ExecuteTime": {
     "end_time": "2020-12-12T00:22:14.590071Z",
     "start_time": "2020-12-12T00:22:14.571073Z"
    }
   },
   "outputs": [],
   "source": [
    "bow = corpora.MmCorpus('covid19.mm')"
   ]
  },
  {
   "cell_type": "markdown",
   "metadata": {},
   "source": [
    "Then, we also load the dictionary and the similarity matrix."
   ]
  },
  {
   "cell_type": "code",
   "execution_count": 40,
   "metadata": {
    "ExecuteTime": {
     "end_time": "2020-12-12T00:22:16.791220Z",
     "start_time": "2020-12-12T00:22:16.170134Z"
    }
   },
   "outputs": [],
   "source": [
    "dictionary = corpora.Dictionary.load(\"covid19.dict\")"
   ]
  },
  {
   "cell_type": "code",
   "execution_count": 41,
   "metadata": {
    "ExecuteTime": {
     "end_time": "2020-12-12T00:22:16.988221Z",
     "start_time": "2020-12-12T00:22:16.962220Z"
    }
   },
   "outputs": [],
   "source": [
    "similarities = Similarity.load(\"covid19.index\")"
   ]
  },
  {
   "cell_type": "markdown",
   "metadata": {},
   "source": [
    "Once we loaded the bow, dictionary and similarities, we are able to create our TFIDF model."
   ]
  },
  {
   "cell_type": "code",
   "execution_count": 18,
   "metadata": {
    "ExecuteTime": {
     "end_time": "2020-12-11T23:42:18.012082Z",
     "start_time": "2020-12-11T23:41:12.761081Z"
    }
   },
   "outputs": [],
   "source": [
    "# Default model uses nfc from SMART notation.\n",
    "model_tfidf = models.TfidfModel(bow)"
   ]
  },
  {
   "cell_type": "markdown",
   "metadata": {},
   "source": [
    "We create a function to execute a query that returns the ranking of documents retrieved for that specific query. Moreover, a util function to preprocess the query."
   ]
  },
  {
   "cell_type": "code",
   "execution_count": 19,
   "metadata": {
    "ExecuteTime": {
     "end_time": "2020-12-11T23:42:18.066081Z",
     "start_time": "2020-12-11T23:42:18.061083Z"
    }
   },
   "outputs": [],
   "source": [
    "def launch_query_tfidf(model, dictionary, bow, index, query, titles, verbose = 0):\n",
    "    \"\"\"\n",
    "    Given a specific query, it returns the ranking of documents.\n",
    "    \n",
    "    Parameters\n",
    "    ----------\n",
    "    model : tfidf model\n",
    "    dictionary: dictionary created\n",
    "    bow: bag of words\n",
    "    index: similarities matrix\n",
    "    query: specific query\n",
    "    titles: dataframe of the titles\n",
    "    verbose: flag for printing messages\n",
    "    \n",
    "    Returns\n",
    "    -------\n",
    "    ranking: ranking for the query in this format: [(doc_position, score), (doc_position, score), ... ]\n",
    "    similarities: similarities matrix\n",
    "\n",
    "    \"\"\"\n",
    "    stopset = set(stopwords.words(\"english\"))\n",
    "    index = index\n",
    "    pq = preprocess_query_tfidf(query, stopset)\n",
    "    vq = dictionary.doc2bow(pq)\n",
    "    qtfidf = model[vq]\n",
    "    sim = index[qtfidf]\n",
    "    ranking = sorted(enumerate(sim), key=itemgetter(1), reverse=True)\n",
    "    if verbose:\n",
    "        print(\"Query ==> \"+query)\n",
    "        for doc, score in ranking[:5]:\n",
    "            print(\"[ Score = \" + \"%.3f\" % round(score,3) + \" ] \" + titles['title'].iloc[doc])\n",
    "    return ranking, sim\n",
    "        \n",
    "def preprocess_query_tfidf(query, stopset):\n",
    "    \"\"\"\n",
    "    Basic function that preprocess a query given a stopset: tokenization, lower case, stopwords removal and stemming.\n",
    "    \n",
    "    Parameters\n",
    "    ----------\n",
    "    query: query to preprocess\n",
    "    stopset: set containing stopwords\n",
    "    \n",
    "    Returns\n",
    "    -------\n",
    "    stems: stems of the given query\n",
    "    \n",
    "    \"\"\"\n",
    "    stemmer = PorterStemmer()\n",
    "    tokens = wordpunct_tokenize(query)\n",
    "    clean = [token.lower() for token in tokens if token.lower() not in stopset and len(token) > 2]\n",
    "    stems = [stemmer.stem(word) for word in clean]\n",
    "    return stems"
   ]
  },
  {
   "cell_type": "markdown",
   "metadata": {},
   "source": [
    "We execute it to show you how it works. (Notice that in this case verbose is marked as 1)"
   ]
  },
  {
   "cell_type": "code",
   "execution_count": 31,
   "metadata": {
    "ExecuteTime": {
     "end_time": "2020-12-11T23:53:30.455671Z",
     "start_time": "2020-12-11T23:53:30.115633Z"
    }
   },
   "outputs": [
    {
     "name": "stdout",
     "output_type": "stream",
     "text": [
      "Query ==> coronavirus response to weather changes\n",
      "[ Score = 0.421 ] Advice-giving in newspaper weather commentaries\n",
      "[ Score = 0.387 ] Severe weather warnings predict fracture epidemics\n",
      "[ Score = 0.348 ] The Weather Impacts the Outbreak of COVID-19 in Mainland China\n",
      "[ Score = 0.324 ] Comparison of culturable antibiotic-resistant bacteria in polluted and non- polluted air in Beijing, China\n",
      "[ Score = 0.292 ] Weather-Dependent Risk for Legionnaires' Disease, United States Legionella pneumophila [leʺjə-nelʹə nooʺmo-filʹə]\n"
     ]
    }
   ],
   "source": [
    "ranking, sim = launch_query_tfidf(model_tfidf, dictionary, bow, similarities, queries.iloc[1][0], titles, verbose = 1)"
   ]
  },
  {
   "cell_type": "markdown",
   "metadata": {},
   "source": [
    "### Example of evaluation\n",
    "\n",
    "Once we are able to launch queries, it´s time for evaluation. We are going to show you step by step the process for evaluation for the query launched before. Once this process is explained, we will create parameterized functions in order to improve the quality and organization of our code, making us able to reuse it later.\n",
    "\n",
    "The first thing that we do is creating a dataframe from the ranking obtained."
   ]
  },
  {
   "cell_type": "code",
   "execution_count": 54,
   "metadata": {
    "ExecuteTime": {
     "end_time": "2020-12-12T00:37:20.226023Z",
     "start_time": "2020-12-12T00:37:20.014025Z"
    }
   },
   "outputs": [
    {
     "data": {
      "text/html": [
       "<div>\n",
       "<style scoped>\n",
       "    .dataframe tbody tr th:only-of-type {\n",
       "        vertical-align: middle;\n",
       "    }\n",
       "\n",
       "    .dataframe tbody tr th {\n",
       "        vertical-align: top;\n",
       "    }\n",
       "\n",
       "    .dataframe thead th {\n",
       "        text-align: right;\n",
       "    }\n",
       "</style>\n",
       "<table border=\"1\" class=\"dataframe\">\n",
       "  <thead>\n",
       "    <tr style=\"text-align: right;\">\n",
       "      <th></th>\n",
       "      <th>doc_position</th>\n",
       "      <th>rel_score</th>\n",
       "    </tr>\n",
       "  </thead>\n",
       "  <tbody>\n",
       "    <tr>\n",
       "      <th>0</th>\n",
       "      <td>25593</td>\n",
       "      <td>0.718230</td>\n",
       "    </tr>\n",
       "    <tr>\n",
       "      <th>1</th>\n",
       "      <td>2076</td>\n",
       "      <td>0.612373</td>\n",
       "    </tr>\n",
       "    <tr>\n",
       "      <th>2</th>\n",
       "      <td>84113</td>\n",
       "      <td>0.610072</td>\n",
       "    </tr>\n",
       "    <tr>\n",
       "      <th>3</th>\n",
       "      <td>5434</td>\n",
       "      <td>0.583969</td>\n",
       "    </tr>\n",
       "    <tr>\n",
       "      <th>4</th>\n",
       "      <td>8611</td>\n",
       "      <td>0.575012</td>\n",
       "    </tr>\n",
       "    <tr>\n",
       "      <th>...</th>\n",
       "      <td>...</td>\n",
       "      <td>...</td>\n",
       "    </tr>\n",
       "    <tr>\n",
       "      <th>84415</th>\n",
       "      <td>8384</td>\n",
       "      <td>-0.097955</td>\n",
       "    </tr>\n",
       "    <tr>\n",
       "      <th>84416</th>\n",
       "      <td>26845</td>\n",
       "      <td>-0.100415</td>\n",
       "    </tr>\n",
       "    <tr>\n",
       "      <th>84417</th>\n",
       "      <td>6129</td>\n",
       "      <td>-0.101267</td>\n",
       "    </tr>\n",
       "    <tr>\n",
       "      <th>84418</th>\n",
       "      <td>34594</td>\n",
       "      <td>-0.114787</td>\n",
       "    </tr>\n",
       "    <tr>\n",
       "      <th>84419</th>\n",
       "      <td>10299</td>\n",
       "      <td>-0.126689</td>\n",
       "    </tr>\n",
       "  </tbody>\n",
       "</table>\n",
       "<p>84420 rows × 2 columns</p>\n",
       "</div>"
      ],
      "text/plain": [
       "       doc_position  rel_score\n",
       "0             25593   0.718230\n",
       "1              2076   0.612373\n",
       "2             84113   0.610072\n",
       "3              5434   0.583969\n",
       "4              8611   0.575012\n",
       "...             ...        ...\n",
       "84415          8384  -0.097955\n",
       "84416         26845  -0.100415\n",
       "84417          6129  -0.101267\n",
       "84418         34594  -0.114787\n",
       "84419         10299  -0.126689\n",
       "\n",
       "[84420 rows x 2 columns]"
      ]
     },
     "execution_count": 54,
     "metadata": {},
     "output_type": "execute_result"
    }
   ],
   "source": [
    "ranking = [[position[0], position[1]] for position in ranking]\n",
    "ranking = pd.DataFrame(ranking, columns=[\"doc_position\", \"rel_score\"])\n",
    "ranking"
   ]
  },
  {
   "cell_type": "markdown",
   "metadata": {},
   "source": [
    "Now, we include the sha identifier of each document result and its global ranking."
   ]
  },
  {
   "cell_type": "code",
   "execution_count": 55,
   "metadata": {
    "ExecuteTime": {
     "end_time": "2020-12-12T00:37:28.505113Z",
     "start_time": "2020-12-12T00:37:27.929111Z"
    }
   },
   "outputs": [
    {
     "data": {
      "text/html": [
       "<div>\n",
       "<style scoped>\n",
       "    .dataframe tbody tr th:only-of-type {\n",
       "        vertical-align: middle;\n",
       "    }\n",
       "\n",
       "    .dataframe tbody tr th {\n",
       "        vertical-align: top;\n",
       "    }\n",
       "\n",
       "    .dataframe thead th {\n",
       "        text-align: right;\n",
       "    }\n",
       "</style>\n",
       "<table border=\"1\" class=\"dataframe\">\n",
       "  <thead>\n",
       "    <tr style=\"text-align: right;\">\n",
       "      <th></th>\n",
       "      <th>doc_position</th>\n",
       "      <th>rel_score</th>\n",
       "      <th>sha</th>\n",
       "      <th>ranking</th>\n",
       "    </tr>\n",
       "  </thead>\n",
       "  <tbody>\n",
       "    <tr>\n",
       "      <th>0</th>\n",
       "      <td>25593</td>\n",
       "      <td>0.718230</td>\n",
       "      <td>4d025568dbaf499676a7d1d3ec8f1fd0f4be10cf</td>\n",
       "      <td>0</td>\n",
       "    </tr>\n",
       "    <tr>\n",
       "      <th>1</th>\n",
       "      <td>2076</td>\n",
       "      <td>0.612373</td>\n",
       "      <td>062ddf4a73709769a301691b5f8a5e146e03ca43</td>\n",
       "      <td>1</td>\n",
       "    </tr>\n",
       "    <tr>\n",
       "      <th>2</th>\n",
       "      <td>84113</td>\n",
       "      <td>0.610072</td>\n",
       "      <td>ff252d3d36637daccecd601664806aabe228344f</td>\n",
       "      <td>2</td>\n",
       "    </tr>\n",
       "    <tr>\n",
       "      <th>3</th>\n",
       "      <td>5434</td>\n",
       "      <td>0.583969</td>\n",
       "      <td>109de01a5e2fc889145acb33df17bd96862304f0</td>\n",
       "      <td>3</td>\n",
       "    </tr>\n",
       "    <tr>\n",
       "      <th>4</th>\n",
       "      <td>8611</td>\n",
       "      <td>0.575012</td>\n",
       "      <td>1a2c79e2b65d28508db35b7b72eb7c2edfed8ef0</td>\n",
       "      <td>4</td>\n",
       "    </tr>\n",
       "    <tr>\n",
       "      <th>...</th>\n",
       "      <td>...</td>\n",
       "      <td>...</td>\n",
       "      <td>...</td>\n",
       "      <td>...</td>\n",
       "    </tr>\n",
       "    <tr>\n",
       "      <th>84415</th>\n",
       "      <td>8384</td>\n",
       "      <td>-0.097955</td>\n",
       "      <td>19758fc382a2921a000c9d85a33300d3e3b0e2b4</td>\n",
       "      <td>84415</td>\n",
       "    </tr>\n",
       "    <tr>\n",
       "      <th>84416</th>\n",
       "      <td>26845</td>\n",
       "      <td>-0.100415</td>\n",
       "      <td>50c5334ead9ce88189c0840243fb64fa9599bfdb</td>\n",
       "      <td>84416</td>\n",
       "    </tr>\n",
       "    <tr>\n",
       "      <th>84417</th>\n",
       "      <td>6129</td>\n",
       "      <td>-0.101267</td>\n",
       "      <td>12c7bde10bc2422a099a326c99cba1ec1e496431</td>\n",
       "      <td>84417</td>\n",
       "    </tr>\n",
       "    <tr>\n",
       "      <th>84418</th>\n",
       "      <td>34594</td>\n",
       "      <td>-0.114787</td>\n",
       "      <td>6859d462d172259179ef6ce77e232480ed55c0f5</td>\n",
       "      <td>84418</td>\n",
       "    </tr>\n",
       "    <tr>\n",
       "      <th>84419</th>\n",
       "      <td>10299</td>\n",
       "      <td>-0.126689</td>\n",
       "      <td>1f6b0aac57709926bac4f7d52fd550809c835f8b</td>\n",
       "      <td>84419</td>\n",
       "    </tr>\n",
       "  </tbody>\n",
       "</table>\n",
       "<p>84420 rows × 4 columns</p>\n",
       "</div>"
      ],
      "text/plain": [
       "       doc_position  rel_score                                       sha  \\\n",
       "0             25593   0.718230  4d025568dbaf499676a7d1d3ec8f1fd0f4be10cf   \n",
       "1              2076   0.612373  062ddf4a73709769a301691b5f8a5e146e03ca43   \n",
       "2             84113   0.610072  ff252d3d36637daccecd601664806aabe228344f   \n",
       "3              5434   0.583969  109de01a5e2fc889145acb33df17bd96862304f0   \n",
       "4              8611   0.575012  1a2c79e2b65d28508db35b7b72eb7c2edfed8ef0   \n",
       "...             ...        ...                                       ...   \n",
       "84415          8384  -0.097955  19758fc382a2921a000c9d85a33300d3e3b0e2b4   \n",
       "84416         26845  -0.100415  50c5334ead9ce88189c0840243fb64fa9599bfdb   \n",
       "84417          6129  -0.101267  12c7bde10bc2422a099a326c99cba1ec1e496431   \n",
       "84418         34594  -0.114787  6859d462d172259179ef6ce77e232480ed55c0f5   \n",
       "84419         10299  -0.126689  1f6b0aac57709926bac4f7d52fd550809c835f8b   \n",
       "\n",
       "       ranking  \n",
       "0            0  \n",
       "1            1  \n",
       "2            2  \n",
       "3            3  \n",
       "4            4  \n",
       "...        ...  \n",
       "84415    84415  \n",
       "84416    84416  \n",
       "84417    84417  \n",
       "84418    84418  \n",
       "84419    84419  \n",
       "\n",
       "[84420 rows x 4 columns]"
      ]
     },
     "execution_count": 55,
     "metadata": {},
     "output_type": "execute_result"
    }
   ],
   "source": [
    "results = ranking\n",
    "results[\"sha\"] = results[\"doc_position\"].map(lambda x: titles[\"id\"].iloc[x])\n",
    "results[\"ranking\"] = results.index\n",
    "results"
   ]
  },
  {
   "cell_type": "markdown",
   "metadata": {},
   "source": [
    "Now, we join this dataframe with metadata in order to obtain the cord_uid of each document retrieved. This will allow us later to obtain the relevance scores."
   ]
  },
  {
   "cell_type": "code",
   "execution_count": 56,
   "metadata": {
    "ExecuteTime": {
     "end_time": "2020-12-12T00:37:32.399547Z",
     "start_time": "2020-12-12T00:37:32.115550Z"
    }
   },
   "outputs": [
    {
     "data": {
      "text/html": [
       "<div>\n",
       "<style scoped>\n",
       "    .dataframe tbody tr th:only-of-type {\n",
       "        vertical-align: middle;\n",
       "    }\n",
       "\n",
       "    .dataframe tbody tr th {\n",
       "        vertical-align: top;\n",
       "    }\n",
       "\n",
       "    .dataframe thead th {\n",
       "        text-align: right;\n",
       "    }\n",
       "</style>\n",
       "<table border=\"1\" class=\"dataframe\">\n",
       "  <thead>\n",
       "    <tr style=\"text-align: right;\">\n",
       "      <th></th>\n",
       "      <th>doc_position</th>\n",
       "      <th>rel_score</th>\n",
       "      <th>ranking</th>\n",
       "      <th>cord_uid</th>\n",
       "    </tr>\n",
       "    <tr>\n",
       "      <th>sha</th>\n",
       "      <th></th>\n",
       "      <th></th>\n",
       "      <th></th>\n",
       "      <th></th>\n",
       "    </tr>\n",
       "  </thead>\n",
       "  <tbody>\n",
       "    <tr>\n",
       "      <th>4d025568dbaf499676a7d1d3ec8f1fd0f4be10cf</th>\n",
       "      <td>25593</td>\n",
       "      <td>0.718230</td>\n",
       "      <td>0</td>\n",
       "      <td>u65mey2z</td>\n",
       "    </tr>\n",
       "    <tr>\n",
       "      <th>062ddf4a73709769a301691b5f8a5e146e03ca43</th>\n",
       "      <td>2076</td>\n",
       "      <td>0.612373</td>\n",
       "      <td>1</td>\n",
       "      <td>z0ni2jsr</td>\n",
       "    </tr>\n",
       "    <tr>\n",
       "      <th>ff252d3d36637daccecd601664806aabe228344f</th>\n",
       "      <td>84113</td>\n",
       "      <td>0.610072</td>\n",
       "      <td>2</td>\n",
       "      <td>p370gjjn</td>\n",
       "    </tr>\n",
       "    <tr>\n",
       "      <th>109de01a5e2fc889145acb33df17bd96862304f0</th>\n",
       "      <td>5434</td>\n",
       "      <td>0.583969</td>\n",
       "      <td>3</td>\n",
       "      <td>3qzlo90e</td>\n",
       "    </tr>\n",
       "    <tr>\n",
       "      <th>1a2c79e2b65d28508db35b7b72eb7c2edfed8ef0</th>\n",
       "      <td>8611</td>\n",
       "      <td>0.575012</td>\n",
       "      <td>4</td>\n",
       "      <td>dei0xd1b</td>\n",
       "    </tr>\n",
       "    <tr>\n",
       "      <th>...</th>\n",
       "      <td>...</td>\n",
       "      <td>...</td>\n",
       "      <td>...</td>\n",
       "      <td>...</td>\n",
       "    </tr>\n",
       "    <tr>\n",
       "      <th>19758fc382a2921a000c9d85a33300d3e3b0e2b4</th>\n",
       "      <td>8384</td>\n",
       "      <td>-0.097955</td>\n",
       "      <td>84415</td>\n",
       "      <td>xfsumlzw</td>\n",
       "    </tr>\n",
       "    <tr>\n",
       "      <th>50c5334ead9ce88189c0840243fb64fa9599bfdb</th>\n",
       "      <td>26845</td>\n",
       "      <td>-0.100415</td>\n",
       "      <td>84416</td>\n",
       "      <td>k8u2tidd</td>\n",
       "    </tr>\n",
       "    <tr>\n",
       "      <th>12c7bde10bc2422a099a326c99cba1ec1e496431</th>\n",
       "      <td>6129</td>\n",
       "      <td>-0.101267</td>\n",
       "      <td>84417</td>\n",
       "      <td>xtsi663k</td>\n",
       "    </tr>\n",
       "    <tr>\n",
       "      <th>6859d462d172259179ef6ce77e232480ed55c0f5</th>\n",
       "      <td>34594</td>\n",
       "      <td>-0.114787</td>\n",
       "      <td>84418</td>\n",
       "      <td>9tovkxx5</td>\n",
       "    </tr>\n",
       "    <tr>\n",
       "      <th>1f6b0aac57709926bac4f7d52fd550809c835f8b</th>\n",
       "      <td>10299</td>\n",
       "      <td>-0.126689</td>\n",
       "      <td>84419</td>\n",
       "      <td>7xzy5x9n</td>\n",
       "    </tr>\n",
       "  </tbody>\n",
       "</table>\n",
       "<p>84425 rows × 4 columns</p>\n",
       "</div>"
      ],
      "text/plain": [
       "                                          doc_position  rel_score  ranking  \\\n",
       "sha                                                                          \n",
       "4d025568dbaf499676a7d1d3ec8f1fd0f4be10cf         25593   0.718230        0   \n",
       "062ddf4a73709769a301691b5f8a5e146e03ca43          2076   0.612373        1   \n",
       "ff252d3d36637daccecd601664806aabe228344f         84113   0.610072        2   \n",
       "109de01a5e2fc889145acb33df17bd96862304f0          5434   0.583969        3   \n",
       "1a2c79e2b65d28508db35b7b72eb7c2edfed8ef0          8611   0.575012        4   \n",
       "...                                                ...        ...      ...   \n",
       "19758fc382a2921a000c9d85a33300d3e3b0e2b4          8384  -0.097955    84415   \n",
       "50c5334ead9ce88189c0840243fb64fa9599bfdb         26845  -0.100415    84416   \n",
       "12c7bde10bc2422a099a326c99cba1ec1e496431          6129  -0.101267    84417   \n",
       "6859d462d172259179ef6ce77e232480ed55c0f5         34594  -0.114787    84418   \n",
       "1f6b0aac57709926bac4f7d52fd550809c835f8b         10299  -0.126689    84419   \n",
       "\n",
       "                                          cord_uid  \n",
       "sha                                                 \n",
       "4d025568dbaf499676a7d1d3ec8f1fd0f4be10cf  u65mey2z  \n",
       "062ddf4a73709769a301691b5f8a5e146e03ca43  z0ni2jsr  \n",
       "ff252d3d36637daccecd601664806aabe228344f  p370gjjn  \n",
       "109de01a5e2fc889145acb33df17bd96862304f0  3qzlo90e  \n",
       "1a2c79e2b65d28508db35b7b72eb7c2edfed8ef0  dei0xd1b  \n",
       "...                                            ...  \n",
       "19758fc382a2921a000c9d85a33300d3e3b0e2b4  xfsumlzw  \n",
       "50c5334ead9ce88189c0840243fb64fa9599bfdb  k8u2tidd  \n",
       "12c7bde10bc2422a099a326c99cba1ec1e496431  xtsi663k  \n",
       "6859d462d172259179ef6ce77e232480ed55c0f5  9tovkxx5  \n",
       "1f6b0aac57709926bac4f7d52fd550809c835f8b  7xzy5x9n  \n",
       "\n",
       "[84425 rows x 4 columns]"
      ]
     },
     "execution_count": 56,
     "metadata": {},
     "output_type": "execute_result"
    }
   ],
   "source": [
    "results = results.set_index(\"sha\").join(metadata.set_index(\"sha\"))\n",
    "results = results.sort_values(by=[\"ranking\"])\n",
    "results"
   ]
  },
  {
   "cell_type": "markdown",
   "metadata": {},
   "source": [
    "We check that there are some null values in the cord_uid column. This means that some documents of our corpus don´t have a cord_uid in the metadata, so we drop them."
   ]
  },
  {
   "cell_type": "code",
   "execution_count": 57,
   "metadata": {
    "ExecuteTime": {
     "end_time": "2020-12-12T00:37:36.381020Z",
     "start_time": "2020-12-12T00:37:36.371022Z"
    }
   },
   "outputs": [
    {
     "data": {
      "text/plain": [
       "840"
      ]
     },
     "execution_count": 57,
     "metadata": {},
     "output_type": "execute_result"
    }
   ],
   "source": [
    "results['cord_uid'].isnull().sum()"
   ]
  },
  {
   "cell_type": "code",
   "execution_count": 58,
   "metadata": {
    "ExecuteTime": {
     "end_time": "2020-12-12T00:37:37.057403Z",
     "start_time": "2020-12-12T00:37:37.027403Z"
    }
   },
   "outputs": [
    {
     "data": {
      "text/html": [
       "<div>\n",
       "<style scoped>\n",
       "    .dataframe tbody tr th:only-of-type {\n",
       "        vertical-align: middle;\n",
       "    }\n",
       "\n",
       "    .dataframe tbody tr th {\n",
       "        vertical-align: top;\n",
       "    }\n",
       "\n",
       "    .dataframe thead th {\n",
       "        text-align: right;\n",
       "    }\n",
       "</style>\n",
       "<table border=\"1\" class=\"dataframe\">\n",
       "  <thead>\n",
       "    <tr style=\"text-align: right;\">\n",
       "      <th></th>\n",
       "      <th>doc_position</th>\n",
       "      <th>rel_score</th>\n",
       "      <th>ranking</th>\n",
       "      <th>cord_uid</th>\n",
       "    </tr>\n",
       "    <tr>\n",
       "      <th>sha</th>\n",
       "      <th></th>\n",
       "      <th></th>\n",
       "      <th></th>\n",
       "      <th></th>\n",
       "    </tr>\n",
       "  </thead>\n",
       "  <tbody>\n",
       "    <tr>\n",
       "      <th>4d025568dbaf499676a7d1d3ec8f1fd0f4be10cf</th>\n",
       "      <td>25593</td>\n",
       "      <td>0.718230</td>\n",
       "      <td>0</td>\n",
       "      <td>u65mey2z</td>\n",
       "    </tr>\n",
       "    <tr>\n",
       "      <th>062ddf4a73709769a301691b5f8a5e146e03ca43</th>\n",
       "      <td>2076</td>\n",
       "      <td>0.612373</td>\n",
       "      <td>1</td>\n",
       "      <td>z0ni2jsr</td>\n",
       "    </tr>\n",
       "    <tr>\n",
       "      <th>ff252d3d36637daccecd601664806aabe228344f</th>\n",
       "      <td>84113</td>\n",
       "      <td>0.610072</td>\n",
       "      <td>2</td>\n",
       "      <td>p370gjjn</td>\n",
       "    </tr>\n",
       "    <tr>\n",
       "      <th>109de01a5e2fc889145acb33df17bd96862304f0</th>\n",
       "      <td>5434</td>\n",
       "      <td>0.583969</td>\n",
       "      <td>3</td>\n",
       "      <td>3qzlo90e</td>\n",
       "    </tr>\n",
       "    <tr>\n",
       "      <th>1a2c79e2b65d28508db35b7b72eb7c2edfed8ef0</th>\n",
       "      <td>8611</td>\n",
       "      <td>0.575012</td>\n",
       "      <td>4</td>\n",
       "      <td>dei0xd1b</td>\n",
       "    </tr>\n",
       "    <tr>\n",
       "      <th>...</th>\n",
       "      <td>...</td>\n",
       "      <td>...</td>\n",
       "      <td>...</td>\n",
       "      <td>...</td>\n",
       "    </tr>\n",
       "    <tr>\n",
       "      <th>19758fc382a2921a000c9d85a33300d3e3b0e2b4</th>\n",
       "      <td>8384</td>\n",
       "      <td>-0.097955</td>\n",
       "      <td>84415</td>\n",
       "      <td>xfsumlzw</td>\n",
       "    </tr>\n",
       "    <tr>\n",
       "      <th>50c5334ead9ce88189c0840243fb64fa9599bfdb</th>\n",
       "      <td>26845</td>\n",
       "      <td>-0.100415</td>\n",
       "      <td>84416</td>\n",
       "      <td>k8u2tidd</td>\n",
       "    </tr>\n",
       "    <tr>\n",
       "      <th>12c7bde10bc2422a099a326c99cba1ec1e496431</th>\n",
       "      <td>6129</td>\n",
       "      <td>-0.101267</td>\n",
       "      <td>84417</td>\n",
       "      <td>xtsi663k</td>\n",
       "    </tr>\n",
       "    <tr>\n",
       "      <th>6859d462d172259179ef6ce77e232480ed55c0f5</th>\n",
       "      <td>34594</td>\n",
       "      <td>-0.114787</td>\n",
       "      <td>84418</td>\n",
       "      <td>9tovkxx5</td>\n",
       "    </tr>\n",
       "    <tr>\n",
       "      <th>1f6b0aac57709926bac4f7d52fd550809c835f8b</th>\n",
       "      <td>10299</td>\n",
       "      <td>-0.126689</td>\n",
       "      <td>84419</td>\n",
       "      <td>7xzy5x9n</td>\n",
       "    </tr>\n",
       "  </tbody>\n",
       "</table>\n",
       "<p>83585 rows × 4 columns</p>\n",
       "</div>"
      ],
      "text/plain": [
       "                                          doc_position  rel_score  ranking  \\\n",
       "sha                                                                          \n",
       "4d025568dbaf499676a7d1d3ec8f1fd0f4be10cf         25593   0.718230        0   \n",
       "062ddf4a73709769a301691b5f8a5e146e03ca43          2076   0.612373        1   \n",
       "ff252d3d36637daccecd601664806aabe228344f         84113   0.610072        2   \n",
       "109de01a5e2fc889145acb33df17bd96862304f0          5434   0.583969        3   \n",
       "1a2c79e2b65d28508db35b7b72eb7c2edfed8ef0          8611   0.575012        4   \n",
       "...                                                ...        ...      ...   \n",
       "19758fc382a2921a000c9d85a33300d3e3b0e2b4          8384  -0.097955    84415   \n",
       "50c5334ead9ce88189c0840243fb64fa9599bfdb         26845  -0.100415    84416   \n",
       "12c7bde10bc2422a099a326c99cba1ec1e496431          6129  -0.101267    84417   \n",
       "6859d462d172259179ef6ce77e232480ed55c0f5         34594  -0.114787    84418   \n",
       "1f6b0aac57709926bac4f7d52fd550809c835f8b         10299  -0.126689    84419   \n",
       "\n",
       "                                          cord_uid  \n",
       "sha                                                 \n",
       "4d025568dbaf499676a7d1d3ec8f1fd0f4be10cf  u65mey2z  \n",
       "062ddf4a73709769a301691b5f8a5e146e03ca43  z0ni2jsr  \n",
       "ff252d3d36637daccecd601664806aabe228344f  p370gjjn  \n",
       "109de01a5e2fc889145acb33df17bd96862304f0  3qzlo90e  \n",
       "1a2c79e2b65d28508db35b7b72eb7c2edfed8ef0  dei0xd1b  \n",
       "...                                            ...  \n",
       "19758fc382a2921a000c9d85a33300d3e3b0e2b4  xfsumlzw  \n",
       "50c5334ead9ce88189c0840243fb64fa9599bfdb  k8u2tidd  \n",
       "12c7bde10bc2422a099a326c99cba1ec1e496431  xtsi663k  \n",
       "6859d462d172259179ef6ce77e232480ed55c0f5  9tovkxx5  \n",
       "1f6b0aac57709926bac4f7d52fd550809c835f8b  7xzy5x9n  \n",
       "\n",
       "[83585 rows x 4 columns]"
      ]
     },
     "execution_count": 58,
     "metadata": {},
     "output_type": "execute_result"
    }
   ],
   "source": [
    "results = results.dropna()\n",
    "results"
   ]
  },
  {
   "cell_type": "markdown",
   "metadata": {},
   "source": [
    "Before, we launched query 2, so now we need to obtain the relevance judgements of query 2."
   ]
  },
  {
   "cell_type": "code",
   "execution_count": 59,
   "metadata": {
    "ExecuteTime": {
     "end_time": "2020-12-12T00:37:46.574000Z",
     "start_time": "2020-12-12T00:37:46.564001Z"
    }
   },
   "outputs": [
    {
     "data": {
      "text/html": [
       "<div>\n",
       "<style scoped>\n",
       "    .dataframe tbody tr th:only-of-type {\n",
       "        vertical-align: middle;\n",
       "    }\n",
       "\n",
       "    .dataframe tbody tr th {\n",
       "        vertical-align: top;\n",
       "    }\n",
       "\n",
       "    .dataframe thead th {\n",
       "        text-align: right;\n",
       "    }\n",
       "</style>\n",
       "<table border=\"1\" class=\"dataframe\">\n",
       "  <thead>\n",
       "    <tr style=\"text-align: right;\">\n",
       "      <th></th>\n",
       "      <th>query</th>\n",
       "      <th>cord_uid</th>\n",
       "      <th>score</th>\n",
       "      <th>binary_score</th>\n",
       "    </tr>\n",
       "  </thead>\n",
       "  <tbody>\n",
       "    <tr>\n",
       "      <th>0</th>\n",
       "      <td>1</td>\n",
       "      <td>005b2j4b</td>\n",
       "      <td>2</td>\n",
       "      <td>1.0</td>\n",
       "    </tr>\n",
       "    <tr>\n",
       "      <th>1</th>\n",
       "      <td>1</td>\n",
       "      <td>00fmeepz</td>\n",
       "      <td>1</td>\n",
       "      <td>1.0</td>\n",
       "    </tr>\n",
       "    <tr>\n",
       "      <th>2</th>\n",
       "      <td>1</td>\n",
       "      <td>010vptx3</td>\n",
       "      <td>2</td>\n",
       "      <td>1.0</td>\n",
       "    </tr>\n",
       "    <tr>\n",
       "      <th>3</th>\n",
       "      <td>1</td>\n",
       "      <td>0194oljo</td>\n",
       "      <td>1</td>\n",
       "      <td>1.0</td>\n",
       "    </tr>\n",
       "    <tr>\n",
       "      <th>4</th>\n",
       "      <td>1</td>\n",
       "      <td>021q9884</td>\n",
       "      <td>1</td>\n",
       "      <td>1.0</td>\n",
       "    </tr>\n",
       "    <tr>\n",
       "      <th>...</th>\n",
       "      <td>...</td>\n",
       "      <td>...</td>\n",
       "      <td>...</td>\n",
       "      <td>...</td>\n",
       "    </tr>\n",
       "    <tr>\n",
       "      <th>1642</th>\n",
       "      <td>1</td>\n",
       "      <td>zv0ysi8m</td>\n",
       "      <td>1</td>\n",
       "      <td>1.0</td>\n",
       "    </tr>\n",
       "    <tr>\n",
       "      <th>1643</th>\n",
       "      <td>1</td>\n",
       "      <td>zxvim4t8</td>\n",
       "      <td>0</td>\n",
       "      <td>0.0</td>\n",
       "    </tr>\n",
       "    <tr>\n",
       "      <th>1644</th>\n",
       "      <td>1</td>\n",
       "      <td>zy8qjaai</td>\n",
       "      <td>1</td>\n",
       "      <td>1.0</td>\n",
       "    </tr>\n",
       "    <tr>\n",
       "      <th>1645</th>\n",
       "      <td>1</td>\n",
       "      <td>zz24hrva</td>\n",
       "      <td>1</td>\n",
       "      <td>1.0</td>\n",
       "    </tr>\n",
       "    <tr>\n",
       "      <th>1646</th>\n",
       "      <td>1</td>\n",
       "      <td>zzpw375i</td>\n",
       "      <td>0</td>\n",
       "      <td>0.0</td>\n",
       "    </tr>\n",
       "  </tbody>\n",
       "</table>\n",
       "<p>1647 rows × 4 columns</p>\n",
       "</div>"
      ],
      "text/plain": [
       "      query  cord_uid  score  binary_score\n",
       "0         1  005b2j4b      2           1.0\n",
       "1         1  00fmeepz      1           1.0\n",
       "2         1  010vptx3      2           1.0\n",
       "3         1  0194oljo      1           1.0\n",
       "4         1  021q9884      1           1.0\n",
       "...     ...       ...    ...           ...\n",
       "1642      1  zv0ysi8m      1           1.0\n",
       "1643      1  zxvim4t8      0           0.0\n",
       "1644      1  zy8qjaai      1           1.0\n",
       "1645      1  zz24hrva      1           1.0\n",
       "1646      1  zzpw375i      0           0.0\n",
       "\n",
       "[1647 rows x 4 columns]"
      ]
     },
     "execution_count": 59,
     "metadata": {},
     "output_type": "execute_result"
    }
   ],
   "source": [
    "judgements_parcial = judgements[judgements[\"query\"] == 2] # CAMBIUAR DESPUÉS A 2\n",
    "judgements_parcial"
   ]
  },
  {
   "cell_type": "markdown",
   "metadata": {},
   "source": [
    "Once we have the judgements of query 2, we join this judgements with our ranking. This operation will allow us to know for each document retrieved whether it was relevant or not."
   ]
  },
  {
   "cell_type": "code",
   "execution_count": 60,
   "metadata": {
    "ExecuteTime": {
     "end_time": "2020-12-12T00:38:04.288196Z",
     "start_time": "2020-12-12T00:38:04.165197Z"
    }
   },
   "outputs": [
    {
     "data": {
      "text/html": [
       "<div>\n",
       "<style scoped>\n",
       "    .dataframe tbody tr th:only-of-type {\n",
       "        vertical-align: middle;\n",
       "    }\n",
       "\n",
       "    .dataframe tbody tr th {\n",
       "        vertical-align: top;\n",
       "    }\n",
       "\n",
       "    .dataframe thead th {\n",
       "        text-align: right;\n",
       "    }\n",
       "</style>\n",
       "<table border=\"1\" class=\"dataframe\">\n",
       "  <thead>\n",
       "    <tr style=\"text-align: right;\">\n",
       "      <th></th>\n",
       "      <th>doc_position</th>\n",
       "      <th>rel_score</th>\n",
       "      <th>ranking</th>\n",
       "      <th>query</th>\n",
       "      <th>score</th>\n",
       "      <th>binary_score</th>\n",
       "    </tr>\n",
       "    <tr>\n",
       "      <th>cord_uid</th>\n",
       "      <th></th>\n",
       "      <th></th>\n",
       "      <th></th>\n",
       "      <th></th>\n",
       "      <th></th>\n",
       "      <th></th>\n",
       "    </tr>\n",
       "  </thead>\n",
       "  <tbody>\n",
       "    <tr>\n",
       "      <th>000ajevz</th>\n",
       "      <td>7623</td>\n",
       "      <td>0.015756</td>\n",
       "      <td>70794</td>\n",
       "      <td>NaN</td>\n",
       "      <td>NaN</td>\n",
       "      <td>NaN</td>\n",
       "    </tr>\n",
       "    <tr>\n",
       "      <th>000q5l5n</th>\n",
       "      <td>17269</td>\n",
       "      <td>0.089071</td>\n",
       "      <td>30426</td>\n",
       "      <td>NaN</td>\n",
       "      <td>NaN</td>\n",
       "      <td>NaN</td>\n",
       "    </tr>\n",
       "    <tr>\n",
       "      <th>000tfenb</th>\n",
       "      <td>66091</td>\n",
       "      <td>0.355640</td>\n",
       "      <td>549</td>\n",
       "      <td>NaN</td>\n",
       "      <td>NaN</td>\n",
       "      <td>NaN</td>\n",
       "    </tr>\n",
       "    <tr>\n",
       "      <th>001u8ecb</th>\n",
       "      <td>6127</td>\n",
       "      <td>0.055810</td>\n",
       "      <td>46780</td>\n",
       "      <td>NaN</td>\n",
       "      <td>NaN</td>\n",
       "      <td>NaN</td>\n",
       "    </tr>\n",
       "    <tr>\n",
       "      <th>003r4sjl</th>\n",
       "      <td>24650</td>\n",
       "      <td>0.078897</td>\n",
       "      <td>34809</td>\n",
       "      <td>NaN</td>\n",
       "      <td>NaN</td>\n",
       "      <td>NaN</td>\n",
       "    </tr>\n",
       "    <tr>\n",
       "      <th>...</th>\n",
       "      <td>...</td>\n",
       "      <td>...</td>\n",
       "      <td>...</td>\n",
       "      <td>...</td>\n",
       "      <td>...</td>\n",
       "      <td>...</td>\n",
       "    </tr>\n",
       "    <tr>\n",
       "      <th>zzvmj5qy</th>\n",
       "      <td>16372</td>\n",
       "      <td>0.038422</td>\n",
       "      <td>57225</td>\n",
       "      <td>NaN</td>\n",
       "      <td>NaN</td>\n",
       "      <td>NaN</td>\n",
       "    </tr>\n",
       "    <tr>\n",
       "      <th>zzw7zlh6</th>\n",
       "      <td>12233</td>\n",
       "      <td>0.053383</td>\n",
       "      <td>48190</td>\n",
       "      <td>NaN</td>\n",
       "      <td>NaN</td>\n",
       "      <td>NaN</td>\n",
       "    </tr>\n",
       "    <tr>\n",
       "      <th>zzxjv666</th>\n",
       "      <td>57978</td>\n",
       "      <td>0.319469</td>\n",
       "      <td>942</td>\n",
       "      <td>NaN</td>\n",
       "      <td>NaN</td>\n",
       "      <td>NaN</td>\n",
       "    </tr>\n",
       "    <tr>\n",
       "      <th>zzykyblm</th>\n",
       "      <td>75960</td>\n",
       "      <td>0.207175</td>\n",
       "      <td>5414</td>\n",
       "      <td>NaN</td>\n",
       "      <td>NaN</td>\n",
       "      <td>NaN</td>\n",
       "    </tr>\n",
       "    <tr>\n",
       "      <th>zzys31e9</th>\n",
       "      <td>38250</td>\n",
       "      <td>0.010009</td>\n",
       "      <td>73572</td>\n",
       "      <td>NaN</td>\n",
       "      <td>NaN</td>\n",
       "      <td>NaN</td>\n",
       "    </tr>\n",
       "  </tbody>\n",
       "</table>\n",
       "<p>83585 rows × 6 columns</p>\n",
       "</div>"
      ],
      "text/plain": [
       "          doc_position  rel_score  ranking  query  score  binary_score\n",
       "cord_uid                                                              \n",
       "000ajevz          7623   0.015756    70794    NaN    NaN           NaN\n",
       "000q5l5n         17269   0.089071    30426    NaN    NaN           NaN\n",
       "000tfenb         66091   0.355640      549    NaN    NaN           NaN\n",
       "001u8ecb          6127   0.055810    46780    NaN    NaN           NaN\n",
       "003r4sjl         24650   0.078897    34809    NaN    NaN           NaN\n",
       "...                ...        ...      ...    ...    ...           ...\n",
       "zzvmj5qy         16372   0.038422    57225    NaN    NaN           NaN\n",
       "zzw7zlh6         12233   0.053383    48190    NaN    NaN           NaN\n",
       "zzxjv666         57978   0.319469      942    NaN    NaN           NaN\n",
       "zzykyblm         75960   0.207175     5414    NaN    NaN           NaN\n",
       "zzys31e9         38250   0.010009    73572    NaN    NaN           NaN\n",
       "\n",
       "[83585 rows x 6 columns]"
      ]
     },
     "execution_count": 60,
     "metadata": {},
     "output_type": "execute_result"
    }
   ],
   "source": [
    "statistics = results.set_index(\"cord_uid\").join(judgements_parcial.set_index(\"cord_uid\"))\n",
    "statistics"
   ]
  },
  {
   "cell_type": "markdown",
   "metadata": {},
   "source": [
    "Again, we observe that there are null values. These null values mean that there are some documents of our corpus that are not relevance judged. \n",
    "\n",
    "At this point have two possible options:\n",
    "* Drop the null values: since those documents are not judged, we don´t know whether they are relevant or not for that query. It makes sense to us dropping those documents, since assuming that they are relevant or not introduces uncertainty in our model.\n",
    "* Mark them as non-relevant: after reading the TREC guide for evaluation, we understood how this relevance judgements files are created by means of pools. It is indicated that documents not included in the pool should be marked as non-relevant. However, it´s also said that this approach is a bit controversial. \n",
    "\n",
    "After some more research, we realized that this is one of the most controversial aspects on evaluating information retrieval systems. Finally, we opted for the first action, since it made more sense for us."
   ]
  },
  {
   "cell_type": "code",
   "execution_count": 61,
   "metadata": {
    "ExecuteTime": {
     "end_time": "2020-12-12T00:38:15.826031Z",
     "start_time": "2020-12-12T00:38:15.808031Z"
    }
   },
   "outputs": [
    {
     "data": {
      "text/html": [
       "<div>\n",
       "<style scoped>\n",
       "    .dataframe tbody tr th:only-of-type {\n",
       "        vertical-align: middle;\n",
       "    }\n",
       "\n",
       "    .dataframe tbody tr th {\n",
       "        vertical-align: top;\n",
       "    }\n",
       "\n",
       "    .dataframe thead th {\n",
       "        text-align: right;\n",
       "    }\n",
       "</style>\n",
       "<table border=\"1\" class=\"dataframe\">\n",
       "  <thead>\n",
       "    <tr style=\"text-align: right;\">\n",
       "      <th></th>\n",
       "      <th>doc_position</th>\n",
       "      <th>rel_score</th>\n",
       "      <th>ranking</th>\n",
       "      <th>query</th>\n",
       "      <th>score</th>\n",
       "      <th>binary_score</th>\n",
       "    </tr>\n",
       "    <tr>\n",
       "      <th>cord_uid</th>\n",
       "      <th></th>\n",
       "      <th></th>\n",
       "      <th></th>\n",
       "      <th></th>\n",
       "      <th></th>\n",
       "      <th></th>\n",
       "    </tr>\n",
       "  </thead>\n",
       "  <tbody>\n",
       "    <tr>\n",
       "      <th>005b2j4b</th>\n",
       "      <td>24564</td>\n",
       "      <td>0.314180</td>\n",
       "      <td>1008</td>\n",
       "      <td>1.0</td>\n",
       "      <td>2.0</td>\n",
       "      <td>1.0</td>\n",
       "    </tr>\n",
       "    <tr>\n",
       "      <th>010vptx3</th>\n",
       "      <td>948</td>\n",
       "      <td>0.424641</td>\n",
       "      <td>190</td>\n",
       "      <td>1.0</td>\n",
       "      <td>2.0</td>\n",
       "      <td>1.0</td>\n",
       "    </tr>\n",
       "    <tr>\n",
       "      <th>0194oljo</th>\n",
       "      <td>21873</td>\n",
       "      <td>0.121899</td>\n",
       "      <td>19346</td>\n",
       "      <td>1.0</td>\n",
       "      <td>1.0</td>\n",
       "      <td>1.0</td>\n",
       "    </tr>\n",
       "    <tr>\n",
       "      <th>047xpt2c</th>\n",
       "      <td>66284</td>\n",
       "      <td>0.147307</td>\n",
       "      <td>13429</td>\n",
       "      <td>1.0</td>\n",
       "      <td>0.0</td>\n",
       "      <td>0.0</td>\n",
       "    </tr>\n",
       "    <tr>\n",
       "      <th>047xpt2c</th>\n",
       "      <td>82390</td>\n",
       "      <td>0.146920</td>\n",
       "      <td>13505</td>\n",
       "      <td>1.0</td>\n",
       "      <td>0.0</td>\n",
       "      <td>0.0</td>\n",
       "    </tr>\n",
       "    <tr>\n",
       "      <th>...</th>\n",
       "      <td>...</td>\n",
       "      <td>...</td>\n",
       "      <td>...</td>\n",
       "      <td>...</td>\n",
       "      <td>...</td>\n",
       "      <td>...</td>\n",
       "    </tr>\n",
       "    <tr>\n",
       "      <th>zsx7wfyj</th>\n",
       "      <td>24633</td>\n",
       "      <td>0.397258</td>\n",
       "      <td>298</td>\n",
       "      <td>1.0</td>\n",
       "      <td>1.0</td>\n",
       "      <td>1.0</td>\n",
       "    </tr>\n",
       "    <tr>\n",
       "      <th>ztcyvsoi</th>\n",
       "      <td>51414</td>\n",
       "      <td>0.406843</td>\n",
       "      <td>266</td>\n",
       "      <td>1.0</td>\n",
       "      <td>1.0</td>\n",
       "      <td>1.0</td>\n",
       "    </tr>\n",
       "    <tr>\n",
       "      <th>zu46bdpu</th>\n",
       "      <td>40525</td>\n",
       "      <td>0.295498</td>\n",
       "      <td>1386</td>\n",
       "      <td>1.0</td>\n",
       "      <td>2.0</td>\n",
       "      <td>1.0</td>\n",
       "    </tr>\n",
       "    <tr>\n",
       "      <th>zv0ysi8m</th>\n",
       "      <td>81309</td>\n",
       "      <td>0.335953</td>\n",
       "      <td>737</td>\n",
       "      <td>1.0</td>\n",
       "      <td>1.0</td>\n",
       "      <td>1.0</td>\n",
       "    </tr>\n",
       "    <tr>\n",
       "      <th>zy8qjaai</th>\n",
       "      <td>31727</td>\n",
       "      <td>0.235805</td>\n",
       "      <td>3464</td>\n",
       "      <td>1.0</td>\n",
       "      <td>1.0</td>\n",
       "      <td>1.0</td>\n",
       "    </tr>\n",
       "  </tbody>\n",
       "</table>\n",
       "<p>1337 rows × 6 columns</p>\n",
       "</div>"
      ],
      "text/plain": [
       "          doc_position  rel_score  ranking  query  score  binary_score\n",
       "cord_uid                                                              \n",
       "005b2j4b         24564   0.314180     1008    1.0    2.0           1.0\n",
       "010vptx3           948   0.424641      190    1.0    2.0           1.0\n",
       "0194oljo         21873   0.121899    19346    1.0    1.0           1.0\n",
       "047xpt2c         66284   0.147307    13429    1.0    0.0           0.0\n",
       "047xpt2c         82390   0.146920    13505    1.0    0.0           0.0\n",
       "...                ...        ...      ...    ...    ...           ...\n",
       "zsx7wfyj         24633   0.397258      298    1.0    1.0           1.0\n",
       "ztcyvsoi         51414   0.406843      266    1.0    1.0           1.0\n",
       "zu46bdpu         40525   0.295498     1386    1.0    2.0           1.0\n",
       "zv0ysi8m         81309   0.335953      737    1.0    1.0           1.0\n",
       "zy8qjaai         31727   0.235805     3464    1.0    1.0           1.0\n",
       "\n",
       "[1337 rows x 6 columns]"
      ]
     },
     "execution_count": 61,
     "metadata": {},
     "output_type": "execute_result"
    }
   ],
   "source": [
    "# Drop values\n",
    "statistics = statistics.dropna()\n",
    "# Mark them as non relevant\n",
    "#a[\"binary_score\"].fillna(0, inplace=True)\n",
    "statistics"
   ]
  },
  {
   "cell_type": "markdown",
   "metadata": {},
   "source": [
    "At this point, we already know whether each retrieved document is relevant or not.\n",
    "\n",
    "Now, we compute the total number of relevant documents, it will be used later.\n",
    "\n",
    "And, we remove all the results whose computed tfidf score is 0."
   ]
  },
  {
   "cell_type": "code",
   "execution_count": 62,
   "metadata": {
    "ExecuteTime": {
     "end_time": "2020-12-12T00:38:21.682970Z",
     "start_time": "2020-12-12T00:38:21.679971Z"
    }
   },
   "outputs": [],
   "source": [
    "r = statistics[\"binary_score\"].sum()\n",
    "statistics = statistics[statistics[\"rel_score\"]>0]"
   ]
  },
  {
   "cell_type": "code",
   "execution_count": 63,
   "metadata": {
    "ExecuteTime": {
     "end_time": "2020-12-12T00:38:22.442036Z",
     "start_time": "2020-12-12T00:38:22.432038Z"
    }
   },
   "outputs": [
    {
     "data": {
      "text/html": [
       "<div>\n",
       "<style scoped>\n",
       "    .dataframe tbody tr th:only-of-type {\n",
       "        vertical-align: middle;\n",
       "    }\n",
       "\n",
       "    .dataframe tbody tr th {\n",
       "        vertical-align: top;\n",
       "    }\n",
       "\n",
       "    .dataframe thead th {\n",
       "        text-align: right;\n",
       "    }\n",
       "</style>\n",
       "<table border=\"1\" class=\"dataframe\">\n",
       "  <thead>\n",
       "    <tr style=\"text-align: right;\">\n",
       "      <th></th>\n",
       "      <th>doc_position</th>\n",
       "      <th>rel_score</th>\n",
       "      <th>ranking</th>\n",
       "      <th>query</th>\n",
       "      <th>score</th>\n",
       "      <th>binary_score</th>\n",
       "    </tr>\n",
       "    <tr>\n",
       "      <th>cord_uid</th>\n",
       "      <th></th>\n",
       "      <th></th>\n",
       "      <th></th>\n",
       "      <th></th>\n",
       "      <th></th>\n",
       "      <th></th>\n",
       "    </tr>\n",
       "  </thead>\n",
       "  <tbody>\n",
       "    <tr>\n",
       "      <th>005b2j4b</th>\n",
       "      <td>24564</td>\n",
       "      <td>0.314180</td>\n",
       "      <td>1008</td>\n",
       "      <td>1.0</td>\n",
       "      <td>2.0</td>\n",
       "      <td>1.0</td>\n",
       "    </tr>\n",
       "    <tr>\n",
       "      <th>010vptx3</th>\n",
       "      <td>948</td>\n",
       "      <td>0.424641</td>\n",
       "      <td>190</td>\n",
       "      <td>1.0</td>\n",
       "      <td>2.0</td>\n",
       "      <td>1.0</td>\n",
       "    </tr>\n",
       "    <tr>\n",
       "      <th>0194oljo</th>\n",
       "      <td>21873</td>\n",
       "      <td>0.121899</td>\n",
       "      <td>19346</td>\n",
       "      <td>1.0</td>\n",
       "      <td>1.0</td>\n",
       "      <td>1.0</td>\n",
       "    </tr>\n",
       "    <tr>\n",
       "      <th>047xpt2c</th>\n",
       "      <td>66284</td>\n",
       "      <td>0.147307</td>\n",
       "      <td>13429</td>\n",
       "      <td>1.0</td>\n",
       "      <td>0.0</td>\n",
       "      <td>0.0</td>\n",
       "    </tr>\n",
       "    <tr>\n",
       "      <th>047xpt2c</th>\n",
       "      <td>82390</td>\n",
       "      <td>0.146920</td>\n",
       "      <td>13505</td>\n",
       "      <td>1.0</td>\n",
       "      <td>0.0</td>\n",
       "      <td>0.0</td>\n",
       "    </tr>\n",
       "    <tr>\n",
       "      <th>...</th>\n",
       "      <td>...</td>\n",
       "      <td>...</td>\n",
       "      <td>...</td>\n",
       "      <td>...</td>\n",
       "      <td>...</td>\n",
       "      <td>...</td>\n",
       "    </tr>\n",
       "    <tr>\n",
       "      <th>zsx7wfyj</th>\n",
       "      <td>24633</td>\n",
       "      <td>0.397258</td>\n",
       "      <td>298</td>\n",
       "      <td>1.0</td>\n",
       "      <td>1.0</td>\n",
       "      <td>1.0</td>\n",
       "    </tr>\n",
       "    <tr>\n",
       "      <th>ztcyvsoi</th>\n",
       "      <td>51414</td>\n",
       "      <td>0.406843</td>\n",
       "      <td>266</td>\n",
       "      <td>1.0</td>\n",
       "      <td>1.0</td>\n",
       "      <td>1.0</td>\n",
       "    </tr>\n",
       "    <tr>\n",
       "      <th>zu46bdpu</th>\n",
       "      <td>40525</td>\n",
       "      <td>0.295498</td>\n",
       "      <td>1386</td>\n",
       "      <td>1.0</td>\n",
       "      <td>2.0</td>\n",
       "      <td>1.0</td>\n",
       "    </tr>\n",
       "    <tr>\n",
       "      <th>zv0ysi8m</th>\n",
       "      <td>81309</td>\n",
       "      <td>0.335953</td>\n",
       "      <td>737</td>\n",
       "      <td>1.0</td>\n",
       "      <td>1.0</td>\n",
       "      <td>1.0</td>\n",
       "    </tr>\n",
       "    <tr>\n",
       "      <th>zy8qjaai</th>\n",
       "      <td>31727</td>\n",
       "      <td>0.235805</td>\n",
       "      <td>3464</td>\n",
       "      <td>1.0</td>\n",
       "      <td>1.0</td>\n",
       "      <td>1.0</td>\n",
       "    </tr>\n",
       "  </tbody>\n",
       "</table>\n",
       "<p>1314 rows × 6 columns</p>\n",
       "</div>"
      ],
      "text/plain": [
       "          doc_position  rel_score  ranking  query  score  binary_score\n",
       "cord_uid                                                              \n",
       "005b2j4b         24564   0.314180     1008    1.0    2.0           1.0\n",
       "010vptx3           948   0.424641      190    1.0    2.0           1.0\n",
       "0194oljo         21873   0.121899    19346    1.0    1.0           1.0\n",
       "047xpt2c         66284   0.147307    13429    1.0    0.0           0.0\n",
       "047xpt2c         82390   0.146920    13505    1.0    0.0           0.0\n",
       "...                ...        ...      ...    ...    ...           ...\n",
       "zsx7wfyj         24633   0.397258      298    1.0    1.0           1.0\n",
       "ztcyvsoi         51414   0.406843      266    1.0    1.0           1.0\n",
       "zu46bdpu         40525   0.295498     1386    1.0    2.0           1.0\n",
       "zv0ysi8m         81309   0.335953      737    1.0    1.0           1.0\n",
       "zy8qjaai         31727   0.235805     3464    1.0    1.0           1.0\n",
       "\n",
       "[1314 rows x 6 columns]"
      ]
     },
     "execution_count": 63,
     "metadata": {},
     "output_type": "execute_result"
    }
   ],
   "source": [
    "statistics"
   ]
  },
  {
   "cell_type": "markdown",
   "metadata": {},
   "source": [
    "We order our statistics by the ranking and reset the index.\n",
    "\n",
    "We compute the actual rank (starting in 1)."
   ]
  },
  {
   "cell_type": "code",
   "execution_count": 64,
   "metadata": {
    "ExecuteTime": {
     "end_time": "2020-12-12T00:38:31.302406Z",
     "start_time": "2020-12-12T00:38:31.296406Z"
    }
   },
   "outputs": [],
   "source": [
    "statistics = statistics.sort_values(by=[\"ranking\"])\n",
    "statistics = statistics.reset_index()\n",
    "statistics[\"rank\"] = statistics.index+1"
   ]
  },
  {
   "cell_type": "markdown",
   "metadata": {
    "ExecuteTime": {
     "end_time": "2020-12-07T17:05:40.594445Z",
     "start_time": "2020-12-07T17:05:40.591445Z"
    }
   },
   "source": [
    "Now, we compute precision and recall for each position of the ranking. Notice that we are making the table explained in the lecture notes (slide 51)."
   ]
  },
  {
   "cell_type": "code",
   "execution_count": 65,
   "metadata": {
    "ExecuteTime": {
     "end_time": "2020-12-12T00:38:32.861958Z",
     "start_time": "2020-12-12T00:38:32.856959Z"
    }
   },
   "outputs": [],
   "source": [
    "statistics[\"relevant\"] = statistics[\"binary_score\"]\n",
    "statistics[\"rel_retrieved\"] = statistics[\"binary_score\"].cumsum()\n",
    "statistics[\"precision\"] = statistics[\"rel_retrieved\"] / statistics[\"rank\"]\n",
    "statistics[\"recall\"] = statistics[\"rel_retrieved\"] / r\n",
    "statistics.drop([\"doc_position\", \"score\", \"binary_score\"], axis=1, inplace=True)"
   ]
  },
  {
   "cell_type": "code",
   "execution_count": 66,
   "metadata": {
    "ExecuteTime": {
     "end_time": "2020-12-12T00:38:33.631360Z",
     "start_time": "2020-12-12T00:38:33.617361Z"
    }
   },
   "outputs": [
    {
     "data": {
      "text/html": [
       "<div>\n",
       "<style scoped>\n",
       "    .dataframe tbody tr th:only-of-type {\n",
       "        vertical-align: middle;\n",
       "    }\n",
       "\n",
       "    .dataframe tbody tr th {\n",
       "        vertical-align: top;\n",
       "    }\n",
       "\n",
       "    .dataframe thead th {\n",
       "        text-align: right;\n",
       "    }\n",
       "</style>\n",
       "<table border=\"1\" class=\"dataframe\">\n",
       "  <thead>\n",
       "    <tr style=\"text-align: right;\">\n",
       "      <th></th>\n",
       "      <th>cord_uid</th>\n",
       "      <th>rel_score</th>\n",
       "      <th>ranking</th>\n",
       "      <th>query</th>\n",
       "      <th>rank</th>\n",
       "      <th>relevant</th>\n",
       "      <th>rel_retrieved</th>\n",
       "      <th>precision</th>\n",
       "      <th>recall</th>\n",
       "    </tr>\n",
       "  </thead>\n",
       "  <tbody>\n",
       "    <tr>\n",
       "      <th>0</th>\n",
       "      <td>u65mey2z</td>\n",
       "      <td>0.718230</td>\n",
       "      <td>0</td>\n",
       "      <td>1.0</td>\n",
       "      <td>1</td>\n",
       "      <td>1.0</td>\n",
       "      <td>1.0</td>\n",
       "      <td>1.000000</td>\n",
       "      <td>0.001912</td>\n",
       "    </tr>\n",
       "    <tr>\n",
       "      <th>1</th>\n",
       "      <td>z0ni2jsr</td>\n",
       "      <td>0.612373</td>\n",
       "      <td>1</td>\n",
       "      <td>1.0</td>\n",
       "      <td>2</td>\n",
       "      <td>1.0</td>\n",
       "      <td>2.0</td>\n",
       "      <td>1.000000</td>\n",
       "      <td>0.003824</td>\n",
       "    </tr>\n",
       "    <tr>\n",
       "      <th>2</th>\n",
       "      <td>3qzlo90e</td>\n",
       "      <td>0.583969</td>\n",
       "      <td>3</td>\n",
       "      <td>1.0</td>\n",
       "      <td>3</td>\n",
       "      <td>0.0</td>\n",
       "      <td>2.0</td>\n",
       "      <td>0.666667</td>\n",
       "      <td>0.003824</td>\n",
       "    </tr>\n",
       "    <tr>\n",
       "      <th>3</th>\n",
       "      <td>dei0xd1b</td>\n",
       "      <td>0.575012</td>\n",
       "      <td>4</td>\n",
       "      <td>1.0</td>\n",
       "      <td>4</td>\n",
       "      <td>1.0</td>\n",
       "      <td>3.0</td>\n",
       "      <td>0.750000</td>\n",
       "      <td>0.005736</td>\n",
       "    </tr>\n",
       "    <tr>\n",
       "      <th>4</th>\n",
       "      <td>43gik8e3</td>\n",
       "      <td>0.538900</td>\n",
       "      <td>5</td>\n",
       "      <td>1.0</td>\n",
       "      <td>5</td>\n",
       "      <td>1.0</td>\n",
       "      <td>4.0</td>\n",
       "      <td>0.800000</td>\n",
       "      <td>0.007648</td>\n",
       "    </tr>\n",
       "    <tr>\n",
       "      <th>...</th>\n",
       "      <td>...</td>\n",
       "      <td>...</td>\n",
       "      <td>...</td>\n",
       "      <td>...</td>\n",
       "      <td>...</td>\n",
       "      <td>...</td>\n",
       "      <td>...</td>\n",
       "      <td>...</td>\n",
       "      <td>...</td>\n",
       "    </tr>\n",
       "    <tr>\n",
       "      <th>1309</th>\n",
       "      <td>l0nrgl9o</td>\n",
       "      <td>0.007809</td>\n",
       "      <td>74515</td>\n",
       "      <td>1.0</td>\n",
       "      <td>1310</td>\n",
       "      <td>0.0</td>\n",
       "      <td>523.0</td>\n",
       "      <td>0.399237</td>\n",
       "      <td>1.000000</td>\n",
       "    </tr>\n",
       "    <tr>\n",
       "      <th>1310</th>\n",
       "      <td>v22k72tw</td>\n",
       "      <td>0.006505</td>\n",
       "      <td>75096</td>\n",
       "      <td>1.0</td>\n",
       "      <td>1311</td>\n",
       "      <td>0.0</td>\n",
       "      <td>523.0</td>\n",
       "      <td>0.398932</td>\n",
       "      <td>1.000000</td>\n",
       "    </tr>\n",
       "    <tr>\n",
       "      <th>1311</th>\n",
       "      <td>job4854r</td>\n",
       "      <td>0.005207</td>\n",
       "      <td>75618</td>\n",
       "      <td>1.0</td>\n",
       "      <td>1312</td>\n",
       "      <td>0.0</td>\n",
       "      <td>523.0</td>\n",
       "      <td>0.398628</td>\n",
       "      <td>1.000000</td>\n",
       "    </tr>\n",
       "    <tr>\n",
       "      <th>1312</th>\n",
       "      <td>2hb28brw</td>\n",
       "      <td>0.003437</td>\n",
       "      <td>76403</td>\n",
       "      <td>1.0</td>\n",
       "      <td>1313</td>\n",
       "      <td>0.0</td>\n",
       "      <td>523.0</td>\n",
       "      <td>0.398324</td>\n",
       "      <td>1.000000</td>\n",
       "    </tr>\n",
       "    <tr>\n",
       "      <th>1313</th>\n",
       "      <td>vy1mu04l</td>\n",
       "      <td>0.001937</td>\n",
       "      <td>77130</td>\n",
       "      <td>1.0</td>\n",
       "      <td>1314</td>\n",
       "      <td>0.0</td>\n",
       "      <td>523.0</td>\n",
       "      <td>0.398021</td>\n",
       "      <td>1.000000</td>\n",
       "    </tr>\n",
       "  </tbody>\n",
       "</table>\n",
       "<p>1314 rows × 9 columns</p>\n",
       "</div>"
      ],
      "text/plain": [
       "      cord_uid  rel_score  ranking  query  rank  relevant  rel_retrieved  \\\n",
       "0     u65mey2z   0.718230        0    1.0     1       1.0            1.0   \n",
       "1     z0ni2jsr   0.612373        1    1.0     2       1.0            2.0   \n",
       "2     3qzlo90e   0.583969        3    1.0     3       0.0            2.0   \n",
       "3     dei0xd1b   0.575012        4    1.0     4       1.0            3.0   \n",
       "4     43gik8e3   0.538900        5    1.0     5       1.0            4.0   \n",
       "...        ...        ...      ...    ...   ...       ...            ...   \n",
       "1309  l0nrgl9o   0.007809    74515    1.0  1310       0.0          523.0   \n",
       "1310  v22k72tw   0.006505    75096    1.0  1311       0.0          523.0   \n",
       "1311  job4854r   0.005207    75618    1.0  1312       0.0          523.0   \n",
       "1312  2hb28brw   0.003437    76403    1.0  1313       0.0          523.0   \n",
       "1313  vy1mu04l   0.001937    77130    1.0  1314       0.0          523.0   \n",
       "\n",
       "      precision    recall  \n",
       "0      1.000000  0.001912  \n",
       "1      1.000000  0.003824  \n",
       "2      0.666667  0.003824  \n",
       "3      0.750000  0.005736  \n",
       "4      0.800000  0.007648  \n",
       "...         ...       ...  \n",
       "1309   0.399237  1.000000  \n",
       "1310   0.398932  1.000000  \n",
       "1311   0.398628  1.000000  \n",
       "1312   0.398324  1.000000  \n",
       "1313   0.398021  1.000000  \n",
       "\n",
       "[1314 rows x 9 columns]"
      ]
     },
     "execution_count": 66,
     "metadata": {},
     "output_type": "execute_result"
    }
   ],
   "source": [
    "statistics"
   ]
  },
  {
   "cell_type": "markdown",
   "metadata": {},
   "source": [
    "We also compute the Mean Average Precision, the P@5 and P@10 and the R-Precision.\n",
    "\n",
    "This metrics and the precision and recall will be very helpfull for the evaluation of our models.\n",
    "\n",
    "* **Precision** = relevant documents retrieved / documents retrieved. \n",
    "* **Recall** = relevant documents retrieved / total amount of relevant documents\n",
    "* **P@X**: precision at position X of our ranking\n",
    "* **R-Precision**: precision at position R of our ranking, being R the total number of relevant documents for that query (remember that before we computed some r? That r is this R.)\n",
    "* **Mean Average Precision**: average of precisions after some relevant document is retrieved."
   ]
  },
  {
   "cell_type": "code",
   "execution_count": 67,
   "metadata": {
    "ExecuteTime": {
     "end_time": "2020-12-12T00:39:01.329999Z",
     "start_time": "2020-12-12T00:39:01.324003Z"
    }
   },
   "outputs": [
    {
     "name": "stdout",
     "output_type": "stream",
     "text": [
      "Mean average precision of TFIDF model for query 2 ==> 0.6766384260657535\n",
      "R-precision of TFIDF model for query 2 ==> 0.6462715105162524\n",
      "P@5 of this model for query 2 ==> 0.8\n",
      "P@10 of this model for query 2 ==> 0.7\n"
     ]
    }
   ],
   "source": [
    "mavp = (statistics[\"precision\"] * statistics[\"relevant\"]).sum() / r\n",
    "r_precision = statistics.iloc[int(r-1)].precision\n",
    "p_5 = statistics.iloc[4].precision\n",
    "p_10 = statistics.iloc[9].precision\n",
    "\n",
    "print(f\"Mean average precision of TFIDF model for query 2 ==> {mavp}\")\n",
    "print(f\"R-precision of TFIDF model for query 2 ==> {r_precision}\")\n",
    "print(f\"P@5 of this model for query 2 ==> {p_5}\")\n",
    "print(f\"P@10 of this model for query 2 ==> {p_10}\")"
   ]
  },
  {
   "cell_type": "markdown",
   "metadata": {},
   "source": [
    "Now we will plot the precision vs recall figure, but using the standarized metric as explained in class."
   ]
  },
  {
   "cell_type": "code",
   "execution_count": 68,
   "metadata": {
    "ExecuteTime": {
     "end_time": "2020-12-12T00:39:13.918937Z",
     "start_time": "2020-12-12T00:39:13.916938Z"
    }
   },
   "outputs": [],
   "source": [
    "precision = statistics[\"precision\"].values\n",
    "recall = statistics[\"recall\"].values"
   ]
  },
  {
   "cell_type": "code",
   "execution_count": 69,
   "metadata": {
    "ExecuteTime": {
     "end_time": "2020-12-12T00:39:14.792022Z",
     "start_time": "2020-12-12T00:39:14.789023Z"
    }
   },
   "outputs": [],
   "source": [
    "def get_higher_precision(statistics, recall):\n",
    "    \"\"\"\n",
    "    Auxiliary function to obtain the higher precision for a given recall value.\n",
    "    \n",
    "    \"\"\"\n",
    "    try:\n",
    "        index = statistics.index[statistics['recall'] >= recall].tolist()[0] \n",
    "        return statistics.iloc[index:][\"precision\"].max()\n",
    "    except:\n",
    "        return 0"
   ]
  },
  {
   "cell_type": "code",
   "execution_count": 70,
   "metadata": {
    "ExecuteTime": {
     "end_time": "2020-12-12T00:39:15.958934Z",
     "start_time": "2020-12-12T00:39:15.949936Z"
    }
   },
   "outputs": [],
   "source": [
    "precision_recall = [[recall_i, get_higher_precision(statistics, recall_i)] for recall_i in np.arange(0,recall.max()+0.1, 0.1)]\n",
    "precision = [precision[1] for precision in precision_recall]\n",
    "recall = [recall[0] for recall in precision_recall]"
   ]
  },
  {
   "cell_type": "code",
   "execution_count": 71,
   "metadata": {
    "ExecuteTime": {
     "end_time": "2020-12-12T00:39:16.927912Z",
     "start_time": "2020-12-12T00:39:16.813914Z"
    }
   },
   "outputs": [
    {
     "data": {
      "image/png": "[encoded data removed]",
      "text/plain": [
       "<Figure size 360x360 with 1 Axes>"
      ]
     },
     "metadata": {
      "needs_background": "light"
     },
     "output_type": "display_data"
    }
   ],
   "source": [
    "plt.figure(figsize=(5,5))\n",
    "plt.title(\"Precision vs recall standardized\")\n",
    "plt.plot(recall, precision, \"r-o\")\n",
    "plt.axis([0, 1, 0, 1])\n",
    "plt.xlabel(\"Recall\")\n",
    "plt.ylabel(\"Precision\")\n",
    "plt.show()"
   ]
  },
  {
   "cell_type": "markdown",
   "metadata": {},
   "source": [
    "### Parameterized Evaluation\n",
    "\n",
    "Before, we have explained step by step how the statistics are computed.\n",
    "\n",
    "The following three cells have the same code as above, but in functions so as to be reused later."
   ]
  },
  {
   "cell_type": "code",
   "execution_count": null,
   "metadata": {
    "ExecuteTime": {
     "end_time": "2020-12-11T23:42:18.291082Z",
     "start_time": "2020-12-11T23:42:02.717Z"
    }
   },
   "outputs": [],
   "source": [
    "def launch(function, model,dictionary,bow,index,titles):\n",
    "    \"\"\"\n",
    "    God function that allow us to pass independent launch query functions to our get_statistics function. \n",
    "    For more info, check Currying (Functional Programming).\n",
    "    \n",
    "    \"\"\"\n",
    "    def h(query):\n",
    "        return function(model,dictionary,bow,index,query,titles)\n",
    "    return h"
   ]
  },
  {
   "cell_type": "code",
   "execution_count": null,
   "metadata": {
    "ExecuteTime": {
     "end_time": "2020-12-11T23:42:18.293082Z",
     "start_time": "2020-12-11T23:42:03.357Z"
    }
   },
   "outputs": [],
   "source": [
    "def get_statistics(launch_query, queries, titles, metadata, judgements):\n",
    "    \"\"\"\n",
    "    General function that allow us to get statistics for all queries given a specific launch query function (model).\n",
    "    \n",
    "    Returns\n",
    "    -------\n",
    "    It returns all the metrics explained before.\n",
    "    \"\"\"\n",
    "    results = []\n",
    "    for index in range(len(queries)):\n",
    "        ranking, _ = launch_query(queries.iloc[index][0])#\n",
    "        result = get_statistics_query(ranking, index+1, titles, metadata, judgements)\n",
    "        results.append(result)\n",
    "    mavp = np.array([query[\"mavp\"] for query in results]).mean()\n",
    "    precision = np.array([query[\"precision\"] for query in results]).mean(axis=0)\n",
    "    r_precision = [query[\"r-precision\"] for query in results]\n",
    "    p_5 = [query[\"p_5\"] for query in results]\n",
    "    p_10 = [query[\"p_10\"] for query in results]\n",
    "    recall = np.array([query[\"recall\"] for query in results]).mean(axis=0)\n",
    "    return {\"mavp\": mavp, \"precision\":precision, \"r-precision\":r_precision, \"recall\":recall, \"p_5\": p_5, \"p_10\": p_10}"
   ]
  },
  {
   "cell_type": "code",
   "execution_count": null,
   "metadata": {
    "ExecuteTime": {
     "end_time": "2020-12-11T23:42:18.295081Z",
     "start_time": "2020-12-11T23:42:03.869Z"
    }
   },
   "outputs": [],
   "source": [
    "def get_statistics_query(ranking, id_query, titles, metadata, judgements):\n",
    "    \"\"\"\n",
    "    Individual function to compute the statistics for a specific query.\n",
    "    \n",
    "    Returns\n",
    "    -------\n",
    "    It returns all the metrics explained before.\n",
    "    \"\"\"\n",
    "    ranking = [[position[0], position[1]] for position in ranking]\n",
    "    ranking = pd.DataFrame(ranking, columns=[\"doc_position\", \"rel_score\"])\n",
    "    results = ranking\n",
    "    results[\"sha\"] = results[\"doc_position\"].map(lambda x: titles[\"id\"].iloc[x])\n",
    "    results[\"ranking\"] = results.index\n",
    "    results = results.set_index(\"sha\").join(metadata.set_index(\"sha\"))\n",
    "    results = results.sort_values(by=[\"ranking\"])\n",
    "    results = results.dropna()\n",
    "    judgements_parcial = judgements[judgements[\"query\"] == id_query]\n",
    "    statistics = results.set_index(\"cord_uid\").join(judgements_parcial.set_index(\"cord_uid\"))\n",
    "    statistics = statistics.dropna()\n",
    "    r = statistics[\"binary_score\"].sum()\n",
    "    statistics = statistics[statistics[\"rel_score\"]>0]\n",
    "    statistics = statistics.sort_values(by=[\"ranking\"])\n",
    "    statistics = statistics.reset_index()\n",
    "    statistics[\"rank\"] = statistics.index+1\n",
    "    statistics[\"relevant\"] = statistics[\"binary_score\"]\n",
    "    statistics[\"rel_retrieved\"] = statistics[\"binary_score\"].cumsum()\n",
    "    statistics[\"precision\"] = statistics[\"rel_retrieved\"] / statistics[\"rank\"]\n",
    "    r = statistics[\"relevant\"].sum()\n",
    "    if r == 0:\n",
    "        return {\"mavp\": 0, \"r-precision\": 0, \"precision\": list(np.zeros(11)), \"recall\":0, \"p_10\": 0, \"p_5\": 0}\n",
    "    statistics[\"recall\"] = statistics[\"rel_retrieved\"] / r\n",
    "    statistics.drop([\"doc_position\", \"score\", \"binary_score\"], axis=1, inplace=True)\n",
    "    mavp = (statistics[\"precision\"] * statistics[\"relevant\"]).sum() / r\n",
    "    r_precision = statistics.iloc[int(r-1)].precision\n",
    "    precision = statistics[\"precision\"].values\n",
    "    recall = statistics[\"recall\"].values\n",
    "    recall_range = np.arange(0,recall.max()+0.1, 0.1)\n",
    "    precision_recall = [[recall, get_higher_precision(statistics, recall)] for recall in recall_range]\n",
    "    precision = [precision[1] for precision in precision_recall]\n",
    "    p_5 = statistics.iloc[4].precision\n",
    "    p_10 = statistics.iloc[9].precision\n",
    "    return {\"mavp\": mavp, \"r-precision\": r_precision, \"precision\": precision, \"recall\":recall_range, \"p_10\": p_10, \"p_5\":p_5}"
   ]
  },
  {
   "cell_type": "markdown",
   "metadata": {},
   "source": [
    "## TFIDF 2.0\n",
    "\n",
    "Once we have all our structure created: launching queries and computing statistics, we create 4 variations of the TFIDF Model playing with the SMART notation values."
   ]
  },
  {
   "cell_type": "code",
   "execution_count": 74,
   "metadata": {
    "ExecuteTime": {
     "end_time": "2020-12-12T00:46:54.876552Z",
     "start_time": "2020-12-12T00:46:31.782555Z"
    }
   },
   "outputs": [
    {
     "ename": "KeyboardInterrupt",
     "evalue": "",
     "output_type": "error",
     "traceback": [
      "\u001b[1;31m---------------------------------------------------------------------------\u001b[0m",
      "\u001b[1;31mKeyboardInterrupt\u001b[0m                         Traceback (most recent call last)",
      "\u001b[1;32m<ipython-input-74-6233d79b236a>\u001b[0m in \u001b[0;36m<module>\u001b[1;34m\u001b[0m\n\u001b[1;32m----> 1\u001b[1;33m \u001b[0mmodel_tfidf_3\u001b[0m \u001b[1;33m=\u001b[0m \u001b[0mmodels\u001b[0m\u001b[1;33m.\u001b[0m\u001b[0mTfidfModel\u001b[0m\u001b[1;33m(\u001b[0m\u001b[0mbow\u001b[0m\u001b[1;33m,\u001b[0m \u001b[0msmartirs\u001b[0m\u001b[1;33m=\u001b[0m\u001b[1;34m\"lpu\"\u001b[0m\u001b[1;33m)\u001b[0m \u001b[1;31m# Logarithmic term frequency weighting, probabilistic document frequency weighting\u001b[0m\u001b[1;33m\u001b[0m\u001b[1;33m\u001b[0m\u001b[0m\n\u001b[0m\u001b[0;32m      2\u001b[0m                                                         \u001b[1;31m# and pivoted unique normalization\u001b[0m\u001b[1;33m\u001b[0m\u001b[1;33m\u001b[0m\u001b[1;33m\u001b[0m\u001b[0m\n\u001b[0;32m      3\u001b[0m \u001b[0mmodel_tfidf_2\u001b[0m \u001b[1;33m=\u001b[0m \u001b[0mmodels\u001b[0m\u001b[1;33m.\u001b[0m\u001b[0mTfidfModel\u001b[0m\u001b[1;33m(\u001b[0m\u001b[0mbow\u001b[0m\u001b[1;33m,\u001b[0m \u001b[0msmartirs\u001b[0m\u001b[1;33m=\u001b[0m\u001b[1;34m\"lfc\"\u001b[0m\u001b[1;33m)\u001b[0m \u001b[1;31m# Logarithmic term frequency weighting, idf document frequency weighting\u001b[0m\u001b[1;33m\u001b[0m\u001b[1;33m\u001b[0m\u001b[0m\n\u001b[0;32m      4\u001b[0m                                                          \u001b[1;31m# and cosine normalization\u001b[0m\u001b[1;33m\u001b[0m\u001b[1;33m\u001b[0m\u001b[1;33m\u001b[0m\u001b[0m\n\u001b[0;32m      5\u001b[0m \u001b[0mmodel_tfidf_5\u001b[0m \u001b[1;33m=\u001b[0m \u001b[0mmodels\u001b[0m\u001b[1;33m.\u001b[0m\u001b[0mTfidfModel\u001b[0m\u001b[1;33m(\u001b[0m\u001b[0mbow\u001b[0m\u001b[1;33m,\u001b[0m \u001b[0msmartirs\u001b[0m\u001b[1;33m=\u001b[0m\u001b[1;34m\"ltc\"\u001b[0m\u001b[1;33m)\u001b[0m \u001b[1;31m# Logarithmic term frequency weighting, zero-corrected idf document frequency weighting\u001b[0m\u001b[1;33m\u001b[0m\u001b[1;33m\u001b[0m\u001b[0m\n",
      "\u001b[1;32mB:\\Anaconda3\\lib\\site-packages\\gensim\\models\\tfidfmodel.py\u001b[0m in \u001b[0;36m__init__\u001b[1;34m(self, corpus, id2word, dictionary, wlocal, wglobal, normalize, smartirs, pivot, slope)\u001b[0m\n\u001b[0;32m    395\u001b[0m                 \u001b[0mself\u001b[0m\u001b[1;33m.\u001b[0m\u001b[0mid2word\u001b[0m \u001b[1;33m=\u001b[0m \u001b[0mdictionary\u001b[0m\u001b[1;33m\u001b[0m\u001b[1;33m\u001b[0m\u001b[0m\n\u001b[0;32m    396\u001b[0m         \u001b[1;32melif\u001b[0m \u001b[0mcorpus\u001b[0m\u001b[1;33m:\u001b[0m\u001b[1;33m\u001b[0m\u001b[1;33m\u001b[0m\u001b[0m\n\u001b[1;32m--> 397\u001b[1;33m             \u001b[0mself\u001b[0m\u001b[1;33m.\u001b[0m\u001b[0minitialize\u001b[0m\u001b[1;33m(\u001b[0m\u001b[0mcorpus\u001b[0m\u001b[1;33m)\u001b[0m\u001b[1;33m\u001b[0m\u001b[1;33m\u001b[0m\u001b[0m\n\u001b[0m\u001b[0;32m    398\u001b[0m         \u001b[1;32melse\u001b[0m\u001b[1;33m:\u001b[0m\u001b[1;33m\u001b[0m\u001b[1;33m\u001b[0m\u001b[0m\n\u001b[0;32m    399\u001b[0m             \u001b[1;31m# NOTE: everything is left uninitialized; presumably the model will\u001b[0m\u001b[1;33m\u001b[0m\u001b[1;33m\u001b[0m\u001b[1;33m\u001b[0m\u001b[0m\n",
      "\u001b[1;32mB:\\Anaconda3\\lib\\site-packages\\gensim\\models\\tfidfmodel.py\u001b[0m in \u001b[0;36minitialize\u001b[1;34m(self, corpus)\u001b[0m\n\u001b[0;32m    456\u001b[0m         \u001b[0mnumnnz\u001b[0m\u001b[1;33m,\u001b[0m \u001b[0mdocno\u001b[0m \u001b[1;33m=\u001b[0m \u001b[1;36m0\u001b[0m\u001b[1;33m,\u001b[0m \u001b[1;33m-\u001b[0m\u001b[1;36m1\u001b[0m\u001b[1;33m\u001b[0m\u001b[1;33m\u001b[0m\u001b[0m\n\u001b[0;32m    457\u001b[0m \u001b[1;33m\u001b[0m\u001b[0m\n\u001b[1;32m--> 458\u001b[1;33m         \u001b[1;32mfor\u001b[0m \u001b[0mdocno\u001b[0m\u001b[1;33m,\u001b[0m \u001b[0mbow\u001b[0m \u001b[1;32min\u001b[0m \u001b[0menumerate\u001b[0m\u001b[1;33m(\u001b[0m\u001b[0mcorpus\u001b[0m\u001b[1;33m)\u001b[0m\u001b[1;33m:\u001b[0m\u001b[1;33m\u001b[0m\u001b[1;33m\u001b[0m\u001b[0m\n\u001b[0m\u001b[0;32m    459\u001b[0m             \u001b[1;32mif\u001b[0m \u001b[0mdocno\u001b[0m \u001b[1;33m%\u001b[0m \u001b[1;36m10000\u001b[0m \u001b[1;33m==\u001b[0m \u001b[1;36m0\u001b[0m\u001b[1;33m:\u001b[0m\u001b[1;33m\u001b[0m\u001b[1;33m\u001b[0m\u001b[0m\n\u001b[0;32m    460\u001b[0m                 \u001b[0mlogger\u001b[0m\u001b[1;33m.\u001b[0m\u001b[0minfo\u001b[0m\u001b[1;33m(\u001b[0m\u001b[1;34m\"PROGRESS: processing document #%i\"\u001b[0m\u001b[1;33m,\u001b[0m \u001b[0mdocno\u001b[0m\u001b[1;33m)\u001b[0m\u001b[1;33m\u001b[0m\u001b[1;33m\u001b[0m\u001b[0m\n",
      "\u001b[1;32mB:\\Anaconda3\\lib\\site-packages\\gensim\\corpora\\mmcorpus.py\u001b[0m in \u001b[0;36m__iter__\u001b[1;34m(self)\u001b[0m\n\u001b[0;32m     81\u001b[0m \u001b[1;33m\u001b[0m\u001b[0m\n\u001b[0;32m     82\u001b[0m         \"\"\"\n\u001b[1;32m---> 83\u001b[1;33m         \u001b[1;32mfor\u001b[0m \u001b[0mdoc_id\u001b[0m\u001b[1;33m,\u001b[0m \u001b[0mdoc\u001b[0m \u001b[1;32min\u001b[0m \u001b[0msuper\u001b[0m\u001b[1;33m(\u001b[0m\u001b[0mMmCorpus\u001b[0m\u001b[1;33m,\u001b[0m \u001b[0mself\u001b[0m\u001b[1;33m)\u001b[0m\u001b[1;33m.\u001b[0m\u001b[0m__iter__\u001b[0m\u001b[1;33m(\u001b[0m\u001b[1;33m)\u001b[0m\u001b[1;33m:\u001b[0m\u001b[1;33m\u001b[0m\u001b[1;33m\u001b[0m\u001b[0m\n\u001b[0m\u001b[0;32m     84\u001b[0m             \u001b[1;32myield\u001b[0m \u001b[0mdoc\u001b[0m  \u001b[1;31m# get rid of doc id, return the sparse vector only\u001b[0m\u001b[1;33m\u001b[0m\u001b[1;33m\u001b[0m\u001b[0m\n\u001b[0;32m     85\u001b[0m \u001b[1;33m\u001b[0m\u001b[0m\n",
      "\u001b[1;31mKeyboardInterrupt\u001b[0m: "
     ]
    }
   ],
   "source": [
    "model_tfidf_3 = models.TfidfModel(bow, smartirs=\"lpu\") # Logarithmic term frequency weighting, probabilistic document frequency weighting \n",
    "                                                        # and pivoted unique normalization\n",
    "model_tfidf_2 = models.TfidfModel(bow, smartirs=\"lfc\") # Logarithmic term frequency weighting, idf document frequency weighting \n",
    "                                                         # and cosine normalization\n",
    "model_tfidf_5 = models.TfidfModel(bow, smartirs=\"ltc\") # Logarithmic term frequency weighting, zero-corrected idf document frequency weighting \n",
    "                                                         # and cosine normalization\n",
    "model_tfidf_4 = models.TfidfModel(bow, smartirs=\"nnn\") # Raw term frequency weighting, none document frequency weighting \n",
    "                                                         # and none normalization"
   ]
  },
  {
   "cell_type": "markdown",
   "metadata": {},
   "source": [
    "## Latent Semantic Indexing"
   ]
  },
  {
   "cell_type": "code",
   "execution_count": 42,
   "metadata": {
    "ExecuteTime": {
     "end_time": "2020-12-12T00:23:33.990939Z",
     "start_time": "2020-12-12T00:23:33.987941Z"
    }
   },
   "outputs": [],
   "source": [
    "corpus_tfidf = model_tfidf[bow]"
   ]
  },
  {
   "cell_type": "code",
   "execution_count": 34,
   "metadata": {
    "ExecuteTime": {
     "end_time": "2020-12-12T00:11:47.871764Z",
     "start_time": "2020-12-11T23:55:04.157453Z"
    }
   },
   "outputs": [],
   "source": [
    "lsi = models.LsiModel(corpus_tfidf, id2word=dictionary, num_topics = 300)"
   ]
  },
  {
   "cell_type": "code",
   "execution_count": 50,
   "metadata": {
    "ExecuteTime": {
     "end_time": "2020-12-12T00:32:52.375280Z",
     "start_time": "2020-12-12T00:32:52.370282Z"
    }
   },
   "outputs": [],
   "source": [
    "def launch_query_lsi(model, dictionary, bow, index, query, titles, verbose = 0):\n",
    "    \"\"\"\n",
    "    Given a specific query, it returns the ranking of documents.\n",
    "    \n",
    "    Parameters\n",
    "    ----------\n",
    "    model : tfidf model\n",
    "    dictionary: dictionary created\n",
    "    bow: bag of words\n",
    "    index: similarities matrix\n",
    "    query: specific query\n",
    "    titles: dataframe of the titles\n",
    "    verbose: flag for printing messages\n",
    "    \n",
    "    Returns\n",
    "    -------\n",
    "    ranking: ranking for the query in this format: [(doc_position, score), (doc_position, score), ... ]\n",
    "    similarities: similarities matrix\n",
    "\n",
    "    \"\"\"\n",
    "    stopset = set(stopwords.words(\"english\"))\n",
    "    index = index\n",
    "    pq = preprocess_query_tfidf(query, stopset)\n",
    "    vq = dictionary.doc2bow(pq)\n",
    "    veclsi = model[model_tfidf[vq]]\n",
    "    sim = index[veclsi]\n",
    "    ranking = sorted(enumerate(sim), key=itemgetter(1), reverse=True)\n",
    "    if verbose:\n",
    "        print(\"Query ==> \"+query)\n",
    "        for doc, score in ranking[:5]:\n",
    "            print(\"[ Score = \" + \"%.3f\" % round(score,3) + \" ] \" + titles['title'].iloc[doc])\n",
    "    return ranking, sim"
   ]
  },
  {
   "cell_type": "code",
   "execution_count": 36,
   "metadata": {
    "ExecuteTime": {
     "end_time": "2020-12-12T00:13:02.003556Z",
     "start_time": "2020-12-12T00:12:58.543457Z"
    }
   },
   "outputs": [],
   "source": [
    "lsi.save(\"model_lsi.lsi\")"
   ]
  },
  {
   "cell_type": "code",
   "execution_count": null,
   "metadata": {
    "ExecuteTime": {
     "end_time": "2020-12-12T00:28:00.333439Z",
     "start_time": "2020-12-12T00:23:57.350790Z"
    }
   },
   "outputs": [],
   "source": [
    "index_lsi = Similarity(index_temp, lsi[corpus_tfidf], num_features=len(dictionary))"
   ]
  },
  {
   "cell_type": "code",
   "execution_count": 44,
   "metadata": {
    "ExecuteTime": {
     "end_time": "2020-12-12T00:29:14.150580Z",
     "start_time": "2020-12-12T00:29:02.784573Z"
    }
   },
   "outputs": [],
   "source": [
    "index_lsi.save(\"covid19-lsi.index\")"
   ]
  },
  {
   "cell_type": "code",
   "execution_count": 53,
   "metadata": {
    "ExecuteTime": {
     "end_time": "2020-12-12T00:37:06.588137Z",
     "start_time": "2020-12-12T00:37:06.392141Z"
    }
   },
   "outputs": [
    {
     "name": "stdout",
     "output_type": "stream",
     "text": [
      "Query ==> origin coronavirus\n",
      "[ Score = 0.718 ] Classical Coronaviruses-nCoV · MERS-CoV · SARS-CoV · Strain 229E · Strain OC43 · Coronavirus\n",
      "[ Score = 0.612 ] The global emergence of severe acute respiratory syndrome coronavirus 2 in human\n",
      "[ Score = 0.610 ] novel coronavirus epidemic\n",
      "[ Score = 0.584 ] The Human Coronaviruses\n",
      "[ Score = 0.575 ] COVID-19: Zoonotic aspects Fig. 1. Potential transmission cycles of SARS-CoV2 (formerly 2019nCoV). Travel Medicine and Infectious Disease xxx (xxxx) xxxx\n"
     ]
    }
   ],
   "source": [
    "ranking, _ = launch_query_lsi(lsi, dictionary, bow, index_lsi, \"origin coronavirus\", titles, verbose = 1)"
   ]
  },
  {
   "cell_type": "markdown",
   "metadata": {},
   "source": [
    "## Word2Vec\n",
    "\n",
    "After creating several TFIDF models, we wanted to try the Word2Vec model."
   ]
  },
  {
   "cell_type": "code",
   "execution_count": 157,
   "metadata": {
    "ExecuteTime": {
     "end_time": "2020-12-07T14:57:57.020552Z",
     "start_time": "2020-12-07T14:57:57.016555Z"
    }
   },
   "outputs": [],
   "source": [
    "def clean(doc):\n",
    "    \"\"\"\n",
    "    Basic function to clean a document being a document a string with words separated by blank spaces.\n",
    "    \"\"\"\n",
    "    stopset = set(stopwords.words(\"english\"))\n",
    "    stemmer = PorterStemmer()\n",
    "    tokens = wordpunct_tokenize(doc)\n",
    "    clean = [token.lower() for token in tokens if token not in stopset and len(token) > 2 and not token.isnumeric()]\n",
    "    final = [stemmer.stem(token) for token in clean]\n",
    "    return \" \".join(final)"
   ]
  },
  {
   "cell_type": "markdown",
   "metadata": {},
   "source": [
    "### Creation\n",
    "\n",
    "The first thing that we need to do is to create our Word2Vec model. To do that, we need to obtain our dataset (documents and queries).\n",
    "\n",
    "The following cells create the dataset for our model."
   ]
  },
  {
   "cell_type": "code",
   "execution_count": 158,
   "metadata": {
    "ExecuteTime": {
     "end_time": "2020-12-07T14:58:02.656304Z",
     "start_time": "2020-12-07T14:57:57.544263Z"
    }
   },
   "outputs": [],
   "source": [
    "docs = pd.DataFrame((line for line in open(\"docs.txt\")), columns = [\"preprocess\"])"
   ]
  },
  {
   "cell_type": "code",
   "execution_count": 159,
   "metadata": {
    "ExecuteTime": {
     "end_time": "2020-12-07T14:58:02.806154Z",
     "start_time": "2020-12-07T14:58:02.790140Z"
    }
   },
   "outputs": [],
   "source": [
    "queries[\"preprocess\"] = queries[\"query\"].apply(lambda x: clean(x))"
   ]
  },
  {
   "cell_type": "code",
   "execution_count": 160,
   "metadata": {
    "ExecuteTime": {
     "end_time": "2020-12-07T14:58:02.985165Z",
     "start_time": "2020-12-07T14:58:02.943164Z"
    }
   },
   "outputs": [],
   "source": [
    "combined = pd.concat((docs[\"preprocess\"], queries[\"preprocess\"])).sample(frac=1).reset_index(drop=True)"
   ]
  },
  {
   "cell_type": "markdown",
   "metadata": {},
   "source": [
    "Once we have our dataset, it´s time to create and train our model. \n",
    "* **Size**: this is the size of the word embeddings. We chose this value after looking in some papers that suggested using a size between 200-500 for large corpus (as ours).\n",
    "* **Workers**: if you execute this code, please change this number to maximum number of threads of your computer (cores x 2 if you have hyper threading)\n",
    "\n",
    "**IMPORTANT** The following cell takes 10 minutes to finish in a computer with a Ryzen 5 3600. Remember this before executing it."
   ]
  },
  {
   "cell_type": "code",
   "execution_count": 23,
   "metadata": {
    "ExecuteTime": {
     "end_time": "2020-12-07T13:46:01.093894Z",
     "start_time": "2020-12-07T13:35:40.315818Z"
    }
   },
   "outputs": [],
   "source": [
    "w2v_model = models.Word2Vec([i.split() for i in combined], size = 300, workers=12)"
   ]
  },
  {
   "cell_type": "code",
   "execution_count": 24,
   "metadata": {
    "ExecuteTime": {
     "end_time": "2020-12-07T13:46:01.164895Z",
     "start_time": "2020-12-07T13:46:01.161896Z"
    }
   },
   "outputs": [
    {
     "data": {
      "text/plain": [
       "330933"
      ]
     },
     "execution_count": 24,
     "metadata": {},
     "output_type": "execute_result"
    }
   ],
   "source": [
    "len(w2v_model.wv.vocab) # We check the size of our vocabulary, having more than 300k unique words."
   ]
  },
  {
   "cell_type": "markdown",
   "metadata": {},
   "source": [
    "### Saving\n",
    "\n",
    "After creating our model, we can save it for later use in other applications."
   ]
  },
  {
   "cell_type": "code",
   "execution_count": 25,
   "metadata": {
    "ExecuteTime": {
     "end_time": "2020-12-07T13:46:02.116224Z",
     "start_time": "2020-12-07T13:46:01.230894Z"
    }
   },
   "outputs": [],
   "source": [
    "word_vectors = w2v_model.wv\n",
    "word_vectors.save(\"word2vec.wordvectors\")"
   ]
  },
  {
   "cell_type": "code",
   "execution_count": 26,
   "metadata": {
    "ExecuteTime": {
     "end_time": "2020-12-07T13:46:03.322224Z",
     "start_time": "2020-12-07T13:46:02.172225Z"
    }
   },
   "outputs": [],
   "source": [
    "w2v_model.save(\"word2vec.model\")"
   ]
  },
  {
   "cell_type": "code",
   "execution_count": 27,
   "metadata": {
    "ExecuteTime": {
     "end_time": "2020-12-07T13:46:03.419225Z",
     "start_time": "2020-12-07T13:46:03.379225Z"
    }
   },
   "outputs": [],
   "source": [
    "del w2v_model # We delete the model since we only need the word_vectors"
   ]
  },
  {
   "cell_type": "markdown",
   "metadata": {},
   "source": [
    "### Loading\n",
    "\n",
    "We load our word_vectors."
   ]
  },
  {
   "cell_type": "code",
   "execution_count": 28,
   "metadata": {
    "ExecuteTime": {
     "end_time": "2020-12-07T13:46:05.644227Z",
     "start_time": "2020-12-07T13:46:03.480228Z"
    }
   },
   "outputs": [],
   "source": [
    "from gensim.models import KeyedVectors\n",
    "word_vectors = KeyedVectors.load(\"word2vec.wordvectors\", mmap='r')"
   ]
  },
  {
   "cell_type": "markdown",
   "metadata": {},
   "source": [
    "### Getting embedding"
   ]
  },
  {
   "cell_type": "code",
   "execution_count": 374,
   "metadata": {
    "ExecuteTime": {
     "end_time": "2020-12-07T19:16:10.919777Z",
     "start_time": "2020-12-07T19:16:10.913780Z"
    }
   },
   "outputs": [],
   "source": [
    "def get_embedding_w2v(doc_tokens):\n",
    "    \"\"\"\n",
    "    Basic function to obtain the vector representation of a given document (list of tokens).\n",
    "    \n",
    "    \"\"\"\n",
    "    embeddings = []\n",
    "    if len(doc_tokens) < 1: # If the length of our document is 0 we return a vector of zeros with size 300 (remember this is the vector size used when creating the model)\n",
    "        return np.zeros(300)\n",
    "    else:\n",
    "        for token in doc_tokens:\n",
    "            if token in word_vectors.vocab: # if the word is in our vocabulary, we get its vector\n",
    "                embeddings.append(word_vectors.word_vec(token))\n",
    "            else:\n",
    "                embeddings.append(np.random.rand(300)) # if it´s not in our vocabulary a random vector is used\n",
    "        return np.mean(embeddings, axis = 0) # the vector representation of a document is the mean of its word´s vectors"
   ]
  },
  {
   "cell_type": "markdown",
   "metadata": {},
   "source": [
    "### Queries embeddings\n",
    "\n",
    "We compute the vector representations of our queries."
   ]
  },
  {
   "cell_type": "code",
   "execution_count": 167,
   "metadata": {
    "ExecuteTime": {
     "end_time": "2020-12-07T15:05:22.060128Z",
     "start_time": "2020-12-07T15:05:22.042128Z"
    }
   },
   "outputs": [
    {
     "data": {
      "text/html": [
       "<div>\n",
       "<style scoped>\n",
       "    .dataframe tbody tr th:only-of-type {\n",
       "        vertical-align: middle;\n",
       "    }\n",
       "\n",
       "    .dataframe tbody tr th {\n",
       "        vertical-align: top;\n",
       "    }\n",
       "\n",
       "    .dataframe thead th {\n",
       "        text-align: right;\n",
       "    }\n",
       "</style>\n",
       "<table border=\"1\" class=\"dataframe\">\n",
       "  <thead>\n",
       "    <tr style=\"text-align: right;\">\n",
       "      <th></th>\n",
       "      <th>query</th>\n",
       "      <th>preprocess</th>\n",
       "      <th>embeddings</th>\n",
       "    </tr>\n",
       "  </thead>\n",
       "  <tbody>\n",
       "    <tr>\n",
       "      <th>1</th>\n",
       "      <td>coronavirus origin</td>\n",
       "      <td>coronaviru origin</td>\n",
       "      <td>[0.6936377, -1.4277654, 1.1261437, 0.2954811, ...</td>\n",
       "    </tr>\n",
       "    <tr>\n",
       "      <th>2</th>\n",
       "      <td>coronavirus response to weather changes</td>\n",
       "      <td>coronaviru respons weather chang</td>\n",
       "      <td>[-0.86423963, -0.8131355, 1.1292676, -0.107302...</td>\n",
       "    </tr>\n",
       "    <tr>\n",
       "      <th>3</th>\n",
       "      <td>coronavirus immunity</td>\n",
       "      <td>coronaviru immun</td>\n",
       "      <td>[-0.32478747, -1.966927, 0.8222325, -2.2768764...</td>\n",
       "    </tr>\n",
       "    <tr>\n",
       "      <th>4</th>\n",
       "      <td>how do people die from the coronavirus</td>\n",
       "      <td>peopl die coronaviru</td>\n",
       "      <td>[-0.77733904, -1.3464799, 0.7373312, -0.282142...</td>\n",
       "    </tr>\n",
       "    <tr>\n",
       "      <th>5</th>\n",
       "      <td>animal models of COVID-19</td>\n",
       "      <td>anim model covid</td>\n",
       "      <td>[-1.1818937, 0.5944815, 0.34696257, 0.59667444...</td>\n",
       "    </tr>\n",
       "  </tbody>\n",
       "</table>\n",
       "</div>"
      ],
      "text/plain": [
       "                                     query                        preprocess  \\\n",
       "1                       coronavirus origin                 coronaviru origin   \n",
       "2  coronavirus response to weather changes  coronaviru respons weather chang   \n",
       "3                     coronavirus immunity                  coronaviru immun   \n",
       "4   how do people die from the coronavirus              peopl die coronaviru   \n",
       "5                animal models of COVID-19                  anim model covid   \n",
       "\n",
       "                                          embeddings  \n",
       "1  [0.6936377, -1.4277654, 1.1261437, 0.2954811, ...  \n",
       "2  [-0.86423963, -0.8131355, 1.1292676, -0.107302...  \n",
       "3  [-0.32478747, -1.966927, 0.8222325, -2.2768764...  \n",
       "4  [-0.77733904, -1.3464799, 0.7373312, -0.282142...  \n",
       "5  [-1.1818937, 0.5944815, 0.34696257, 0.59667444...  "
      ]
     },
     "execution_count": 167,
     "metadata": {},
     "output_type": "execute_result"
    }
   ],
   "source": [
    "queries[\"embeddings\"] = queries[\"preprocess\"].apply(lambda x: get_embedding_w2v(x.split()))\n",
    "queries.head()"
   ]
  },
  {
   "cell_type": "markdown",
   "metadata": {},
   "source": [
    "### Documents embeddings"
   ]
  },
  {
   "cell_type": "markdown",
   "metadata": {},
   "source": [
    "In order to reduce the amount of embeddings to be computed, we filter the documents and we only save the ones that have some query performed on it and appear in metadata.\n",
    "Then, we compute the embedding for each document, so as to have it precomputed and then, when computing the similarity, just taking this value."
   ]
  },
  {
   "cell_type": "code",
   "execution_count": 161,
   "metadata": {
    "ExecuteTime": {
     "end_time": "2020-12-07T14:58:10.694250Z",
     "start_time": "2020-12-07T14:58:10.690252Z"
    }
   },
   "outputs": [],
   "source": [
    "titles = titles.reset_index(drop=True)"
   ]
  },
  {
   "cell_type": "code",
   "execution_count": 162,
   "metadata": {
    "ExecuteTime": {
     "end_time": "2020-12-07T14:58:10.965247Z",
     "start_time": "2020-12-07T14:58:10.952249Z"
    }
   },
   "outputs": [
    {
     "data": {
      "text/html": [
       "<div>\n",
       "<style scoped>\n",
       "    .dataframe tbody tr th:only-of-type {\n",
       "        vertical-align: middle;\n",
       "    }\n",
       "\n",
       "    .dataframe tbody tr th {\n",
       "        vertical-align: top;\n",
       "    }\n",
       "\n",
       "    .dataframe thead th {\n",
       "        text-align: right;\n",
       "    }\n",
       "</style>\n",
       "<table border=\"1\" class=\"dataframe\">\n",
       "  <thead>\n",
       "    <tr style=\"text-align: right;\">\n",
       "      <th></th>\n",
       "      <th>id</th>\n",
       "      <th>title</th>\n",
       "      <th>preprocess</th>\n",
       "    </tr>\n",
       "  </thead>\n",
       "  <tbody>\n",
       "    <tr>\n",
       "      <th>0</th>\n",
       "      <td>0001418189999fea7f7cbe3e82703d71c85a6fe5</td>\n",
       "      <td>Absence of surface expression of feline infect...</td>\n",
       "      <td>absenc surfac express felin infecti periton vi...</td>\n",
       "    </tr>\n",
       "    <tr>\n",
       "      <th>1</th>\n",
       "      <td>0003793cf9e709bc2b9d0c8111186f78fb73fc04</td>\n",
       "      <td>Title: Rethinking high-risk groups in COVID-19</td>\n",
       "      <td>titl rethink high risk group covid protect hig...</td>\n",
       "    </tr>\n",
       "    <tr>\n",
       "      <th>2</th>\n",
       "      <td>000379d7a7f37a2ccb978862b9f2016bd03259ea</td>\n",
       "      <td>ScienceDirect ScienceDirect Effect of Nanomate...</td>\n",
       "      <td>sciencedirect sciencedirect effect nanomateri ...</td>\n",
       "    </tr>\n",
       "    <tr>\n",
       "      <th>3</th>\n",
       "      <td>00039b94e6cb7609ecbddee1755314bcfeb77faa</td>\n",
       "      <td>Plasma inflammatory cytokines and chemokines i...</td>\n",
       "      <td>plasma inflammatori cytokin chemokin sever acu...</td>\n",
       "    </tr>\n",
       "    <tr>\n",
       "      <th>4</th>\n",
       "      <td>0003ddc51c4291d742855e9ac56076a3bea33ad7</td>\n",
       "      <td>Journal Pre-proofs The Fire This Time: The Str...</td>\n",
       "      <td>journal pre proof fire time stress racism infl...</td>\n",
       "    </tr>\n",
       "  </tbody>\n",
       "</table>\n",
       "</div>"
      ],
      "text/plain": [
       "                                         id  \\\n",
       "0  0001418189999fea7f7cbe3e82703d71c85a6fe5   \n",
       "1  0003793cf9e709bc2b9d0c8111186f78fb73fc04   \n",
       "2  000379d7a7f37a2ccb978862b9f2016bd03259ea   \n",
       "3  00039b94e6cb7609ecbddee1755314bcfeb77faa   \n",
       "4  0003ddc51c4291d742855e9ac56076a3bea33ad7   \n",
       "\n",
       "                                               title  \\\n",
       "0  Absence of surface expression of feline infect...   \n",
       "1     Title: Rethinking high-risk groups in COVID-19   \n",
       "2  ScienceDirect ScienceDirect Effect of Nanomate...   \n",
       "3  Plasma inflammatory cytokines and chemokines i...   \n",
       "4  Journal Pre-proofs The Fire This Time: The Str...   \n",
       "\n",
       "                                          preprocess  \n",
       "0  absenc surfac express felin infecti periton vi...  \n",
       "1  titl rethink high risk group covid protect hig...  \n",
       "2  sciencedirect sciencedirect effect nanomateri ...  \n",
       "3  plasma inflammatori cytokin chemokin sever acu...  \n",
       "4  journal pre proof fire time stress racism infl...  "
      ]
     },
     "execution_count": 162,
     "metadata": {},
     "output_type": "execute_result"
    }
   ],
   "source": [
    "docs = titles.join(docs)\n",
    "docs.head()"
   ]
  },
  {
   "cell_type": "code",
   "execution_count": 163,
   "metadata": {
    "ExecuteTime": {
     "end_time": "2020-12-07T14:58:20.350236Z",
     "start_time": "2020-12-07T14:58:20.259239Z"
    }
   },
   "outputs": [
    {
     "data": {
      "text/html": [
       "<div>\n",
       "<style scoped>\n",
       "    .dataframe tbody tr th:only-of-type {\n",
       "        vertical-align: middle;\n",
       "    }\n",
       "\n",
       "    .dataframe tbody tr th {\n",
       "        vertical-align: top;\n",
       "    }\n",
       "\n",
       "    .dataframe thead th {\n",
       "        text-align: right;\n",
       "    }\n",
       "</style>\n",
       "<table border=\"1\" class=\"dataframe\">\n",
       "  <thead>\n",
       "    <tr style=\"text-align: right;\">\n",
       "      <th></th>\n",
       "      <th>id</th>\n",
       "      <th>title</th>\n",
       "      <th>preprocess</th>\n",
       "      <th>sha</th>\n",
       "    </tr>\n",
       "  </thead>\n",
       "  <tbody>\n",
       "    <tr>\n",
       "      <th>1</th>\n",
       "      <td>0003793cf9e709bc2b9d0c8111186f78fb73fc04</td>\n",
       "      <td>Title: Rethinking high-risk groups in COVID-19</td>\n",
       "      <td>titl rethink high risk group covid protect hig...</td>\n",
       "      <td>0003793cf9e709bc2b9d0c8111186f78fb73fc04</td>\n",
       "    </tr>\n",
       "    <tr>\n",
       "      <th>3</th>\n",
       "      <td>00039b94e6cb7609ecbddee1755314bcfeb77faa</td>\n",
       "      <td>Plasma inflammatory cytokines and chemokines i...</td>\n",
       "      <td>plasma inflammatori cytokin chemokin sever acu...</td>\n",
       "      <td>00039b94e6cb7609ecbddee1755314bcfeb77faa</td>\n",
       "    </tr>\n",
       "    <tr>\n",
       "      <th>4</th>\n",
       "      <td>0003ddc51c4291d742855e9ac56076a3bea33ad7</td>\n",
       "      <td>Journal Pre-proofs The Fire This Time: The Str...</td>\n",
       "      <td>journal pre proof fire time stress racism infl...</td>\n",
       "      <td>0003ddc51c4291d742855e9ac56076a3bea33ad7</td>\n",
       "    </tr>\n",
       "    <tr>\n",
       "      <th>5</th>\n",
       "      <td>0004456994f6c1d5db7327990386d33c01cff32a</td>\n",
       "      <td></td>\n",
       "      <td>ackground influenza immunis healthcar worker e...</td>\n",
       "      <td>0004456994f6c1d5db7327990386d33c01cff32a</td>\n",
       "    </tr>\n",
       "    <tr>\n",
       "      <th>7</th>\n",
       "      <td>00060fb61742ff60e4e3ba4648c74a34cfe9560d</td>\n",
       "      <td></td>\n",
       "      <td>outbreak novel coronaviru diseas led current g...</td>\n",
       "      <td>00060fb61742ff60e4e3ba4648c74a34cfe9560d</td>\n",
       "    </tr>\n",
       "  </tbody>\n",
       "</table>\n",
       "</div>"
      ],
      "text/plain": [
       "                                         id  \\\n",
       "1  0003793cf9e709bc2b9d0c8111186f78fb73fc04   \n",
       "3  00039b94e6cb7609ecbddee1755314bcfeb77faa   \n",
       "4  0003ddc51c4291d742855e9ac56076a3bea33ad7   \n",
       "5  0004456994f6c1d5db7327990386d33c01cff32a   \n",
       "7  00060fb61742ff60e4e3ba4648c74a34cfe9560d   \n",
       "\n",
       "                                               title  \\\n",
       "1     Title: Rethinking high-risk groups in COVID-19   \n",
       "3  Plasma inflammatory cytokines and chemokines i...   \n",
       "4  Journal Pre-proofs The Fire This Time: The Str...   \n",
       "5                                                      \n",
       "7                                                      \n",
       "\n",
       "                                          preprocess  \\\n",
       "1  titl rethink high risk group covid protect hig...   \n",
       "3  plasma inflammatori cytokin chemokin sever acu...   \n",
       "4  journal pre proof fire time stress racism infl...   \n",
       "5  ackground influenza immunis healthcar worker e...   \n",
       "7  outbreak novel coronaviru diseas led current g...   \n",
       "\n",
       "                                        sha  \n",
       "1  0003793cf9e709bc2b9d0c8111186f78fb73fc04  \n",
       "3  00039b94e6cb7609ecbddee1755314bcfeb77faa  \n",
       "4  0003ddc51c4291d742855e9ac56076a3bea33ad7  \n",
       "5  0004456994f6c1d5db7327990386d33c01cff32a  \n",
       "7  00060fb61742ff60e4e3ba4648c74a34cfe9560d  "
      ]
     },
     "execution_count": 163,
     "metadata": {},
     "output_type": "execute_result"
    }
   ],
   "source": [
    "# With this filter, we only use documents that appear in both judgements and metadata files, i.e, documents that have queries related.\n",
    "docs[\"sha\"] = docs[\"id\"]\n",
    "inCorpus = metadata[metadata[\"sha\"].isin(docs[\"sha\"])][\"cord_uid\"]\n",
    "inJudgements = inCorpus[inCorpus.isin(judgements[\"cord_uid\"])]\n",
    "filtered = metadata.loc[metadata['cord_uid'].isin(inJudgements)][\"sha\"].values\n",
    "docs_filtered = docs.loc[docs[\"id\"].isin(filtered)]\n",
    "docs_filtered.head()"
   ]
  },
  {
   "cell_type": "code",
   "execution_count": 164,
   "metadata": {
    "ExecuteTime": {
     "end_time": "2020-12-07T15:04:25.582803Z",
     "start_time": "2020-12-07T14:58:22.347644Z"
    }
   },
   "outputs": [
    {
     "name": "stderr",
     "output_type": "stream",
     "text": [
      "distributed.utils_perf - WARNING - full garbage collections took 10% CPU time recently (threshold: 10%)\n",
      "distributed.utils_perf - WARNING - full garbage collections took 10% CPU time recently (threshold: 10%)\n",
      "distributed.utils_perf - WARNING - full garbage collections took 10% CPU time recently (threshold: 10%)\n",
      "distributed.utils_perf - WARNING - full garbage collections took 10% CPU time recently (threshold: 10%)\n",
      "distributed.utils_perf - WARNING - full garbage collections took 10% CPU time recently (threshold: 10%)\n",
      "distributed.utils_perf - WARNING - full garbage collections took 10% CPU time recently (threshold: 10%)\n",
      "C:\\Users\\César\\AppData\\Roaming\\Python\\Python37\\site-packages\\ipykernel_launcher.py:1: SettingWithCopyWarning: \n",
      "A value is trying to be set on a copy of a slice from a DataFrame.\n",
      "Try using .loc[row_indexer,col_indexer] = value instead\n",
      "\n",
      "See the caveats in the documentation: https://pandas.pydata.org/pandas-docs/stable/user_guide/indexing.html#returning-a-view-versus-a-copy\n",
      "  \"\"\"Entry point for launching an IPython kernel.\n"
     ]
    }
   ],
   "source": [
    "docs_filtered[\"embeddings\"] = docs_filtered[\"preprocess\"].apply(lambda x: get_embedding_w2v(x.split())) "
   ]
  },
  {
   "cell_type": "code",
   "execution_count": 165,
   "metadata": {
    "ExecuteTime": {
     "end_time": "2020-12-07T15:04:25.751804Z",
     "start_time": "2020-12-07T15:04:25.727806Z"
    }
   },
   "outputs": [
    {
     "data": {
      "text/html": [
       "<div>\n",
       "<style scoped>\n",
       "    .dataframe tbody tr th:only-of-type {\n",
       "        vertical-align: middle;\n",
       "    }\n",
       "\n",
       "    .dataframe tbody tr th {\n",
       "        vertical-align: top;\n",
       "    }\n",
       "\n",
       "    .dataframe thead th {\n",
       "        text-align: right;\n",
       "    }\n",
       "</style>\n",
       "<table border=\"1\" class=\"dataframe\">\n",
       "  <thead>\n",
       "    <tr style=\"text-align: right;\">\n",
       "      <th></th>\n",
       "      <th>id</th>\n",
       "      <th>title</th>\n",
       "      <th>preprocess</th>\n",
       "      <th>sha</th>\n",
       "      <th>embeddings</th>\n",
       "    </tr>\n",
       "  </thead>\n",
       "  <tbody>\n",
       "    <tr>\n",
       "      <th>1</th>\n",
       "      <td>0003793cf9e709bc2b9d0c8111186f78fb73fc04</td>\n",
       "      <td>Title: Rethinking high-risk groups in COVID-19</td>\n",
       "      <td>titl rethink high risk group covid protect hig...</td>\n",
       "      <td>0003793cf9e709bc2b9d0c8111186f78fb73fc04</td>\n",
       "      <td>[-0.3874943224306889, 0.6492041041230219, 0.45...</td>\n",
       "    </tr>\n",
       "    <tr>\n",
       "      <th>3</th>\n",
       "      <td>00039b94e6cb7609ecbddee1755314bcfeb77faa</td>\n",
       "      <td>Plasma inflammatory cytokines and chemokines i...</td>\n",
       "      <td>plasma inflammatori cytokin chemokin sever acu...</td>\n",
       "      <td>00039b94e6cb7609ecbddee1755314bcfeb77faa</td>\n",
       "      <td>[0.0767568238437811, 0.11355776481308553, 0.76...</td>\n",
       "    </tr>\n",
       "    <tr>\n",
       "      <th>4</th>\n",
       "      <td>0003ddc51c4291d742855e9ac56076a3bea33ad7</td>\n",
       "      <td>Journal Pre-proofs The Fire This Time: The Str...</td>\n",
       "      <td>journal pre proof fire time stress racism infl...</td>\n",
       "      <td>0003ddc51c4291d742855e9ac56076a3bea33ad7</td>\n",
       "      <td>[-0.24947986, 0.30289355, 0.23014408, 0.551955...</td>\n",
       "    </tr>\n",
       "    <tr>\n",
       "      <th>5</th>\n",
       "      <td>0004456994f6c1d5db7327990386d33c01cff32a</td>\n",
       "      <td></td>\n",
       "      <td>ackground influenza immunis healthcar worker e...</td>\n",
       "      <td>0004456994f6c1d5db7327990386d33c01cff32a</td>\n",
       "      <td>[-0.5594631888564905, 0.6843157935546761, 0.39...</td>\n",
       "    </tr>\n",
       "    <tr>\n",
       "      <th>7</th>\n",
       "      <td>00060fb61742ff60e4e3ba4648c74a34cfe9560d</td>\n",
       "      <td></td>\n",
       "      <td>outbreak novel coronaviru diseas led current g...</td>\n",
       "      <td>00060fb61742ff60e4e3ba4648c74a34cfe9560d</td>\n",
       "      <td>[-0.21897224, 0.80827194, 0.65192306, 0.826265...</td>\n",
       "    </tr>\n",
       "  </tbody>\n",
       "</table>\n",
       "</div>"
      ],
      "text/plain": [
       "                                         id  \\\n",
       "1  0003793cf9e709bc2b9d0c8111186f78fb73fc04   \n",
       "3  00039b94e6cb7609ecbddee1755314bcfeb77faa   \n",
       "4  0003ddc51c4291d742855e9ac56076a3bea33ad7   \n",
       "5  0004456994f6c1d5db7327990386d33c01cff32a   \n",
       "7  00060fb61742ff60e4e3ba4648c74a34cfe9560d   \n",
       "\n",
       "                                               title  \\\n",
       "1     Title: Rethinking high-risk groups in COVID-19   \n",
       "3  Plasma inflammatory cytokines and chemokines i...   \n",
       "4  Journal Pre-proofs The Fire This Time: The Str...   \n",
       "5                                                      \n",
       "7                                                      \n",
       "\n",
       "                                          preprocess  \\\n",
       "1  titl rethink high risk group covid protect hig...   \n",
       "3  plasma inflammatori cytokin chemokin sever acu...   \n",
       "4  journal pre proof fire time stress racism infl...   \n",
       "5  ackground influenza immunis healthcar worker e...   \n",
       "7  outbreak novel coronaviru diseas led current g...   \n",
       "\n",
       "                                        sha  \\\n",
       "1  0003793cf9e709bc2b9d0c8111186f78fb73fc04   \n",
       "3  00039b94e6cb7609ecbddee1755314bcfeb77faa   \n",
       "4  0003ddc51c4291d742855e9ac56076a3bea33ad7   \n",
       "5  0004456994f6c1d5db7327990386d33c01cff32a   \n",
       "7  00060fb61742ff60e4e3ba4648c74a34cfe9560d   \n",
       "\n",
       "                                          embeddings  \n",
       "1  [-0.3874943224306889, 0.6492041041230219, 0.45...  \n",
       "3  [0.0767568238437811, 0.11355776481308553, 0.76...  \n",
       "4  [-0.24947986, 0.30289355, 0.23014408, 0.551955...  \n",
       "5  [-0.5594631888564905, 0.6843157935546761, 0.39...  \n",
       "7  [-0.21897224, 0.80827194, 0.65192306, 0.826265...  "
      ]
     },
     "execution_count": 165,
     "metadata": {},
     "output_type": "execute_result"
    }
   ],
   "source": [
    "docs_filtered.head()"
   ]
  },
  {
   "cell_type": "markdown",
   "metadata": {},
   "source": [
    "### Launch query in W2V Model\n",
    "\n",
    "As before with the TFIDF model, we create two functions to launch queries with our W2V model.\n",
    "\n",
    "We will show you the results for query 2."
   ]
  },
  {
   "cell_type": "code",
   "execution_count": 377,
   "metadata": {
    "ExecuteTime": {
     "end_time": "2020-12-07T19:23:38.656548Z",
     "start_time": "2020-12-07T19:23:38.650546Z"
    }
   },
   "outputs": [],
   "source": [
    "from sklearn.metrics.pairwise import cosine_similarity\n",
    "i = 2\n",
    "\n",
    "def launch_query_w2v(query_name, queries, docs_filtered, verbose=0):\n",
    "    \"\"\"\n",
    "    General function that allow us to launch queries to our W2V model.\n",
    "    \n",
    "    Parameter:\n",
    "    query_name: the name of the query\n",
    "    queries: dataframe of the queries\n",
    "    docs_filtered: dataframe of filtered documents with their vector representation (the one explained before)\n",
    "    \n",
    "    Returns:\n",
    "    \n",
    "    It returns the ranking.\n",
    "    \n",
    "    \"\"\"\n",
    "    query_name = query_name\n",
    "    # We obtain the vector of the query\n",
    "    query_vector = queries[queries[\"query\"] == query_name][\"embeddings\"].values[0]\n",
    "    docs_aux = docs_filtered.copy()\n",
    "    # We compute the cosine similarity of the query´s vector with the documents vectors\n",
    "    docs_aux[\"score\"] = docs_aux[\"embeddings\"].apply(\n",
    "        lambda x: cosine_similarity(np.array(query_vector).reshape(1,-1), np.array(x).reshape(1,-1)).item())\n",
    "    # We order the docs by this similarity\n",
    "    docs_aux = docs_aux.sort_values(by=\"score\", ascending=False)\n",
    "    doc_pos = docs_aux.index.values\n",
    "    rel_score = docs_aux[\"score\"].values\n",
    "    ranking = [z for z in zip(doc_pos, rel_score)]\n",
    "    if verbose:\n",
    "        print(\"Query ==> \"+query_name)\n",
    "        for i in range(5):\n",
    "            score = docs_aux.iloc[i][\"score\"]\n",
    "            title = docs_aux.iloc[i][\"title\"] if docs_aux.iloc[i][\"title\"]!=\"\" else \"No title available\"\n",
    "            print(f\"[Score = {score}] \"+ title)\n",
    "    return ranking, \"Just to work\"\n",
    "\n",
    "def launch_w2v(function, queries, docs_filtered):\n",
    "    \"\"\"\n",
    "    Again, function that allow us to reuse our code for evaluation.\n",
    "    \"\"\"\n",
    "    def h(query_name):\n",
    "        return function(query_name, queries, docs_filtered)\n",
    "    return h"
   ]
  },
  {
   "cell_type": "markdown",
   "metadata": {},
   "source": [
    "Execution of query 2 with its results. Notice that now the scores are higher."
   ]
  },
  {
   "cell_type": "code",
   "execution_count": 378,
   "metadata": {
    "ExecuteTime": {
     "end_time": "2020-12-07T19:24:23.831214Z",
     "start_time": "2020-12-07T19:24:19.415290Z"
    }
   },
   "outputs": [
    {
     "name": "stdout",
     "output_type": "stream",
     "text": [
      "Query ==> coronavirus response to weather changes\n",
      "[Score = 0.6434992907116562] Journal Pre-proof The most eagerly awaited summer of the Anthropocene: A perspective of SARS- CoV-2 decay and seasonal change\n",
      "[Score = 0.6245911001036666] Frontiers in climate change-disease research\n",
      "[Score = 0.6219535641840772] Climate Change and Health in Canada\n",
      "[Score = 0.6190472747881688] Impact of global warming on viral diseases: what is the evidence? This review comes from a themed issue on Pharmaceutical biotechnology Edited\n",
      "[Score = 0.617374445763927] Authors (name, titles, and affiliations-no degrees)\n"
     ]
    }
   ],
   "source": [
    "ranking, _ = launch_query_w2v(queries.iloc[1][0], queries, docs_filtered, verbose=1)"
   ]
  },
  {
   "cell_type": "markdown",
   "metadata": {},
   "source": [
    "# Results\n",
    "\n",
    "So, after explaining how we implemented both models, it´s turn to evaluate them.\n",
    "\n",
    "We will consider the metrics explained before: precision, recall, mean average precision, P@5, P@10 and R-Precision.\n",
    "\n",
    "The following cell performs all the evaluation:\n",
    "* We print the P@5, P@10 and MAVP of each single document.\n",
    "* We plot a graph comparing the precision and recall of all the models tested.\n",
    "* We plot a graph comparing the difference of the R-precision of the best two models for each single query. If the values are positive mean that R-precision of model A was greater than model´s B R-Precision. Negative values mean that that R-precision of model B was greater than model´s A R-Precision\n",
    "\n",
    "The evaluation procedure was created following the indications in (Baeza and Ribeiro, 2011)."
   ]
  },
  {
   "cell_type": "code",
   "execution_count": 73,
   "metadata": {
    "ExecuteTime": {
     "end_time": "2020-12-12T00:46:17.407349Z",
     "start_time": "2020-12-12T00:46:17.382352Z"
    }
   },
   "outputs": [
    {
     "ename": "NameError",
     "evalue": "name 'model_tfidf_2' is not defined",
     "output_type": "error",
     "traceback": [
      "\u001b[1;31m---------------------------------------------------------------------------\u001b[0m",
      "\u001b[1;31mNameError\u001b[0m                                 Traceback (most recent call last)",
      "\u001b[1;32m<ipython-input-73-0539b0d7a076>\u001b[0m in \u001b[0;36m<module>\u001b[1;34m\u001b[0m\n\u001b[0;32m      2\u001b[0m modelos_tfidf = [{\"name\":\"TFIDF (nfc)\", \"term\": \"raw\", \"document\": \"idf\", \"normalization\": \"cosine\", \"model\": model_tfidf, \"color\": \"r\"},\n\u001b[0;32m      3\u001b[0m           {\"name\":\"TFIDF (lfc)\", \"term\": \"logarithmic\", \"document\": \"idf\", \"normalization\": \"cosine\", \n\u001b[1;32m----> 4\u001b[1;33m            \"model\": model_tfidf_2, \"color\": \"g\"},\n\u001b[0m\u001b[0;32m      5\u001b[0m            {\"name\":\"TFIDF (lpu)\", \"term\": \"logarithmic\", \"document\": \"probabilistic\", \"normalization\": \"pivoted unique\", \n\u001b[0;32m      6\u001b[0m            \"model\": model_tfidf_3, \"color\": \"b\"},\n",
      "\u001b[1;31mNameError\u001b[0m: name 'model_tfidf_2' is not defined"
     ]
    }
   ],
   "source": [
    "recall = np.arange(0,1.1, 0.1)\n",
    "modelos_tfidf = [{\"name\":\"TFIDF (nfc)\", \"term\": \"raw\", \"document\": \"idf\", \"normalization\": \"cosine\", \"model\": model_tfidf, \"color\": \"r\"},\n",
    "          {\"name\":\"TFIDF (lfc)\", \"term\": \"logarithmic\", \"document\": \"idf\", \"normalization\": \"cosine\", \n",
    "           \"model\": model_tfidf_2, \"color\": \"g\"},\n",
    "           {\"name\":\"TFIDF (lpu)\", \"term\": \"logarithmic\", \"document\": \"probabilistic\", \"normalization\": \"pivoted unique\", \n",
    "           \"model\": model_tfidf_3, \"color\": \"b\"},\n",
    "           {\"name\":\"TFIDF (nnn)\", \"term\": \"raw\", \"document\": \"none\", \"normalization\": \"none\", \n",
    "           \"model\": model_tfidf_4, \"color\": \"c\"},\n",
    "           {\"name\":\"TFIDF (ltc)\", \"term\": \"logarithmic\", \"document\": \"zero-corrected idf\", \"normalization\": \"cosine\", \n",
    "           \"model\": model_tfidf_5, \"color\": \"m\"}\n",
    "         ]\n",
    "\n",
    "modelos_w2v = [{\"name\": \"Word2Vec\", \"algorithm\": \"Continuous Bag of Words\", \"vector\": 300, \n",
    "                \"window\": \"5 (default)\", \"negative\": \"5 (default)\", \"epochs\": \"5 (default)\", \"color\":\"y\"}\n",
    "              ]\n",
    "\n",
    "modelos_lsi = [{\"name\": \"Latent Semantic Index\", \"vector\": 300, \"version\": \"tfidf\", \"color\":\"k\", \"model\": lsi}\n",
    "              ]\n",
    "r_precisions = []\n",
    "precisions_5 = []\n",
    "precisions_10 = []\n",
    "\n",
    "print(\"###################################################################################\")\n",
    "print(\"Evaluating performance of our models...\")\n",
    "plt.figure(figsize=(6,6))\n",
    "plt.title(\"Precision vs Recall standardized\")\n",
    "plt.axis([0, 1, 0, 1])\n",
    "plt.xlabel(\"Recall\")\n",
    "plt.ylabel(\"Precision\")\n",
    "\n",
    "for model in modelos_tfidf:\n",
    "    name = model[\"name\"]\n",
    "    term = model[\"term\"]\n",
    "    document = model[\"document\"]\n",
    "    normalization = model[\"normalization\"]\n",
    "    color = model[\"color\"]\n",
    "    print(\"-------------------------------------------------------------------------------------\")\n",
    "    print(f\"Evaluating {name}: {term} term frequency weighing, {document} document frequency weighting, {normalization} normalization\")\n",
    "    print(\"Computing statistics...\")\n",
    "    data_tfidf = get_statistics(launch(launch_query_tfidf,model[\"model\"], dictionary, bow, similarities, titles.copy()), queries.copy(), titles.copy(), metadata.copy(), judgements.copy())\n",
    "    print(\"Statistics computed...\")\n",
    "    precision_tfidf = data_tfidf[\"precision\"]\n",
    "    recall = data_tfidf[\"recall\"]\n",
    "    mavp_tfidf = data_tfidf[\"mavp\"]\n",
    "    precisions_5.append(np.array(data_tfidf[\"p_5\"]).mean())\n",
    "    precisions_10.append(np.array(data_tfidf[\"p_10\"]).mean())\n",
    "    r_precisions.append(data_tfidf[\"r-precision\"])\n",
    "    print(f\"Mean Average Precision of this model ==> {mavp_tfidf}\")\n",
    "    p_5 = np.array(data_tfidf[\"p_5\"]).mean()\n",
    "    p_10 = np.array(data_tfidf[\"p_10\"]).mean()\n",
    "    print(f\"Mean P@5 of this model ==> {p_5}\")\n",
    "    print(f\"Mean P@10 of this model ==> {p_10}\")\n",
    "\n",
    "    plt.plot(recall, precision_tfidf, f\"{color}-o\", label=name)\n",
    "\n",
    "for model in modelos_w2v:\n",
    "    name = model[\"name\"]\n",
    "    vector = model[\"vector\"]\n",
    "    window = model[\"window\"]\n",
    "    negative = model[\"negative\"]\n",
    "    algorithm = model[\"algorithm\"]\n",
    "    epochs = model[\"epochs\"]\n",
    "    color = model[\"color\"]\n",
    "    print(\"-------------------------------------------------------------------------------------\")\n",
    "    print(f\"Evaluating {name}: \\n\\tTraining algorithm = {algorithm}\\n\\tVector size = {vector}\\n\\tDistance predicted and current word = {window}\\n\\tNegative sampling = {negative}\\n\\tEpochs = {epochs}\")\n",
    "    print(\"Computing statistics...\")\n",
    "    data_w2v = get_statistics(launch(launch_query_lsi, queries.copy(), docs_filtered.copy()), queries.copy(), titles.copy(), metadata.copy(), judgements.copy())\n",
    "    print(\"Statistics computed...\")\n",
    "    precision_w2v = data_w2v[\"precision\"]\n",
    "    recall = data_w2v[\"recall\"]\n",
    "    mavp_w2v = data_w2v[\"mavp\"]\n",
    "    r_precisions.append(data_w2v[\"r-precision\"])\n",
    "    precisions_5.append(np.array(data_w2v[\"p_5\"]).mean())\n",
    "    precisions_10.append(np.array(data_w2v[\"p_10\"]).mean())\n",
    "    print(f\"Mean Average Precision of this model ==> {mavp_w2v}\")\n",
    "    p_5 = np.array(data_w2v[\"p_5\"]).mean()\n",
    "    p_10 = np.array(data_w2v[\"p_10\"]).mean()\n",
    "    print(f\"Mean P@5 of this model ==> {p_5}\")\n",
    "    print(f\"Mean P@10 of this model ==> {p_10}\")\n",
    "\n",
    "    plt.plot(recall, precision_w2v, f\"{color}-o\", label=name)\n",
    "    \n",
    "for model in modelos_lsi:\n",
    "    name = model[\"name\"]\n",
    "    vector = model[\"vector\"]\n",
    "    version = model[\"version\"]\n",
    "    color = model[\"color\"]\n",
    "    print(\"-------------------------------------------------------------------------------------\")\n",
    "    print(f\"Evaluating {name}: \\n\\tVector size = {vector}\\n\\tCorpus version = {version}\")\n",
    "    print(\"Computing statistics...\")\n",
    "    data_w2v = get_statistics(launch(launch_query_lsi,model[\"model\"], dictionary, model_tfidf[bow], index_lsi, titles.copy()), queries.copy(), titles.copy(), metadata.copy(), judgements.copy())\n",
    "    print(\"Statistics computed...\")\n",
    "    precision_w2v = data_w2v[\"precision\"]\n",
    "    recall = data_w2v[\"recall\"]\n",
    "    mavp_w2v = data_w2v[\"mavp\"]\n",
    "    r_precisions.append(data_w2v[\"r-precision\"])\n",
    "    precisions_5.append(np.array(data_w2v[\"p_5\"]).mean())\n",
    "    precisions_10.append(np.array(data_w2v[\"p_10\"]).mean())\n",
    "    print(f\"Mean Average Precision of this model ==> {mavp_w2v}\")\n",
    "    p_5 = np.array(data_w2v[\"p_5\"]).mean()\n",
    "    p_10 = np.array(data_w2v[\"p_10\"]).mean()\n",
    "    print(f\"Mean P@5 of this model ==> {p_5}\")\n",
    "    print(f\"Mean P@10 of this model ==> {p_10}\")\n",
    "\n",
    "    plt.plot(recall, precision_w2v, f\"{color}-o\", label=name)\n",
    "\n",
    "plt.legend()\n",
    "plt.show()\n",
    "print(\"-------------------------------------------------------------------------------------\")\n",
    "print(\"Comparing our models: W2V vs TFIDF (lpu)\")\n",
    "r_precision = np.array(r_precisions[5]) - np.array(r_precisions[2])\n",
    "# the histogram of the data\n",
    "plt.figure(figsize=(10,6))\n",
    "plt.bar(np.arange(1,51,1),r_precision)\n",
    "plt.xlabel('Query number')\n",
    "plt.ylabel('R-Precision W2V/TFIDF (lpu)')\n",
    "plt.title('Comparison of R-Precisions')\n",
    "plt.grid(True)\n",
    "plt.show()\n",
    "print(\"-------------------------------------------------------------------------------------\")\n",
    "print(\"Evalution finished.\")\n",
    "print(\"###################################################################################\")"
   ]
  },
  {
   "cell_type": "markdown",
   "metadata": {},
   "source": [
    "# Conclusions\n",
    "\n"
   ]
  },
  {
   "cell_type": "code",
   "execution_count": null,
   "metadata": {},
   "outputs": [],
   "source": []
  }
 ],
 "metadata": {
  "kernelspec": {
   "display_name": "Python 3",
   "language": "python",
   "name": "python3"
  },
  "language_info": {
   "codemirror_mode": {
    "name": "ipython",
    "version": 3
   },
   "file_extension": ".py",
   "mimetype": "text/x-python",
   "name": "python",
   "nbconvert_exporter": "python",
   "pygments_lexer": "ipython3",
   "version": "3.7.6"
  },
  "latex_envs": {
   "LaTeX_envs_menu_present": true,
   "autoclose": true,
   "autocomplete": true,
   "bibliofile": "biblio.bib",
   "cite_by": "apalike",
   "current_citInitial": 1,
   "eqLabelWithNumbers": true,
   "eqNumInitial": 1,
   "hotkeys": {
    "equation": "Ctrl-E",
    "itemize": "Ctrl-I"
   },
   "labels_anchors": false,
   "latex_user_defs": false,
   "report_style_numbering": false,
   "user_envs_cfg": false
  },
  "varInspector": {
   "cols": {
    "lenName": 16,
    "lenType": 16,
    "lenVar": 40
   },
   "kernels_config": {
    "python": {
     "delete_cmd_postfix": "",
     "delete_cmd_prefix": "del ",
     "library": "var_list.py",
     "varRefreshCmd": "print(var_dic_list())"
    },
    "r": {
     "delete_cmd_postfix": ") ",
     "delete_cmd_prefix": "rm(",
     "library": "var_list.r",
     "varRefreshCmd": "cat(var_dic_list()) "
    }
   },
   "types_to_exclude": [
    "module",
    "function",
    "builtin_function_or_method",
    "instance",
    "_Feature"
   ],
   "window_display": false
  }
 },
 "nbformat": 4,
 "nbformat_minor": 4
}
