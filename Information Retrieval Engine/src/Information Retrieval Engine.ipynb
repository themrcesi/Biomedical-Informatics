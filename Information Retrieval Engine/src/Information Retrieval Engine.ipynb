{
 "cells": [
  {
   "cell_type": "markdown",
   "metadata": {},
   "source": [
    "# Information Retrieval Engine"
   ]
  },
  {
   "cell_type": "code",
   "execution_count": 1,
   "metadata": {
    "ExecuteTime": {
     "end_time": "2020-11-26T15:42:57.891885Z",
     "start_time": "2020-11-26T15:42:57.067889Z"
    }
   },
   "outputs": [],
   "source": [
    "import json\n",
    "import xmltodict as xtd\n",
    "import numpy as np\n",
    "import os\n",
    "from nltk.corpus import stopwords\n",
    "from nltk.tokenize import wordpunct_tokenize\n",
    "from nltk.stem import PorterStemmer\n",
    "from joblib import Parallel, delayed\n",
    "from gensim import corpora\n",
    "from gensim import models\n",
    "import pandas as pd\n",
    "from gensim import similarities\n",
    "from operator import itemgetter"
   ]
  },
  {
   "cell_type": "markdown",
   "metadata": {},
   "source": [
    "## Funciones de carga"
   ]
  },
  {
   "cell_type": "code",
   "execution_count": 2,
   "metadata": {
    "ExecuteTime": {
     "end_time": "2020-11-26T15:42:57.900887Z",
     "start_time": "2020-11-26T15:42:57.898886Z"
    }
   },
   "outputs": [],
   "source": [
    "path_queries = r\"B:\\document_parser\\document_parses\\topics-rnd5.xml\"\n",
    "path_texts = \"B:\\document_parser\\document_parses\\pdf_json\"\n",
    "path_test = \"B:/document_parser/document_parses/test\"\n",
    "path_judgements = \"B:/document_parser/document_parses/judgements.csv\""
   ]
  },
  {
   "cell_type": "markdown",
   "metadata": {},
   "source": [
    "### Judgements"
   ]
  },
  {
   "cell_type": "markdown",
   "metadata": {},
   "source": [
    "Lo primero de todo, cargamos el archivo de los judgements. Este archivo contiene 4 columnas pero solo nos interesan la columna del id de la query, id del documento y relevancia. \n",
    "Esta relevancia aparece con valores discretos 0, 1 y 2 por lo que tenemos que binarizarla. "
   ]
  },
  {
   "cell_type": "code",
   "execution_count": 3,
   "metadata": {
    "ExecuteTime": {
     "end_time": "2020-11-26T15:42:58.619999Z",
     "start_time": "2020-11-26T15:42:58.615999Z"
    }
   },
   "outputs": [],
   "source": [
    "def load_judgements(path_judgements):\n",
    "    judgements = pd.read_csv(path_judgements, delimiter=' ', names = [\"query\", \"document\", \"score\"], usecols=[0,2,3])\n",
    "    judgements.loc[judgements['score'] < 1, 'binary_score'] = 0\n",
    "    judgements.loc[judgements['score'] >=1 , 'binary_score'] = 1\n",
    "    return judgements"
   ]
  },
  {
   "cell_type": "code",
   "execution_count": 4,
   "metadata": {
    "ExecuteTime": {
     "end_time": "2020-11-26T15:42:59.202373Z",
     "start_time": "2020-11-26T15:42:59.152156Z"
    }
   },
   "outputs": [],
   "source": [
    "judgements = load_judgements(path_judgements)"
   ]
  },
  {
   "cell_type": "markdown",
   "metadata": {},
   "source": [
    "### Queries"
   ]
  },
  {
   "cell_type": "markdown",
   "metadata": {},
   "source": [
    "Después cargamos el archivo de las queries,"
   ]
  },
  {
   "cell_type": "code",
   "execution_count": 5,
   "metadata": {
    "ExecuteTime": {
     "end_time": "2020-11-26T15:43:00.628776Z",
     "start_time": "2020-11-26T15:43:00.623781Z"
    }
   },
   "outputs": [],
   "source": [
    "def load_queries(queries_path):\n",
    "    \"\"\"\n",
    "    Receives the path of the queries files and returns a dictionary containing all the queries.\n",
    "\n",
    "    Parameters\n",
    "    ----------\n",
    "    queries_path : path of the queries file\n",
    "\n",
    "    Returns\n",
    "    -------\n",
    "    dic_judgements : dictionary\n",
    "\n",
    "    \"\"\"\n",
    "    with open(queries_path, \"r\") as xml_file:\n",
    "        data_dict = xtd.parse(xml_file.read())\n",
    "    xml_file.close()\n",
    "\n",
    "    dic_queries = {}\n",
    "    for query in data_dict[\"topics\"][\"topic\"]:\n",
    "        dic_queries[query[\"@number\"]] = query[\"query\"]\n",
    "\n",
    "    df = pd.DataFrame.from_dict(dic_queries, orient='index', columns=['query'])\n",
    "\n",
    "    return df"
   ]
  },
  {
   "cell_type": "code",
   "execution_count": 6,
   "metadata": {
    "ExecuteTime": {
     "end_time": "2020-11-26T15:43:01.188913Z",
     "start_time": "2020-11-26T15:43:01.160754Z"
    }
   },
   "outputs": [
    {
     "data": {
      "text/html": [
       "<div>\n",
       "<style scoped>\n",
       "    .dataframe tbody tr th:only-of-type {\n",
       "        vertical-align: middle;\n",
       "    }\n",
       "\n",
       "    .dataframe tbody tr th {\n",
       "        vertical-align: top;\n",
       "    }\n",
       "\n",
       "    .dataframe thead th {\n",
       "        text-align: right;\n",
       "    }\n",
       "</style>\n",
       "<table border=\"1\" class=\"dataframe\">\n",
       "  <thead>\n",
       "    <tr style=\"text-align: right;\">\n",
       "      <th></th>\n",
       "      <th>query</th>\n",
       "    </tr>\n",
       "  </thead>\n",
       "  <tbody>\n",
       "    <tr>\n",
       "      <th>1</th>\n",
       "      <td>coronavirus origin</td>\n",
       "    </tr>\n",
       "    <tr>\n",
       "      <th>2</th>\n",
       "      <td>coronavirus response to weather changes</td>\n",
       "    </tr>\n",
       "    <tr>\n",
       "      <th>3</th>\n",
       "      <td>coronavirus immunity</td>\n",
       "    </tr>\n",
       "    <tr>\n",
       "      <th>4</th>\n",
       "      <td>how do people die from the coronavirus</td>\n",
       "    </tr>\n",
       "    <tr>\n",
       "      <th>5</th>\n",
       "      <td>animal models of COVID-19</td>\n",
       "    </tr>\n",
       "  </tbody>\n",
       "</table>\n",
       "</div>"
      ],
      "text/plain": [
       "                                     query\n",
       "1                       coronavirus origin\n",
       "2  coronavirus response to weather changes\n",
       "3                     coronavirus immunity\n",
       "4   how do people die from the coronavirus\n",
       "5                animal models of COVID-19"
      ]
     },
     "execution_count": 6,
     "metadata": {},
     "output_type": "execute_result"
    }
   ],
   "source": [
    "queries = load_queries(path_queries)\n",
    "queries.head()"
   ]
  },
  {
   "cell_type": "markdown",
   "metadata": {},
   "source": [
    "### Diccionario"
   ]
  },
  {
   "cell_type": "markdown",
   "metadata": {
    "ExecuteTime": {
     "end_time": "2020-10-25T22:17:10.670377Z",
     "start_time": "2020-10-25T22:17:10.666376Z"
    }
   },
   "source": [
    "Ahora creamos el diccionario con todas las palabras de los documentos."
   ]
  },
  {
   "cell_type": "code",
   "execution_count": 7,
   "metadata": {
    "ExecuteTime": {
     "end_time": "2020-11-26T15:43:05.501846Z",
     "start_time": "2020-11-26T15:43:05.496853Z"
    }
   },
   "outputs": [],
   "source": [
    "def load_corpus_single(path_corpus):\n",
    "    directory = os.fsencode(path_corpus)\n",
    "    stopset = set(stopwords.words(\"english\"))\n",
    "    dic = corpora.Dictionary()\n",
    "    titles_dic = {}\n",
    "    counter = 1        \n",
    "    for file in os.listdir(directory):\n",
    "        print(counter)\n",
    "        counter+=1\n",
    "        filename = os.fsdecode(file)\n",
    "        with open(\"\\\\\".join([path_corpus, filename])) as file:\n",
    "            file_json = json.load(file)\n",
    "        pre_doc = preprocess_document(file_json, stopset)\n",
    "        titles_dic[file_json[\"paper_id\"]] = pre_doc[\"title\"]\n",
    "        dic.add_documents([pre_doc[\"stems\"]])\n",
    "        \n",
    "    df_titles = pd.DataFrame.from_dict(titles_dic, orient = 'index', columns=['title'])\n",
    "        \n",
    "    return df_titles, dic"
   ]
  },
  {
   "cell_type": "code",
   "execution_count": 8,
   "metadata": {
    "ExecuteTime": {
     "end_time": "2020-11-26T15:43:06.149187Z",
     "start_time": "2020-11-26T15:43:06.144194Z"
    }
   },
   "outputs": [],
   "source": [
    "def preprocess_document(doc, stopset):\n",
    "    \"\"\"\n",
    "    Receives a single document and return a dictionary containing the title and a list of all the stems.\n",
    "\n",
    "    Parameters\n",
    "    ----------\n",
    "    doc : a single document in json.\n",
    "    stopset : stopset for english\n",
    "\n",
    "    Returns\n",
    "    -------\n",
    "    dict : dictionary having title and stems\n",
    "\n",
    "    \"\"\"\n",
    "    title = np.array([doc[\"metadata\"][\"title\"]], dtype=str)\n",
    "    abstract = np.array([paragraph[\"text\"] for paragraph in doc[\"abstract\"]], dtype=str)\n",
    "    text = np.array([paragraph[\"text\"] for paragraph in doc[\"body_text\"]], dtype=str)\n",
    "    stemmer = PorterStemmer()\n",
    "    information = np.concatenate((title, abstract, text))\n",
    "    tokens = np.concatenate(([wordpunct_tokenize(inf) for inf in information]))\n",
    "    clean = [token.lower() for token in tokens if token.lower() not in stopset and len(token) > 2 and not token.isnumeric()]\n",
    "    final = [stemmer.stem(word) for word in clean]\n",
    "    return {\"title\": title[0], \"stems\": final}"
   ]
  },
  {
   "cell_type": "code",
   "execution_count": 9,
   "metadata": {
    "ExecuteTime": {
     "end_time": "2020-11-25T16:38:24.791714Z",
     "start_time": "2020-11-25T16:37:54.469712Z"
    }
   },
   "outputs": [],
   "source": [
    "titles, dictionary = load_corpus_single(path_test)"
   ]
  },
  {
   "cell_type": "code",
   "execution_count": 10,
   "metadata": {
    "ExecuteTime": {
     "end_time": "2020-11-25T16:38:24.810711Z",
     "start_time": "2020-11-25T16:38:24.804714Z"
    }
   },
   "outputs": [
    {
     "data": {
      "text/html": [
       "<div>\n",
       "<style scoped>\n",
       "    .dataframe tbody tr th:only-of-type {\n",
       "        vertical-align: middle;\n",
       "    }\n",
       "\n",
       "    .dataframe tbody tr th {\n",
       "        vertical-align: top;\n",
       "    }\n",
       "\n",
       "    .dataframe thead th {\n",
       "        text-align: right;\n",
       "    }\n",
       "</style>\n",
       "<table border=\"1\" class=\"dataframe\">\n",
       "  <thead>\n",
       "    <tr style=\"text-align: right;\">\n",
       "      <th></th>\n",
       "      <th>title</th>\n",
       "    </tr>\n",
       "  </thead>\n",
       "  <tbody>\n",
       "    <tr>\n",
       "      <th>000a0fc8bbef80410199e690191dc3076a290117</th>\n",
       "      <td>PfSWIB, a potential chromatin regulator for va...</td>\n",
       "    </tr>\n",
       "    <tr>\n",
       "      <th>000affa746a03f1fe4e3b3ef1a62fdfa9b9ac52a</th>\n",
       "      <td>Correlation between antimicrobial consumption ...</td>\n",
       "    </tr>\n",
       "    <tr>\n",
       "      <th>000b0174f992cb326a891f756d4ae5531f2845f7</th>\n",
       "      <td>Full Title: A systematic review of MERS-CoV (M...</td>\n",
       "    </tr>\n",
       "    <tr>\n",
       "      <th>000b7d1517ceebb34e1e3e817695b6de03e2fa78</th>\n",
       "      <td>Supplementary Information An eco-epidemiologic...</td>\n",
       "    </tr>\n",
       "    <tr>\n",
       "      <th>000bc3d4637530496ac4cb798e10d95709eff92d</th>\n",
       "      <td>FDA Perspectives on Diagnostic Device Clinical...</td>\n",
       "    </tr>\n",
       "  </tbody>\n",
       "</table>\n",
       "</div>"
      ],
      "text/plain": [
       "                                                                                      title\n",
       "000a0fc8bbef80410199e690191dc3076a290117  PfSWIB, a potential chromatin regulator for va...\n",
       "000affa746a03f1fe4e3b3ef1a62fdfa9b9ac52a  Correlation between antimicrobial consumption ...\n",
       "000b0174f992cb326a891f756d4ae5531f2845f7  Full Title: A systematic review of MERS-CoV (M...\n",
       "000b7d1517ceebb34e1e3e817695b6de03e2fa78  Supplementary Information An eco-epidemiologic...\n",
       "000bc3d4637530496ac4cb798e10d95709eff92d  FDA Perspectives on Diagnostic Device Clinical..."
      ]
     },
     "execution_count": 10,
     "metadata": {},
     "output_type": "execute_result"
    }
   ],
   "source": [
    "titles.head()"
   ]
  },
  {
   "cell_type": "code",
   "execution_count": 45,
   "metadata": {
    "ExecuteTime": {
     "end_time": "2020-11-25T18:28:17.422425Z",
     "start_time": "2020-11-25T18:28:17.397427Z"
    }
   },
   "outputs": [],
   "source": [
    "dictionary.save(\"vsm.dict\")"
   ]
  },
  {
   "cell_type": "markdown",
   "metadata": {},
   "source": [
    "### Bolsa de palabras"
   ]
  },
  {
   "cell_type": "markdown",
   "metadata": {
    "ExecuteTime": {
     "end_time": "2020-10-25T22:27:55.825654Z",
     "start_time": "2020-10-25T22:27:55.823653Z"
    }
   },
   "source": [
    "Creamos la bolsa de palabras."
   ]
  },
  {
   "cell_type": "code",
   "execution_count": 46,
   "metadata": {
    "ExecuteTime": {
     "end_time": "2020-11-25T18:28:39.723231Z",
     "start_time": "2020-11-25T18:28:39.719235Z"
    }
   },
   "outputs": [],
   "source": [
    "def doc2bows_single(path_corpus, dictionary):\n",
    "    directory = os.fsencode(path_corpus)\n",
    "    stopset = set(stopwords.words(\"english\"))\n",
    "    vectors = []\n",
    "    for file in os.listdir(directory):\n",
    "        filename = os.fsdecode(file)\n",
    "        with open(\"\\\\\".join([path_corpus, filename])) as file:\n",
    "            file_json = json.load(file)\n",
    "        pre_doc = preprocess_document(file_json, stopset)\n",
    "        vectors.append(dictionary.doc2bow(pre_doc[\"stems\"]))\n",
    "        \n",
    "    corpora.MmCorpus.serialize(\"corpus_bow.mm\", vectors)\n",
    "    return vectors"
   ]
  },
  {
   "cell_type": "code",
   "execution_count": 15,
   "metadata": {
    "ExecuteTime": {
     "end_time": "2020-11-25T17:19:01.193687Z",
     "start_time": "2020-11-25T17:18:33.996409Z"
    }
   },
   "outputs": [],
   "source": [
    "bow = doc2bows_single(path_test, dictionary)"
   ]
  },
  {
   "cell_type": "markdown",
   "metadata": {},
   "source": [
    "## Modelo"
   ]
  },
  {
   "cell_type": "code",
   "execution_count": 16,
   "metadata": {
    "ExecuteTime": {
     "end_time": "2020-11-25T17:19:01.339686Z",
     "start_time": "2020-11-25T17:19:01.336688Z"
    }
   },
   "outputs": [],
   "source": [
    "def create_TF_IDF_model(bow):\n",
    "    tfidf = models.TfidfModel(bow)\n",
    "    return tfidf"
   ]
  },
  {
   "cell_type": "code",
   "execution_count": 17,
   "metadata": {
    "ExecuteTime": {
     "end_time": "2020-11-25T17:19:01.648685Z",
     "start_time": "2020-11-25T17:19:01.474686Z"
    }
   },
   "outputs": [],
   "source": [
    "tfidf = create_TF_IDF_model(bow)"
   ]
  },
  {
   "cell_type": "markdown",
   "metadata": {},
   "source": [
    "## Ejecutar query"
   ]
  },
  {
   "cell_type": "code",
   "execution_count": 43,
   "metadata": {
    "ExecuteTime": {
     "end_time": "2020-11-25T17:54:16.154710Z",
     "start_time": "2020-11-25T17:54:16.149706Z"
    }
   },
   "outputs": [],
   "source": [
    "def launch_query(model, dictionary, bow, query, titles):\n",
    "    stopset = set(stopwords.words(\"english\"))\n",
    "    index = similarities.MatrixSimilarity(bow, num_features=len(dictionary))\n",
    "    print(index.shape)\n",
    "    pq = preprocess_query(query, stopset)\n",
    "    vq = dictionary.doc2bow(pq)\n",
    "    print(vq)\n",
    "    qtfidf = model[vq]\n",
    "    print(qtfidf)\n",
    "    sim = index[qtfidf]\n",
    "    print(sim)\n",
    "    ranking = sorted(enumerate(sim), key=itemgetter(1), reverse=True)\n",
    "    #for doc, score in ranking:\n",
    "    #    print(\"[ Score = \" + \"%.3f\" % round(score,3) + \" ] \" + titles['title'][doc])\n",
    "    return ranking\n",
    "        \n",
    "def preprocess_query(query, stopset):\n",
    "    stemmer = PorterStemmer()\n",
    "    tokens = wordpunct_tokenize(query)\n",
    "    clean = [token.lower() for token in tokens if token.lower() not in stopset and len(token) > 2]\n",
    "    stems = [stemmer.stem(word) for word in clean]\n",
    "    return stems"
   ]
  },
  {
   "cell_type": "code",
   "execution_count": 44,
   "metadata": {
    "ExecuteTime": {
     "end_time": "2020-11-25T17:54:16.686670Z",
     "start_time": "2020-11-25T17:54:16.397670Z"
    }
   },
   "outputs": [
    {
     "ename": "AttributeError",
     "evalue": "'MatrixSimilarity' object has no attribute 'shape'",
     "output_type": "error",
     "traceback": [
      "\u001b[1;31m---------------------------------------------------------------------------\u001b[0m",
      "\u001b[1;31mAttributeError\u001b[0m                            Traceback (most recent call last)",
      "\u001b[1;32m<ipython-input-44-5a94d3e8e9e8>\u001b[0m in \u001b[0;36m<module>\u001b[1;34m\u001b[0m\n\u001b[1;32m----> 1\u001b[1;33m \u001b[0mranking\u001b[0m \u001b[1;33m=\u001b[0m \u001b[0mlaunch_query\u001b[0m\u001b[1;33m(\u001b[0m\u001b[0mtfidf\u001b[0m\u001b[1;33m,\u001b[0m \u001b[0mdictionary\u001b[0m\u001b[1;33m,\u001b[0m \u001b[0mbow\u001b[0m\u001b[1;33m,\u001b[0m \u001b[0mqueries\u001b[0m\u001b[1;33m.\u001b[0m\u001b[0miloc\u001b[0m\u001b[1;33m[\u001b[0m\u001b[1;36m1\u001b[0m\u001b[1;33m]\u001b[0m\u001b[1;33m[\u001b[0m\u001b[1;36m0\u001b[0m\u001b[1;33m]\u001b[0m\u001b[1;33m,\u001b[0m \u001b[0mtitles\u001b[0m\u001b[1;33m)\u001b[0m\u001b[1;33m\u001b[0m\u001b[1;33m\u001b[0m\u001b[0m\n\u001b[0m",
      "\u001b[1;32m<ipython-input-43-c1ed802f26f3>\u001b[0m in \u001b[0;36mlaunch_query\u001b[1;34m(model, dictionary, bow, query, titles)\u001b[0m\n\u001b[0;32m      2\u001b[0m     \u001b[0mstopset\u001b[0m \u001b[1;33m=\u001b[0m \u001b[0mset\u001b[0m\u001b[1;33m(\u001b[0m\u001b[0mstopwords\u001b[0m\u001b[1;33m.\u001b[0m\u001b[0mwords\u001b[0m\u001b[1;33m(\u001b[0m\u001b[1;34m\"english\"\u001b[0m\u001b[1;33m)\u001b[0m\u001b[1;33m)\u001b[0m\u001b[1;33m\u001b[0m\u001b[1;33m\u001b[0m\u001b[0m\n\u001b[0;32m      3\u001b[0m     \u001b[0mindex\u001b[0m \u001b[1;33m=\u001b[0m \u001b[0msimilarities\u001b[0m\u001b[1;33m.\u001b[0m\u001b[0mMatrixSimilarity\u001b[0m\u001b[1;33m(\u001b[0m\u001b[0mbow\u001b[0m\u001b[1;33m,\u001b[0m \u001b[0mnum_features\u001b[0m\u001b[1;33m=\u001b[0m\u001b[0mlen\u001b[0m\u001b[1;33m(\u001b[0m\u001b[0mdictionary\u001b[0m\u001b[1;33m)\u001b[0m\u001b[1;33m)\u001b[0m\u001b[1;33m\u001b[0m\u001b[1;33m\u001b[0m\u001b[0m\n\u001b[1;32m----> 4\u001b[1;33m     \u001b[0mprint\u001b[0m\u001b[1;33m(\u001b[0m\u001b[0mindex\u001b[0m\u001b[1;33m.\u001b[0m\u001b[0mshape\u001b[0m\u001b[1;33m)\u001b[0m\u001b[1;33m\u001b[0m\u001b[1;33m\u001b[0m\u001b[0m\n\u001b[0m\u001b[0;32m      5\u001b[0m     \u001b[0mpq\u001b[0m \u001b[1;33m=\u001b[0m \u001b[0mpreprocess_query\u001b[0m\u001b[1;33m(\u001b[0m\u001b[0mquery\u001b[0m\u001b[1;33m,\u001b[0m \u001b[0mstopset\u001b[0m\u001b[1;33m)\u001b[0m\u001b[1;33m\u001b[0m\u001b[1;33m\u001b[0m\u001b[0m\n\u001b[0;32m      6\u001b[0m     \u001b[0mvq\u001b[0m \u001b[1;33m=\u001b[0m \u001b[0mdictionary\u001b[0m\u001b[1;33m.\u001b[0m\u001b[0mdoc2bow\u001b[0m\u001b[1;33m(\u001b[0m\u001b[0mpq\u001b[0m\u001b[1;33m)\u001b[0m\u001b[1;33m\u001b[0m\u001b[1;33m\u001b[0m\u001b[0m\n",
      "\u001b[1;31mAttributeError\u001b[0m: 'MatrixSimilarity' object has no attribute 'shape'"
     ]
    }
   ],
   "source": [
    "ranking = launch_query(tfidf, dictionary, bow, queries.iloc[1][0], titles)"
   ]
  },
  {
   "cell_type": "code",
   "execution_count": 20,
   "metadata": {
    "ExecuteTime": {
     "end_time": "2020-11-25T17:22:21.658393Z",
     "start_time": "2020-11-25T17:22:21.638392Z"
    }
   },
   "outputs": [
    {
     "data": {
      "text/plain": [
       "[(387, 0.15964654),\n",
       " (397, 0.090791956),\n",
       " (241, 0.07329515),\n",
       " (477, 0.046894297),\n",
       " (128, 0.046364),\n",
       " (334, 0.041256785),\n",
       " (321, 0.041148867),\n",
       " (211, 0.035458315),\n",
       " (374, 0.0347594),\n",
       " (438, 0.0343764),\n",
       " (263, 0.03397403),\n",
       " (342, 0.033784747),\n",
       " (238, 0.03316984),\n",
       " (65, 0.032920364),\n",
       " (10, 0.030513162),\n",
       " (47, 0.029655462),\n",
       " (479, 0.028951993),\n",
       " (103, 0.028667152),\n",
       " (540, 0.028008817),\n",
       " (462, 0.026778664),\n",
       " (212, 0.026004123),\n",
       " (502, 0.02579236),\n",
       " (236, 0.02487269),\n",
       " (216, 0.024505131),\n",
       " (392, 0.024449278),\n",
       " (19, 0.02404477),\n",
       " (499, 0.023986205),\n",
       " (135, 0.023916753),\n",
       " (86, 0.023860676),\n",
       " (81, 0.023850797),\n",
       " (219, 0.023562606),\n",
       " (482, 0.02332909),\n",
       " (185, 0.022768026),\n",
       " (217, 0.022598289),\n",
       " (44, 0.022448426),\n",
       " (240, 0.022163454),\n",
       " (182, 0.022089425),\n",
       " (141, 0.021936033),\n",
       " (213, 0.021778924),\n",
       " (428, 0.021629095),\n",
       " (134, 0.0215691),\n",
       " (267, 0.021506108),\n",
       " (11, 0.021430746),\n",
       " (336, 0.021251941),\n",
       " (469, 0.021148754),\n",
       " (149, 0.021115337),\n",
       " (244, 0.020513166),\n",
       " (314, 0.020287458),\n",
       " (510, 0.020209506),\n",
       " (94, 0.020060211),\n",
       " (389, 0.02005773),\n",
       " (71, 0.01956256),\n",
       " (294, 0.019489566),\n",
       " (319, 0.019484878),\n",
       " (89, 0.019467989),\n",
       " (478, 0.01936967),\n",
       " (454, 0.019291703),\n",
       " (29, 0.019249862),\n",
       " (14, 0.019131482),\n",
       " (92, 0.019094765),\n",
       " (445, 0.01888364),\n",
       " (275, 0.018814117),\n",
       " (427, 0.018738937),\n",
       " (536, 0.018633155),\n",
       " (54, 0.01821962),\n",
       " (278, 0.018069997),\n",
       " (466, 0.017888656),\n",
       " (539, 0.01787085),\n",
       " (472, 0.017814962),\n",
       " (207, 0.017554851),\n",
       " (338, 0.017481985),\n",
       " (287, 0.017408662),\n",
       " (376, 0.0174006),\n",
       " (409, 0.017271042),\n",
       " (152, 0.017220877),\n",
       " (99, 0.017169746),\n",
       " (273, 0.017164124),\n",
       " (157, 0.016915001),\n",
       " (159, 0.016721416),\n",
       " (138, 0.016678112),\n",
       " (494, 0.016620155),\n",
       " (474, 0.016577015),\n",
       " (495, 0.016459092),\n",
       " (377, 0.01638854),\n",
       " (129, 0.016352572),\n",
       " (542, 0.016211951),\n",
       " (237, 0.015963577),\n",
       " (110, 0.015823983),\n",
       " (279, 0.015821846),\n",
       " (543, 0.015679143),\n",
       " (58, 0.0156182),\n",
       " (214, 0.01543515),\n",
       " (210, 0.015412247),\n",
       " (439, 0.01524316),\n",
       " (2, 0.014979215),\n",
       " (367, 0.014946841),\n",
       " (488, 0.014824382),\n",
       " (309, 0.014794662),\n",
       " (165, 0.014618769),\n",
       " (16, 0.014616715),\n",
       " (380, 0.0145803355),\n",
       " (107, 0.014574237),\n",
       " (67, 0.014571503),\n",
       " (269, 0.0145289),\n",
       " (283, 0.014484607),\n",
       " (167, 0.01446429),\n",
       " (161, 0.014361803),\n",
       " (460, 0.014259905),\n",
       " (33, 0.014256846),\n",
       " (383, 0.014174848),\n",
       " (26, 0.014167003),\n",
       " (234, 0.014163805),\n",
       " (405, 0.014162468),\n",
       " (452, 0.0141289765),\n",
       " (373, 0.01406522),\n",
       " (332, 0.014042778),\n",
       " (208, 0.013953264),\n",
       " (180, 0.013935425),\n",
       " (39, 0.013915999),\n",
       " (250, 0.013860005),\n",
       " (145, 0.013851103),\n",
       " (429, 0.013811522),\n",
       " (297, 0.013766663),\n",
       " (132, 0.013752495),\n",
       " (60, 0.013659757),\n",
       " (531, 0.013625412),\n",
       " (228, 0.013603513),\n",
       " (204, 0.013555023),\n",
       " (296, 0.013519887),\n",
       " (299, 0.013516547),\n",
       " (555, 0.013361165),\n",
       " (83, 0.0133250905),\n",
       " (293, 0.01320668),\n",
       " (465, 0.013116365),\n",
       " (50, 0.01305014),\n",
       " (184, 0.013033781),\n",
       " (313, 0.012923046),\n",
       " (53, 0.012871199),\n",
       " (443, 0.012811326),\n",
       " (282, 0.012776105),\n",
       " (119, 0.012737415),\n",
       " (163, 0.012630134),\n",
       " (525, 0.012510456),\n",
       " (359, 0.012467306),\n",
       " (256, 0.01242943),\n",
       " (344, 0.012425372),\n",
       " (55, 0.012424871),\n",
       " (74, 0.012406039),\n",
       " (6, 0.012359932),\n",
       " (51, 0.012333849),\n",
       " (43, 0.012237459),\n",
       " (191, 0.012211581),\n",
       " (168, 0.01217237),\n",
       " (277, 0.012116902),\n",
       " (524, 0.012016529),\n",
       " (15, 0.011939888),\n",
       " (166, 0.011919126),\n",
       " (272, 0.01180448),\n",
       " (457, 0.011787188),\n",
       " (148, 0.011739671),\n",
       " (260, 0.011736338),\n",
       " (538, 0.0117355585),\n",
       " (40, 0.011687767),\n",
       " (52, 0.01157715),\n",
       " (324, 0.011552401),\n",
       " (289, 0.011368993),\n",
       " (261, 0.01135565),\n",
       " (391, 0.0111202),\n",
       " (518, 0.010962359),\n",
       " (220, 0.010942031),\n",
       " (547, 0.010940162),\n",
       " (192, 0.010921757),\n",
       " (379, 0.010823994),\n",
       " (123, 0.010764403),\n",
       " (530, 0.010730737),\n",
       " (31, 0.010652382),\n",
       " (382, 0.010638975),\n",
       " (169, 0.010632008),\n",
       " (407, 0.01062626),\n",
       " (197, 0.010624733),\n",
       " (404, 0.0105792945),\n",
       " (371, 0.010346561),\n",
       " (286, 0.01023128),\n",
       " (189, 0.010160493),\n",
       " (317, 0.010130178),\n",
       " (23, 0.0101185795),\n",
       " (361, 0.010109541),\n",
       " (77, 0.010036108),\n",
       " (186, 0.010030587),\n",
       " (0, 0.010010666),\n",
       " (425, 0.00995146),\n",
       " (431, 0.009907098),\n",
       " (433, 0.009900305),\n",
       " (8, 0.009897101),\n",
       " (13, 0.009813631),\n",
       " (137, 0.00974273),\n",
       " (98, 0.009652876),\n",
       " (434, 0.009602237),\n",
       " (59, 0.00957602),\n",
       " (473, 0.009565913),\n",
       " (504, 0.009532096),\n",
       " (520, 0.009512629),\n",
       " (69, 0.00944583),\n",
       " (225, 0.009423594),\n",
       " (195, 0.009413024),\n",
       " (176, 0.00939672),\n",
       " (215, 0.009369816),\n",
       " (5, 0.009359088),\n",
       " (226, 0.009350485),\n",
       " (72, 0.009348521),\n",
       " (295, 0.009332663),\n",
       " (140, 0.009305322),\n",
       " (470, 0.009286279),\n",
       " (305, 0.009280197),\n",
       " (385, 0.009181847),\n",
       " (108, 0.009090982),\n",
       " (355, 0.008940295),\n",
       " (315, 0.008930141),\n",
       " (340, 0.008925046),\n",
       " (112, 0.008815722),\n",
       " (492, 0.008782601),\n",
       " (56, 0.008769604),\n",
       " (471, 0.008676095),\n",
       " (105, 0.008656475),\n",
       " (68, 0.008572048),\n",
       " (133, 0.008563244),\n",
       " (491, 0.008541754),\n",
       " (326, 0.008482393),\n",
       " (88, 0.008444063),\n",
       " (414, 0.008443098),\n",
       " (76, 0.008430233),\n",
       " (46, 0.008395388),\n",
       " (511, 0.008375039),\n",
       " (378, 0.008340102),\n",
       " (121, 0.008110385),\n",
       " (63, 0.008086416),\n",
       " (448, 0.00802981),\n",
       " (308, 0.007937443),\n",
       " (325, 0.007904007),\n",
       " (449, 0.007844722),\n",
       " (323, 0.007817744),\n",
       " (500, 0.0078118662),\n",
       " (57, 0.007793555),\n",
       " (403, 0.007739099),\n",
       " (412, 0.007718936),\n",
       " (415, 0.0076656025),\n",
       " (416, 0.0075915),\n",
       " (229, 0.0075526773),\n",
       " (84, 0.0073656896),\n",
       " (545, 0.0073635187),\n",
       " (515, 0.0073482883),\n",
       " (507, 0.007314898),\n",
       " (144, 0.0073125362),\n",
       " (62, 0.0072732572),\n",
       " (41, 0.007264109),\n",
       " (369, 0.007232847),\n",
       " (125, 0.0071945866),\n",
       " (390, 0.0071829306),\n",
       " (218, 0.0071164933),\n",
       " (42, 0.007113116),\n",
       " (522, 0.007102201),\n",
       " (7, 0.0070981733),\n",
       " (329, 0.007097217),\n",
       " (489, 0.007068473),\n",
       " (553, 0.007057054),\n",
       " (178, 0.0070001353),\n",
       " (201, 0.0069826357),\n",
       " (230, 0.006974804),\n",
       " (288, 0.0069612707),\n",
       " (114, 0.006957864),\n",
       " (386, 0.006956468),\n",
       " (348, 0.0069480757),\n",
       " (36, 0.0069264225),\n",
       " (224, 0.0068237064),\n",
       " (156, 0.006798742),\n",
       " (301, 0.006796404),\n",
       " (258, 0.0066243624),\n",
       " (255, 0.006612026),\n",
       " (310, 0.006607255),\n",
       " (139, 0.0065923845),\n",
       " (331, 0.0065607224),\n",
       " (306, 0.0065459823),\n",
       " (270, 0.00652631),\n",
       " (487, 0.006513129),\n",
       " (130, 0.0065109283),\n",
       " (96, 0.0065077418),\n",
       " (322, 0.0064957025),\n",
       " (411, 0.006414218),\n",
       " (262, 0.006346016),\n",
       " (509, 0.006340768),\n",
       " (205, 0.006291776),\n",
       " (421, 0.0062800823),\n",
       " (375, 0.006260833),\n",
       " (503, 0.0062407325),\n",
       " (528, 0.006203716),\n",
       " (461, 0.0060963975),\n",
       " (102, 0.006088449),\n",
       " (446, 0.006069423),\n",
       " (281, 0.006066688),\n",
       " (316, 0.006059776),\n",
       " (85, 0.006007069),\n",
       " (347, 0.005993842),\n",
       " (343, 0.0059578354),\n",
       " (146, 0.005949402),\n",
       " (304, 0.0059444336),\n",
       " (21, 0.005883772),\n",
       " (496, 0.0058337613),\n",
       " (177, 0.005818409),\n",
       " (493, 0.005809759),\n",
       " (160, 0.0057362686),\n",
       " (248, 0.005647974),\n",
       " (532, 0.0056057344),\n",
       " (227, 0.0055977483),\n",
       " (413, 0.0055898195),\n",
       " (402, 0.0055207163),\n",
       " (548, 0.0054657385),\n",
       " (249, 0.00545144),\n",
       " (362, 0.005446094),\n",
       " (268, 0.005409534),\n",
       " (508, 0.0054050796),\n",
       " (73, 0.00537627),\n",
       " (444, 0.0053575523),\n",
       " (480, 0.005353711),\n",
       " (410, 0.005334074),\n",
       " (501, 0.005290604),\n",
       " (365, 0.005240228),\n",
       " (346, 0.005215689),\n",
       " (276, 0.0051778043),\n",
       " (451, 0.0051428503),\n",
       " (327, 0.0051346174),\n",
       " (174, 0.0050697178),\n",
       " (481, 0.0050323),\n",
       " (505, 0.005031082),\n",
       " (104, 0.00499516),\n",
       " (188, 0.0049703303),\n",
       " (70, 0.0049698586),\n",
       " (257, 0.0049162605),\n",
       " (285, 0.00489537),\n",
       " (155, 0.004837269),\n",
       " (48, 0.004812347),\n",
       " (468, 0.004792111),\n",
       " (66, 0.0047764555),\n",
       " (264, 0.004771626),\n",
       " (28, 0.00476582),\n",
       " (187, 0.0046920916),\n",
       " (337, 0.0046806755),\n",
       " (512, 0.0046797856),\n",
       " (430, 0.0046782102),\n",
       " (552, 0.0046478882),\n",
       " (298, 0.004615966),\n",
       " (196, 0.0045763645),\n",
       " (307, 0.004571859),\n",
       " (243, 0.0044847685),\n",
       " (164, 0.0044439826),\n",
       " (498, 0.0044218753),\n",
       " (172, 0.004419295),\n",
       " (549, 0.004368118),\n",
       " (517, 0.004355861),\n",
       " (370, 0.004347811),\n",
       " (124, 0.004230406),\n",
       " (95, 0.004209961),\n",
       " (4, 0.004201165),\n",
       " (45, 0.004197362),\n",
       " (280, 0.004115893),\n",
       " (292, 0.004075188),\n",
       " (34, 0.0040572393),\n",
       " (453, 0.0040247887),\n",
       " (546, 0.003981628),\n",
       " (352, 0.0039288322),\n",
       " (35, 0.0039060037),\n",
       " (426, 0.0039020502),\n",
       " (419, 0.0038450477),\n",
       " (64, 0.003809375),\n",
       " (364, 0.0037989798),\n",
       " (458, 0.0037680184),\n",
       " (401, 0.0037378722),\n",
       " (484, 0.003673151),\n",
       " (345, 0.003643579),\n",
       " (151, 0.0036356281),\n",
       " (486, 0.003524666),\n",
       " (360, 0.003518754),\n",
       " (398, 0.0035134652),\n",
       " (222, 0.00348207),\n",
       " (206, 0.00344998),\n",
       " (25, 0.0034059647),\n",
       " (254, 0.0033988485),\n",
       " (408, 0.0033956687),\n",
       " (350, 0.0033900707),\n",
       " (400, 0.0033049362),\n",
       " (312, 0.0032976049),\n",
       " (519, 0.003274677),\n",
       " (394, 0.0032685304),\n",
       " (150, 0.0032240509),\n",
       " (483, 0.0031953456),\n",
       " (143, 0.003192635),\n",
       " (266, 0.0031900194),\n",
       " (131, 0.0031290597),\n",
       " (356, 0.0031153413),\n",
       " (22, 0.0031106742),\n",
       " (198, 0.003108339),\n",
       " (127, 0.0030434136),\n",
       " (233, 0.0029834928),\n",
       " (232, 0.0029703772),\n",
       " (353, 0.002956342),\n",
       " (271, 0.0029240628),\n",
       " (463, 0.0029119176),\n",
       " (223, 0.002909569),\n",
       " (24, 0.0029034643),\n",
       " (93, 0.0029007315),\n",
       " (381, 0.0027839285),\n",
       " (90, 0.002769398),\n",
       " (514, 0.002730676),\n",
       " (320, 0.0027052364),\n",
       " (363, 0.0026403707),\n",
       " (527, 0.0026250894),\n",
       " (153, 0.002594719),\n",
       " (420, 0.0025427798),\n",
       " (120, 0.0024980805),\n",
       " (194, 0.0024665226),\n",
       " (1, 0.0024636793),\n",
       " (521, 0.0024472645),\n",
       " (179, 0.0024419283),\n",
       " (245, 0.0023699892),\n",
       " (349, 0.0023549034),\n",
       " (424, 0.0022814237),\n",
       " (437, 0.002244391),\n",
       " (291, 0.0022297755),\n",
       " (318, 0.0022269073),\n",
       " (541, 0.0021940104),\n",
       " (290, 0.002172999),\n",
       " (393, 0.0021116135),\n",
       " (357, 0.002064229),\n",
       " (109, 0.0020640444),\n",
       " (117, 0.0019970073),\n",
       " (193, 0.0019943977),\n",
       " (136, 0.0019156642),\n",
       " (396, 0.0019127483),\n",
       " (231, 0.0019092438),\n",
       " (368, 0.0019005644),\n",
       " (441, 0.0018777109),\n",
       " (38, 0.0018500251),\n",
       " (203, 0.0018487287),\n",
       " (78, 0.0017763954),\n",
       " (106, 0.0017512767),\n",
       " (554, 0.0017366398),\n",
       " (239, 0.0017254144),\n",
       " (259, 0.0017106455),\n",
       " (467, 0.0017037163),\n",
       " (450, 0.0016509352),\n",
       " (302, 0.0016431648),\n",
       " (147, 0.001634218),\n",
       " (422, 0.0016107908),\n",
       " (464, 0.0016028553),\n",
       " (513, 0.0015356978),\n",
       " (395, 0.0015054832),\n",
       " (475, 0.0015004268),\n",
       " (497, 0.0014164136),\n",
       " (158, 0.0014124825),\n",
       " (122, 0.001374925),\n",
       " (253, 0.0013622623),\n",
       " (311, 0.0013614481),\n",
       " (61, 0.001356238),\n",
       " (440, 0.0013532244),\n",
       " (101, 0.0013511952),\n",
       " (17, 0.0013350905),\n",
       " (490, 0.0013120366),\n",
       " (20, 0.0013043459),\n",
       " (284, 0.0012861086),\n",
       " (142, 0.0012738543),\n",
       " (209, 0.0012676927),\n",
       " (423, 0.0012293551),\n",
       " (550, 0.0012224909),\n",
       " (49, 0.0012099558),\n",
       " (384, 0.0011735612),\n",
       " (87, 0.001099119),\n",
       " (126, 0.0010896409),\n",
       " (115, 0.0010527367),\n",
       " (418, 0.001034203),\n",
       " (162, 0.0009916539),\n",
       " (435, 0.0009789326),\n",
       " (358, 0.00097322516),\n",
       " (388, 0.00088201254),\n",
       " (190, 0.0008728339),\n",
       " (221, 0.0008720683),\n",
       " (328, 0.00086759),\n",
       " (252, 0.00085427985),\n",
       " (202, 0.0008106981),\n",
       " (516, 0.00076774723),\n",
       " (75, 0.00074335164),\n",
       " (235, 0.00071104907),\n",
       " (523, 0.00065036106),\n",
       " (79, 0.00064015354),\n",
       " (265, 0.0006219215),\n",
       " (18, 0.0005215937),\n",
       " (37, 0.00048136353),\n",
       " (3, 0.0),\n",
       " (9, 0.0),\n",
       " (12, 0.0),\n",
       " (27, 0.0),\n",
       " (30, 0.0),\n",
       " (32, 0.0),\n",
       " (80, 0.0),\n",
       " (82, 0.0),\n",
       " (91, 0.0),\n",
       " (97, 0.0),\n",
       " (100, 0.0),\n",
       " (111, 0.0),\n",
       " (113, 0.0),\n",
       " (116, 0.0),\n",
       " (118, 0.0),\n",
       " (154, 0.0),\n",
       " (170, 0.0),\n",
       " (171, 0.0),\n",
       " (173, 0.0),\n",
       " (175, 0.0),\n",
       " (181, 0.0),\n",
       " (183, 0.0),\n",
       " (199, 0.0),\n",
       " (200, 0.0),\n",
       " (242, 0.0),\n",
       " (246, 0.0),\n",
       " (247, 0.0),\n",
       " (251, 0.0),\n",
       " (274, 0.0),\n",
       " (300, 0.0),\n",
       " (303, 0.0),\n",
       " (330, 0.0),\n",
       " (333, 0.0),\n",
       " (335, 0.0),\n",
       " (339, 0.0),\n",
       " (341, 0.0),\n",
       " (351, 0.0),\n",
       " (354, 0.0),\n",
       " (366, 0.0),\n",
       " (372, 0.0),\n",
       " (399, 0.0),\n",
       " (406, 0.0),\n",
       " (417, 0.0),\n",
       " (432, 0.0),\n",
       " (436, 0.0),\n",
       " (442, 0.0),\n",
       " (447, 0.0),\n",
       " (455, 0.0),\n",
       " (456, 0.0),\n",
       " (459, 0.0),\n",
       " (476, 0.0),\n",
       " (485, 0.0),\n",
       " (506, 0.0),\n",
       " (526, 0.0),\n",
       " (529, 0.0),\n",
       " (533, 0.0),\n",
       " (534, 0.0),\n",
       " (535, 0.0),\n",
       " (537, 0.0),\n",
       " (544, 0.0),\n",
       " (551, 0.0)]"
      ]
     },
     "execution_count": 20,
     "metadata": {},
     "output_type": "execute_result"
    }
   ],
   "source": [
    "ranking"
   ]
  },
  {
   "cell_type": "code",
   "execution_count": 27,
   "metadata": {
    "ExecuteTime": {
     "end_time": "2020-11-25T17:24:12.384015Z",
     "start_time": "2020-11-25T17:23:56.583470Z"
    }
   },
   "outputs": [],
   "source": [
    "rankings = np.array([launch_query(tfidf, dictionary, bow, queries['query'][index], titles) for index in queries.index])"
   ]
  },
  {
   "cell_type": "code",
   "execution_count": 28,
   "metadata": {
    "ExecuteTime": {
     "end_time": "2020-11-25T17:24:12.537016Z",
     "start_time": "2020-11-25T17:24:12.532016Z"
    }
   },
   "outputs": [
    {
     "data": {
      "text/plain": [
       "(50, 556, 2)"
      ]
     },
     "execution_count": 28,
     "metadata": {},
     "output_type": "execute_result"
    }
   ],
   "source": [
    "rankings.shape"
   ]
  },
  {
   "cell_type": "code",
   "execution_count": 29,
   "metadata": {
    "ExecuteTime": {
     "end_time": "2020-11-25T17:24:12.676015Z",
     "start_time": "2020-11-25T17:24:12.672016Z"
    }
   },
   "outputs": [
    {
     "data": {
      "text/plain": [
       "387"
      ]
     },
     "execution_count": 29,
     "metadata": {},
     "output_type": "execute_result"
    }
   ],
   "source": [
    "ranking[0][0]"
   ]
  },
  {
   "cell_type": "code",
   "execution_count": 31,
   "metadata": {
    "ExecuteTime": {
     "end_time": "2020-11-25T17:24:30.598911Z",
     "start_time": "2020-11-25T17:24:30.595911Z"
    }
   },
   "outputs": [
    {
     "data": {
      "text/plain": [
       "['Eco-epidemiological assessment of the COVID-19 epidemic in China',\n",
       " 'Effectively Communicating Climate Science beyond Academia: Harnessing the Heterogeneity of Climate Knowledge',\n",
       " 'OPINION PIECE Food systems for resilient futures',\n",
       " 'Turkish Journal of Biology Integration of transcriptomic profile of SARS-CoV-2 infected normal human bronchial epi-thelial cells with metabolic and protein-protein interaction networks',\n",
       " 'Extreme Engineering: Polarization in Product Development and Manufacturing']"
      ]
     },
     "execution_count": 31,
     "metadata": {},
     "output_type": "execute_result"
    }
   ],
   "source": [
    "[titles.iloc[ranked[0]][\"title\"] for ranked in ranking[:5]]"
   ]
  },
  {
   "cell_type": "code",
   "execution_count": 26,
   "metadata": {
    "ExecuteTime": {
     "end_time": "2020-11-25T17:23:23.649667Z",
     "start_time": "2020-11-25T17:23:23.644667Z"
    }
   },
   "outputs": [
    {
     "data": {
      "text/plain": [
       "array([[2.11000000e+02, 1.23008847e-01],\n",
       "       [3.63000000e+02, 9.95385200e-02],\n",
       "       [2.63000000e+02, 9.72091034e-02],\n",
       "       ...,\n",
       "       [5.48000000e+02, 0.00000000e+00],\n",
       "       [5.49000000e+02, 0.00000000e+00],\n",
       "       [5.51000000e+02, 0.00000000e+00]])"
      ]
     },
     "execution_count": 26,
     "metadata": {},
     "output_type": "execute_result"
    }
   ],
   "source": [
    "rankings[0]"
   ]
  },
  {
   "cell_type": "code",
   "execution_count": null,
   "metadata": {},
   "outputs": [],
   "source": []
  }
 ],
 "metadata": {
  "kernelspec": {
   "display_name": "Python 3",
   "language": "python",
   "name": "python3"
  },
  "language_info": {
   "codemirror_mode": {
    "name": "ipython",
    "version": 3
   },
   "file_extension": ".py",
   "mimetype": "text/x-python",
   "name": "python",
   "nbconvert_exporter": "python",
   "pygments_lexer": "ipython3",
   "version": "3.7.6"
  },
  "latex_envs": {
   "LaTeX_envs_menu_present": true,
   "autoclose": true,
   "autocomplete": true,
   "bibliofile": "biblio.bib",
   "cite_by": "apalike",
   "current_citInitial": 1,
   "eqLabelWithNumbers": true,
   "eqNumInitial": 1,
   "hotkeys": {
    "equation": "Ctrl-E",
    "itemize": "Ctrl-I"
   },
   "labels_anchors": false,
   "latex_user_defs": false,
   "report_style_numbering": false,
   "user_envs_cfg": false
  },
  "varInspector": {
   "cols": {
    "lenName": 16,
    "lenType": 16,
    "lenVar": 40
   },
   "kernels_config": {
    "python": {
     "delete_cmd_postfix": "",
     "delete_cmd_prefix": "del ",
     "library": "var_list.py",
     "varRefreshCmd": "print(var_dic_list())"
    },
    "r": {
     "delete_cmd_postfix": ") ",
     "delete_cmd_prefix": "rm(",
     "library": "var_list.r",
     "varRefreshCmd": "cat(var_dic_list()) "
    }
   },
   "position": {
    "height": "546.198px",
    "left": "564.385px",
    "right": "20px",
    "top": "142.941px",
    "width": "550.764px"
   },
   "types_to_exclude": [
    "module",
    "function",
    "builtin_function_or_method",
    "instance",
    "_Feature"
   ],
   "window_display": false
  }
 },
 "nbformat": 4,
 "nbformat_minor": 4
}
