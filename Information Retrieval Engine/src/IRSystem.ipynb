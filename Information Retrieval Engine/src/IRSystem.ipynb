{
 "cells": [
  {
   "cell_type": "markdown",
   "metadata": {},
   "source": [
    "This project has been done by\n",
    "+ César García Cabeza\n",
    "+ David Rubio Ruiz\n",
    "\n",
    "under the agile technique of pair programming.\n",
    "\n",
    "Once the implementation was done, we equally divided the documentation taks."
   ]
  },
  {
   "cell_type": "markdown",
   "metadata": {
    "toc": true
   },
   "source": [
    "<h1>Table of Contents<span class=\"tocSkip\"></span></h1>\n",
    "<div class=\"toc\"><ul class=\"toc-item\"><li><span><a href=\"#Prerequisites\" data-toc-modified-id=\"Prerequisites-1\"><span class=\"toc-item-num\">1&nbsp;&nbsp;</span>Prerequisites</a></span></li><li><span><a href=\"#Imports\" data-toc-modified-id=\"Imports-2\"><span class=\"toc-item-num\">2&nbsp;&nbsp;</span>Imports</a></span></li><li><span><a href=\"#File-paths\" data-toc-modified-id=\"File-paths-3\"><span class=\"toc-item-num\">3&nbsp;&nbsp;</span>File paths</a></span></li><li><span><a href=\"#Preprocessing\" data-toc-modified-id=\"Preprocessing-4\"><span class=\"toc-item-num\">4&nbsp;&nbsp;</span>Preprocessing</a></span><ul class=\"toc-item\"><li><span><a href=\"#Dictionary-generation\" data-toc-modified-id=\"Dictionary-generation-4.1\"><span class=\"toc-item-num\">4.1&nbsp;&nbsp;</span>Dictionary generation</a></span></li><li><span><a href=\"#BOW-generation\" data-toc-modified-id=\"BOW-generation-4.2\"><span class=\"toc-item-num\">4.2&nbsp;&nbsp;</span>BOW generation</a></span></li><li><span><a href=\"#Similarity-matrix-generation\" data-toc-modified-id=\"Similarity-matrix-generation-4.3\"><span class=\"toc-item-num\">4.3&nbsp;&nbsp;</span>Similarity matrix generation</a></span></li></ul></li><li><span><a href=\"#Data-load\" data-toc-modified-id=\"Data-load-5\"><span class=\"toc-item-num\">5&nbsp;&nbsp;</span>Data load</a></span><ul class=\"toc-item\"><li><span><a href=\"#Titles\" data-toc-modified-id=\"Titles-5.1\"><span class=\"toc-item-num\">5.1&nbsp;&nbsp;</span>Titles</a></span></li><li><span><a href=\"#Judgements\" data-toc-modified-id=\"Judgements-5.2\"><span class=\"toc-item-num\">5.2&nbsp;&nbsp;</span>Judgements</a></span></li><li><span><a href=\"#Queries\" data-toc-modified-id=\"Queries-5.3\"><span class=\"toc-item-num\">5.3&nbsp;&nbsp;</span>Queries</a></span></li><li><span><a href=\"#Metadata\" data-toc-modified-id=\"Metadata-5.4\"><span class=\"toc-item-num\">5.4&nbsp;&nbsp;</span>Metadata</a></span></li></ul></li><li><span><a href=\"#Retrieval-models\" data-toc-modified-id=\"Retrieval-models-6\"><span class=\"toc-item-num\">6&nbsp;&nbsp;</span>Retrieval models</a></span><ul class=\"toc-item\"><li><span><a href=\"#TFIDF-Model\" data-toc-modified-id=\"TFIDF-Model-6.1\"><span class=\"toc-item-num\">6.1&nbsp;&nbsp;</span>TFIDF Model</a></span><ul class=\"toc-item\"><li><span><a href=\"#Example-of-evaluation\" data-toc-modified-id=\"Example-of-evaluation-6.1.1\"><span class=\"toc-item-num\">6.1.1&nbsp;&nbsp;</span>Example of evaluation</a></span></li><li><span><a href=\"#Parameterized-Evaluation\" data-toc-modified-id=\"Parameterized-Evaluation-6.1.2\"><span class=\"toc-item-num\">6.1.2&nbsp;&nbsp;</span>Parameterized Evaluation</a></span></li></ul></li><li><span><a href=\"#TFIDF-2.0\" data-toc-modified-id=\"TFIDF-2.0-6.2\"><span class=\"toc-item-num\">6.2&nbsp;&nbsp;</span>TFIDF 2.0</a></span></li><li><span><a href=\"#Word2Vec\" data-toc-modified-id=\"Word2Vec-6.3\"><span class=\"toc-item-num\">6.3&nbsp;&nbsp;</span>Word2Vec</a></span><ul class=\"toc-item\"><li><span><a href=\"#Creation\" data-toc-modified-id=\"Creation-6.3.1\"><span class=\"toc-item-num\">6.3.1&nbsp;&nbsp;</span>Creation</a></span></li><li><span><a href=\"#Saving\" data-toc-modified-id=\"Saving-6.3.2\"><span class=\"toc-item-num\">6.3.2&nbsp;&nbsp;</span>Saving</a></span></li><li><span><a href=\"#Loading\" data-toc-modified-id=\"Loading-6.3.3\"><span class=\"toc-item-num\">6.3.3&nbsp;&nbsp;</span>Loading</a></span></li><li><span><a href=\"#Getting-embedding\" data-toc-modified-id=\"Getting-embedding-6.3.4\"><span class=\"toc-item-num\">6.3.4&nbsp;&nbsp;</span>Getting embedding</a></span></li><li><span><a href=\"#Queries-embeddings\" data-toc-modified-id=\"Queries-embeddings-6.3.5\"><span class=\"toc-item-num\">6.3.5&nbsp;&nbsp;</span>Queries embeddings</a></span></li><li><span><a href=\"#Documents-embeddings\" data-toc-modified-id=\"Documents-embeddings-6.3.6\"><span class=\"toc-item-num\">6.3.6&nbsp;&nbsp;</span>Documents embeddings</a></span></li><li><span><a href=\"#Launch-query-in-W2V-Model\" data-toc-modified-id=\"Launch-query-in-W2V-Model-6.3.7\"><span class=\"toc-item-num\">6.3.7&nbsp;&nbsp;</span>Launch query in W2V Model</a></span></li></ul></li><li><span><a href=\"#Fast-text\" data-toc-modified-id=\"Fast-text-6.4\"><span class=\"toc-item-num\">6.4&nbsp;&nbsp;</span>Fast text</a></span><ul class=\"toc-item\"><li><span><a href=\"#Creation\" data-toc-modified-id=\"Creation-6.4.1\"><span class=\"toc-item-num\">6.4.1&nbsp;&nbsp;</span>Creation</a></span></li><li><span><a href=\"#Saving\" data-toc-modified-id=\"Saving-6.4.2\"><span class=\"toc-item-num\">6.4.2&nbsp;&nbsp;</span>Saving</a></span></li><li><span><a href=\"#Loading\" data-toc-modified-id=\"Loading-6.4.3\"><span class=\"toc-item-num\">6.4.3&nbsp;&nbsp;</span>Loading</a></span></li><li><span><a href=\"#Getting-embeddings\" data-toc-modified-id=\"Getting-embeddings-6.4.4\"><span class=\"toc-item-num\">6.4.4&nbsp;&nbsp;</span>Getting embeddings</a></span></li><li><span><a href=\"#Queries-embeddings\" data-toc-modified-id=\"Queries-embeddings-6.4.5\"><span class=\"toc-item-num\">6.4.5&nbsp;&nbsp;</span>Queries embeddings</a></span></li><li><span><a href=\"#Documents-embeddings\" data-toc-modified-id=\"Documents-embeddings-6.4.6\"><span class=\"toc-item-num\">6.4.6&nbsp;&nbsp;</span>Documents embeddings</a></span></li><li><span><a href=\"#Launch-query-in-FastText-Model\" data-toc-modified-id=\"Launch-query-in-FastText-Model-6.4.7\"><span class=\"toc-item-num\">6.4.7&nbsp;&nbsp;</span>Launch query in FastText Model</a></span></li></ul></li><li><span><a href=\"#Latent-Semantic-Indexing\" data-toc-modified-id=\"Latent-Semantic-Indexing-6.5\"><span class=\"toc-item-num\">6.5&nbsp;&nbsp;</span>Latent Semantic Indexing</a></span><ul class=\"toc-item\"><li><span><a href=\"#Model-creation\" data-toc-modified-id=\"Model-creation-6.5.1\"><span class=\"toc-item-num\">6.5.1&nbsp;&nbsp;</span>Model creation</a></span></li><li><span><a href=\"#Similarities-matrix\" data-toc-modified-id=\"Similarities-matrix-6.5.2\"><span class=\"toc-item-num\">6.5.2&nbsp;&nbsp;</span>Similarities matrix</a></span></li><li><span><a href=\"#Launching-queries\" data-toc-modified-id=\"Launching-queries-6.5.3\"><span class=\"toc-item-num\">6.5.3&nbsp;&nbsp;</span>Launching queries</a></span></li></ul></li></ul></li><li><span><a href=\"#Results\" data-toc-modified-id=\"Results-7\"><span class=\"toc-item-num\">7&nbsp;&nbsp;</span>Results</a></span></li><li><span><a href=\"#Conclusions\" data-toc-modified-id=\"Conclusions-8\"><span class=\"toc-item-num\">8&nbsp;&nbsp;</span>Conclusions</a></span></li><li><span><a href=\"#References\" data-toc-modified-id=\"References-9\"><span class=\"toc-item-num\">9&nbsp;&nbsp;</span>References</a></span></li></ul></div>"
   ]
  },
  {
   "cell_type": "markdown",
   "metadata": {},
   "source": [
    "# Prerequisites\n",
    "\n",
    "Make sure you have downloaded the following pakcages in your environment:\n",
    "\n",
    "- nltk: nltk.download('stopwords')\n",
    "- xmltodict\n",
    "- numpy\n",
    "- gensim\n",
    "- pandas\n",
    "- matplotlib\n",
    "- dask\n",
    "- sklearn"
   ]
  },
  {
   "cell_type": "code",
   "execution_count": null,
   "metadata": {
    "ExecuteTime": {
     "end_time": "2020-12-13T19:55:07.037943Z",
     "start_time": "2020-12-13T19:54:55.821985Z"
    }
   },
   "outputs": [],
   "source": [
    "pip install nltk"
   ]
  },
  {
   "cell_type": "code",
   "execution_count": null,
   "metadata": {
    "ExecuteTime": {
     "end_time": "2020-12-13T19:55:09.271929Z",
     "start_time": "2020-12-13T19:55:07.042196Z"
    },
    "scrolled": true
   },
   "outputs": [],
   "source": [
    "pip install xmltodict"
   ]
  },
  {
   "cell_type": "code",
   "execution_count": null,
   "metadata": {
    "ExecuteTime": {
     "end_time": "2020-12-13T19:55:20.868888Z",
     "start_time": "2020-12-13T19:55:09.273750Z"
    },
    "scrolled": false
   },
   "outputs": [],
   "source": [
    "pip install --user numpy==1.19.3"
   ]
  },
  {
   "cell_type": "code",
   "execution_count": null,
   "metadata": {
    "ExecuteTime": {
     "end_time": "2020-12-13T19:55:46.102322Z",
     "start_time": "2020-12-13T19:55:20.870874Z"
    },
    "scrolled": true
   },
   "outputs": [],
   "source": [
    "pip install gensim"
   ]
  },
  {
   "cell_type": "code",
   "execution_count": null,
   "metadata": {
    "ExecuteTime": {
     "end_time": "2020-12-13T19:56:03.007896Z",
     "start_time": "2020-12-13T19:55:46.105581Z"
    },
    "scrolled": true
   },
   "outputs": [],
   "source": [
    "pip install pandas"
   ]
  },
  {
   "cell_type": "code",
   "execution_count": null,
   "metadata": {
    "ExecuteTime": {
     "end_time": "2020-12-13T19:56:13.268304Z",
     "start_time": "2020-12-13T19:56:03.010312Z"
    },
    "scrolled": true
   },
   "outputs": [],
   "source": [
    "pip install matplotlib"
   ]
  },
  {
   "cell_type": "code",
   "execution_count": null,
   "metadata": {
    "ExecuteTime": {
     "end_time": "2020-12-13T22:09:54.869248Z",
     "start_time": "2020-12-13T22:09:50.765568Z"
    },
    "scrolled": true
   },
   "outputs": [],
   "source": [
    "pip install \"dask[complete]\""
   ]
  },
  {
   "cell_type": "code",
   "execution_count": null,
   "metadata": {
    "ExecuteTime": {
     "end_time": "2020-12-13T19:56:31.956363Z",
     "start_time": "2020-12-13T19:56:21.059477Z"
    },
    "scrolled": true
   },
   "outputs": [],
   "source": [
    "pip install sklearn"
   ]
  },
  {
   "cell_type": "code",
   "execution_count": null,
   "metadata": {
    "ExecuteTime": {
     "end_time": "2020-12-13T19:56:34.463070Z",
     "start_time": "2020-12-13T19:56:31.957700Z"
    }
   },
   "outputs": [],
   "source": [
    "import nltk\n",
    "\n",
    "nltk.download('stopwords')"
   ]
  },
  {
   "cell_type": "markdown",
   "metadata": {},
   "source": [
    "# Imports\n",
    "\n",
    "Import the required libraries for this project."
   ]
  },
  {
   "cell_type": "code",
   "execution_count": 1,
   "metadata": {
    "ExecuteTime": {
     "end_time": "2020-12-13T20:44:37.747744Z",
     "start_time": "2020-12-13T20:44:36.822032Z"
    }
   },
   "outputs": [],
   "source": [
    "import json\n",
    "import xmltodict as xtd\n",
    "import numpy as np\n",
    "import os\n",
    "from nltk.corpus import stopwords\n",
    "from nltk.tokenize import wordpunct_tokenize\n",
    "from nltk.stem import PorterStemmer\n",
    "from joblib import Parallel, delayed\n",
    "from gensim import corpora\n",
    "from gensim import models\n",
    "import pandas as pd\n",
    "from gensim.similarities import MatrixSimilarity, SparseMatrixSimilarity, Similarity\n",
    "from operator import itemgetter\n",
    "import glob\n",
    "from matplotlib import pyplot as plt\n",
    "import re"
   ]
  },
  {
   "cell_type": "markdown",
   "metadata": {},
   "source": [
    "# File paths\n",
    "\n",
    "Add the paths for the queries file, the texts (documents) and the judements file."
   ]
  },
  {
   "cell_type": "code",
   "execution_count": 2,
   "metadata": {
    "ExecuteTime": {
     "end_time": "2020-12-13T20:44:37.753744Z",
     "start_time": "2020-12-13T20:44:37.748745Z"
    }
   },
   "outputs": [
    {
     "data": {
      "text/plain": [
       "'\\npath_queries = r\"C:/Users/David.Rubio/Desktop/muia/topics-rnd5.xml\"\\npath_texts = \"C:/Users/David.Rubio/Desktop/muia/2020-07-16/document_parses/pdf_json\"\\npath_judgements = \"C:/Users/David.Rubio/Desktop/muia/qrels-covid_d5_j0.5-5.txt\"\\npath_judgements2 = \"C:/Users/David.Rubio/Desktop/muia/qrels-covid_d5_j0.5-5.txt\" '"
      ]
     },
     "execution_count": 2,
     "metadata": {},
     "output_type": "execute_result"
    }
   ],
   "source": [
    "path_queries = r\"B:\\document_parser\\document_parses\\topics-rnd5.xml\"\n",
    "path_texts = \"B:\\document_parser\\document_parses\\pdf_json\"\n",
    "path_judgements = \"B:/document_parser/document_parses/judgements.csv\"\n",
    "\"\"\"\n",
    "path_queries = r\"C:/Users/David.Rubio/Desktop/muia/topics-rnd5.xml\"\n",
    "path_texts = \"C:/Users/David.Rubio/Desktop/muia/2020-07-16/document_parses/pdf_json\"\n",
    "path_judgements = \"C:/Users/David.Rubio/Desktop/muia/qrels-covid_d5_j0.5-5.txt\"\n",
    "path_judgements2 = \"C:/Users/David.Rubio/Desktop/muia/qrels-covid_d5_j0.5-5.txt\" \"\"\""
   ]
  },
  {
   "cell_type": "markdown",
   "metadata": {},
   "source": [
    "# Preprocessing\n",
    "\n",
    "In this section, the dictionary, the bag of words (bow) and the similarity matrix will be generated."
   ]
  },
  {
   "cell_type": "markdown",
   "metadata": {},
   "source": [
    "## Dictionary generation\n",
    "\n",
    "Regarding the dictionary, we found out that there exists another special dictionary called HashDictionary, that doesn't need to be filled before used it. However, it is likely that two different words get the same key. So, we decided to use the basic one in spite of having to fill it before hand."
   ]
  },
  {
   "cell_type": "code",
   "execution_count": 3,
   "metadata": {
    "ExecuteTime": {
     "end_time": "2020-12-13T20:46:50.641762Z",
     "start_time": "2020-12-13T20:44:37.754744Z"
    }
   },
   "outputs": [
    {
     "name": "stdout",
     "output_type": "stream",
     "text": [
      "Dictionary(1392828 unique tokens: ['abl', 'absenc', 'absent', 'abundantli', 'accept']...)\n"
     ]
    }
   ],
   "source": [
    "# 2-5 minutes\n",
    "dictionary = corpora.Dictionary(line.split() for line in open(\"docs.txt\",\"r\"))\n",
    "dictionary.save('covid19.dict')  # store the dictionary, for future reference\n",
    "print(dictionary)"
   ]
  },
  {
   "cell_type": "markdown",
   "metadata": {},
   "source": [
    "## BOW generation\n",
    "\n",
    "First, the stopwords list needs to be assigned to a variable. This list contains the most common words in a language (e.g. 'in', 'the', 'a'...)."
   ]
  },
  {
   "cell_type": "code",
   "execution_count": 4,
   "metadata": {
    "ExecuteTime": {
     "end_time": "2020-12-13T20:46:50.646761Z",
     "start_time": "2020-12-13T20:46:50.642763Z"
    }
   },
   "outputs": [],
   "source": [
    "stopset = set(stopwords.words(\"english\"))"
   ]
  },
  {
   "cell_type": "markdown",
   "metadata": {},
   "source": [
    "The method *preprocess_document* processes a document given a stopword list. In this method, we concatenate the information given by the title, the abstract and the body of he document. These data are the most relevant for making a ranking given a query."
   ]
  },
  {
   "cell_type": "code",
   "execution_count": 5,
   "metadata": {
    "ExecuteTime": {
     "end_time": "2020-12-13T20:46:50.653761Z",
     "start_time": "2020-12-13T20:46:50.647763Z"
    }
   },
   "outputs": [],
   "source": [
    "def preprocess_document(doc,stopset):\n",
    "    title = np.array([doc[\"metadata\"][\"title\"]], dtype=str)\n",
    "    abstract = np.array([paragraph[\"text\"] for paragraph in doc[\"abstract\"]], dtype=str)\n",
    "    text = np.array([paragraph[\"text\"] for paragraph in doc[\"body_text\"]], dtype=str)\n",
    "    stemmer = PorterStemmer()\n",
    "    information = np.concatenate((title, abstract, text))\n",
    "    tokens = np.concatenate(([wordpunct_tokenize(inf) for inf in information]))\n",
    "    clean = [token.lower() for token in tokens if token.lower() not in stopset and len(token) > 2 and not token.isnumeric()]\n",
    "    final = \" \".join([stemmer.stem(word) for word in clean])\n",
    "    return title[0], str(final.encode(\"utf-8\"))"
   ]
  },
  {
   "cell_type": "markdown",
   "metadata": {},
   "source": [
    "We iterate over each file in *path_texts* and write its relevant information (preprocess_document) in one line in docs.txt. **This information will be essential to build the dictionary. This step takes more than an hour so, unless you need to generate the file, we strongly suggest not to remove the comments.**"
   ]
  },
  {
   "cell_type": "code",
   "execution_count": 6,
   "metadata": {
    "ExecuteTime": {
     "end_time": "2020-12-13T20:46:50.657761Z",
     "start_time": "2020-12-13T20:46:50.654760Z"
    }
   },
   "outputs": [],
   "source": [
    "# More than 1 hour\n",
    "#files = glob.glob(path_texts + \"/*.json\")\n",
    "#with open(\"docs.txt\", \"w+\") as f:\n",
    "#    i = 1\n",
    "#    for file in files:\n",
    "#        print(i)\n",
    "#        i+=1\n",
    "#        with open(file) as js:\n",
    "#            file_json = json.load(js)\n",
    "#        _, stems = preprocess_document(file_json, stopset)\n",
    "#        f.write(stems.strip('b\\'')+\"\\n\")"
   ]
  },
  {
   "cell_type": "markdown",
   "metadata": {},
   "source": [
    "The class MyCorpus will help to iterate (\\_\\_iter\\_\\_ method) over each line of a document."
   ]
  },
  {
   "cell_type": "code",
   "execution_count": 7,
   "metadata": {
    "ExecuteTime": {
     "end_time": "2020-12-13T20:46:50.662760Z",
     "start_time": "2020-12-13T20:46:50.658762Z"
    }
   },
   "outputs": [],
   "source": [
    "class MyCorpus:\n",
    "    \n",
    "    def __init__(self, file):\n",
    "        self.path = file\n",
    "        \n",
    "    def __iter__(self):\n",
    "        for line in open(self.path):\n",
    "            # assume there's one document per line, tokens separated by whitespace\n",
    "            yield dictionary.doc2bow(line.split())"
   ]
  },
  {
   "cell_type": "markdown",
   "metadata": {},
   "source": [
    "We iterate over each row in \"docs.txt\" to build the bag of words."
   ]
  },
  {
   "cell_type": "code",
   "execution_count": 8,
   "metadata": {
    "ExecuteTime": {
     "end_time": "2020-12-13T20:49:14.422772Z",
     "start_time": "2020-12-13T20:46:50.663761Z"
    }
   },
   "outputs": [
    {
     "name": "stdout",
     "output_type": "stream",
     "text": [
      "<__main__.MyCorpus object at 0x000001F239FD5D48>\n"
     ]
    }
   ],
   "source": [
    "# 2-5 minutes\n",
    "path_corpus = \"docs.txt\"\n",
    "bow = MyCorpus(path_corpus)\n",
    "corpora.MmCorpus.serialize(\"covid19.mm\", bow, metadata=True)\n",
    "print(bow)"
   ]
  },
  {
   "cell_type": "markdown",
   "metadata": {},
   "source": [
    "## Similarity matrix generation\n",
    "\n",
    "Regarding the similarities, we chose to use Similarity instead of MatrixSimilarity since it allows lazy generation, not making us to store all the data in RAM."
   ]
  },
  {
   "cell_type": "code",
   "execution_count": 9,
   "metadata": {
    "ExecuteTime": {
     "end_time": "2020-12-13T20:52:46.860201Z",
     "start_time": "2020-12-13T20:49:14.423772Z"
    }
   },
   "outputs": [],
   "source": [
    "# 3-5 minutes\n",
    "index = Similarity(None, corpus = bow, num_features=len(dictionary))  # create index\n",
    "index.save(\"covid19.index\")"
   ]
  },
  {
   "cell_type": "markdown",
   "metadata": {},
   "source": [
    "# Data load \n",
    "\n",
    "In this section, relevant information will be loaded locally (title, judgmenets...). This information is useful during the evaluation step."
   ]
  },
  {
   "cell_type": "markdown",
   "metadata": {},
   "source": [
    "## Titles\n",
    "\n",
    "The title and the paper_id for each document in \"path_texts\" are needed to link the paper_id retrieved by the model with the title.\n",
    "\n",
    "For this task, dask is used to reduce the computing time (parallel computing): 6 workers with 2 threads per worker."
   ]
  },
  {
   "cell_type": "code",
   "execution_count": 10,
   "metadata": {
    "ExecuteTime": {
     "end_time": "2020-12-13T20:52:48.350889Z",
     "start_time": "2020-12-13T20:52:46.862201Z"
    }
   },
   "outputs": [
    {
     "data": {
      "text/html": [
       "<table style=\"border: 2px solid white;\">\n",
       "<tr>\n",
       "<td style=\"vertical-align: top; border: 0px solid white\">\n",
       "<h3 style=\"text-align: left;\">Client</h3>\n",
       "<ul style=\"text-align: left; list-style: none; margin: 0; padding: 0;\">\n",
       "  <li><b>Scheduler: </b>tcp://127.0.0.1:50391</li>\n",
       "  <li><b>Dashboard: </b><a href='http://127.0.0.1:8787/status' target='_blank'>http://127.0.0.1:8787/status</a>\n",
       "</ul>\n",
       "</td>\n",
       "<td style=\"vertical-align: top; border: 0px solid white\">\n",
       "<h3 style=\"text-align: left;\">Cluster</h3>\n",
       "<ul style=\"text-align: left; list-style:none; margin: 0; padding: 0;\">\n",
       "  <li><b>Workers: </b>6</li>\n",
       "  <li><b>Cores: </b>12</li>\n",
       "  <li><b>Memory: </b>34.31 GB</li>\n",
       "</ul>\n",
       "</td>\n",
       "</tr>\n",
       "</table>"
      ],
      "text/plain": [
       "<Client: 'tcp://127.0.0.1:50391' processes=6 threads=12, memory=34.31 GB>"
      ]
     },
     "execution_count": 10,
     "metadata": {},
     "output_type": "execute_result"
    }
   ],
   "source": [
    "import dask.bag as db\n",
    "from dask.distributed import Client, progress\n",
    "client = Client(n_workers=6, threads_per_worker=2)\n",
    "\n",
    "client"
   ]
  },
  {
   "cell_type": "markdown",
   "metadata": {},
   "source": [
    "The method load_dataset calls load_json for each file in the path (document). For each document, load_json calls load_document to get the paper_id, the title, the abstract and the body of the document."
   ]
  },
  {
   "cell_type": "code",
   "execution_count": 11,
   "metadata": {
    "ExecuteTime": {
     "end_time": "2020-12-13T20:52:48.356891Z",
     "start_time": "2020-12-13T20:52:48.351890Z"
    }
   },
   "outputs": [],
   "source": [
    "def load_dataset(path):\n",
    "    files = glob.glob(path + \"/*.json\")\n",
    "    b = db.from_sequence(files).map(load_json)\n",
    "    df = b.to_dataframe(columns=[\"id\", \"title\", \"abstract\", \"body\"])\n",
    "    return df\n",
    "\n",
    "def load_document(doc):\n",
    "    title = doc[\"metadata\"][\"title\"]\n",
    "    abstract = \" \".join([paragraph[\"text\"] for paragraph in doc[\"abstract\"]])\n",
    "    text = \" \".join([paragraph[\"text\"] for paragraph in doc[\"body_text\"]])\n",
    "    returned = {}\n",
    "    returned[\"id\"] = doc[\"paper_id\"]\n",
    "    returned[\"title\"] = title\n",
    "    returned[\"abstract\"] = abstract\n",
    "    returned[\"body\"] = text\n",
    "    return returned\n",
    "\n",
    "def load_json(file_path):\n",
    "    with open(file_path) as file:\n",
    "        file_json = json.load(file)\n",
    "    returned = load_document(file_json)\n",
    "    return returned"
   ]
  },
  {
   "cell_type": "markdown",
   "metadata": {},
   "source": [
    "The dataset is built (dataframe with paper_id, title, abstract and body columns for each document in \"path_texts\"). Then, the relevant parts of each row are selected (id and title)."
   ]
  },
  {
   "cell_type": "code",
   "execution_count": 12,
   "metadata": {
    "ExecuteTime": {
     "end_time": "2020-12-13T20:52:49.174988Z",
     "start_time": "2020-12-13T20:52:48.357890Z"
    }
   },
   "outputs": [],
   "source": [
    "dataset = load_dataset(path_texts)"
   ]
  },
  {
   "cell_type": "code",
   "execution_count": 13,
   "metadata": {
    "ExecuteTime": {
     "end_time": "2020-12-13T20:54:25.505989Z",
     "start_time": "2020-12-13T20:52:49.175989Z"
    }
   },
   "outputs": [],
   "source": [
    "# 2-3 minutes\n",
    "titles = dataset[[\"id\",\"title\"]].compute()"
   ]
  },
  {
   "cell_type": "code",
   "execution_count": 14,
   "metadata": {
    "ExecuteTime": {
     "end_time": "2020-12-13T20:54:25.514987Z",
     "start_time": "2020-12-13T20:54:25.506988Z"
    }
   },
   "outputs": [
    {
     "data": {
      "text/html": [
       "<div>\n",
       "<style scoped>\n",
       "    .dataframe tbody tr th:only-of-type {\n",
       "        vertical-align: middle;\n",
       "    }\n",
       "\n",
       "    .dataframe tbody tr th {\n",
       "        vertical-align: top;\n",
       "    }\n",
       "\n",
       "    .dataframe thead th {\n",
       "        text-align: right;\n",
       "    }\n",
       "</style>\n",
       "<table border=\"1\" class=\"dataframe\">\n",
       "  <thead>\n",
       "    <tr style=\"text-align: right;\">\n",
       "      <th></th>\n",
       "      <th>id</th>\n",
       "      <th>title</th>\n",
       "    </tr>\n",
       "  </thead>\n",
       "  <tbody>\n",
       "    <tr>\n",
       "      <th>0</th>\n",
       "      <td>0001418189999fea7f7cbe3e82703d71c85a6fe5</td>\n",
       "      <td>Absence of surface expression of feline infect...</td>\n",
       "    </tr>\n",
       "    <tr>\n",
       "      <th>1</th>\n",
       "      <td>0003793cf9e709bc2b9d0c8111186f78fb73fc04</td>\n",
       "      <td>Title: Rethinking high-risk groups in COVID-19</td>\n",
       "    </tr>\n",
       "    <tr>\n",
       "      <th>2</th>\n",
       "      <td>000379d7a7f37a2ccb978862b9f2016bd03259ea</td>\n",
       "      <td>ScienceDirect ScienceDirect Effect of Nanomate...</td>\n",
       "    </tr>\n",
       "    <tr>\n",
       "      <th>3</th>\n",
       "      <td>00039b94e6cb7609ecbddee1755314bcfeb77faa</td>\n",
       "      <td>Plasma inflammatory cytokines and chemokines i...</td>\n",
       "    </tr>\n",
       "    <tr>\n",
       "      <th>4</th>\n",
       "      <td>0003ddc51c4291d742855e9ac56076a3bea33ad7</td>\n",
       "      <td>Journal Pre-proofs The Fire This Time: The Str...</td>\n",
       "    </tr>\n",
       "    <tr>\n",
       "      <th>...</th>\n",
       "      <td>...</td>\n",
       "      <td>...</td>\n",
       "    </tr>\n",
       "    <tr>\n",
       "      <th>15</th>\n",
       "      <td>fff8b9e88db122ffcbaf1daf6b697e44eaaffd93</td>\n",
       "      <td>Septic shock caused by Mycobacterium tuberculo...</td>\n",
       "    </tr>\n",
       "    <tr>\n",
       "      <th>16</th>\n",
       "      <td>fffaed7e9353b7df6c4ca8f66b62e117013cb86d</td>\n",
       "      <td>Dengue Virus Glycosylation: What Do We Know?</td>\n",
       "    </tr>\n",
       "    <tr>\n",
       "      <th>17</th>\n",
       "      <td>fffb268f02887d8680dc611f6fc0b20c489030cb</td>\n",
       "      <td>Emergence of novel coronavirus and progress to...</td>\n",
       "    </tr>\n",
       "    <tr>\n",
       "      <th>18</th>\n",
       "      <td>fffc88be66eb39823fc9b50f0683e06a3038c9fe</td>\n",
       "      <td>A fractional-order compartmental model for pre...</td>\n",
       "    </tr>\n",
       "    <tr>\n",
       "      <th>19</th>\n",
       "      <td>ffff2fb21d4880b63a7cf3849cecc45bc596f4f0</td>\n",
       "      <td>Comparison of SARS-CoV-2 detection in nasophar...</td>\n",
       "    </tr>\n",
       "  </tbody>\n",
       "</table>\n",
       "<p>84420 rows × 2 columns</p>\n",
       "</div>"
      ],
      "text/plain": [
       "                                          id  \\\n",
       "0   0001418189999fea7f7cbe3e82703d71c85a6fe5   \n",
       "1   0003793cf9e709bc2b9d0c8111186f78fb73fc04   \n",
       "2   000379d7a7f37a2ccb978862b9f2016bd03259ea   \n",
       "3   00039b94e6cb7609ecbddee1755314bcfeb77faa   \n",
       "4   0003ddc51c4291d742855e9ac56076a3bea33ad7   \n",
       "..                                       ...   \n",
       "15  fff8b9e88db122ffcbaf1daf6b697e44eaaffd93   \n",
       "16  fffaed7e9353b7df6c4ca8f66b62e117013cb86d   \n",
       "17  fffb268f02887d8680dc611f6fc0b20c489030cb   \n",
       "18  fffc88be66eb39823fc9b50f0683e06a3038c9fe   \n",
       "19  ffff2fb21d4880b63a7cf3849cecc45bc596f4f0   \n",
       "\n",
       "                                                title  \n",
       "0   Absence of surface expression of feline infect...  \n",
       "1      Title: Rethinking high-risk groups in COVID-19  \n",
       "2   ScienceDirect ScienceDirect Effect of Nanomate...  \n",
       "3   Plasma inflammatory cytokines and chemokines i...  \n",
       "4   Journal Pre-proofs The Fire This Time: The Str...  \n",
       "..                                                ...  \n",
       "15  Septic shock caused by Mycobacterium tuberculo...  \n",
       "16       Dengue Virus Glycosylation: What Do We Know?  \n",
       "17  Emergence of novel coronavirus and progress to...  \n",
       "18  A fractional-order compartmental model for pre...  \n",
       "19  Comparison of SARS-CoV-2 detection in nasophar...  \n",
       "\n",
       "[84420 rows x 2 columns]"
      ]
     },
     "execution_count": 14,
     "metadata": {},
     "output_type": "execute_result"
    }
   ],
   "source": [
    "titles"
   ]
  },
  {
   "cell_type": "markdown",
   "metadata": {},
   "source": [
    "## Judgements\n",
    "\n",
    "The next file needed for the evaluation is the judgements. This file contains for each query a set of cord_uid (unique identifiers for each paper) and, linked with each pair (query, cord_uid), the score (relevance). The score can be 0,1 or 2 so, the first step is to binarize it (1 if the score is greater or equal to 1, and 0 otherwise). The documents selected for each query comes from the suggestions given by different search engines. With these documents, a \"pool\" is generated and experts analyze if the documents in the pool are relevant for the query or not. The content of judgements will be the key to evaluate the performance of the model."
   ]
  },
  {
   "cell_type": "code",
   "execution_count": 15,
   "metadata": {
    "ExecuteTime": {
     "end_time": "2020-12-13T20:54:25.564988Z",
     "start_time": "2020-12-13T20:54:25.515990Z"
    }
   },
   "outputs": [
    {
     "data": {
      "text/html": [
       "<div>\n",
       "<style scoped>\n",
       "    .dataframe tbody tr th:only-of-type {\n",
       "        vertical-align: middle;\n",
       "    }\n",
       "\n",
       "    .dataframe tbody tr th {\n",
       "        vertical-align: top;\n",
       "    }\n",
       "\n",
       "    .dataframe thead th {\n",
       "        text-align: right;\n",
       "    }\n",
       "</style>\n",
       "<table border=\"1\" class=\"dataframe\">\n",
       "  <thead>\n",
       "    <tr style=\"text-align: right;\">\n",
       "      <th></th>\n",
       "      <th>query</th>\n",
       "      <th>cord_uid</th>\n",
       "      <th>score</th>\n",
       "      <th>binary_score</th>\n",
       "    </tr>\n",
       "  </thead>\n",
       "  <tbody>\n",
       "    <tr>\n",
       "      <th>0</th>\n",
       "      <td>1</td>\n",
       "      <td>005b2j4b</td>\n",
       "      <td>2</td>\n",
       "      <td>1.0</td>\n",
       "    </tr>\n",
       "    <tr>\n",
       "      <th>1</th>\n",
       "      <td>1</td>\n",
       "      <td>00fmeepz</td>\n",
       "      <td>1</td>\n",
       "      <td>1.0</td>\n",
       "    </tr>\n",
       "    <tr>\n",
       "      <th>2</th>\n",
       "      <td>1</td>\n",
       "      <td>010vptx3</td>\n",
       "      <td>2</td>\n",
       "      <td>1.0</td>\n",
       "    </tr>\n",
       "    <tr>\n",
       "      <th>3</th>\n",
       "      <td>1</td>\n",
       "      <td>0194oljo</td>\n",
       "      <td>1</td>\n",
       "      <td>1.0</td>\n",
       "    </tr>\n",
       "    <tr>\n",
       "      <th>4</th>\n",
       "      <td>1</td>\n",
       "      <td>021q9884</td>\n",
       "      <td>1</td>\n",
       "      <td>1.0</td>\n",
       "    </tr>\n",
       "    <tr>\n",
       "      <th>...</th>\n",
       "      <td>...</td>\n",
       "      <td>...</td>\n",
       "      <td>...</td>\n",
       "      <td>...</td>\n",
       "    </tr>\n",
       "    <tr>\n",
       "      <th>69313</th>\n",
       "      <td>50</td>\n",
       "      <td>zvop8bxh</td>\n",
       "      <td>2</td>\n",
       "      <td>1.0</td>\n",
       "    </tr>\n",
       "    <tr>\n",
       "      <th>69314</th>\n",
       "      <td>50</td>\n",
       "      <td>zwf26o63</td>\n",
       "      <td>1</td>\n",
       "      <td>1.0</td>\n",
       "    </tr>\n",
       "    <tr>\n",
       "      <th>69315</th>\n",
       "      <td>50</td>\n",
       "      <td>zwsvlnwe</td>\n",
       "      <td>0</td>\n",
       "      <td>0.0</td>\n",
       "    </tr>\n",
       "    <tr>\n",
       "      <th>69316</th>\n",
       "      <td>50</td>\n",
       "      <td>zxr01yln</td>\n",
       "      <td>1</td>\n",
       "      <td>1.0</td>\n",
       "    </tr>\n",
       "    <tr>\n",
       "      <th>69317</th>\n",
       "      <td>50</td>\n",
       "      <td>zz8wvos9</td>\n",
       "      <td>1</td>\n",
       "      <td>1.0</td>\n",
       "    </tr>\n",
       "  </tbody>\n",
       "</table>\n",
       "<p>69318 rows × 4 columns</p>\n",
       "</div>"
      ],
      "text/plain": [
       "       query  cord_uid  score  binary_score\n",
       "0          1  005b2j4b      2           1.0\n",
       "1          1  00fmeepz      1           1.0\n",
       "2          1  010vptx3      2           1.0\n",
       "3          1  0194oljo      1           1.0\n",
       "4          1  021q9884      1           1.0\n",
       "...      ...       ...    ...           ...\n",
       "69313     50  zvop8bxh      2           1.0\n",
       "69314     50  zwf26o63      1           1.0\n",
       "69315     50  zwsvlnwe      0           0.0\n",
       "69316     50  zxr01yln      1           1.0\n",
       "69317     50  zz8wvos9      1           1.0\n",
       "\n",
       "[69318 rows x 4 columns]"
      ]
     },
     "execution_count": 15,
     "metadata": {},
     "output_type": "execute_result"
    }
   ],
   "source": [
    "def load_judgements(path_judgements):\n",
    "    judgements = pd.read_csv(path_judgements, delimiter=' ', names = [\"query\", \"cord_uid\", \"score\"], usecols=[0,2,3])\n",
    "    judgements.loc[judgements['score'] < 1, 'binary_score'] = 0\n",
    "    judgements.loc[judgements['score'] >=1 , 'binary_score'] = 1\n",
    "    return judgements\n",
    "\n",
    "judgements = load_judgements(path_judgements2)\n",
    "judgements"
   ]
  },
  {
   "cell_type": "markdown",
   "metadata": {},
   "source": [
    "## Queries\n",
    "\n",
    "The content of the file help to link the number of the query in the judgements file with the text of the query."
   ]
  },
  {
   "cell_type": "code",
   "execution_count": 16,
   "metadata": {
    "ExecuteTime": {
     "end_time": "2020-12-13T20:54:25.578989Z",
     "start_time": "2020-12-13T20:54:25.565991Z"
    }
   },
   "outputs": [
    {
     "data": {
      "text/html": [
       "<div>\n",
       "<style scoped>\n",
       "    .dataframe tbody tr th:only-of-type {\n",
       "        vertical-align: middle;\n",
       "    }\n",
       "\n",
       "    .dataframe tbody tr th {\n",
       "        vertical-align: top;\n",
       "    }\n",
       "\n",
       "    .dataframe thead th {\n",
       "        text-align: right;\n",
       "    }\n",
       "</style>\n",
       "<table border=\"1\" class=\"dataframe\">\n",
       "  <thead>\n",
       "    <tr style=\"text-align: right;\">\n",
       "      <th></th>\n",
       "      <th>query</th>\n",
       "    </tr>\n",
       "  </thead>\n",
       "  <tbody>\n",
       "    <tr>\n",
       "      <th>1</th>\n",
       "      <td>coronavirus origin</td>\n",
       "    </tr>\n",
       "    <tr>\n",
       "      <th>2</th>\n",
       "      <td>coronavirus response to weather changes</td>\n",
       "    </tr>\n",
       "    <tr>\n",
       "      <th>3</th>\n",
       "      <td>coronavirus immunity</td>\n",
       "    </tr>\n",
       "    <tr>\n",
       "      <th>4</th>\n",
       "      <td>how do people die from the coronavirus</td>\n",
       "    </tr>\n",
       "    <tr>\n",
       "      <th>5</th>\n",
       "      <td>animal models of COVID-19</td>\n",
       "    </tr>\n",
       "  </tbody>\n",
       "</table>\n",
       "</div>"
      ],
      "text/plain": [
       "                                     query\n",
       "1                       coronavirus origin\n",
       "2  coronavirus response to weather changes\n",
       "3                     coronavirus immunity\n",
       "4   how do people die from the coronavirus\n",
       "5                animal models of COVID-19"
      ]
     },
     "execution_count": 16,
     "metadata": {},
     "output_type": "execute_result"
    }
   ],
   "source": [
    "def load_queries(queries_path):\n",
    "    \"\"\"\n",
    "    Receives the path of the queries files and returns a dictionary containing all the queries.\n",
    "\n",
    "    Parameters\n",
    "    ----------\n",
    "    queries_path : path of the queries file\n",
    "\n",
    "    Returns\n",
    "    -------\n",
    "    df : dataframe\n",
    "\n",
    "    \"\"\"\n",
    "    with open(queries_path, \"r\") as xml_file:\n",
    "        data_dict = xtd.parse(xml_file.read())\n",
    "    xml_file.close()\n",
    "\n",
    "    dic_queries = {}\n",
    "    for query in data_dict[\"topics\"][\"topic\"]:\n",
    "        dic_queries[query[\"@number\"]] = query[\"query\"]\n",
    "\n",
    "    df = pd.DataFrame.from_dict(dic_queries, orient='index', columns=['query'])\n",
    "\n",
    "    return df\n",
    "\n",
    "queries = load_queries(path_queries)\n",
    "queries.head()"
   ]
  },
  {
   "cell_type": "markdown",
   "metadata": {},
   "source": [
    "## Metadata"
   ]
  },
  {
   "cell_type": "markdown",
   "metadata": {},
   "source": [
    "The metadata file link the identifier of the paper used for indexing the documents with the cord_uid given in the judgements file."
   ]
  },
  {
   "cell_type": "code",
   "execution_count": 17,
   "metadata": {
    "ExecuteTime": {
     "end_time": "2020-12-13T20:54:25.583988Z",
     "start_time": "2020-12-13T20:54:25.579988Z"
    }
   },
   "outputs": [],
   "source": [
    "path_metadata = \"B:/document_parser/document_parses/metadata.csv\"\n",
    "# path_metadata = \"C:/Users/David.Rubio/Desktop/muia/2020-07-16/metadata.csv\""
   ]
  },
  {
   "cell_type": "code",
   "execution_count": 18,
   "metadata": {
    "ExecuteTime": {
     "end_time": "2020-12-13T20:54:27.042987Z",
     "start_time": "2020-12-13T20:54:25.584988Z"
    }
   },
   "outputs": [],
   "source": [
    "metadata = pd.read_csv(path_metadata, header = 0, usecols = [0,1])"
   ]
  },
  {
   "cell_type": "code",
   "execution_count": 19,
   "metadata": {
    "ExecuteTime": {
     "end_time": "2020-12-13T20:54:27.509988Z",
     "start_time": "2020-12-13T20:54:27.043989Z"
    }
   },
   "outputs": [
    {
     "data": {
      "text/html": [
       "<div>\n",
       "<style scoped>\n",
       "    .dataframe tbody tr th:only-of-type {\n",
       "        vertical-align: middle;\n",
       "    }\n",
       "\n",
       "    .dataframe tbody tr th {\n",
       "        vertical-align: top;\n",
       "    }\n",
       "\n",
       "    .dataframe thead th {\n",
       "        text-align: right;\n",
       "    }\n",
       "</style>\n",
       "<table border=\"1\" class=\"dataframe\">\n",
       "  <thead>\n",
       "    <tr style=\"text-align: right;\">\n",
       "      <th></th>\n",
       "      <th>cord_uid</th>\n",
       "      <th>sha</th>\n",
       "    </tr>\n",
       "  </thead>\n",
       "  <tbody>\n",
       "    <tr>\n",
       "      <th>0</th>\n",
       "      <td>ug7v899j</td>\n",
       "      <td>d1aafb70c066a2068b02786f8929fd9c900897fb</td>\n",
       "    </tr>\n",
       "    <tr>\n",
       "      <th>1</th>\n",
       "      <td>02tnwd4m</td>\n",
       "      <td>6b0567729c2143a66d737eb0a2f63f2dce2e5a7d</td>\n",
       "    </tr>\n",
       "    <tr>\n",
       "      <th>2</th>\n",
       "      <td>ejv2xln0</td>\n",
       "      <td>06ced00a5fc04215949aa72528f2eeaae1d58927</td>\n",
       "    </tr>\n",
       "    <tr>\n",
       "      <th>3</th>\n",
       "      <td>2b73a28n</td>\n",
       "      <td>348055649b6b8cf2b9a376498df9bf41f7123605</td>\n",
       "    </tr>\n",
       "    <tr>\n",
       "      <th>4</th>\n",
       "      <td>9785vg6d</td>\n",
       "      <td>5f48792a5fa08bed9f56016f4981ae2ca6031b32</td>\n",
       "    </tr>\n",
       "    <tr>\n",
       "      <th>...</th>\n",
       "      <td>...</td>\n",
       "      <td>...</td>\n",
       "    </tr>\n",
       "    <tr>\n",
       "      <th>320513</th>\n",
       "      <td>jwp8f10m</td>\n",
       "      <td>fc8e76ad02e87bd7d66d5e952a23d1d15480e27c</td>\n",
       "    </tr>\n",
       "    <tr>\n",
       "      <th>320514</th>\n",
       "      <td>r21k0gku</td>\n",
       "      <td>c7c88bf0abd741c2969d03f55373a729ddfcd802</td>\n",
       "    </tr>\n",
       "    <tr>\n",
       "      <th>320515</th>\n",
       "      <td>jx8wulcg</td>\n",
       "      <td>a183646896ed073a4ec4035c5b6c6c77db89f0b3</td>\n",
       "    </tr>\n",
       "    <tr>\n",
       "      <th>320516</th>\n",
       "      <td>q1fzxt3r</td>\n",
       "      <td>c4e99c8b861f4457b4a0518860bc9e52f5348e87</td>\n",
       "    </tr>\n",
       "    <tr>\n",
       "      <th>320517</th>\n",
       "      <td>3gg7ju6f</td>\n",
       "      <td>30fcdec34c5743310e04d2afc601ac4311eb0288</td>\n",
       "    </tr>\n",
       "  </tbody>\n",
       "</table>\n",
       "<p>327142 rows × 2 columns</p>\n",
       "</div>"
      ],
      "text/plain": [
       "        cord_uid                                       sha\n",
       "0       ug7v899j  d1aafb70c066a2068b02786f8929fd9c900897fb\n",
       "1       02tnwd4m  6b0567729c2143a66d737eb0a2f63f2dce2e5a7d\n",
       "2       ejv2xln0  06ced00a5fc04215949aa72528f2eeaae1d58927\n",
       "3       2b73a28n  348055649b6b8cf2b9a376498df9bf41f7123605\n",
       "4       9785vg6d  5f48792a5fa08bed9f56016f4981ae2ca6031b32\n",
       "...          ...                                       ...\n",
       "320513  jwp8f10m  fc8e76ad02e87bd7d66d5e952a23d1d15480e27c\n",
       "320514  r21k0gku  c7c88bf0abd741c2969d03f55373a729ddfcd802\n",
       "320515  jx8wulcg  a183646896ed073a4ec4035c5b6c6c77db89f0b3\n",
       "320516  q1fzxt3r  c4e99c8b861f4457b4a0518860bc9e52f5348e87\n",
       "320517  3gg7ju6f  30fcdec34c5743310e04d2afc601ac4311eb0288\n",
       "\n",
       "[327142 rows x 2 columns]"
      ]
     },
     "execution_count": 19,
     "metadata": {},
     "output_type": "execute_result"
    }
   ],
   "source": [
    "metadata = metadata.assign(sha=metadata.sha.str.split('; ')).explode('sha') # some cord_uid have more than 1 sha associated\n",
    "metadata"
   ]
  },
  {
   "cell_type": "code",
   "execution_count": 20,
   "metadata": {
    "ExecuteTime": {
     "end_time": "2020-12-13T20:54:27.524988Z",
     "start_time": "2020-12-13T20:54:27.510987Z"
    }
   },
   "outputs": [
    {
     "data": {
      "text/plain": [
       "204463"
      ]
     },
     "execution_count": 20,
     "metadata": {},
     "output_type": "execute_result"
    }
   ],
   "source": [
    "metadata['sha'].isnull().values.sum()"
   ]
  },
  {
   "cell_type": "code",
   "execution_count": 21,
   "metadata": {
    "ExecuteTime": {
     "end_time": "2020-12-13T20:54:27.554987Z",
     "start_time": "2020-12-13T20:54:27.525990Z"
    }
   },
   "outputs": [],
   "source": [
    "metadata = metadata.dropna()"
   ]
  },
  {
   "cell_type": "markdown",
   "metadata": {},
   "source": [
    "# Retrieval models"
   ]
  },
  {
   "cell_type": "markdown",
   "metadata": {},
   "source": [
    "## TFIDF Model\n",
    "\n",
    "The TFIDF (Term Frequency Inversed Document Frequency) model is a numerical statistical model. This model returns a score which indicates how important is a word/query for a document in a corpus (collection). This score is proportional to the number of times the word(s) appears (tf) and inversely proportional to the number of documents that contains this word(s)."
   ]
  },
  {
   "cell_type": "markdown",
   "metadata": {},
   "source": [
    "The first thing that we need to do is loading the bag of words created before."
   ]
  },
  {
   "cell_type": "code",
   "execution_count": 22,
   "metadata": {
    "ExecuteTime": {
     "end_time": "2020-12-13T20:54:27.577990Z",
     "start_time": "2020-12-13T20:54:27.555987Z"
    }
   },
   "outputs": [],
   "source": [
    "bow = corpora.MmCorpus('covid19.mm')"
   ]
  },
  {
   "cell_type": "markdown",
   "metadata": {},
   "source": [
    "Then, we also load the dictionary and the similarity matrix."
   ]
  },
  {
   "cell_type": "code",
   "execution_count": 23,
   "metadata": {
    "ExecuteTime": {
     "end_time": "2020-12-13T20:54:28.372990Z",
     "start_time": "2020-12-13T20:54:27.578989Z"
    }
   },
   "outputs": [],
   "source": [
    "dictionary = corpora.Dictionary.load(\"covid19.dict\")"
   ]
  },
  {
   "cell_type": "code",
   "execution_count": 24,
   "metadata": {
    "ExecuteTime": {
     "end_time": "2020-12-13T20:54:28.380988Z",
     "start_time": "2020-12-13T20:54:28.373987Z"
    }
   },
   "outputs": [],
   "source": [
    "similarities = Similarity.load(\"covid19.index\")"
   ]
  },
  {
   "cell_type": "markdown",
   "metadata": {},
   "source": [
    "Once we loaded the bow, dictionary and similarities, we are able to create our TFIDF model."
   ]
  },
  {
   "cell_type": "code",
   "execution_count": 25,
   "metadata": {
    "ExecuteTime": {
     "end_time": "2020-12-13T20:55:33.173987Z",
     "start_time": "2020-12-13T20:54:28.384988Z"
    }
   },
   "outputs": [],
   "source": [
    "# 1-2 minutes\n",
    "# Default model uses nfc from SMART notation.\n",
    "model_tfidf = models.TfidfModel(bow)"
   ]
  },
  {
   "cell_type": "markdown",
   "metadata": {},
   "source": [
    "We create a function to execute a query that returns the ranking of documents retrieved for that specific query. Moreover, a util function to preprocess the query is created:"
   ]
  },
  {
   "cell_type": "code",
   "execution_count": 26,
   "metadata": {
    "ExecuteTime": {
     "end_time": "2020-12-13T20:55:33.180990Z",
     "start_time": "2020-12-13T20:55:33.174990Z"
    }
   },
   "outputs": [],
   "source": [
    "def launch_query_tfidf(model, dictionary, bow, index, query, titles, verbose = 0):\n",
    "    \"\"\"\n",
    "    Given a specific query, it returns the ranking of documents.\n",
    "    \n",
    "    Parameters\n",
    "    ----------\n",
    "    model : tfidf model\n",
    "    dictionary: dictionary created\n",
    "    bow: bag of words\n",
    "    index: similarities matrix\n",
    "    query: specific query\n",
    "    titles: dataframe of the titles\n",
    "    verbose: flag for printing messages\n",
    "    \n",
    "    Returns\n",
    "    -------\n",
    "    ranking: ranking for the query in this format: [(doc_position, score), (doc_position, score), ... ]\n",
    "    similarities: similarities matrix\n",
    "\n",
    "    \"\"\"\n",
    "    stopset = set(stopwords.words(\"english\"))\n",
    "    index = index\n",
    "    pq = preprocess_query_tfidf(query, stopset)\n",
    "    vq = dictionary.doc2bow(pq)\n",
    "    qtfidf = model[vq]\n",
    "    sim = index[qtfidf]\n",
    "    ranking = sorted(enumerate(sim), key=itemgetter(1), reverse=True)\n",
    "    if verbose:\n",
    "        print(\"Query ==> \"+query)\n",
    "        for doc, score in ranking[:5]:\n",
    "            print(\"[ Score = \" + \"%.3f\" % round(score,3) + \" ] \" + titles['title'].iloc[doc])\n",
    "    return ranking, sim\n",
    "        \n",
    "def preprocess_query_tfidf(query, stopset):\n",
    "    \"\"\"\n",
    "    Basic function that preprocess a query given a stopset: tokenization, lower case, stopwords removal and stemming.\n",
    "    \n",
    "    Parameters\n",
    "    ----------\n",
    "    query: query to preprocess\n",
    "    stopset: set containing stopwords\n",
    "    \n",
    "    Returns\n",
    "    -------\n",
    "    stems: stems of the given query\n",
    "    \n",
    "    \"\"\"\n",
    "    stemmer = PorterStemmer()\n",
    "    tokens = wordpunct_tokenize(query)\n",
    "    clean = [token.lower() for token in tokens if token.lower() not in stopset and len(token) > 2]\n",
    "    stems = [stemmer.stem(word) for word in clean]\n",
    "    return stems"
   ]
  },
  {
   "cell_type": "markdown",
   "metadata": {},
   "source": [
    "We execute it to show you how it works. (Notice that in this case verbose is marked as 1)"
   ]
  },
  {
   "cell_type": "code",
   "execution_count": 27,
   "metadata": {
    "ExecuteTime": {
     "end_time": "2020-12-13T20:55:33.469988Z",
     "start_time": "2020-12-13T20:55:33.181990Z"
    }
   },
   "outputs": [
    {
     "name": "stdout",
     "output_type": "stream",
     "text": [
      "Query ==> coronavirus response to weather changes\n",
      "[ Score = 0.421 ] Advice-giving in newspaper weather commentaries\n",
      "[ Score = 0.387 ] Severe weather warnings predict fracture epidemics\n",
      "[ Score = 0.348 ] The Weather Impacts the Outbreak of COVID-19 in Mainland China\n",
      "[ Score = 0.324 ] Comparison of culturable antibiotic-resistant bacteria in polluted and non- polluted air in Beijing, China\n",
      "[ Score = 0.292 ] Weather-Dependent Risk for Legionnaires' Disease, United States Legionella pneumophila [leʺjə-nelʹə nooʺmo-filʹə]\n"
     ]
    }
   ],
   "source": [
    "ranking, sim = launch_query_tfidf(model_tfidf, dictionary, bow, similarities, queries.iloc[1][0], titles, verbose = 1)"
   ]
  },
  {
   "cell_type": "markdown",
   "metadata": {},
   "source": [
    "### Example of evaluation\n",
    "\n",
    "Once we are able to launch queries, it's time for evaluation. We are going to show you step by step the process of evaluation for the query launched before. Once this process is explained, we will create parameterized functions in order to improve the quality and organization of our code, making us able to reuse it later.\n",
    "\n",
    "The first thing that we do is creating a dataframe from the ranking obtained."
   ]
  },
  {
   "cell_type": "code",
   "execution_count": 28,
   "metadata": {
    "ExecuteTime": {
     "end_time": "2020-12-13T20:55:33.623990Z",
     "start_time": "2020-12-13T20:55:33.470990Z"
    }
   },
   "outputs": [
    {
     "data": {
      "text/html": [
       "<div>\n",
       "<style scoped>\n",
       "    .dataframe tbody tr th:only-of-type {\n",
       "        vertical-align: middle;\n",
       "    }\n",
       "\n",
       "    .dataframe tbody tr th {\n",
       "        vertical-align: top;\n",
       "    }\n",
       "\n",
       "    .dataframe thead th {\n",
       "        text-align: right;\n",
       "    }\n",
       "</style>\n",
       "<table border=\"1\" class=\"dataframe\">\n",
       "  <thead>\n",
       "    <tr style=\"text-align: right;\">\n",
       "      <th></th>\n",
       "      <th>doc_position</th>\n",
       "      <th>rel_score</th>\n",
       "    </tr>\n",
       "  </thead>\n",
       "  <tbody>\n",
       "    <tr>\n",
       "      <th>0</th>\n",
       "      <td>54321</td>\n",
       "      <td>0.420703</td>\n",
       "    </tr>\n",
       "    <tr>\n",
       "      <th>1</th>\n",
       "      <td>12462</td>\n",
       "      <td>0.387222</td>\n",
       "    </tr>\n",
       "    <tr>\n",
       "      <th>2</th>\n",
       "      <td>11917</td>\n",
       "      <td>0.348274</td>\n",
       "    </tr>\n",
       "    <tr>\n",
       "      <th>3</th>\n",
       "      <td>83769</td>\n",
       "      <td>0.323658</td>\n",
       "    </tr>\n",
       "    <tr>\n",
       "      <th>4</th>\n",
       "      <td>41404</td>\n",
       "      <td>0.292001</td>\n",
       "    </tr>\n",
       "    <tr>\n",
       "      <th>...</th>\n",
       "      <td>...</td>\n",
       "      <td>...</td>\n",
       "    </tr>\n",
       "    <tr>\n",
       "      <th>84415</th>\n",
       "      <td>84377</td>\n",
       "      <td>0.000000</td>\n",
       "    </tr>\n",
       "    <tr>\n",
       "      <th>84416</th>\n",
       "      <td>84391</td>\n",
       "      <td>0.000000</td>\n",
       "    </tr>\n",
       "    <tr>\n",
       "      <th>84417</th>\n",
       "      <td>84397</td>\n",
       "      <td>0.000000</td>\n",
       "    </tr>\n",
       "    <tr>\n",
       "      <th>84418</th>\n",
       "      <td>84407</td>\n",
       "      <td>0.000000</td>\n",
       "    </tr>\n",
       "    <tr>\n",
       "      <th>84419</th>\n",
       "      <td>84408</td>\n",
       "      <td>0.000000</td>\n",
       "    </tr>\n",
       "  </tbody>\n",
       "</table>\n",
       "<p>84420 rows × 2 columns</p>\n",
       "</div>"
      ],
      "text/plain": [
       "       doc_position  rel_score\n",
       "0             54321   0.420703\n",
       "1             12462   0.387222\n",
       "2             11917   0.348274\n",
       "3             83769   0.323658\n",
       "4             41404   0.292001\n",
       "...             ...        ...\n",
       "84415         84377   0.000000\n",
       "84416         84391   0.000000\n",
       "84417         84397   0.000000\n",
       "84418         84407   0.000000\n",
       "84419         84408   0.000000\n",
       "\n",
       "[84420 rows x 2 columns]"
      ]
     },
     "execution_count": 28,
     "metadata": {},
     "output_type": "execute_result"
    }
   ],
   "source": [
    "ranking = [[position[0], position[1]] for position in ranking]\n",
    "ranking = pd.DataFrame(ranking, columns=[\"doc_position\", \"rel_score\"])\n",
    "ranking"
   ]
  },
  {
   "cell_type": "markdown",
   "metadata": {},
   "source": [
    "Now, we include the sha identifier of each document result and its global ranking."
   ]
  },
  {
   "cell_type": "code",
   "execution_count": 29,
   "metadata": {
    "ExecuteTime": {
     "end_time": "2020-12-13T20:55:34.219991Z",
     "start_time": "2020-12-13T20:55:33.624989Z"
    }
   },
   "outputs": [
    {
     "data": {
      "text/html": [
       "<div>\n",
       "<style scoped>\n",
       "    .dataframe tbody tr th:only-of-type {\n",
       "        vertical-align: middle;\n",
       "    }\n",
       "\n",
       "    .dataframe tbody tr th {\n",
       "        vertical-align: top;\n",
       "    }\n",
       "\n",
       "    .dataframe thead th {\n",
       "        text-align: right;\n",
       "    }\n",
       "</style>\n",
       "<table border=\"1\" class=\"dataframe\">\n",
       "  <thead>\n",
       "    <tr style=\"text-align: right;\">\n",
       "      <th></th>\n",
       "      <th>doc_position</th>\n",
       "      <th>rel_score</th>\n",
       "      <th>sha</th>\n",
       "      <th>ranking</th>\n",
       "    </tr>\n",
       "  </thead>\n",
       "  <tbody>\n",
       "    <tr>\n",
       "      <th>0</th>\n",
       "      <td>54321</td>\n",
       "      <td>0.420703</td>\n",
       "      <td>a4b6c8a9ecb94ba17e416cff443028d996454039</td>\n",
       "      <td>0</td>\n",
       "    </tr>\n",
       "    <tr>\n",
       "      <th>1</th>\n",
       "      <td>12462</td>\n",
       "      <td>0.387222</td>\n",
       "      <td>25f4d6c2f2dcb5f46464f5a31603be4606cb7116</td>\n",
       "      <td>1</td>\n",
       "    </tr>\n",
       "    <tr>\n",
       "      <th>2</th>\n",
       "      <td>11917</td>\n",
       "      <td>0.348274</td>\n",
       "      <td>244c5c9c6a6fb239d47c9b0016c62d24c23bf3e8</td>\n",
       "      <td>2</td>\n",
       "    </tr>\n",
       "    <tr>\n",
       "      <th>3</th>\n",
       "      <td>83769</td>\n",
       "      <td>0.323658</td>\n",
       "      <td>fdebb2b0f78abab06a7b1843831fdaa78c3463f7</td>\n",
       "      <td>3</td>\n",
       "    </tr>\n",
       "    <tr>\n",
       "      <th>4</th>\n",
       "      <td>41404</td>\n",
       "      <td>0.292001</td>\n",
       "      <td>7d7255ec9a213b7fe04cb8c08b326e0aacd2fd9b</td>\n",
       "      <td>4</td>\n",
       "    </tr>\n",
       "    <tr>\n",
       "      <th>...</th>\n",
       "      <td>...</td>\n",
       "      <td>...</td>\n",
       "      <td>...</td>\n",
       "      <td>...</td>\n",
       "    </tr>\n",
       "    <tr>\n",
       "      <th>84415</th>\n",
       "      <td>84377</td>\n",
       "      <td>0.000000</td>\n",
       "      <td>ffe3b2ad5b565d38aebab45629d4329fe8bf4e02</td>\n",
       "      <td>84415</td>\n",
       "    </tr>\n",
       "    <tr>\n",
       "      <th>84416</th>\n",
       "      <td>84391</td>\n",
       "      <td>0.000000</td>\n",
       "      <td>ffea289feac032cd0ba2c8890a9a725c763af652</td>\n",
       "      <td>84416</td>\n",
       "    </tr>\n",
       "    <tr>\n",
       "      <th>84417</th>\n",
       "      <td>84397</td>\n",
       "      <td>0.000000</td>\n",
       "      <td>ffed5d2a31a0c1a0db11905fe378e7735b6d70ca</td>\n",
       "      <td>84417</td>\n",
       "    </tr>\n",
       "    <tr>\n",
       "      <th>84418</th>\n",
       "      <td>84407</td>\n",
       "      <td>0.000000</td>\n",
       "      <td>fff3678cfe3ce7a9ccae1e7becf17d5d71d1b54a</td>\n",
       "      <td>84418</td>\n",
       "    </tr>\n",
       "    <tr>\n",
       "      <th>84419</th>\n",
       "      <td>84408</td>\n",
       "      <td>0.000000</td>\n",
       "      <td>fff37ff9de7ac14189bacc386448ae96a624f19f</td>\n",
       "      <td>84419</td>\n",
       "    </tr>\n",
       "  </tbody>\n",
       "</table>\n",
       "<p>84420 rows × 4 columns</p>\n",
       "</div>"
      ],
      "text/plain": [
       "       doc_position  rel_score                                       sha  \\\n",
       "0             54321   0.420703  a4b6c8a9ecb94ba17e416cff443028d996454039   \n",
       "1             12462   0.387222  25f4d6c2f2dcb5f46464f5a31603be4606cb7116   \n",
       "2             11917   0.348274  244c5c9c6a6fb239d47c9b0016c62d24c23bf3e8   \n",
       "3             83769   0.323658  fdebb2b0f78abab06a7b1843831fdaa78c3463f7   \n",
       "4             41404   0.292001  7d7255ec9a213b7fe04cb8c08b326e0aacd2fd9b   \n",
       "...             ...        ...                                       ...   \n",
       "84415         84377   0.000000  ffe3b2ad5b565d38aebab45629d4329fe8bf4e02   \n",
       "84416         84391   0.000000  ffea289feac032cd0ba2c8890a9a725c763af652   \n",
       "84417         84397   0.000000  ffed5d2a31a0c1a0db11905fe378e7735b6d70ca   \n",
       "84418         84407   0.000000  fff3678cfe3ce7a9ccae1e7becf17d5d71d1b54a   \n",
       "84419         84408   0.000000  fff37ff9de7ac14189bacc386448ae96a624f19f   \n",
       "\n",
       "       ranking  \n",
       "0            0  \n",
       "1            1  \n",
       "2            2  \n",
       "3            3  \n",
       "4            4  \n",
       "...        ...  \n",
       "84415    84415  \n",
       "84416    84416  \n",
       "84417    84417  \n",
       "84418    84418  \n",
       "84419    84419  \n",
       "\n",
       "[84420 rows x 4 columns]"
      ]
     },
     "execution_count": 29,
     "metadata": {},
     "output_type": "execute_result"
    }
   ],
   "source": [
    "results = ranking\n",
    "results[\"sha\"] = results[\"doc_position\"].map(lambda x: titles[\"id\"].iloc[x])\n",
    "results[\"ranking\"] = results.index\n",
    "results"
   ]
  },
  {
   "cell_type": "markdown",
   "metadata": {},
   "source": [
    "Now, we join this dataframe with metadata in order to obtain the cord_uid of each document retrieved. This will allow us later to obtain the relevance scores."
   ]
  },
  {
   "cell_type": "code",
   "execution_count": 30,
   "metadata": {
    "ExecuteTime": {
     "end_time": "2020-12-13T20:55:34.546990Z",
     "start_time": "2020-12-13T20:55:34.220990Z"
    }
   },
   "outputs": [
    {
     "data": {
      "text/html": [
       "<div>\n",
       "<style scoped>\n",
       "    .dataframe tbody tr th:only-of-type {\n",
       "        vertical-align: middle;\n",
       "    }\n",
       "\n",
       "    .dataframe tbody tr th {\n",
       "        vertical-align: top;\n",
       "    }\n",
       "\n",
       "    .dataframe thead th {\n",
       "        text-align: right;\n",
       "    }\n",
       "</style>\n",
       "<table border=\"1\" class=\"dataframe\">\n",
       "  <thead>\n",
       "    <tr style=\"text-align: right;\">\n",
       "      <th></th>\n",
       "      <th>doc_position</th>\n",
       "      <th>rel_score</th>\n",
       "      <th>ranking</th>\n",
       "      <th>cord_uid</th>\n",
       "    </tr>\n",
       "    <tr>\n",
       "      <th>sha</th>\n",
       "      <th></th>\n",
       "      <th></th>\n",
       "      <th></th>\n",
       "      <th></th>\n",
       "    </tr>\n",
       "  </thead>\n",
       "  <tbody>\n",
       "    <tr>\n",
       "      <th>a4b6c8a9ecb94ba17e416cff443028d996454039</th>\n",
       "      <td>54321</td>\n",
       "      <td>0.420703</td>\n",
       "      <td>0</td>\n",
       "      <td>kftchnhz</td>\n",
       "    </tr>\n",
       "    <tr>\n",
       "      <th>25f4d6c2f2dcb5f46464f5a31603be4606cb7116</th>\n",
       "      <td>12462</td>\n",
       "      <td>0.387222</td>\n",
       "      <td>1</td>\n",
       "      <td>2p9j4ksy</td>\n",
       "    </tr>\n",
       "    <tr>\n",
       "      <th>244c5c9c6a6fb239d47c9b0016c62d24c23bf3e8</th>\n",
       "      <td>11917</td>\n",
       "      <td>0.348274</td>\n",
       "      <td>2</td>\n",
       "      <td>akb96git</td>\n",
       "    </tr>\n",
       "    <tr>\n",
       "      <th>fdebb2b0f78abab06a7b1843831fdaa78c3463f7</th>\n",
       "      <td>83769</td>\n",
       "      <td>0.323658</td>\n",
       "      <td>3</td>\n",
       "      <td>h5ufxzv9</td>\n",
       "    </tr>\n",
       "    <tr>\n",
       "      <th>7d7255ec9a213b7fe04cb8c08b326e0aacd2fd9b</th>\n",
       "      <td>41404</td>\n",
       "      <td>0.292001</td>\n",
       "      <td>4</td>\n",
       "      <td>lv8dvdp7</td>\n",
       "    </tr>\n",
       "    <tr>\n",
       "      <th>...</th>\n",
       "      <td>...</td>\n",
       "      <td>...</td>\n",
       "      <td>...</td>\n",
       "      <td>...</td>\n",
       "    </tr>\n",
       "    <tr>\n",
       "      <th>ffe3b2ad5b565d38aebab45629d4329fe8bf4e02</th>\n",
       "      <td>84377</td>\n",
       "      <td>0.000000</td>\n",
       "      <td>84415</td>\n",
       "      <td>wg1qwmj1</td>\n",
       "    </tr>\n",
       "    <tr>\n",
       "      <th>ffea289feac032cd0ba2c8890a9a725c763af652</th>\n",
       "      <td>84391</td>\n",
       "      <td>0.000000</td>\n",
       "      <td>84416</td>\n",
       "      <td>alsps70x</td>\n",
       "    </tr>\n",
       "    <tr>\n",
       "      <th>ffed5d2a31a0c1a0db11905fe378e7735b6d70ca</th>\n",
       "      <td>84397</td>\n",
       "      <td>0.000000</td>\n",
       "      <td>84417</td>\n",
       "      <td>dabu4ohl</td>\n",
       "    </tr>\n",
       "    <tr>\n",
       "      <th>fff3678cfe3ce7a9ccae1e7becf17d5d71d1b54a</th>\n",
       "      <td>84407</td>\n",
       "      <td>0.000000</td>\n",
       "      <td>84418</td>\n",
       "      <td>1qtqergw</td>\n",
       "    </tr>\n",
       "    <tr>\n",
       "      <th>fff37ff9de7ac14189bacc386448ae96a624f19f</th>\n",
       "      <td>84408</td>\n",
       "      <td>0.000000</td>\n",
       "      <td>84419</td>\n",
       "      <td>prqrvemt</td>\n",
       "    </tr>\n",
       "  </tbody>\n",
       "</table>\n",
       "<p>84425 rows × 4 columns</p>\n",
       "</div>"
      ],
      "text/plain": [
       "                                          doc_position  rel_score  ranking  \\\n",
       "sha                                                                          \n",
       "a4b6c8a9ecb94ba17e416cff443028d996454039         54321   0.420703        0   \n",
       "25f4d6c2f2dcb5f46464f5a31603be4606cb7116         12462   0.387222        1   \n",
       "244c5c9c6a6fb239d47c9b0016c62d24c23bf3e8         11917   0.348274        2   \n",
       "fdebb2b0f78abab06a7b1843831fdaa78c3463f7         83769   0.323658        3   \n",
       "7d7255ec9a213b7fe04cb8c08b326e0aacd2fd9b         41404   0.292001        4   \n",
       "...                                                ...        ...      ...   \n",
       "ffe3b2ad5b565d38aebab45629d4329fe8bf4e02         84377   0.000000    84415   \n",
       "ffea289feac032cd0ba2c8890a9a725c763af652         84391   0.000000    84416   \n",
       "ffed5d2a31a0c1a0db11905fe378e7735b6d70ca         84397   0.000000    84417   \n",
       "fff3678cfe3ce7a9ccae1e7becf17d5d71d1b54a         84407   0.000000    84418   \n",
       "fff37ff9de7ac14189bacc386448ae96a624f19f         84408   0.000000    84419   \n",
       "\n",
       "                                          cord_uid  \n",
       "sha                                                 \n",
       "a4b6c8a9ecb94ba17e416cff443028d996454039  kftchnhz  \n",
       "25f4d6c2f2dcb5f46464f5a31603be4606cb7116  2p9j4ksy  \n",
       "244c5c9c6a6fb239d47c9b0016c62d24c23bf3e8  akb96git  \n",
       "fdebb2b0f78abab06a7b1843831fdaa78c3463f7  h5ufxzv9  \n",
       "7d7255ec9a213b7fe04cb8c08b326e0aacd2fd9b  lv8dvdp7  \n",
       "...                                            ...  \n",
       "ffe3b2ad5b565d38aebab45629d4329fe8bf4e02  wg1qwmj1  \n",
       "ffea289feac032cd0ba2c8890a9a725c763af652  alsps70x  \n",
       "ffed5d2a31a0c1a0db11905fe378e7735b6d70ca  dabu4ohl  \n",
       "fff3678cfe3ce7a9ccae1e7becf17d5d71d1b54a  1qtqergw  \n",
       "fff37ff9de7ac14189bacc386448ae96a624f19f  prqrvemt  \n",
       "\n",
       "[84425 rows x 4 columns]"
      ]
     },
     "execution_count": 30,
     "metadata": {},
     "output_type": "execute_result"
    }
   ],
   "source": [
    "results = results.set_index(\"sha\").join(metadata.set_index(\"sha\"))\n",
    "results = results.sort_values(by=[\"ranking\"])\n",
    "results"
   ]
  },
  {
   "cell_type": "markdown",
   "metadata": {},
   "source": [
    "We check that there are some null values in the cord_uid column. This means that some documents of our corpus don't have a cord_uid in the metadata, so we drop them."
   ]
  },
  {
   "cell_type": "code",
   "execution_count": 31,
   "metadata": {
    "ExecuteTime": {
     "end_time": "2020-12-13T20:55:34.558987Z",
     "start_time": "2020-12-13T20:55:34.547990Z"
    }
   },
   "outputs": [
    {
     "data": {
      "text/plain": [
       "840"
      ]
     },
     "execution_count": 31,
     "metadata": {},
     "output_type": "execute_result"
    }
   ],
   "source": [
    "results['cord_uid'].isnull().sum()"
   ]
  },
  {
   "cell_type": "code",
   "execution_count": 32,
   "metadata": {
    "ExecuteTime": {
     "end_time": "2020-12-13T20:55:34.584988Z",
     "start_time": "2020-12-13T20:55:34.559987Z"
    }
   },
   "outputs": [
    {
     "data": {
      "text/html": [
       "<div>\n",
       "<style scoped>\n",
       "    .dataframe tbody tr th:only-of-type {\n",
       "        vertical-align: middle;\n",
       "    }\n",
       "\n",
       "    .dataframe tbody tr th {\n",
       "        vertical-align: top;\n",
       "    }\n",
       "\n",
       "    .dataframe thead th {\n",
       "        text-align: right;\n",
       "    }\n",
       "</style>\n",
       "<table border=\"1\" class=\"dataframe\">\n",
       "  <thead>\n",
       "    <tr style=\"text-align: right;\">\n",
       "      <th></th>\n",
       "      <th>doc_position</th>\n",
       "      <th>rel_score</th>\n",
       "      <th>ranking</th>\n",
       "      <th>cord_uid</th>\n",
       "    </tr>\n",
       "    <tr>\n",
       "      <th>sha</th>\n",
       "      <th></th>\n",
       "      <th></th>\n",
       "      <th></th>\n",
       "      <th></th>\n",
       "    </tr>\n",
       "  </thead>\n",
       "  <tbody>\n",
       "    <tr>\n",
       "      <th>a4b6c8a9ecb94ba17e416cff443028d996454039</th>\n",
       "      <td>54321</td>\n",
       "      <td>0.420703</td>\n",
       "      <td>0</td>\n",
       "      <td>kftchnhz</td>\n",
       "    </tr>\n",
       "    <tr>\n",
       "      <th>25f4d6c2f2dcb5f46464f5a31603be4606cb7116</th>\n",
       "      <td>12462</td>\n",
       "      <td>0.387222</td>\n",
       "      <td>1</td>\n",
       "      <td>2p9j4ksy</td>\n",
       "    </tr>\n",
       "    <tr>\n",
       "      <th>244c5c9c6a6fb239d47c9b0016c62d24c23bf3e8</th>\n",
       "      <td>11917</td>\n",
       "      <td>0.348274</td>\n",
       "      <td>2</td>\n",
       "      <td>akb96git</td>\n",
       "    </tr>\n",
       "    <tr>\n",
       "      <th>fdebb2b0f78abab06a7b1843831fdaa78c3463f7</th>\n",
       "      <td>83769</td>\n",
       "      <td>0.323658</td>\n",
       "      <td>3</td>\n",
       "      <td>h5ufxzv9</td>\n",
       "    </tr>\n",
       "    <tr>\n",
       "      <th>7d7255ec9a213b7fe04cb8c08b326e0aacd2fd9b</th>\n",
       "      <td>41404</td>\n",
       "      <td>0.292001</td>\n",
       "      <td>4</td>\n",
       "      <td>lv8dvdp7</td>\n",
       "    </tr>\n",
       "    <tr>\n",
       "      <th>...</th>\n",
       "      <td>...</td>\n",
       "      <td>...</td>\n",
       "      <td>...</td>\n",
       "      <td>...</td>\n",
       "    </tr>\n",
       "    <tr>\n",
       "      <th>ffe3b2ad5b565d38aebab45629d4329fe8bf4e02</th>\n",
       "      <td>84377</td>\n",
       "      <td>0.000000</td>\n",
       "      <td>84415</td>\n",
       "      <td>wg1qwmj1</td>\n",
       "    </tr>\n",
       "    <tr>\n",
       "      <th>ffea289feac032cd0ba2c8890a9a725c763af652</th>\n",
       "      <td>84391</td>\n",
       "      <td>0.000000</td>\n",
       "      <td>84416</td>\n",
       "      <td>alsps70x</td>\n",
       "    </tr>\n",
       "    <tr>\n",
       "      <th>ffed5d2a31a0c1a0db11905fe378e7735b6d70ca</th>\n",
       "      <td>84397</td>\n",
       "      <td>0.000000</td>\n",
       "      <td>84417</td>\n",
       "      <td>dabu4ohl</td>\n",
       "    </tr>\n",
       "    <tr>\n",
       "      <th>fff3678cfe3ce7a9ccae1e7becf17d5d71d1b54a</th>\n",
       "      <td>84407</td>\n",
       "      <td>0.000000</td>\n",
       "      <td>84418</td>\n",
       "      <td>1qtqergw</td>\n",
       "    </tr>\n",
       "    <tr>\n",
       "      <th>fff37ff9de7ac14189bacc386448ae96a624f19f</th>\n",
       "      <td>84408</td>\n",
       "      <td>0.000000</td>\n",
       "      <td>84419</td>\n",
       "      <td>prqrvemt</td>\n",
       "    </tr>\n",
       "  </tbody>\n",
       "</table>\n",
       "<p>83585 rows × 4 columns</p>\n",
       "</div>"
      ],
      "text/plain": [
       "                                          doc_position  rel_score  ranking  \\\n",
       "sha                                                                          \n",
       "a4b6c8a9ecb94ba17e416cff443028d996454039         54321   0.420703        0   \n",
       "25f4d6c2f2dcb5f46464f5a31603be4606cb7116         12462   0.387222        1   \n",
       "244c5c9c6a6fb239d47c9b0016c62d24c23bf3e8         11917   0.348274        2   \n",
       "fdebb2b0f78abab06a7b1843831fdaa78c3463f7         83769   0.323658        3   \n",
       "7d7255ec9a213b7fe04cb8c08b326e0aacd2fd9b         41404   0.292001        4   \n",
       "...                                                ...        ...      ...   \n",
       "ffe3b2ad5b565d38aebab45629d4329fe8bf4e02         84377   0.000000    84415   \n",
       "ffea289feac032cd0ba2c8890a9a725c763af652         84391   0.000000    84416   \n",
       "ffed5d2a31a0c1a0db11905fe378e7735b6d70ca         84397   0.000000    84417   \n",
       "fff3678cfe3ce7a9ccae1e7becf17d5d71d1b54a         84407   0.000000    84418   \n",
       "fff37ff9de7ac14189bacc386448ae96a624f19f         84408   0.000000    84419   \n",
       "\n",
       "                                          cord_uid  \n",
       "sha                                                 \n",
       "a4b6c8a9ecb94ba17e416cff443028d996454039  kftchnhz  \n",
       "25f4d6c2f2dcb5f46464f5a31603be4606cb7116  2p9j4ksy  \n",
       "244c5c9c6a6fb239d47c9b0016c62d24c23bf3e8  akb96git  \n",
       "fdebb2b0f78abab06a7b1843831fdaa78c3463f7  h5ufxzv9  \n",
       "7d7255ec9a213b7fe04cb8c08b326e0aacd2fd9b  lv8dvdp7  \n",
       "...                                            ...  \n",
       "ffe3b2ad5b565d38aebab45629d4329fe8bf4e02  wg1qwmj1  \n",
       "ffea289feac032cd0ba2c8890a9a725c763af652  alsps70x  \n",
       "ffed5d2a31a0c1a0db11905fe378e7735b6d70ca  dabu4ohl  \n",
       "fff3678cfe3ce7a9ccae1e7becf17d5d71d1b54a  1qtqergw  \n",
       "fff37ff9de7ac14189bacc386448ae96a624f19f  prqrvemt  \n",
       "\n",
       "[83585 rows x 4 columns]"
      ]
     },
     "execution_count": 32,
     "metadata": {},
     "output_type": "execute_result"
    }
   ],
   "source": [
    "results = results.dropna()\n",
    "results"
   ]
  },
  {
   "cell_type": "markdown",
   "metadata": {},
   "source": [
    "Before, we launched query 2, so now we need to obtain the relevance judgements of query 2."
   ]
  },
  {
   "cell_type": "code",
   "execution_count": 33,
   "metadata": {
    "ExecuteTime": {
     "end_time": "2020-12-13T20:55:34.596988Z",
     "start_time": "2020-12-13T20:55:34.585988Z"
    }
   },
   "outputs": [
    {
     "data": {
      "text/html": [
       "<div>\n",
       "<style scoped>\n",
       "    .dataframe tbody tr th:only-of-type {\n",
       "        vertical-align: middle;\n",
       "    }\n",
       "\n",
       "    .dataframe tbody tr th {\n",
       "        vertical-align: top;\n",
       "    }\n",
       "\n",
       "    .dataframe thead th {\n",
       "        text-align: right;\n",
       "    }\n",
       "</style>\n",
       "<table border=\"1\" class=\"dataframe\">\n",
       "  <thead>\n",
       "    <tr style=\"text-align: right;\">\n",
       "      <th></th>\n",
       "      <th>query</th>\n",
       "      <th>cord_uid</th>\n",
       "      <th>score</th>\n",
       "      <th>binary_score</th>\n",
       "    </tr>\n",
       "  </thead>\n",
       "  <tbody>\n",
       "    <tr>\n",
       "      <th>1647</th>\n",
       "      <td>2</td>\n",
       "      <td>01goni72</td>\n",
       "      <td>2</td>\n",
       "      <td>1.0</td>\n",
       "    </tr>\n",
       "    <tr>\n",
       "      <th>1648</th>\n",
       "      <td>2</td>\n",
       "      <td>01yc7lzk</td>\n",
       "      <td>0</td>\n",
       "      <td>0.0</td>\n",
       "    </tr>\n",
       "    <tr>\n",
       "      <th>1649</th>\n",
       "      <td>2</td>\n",
       "      <td>02cy1s8x</td>\n",
       "      <td>0</td>\n",
       "      <td>0.0</td>\n",
       "    </tr>\n",
       "    <tr>\n",
       "      <th>1650</th>\n",
       "      <td>2</td>\n",
       "      <td>02f0opkr</td>\n",
       "      <td>0</td>\n",
       "      <td>0.0</td>\n",
       "    </tr>\n",
       "    <tr>\n",
       "      <th>1651</th>\n",
       "      <td>2</td>\n",
       "      <td>03h85lvy</td>\n",
       "      <td>2</td>\n",
       "      <td>1.0</td>\n",
       "    </tr>\n",
       "    <tr>\n",
       "      <th>...</th>\n",
       "      <td>...</td>\n",
       "      <td>...</td>\n",
       "      <td>...</td>\n",
       "      <td>...</td>\n",
       "    </tr>\n",
       "    <tr>\n",
       "      <th>2929</th>\n",
       "      <td>2</td>\n",
       "      <td>zw0xh341</td>\n",
       "      <td>0</td>\n",
       "      <td>0.0</td>\n",
       "    </tr>\n",
       "    <tr>\n",
       "      <th>2930</th>\n",
       "      <td>2</td>\n",
       "      <td>zx28gr34</td>\n",
       "      <td>0</td>\n",
       "      <td>0.0</td>\n",
       "    </tr>\n",
       "    <tr>\n",
       "      <th>2931</th>\n",
       "      <td>2</td>\n",
       "      <td>zxvim4t8</td>\n",
       "      <td>0</td>\n",
       "      <td>0.0</td>\n",
       "    </tr>\n",
       "    <tr>\n",
       "      <th>2932</th>\n",
       "      <td>2</td>\n",
       "      <td>zxx7tikz</td>\n",
       "      <td>2</td>\n",
       "      <td>1.0</td>\n",
       "    </tr>\n",
       "    <tr>\n",
       "      <th>2933</th>\n",
       "      <td>2</td>\n",
       "      <td>zytu7wue</td>\n",
       "      <td>0</td>\n",
       "      <td>0.0</td>\n",
       "    </tr>\n",
       "  </tbody>\n",
       "</table>\n",
       "<p>1287 rows × 4 columns</p>\n",
       "</div>"
      ],
      "text/plain": [
       "      query  cord_uid  score  binary_score\n",
       "1647      2  01goni72      2           1.0\n",
       "1648      2  01yc7lzk      0           0.0\n",
       "1649      2  02cy1s8x      0           0.0\n",
       "1650      2  02f0opkr      0           0.0\n",
       "1651      2  03h85lvy      2           1.0\n",
       "...     ...       ...    ...           ...\n",
       "2929      2  zw0xh341      0           0.0\n",
       "2930      2  zx28gr34      0           0.0\n",
       "2931      2  zxvim4t8      0           0.0\n",
       "2932      2  zxx7tikz      2           1.0\n",
       "2933      2  zytu7wue      0           0.0\n",
       "\n",
       "[1287 rows x 4 columns]"
      ]
     },
     "execution_count": 33,
     "metadata": {},
     "output_type": "execute_result"
    }
   ],
   "source": [
    "judgements_parcial = judgements[judgements[\"query\"] == 2]\n",
    "judgements_parcial"
   ]
  },
  {
   "cell_type": "markdown",
   "metadata": {},
   "source": [
    "Once we have the judgements of query 2, we join this judgements with our ranking. This operation will allow us to know for each document retrieved whether it was relevant or not."
   ]
  },
  {
   "cell_type": "code",
   "execution_count": 34,
   "metadata": {
    "ExecuteTime": {
     "end_time": "2020-12-13T20:55:34.756987Z",
     "start_time": "2020-12-13T20:55:34.597987Z"
    }
   },
   "outputs": [
    {
     "data": {
      "text/html": [
       "<div>\n",
       "<style scoped>\n",
       "    .dataframe tbody tr th:only-of-type {\n",
       "        vertical-align: middle;\n",
       "    }\n",
       "\n",
       "    .dataframe tbody tr th {\n",
       "        vertical-align: top;\n",
       "    }\n",
       "\n",
       "    .dataframe thead th {\n",
       "        text-align: right;\n",
       "    }\n",
       "</style>\n",
       "<table border=\"1\" class=\"dataframe\">\n",
       "  <thead>\n",
       "    <tr style=\"text-align: right;\">\n",
       "      <th></th>\n",
       "      <th>doc_position</th>\n",
       "      <th>rel_score</th>\n",
       "      <th>ranking</th>\n",
       "      <th>query</th>\n",
       "      <th>score</th>\n",
       "      <th>binary_score</th>\n",
       "    </tr>\n",
       "    <tr>\n",
       "      <th>cord_uid</th>\n",
       "      <th></th>\n",
       "      <th></th>\n",
       "      <th></th>\n",
       "      <th></th>\n",
       "      <th></th>\n",
       "      <th></th>\n",
       "    </tr>\n",
       "  </thead>\n",
       "  <tbody>\n",
       "    <tr>\n",
       "      <th>000ajevz</th>\n",
       "      <td>7623</td>\n",
       "      <td>0.004281</td>\n",
       "      <td>52295</td>\n",
       "      <td>NaN</td>\n",
       "      <td>NaN</td>\n",
       "      <td>NaN</td>\n",
       "    </tr>\n",
       "    <tr>\n",
       "      <th>000q5l5n</th>\n",
       "      <td>17269</td>\n",
       "      <td>0.000000</td>\n",
       "      <td>77541</td>\n",
       "      <td>NaN</td>\n",
       "      <td>NaN</td>\n",
       "      <td>NaN</td>\n",
       "    </tr>\n",
       "    <tr>\n",
       "      <th>000tfenb</th>\n",
       "      <td>66091</td>\n",
       "      <td>0.006773</td>\n",
       "      <td>38919</td>\n",
       "      <td>NaN</td>\n",
       "      <td>NaN</td>\n",
       "      <td>NaN</td>\n",
       "    </tr>\n",
       "    <tr>\n",
       "      <th>001u8ecb</th>\n",
       "      <td>6127</td>\n",
       "      <td>0.026825</td>\n",
       "      <td>3817</td>\n",
       "      <td>NaN</td>\n",
       "      <td>NaN</td>\n",
       "      <td>NaN</td>\n",
       "    </tr>\n",
       "    <tr>\n",
       "      <th>003r4sjl</th>\n",
       "      <td>24650</td>\n",
       "      <td>0.002933</td>\n",
       "      <td>60799</td>\n",
       "      <td>NaN</td>\n",
       "      <td>NaN</td>\n",
       "      <td>NaN</td>\n",
       "    </tr>\n",
       "    <tr>\n",
       "      <th>...</th>\n",
       "      <td>...</td>\n",
       "      <td>...</td>\n",
       "      <td>...</td>\n",
       "      <td>...</td>\n",
       "      <td>...</td>\n",
       "      <td>...</td>\n",
       "    </tr>\n",
       "    <tr>\n",
       "      <th>zzvmj5qy</th>\n",
       "      <td>16372</td>\n",
       "      <td>0.006473</td>\n",
       "      <td>40313</td>\n",
       "      <td>NaN</td>\n",
       "      <td>NaN</td>\n",
       "      <td>NaN</td>\n",
       "    </tr>\n",
       "    <tr>\n",
       "      <th>zzw7zlh6</th>\n",
       "      <td>12233</td>\n",
       "      <td>0.000788</td>\n",
       "      <td>74181</td>\n",
       "      <td>NaN</td>\n",
       "      <td>NaN</td>\n",
       "      <td>NaN</td>\n",
       "    </tr>\n",
       "    <tr>\n",
       "      <th>zzxjv666</th>\n",
       "      <td>57978</td>\n",
       "      <td>0.011381</td>\n",
       "      <td>22277</td>\n",
       "      <td>NaN</td>\n",
       "      <td>NaN</td>\n",
       "      <td>NaN</td>\n",
       "    </tr>\n",
       "    <tr>\n",
       "      <th>zzykyblm</th>\n",
       "      <td>75960</td>\n",
       "      <td>0.007800</td>\n",
       "      <td>34410</td>\n",
       "      <td>NaN</td>\n",
       "      <td>NaN</td>\n",
       "      <td>NaN</td>\n",
       "    </tr>\n",
       "    <tr>\n",
       "      <th>zzys31e9</th>\n",
       "      <td>38250</td>\n",
       "      <td>0.023491</td>\n",
       "      <td>5505</td>\n",
       "      <td>NaN</td>\n",
       "      <td>NaN</td>\n",
       "      <td>NaN</td>\n",
       "    </tr>\n",
       "  </tbody>\n",
       "</table>\n",
       "<p>83585 rows × 6 columns</p>\n",
       "</div>"
      ],
      "text/plain": [
       "          doc_position  rel_score  ranking  query  score  binary_score\n",
       "cord_uid                                                              \n",
       "000ajevz          7623   0.004281    52295    NaN    NaN           NaN\n",
       "000q5l5n         17269   0.000000    77541    NaN    NaN           NaN\n",
       "000tfenb         66091   0.006773    38919    NaN    NaN           NaN\n",
       "001u8ecb          6127   0.026825     3817    NaN    NaN           NaN\n",
       "003r4sjl         24650   0.002933    60799    NaN    NaN           NaN\n",
       "...                ...        ...      ...    ...    ...           ...\n",
       "zzvmj5qy         16372   0.006473    40313    NaN    NaN           NaN\n",
       "zzw7zlh6         12233   0.000788    74181    NaN    NaN           NaN\n",
       "zzxjv666         57978   0.011381    22277    NaN    NaN           NaN\n",
       "zzykyblm         75960   0.007800    34410    NaN    NaN           NaN\n",
       "zzys31e9         38250   0.023491     5505    NaN    NaN           NaN\n",
       "\n",
       "[83585 rows x 6 columns]"
      ]
     },
     "execution_count": 34,
     "metadata": {},
     "output_type": "execute_result"
    }
   ],
   "source": [
    "statistics = results.set_index(\"cord_uid\").join(judgements_parcial.set_index(\"cord_uid\"))\n",
    "statistics"
   ]
  },
  {
   "cell_type": "markdown",
   "metadata": {},
   "source": [
    "Again, we observe that there are null values. These null values mean that there are some documents of our corpus that are not relevance judged. \n",
    "\n",
    "At this point we have two possible options:\n",
    "* Drop the null values: since those documents are not judged, we don't know whether they are relevant or not for that query. It makes sense to us dropping those documents, since assuming that they are relevant or not introduces uncertainty in our model.\n",
    "* Mark them as non-relevant: after reading the TREC guide for evaluation, we understood how these relevance judgements files are created by means of pools. It is indicated that documents not included in the pool should be marked as non-relevant. However, it's also said that this approach is a bit controversial. \n",
    "\n",
    "After some more research, we realized that this is one of the most controversial aspects on evaluating information retrieval systems. Finally, we opted for the first action, since it made more sense for us."
   ]
  },
  {
   "cell_type": "code",
   "execution_count": 35,
   "metadata": {
    "ExecuteTime": {
     "end_time": "2020-12-13T20:55:34.777987Z",
     "start_time": "2020-12-13T20:55:34.757990Z"
    }
   },
   "outputs": [
    {
     "data": {
      "text/html": [
       "<div>\n",
       "<style scoped>\n",
       "    .dataframe tbody tr th:only-of-type {\n",
       "        vertical-align: middle;\n",
       "    }\n",
       "\n",
       "    .dataframe tbody tr th {\n",
       "        vertical-align: top;\n",
       "    }\n",
       "\n",
       "    .dataframe thead th {\n",
       "        text-align: right;\n",
       "    }\n",
       "</style>\n",
       "<table border=\"1\" class=\"dataframe\">\n",
       "  <thead>\n",
       "    <tr style=\"text-align: right;\">\n",
       "      <th></th>\n",
       "      <th>doc_position</th>\n",
       "      <th>rel_score</th>\n",
       "      <th>ranking</th>\n",
       "      <th>query</th>\n",
       "      <th>score</th>\n",
       "      <th>binary_score</th>\n",
       "    </tr>\n",
       "    <tr>\n",
       "      <th>cord_uid</th>\n",
       "      <th></th>\n",
       "      <th></th>\n",
       "      <th></th>\n",
       "      <th></th>\n",
       "      <th></th>\n",
       "      <th></th>\n",
       "    </tr>\n",
       "  </thead>\n",
       "  <tbody>\n",
       "    <tr>\n",
       "      <th>01goni72</th>\n",
       "      <td>9241</td>\n",
       "      <td>0.031456</td>\n",
       "      <td>2397</td>\n",
       "      <td>2.0</td>\n",
       "      <td>2.0</td>\n",
       "      <td>1.0</td>\n",
       "    </tr>\n",
       "    <tr>\n",
       "      <th>01yc7lzk</th>\n",
       "      <td>47554</td>\n",
       "      <td>0.052520</td>\n",
       "      <td>408</td>\n",
       "      <td>2.0</td>\n",
       "      <td>0.0</td>\n",
       "      <td>0.0</td>\n",
       "    </tr>\n",
       "    <tr>\n",
       "      <th>01yc7lzk</th>\n",
       "      <td>1294</td>\n",
       "      <td>0.000000</td>\n",
       "      <td>75891</td>\n",
       "      <td>2.0</td>\n",
       "      <td>0.0</td>\n",
       "      <td>0.0</td>\n",
       "    </tr>\n",
       "    <tr>\n",
       "      <th>03id5o2g</th>\n",
       "      <td>3289</td>\n",
       "      <td>0.018495</td>\n",
       "      <td>9643</td>\n",
       "      <td>2.0</td>\n",
       "      <td>0.0</td>\n",
       "      <td>0.0</td>\n",
       "    </tr>\n",
       "    <tr>\n",
       "      <th>03id5o2g</th>\n",
       "      <td>15835</td>\n",
       "      <td>0.004957</td>\n",
       "      <td>48305</td>\n",
       "      <td>2.0</td>\n",
       "      <td>0.0</td>\n",
       "      <td>0.0</td>\n",
       "    </tr>\n",
       "    <tr>\n",
       "      <th>...</th>\n",
       "      <td>...</td>\n",
       "      <td>...</td>\n",
       "      <td>...</td>\n",
       "      <td>...</td>\n",
       "      <td>...</td>\n",
       "      <td>...</td>\n",
       "    </tr>\n",
       "    <tr>\n",
       "      <th>zvngy7zz</th>\n",
       "      <td>47713</td>\n",
       "      <td>0.050793</td>\n",
       "      <td>462</td>\n",
       "      <td>2.0</td>\n",
       "      <td>2.0</td>\n",
       "      <td>1.0</td>\n",
       "    </tr>\n",
       "    <tr>\n",
       "      <th>zvvwwc0r</th>\n",
       "      <td>27644</td>\n",
       "      <td>0.049317</td>\n",
       "      <td>506</td>\n",
       "      <td>2.0</td>\n",
       "      <td>2.0</td>\n",
       "      <td>1.0</td>\n",
       "    </tr>\n",
       "    <tr>\n",
       "      <th>zx28gr34</th>\n",
       "      <td>77614</td>\n",
       "      <td>0.002560</td>\n",
       "      <td>63194</td>\n",
       "      <td>2.0</td>\n",
       "      <td>0.0</td>\n",
       "      <td>0.0</td>\n",
       "    </tr>\n",
       "    <tr>\n",
       "      <th>zxx7tikz</th>\n",
       "      <td>67893</td>\n",
       "      <td>0.017106</td>\n",
       "      <td>11299</td>\n",
       "      <td>2.0</td>\n",
       "      <td>2.0</td>\n",
       "      <td>1.0</td>\n",
       "    </tr>\n",
       "    <tr>\n",
       "      <th>zytu7wue</th>\n",
       "      <td>11842</td>\n",
       "      <td>0.100053</td>\n",
       "      <td>66</td>\n",
       "      <td>2.0</td>\n",
       "      <td>0.0</td>\n",
       "      <td>0.0</td>\n",
       "    </tr>\n",
       "  </tbody>\n",
       "</table>\n",
       "<p>1064 rows × 6 columns</p>\n",
       "</div>"
      ],
      "text/plain": [
       "          doc_position  rel_score  ranking  query  score  binary_score\n",
       "cord_uid                                                              \n",
       "01goni72          9241   0.031456     2397    2.0    2.0           1.0\n",
       "01yc7lzk         47554   0.052520      408    2.0    0.0           0.0\n",
       "01yc7lzk          1294   0.000000    75891    2.0    0.0           0.0\n",
       "03id5o2g          3289   0.018495     9643    2.0    0.0           0.0\n",
       "03id5o2g         15835   0.004957    48305    2.0    0.0           0.0\n",
       "...                ...        ...      ...    ...    ...           ...\n",
       "zvngy7zz         47713   0.050793      462    2.0    2.0           1.0\n",
       "zvvwwc0r         27644   0.049317      506    2.0    2.0           1.0\n",
       "zx28gr34         77614   0.002560    63194    2.0    0.0           0.0\n",
       "zxx7tikz         67893   0.017106    11299    2.0    2.0           1.0\n",
       "zytu7wue         11842   0.100053       66    2.0    0.0           0.0\n",
       "\n",
       "[1064 rows x 6 columns]"
      ]
     },
     "execution_count": 35,
     "metadata": {},
     "output_type": "execute_result"
    }
   ],
   "source": [
    "# Drop values\n",
    "statistics = statistics.dropna()\n",
    "# Mark them as non relevant\n",
    "#a[\"binary_score\"].fillna(0, inplace=True)\n",
    "statistics"
   ]
  },
  {
   "cell_type": "markdown",
   "metadata": {},
   "source": [
    "At this point, we already know whether each retrieved document is relevant or not.\n",
    "\n",
    "Now, we compute the total number of relevant documents, it will be used later.\n",
    "\n",
    "And, we remove all the results whose computed tfidf score is 0."
   ]
  },
  {
   "cell_type": "code",
   "execution_count": 36,
   "metadata": {
    "ExecuteTime": {
     "end_time": "2020-12-13T20:55:34.781991Z",
     "start_time": "2020-12-13T20:55:34.778987Z"
    }
   },
   "outputs": [],
   "source": [
    "r = statistics[\"binary_score\"].sum()\n",
    "statistics = statistics[statistics[\"rel_score\"]>0]"
   ]
  },
  {
   "cell_type": "code",
   "execution_count": 37,
   "metadata": {
    "ExecuteTime": {
     "end_time": "2020-12-13T20:55:34.798987Z",
     "start_time": "2020-12-13T20:55:34.782990Z"
    }
   },
   "outputs": [
    {
     "data": {
      "text/html": [
       "<div>\n",
       "<style scoped>\n",
       "    .dataframe tbody tr th:only-of-type {\n",
       "        vertical-align: middle;\n",
       "    }\n",
       "\n",
       "    .dataframe tbody tr th {\n",
       "        vertical-align: top;\n",
       "    }\n",
       "\n",
       "    .dataframe thead th {\n",
       "        text-align: right;\n",
       "    }\n",
       "</style>\n",
       "<table border=\"1\" class=\"dataframe\">\n",
       "  <thead>\n",
       "    <tr style=\"text-align: right;\">\n",
       "      <th></th>\n",
       "      <th>doc_position</th>\n",
       "      <th>rel_score</th>\n",
       "      <th>ranking</th>\n",
       "      <th>query</th>\n",
       "      <th>score</th>\n",
       "      <th>binary_score</th>\n",
       "    </tr>\n",
       "    <tr>\n",
       "      <th>cord_uid</th>\n",
       "      <th></th>\n",
       "      <th></th>\n",
       "      <th></th>\n",
       "      <th></th>\n",
       "      <th></th>\n",
       "      <th></th>\n",
       "    </tr>\n",
       "  </thead>\n",
       "  <tbody>\n",
       "    <tr>\n",
       "      <th>01goni72</th>\n",
       "      <td>9241</td>\n",
       "      <td>0.031456</td>\n",
       "      <td>2397</td>\n",
       "      <td>2.0</td>\n",
       "      <td>2.0</td>\n",
       "      <td>1.0</td>\n",
       "    </tr>\n",
       "    <tr>\n",
       "      <th>01yc7lzk</th>\n",
       "      <td>47554</td>\n",
       "      <td>0.052520</td>\n",
       "      <td>408</td>\n",
       "      <td>2.0</td>\n",
       "      <td>0.0</td>\n",
       "      <td>0.0</td>\n",
       "    </tr>\n",
       "    <tr>\n",
       "      <th>03id5o2g</th>\n",
       "      <td>3289</td>\n",
       "      <td>0.018495</td>\n",
       "      <td>9643</td>\n",
       "      <td>2.0</td>\n",
       "      <td>0.0</td>\n",
       "      <td>0.0</td>\n",
       "    </tr>\n",
       "    <tr>\n",
       "      <th>03id5o2g</th>\n",
       "      <td>15835</td>\n",
       "      <td>0.004957</td>\n",
       "      <td>48305</td>\n",
       "      <td>2.0</td>\n",
       "      <td>0.0</td>\n",
       "      <td>0.0</td>\n",
       "    </tr>\n",
       "    <tr>\n",
       "      <th>03s9spbi</th>\n",
       "      <td>330</td>\n",
       "      <td>0.179369</td>\n",
       "      <td>27</td>\n",
       "      <td>2.0</td>\n",
       "      <td>2.0</td>\n",
       "      <td>1.0</td>\n",
       "    </tr>\n",
       "    <tr>\n",
       "      <th>...</th>\n",
       "      <td>...</td>\n",
       "      <td>...</td>\n",
       "      <td>...</td>\n",
       "      <td>...</td>\n",
       "      <td>...</td>\n",
       "      <td>...</td>\n",
       "    </tr>\n",
       "    <tr>\n",
       "      <th>zvngy7zz</th>\n",
       "      <td>47713</td>\n",
       "      <td>0.050793</td>\n",
       "      <td>462</td>\n",
       "      <td>2.0</td>\n",
       "      <td>2.0</td>\n",
       "      <td>1.0</td>\n",
       "    </tr>\n",
       "    <tr>\n",
       "      <th>zvvwwc0r</th>\n",
       "      <td>27644</td>\n",
       "      <td>0.049317</td>\n",
       "      <td>506</td>\n",
       "      <td>2.0</td>\n",
       "      <td>2.0</td>\n",
       "      <td>1.0</td>\n",
       "    </tr>\n",
       "    <tr>\n",
       "      <th>zx28gr34</th>\n",
       "      <td>77614</td>\n",
       "      <td>0.002560</td>\n",
       "      <td>63194</td>\n",
       "      <td>2.0</td>\n",
       "      <td>0.0</td>\n",
       "      <td>0.0</td>\n",
       "    </tr>\n",
       "    <tr>\n",
       "      <th>zxx7tikz</th>\n",
       "      <td>67893</td>\n",
       "      <td>0.017106</td>\n",
       "      <td>11299</td>\n",
       "      <td>2.0</td>\n",
       "      <td>2.0</td>\n",
       "      <td>1.0</td>\n",
       "    </tr>\n",
       "    <tr>\n",
       "      <th>zytu7wue</th>\n",
       "      <td>11842</td>\n",
       "      <td>0.100053</td>\n",
       "      <td>66</td>\n",
       "      <td>2.0</td>\n",
       "      <td>0.0</td>\n",
       "      <td>0.0</td>\n",
       "    </tr>\n",
       "  </tbody>\n",
       "</table>\n",
       "<p>1038 rows × 6 columns</p>\n",
       "</div>"
      ],
      "text/plain": [
       "          doc_position  rel_score  ranking  query  score  binary_score\n",
       "cord_uid                                                              \n",
       "01goni72          9241   0.031456     2397    2.0    2.0           1.0\n",
       "01yc7lzk         47554   0.052520      408    2.0    0.0           0.0\n",
       "03id5o2g          3289   0.018495     9643    2.0    0.0           0.0\n",
       "03id5o2g         15835   0.004957    48305    2.0    0.0           0.0\n",
       "03s9spbi           330   0.179369       27    2.0    2.0           1.0\n",
       "...                ...        ...      ...    ...    ...           ...\n",
       "zvngy7zz         47713   0.050793      462    2.0    2.0           1.0\n",
       "zvvwwc0r         27644   0.049317      506    2.0    2.0           1.0\n",
       "zx28gr34         77614   0.002560    63194    2.0    0.0           0.0\n",
       "zxx7tikz         67893   0.017106    11299    2.0    2.0           1.0\n",
       "zytu7wue         11842   0.100053       66    2.0    0.0           0.0\n",
       "\n",
       "[1038 rows x 6 columns]"
      ]
     },
     "execution_count": 37,
     "metadata": {},
     "output_type": "execute_result"
    }
   ],
   "source": [
    "statistics"
   ]
  },
  {
   "cell_type": "markdown",
   "metadata": {},
   "source": [
    "We order our statistics by the ranking and reset the index.\n",
    "\n",
    "We compute the actual rank (starting in 1)."
   ]
  },
  {
   "cell_type": "code",
   "execution_count": 38,
   "metadata": {
    "ExecuteTime": {
     "end_time": "2020-12-13T20:55:34.803988Z",
     "start_time": "2020-12-13T20:55:34.799988Z"
    }
   },
   "outputs": [],
   "source": [
    "statistics = statistics.sort_values(by=[\"ranking\"])\n",
    "statistics = statistics.reset_index()\n",
    "statistics[\"rank\"] = statistics.index+1"
   ]
  },
  {
   "cell_type": "markdown",
   "metadata": {
    "ExecuteTime": {
     "end_time": "2020-12-07T17:05:40.594445Z",
     "start_time": "2020-12-07T17:05:40.591445Z"
    }
   },
   "source": [
    "Now, we compute precision and recall for each position of the ranking. Notice that we are making the table explained in the lecture notes (slide 51)."
   ]
  },
  {
   "cell_type": "code",
   "execution_count": 39,
   "metadata": {
    "ExecuteTime": {
     "end_time": "2020-12-13T20:55:34.810989Z",
     "start_time": "2020-12-13T20:55:34.804988Z"
    }
   },
   "outputs": [],
   "source": [
    "statistics[\"relevant\"] = statistics[\"binary_score\"]\n",
    "statistics[\"rel_retrieved\"] = statistics[\"binary_score\"].cumsum()\n",
    "statistics[\"precision\"] = statistics[\"rel_retrieved\"] / statistics[\"rank\"]\n",
    "statistics[\"recall\"] = statistics[\"rel_retrieved\"] / r\n",
    "statistics.drop([\"doc_position\", \"score\", \"binary_score\"], axis=1, inplace=True)"
   ]
  },
  {
   "cell_type": "code",
   "execution_count": 40,
   "metadata": {
    "ExecuteTime": {
     "end_time": "2020-12-13T20:55:34.825987Z",
     "start_time": "2020-12-13T20:55:34.811989Z"
    }
   },
   "outputs": [
    {
     "data": {
      "text/html": [
       "<div>\n",
       "<style scoped>\n",
       "    .dataframe tbody tr th:only-of-type {\n",
       "        vertical-align: middle;\n",
       "    }\n",
       "\n",
       "    .dataframe tbody tr th {\n",
       "        vertical-align: top;\n",
       "    }\n",
       "\n",
       "    .dataframe thead th {\n",
       "        text-align: right;\n",
       "    }\n",
       "</style>\n",
       "<table border=\"1\" class=\"dataframe\">\n",
       "  <thead>\n",
       "    <tr style=\"text-align: right;\">\n",
       "      <th></th>\n",
       "      <th>cord_uid</th>\n",
       "      <th>rel_score</th>\n",
       "      <th>ranking</th>\n",
       "      <th>query</th>\n",
       "      <th>rank</th>\n",
       "      <th>relevant</th>\n",
       "      <th>rel_retrieved</th>\n",
       "      <th>precision</th>\n",
       "      <th>recall</th>\n",
       "    </tr>\n",
       "  </thead>\n",
       "  <tbody>\n",
       "    <tr>\n",
       "      <th>0</th>\n",
       "      <td>kftchnhz</td>\n",
       "      <td>0.420703</td>\n",
       "      <td>0</td>\n",
       "      <td>2.0</td>\n",
       "      <td>1</td>\n",
       "      <td>0.0</td>\n",
       "      <td>0.0</td>\n",
       "      <td>0.000000</td>\n",
       "      <td>0.000000</td>\n",
       "    </tr>\n",
       "    <tr>\n",
       "      <th>1</th>\n",
       "      <td>2p9j4ksy</td>\n",
       "      <td>0.387222</td>\n",
       "      <td>1</td>\n",
       "      <td>2.0</td>\n",
       "      <td>2</td>\n",
       "      <td>0.0</td>\n",
       "      <td>0.0</td>\n",
       "      <td>0.000000</td>\n",
       "      <td>0.000000</td>\n",
       "    </tr>\n",
       "    <tr>\n",
       "      <th>2</th>\n",
       "      <td>akb96git</td>\n",
       "      <td>0.348274</td>\n",
       "      <td>2</td>\n",
       "      <td>2.0</td>\n",
       "      <td>3</td>\n",
       "      <td>1.0</td>\n",
       "      <td>1.0</td>\n",
       "      <td>0.333333</td>\n",
       "      <td>0.004255</td>\n",
       "    </tr>\n",
       "    <tr>\n",
       "      <th>3</th>\n",
       "      <td>h5ufxzv9</td>\n",
       "      <td>0.323658</td>\n",
       "      <td>3</td>\n",
       "      <td>2.0</td>\n",
       "      <td>4</td>\n",
       "      <td>0.0</td>\n",
       "      <td>1.0</td>\n",
       "      <td>0.250000</td>\n",
       "      <td>0.004255</td>\n",
       "    </tr>\n",
       "    <tr>\n",
       "      <th>4</th>\n",
       "      <td>lv8dvdp7</td>\n",
       "      <td>0.292001</td>\n",
       "      <td>4</td>\n",
       "      <td>2.0</td>\n",
       "      <td>5</td>\n",
       "      <td>0.0</td>\n",
       "      <td>1.0</td>\n",
       "      <td>0.200000</td>\n",
       "      <td>0.004255</td>\n",
       "    </tr>\n",
       "    <tr>\n",
       "      <th>...</th>\n",
       "      <td>...</td>\n",
       "      <td>...</td>\n",
       "      <td>...</td>\n",
       "      <td>...</td>\n",
       "      <td>...</td>\n",
       "      <td>...</td>\n",
       "      <td>...</td>\n",
       "      <td>...</td>\n",
       "      <td>...</td>\n",
       "    </tr>\n",
       "    <tr>\n",
       "      <th>1033</th>\n",
       "      <td>wr2sgixs</td>\n",
       "      <td>0.000660</td>\n",
       "      <td>74822</td>\n",
       "      <td>2.0</td>\n",
       "      <td>1034</td>\n",
       "      <td>0.0</td>\n",
       "      <td>230.0</td>\n",
       "      <td>0.222437</td>\n",
       "      <td>0.978723</td>\n",
       "    </tr>\n",
       "    <tr>\n",
       "      <th>1034</th>\n",
       "      <td>uxnxsdtw</td>\n",
       "      <td>0.000621</td>\n",
       "      <td>74998</td>\n",
       "      <td>2.0</td>\n",
       "      <td>1035</td>\n",
       "      <td>0.0</td>\n",
       "      <td>230.0</td>\n",
       "      <td>0.222222</td>\n",
       "      <td>0.978723</td>\n",
       "    </tr>\n",
       "    <tr>\n",
       "      <th>1035</th>\n",
       "      <td>fvj3cpie</td>\n",
       "      <td>0.000606</td>\n",
       "      <td>75060</td>\n",
       "      <td>2.0</td>\n",
       "      <td>1036</td>\n",
       "      <td>0.0</td>\n",
       "      <td>230.0</td>\n",
       "      <td>0.222008</td>\n",
       "      <td>0.978723</td>\n",
       "    </tr>\n",
       "    <tr>\n",
       "      <th>1036</th>\n",
       "      <td>xhffsa77</td>\n",
       "      <td>0.000573</td>\n",
       "      <td>75198</td>\n",
       "      <td>2.0</td>\n",
       "      <td>1037</td>\n",
       "      <td>0.0</td>\n",
       "      <td>230.0</td>\n",
       "      <td>0.221794</td>\n",
       "      <td>0.978723</td>\n",
       "    </tr>\n",
       "    <tr>\n",
       "      <th>1037</th>\n",
       "      <td>3xq5jwof</td>\n",
       "      <td>0.000502</td>\n",
       "      <td>75438</td>\n",
       "      <td>2.0</td>\n",
       "      <td>1038</td>\n",
       "      <td>0.0</td>\n",
       "      <td>230.0</td>\n",
       "      <td>0.221580</td>\n",
       "      <td>0.978723</td>\n",
       "    </tr>\n",
       "  </tbody>\n",
       "</table>\n",
       "<p>1038 rows × 9 columns</p>\n",
       "</div>"
      ],
      "text/plain": [
       "      cord_uid  rel_score  ranking  query  rank  relevant  rel_retrieved  \\\n",
       "0     kftchnhz   0.420703        0    2.0     1       0.0            0.0   \n",
       "1     2p9j4ksy   0.387222        1    2.0     2       0.0            0.0   \n",
       "2     akb96git   0.348274        2    2.0     3       1.0            1.0   \n",
       "3     h5ufxzv9   0.323658        3    2.0     4       0.0            1.0   \n",
       "4     lv8dvdp7   0.292001        4    2.0     5       0.0            1.0   \n",
       "...        ...        ...      ...    ...   ...       ...            ...   \n",
       "1033  wr2sgixs   0.000660    74822    2.0  1034       0.0          230.0   \n",
       "1034  uxnxsdtw   0.000621    74998    2.0  1035       0.0          230.0   \n",
       "1035  fvj3cpie   0.000606    75060    2.0  1036       0.0          230.0   \n",
       "1036  xhffsa77   0.000573    75198    2.0  1037       0.0          230.0   \n",
       "1037  3xq5jwof   0.000502    75438    2.0  1038       0.0          230.0   \n",
       "\n",
       "      precision    recall  \n",
       "0      0.000000  0.000000  \n",
       "1      0.000000  0.000000  \n",
       "2      0.333333  0.004255  \n",
       "3      0.250000  0.004255  \n",
       "4      0.200000  0.004255  \n",
       "...         ...       ...  \n",
       "1033   0.222437  0.978723  \n",
       "1034   0.222222  0.978723  \n",
       "1035   0.222008  0.978723  \n",
       "1036   0.221794  0.978723  \n",
       "1037   0.221580  0.978723  \n",
       "\n",
       "[1038 rows x 9 columns]"
      ]
     },
     "execution_count": 40,
     "metadata": {},
     "output_type": "execute_result"
    }
   ],
   "source": [
    "statistics"
   ]
  },
  {
   "cell_type": "markdown",
   "metadata": {},
   "source": [
    "We also compute the Mean Average Precision, the P@5 and P@10 and the R-Precision.\n",
    "\n",
    "These metrics and the precision and recall will be very helpful for the evaluation of our models.\n",
    "\n",
    "* **Precision** = relevant documents retrieved / documents retrieved. \n",
    "* **Recall** = relevant documents retrieved / total amount of relevant documents\n",
    "* **P@X**: precision at position X of our ranking\n",
    "* **R-Precision**: precision at position R of our ranking, being R the total number of relevant documents for that query (remember that before we computed some r? That r is this R.)\n",
    "* **Mean Average Precision**: average of precisions after some relevant document is retrieved."
   ]
  },
  {
   "cell_type": "code",
   "execution_count": 41,
   "metadata": {
    "ExecuteTime": {
     "end_time": "2020-12-13T20:55:34.830989Z",
     "start_time": "2020-12-13T20:55:34.826988Z"
    }
   },
   "outputs": [
    {
     "name": "stdout",
     "output_type": "stream",
     "text": [
      "Mean average precision of TFIDF model for query 2 ==> 0.3546988024393504\n",
      "R-precision of TFIDF model for query 2 ==> 0.4\n",
      "P@5 of this model for query 2 ==> 0.2\n",
      "P@10 of this model for query 2 ==> 0.4\n"
     ]
    }
   ],
   "source": [
    "mavp = (statistics[\"precision\"] * statistics[\"relevant\"]).sum() / r\n",
    "r_precision = statistics.iloc[int(r-1)].precision\n",
    "p_5 = statistics.iloc[4].precision\n",
    "p_10 = statistics.iloc[9].precision\n",
    "\n",
    "print(f\"Mean average precision of TFIDF model for query 2 ==> {mavp}\")\n",
    "print(f\"R-precision of TFIDF model for query 2 ==> {r_precision}\")\n",
    "print(f\"P@5 of this model for query 2 ==> {p_5}\")\n",
    "print(f\"P@10 of this model for query 2 ==> {p_10}\")"
   ]
  },
  {
   "cell_type": "markdown",
   "metadata": {},
   "source": [
    "Now we will plot the precision vs recall figure, but using the standarized metric as explained in class."
   ]
  },
  {
   "cell_type": "code",
   "execution_count": 42,
   "metadata": {
    "ExecuteTime": {
     "end_time": "2020-12-13T20:55:34.833988Z",
     "start_time": "2020-12-13T20:55:34.831987Z"
    }
   },
   "outputs": [],
   "source": [
    "precision = statistics[\"precision\"].values\n",
    "recall = statistics[\"recall\"].values"
   ]
  },
  {
   "cell_type": "code",
   "execution_count": 43,
   "metadata": {
    "ExecuteTime": {
     "end_time": "2020-12-13T20:55:34.838987Z",
     "start_time": "2020-12-13T20:55:34.834987Z"
    }
   },
   "outputs": [],
   "source": [
    "def get_higher_precision(statistics, recall):\n",
    "    \"\"\"\n",
    "    Auxiliary function to obtain the higher precision for a given recall value.\n",
    "    \n",
    "    \"\"\"\n",
    "    try:\n",
    "        index = statistics.index[statistics['recall'] >= recall].tolist()[0] \n",
    "        return statistics.iloc[index:][\"precision\"].max()\n",
    "    except:\n",
    "        return 0"
   ]
  },
  {
   "cell_type": "code",
   "execution_count": 44,
   "metadata": {
    "ExecuteTime": {
     "end_time": "2020-12-13T20:55:34.850988Z",
     "start_time": "2020-12-13T20:55:34.844990Z"
    }
   },
   "outputs": [],
   "source": [
    "precision_recall = [[recall_i, get_higher_precision(statistics, recall_i)] for recall_i in np.arange(0,recall.max()+0.1, 0.1)]\n",
    "precision = [precision[1] for precision in precision_recall]\n",
    "recall = [recall[0] for recall in precision_recall]"
   ]
  },
  {
   "cell_type": "code",
   "execution_count": 45,
   "metadata": {
    "ExecuteTime": {
     "end_time": "2020-12-13T20:55:34.954988Z",
     "start_time": "2020-12-13T20:55:34.851988Z"
    }
   },
   "outputs": [
    {
     "data": {
      "image/png": "[encoded data removed]",
      "text/plain": [
       "<Figure size 360x360 with 1 Axes>"
      ]
     },
     "metadata": {
      "needs_background": "light"
     },
     "output_type": "display_data"
    }
   ],
   "source": [
    "plt.figure(figsize=(5,5))\n",
    "plt.title(\"Precision vs recall standardized\")\n",
    "plt.plot(recall, precision, \"r-o\")\n",
    "plt.axis([0, 1, 0, 1])\n",
    "plt.xlabel(\"Recall\")\n",
    "plt.ylabel(\"Precision\")\n",
    "plt.show()"
   ]
  },
  {
   "cell_type": "markdown",
   "metadata": {},
   "source": [
    "### Parameterized Evaluation\n",
    "\n",
    "Before, we have explained step by step how the statistics are computed.\n",
    "\n",
    "The following three cells have the same code as above, but in functions so as to be reused later."
   ]
  },
  {
   "cell_type": "code",
   "execution_count": 46,
   "metadata": {
    "ExecuteTime": {
     "end_time": "2020-12-13T20:55:34.958990Z",
     "start_time": "2020-12-13T20:55:34.955988Z"
    }
   },
   "outputs": [],
   "source": [
    "def launch(function, model,dictionary,bow,index,titles):\n",
    "    \"\"\"\n",
    "    God function that allow us to pass independent launch query functions to our get_statistics function. \n",
    "    For more info, check Currying (Functional Programming).\n",
    "    \n",
    "    \"\"\"\n",
    "    def h(query):\n",
    "        return function(model,dictionary,bow,index,query,titles)\n",
    "    return h"
   ]
  },
  {
   "cell_type": "code",
   "execution_count": 47,
   "metadata": {
    "ExecuteTime": {
     "end_time": "2020-12-13T20:55:34.965988Z",
     "start_time": "2020-12-13T20:55:34.959988Z"
    }
   },
   "outputs": [],
   "source": [
    "def get_statistics(launch_query, queries, titles, metadata, judgements):\n",
    "    \"\"\"\n",
    "    General function that allow us to get statistics for all queries given a specific launch query function (model).\n",
    "    \n",
    "    Returns\n",
    "    -------\n",
    "    It returns all the metrics explained before.\n",
    "    \"\"\"\n",
    "    results = []\n",
    "    for index in range(len(queries)):\n",
    "        ranking, _ = launch_query(queries.iloc[index][0])#\n",
    "        result = get_statistics_query(ranking, index+1, titles, metadata, judgements)\n",
    "        results.append(result)\n",
    "    mavp = np.array([query[\"mavp\"] for query in results]).mean()\n",
    "    precision = np.array([query[\"precision\"] for query in results]).mean(axis=0)\n",
    "    r_precision = [query[\"r-precision\"] for query in results]\n",
    "    p_5 = [query[\"p_5\"] for query in results]\n",
    "    p_10 = [query[\"p_10\"] for query in results]\n",
    "    recall = np.array([query[\"recall\"] for query in results]).mean(axis=0)\n",
    "    return {\"mavp\": mavp, \"precision\":precision, \"r-precision\":r_precision, \"recall\":recall, \"p_5\": p_5, \"p_10\": p_10}"
   ]
  },
  {
   "cell_type": "code",
   "execution_count": 48,
   "metadata": {
    "ExecuteTime": {
     "end_time": "2020-12-13T20:55:35.033987Z",
     "start_time": "2020-12-13T20:55:34.966989Z"
    }
   },
   "outputs": [],
   "source": [
    "def get_statistics_query(ranking, id_query, titles, metadata, judgements):\n",
    "    \"\"\"\n",
    "    Individual function to compute the statistics for a specific query.\n",
    "    \n",
    "    Returns\n",
    "    -------\n",
    "    It returns all the metrics explained before.\n",
    "    \"\"\"\n",
    "    ranking = [[position[0], position[1]] for position in ranking]\n",
    "    ranking = pd.DataFrame(ranking, columns=[\"doc_position\", \"rel_score\"])\n",
    "    results = ranking\n",
    "    results[\"sha\"] = results[\"doc_position\"].map(lambda x: titles[\"id\"].iloc[x])\n",
    "    results[\"ranking\"] = results.index\n",
    "    results = results.set_index(\"sha\").join(metadata.set_index(\"sha\"))\n",
    "    results = results.sort_values(by=[\"ranking\"])\n",
    "    results = results.dropna()\n",
    "    judgements_parcial = judgements[judgements[\"query\"] == id_query]\n",
    "    statistics = results.set_index(\"cord_uid\").join(judgements_parcial.set_index(\"cord_uid\"))\n",
    "    statistics = statistics.dropna()\n",
    "    r = statistics[\"binary_score\"].sum()\n",
    "    statistics = statistics[statistics[\"rel_score\"]>0]\n",
    "    statistics = statistics.sort_values(by=[\"ranking\"])\n",
    "    statistics = statistics.reset_index()\n",
    "    statistics[\"rank\"] = statistics.index+1\n",
    "    statistics[\"relevant\"] = statistics[\"binary_score\"]\n",
    "    statistics[\"rel_retrieved\"] = statistics[\"binary_score\"].cumsum()\n",
    "    statistics[\"precision\"] = statistics[\"rel_retrieved\"] / statistics[\"rank\"]\n",
    "    r = statistics[\"relevant\"].sum()\n",
    "    if r == 0:\n",
    "        return {\"mavp\": 0, \"r-precision\": 0, \"precision\": list(np.zeros(11)), \"recall\":0, \"p_10\": 0, \"p_5\": 0}\n",
    "    statistics[\"recall\"] = statistics[\"rel_retrieved\"] / r\n",
    "    statistics.drop([\"doc_position\", \"score\", \"binary_score\"], axis=1, inplace=True)\n",
    "    mavp = (statistics[\"precision\"] * statistics[\"relevant\"]).sum() / r\n",
    "    r_precision = statistics.iloc[int(r-1)].precision\n",
    "    precision = statistics[\"precision\"].values\n",
    "    recall = statistics[\"recall\"].values\n",
    "    recall_range = np.arange(0,recall.max()+0.1, 0.1)\n",
    "    precision_recall = [[recall, get_higher_precision(statistics, recall)] for recall in recall_range]\n",
    "    precision = [precision[1] for precision in precision_recall]\n",
    "    p_5 = statistics.iloc[4].precision\n",
    "    p_10 = statistics.iloc[9].precision\n",
    "    return {\"mavp\": mavp, \"r-precision\": r_precision, \"precision\": precision, \"recall\":recall_range, \"p_10\": p_10, \"p_5\":p_5}"
   ]
  },
  {
   "cell_type": "markdown",
   "metadata": {},
   "source": [
    "## TFIDF 2.0\n",
    "\n",
    "Once we have all our structure created: launching queries and computing statistics, we create 4 variations of the TFIDF Model playing with the SMART notation values."
   ]
  },
  {
   "cell_type": "code",
   "execution_count": 49,
   "metadata": {
    "ExecuteTime": {
     "end_time": "2020-12-13T20:59:48.549007Z",
     "start_time": "2020-12-13T20:55:35.034989Z"
    }
   },
   "outputs": [],
   "source": [
    "# 4-6 minutes\n",
    "model_tfidf_3 = models.TfidfModel(bow, smartirs=\"lpu\") # Logarithmic term frequency weighting, probabilistic document frequency weighting \n",
    "                                                        # and pivoted unique normalization\n",
    "model_tfidf_2 = models.TfidfModel(bow, smartirs=\"lfc\") # Logarithmic term frequency weighting, idf document frequency weighting \n",
    "                                                         # and cosine normalization\n",
    "model_tfidf_5 = models.TfidfModel(bow, smartirs=\"ltc\") # Logarithmic term frequency weighting, zero-corrected idf document frequency weighting \n",
    "                                                         # and cosine normalization\n",
    "model_tfidf_4 = models.TfidfModel(bow, smartirs=\"nnn\") # Raw term frequency weighting, none document frequency weighting \n",
    "                                                         # and none normalization"
   ]
  },
  {
   "cell_type": "markdown",
   "metadata": {},
   "source": [
    "## Word2Vec\n",
    "\n",
    "After creating several TFIDF models, we wanted to try the Word2Vec model."
   ]
  },
  {
   "cell_type": "code",
   "execution_count": 50,
   "metadata": {
    "ExecuteTime": {
     "end_time": "2020-12-13T20:59:48.555007Z",
     "start_time": "2020-12-13T20:59:48.550007Z"
    }
   },
   "outputs": [],
   "source": [
    "REPLACE_NO_SPACE = re.compile(\"(\\&)|(\\%)|(\\$)|(\\€)|(\\.)|(\\;)|(\\:)|(\\!)|(\\')|(\\?)|(\\,)|(\\\")|(\\()|(\\))|(\\[)|(\\])|(\\d+)|(\\⁰)|(\\•)|(\\\\')\")\n",
    "REPLACE_WITH_SPACE = re.compile(\"(<br\\s*/><br\\s*/>)|(\\-)|(\\/)\")\n",
    "NO_SPACE = \"\"\n",
    "SPACE = \" \"\n",
    "\n",
    "def clean(doc):\n",
    "    \"\"\"\n",
    "    Basic function to clean a document being a document a string with words separated by blank spaces.\n",
    "    \"\"\"\n",
    "    doc = REPLACE_NO_SPACE.sub(NO_SPACE, doc.lower())\n",
    "    doc = REPLACE_WITH_SPACE.sub(SPACE, doc)\n",
    "    stopset = set(stopwords.words(\"english\"))\n",
    "    stemmer = PorterStemmer()\n",
    "    tokens = wordpunct_tokenize(doc)\n",
    "    clean = [token.lower() for token in tokens if token not in stopset and len(token) > 2 and not token.isnumeric()]\n",
    "    final = [stemmer.stem(token) for token in clean]\n",
    "    return \" \".join(final)"
   ]
  },
  {
   "cell_type": "markdown",
   "metadata": {},
   "source": [
    "### Creation\n",
    "\n",
    "The first thing that we need to do is to create our Word2Vec model. To do that, we need to obtain our dataset (documents and queries).\n",
    "\n",
    "The following cells create the dataset for our model."
   ]
  },
  {
   "cell_type": "code",
   "execution_count": 51,
   "metadata": {
    "ExecuteTime": {
     "end_time": "2020-12-13T20:59:53.308005Z",
     "start_time": "2020-12-13T20:59:48.556006Z"
    }
   },
   "outputs": [],
   "source": [
    "docs = pd.DataFrame((line for line in open(\"docs.txt\")), columns = [\"preprocess\"])"
   ]
  },
  {
   "cell_type": "code",
   "execution_count": 52,
   "metadata": {
    "ExecuteTime": {
     "end_time": "2020-12-13T20:59:53.325007Z",
     "start_time": "2020-12-13T20:59:53.309006Z"
    }
   },
   "outputs": [],
   "source": [
    "queries_w2v = queries.copy()\n",
    "queries_w2v[\"preprocess\"] = queries_w2v[\"query\"].apply(lambda x: clean(x))"
   ]
  },
  {
   "cell_type": "code",
   "execution_count": 53,
   "metadata": {
    "ExecuteTime": {
     "end_time": "2020-12-13T20:59:53.357006Z",
     "start_time": "2020-12-13T20:59:53.326006Z"
    }
   },
   "outputs": [],
   "source": [
    "combined = pd.concat((docs[\"preprocess\"], queries_w2v[\"preprocess\"])).sample(frac=1).reset_index(drop=True)"
   ]
  },
  {
   "cell_type": "markdown",
   "metadata": {},
   "source": [
    "Once we have our dataset, it´s time to create and train our model. \n",
    "* **Size**: this is the size of the word embeddings. We chose this value after looking in some papers that suggested using a size between 200-500 for large corpus (as ours).\n",
    "* **Workers**: if you execute this code, please change this number to maximum number of threads of your computer (cores x 2 if you have hyper threading)\n",
    "\n",
    "**IMPORTANT** The following cell takes 10 minutes to finish in a computer with a Ryzen 5 3600. Remember this before executing it."
   ]
  },
  {
   "cell_type": "code",
   "execution_count": 54,
   "metadata": {
    "ExecuteTime": {
     "end_time": "2020-12-13T21:10:30.448283Z",
     "start_time": "2020-12-13T20:59:53.358006Z"
    }
   },
   "outputs": [],
   "source": [
    "# 10-20 minutes\n",
    "w2v_model = models.Word2Vec([i.split() for i in combined], size = 300, workers=12)"
   ]
  },
  {
   "cell_type": "code",
   "execution_count": 55,
   "metadata": {
    "ExecuteTime": {
     "end_time": "2020-12-13T21:10:30.457284Z",
     "start_time": "2020-12-13T21:10:30.452284Z"
    }
   },
   "outputs": [
    {
     "data": {
      "text/plain": [
       "330933"
      ]
     },
     "execution_count": 55,
     "metadata": {},
     "output_type": "execute_result"
    }
   ],
   "source": [
    "len(w2v_model.wv.vocab) # We check the size of our vocabulary, having more than 300k unique words."
   ]
  },
  {
   "cell_type": "markdown",
   "metadata": {},
   "source": [
    "### Saving\n",
    "\n",
    "After creating our model, we can save it for later use in other applications."
   ]
  },
  {
   "cell_type": "code",
   "execution_count": 56,
   "metadata": {
    "ExecuteTime": {
     "end_time": "2020-12-13T21:10:31.407284Z",
     "start_time": "2020-12-13T21:10:30.458283Z"
    }
   },
   "outputs": [],
   "source": [
    "word_vectors = w2v_model.wv\n",
    "word_vectors.save(\"word2vec.wordvectors\")"
   ]
  },
  {
   "cell_type": "code",
   "execution_count": 57,
   "metadata": {
    "ExecuteTime": {
     "end_time": "2020-12-13T21:10:32.586283Z",
     "start_time": "2020-12-13T21:10:31.408284Z"
    }
   },
   "outputs": [],
   "source": [
    "w2v_model.save(\"word2vec.model\")"
   ]
  },
  {
   "cell_type": "code",
   "execution_count": 58,
   "metadata": {
    "ExecuteTime": {
     "end_time": "2020-12-13T21:10:32.623284Z",
     "start_time": "2020-12-13T21:10:32.587286Z"
    }
   },
   "outputs": [],
   "source": [
    "del w2v_model # We delete the model since we only need the word_vectors"
   ]
  },
  {
   "cell_type": "markdown",
   "metadata": {},
   "source": [
    "### Loading\n",
    "\n",
    "We load our word_vectors."
   ]
  },
  {
   "cell_type": "code",
   "execution_count": 59,
   "metadata": {
    "ExecuteTime": {
     "end_time": "2020-12-13T21:10:34.871287Z",
     "start_time": "2020-12-13T21:10:32.624284Z"
    }
   },
   "outputs": [],
   "source": [
    "from gensim.models import KeyedVectors\n",
    "word_vectors = KeyedVectors.load(\"word2vec.wordvectors\", mmap='r')"
   ]
  },
  {
   "cell_type": "markdown",
   "metadata": {},
   "source": [
    "### Getting embedding"
   ]
  },
  {
   "cell_type": "code",
   "execution_count": 60,
   "metadata": {
    "ExecuteTime": {
     "end_time": "2020-12-13T21:10:34.879283Z",
     "start_time": "2020-12-13T21:10:34.874285Z"
    }
   },
   "outputs": [],
   "source": [
    "def get_embedding_w2v(doc_tokens):\n",
    "    \"\"\"\n",
    "    Basic function to obtain the vector representation of a given document (list of tokens).\n",
    "    \n",
    "    \"\"\"\n",
    "    embeddings = []\n",
    "    if len(doc_tokens) < 1: # If the length of our document is 0 we return a vector of zeros with size 300 (remember this is the vector size used when creating the model)\n",
    "        return np.zeros(300)\n",
    "    else:\n",
    "        for token in doc_tokens:\n",
    "            if token in word_vectors.vocab: # if the word is in our vocabulary, we get its vector\n",
    "                embeddings.append(word_vectors.word_vec(token))\n",
    "            else:\n",
    "                embeddings.append(np.random.rand(300)) # if it´s not in our vocabulary a random vector is used\n",
    "        return np.mean(embeddings, axis = 0) # the vector representation of a document is the mean of its word´s vectors"
   ]
  },
  {
   "cell_type": "markdown",
   "metadata": {},
   "source": [
    "### Queries embeddings\n",
    "\n",
    "We compute the vector representations of our queries."
   ]
  },
  {
   "cell_type": "code",
   "execution_count": 61,
   "metadata": {
    "ExecuteTime": {
     "end_time": "2020-12-13T21:10:34.913284Z",
     "start_time": "2020-12-13T21:10:34.880284Z"
    }
   },
   "outputs": [
    {
     "data": {
      "text/html": [
       "<div>\n",
       "<style scoped>\n",
       "    .dataframe tbody tr th:only-of-type {\n",
       "        vertical-align: middle;\n",
       "    }\n",
       "\n",
       "    .dataframe tbody tr th {\n",
       "        vertical-align: top;\n",
       "    }\n",
       "\n",
       "    .dataframe thead th {\n",
       "        text-align: right;\n",
       "    }\n",
       "</style>\n",
       "<table border=\"1\" class=\"dataframe\">\n",
       "  <thead>\n",
       "    <tr style=\"text-align: right;\">\n",
       "      <th></th>\n",
       "      <th>query</th>\n",
       "      <th>preprocess</th>\n",
       "      <th>embeddings</th>\n",
       "    </tr>\n",
       "  </thead>\n",
       "  <tbody>\n",
       "    <tr>\n",
       "      <th>1</th>\n",
       "      <td>coronavirus origin</td>\n",
       "      <td>coronaviru origin</td>\n",
       "      <td>[0.6614406, -0.07931483, 0.037662506, -0.30949...</td>\n",
       "    </tr>\n",
       "    <tr>\n",
       "      <th>2</th>\n",
       "      <td>coronavirus response to weather changes</td>\n",
       "      <td>coronaviru respons weather chang</td>\n",
       "      <td>[0.49327156, -0.815129, -0.35713598, 1.5256225...</td>\n",
       "    </tr>\n",
       "    <tr>\n",
       "      <th>3</th>\n",
       "      <td>coronavirus immunity</td>\n",
       "      <td>coronaviru immun</td>\n",
       "      <td>[0.38249636, -1.8734276, 1.2193968, 0.54668176...</td>\n",
       "    </tr>\n",
       "    <tr>\n",
       "      <th>4</th>\n",
       "      <td>how do people die from the coronavirus</td>\n",
       "      <td>peopl die coronaviru</td>\n",
       "      <td>[0.0028675993, 0.12193402, 1.5173849, 0.790517...</td>\n",
       "    </tr>\n",
       "    <tr>\n",
       "      <th>5</th>\n",
       "      <td>animal models of COVID-19</td>\n",
       "      <td>anim model covid</td>\n",
       "      <td>[-0.7843626, 1.1147285, -0.22019212, 0.3205230...</td>\n",
       "    </tr>\n",
       "  </tbody>\n",
       "</table>\n",
       "</div>"
      ],
      "text/plain": [
       "                                     query                        preprocess  \\\n",
       "1                       coronavirus origin                 coronaviru origin   \n",
       "2  coronavirus response to weather changes  coronaviru respons weather chang   \n",
       "3                     coronavirus immunity                  coronaviru immun   \n",
       "4   how do people die from the coronavirus              peopl die coronaviru   \n",
       "5                animal models of COVID-19                  anim model covid   \n",
       "\n",
       "                                          embeddings  \n",
       "1  [0.6614406, -0.07931483, 0.037662506, -0.30949...  \n",
       "2  [0.49327156, -0.815129, -0.35713598, 1.5256225...  \n",
       "3  [0.38249636, -1.8734276, 1.2193968, 0.54668176...  \n",
       "4  [0.0028675993, 0.12193402, 1.5173849, 0.790517...  \n",
       "5  [-0.7843626, 1.1147285, -0.22019212, 0.3205230...  "
      ]
     },
     "execution_count": 61,
     "metadata": {},
     "output_type": "execute_result"
    }
   ],
   "source": [
    "queries_w2v[\"embeddings\"] = queries_w2v[\"preprocess\"].apply(lambda x: get_embedding_w2v(x.split()))\n",
    "queries_w2v.head()"
   ]
  },
  {
   "cell_type": "markdown",
   "metadata": {},
   "source": [
    "### Documents embeddings"
   ]
  },
  {
   "cell_type": "markdown",
   "metadata": {},
   "source": [
    "In order to reduce the amount of embeddings to be computed, we filter the documents and we only save the ones that have some query performed on it and appear in metadata.\n",
    "Then, we compute the embedding for each document, so as to have it precomputed and then, when computing the similarity, just taking this value."
   ]
  },
  {
   "cell_type": "code",
   "execution_count": 62,
   "metadata": {
    "ExecuteTime": {
     "end_time": "2020-12-13T21:10:34.923286Z",
     "start_time": "2020-12-13T21:10:34.914283Z"
    }
   },
   "outputs": [],
   "source": [
    "titles_w2v = titles.copy()\n",
    "titles_w2v = titles_w2v.reset_index(drop=True)"
   ]
  },
  {
   "cell_type": "code",
   "execution_count": 63,
   "metadata": {
    "ExecuteTime": {
     "end_time": "2020-12-13T21:10:34.945285Z",
     "start_time": "2020-12-13T21:10:34.924285Z"
    }
   },
   "outputs": [
    {
     "data": {
      "text/html": [
       "<div>\n",
       "<style scoped>\n",
       "    .dataframe tbody tr th:only-of-type {\n",
       "        vertical-align: middle;\n",
       "    }\n",
       "\n",
       "    .dataframe tbody tr th {\n",
       "        vertical-align: top;\n",
       "    }\n",
       "\n",
       "    .dataframe thead th {\n",
       "        text-align: right;\n",
       "    }\n",
       "</style>\n",
       "<table border=\"1\" class=\"dataframe\">\n",
       "  <thead>\n",
       "    <tr style=\"text-align: right;\">\n",
       "      <th></th>\n",
       "      <th>id</th>\n",
       "      <th>title</th>\n",
       "      <th>preprocess</th>\n",
       "    </tr>\n",
       "  </thead>\n",
       "  <tbody>\n",
       "    <tr>\n",
       "      <th>0</th>\n",
       "      <td>0001418189999fea7f7cbe3e82703d71c85a6fe5</td>\n",
       "      <td>Absence of surface expression of feline infect...</td>\n",
       "      <td>absenc surfac express felin infecti periton vi...</td>\n",
       "    </tr>\n",
       "    <tr>\n",
       "      <th>1</th>\n",
       "      <td>0003793cf9e709bc2b9d0c8111186f78fb73fc04</td>\n",
       "      <td>Title: Rethinking high-risk groups in COVID-19</td>\n",
       "      <td>titl rethink high risk group covid protect hig...</td>\n",
       "    </tr>\n",
       "    <tr>\n",
       "      <th>2</th>\n",
       "      <td>000379d7a7f37a2ccb978862b9f2016bd03259ea</td>\n",
       "      <td>ScienceDirect ScienceDirect Effect of Nanomate...</td>\n",
       "      <td>sciencedirect sciencedirect effect nanomateri ...</td>\n",
       "    </tr>\n",
       "    <tr>\n",
       "      <th>3</th>\n",
       "      <td>00039b94e6cb7609ecbddee1755314bcfeb77faa</td>\n",
       "      <td>Plasma inflammatory cytokines and chemokines i...</td>\n",
       "      <td>plasma inflammatori cytokin chemokin sever acu...</td>\n",
       "    </tr>\n",
       "    <tr>\n",
       "      <th>4</th>\n",
       "      <td>0003ddc51c4291d742855e9ac56076a3bea33ad7</td>\n",
       "      <td>Journal Pre-proofs The Fire This Time: The Str...</td>\n",
       "      <td>journal pre proof fire time stress racism infl...</td>\n",
       "    </tr>\n",
       "  </tbody>\n",
       "</table>\n",
       "</div>"
      ],
      "text/plain": [
       "                                         id  \\\n",
       "0  0001418189999fea7f7cbe3e82703d71c85a6fe5   \n",
       "1  0003793cf9e709bc2b9d0c8111186f78fb73fc04   \n",
       "2  000379d7a7f37a2ccb978862b9f2016bd03259ea   \n",
       "3  00039b94e6cb7609ecbddee1755314bcfeb77faa   \n",
       "4  0003ddc51c4291d742855e9ac56076a3bea33ad7   \n",
       "\n",
       "                                               title  \\\n",
       "0  Absence of surface expression of feline infect...   \n",
       "1     Title: Rethinking high-risk groups in COVID-19   \n",
       "2  ScienceDirect ScienceDirect Effect of Nanomate...   \n",
       "3  Plasma inflammatory cytokines and chemokines i...   \n",
       "4  Journal Pre-proofs The Fire This Time: The Str...   \n",
       "\n",
       "                                          preprocess  \n",
       "0  absenc surfac express felin infecti periton vi...  \n",
       "1  titl rethink high risk group covid protect hig...  \n",
       "2  sciencedirect sciencedirect effect nanomateri ...  \n",
       "3  plasma inflammatori cytokin chemokin sever acu...  \n",
       "4  journal pre proof fire time stress racism infl...  "
      ]
     },
     "execution_count": 63,
     "metadata": {},
     "output_type": "execute_result"
    }
   ],
   "source": [
    "docs = titles_w2v.join(docs)\n",
    "docs.head()"
   ]
  },
  {
   "cell_type": "code",
   "execution_count": 64,
   "metadata": {
    "ExecuteTime": {
     "end_time": "2020-12-13T21:10:35.031285Z",
     "start_time": "2020-12-13T21:10:34.946284Z"
    }
   },
   "outputs": [
    {
     "data": {
      "text/html": [
       "<div>\n",
       "<style scoped>\n",
       "    .dataframe tbody tr th:only-of-type {\n",
       "        vertical-align: middle;\n",
       "    }\n",
       "\n",
       "    .dataframe tbody tr th {\n",
       "        vertical-align: top;\n",
       "    }\n",
       "\n",
       "    .dataframe thead th {\n",
       "        text-align: right;\n",
       "    }\n",
       "</style>\n",
       "<table border=\"1\" class=\"dataframe\">\n",
       "  <thead>\n",
       "    <tr style=\"text-align: right;\">\n",
       "      <th></th>\n",
       "      <th>id</th>\n",
       "      <th>title</th>\n",
       "      <th>preprocess</th>\n",
       "      <th>sha</th>\n",
       "    </tr>\n",
       "  </thead>\n",
       "  <tbody>\n",
       "    <tr>\n",
       "      <th>1</th>\n",
       "      <td>0003793cf9e709bc2b9d0c8111186f78fb73fc04</td>\n",
       "      <td>Title: Rethinking high-risk groups in COVID-19</td>\n",
       "      <td>titl rethink high risk group covid protect hig...</td>\n",
       "      <td>0003793cf9e709bc2b9d0c8111186f78fb73fc04</td>\n",
       "    </tr>\n",
       "    <tr>\n",
       "      <th>3</th>\n",
       "      <td>00039b94e6cb7609ecbddee1755314bcfeb77faa</td>\n",
       "      <td>Plasma inflammatory cytokines and chemokines i...</td>\n",
       "      <td>plasma inflammatori cytokin chemokin sever acu...</td>\n",
       "      <td>00039b94e6cb7609ecbddee1755314bcfeb77faa</td>\n",
       "    </tr>\n",
       "    <tr>\n",
       "      <th>4</th>\n",
       "      <td>0003ddc51c4291d742855e9ac56076a3bea33ad7</td>\n",
       "      <td>Journal Pre-proofs The Fire This Time: The Str...</td>\n",
       "      <td>journal pre proof fire time stress racism infl...</td>\n",
       "      <td>0003ddc51c4291d742855e9ac56076a3bea33ad7</td>\n",
       "    </tr>\n",
       "    <tr>\n",
       "      <th>5</th>\n",
       "      <td>0004456994f6c1d5db7327990386d33c01cff32a</td>\n",
       "      <td></td>\n",
       "      <td>ackground influenza immunis healthcar worker e...</td>\n",
       "      <td>0004456994f6c1d5db7327990386d33c01cff32a</td>\n",
       "    </tr>\n",
       "    <tr>\n",
       "      <th>7</th>\n",
       "      <td>00060fb61742ff60e4e3ba4648c74a34cfe9560d</td>\n",
       "      <td></td>\n",
       "      <td>outbreak novel coronaviru diseas led current g...</td>\n",
       "      <td>00060fb61742ff60e4e3ba4648c74a34cfe9560d</td>\n",
       "    </tr>\n",
       "  </tbody>\n",
       "</table>\n",
       "</div>"
      ],
      "text/plain": [
       "                                         id  \\\n",
       "1  0003793cf9e709bc2b9d0c8111186f78fb73fc04   \n",
       "3  00039b94e6cb7609ecbddee1755314bcfeb77faa   \n",
       "4  0003ddc51c4291d742855e9ac56076a3bea33ad7   \n",
       "5  0004456994f6c1d5db7327990386d33c01cff32a   \n",
       "7  00060fb61742ff60e4e3ba4648c74a34cfe9560d   \n",
       "\n",
       "                                               title  \\\n",
       "1     Title: Rethinking high-risk groups in COVID-19   \n",
       "3  Plasma inflammatory cytokines and chemokines i...   \n",
       "4  Journal Pre-proofs The Fire This Time: The Str...   \n",
       "5                                                      \n",
       "7                                                      \n",
       "\n",
       "                                          preprocess  \\\n",
       "1  titl rethink high risk group covid protect hig...   \n",
       "3  plasma inflammatori cytokin chemokin sever acu...   \n",
       "4  journal pre proof fire time stress racism infl...   \n",
       "5  ackground influenza immunis healthcar worker e...   \n",
       "7  outbreak novel coronaviru diseas led current g...   \n",
       "\n",
       "                                        sha  \n",
       "1  0003793cf9e709bc2b9d0c8111186f78fb73fc04  \n",
       "3  00039b94e6cb7609ecbddee1755314bcfeb77faa  \n",
       "4  0003ddc51c4291d742855e9ac56076a3bea33ad7  \n",
       "5  0004456994f6c1d5db7327990386d33c01cff32a  \n",
       "7  00060fb61742ff60e4e3ba4648c74a34cfe9560d  "
      ]
     },
     "execution_count": 64,
     "metadata": {},
     "output_type": "execute_result"
    }
   ],
   "source": [
    "# With this filter, we only use documents that appear in both judgements and metadata files, i.e, documents that have queries related.\n",
    "docs[\"sha\"] = docs[\"id\"]\n",
    "inCorpus = metadata[metadata[\"sha\"].isin(docs[\"sha\"])][\"cord_uid\"]\n",
    "inJudgements = inCorpus[inCorpus.isin(judgements[\"cord_uid\"])]\n",
    "filtered = metadata.loc[metadata['cord_uid'].isin(inJudgements)][\"sha\"].values\n",
    "docs_filtered = docs.loc[docs[\"id\"].isin(filtered)]\n",
    "docs_filtered.head()"
   ]
  },
  {
   "cell_type": "code",
   "execution_count": 65,
   "metadata": {
    "ExecuteTime": {
     "end_time": "2020-12-13T21:16:12.953284Z",
     "start_time": "2020-12-13T21:10:35.032283Z"
    }
   },
   "outputs": [
    {
     "name": "stderr",
     "output_type": "stream",
     "text": [
      "C:\\Users\\César\\AppData\\Roaming\\Python\\Python37\\site-packages\\ipykernel_launcher.py:2: SettingWithCopyWarning: \n",
      "A value is trying to be set on a copy of a slice from a DataFrame.\n",
      "Try using .loc[row_indexer,col_indexer] = value instead\n",
      "\n",
      "See the caveats in the documentation: https://pandas.pydata.org/pandas-docs/stable/user_guide/indexing.html#returning-a-view-versus-a-copy\n",
      "  \n"
     ]
    }
   ],
   "source": [
    "# 5-10 minutes\n",
    "docs_filtered[\"embeddings\"] = docs_filtered[\"preprocess\"].apply(lambda x: get_embedding_w2v(x.split())) "
   ]
  },
  {
   "cell_type": "code",
   "execution_count": 66,
   "metadata": {
    "ExecuteTime": {
     "end_time": "2020-12-13T21:16:12.967284Z",
     "start_time": "2020-12-13T21:16:12.954284Z"
    }
   },
   "outputs": [
    {
     "data": {
      "text/html": [
       "<div>\n",
       "<style scoped>\n",
       "    .dataframe tbody tr th:only-of-type {\n",
       "        vertical-align: middle;\n",
       "    }\n",
       "\n",
       "    .dataframe tbody tr th {\n",
       "        vertical-align: top;\n",
       "    }\n",
       "\n",
       "    .dataframe thead th {\n",
       "        text-align: right;\n",
       "    }\n",
       "</style>\n",
       "<table border=\"1\" class=\"dataframe\">\n",
       "  <thead>\n",
       "    <tr style=\"text-align: right;\">\n",
       "      <th></th>\n",
       "      <th>id</th>\n",
       "      <th>title</th>\n",
       "      <th>preprocess</th>\n",
       "      <th>sha</th>\n",
       "      <th>embeddings</th>\n",
       "    </tr>\n",
       "  </thead>\n",
       "  <tbody>\n",
       "    <tr>\n",
       "      <th>1</th>\n",
       "      <td>0003793cf9e709bc2b9d0c8111186f78fb73fc04</td>\n",
       "      <td>Title: Rethinking high-risk groups in COVID-19</td>\n",
       "      <td>titl rethink high risk group covid protect hig...</td>\n",
       "      <td>0003793cf9e709bc2b9d0c8111186f78fb73fc04</td>\n",
       "      <td>[-0.32916860243830526, 0.46818981630104933, 0....</td>\n",
       "    </tr>\n",
       "    <tr>\n",
       "      <th>3</th>\n",
       "      <td>00039b94e6cb7609ecbddee1755314bcfeb77faa</td>\n",
       "      <td>Plasma inflammatory cytokines and chemokines i...</td>\n",
       "      <td>plasma inflammatori cytokin chemokin sever acu...</td>\n",
       "      <td>00039b94e6cb7609ecbddee1755314bcfeb77faa</td>\n",
       "      <td>[-0.1415512910500087, 0.10520359729138475, 0.0...</td>\n",
       "    </tr>\n",
       "    <tr>\n",
       "      <th>4</th>\n",
       "      <td>0003ddc51c4291d742855e9ac56076a3bea33ad7</td>\n",
       "      <td>Journal Pre-proofs The Fire This Time: The Str...</td>\n",
       "      <td>journal pre proof fire time stress racism infl...</td>\n",
       "      <td>0003ddc51c4291d742855e9ac56076a3bea33ad7</td>\n",
       "      <td>[0.0014704012, 0.029148642, 0.08660595, 1.3693...</td>\n",
       "    </tr>\n",
       "    <tr>\n",
       "      <th>5</th>\n",
       "      <td>0004456994f6c1d5db7327990386d33c01cff32a</td>\n",
       "      <td></td>\n",
       "      <td>ackground influenza immunis healthcar worker e...</td>\n",
       "      <td>0004456994f6c1d5db7327990386d33c01cff32a</td>\n",
       "      <td>[-0.08038487502362322, 0.4262211160832865, 0.1...</td>\n",
       "    </tr>\n",
       "    <tr>\n",
       "      <th>7</th>\n",
       "      <td>00060fb61742ff60e4e3ba4648c74a34cfe9560d</td>\n",
       "      <td></td>\n",
       "      <td>outbreak novel coronaviru diseas led current g...</td>\n",
       "      <td>00060fb61742ff60e4e3ba4648c74a34cfe9560d</td>\n",
       "      <td>[-0.13411465, 0.47845253, 0.48897663, 0.061470...</td>\n",
       "    </tr>\n",
       "  </tbody>\n",
       "</table>\n",
       "</div>"
      ],
      "text/plain": [
       "                                         id  \\\n",
       "1  0003793cf9e709bc2b9d0c8111186f78fb73fc04   \n",
       "3  00039b94e6cb7609ecbddee1755314bcfeb77faa   \n",
       "4  0003ddc51c4291d742855e9ac56076a3bea33ad7   \n",
       "5  0004456994f6c1d5db7327990386d33c01cff32a   \n",
       "7  00060fb61742ff60e4e3ba4648c74a34cfe9560d   \n",
       "\n",
       "                                               title  \\\n",
       "1     Title: Rethinking high-risk groups in COVID-19   \n",
       "3  Plasma inflammatory cytokines and chemokines i...   \n",
       "4  Journal Pre-proofs The Fire This Time: The Str...   \n",
       "5                                                      \n",
       "7                                                      \n",
       "\n",
       "                                          preprocess  \\\n",
       "1  titl rethink high risk group covid protect hig...   \n",
       "3  plasma inflammatori cytokin chemokin sever acu...   \n",
       "4  journal pre proof fire time stress racism infl...   \n",
       "5  ackground influenza immunis healthcar worker e...   \n",
       "7  outbreak novel coronaviru diseas led current g...   \n",
       "\n",
       "                                        sha  \\\n",
       "1  0003793cf9e709bc2b9d0c8111186f78fb73fc04   \n",
       "3  00039b94e6cb7609ecbddee1755314bcfeb77faa   \n",
       "4  0003ddc51c4291d742855e9ac56076a3bea33ad7   \n",
       "5  0004456994f6c1d5db7327990386d33c01cff32a   \n",
       "7  00060fb61742ff60e4e3ba4648c74a34cfe9560d   \n",
       "\n",
       "                                          embeddings  \n",
       "1  [-0.32916860243830526, 0.46818981630104933, 0....  \n",
       "3  [-0.1415512910500087, 0.10520359729138475, 0.0...  \n",
       "4  [0.0014704012, 0.029148642, 0.08660595, 1.3693...  \n",
       "5  [-0.08038487502362322, 0.4262211160832865, 0.1...  \n",
       "7  [-0.13411465, 0.47845253, 0.48897663, 0.061470...  "
      ]
     },
     "execution_count": 66,
     "metadata": {},
     "output_type": "execute_result"
    }
   ],
   "source": [
    "docs_filtered.head()"
   ]
  },
  {
   "cell_type": "markdown",
   "metadata": {},
   "source": [
    "### Launch query in W2V Model\n",
    "\n",
    "As before with the TFIDF model, we create two functions to launch queries with our W2V model.\n",
    "\n",
    "We will show you the results for query 2."
   ]
  },
  {
   "cell_type": "code",
   "execution_count": 67,
   "metadata": {
    "ExecuteTime": {
     "end_time": "2020-12-13T21:16:12.975283Z",
     "start_time": "2020-12-13T21:16:12.968286Z"
    }
   },
   "outputs": [],
   "source": [
    "from sklearn.metrics.pairwise import cosine_similarity\n",
    "i = 2\n",
    "\n",
    "def launch_query_w2v(query_name, queries, docs_filtered, verbose=0):\n",
    "    \"\"\"\n",
    "    General function that allow us to launch queries to our W2V model.\n",
    "    \n",
    "    Parameter:\n",
    "    query_name: the name of the query\n",
    "    queries: dataframe of the queries\n",
    "    docs_filtered: dataframe of filtered documents with their vector representation (the one explained before)\n",
    "    \n",
    "    Returns:\n",
    "    \n",
    "    It returns the ranking.\n",
    "    \n",
    "    \"\"\"\n",
    "    query_name = query_name\n",
    "    # We obtain the vector of the query\n",
    "    query_vector = queries[queries[\"query\"] == query_name][\"embeddings\"].values[0]\n",
    "    docs_aux = docs_filtered.copy()\n",
    "    # We compute the cosine similarity of the query´s vector with the documents vectors\n",
    "    docs_aux[\"score\"] = docs_aux[\"embeddings\"].apply(\n",
    "        lambda x: cosine_similarity(np.array(query_vector).reshape(1,-1), np.array(x).reshape(1,-1)).item())\n",
    "    # We order the docs by this similarity\n",
    "    docs_aux = docs_aux.sort_values(by=\"score\", ascending=False)\n",
    "    doc_pos = docs_aux.index.values\n",
    "    rel_score = docs_aux[\"score\"].values\n",
    "    ranking = [z for z in zip(doc_pos, rel_score)]\n",
    "    if verbose:\n",
    "        print(\"Query ==> \"+query_name)\n",
    "        for i in range(5):\n",
    "            score = docs_aux.iloc[i][\"score\"]\n",
    "            title = docs_aux.iloc[i][\"title\"] if docs_aux.iloc[i][\"title\"]!=\"\" else \"No title available\"\n",
    "            print(f\"[Score = {score}] \"+ title)\n",
    "    return ranking, \"Just to work\"\n",
    "\n",
    "def launch_w2v(function, queries, docs_filtered):\n",
    "    \"\"\"\n",
    "    Again, function that allow us to reuse our code for evaluation.\n",
    "    \"\"\"\n",
    "    def h(query_name):\n",
    "        return function(query_name, queries, docs_filtered)\n",
    "    return h"
   ]
  },
  {
   "cell_type": "markdown",
   "metadata": {},
   "source": [
    "Execution of query 2 with its results. Notice that now the scores are higher."
   ]
  },
  {
   "cell_type": "code",
   "execution_count": 68,
   "metadata": {
    "ExecuteTime": {
     "end_time": "2020-12-13T21:16:17.047285Z",
     "start_time": "2020-12-13T21:16:12.976284Z"
    }
   },
   "outputs": [
    {
     "name": "stdout",
     "output_type": "stream",
     "text": [
      "Query ==> coronavirus response to weather changes\n",
      "[Score = 0.6486539209462389] Journal Pre-proof The most eagerly awaited summer of the Anthropocene: A perspective of SARS- CoV-2 decay and seasonal change\n",
      "[Score = 0.6333170791968228] Frontiers in climate change-disease research\n",
      "[Score = 0.6332378308188926] Climate Change and Health in Canada\n",
      "[Score = 0.6318031391985218] The rise and fall of infectious disease in a warmer world [version 1; referees: 2 approved]\n",
      "[Score = 0.6291400652499851] Impact of global warming on viral diseases: what is the evidence? This review comes from a themed issue on Pharmaceutical biotechnology Edited\n"
     ]
    }
   ],
   "source": [
    "ranking, _ = launch_query_w2v(queries_w2v.iloc[1][0], queries_w2v, docs_filtered, verbose=1)"
   ]
  },
  {
   "cell_type": "markdown",
   "metadata": {},
   "source": [
    "## Fast text"
   ]
  },
  {
   "cell_type": "markdown",
   "metadata": {},
   "source": [
    "Fast text is a model based on the w2v model and the key difference among them is the use of n-grams. w2v treats each word as an atomic entity, so it generates a vector for each word. On the other hand, fastText considers each word as composed of character n-grams (the vector of the word is composed by the sum of its character n-grams - e.g. apple with smallest n-gram of 3 and largest n-gram of 6: ['<ap','app','appl','apple','apple>','ppl','pple','pple>','ple','ple>','le>']). "
   ]
  },
  {
   "cell_type": "markdown",
   "metadata": {},
   "source": [
    "### Creation\n",
    "\n",
    "In order to create the model, we use the same dataset as for w2v.\n",
    "\n",
    "**IMPORTANT** The fast text model takes around 30 minutes to be computed, be careful before running the next cell."
   ]
  },
  {
   "cell_type": "code",
   "execution_count": 69,
   "metadata": {
    "ExecuteTime": {
     "end_time": "2020-12-13T21:38:48.545450Z",
     "start_time": "2020-12-13T21:16:17.048285Z"
    }
   },
   "outputs": [],
   "source": [
    "# 20-30 minutes\n",
    "fasttext_model = models.FastText([i.split() for i in combined], size = 50, workers=12)"
   ]
  },
  {
   "cell_type": "markdown",
   "metadata": {},
   "source": [
    "### Saving\n",
    "\n",
    "After creating our model, we can save it for later use in other applications."
   ]
  },
  {
   "cell_type": "code",
   "execution_count": 70,
   "metadata": {
    "ExecuteTime": {
     "end_time": "2020-12-13T21:38:49.599209Z",
     "start_time": "2020-12-13T21:38:48.561448Z"
    }
   },
   "outputs": [],
   "source": [
    "word_vectors_ft = fasttext_model.wv\n",
    "word_vectors_ft.save(\"fasttext_model.wordvectors\")"
   ]
  },
  {
   "cell_type": "code",
   "execution_count": 71,
   "metadata": {
    "ExecuteTime": {
     "end_time": "2020-12-13T21:38:51.087229Z",
     "start_time": "2020-12-13T21:38:49.602211Z"
    }
   },
   "outputs": [],
   "source": [
    "fasttext_model.save(\"fasttext_model.model\")"
   ]
  },
  {
   "cell_type": "markdown",
   "metadata": {},
   "source": [
    "We delete the model since we only need the word_vectors."
   ]
  },
  {
   "cell_type": "code",
   "execution_count": 72,
   "metadata": {
    "ExecuteTime": {
     "end_time": "2020-12-13T21:38:51.121227Z",
     "start_time": "2020-12-13T21:38:51.088230Z"
    }
   },
   "outputs": [],
   "source": [
    "del fasttext_model"
   ]
  },
  {
   "cell_type": "markdown",
   "metadata": {},
   "source": [
    "### Loading\n",
    "\n",
    "We load our word_vectors for the fast text model."
   ]
  },
  {
   "cell_type": "code",
   "execution_count": 73,
   "metadata": {
    "ExecuteTime": {
     "end_time": "2020-12-13T21:38:53.486226Z",
     "start_time": "2020-12-13T21:38:51.122226Z"
    }
   },
   "outputs": [],
   "source": [
    "from gensim.models import KeyedVectors\n",
    "word_vectors_ft = KeyedVectors.load(\"fasttext_model.wordvectors\", mmap='r')"
   ]
  },
  {
   "cell_type": "markdown",
   "metadata": {},
   "source": [
    "### Getting embeddings\n",
    "\n",
    "The method *get_embedding_ft* obtain the vector representation of a given document. This document is represented as a list of tokens."
   ]
  },
  {
   "cell_type": "code",
   "execution_count": 74,
   "metadata": {
    "ExecuteTime": {
     "end_time": "2020-12-13T21:38:53.492229Z",
     "start_time": "2020-12-13T21:38:53.489226Z"
    }
   },
   "outputs": [],
   "source": [
    "def get_embedding_ft(doc_tokens):\n",
    "    \"\"\"\n",
    "    Basic function to obtain the vector representation of a given document (list of tokens).\n",
    "    \n",
    "    \"\"\"\n",
    "    embeddings = []\n",
    "    if len(doc_tokens) < 1: # If the length of our document is 0 we return a vector of zeros with size 300 (remember this is the vector size used when creating the model)\n",
    "        return np.zeros(50)\n",
    "    else:\n",
    "        for token in doc_tokens:\n",
    "            if token in word_vectors_ft.vocab: # if the word is in our vocabulary, we get its vector\n",
    "                embeddings.append(word_vectors_ft.word_vec(token))\n",
    "            else:\n",
    "                embeddings.append(np.random.rand(50))\n",
    "                #key = word_vectors_ft.most_similar(token)[0][0]\n",
    "                #embeddings.append(word_vectors_ft.word_vec(key)) # if it´s not in our vocabulary a random vector is used\n",
    "        return np.mean(embeddings, axis = 0) # the vector representation of a document is the mean of its word´s vectors"
   ]
  },
  {
   "cell_type": "markdown",
   "metadata": {},
   "source": [
    "### Queries embeddings\n",
    "\n",
    "We compute the vector representations of our queries (represented as a list of tokens)."
   ]
  },
  {
   "cell_type": "code",
   "execution_count": 75,
   "metadata": {
    "ExecuteTime": {
     "end_time": "2020-12-13T21:38:53.528227Z",
     "start_time": "2020-12-13T21:38:53.493229Z"
    }
   },
   "outputs": [
    {
     "data": {
      "text/html": [
       "<div>\n",
       "<style scoped>\n",
       "    .dataframe tbody tr th:only-of-type {\n",
       "        vertical-align: middle;\n",
       "    }\n",
       "\n",
       "    .dataframe tbody tr th {\n",
       "        vertical-align: top;\n",
       "    }\n",
       "\n",
       "    .dataframe thead th {\n",
       "        text-align: right;\n",
       "    }\n",
       "</style>\n",
       "<table border=\"1\" class=\"dataframe\">\n",
       "  <thead>\n",
       "    <tr style=\"text-align: right;\">\n",
       "      <th></th>\n",
       "      <th>query</th>\n",
       "      <th>preprocess</th>\n",
       "      <th>embeddings</th>\n",
       "    </tr>\n",
       "  </thead>\n",
       "  <tbody>\n",
       "    <tr>\n",
       "      <th>1</th>\n",
       "      <td>coronavirus origin</td>\n",
       "      <td>coronaviru origin</td>\n",
       "      <td>[6.1078672, -0.87997305, -0.8593089, -1.820458...</td>\n",
       "    </tr>\n",
       "    <tr>\n",
       "      <th>2</th>\n",
       "      <td>coronavirus response to weather changes</td>\n",
       "      <td>coronaviru respons weather chang</td>\n",
       "      <td>[5.0722175, -1.23698, 1.717076, -2.0445595, -3...</td>\n",
       "    </tr>\n",
       "    <tr>\n",
       "      <th>3</th>\n",
       "      <td>coronavirus immunity</td>\n",
       "      <td>coronaviru immun</td>\n",
       "      <td>[9.237659, 2.2925496, 2.3512254, -1.1220431, -...</td>\n",
       "    </tr>\n",
       "    <tr>\n",
       "      <th>4</th>\n",
       "      <td>how do people die from the coronavirus</td>\n",
       "      <td>peopl die coronaviru</td>\n",
       "      <td>[2.2850127, -1.4416562, 4.601786, -5.3196015, ...</td>\n",
       "    </tr>\n",
       "    <tr>\n",
       "      <th>5</th>\n",
       "      <td>animal models of COVID-19</td>\n",
       "      <td>anim model covid</td>\n",
       "      <td>[4.7837596, 0.04790624, -1.6561127, -6.8996615...</td>\n",
       "    </tr>\n",
       "  </tbody>\n",
       "</table>\n",
       "</div>"
      ],
      "text/plain": [
       "                                     query                        preprocess  \\\n",
       "1                       coronavirus origin                 coronaviru origin   \n",
       "2  coronavirus response to weather changes  coronaviru respons weather chang   \n",
       "3                     coronavirus immunity                  coronaviru immun   \n",
       "4   how do people die from the coronavirus              peopl die coronaviru   \n",
       "5                animal models of COVID-19                  anim model covid   \n",
       "\n",
       "                                          embeddings  \n",
       "1  [6.1078672, -0.87997305, -0.8593089, -1.820458...  \n",
       "2  [5.0722175, -1.23698, 1.717076, -2.0445595, -3...  \n",
       "3  [9.237659, 2.2925496, 2.3512254, -1.1220431, -...  \n",
       "4  [2.2850127, -1.4416562, 4.601786, -5.3196015, ...  \n",
       "5  [4.7837596, 0.04790624, -1.6561127, -6.8996615...  "
      ]
     },
     "execution_count": 75,
     "metadata": {},
     "output_type": "execute_result"
    }
   ],
   "source": [
    "queries_ft = queries.copy()\n",
    "queries_ft[\"preprocess\"] = queries_ft[\"query\"].apply(lambda x: clean(x))\n",
    "queries_ft[\"embeddings\"] = queries_ft[\"preprocess\"].apply(lambda x: get_embedding_ft(x.split()))\n",
    "queries_ft.head()"
   ]
  },
  {
   "cell_type": "markdown",
   "metadata": {},
   "source": [
    "### Documents embeddings\n",
    "\n",
    "As in w2v, in order to reduce the amount of embeddings to be computed, we filter the documents and we only save the ones that have some query performed on it and appear in metadata. Then, we compute the embedding for each document, so as to have it precomputed and then, when computing the similarity, just taking this value."
   ]
  },
  {
   "cell_type": "code",
   "execution_count": 76,
   "metadata": {
    "ExecuteTime": {
     "end_time": "2020-12-13T21:38:53.539227Z",
     "start_time": "2020-12-13T21:38:53.529227Z"
    }
   },
   "outputs": [],
   "source": [
    "titles_ft = titles.copy()\n",
    "titles_ft = titles_ft.reset_index(drop=True)"
   ]
  },
  {
   "cell_type": "code",
   "execution_count": 77,
   "metadata": {
    "ExecuteTime": {
     "end_time": "2020-12-13T21:38:58.422229Z",
     "start_time": "2020-12-13T21:38:53.540227Z"
    }
   },
   "outputs": [
    {
     "data": {
      "text/html": [
       "<div>\n",
       "<style scoped>\n",
       "    .dataframe tbody tr th:only-of-type {\n",
       "        vertical-align: middle;\n",
       "    }\n",
       "\n",
       "    .dataframe tbody tr th {\n",
       "        vertical-align: top;\n",
       "    }\n",
       "\n",
       "    .dataframe thead th {\n",
       "        text-align: right;\n",
       "    }\n",
       "</style>\n",
       "<table border=\"1\" class=\"dataframe\">\n",
       "  <thead>\n",
       "    <tr style=\"text-align: right;\">\n",
       "      <th></th>\n",
       "      <th>id</th>\n",
       "      <th>title</th>\n",
       "      <th>preprocess</th>\n",
       "    </tr>\n",
       "  </thead>\n",
       "  <tbody>\n",
       "    <tr>\n",
       "      <th>0</th>\n",
       "      <td>0001418189999fea7f7cbe3e82703d71c85a6fe5</td>\n",
       "      <td>Absence of surface expression of feline infect...</td>\n",
       "      <td>absenc surfac express felin infecti periton vi...</td>\n",
       "    </tr>\n",
       "    <tr>\n",
       "      <th>1</th>\n",
       "      <td>0003793cf9e709bc2b9d0c8111186f78fb73fc04</td>\n",
       "      <td>Title: Rethinking high-risk groups in COVID-19</td>\n",
       "      <td>titl rethink high risk group covid protect hig...</td>\n",
       "    </tr>\n",
       "    <tr>\n",
       "      <th>2</th>\n",
       "      <td>000379d7a7f37a2ccb978862b9f2016bd03259ea</td>\n",
       "      <td>ScienceDirect ScienceDirect Effect of Nanomate...</td>\n",
       "      <td>sciencedirect sciencedirect effect nanomateri ...</td>\n",
       "    </tr>\n",
       "    <tr>\n",
       "      <th>3</th>\n",
       "      <td>00039b94e6cb7609ecbddee1755314bcfeb77faa</td>\n",
       "      <td>Plasma inflammatory cytokines and chemokines i...</td>\n",
       "      <td>plasma inflammatori cytokin chemokin sever acu...</td>\n",
       "    </tr>\n",
       "    <tr>\n",
       "      <th>4</th>\n",
       "      <td>0003ddc51c4291d742855e9ac56076a3bea33ad7</td>\n",
       "      <td>Journal Pre-proofs The Fire This Time: The Str...</td>\n",
       "      <td>journal pre proof fire time stress racism infl...</td>\n",
       "    </tr>\n",
       "  </tbody>\n",
       "</table>\n",
       "</div>"
      ],
      "text/plain": [
       "                                         id  \\\n",
       "0  0001418189999fea7f7cbe3e82703d71c85a6fe5   \n",
       "1  0003793cf9e709bc2b9d0c8111186f78fb73fc04   \n",
       "2  000379d7a7f37a2ccb978862b9f2016bd03259ea   \n",
       "3  00039b94e6cb7609ecbddee1755314bcfeb77faa   \n",
       "4  0003ddc51c4291d742855e9ac56076a3bea33ad7   \n",
       "\n",
       "                                               title  \\\n",
       "0  Absence of surface expression of feline infect...   \n",
       "1     Title: Rethinking high-risk groups in COVID-19   \n",
       "2  ScienceDirect ScienceDirect Effect of Nanomate...   \n",
       "3  Plasma inflammatory cytokines and chemokines i...   \n",
       "4  Journal Pre-proofs The Fire This Time: The Str...   \n",
       "\n",
       "                                          preprocess  \n",
       "0  absenc surfac express felin infecti periton vi...  \n",
       "1  titl rethink high risk group covid protect hig...  \n",
       "2  sciencedirect sciencedirect effect nanomateri ...  \n",
       "3  plasma inflammatori cytokin chemokin sever acu...  \n",
       "4  journal pre proof fire time stress racism infl...  "
      ]
     },
     "execution_count": 77,
     "metadata": {},
     "output_type": "execute_result"
    }
   ],
   "source": [
    "docs = pd.DataFrame((line for line in open(\"docs.txt\")), columns = [\"preprocess\"])\n",
    "docs_ft = titles_ft.join(docs)\n",
    "docs_ft.head()"
   ]
  },
  {
   "cell_type": "code",
   "execution_count": 78,
   "metadata": {
    "ExecuteTime": {
     "end_time": "2020-12-13T21:38:58.494228Z",
     "start_time": "2020-12-13T21:38:58.423230Z"
    }
   },
   "outputs": [
    {
     "data": {
      "text/html": [
       "<div>\n",
       "<style scoped>\n",
       "    .dataframe tbody tr th:only-of-type {\n",
       "        vertical-align: middle;\n",
       "    }\n",
       "\n",
       "    .dataframe tbody tr th {\n",
       "        vertical-align: top;\n",
       "    }\n",
       "\n",
       "    .dataframe thead th {\n",
       "        text-align: right;\n",
       "    }\n",
       "</style>\n",
       "<table border=\"1\" class=\"dataframe\">\n",
       "  <thead>\n",
       "    <tr style=\"text-align: right;\">\n",
       "      <th></th>\n",
       "      <th>id</th>\n",
       "      <th>title</th>\n",
       "      <th>preprocess</th>\n",
       "      <th>sha</th>\n",
       "    </tr>\n",
       "  </thead>\n",
       "  <tbody>\n",
       "    <tr>\n",
       "      <th>1</th>\n",
       "      <td>0003793cf9e709bc2b9d0c8111186f78fb73fc04</td>\n",
       "      <td>Title: Rethinking high-risk groups in COVID-19</td>\n",
       "      <td>titl rethink high risk group covid protect hig...</td>\n",
       "      <td>0003793cf9e709bc2b9d0c8111186f78fb73fc04</td>\n",
       "    </tr>\n",
       "    <tr>\n",
       "      <th>3</th>\n",
       "      <td>00039b94e6cb7609ecbddee1755314bcfeb77faa</td>\n",
       "      <td>Plasma inflammatory cytokines and chemokines i...</td>\n",
       "      <td>plasma inflammatori cytokin chemokin sever acu...</td>\n",
       "      <td>00039b94e6cb7609ecbddee1755314bcfeb77faa</td>\n",
       "    </tr>\n",
       "    <tr>\n",
       "      <th>4</th>\n",
       "      <td>0003ddc51c4291d742855e9ac56076a3bea33ad7</td>\n",
       "      <td>Journal Pre-proofs The Fire This Time: The Str...</td>\n",
       "      <td>journal pre proof fire time stress racism infl...</td>\n",
       "      <td>0003ddc51c4291d742855e9ac56076a3bea33ad7</td>\n",
       "    </tr>\n",
       "    <tr>\n",
       "      <th>5</th>\n",
       "      <td>0004456994f6c1d5db7327990386d33c01cff32a</td>\n",
       "      <td></td>\n",
       "      <td>ackground influenza immunis healthcar worker e...</td>\n",
       "      <td>0004456994f6c1d5db7327990386d33c01cff32a</td>\n",
       "    </tr>\n",
       "    <tr>\n",
       "      <th>7</th>\n",
       "      <td>00060fb61742ff60e4e3ba4648c74a34cfe9560d</td>\n",
       "      <td></td>\n",
       "      <td>outbreak novel coronaviru diseas led current g...</td>\n",
       "      <td>00060fb61742ff60e4e3ba4648c74a34cfe9560d</td>\n",
       "    </tr>\n",
       "  </tbody>\n",
       "</table>\n",
       "</div>"
      ],
      "text/plain": [
       "                                         id  \\\n",
       "1  0003793cf9e709bc2b9d0c8111186f78fb73fc04   \n",
       "3  00039b94e6cb7609ecbddee1755314bcfeb77faa   \n",
       "4  0003ddc51c4291d742855e9ac56076a3bea33ad7   \n",
       "5  0004456994f6c1d5db7327990386d33c01cff32a   \n",
       "7  00060fb61742ff60e4e3ba4648c74a34cfe9560d   \n",
       "\n",
       "                                               title  \\\n",
       "1     Title: Rethinking high-risk groups in COVID-19   \n",
       "3  Plasma inflammatory cytokines and chemokines i...   \n",
       "4  Journal Pre-proofs The Fire This Time: The Str...   \n",
       "5                                                      \n",
       "7                                                      \n",
       "\n",
       "                                          preprocess  \\\n",
       "1  titl rethink high risk group covid protect hig...   \n",
       "3  plasma inflammatori cytokin chemokin sever acu...   \n",
       "4  journal pre proof fire time stress racism infl...   \n",
       "5  ackground influenza immunis healthcar worker e...   \n",
       "7  outbreak novel coronaviru diseas led current g...   \n",
       "\n",
       "                                        sha  \n",
       "1  0003793cf9e709bc2b9d0c8111186f78fb73fc04  \n",
       "3  00039b94e6cb7609ecbddee1755314bcfeb77faa  \n",
       "4  0003ddc51c4291d742855e9ac56076a3bea33ad7  \n",
       "5  0004456994f6c1d5db7327990386d33c01cff32a  \n",
       "7  00060fb61742ff60e4e3ba4648c74a34cfe9560d  "
      ]
     },
     "execution_count": 78,
     "metadata": {},
     "output_type": "execute_result"
    }
   ],
   "source": [
    "# With this filter, we only use documents that appear in both judgements and metadata files, i.e, documents that have queries related.\n",
    "docs_ft[\"sha\"] = docs_ft[\"id\"]\n",
    "inCorpus_ft = metadata[metadata[\"sha\"].isin(docs_ft[\"sha\"])][\"cord_uid\"]\n",
    "inJudgements_tf = inCorpus_ft[inCorpus_ft.isin(judgements[\"cord_uid\"])]\n",
    "filtered_ft = metadata.loc[metadata['cord_uid'].isin(inJudgements_tf)][\"sha\"].values\n",
    "docs_filtered_ft = docs_ft.loc[docs_ft[\"id\"].isin(filtered_ft)]\n",
    "docs_filtered_ft.head()"
   ]
  },
  {
   "cell_type": "code",
   "execution_count": 79,
   "metadata": {
    "ExecuteTime": {
     "end_time": "2020-12-13T21:44:11.689230Z",
     "start_time": "2020-12-13T21:38:58.495228Z"
    }
   },
   "outputs": [
    {
     "name": "stderr",
     "output_type": "stream",
     "text": [
      "C:\\Users\\César\\AppData\\Roaming\\Python\\Python37\\site-packages\\ipykernel_launcher.py:2: SettingWithCopyWarning: \n",
      "A value is trying to be set on a copy of a slice from a DataFrame.\n",
      "Try using .loc[row_indexer,col_indexer] = value instead\n",
      "\n",
      "See the caveats in the documentation: https://pandas.pydata.org/pandas-docs/stable/user_guide/indexing.html#returning-a-view-versus-a-copy\n",
      "  \n"
     ]
    }
   ],
   "source": [
    "# 5-10 minutes\n",
    "docs_filtered_ft[\"embeddings\"] = docs_filtered_ft[\"preprocess\"].apply(lambda x: get_embedding_ft(x.split())) "
   ]
  },
  {
   "cell_type": "code",
   "execution_count": 80,
   "metadata": {
    "ExecuteTime": {
     "end_time": "2020-12-13T21:44:11.702227Z",
     "start_time": "2020-12-13T21:44:11.690229Z"
    },
    "scrolled": false
   },
   "outputs": [
    {
     "data": {
      "text/html": [
       "<div>\n",
       "<style scoped>\n",
       "    .dataframe tbody tr th:only-of-type {\n",
       "        vertical-align: middle;\n",
       "    }\n",
       "\n",
       "    .dataframe tbody tr th {\n",
       "        vertical-align: top;\n",
       "    }\n",
       "\n",
       "    .dataframe thead th {\n",
       "        text-align: right;\n",
       "    }\n",
       "</style>\n",
       "<table border=\"1\" class=\"dataframe\">\n",
       "  <thead>\n",
       "    <tr style=\"text-align: right;\">\n",
       "      <th></th>\n",
       "      <th>id</th>\n",
       "      <th>title</th>\n",
       "      <th>preprocess</th>\n",
       "      <th>sha</th>\n",
       "      <th>embeddings</th>\n",
       "    </tr>\n",
       "  </thead>\n",
       "  <tbody>\n",
       "    <tr>\n",
       "      <th>1</th>\n",
       "      <td>0003793cf9e709bc2b9d0c8111186f78fb73fc04</td>\n",
       "      <td>Title: Rethinking high-risk groups in COVID-19</td>\n",
       "      <td>titl rethink high risk group covid protect hig...</td>\n",
       "      <td>0003793cf9e709bc2b9d0c8111186f78fb73fc04</td>\n",
       "      <td>[1.8756603562045433, -1.9538825521229444, 0.70...</td>\n",
       "    </tr>\n",
       "    <tr>\n",
       "      <th>3</th>\n",
       "      <td>00039b94e6cb7609ecbddee1755314bcfeb77faa</td>\n",
       "      <td>Plasma inflammatory cytokines and chemokines i...</td>\n",
       "      <td>plasma inflammatori cytokin chemokin sever acu...</td>\n",
       "      <td>00039b94e6cb7609ecbddee1755314bcfeb77faa</td>\n",
       "      <td>[2.4021323235493166, 0.16584755041518168, 0.67...</td>\n",
       "    </tr>\n",
       "    <tr>\n",
       "      <th>4</th>\n",
       "      <td>0003ddc51c4291d742855e9ac56076a3bea33ad7</td>\n",
       "      <td>Journal Pre-proofs The Fire This Time: The Str...</td>\n",
       "      <td>journal pre proof fire time stress racism infl...</td>\n",
       "      <td>0003ddc51c4291d742855e9ac56076a3bea33ad7</td>\n",
       "      <td>[2.922912, -1.3791447, 0.43890154, -2.0040305,...</td>\n",
       "    </tr>\n",
       "    <tr>\n",
       "      <th>5</th>\n",
       "      <td>0004456994f6c1d5db7327990386d33c01cff32a</td>\n",
       "      <td></td>\n",
       "      <td>ackground influenza immunis healthcar worker e...</td>\n",
       "      <td>0004456994f6c1d5db7327990386d33c01cff32a</td>\n",
       "      <td>[1.3962700899763445, -0.8353682008711458, -0.0...</td>\n",
       "    </tr>\n",
       "    <tr>\n",
       "      <th>7</th>\n",
       "      <td>00060fb61742ff60e4e3ba4648c74a34cfe9560d</td>\n",
       "      <td></td>\n",
       "      <td>outbreak novel coronaviru diseas led current g...</td>\n",
       "      <td>00060fb61742ff60e4e3ba4648c74a34cfe9560d</td>\n",
       "      <td>[1.5297478, -2.020755, 0.20344812, -2.8496566,...</td>\n",
       "    </tr>\n",
       "  </tbody>\n",
       "</table>\n",
       "</div>"
      ],
      "text/plain": [
       "                                         id  \\\n",
       "1  0003793cf9e709bc2b9d0c8111186f78fb73fc04   \n",
       "3  00039b94e6cb7609ecbddee1755314bcfeb77faa   \n",
       "4  0003ddc51c4291d742855e9ac56076a3bea33ad7   \n",
       "5  0004456994f6c1d5db7327990386d33c01cff32a   \n",
       "7  00060fb61742ff60e4e3ba4648c74a34cfe9560d   \n",
       "\n",
       "                                               title  \\\n",
       "1     Title: Rethinking high-risk groups in COVID-19   \n",
       "3  Plasma inflammatory cytokines and chemokines i...   \n",
       "4  Journal Pre-proofs The Fire This Time: The Str...   \n",
       "5                                                      \n",
       "7                                                      \n",
       "\n",
       "                                          preprocess  \\\n",
       "1  titl rethink high risk group covid protect hig...   \n",
       "3  plasma inflammatori cytokin chemokin sever acu...   \n",
       "4  journal pre proof fire time stress racism infl...   \n",
       "5  ackground influenza immunis healthcar worker e...   \n",
       "7  outbreak novel coronaviru diseas led current g...   \n",
       "\n",
       "                                        sha  \\\n",
       "1  0003793cf9e709bc2b9d0c8111186f78fb73fc04   \n",
       "3  00039b94e6cb7609ecbddee1755314bcfeb77faa   \n",
       "4  0003ddc51c4291d742855e9ac56076a3bea33ad7   \n",
       "5  0004456994f6c1d5db7327990386d33c01cff32a   \n",
       "7  00060fb61742ff60e4e3ba4648c74a34cfe9560d   \n",
       "\n",
       "                                          embeddings  \n",
       "1  [1.8756603562045433, -1.9538825521229444, 0.70...  \n",
       "3  [2.4021323235493166, 0.16584755041518168, 0.67...  \n",
       "4  [2.922912, -1.3791447, 0.43890154, -2.0040305,...  \n",
       "5  [1.3962700899763445, -0.8353682008711458, -0.0...  \n",
       "7  [1.5297478, -2.020755, 0.20344812, -2.8496566,...  "
      ]
     },
     "execution_count": 80,
     "metadata": {},
     "output_type": "execute_result"
    }
   ],
   "source": [
    "docs_filtered_ft.head()"
   ]
  },
  {
   "cell_type": "markdown",
   "metadata": {},
   "source": [
    "### Launch query in FastText Model\n",
    "\n",
    "As in w2v, we need to create two functions to launch queries with out FastText model. However, these functions are the same as in w2c so we will reuse them.\n",
    "\n",
    "Execution of query 2 with its results. Notice that now the scores are higher than in TFIDF and w2v models."
   ]
  },
  {
   "cell_type": "code",
   "execution_count": 81,
   "metadata": {
    "ExecuteTime": {
     "end_time": "2020-12-13T21:44:15.914228Z",
     "start_time": "2020-12-13T21:44:11.703227Z"
    },
    "scrolled": true
   },
   "outputs": [
    {
     "name": "stdout",
     "output_type": "stream",
     "text": [
      "Query ==> coronavirus response to weather changes\n",
      "[Score = 0.8564063172980468] Pollen Likely Seasonal Factor in Inhibiting Flu-Like Epidemics\n",
      "[Score = 0.8460923790854135] Journal Pre-proof The most eagerly awaited summer of the Anthropocene: A perspective of SARS- CoV-2 decay and seasonal change\n",
      "[Score = 0.8451920410552206] Isolation, social stress, low socioeconomic status and its relationship to immune response in Covid-19 pandemic context\n",
      "[Score = 0.8425857166570169] Can atmospheric pollution be considered a co-factor in extremely high level of SARS-CoV-2 lethality in Northern Italy? *\n",
      "[Score = 0.8419252985975381] Frontiers in climate change-disease research\n"
     ]
    }
   ],
   "source": [
    "ranking_ft, _ = launch_query_w2v(queries_ft.iloc[1][0], queries_ft, docs_filtered_ft, verbose=1)"
   ]
  },
  {
   "cell_type": "markdown",
   "metadata": {},
   "source": [
    "## Latent Semantic Indexing"
   ]
  },
  {
   "cell_type": "markdown",
   "metadata": {},
   "source": [
    "LSI (Deerwester et al., 1990) is a retrieval model based on distributional semantics, that assumes that words tend to have similar meanings if they are used in the same context. This model uses Singular Value Decomposition. "
   ]
  },
  {
   "cell_type": "markdown",
   "metadata": {},
   "source": [
    "### Model creation"
   ]
  },
  {
   "cell_type": "markdown",
   "metadata": {},
   "source": [
    "As always, we first create the model. To do that, we need to compute the corpus in tfidf format. Once it's done, we create the model using 100 as number of topics. The related literature suggested using a num_topics from hundreds to thousand, so we chose 100 since for this value we already obtain good performance and the execution time isn't too big."
   ]
  },
  {
   "cell_type": "markdown",
   "metadata": {},
   "source": [
    "**IMPORTANT** The following cell takes 5 minutes more or less to be executed."
   ]
  },
  {
   "cell_type": "code",
   "execution_count": 82,
   "metadata": {
    "ExecuteTime": {
     "end_time": "2020-12-13T21:51:38.086516Z",
     "start_time": "2020-12-13T21:44:15.915228Z"
    }
   },
   "outputs": [],
   "source": [
    "# 7-10 minutes\n",
    "corpus_tfidf = model_tfidf[bow]\n",
    "lsi = models.LsiModel(corpus_tfidf, id2word=dictionary, num_topics = 100)\n",
    "lsi.save(\"model_lsi.lsi\")"
   ]
  },
  {
   "cell_type": "markdown",
   "metadata": {},
   "source": [
    "### Similarities matrix"
   ]
  },
  {
   "cell_type": "code",
   "execution_count": 83,
   "metadata": {
    "ExecuteTime": {
     "end_time": "2020-12-13T21:55:12.998245Z",
     "start_time": "2020-12-13T21:51:38.087517Z"
    }
   },
   "outputs": [],
   "source": [
    "# 3-5 minutes\n",
    "index_lsi = Similarity(None, lsi[corpus_tfidf], num_features=len(dictionary))\n",
    "index_lsi.save(\"covid19-lsi.index\")"
   ]
  },
  {
   "cell_type": "markdown",
   "metadata": {},
   "source": [
    "### Launching queries"
   ]
  },
  {
   "cell_type": "markdown",
   "metadata": {},
   "source": [
    "The following cell contains the code needed to launch a query with LSI model."
   ]
  },
  {
   "cell_type": "code",
   "execution_count": 84,
   "metadata": {
    "ExecuteTime": {
     "end_time": "2020-12-13T21:55:13.003246Z",
     "start_time": "2020-12-13T21:55:12.999246Z"
    },
    "code_folding": []
   },
   "outputs": [],
   "source": [
    "def launch_query_lsi(model, dictionary, bow, index, query, titles, verbose = 0):\n",
    "    \"\"\"\n",
    "    Given a specific query, it returns the ranking of documents.\n",
    "    \n",
    "    Parameters\n",
    "    ----------\n",
    "    model : tfidf model\n",
    "    dictionary: dictionary created\n",
    "    bow: bag of words\n",
    "    index: similarities matrix\n",
    "    query: specific query\n",
    "    titles: dataframe of the titles\n",
    "    verbose: flag for printing messages\n",
    "    \n",
    "    Returns\n",
    "    -------\n",
    "    ranking: ranking for the query in this format: [(doc_position, score), (doc_position, score), ... ]\n",
    "    similarities: similarities matrix\n",
    "\n",
    "    \"\"\"\n",
    "    stopset = set(stopwords.words(\"english\"))\n",
    "    index = index\n",
    "    pq = preprocess_query_tfidf(query, stopset)\n",
    "    vq = dictionary.doc2bow(pq)\n",
    "    veclsi = model[model_tfidf[vq]]\n",
    "    sim = index[veclsi]\n",
    "    ranking = sorted(enumerate(sim), key=itemgetter(1), reverse=True)\n",
    "    if verbose:\n",
    "        print(\"Query ==> \"+query)\n",
    "        for doc, score in ranking[:5]:\n",
    "            print(\"[ Score = \" + \"%.3f\" % round(score,3) + \" ] \" + titles['title'].iloc[doc])\n",
    "    return ranking, sim"
   ]
  },
  {
   "cell_type": "markdown",
   "metadata": {},
   "source": [
    "Launching query *origin coronavirus*..."
   ]
  },
  {
   "cell_type": "code",
   "execution_count": 85,
   "metadata": {
    "ExecuteTime": {
     "end_time": "2020-12-13T21:55:13.114244Z",
     "start_time": "2020-12-13T21:55:13.004245Z"
    }
   },
   "outputs": [
    {
     "name": "stdout",
     "output_type": "stream",
     "text": [
      "Query ==> origin coronavirus\n",
      "[ Score = 0.782 ] Classical Coronaviruses-nCoV · MERS-CoV · SARS-CoV · Strain 229E · Strain OC43 · Coronavirus\n",
      "[ Score = 0.746 ] COVID-19: Zoonotic aspects Fig. 1. Potential transmission cycles of SARS-CoV2 (formerly 2019nCoV). Travel Medicine and Infectious Disease xxx (xxxx) xxxx\n",
      "[ Score = 0.719 ] The global emergence of severe acute respiratory syndrome coronavirus 2 in human\n",
      "[ Score = 0.716 ] Analyzing the epidemiological outbreak of COVID-19: A visual exploratory data analysis approach\n",
      "[ Score = 0.707 ] Emergence of deadly severe acute respiratory syndrome coronavirus-2 during 2019-2020\n"
     ]
    }
   ],
   "source": [
    "ranking, _ = launch_query_lsi(lsi, dictionary, bow, index_lsi, \"origin coronavirus\", titles, verbose = 1)"
   ]
  },
  {
   "cell_type": "markdown",
   "metadata": {},
   "source": [
    "# Results\n",
    "\n",
    "So, after explaining how we implemented the models, it's turn to evaluate them.\n",
    "\n",
    "We will consider the metrics explained before: precision, recall, mean average precision, P@5, P@10 and R-Precision.\n",
    "\n",
    "The following cell performs all the evaluation:\n",
    "* We print the P@5, P@10 and MAVP of each single document.\n",
    "* We plot a graph comparing the precision and recall of all the models tested.\n",
    "* We plot a graph comparing the difference of the R-precision of the best two models for each single query. If the values are positive mean that R-precision of model A was greater than model's B R-Precision. Negative values mean that that R-precision of model B was greater than model's A R-Precision.\n",
    "\n",
    "The evaluation procedure was created following the indications in (Baeza and Ribeiro, 2011)."
   ]
  },
  {
   "cell_type": "code",
   "execution_count": 86,
   "metadata": {
    "ExecuteTime": {
     "end_time": "2020-12-13T22:09:06.224645Z",
     "start_time": "2020-12-13T21:55:13.115245Z"
    },
    "scrolled": false
   },
   "outputs": [
    {
     "name": "stdout",
     "output_type": "stream",
     "text": [
      "###################################################################################\n",
      "Evaluating performance of our models...\n",
      "-------------------------------------------------------------------------------------\n",
      "Evaluating TFIDF (nfc): raw term frequency weighing, idf document frequency weighting, cosine normalization\n",
      "Computing statistics...\n",
      "Statistics computed...\n",
      "Mean Average Precision of this model ==> 0.4982978899333098\n",
      "Mean P@5 of this model ==> 0.572\n",
      "Mean P@10 of this model ==> 0.592\n",
      "-------------------------------------------------------------------------------------\n",
      "Evaluating TFIDF (lfc): logarithmic term frequency weighing, idf document frequency weighting, cosine normalization\n",
      "Computing statistics...\n",
      "Statistics computed...\n",
      "Mean Average Precision of this model ==> 0.4982978899333098\n",
      "Mean P@5 of this model ==> 0.572\n",
      "Mean P@10 of this model ==> 0.592\n",
      "-------------------------------------------------------------------------------------\n",
      "Evaluating TFIDF (lpu): logarithmic term frequency weighing, probabilistic document frequency weighting, pivoted unique normalization\n",
      "Computing statistics...\n"
     ]
    },
    {
     "name": "stderr",
     "output_type": "stream",
     "text": [
      "C:\\Users\\César\\AppData\\Roaming\\Python\\Python37\\site-packages\\ipykernel_launcher.py:19: VisibleDeprecationWarning: Creating an ndarray from ragged nested sequences (which is a list-or-tuple of lists-or-tuples-or ndarrays with different lengths or shapes) is deprecated. If you meant to do this, you must specify 'dtype=object' when creating the ndarray\n"
     ]
    },
    {
     "name": "stdout",
     "output_type": "stream",
     "text": [
      "Statistics computed...\n",
      "Mean Average Precision of this model ==> 0.5087887531431804\n",
      "Mean P@5 of this model ==> 0.5479999999999999\n",
      "Mean P@10 of this model ==> 0.574\n",
      "-------------------------------------------------------------------------------------\n",
      "Evaluating TFIDF (nnn): raw term frequency weighing, none document frequency weighting, none normalization\n",
      "Computing statistics...\n",
      "Statistics computed...\n",
      "Mean Average Precision of this model ==> 0.46953154581265527\n",
      "Mean P@5 of this model ==> 0.5519999999999999\n",
      "Mean P@10 of this model ==> 0.536\n",
      "-------------------------------------------------------------------------------------\n",
      "Evaluating TFIDF (ltc): logarithmic term frequency weighing, zero-corrected idf document frequency weighting, cosine normalization\n",
      "Computing statistics...\n",
      "Statistics computed...\n",
      "Mean Average Precision of this model ==> 0.49829782771365694\n",
      "Mean P@5 of this model ==> 0.572\n",
      "Mean P@10 of this model ==> 0.592\n",
      "-------------------------------------------------------------------------------------\n",
      "Evaluating Word2Vec: \n",
      "\tTraining algorithm = Continuous Bag of Words\n",
      "\tVector size = 300\n",
      "\tDistance predicted and current word = 5 (default)\n",
      "\tNegative sampling = 5 (default)\n",
      "\tEpochs = 5 (default)\n",
      "Computing statistics...\n",
      "Statistics computed...\n",
      "Mean Average Precision of this model ==> 0.5105178049389643\n",
      "Mean P@5 of this model ==> 0.6560000000000001\n",
      "Mean P@10 of this model ==> 0.628\n",
      "-------------------------------------------------------------------------------------\n",
      "Evaluating FastText: \n",
      "\tTraining algorithm = Continuous Bag of Words\n",
      "\tVector size = 50\n",
      "\tDistance predicted and current word = 5 (default)\n",
      "\tNegative sampling = 5 (default)\n",
      "\tEpochs = 5 (default)\n",
      "Computing statistics...\n",
      "Statistics computed...\n",
      "Mean Average Precision of this model ==> 0.4911989858660089\n",
      "Mean P@5 of this model ==> 0.6040000000000001\n",
      "Mean P@10 of this model ==> 0.5840000000000001\n",
      "-------------------------------------------------------------------------------------\n",
      "Evaluating Latent Semantic Index: \n",
      "\tVector size = 100\n",
      "\tCorpus version = tfidf\n",
      "Computing statistics...\n",
      "Statistics computed...\n",
      "Mean Average Precision of this model ==> 0.5306964524733776\n",
      "Mean P@5 of this model ==> 0.604\n",
      "Mean P@10 of this model ==> 0.584\n"
     ]
    },
    {
     "data": {
      "image/png": "[encoded data removed]",
      "text/plain": [
       "<Figure size 432x432 with 1 Axes>"
      ]
     },
     "metadata": {
      "needs_background": "light"
     },
     "output_type": "display_data"
    },
    {
     "name": "stdout",
     "output_type": "stream",
     "text": [
      "-------------------------------------------------------------------------------------\n",
      "Comparing our models: W2V vs LSI\n"
     ]
    },
    {
     "data": {
      "image/png": "[encoded data removed]",
      "text/plain": [
       "<Figure size 720x432 with 1 Axes>"
      ]
     },
     "metadata": {
      "needs_background": "light"
     },
     "output_type": "display_data"
    },
    {
     "name": "stdout",
     "output_type": "stream",
     "text": [
      "-------------------------------------------------------------------------------------\n",
      "Evalution finished.\n",
      "###################################################################################\n"
     ]
    }
   ],
   "source": [
    "# 13-20 minutes\n",
    "recall = np.arange(0,1.1, 0.1)\n",
    "modelos_tfidf = [{\"name\":\"TFIDF (nfc)\", \"term\": \"raw\", \"document\": \"idf\", \"normalization\": \"cosine\", \"model\": model_tfidf, \"color\": \"r\"},\n",
    "          {\"name\":\"TFIDF (lfc)\", \"term\": \"logarithmic\", \"document\": \"idf\", \"normalization\": \"cosine\", \n",
    "           \"model\": model_tfidf_2, \"color\": \"g\"},\n",
    "           {\"name\":\"TFIDF (lpu)\", \"term\": \"logarithmic\", \"document\": \"probabilistic\", \"normalization\": \"pivoted unique\", \n",
    "           \"model\": model_tfidf_3, \"color\": \"b\"},\n",
    "           {\"name\":\"TFIDF (nnn)\", \"term\": \"raw\", \"document\": \"none\", \"normalization\": \"none\", \n",
    "           \"model\": model_tfidf_4, \"color\": \"c\"},\n",
    "           {\"name\":\"TFIDF (ltc)\", \"term\": \"logarithmic\", \"document\": \"zero-corrected idf\", \"normalization\": \"cosine\", \n",
    "           \"model\": model_tfidf_5, \"color\": \"m\"}\n",
    "         ]\n",
    "\n",
    "modelos_w2v = [{\"name\": \"Word2Vec\", \"algorithm\": \"Continuous Bag of Words\", \"vector\": 300, \n",
    "                \"window\": \"5 (default)\", \"negative\": \"5 (default)\", \"epochs\": \"5 (default)\", \"color\":\"orange\"}\n",
    "              ]\n",
    "\n",
    "modelos_ft = [{\"name\":\"FastText\",  \"algorithm\": \"Continuous Bag of Words\", \"vector\": 50, \n",
    "                \"window\": \"5 (default)\", \"negative\": \"5 (default)\", \"epochs\": \"5 (default)\", \"color\":\"y\"}]\n",
    "\n",
    "modelos_lsi = [{\"name\": \"Latent Semantic Index\", \"vector\": 100, \"version\": \"tfidf\", \"color\":\"k\", \"model\": lsi}]\n",
    "               \n",
    "r_precisions = []\n",
    "precisions_5 = []\n",
    "precisions_10 = []\n",
    "\n",
    "print(\"###################################################################################\")\n",
    "print(\"Evaluating performance of our models...\")\n",
    "plt.figure(figsize=(6,6))\n",
    "plt.title(\"Precision vs Recall standardized\")\n",
    "plt.axis([0, 1, 0, 1])\n",
    "plt.xlabel(\"Recall\")\n",
    "plt.ylabel(\"Precision\")\n",
    "\n",
    "for model in modelos_tfidf:\n",
    "    name = model[\"name\"]\n",
    "    term = model[\"term\"]\n",
    "    document = model[\"document\"]\n",
    "    normalization = model[\"normalization\"]\n",
    "    color = model[\"color\"]\n",
    "    print(\"-------------------------------------------------------------------------------------\")\n",
    "    print(f\"Evaluating {name}: {term} term frequency weighing, {document} document frequency weighting, {normalization} normalization\")\n",
    "    print(\"Computing statistics...\")\n",
    "    data_tfidf = get_statistics(launch(launch_query_tfidf,model[\"model\"], dictionary, bow, similarities, titles.copy()), queries.copy(), titles.copy(), metadata.copy(), judgements.copy())\n",
    "    print(\"Statistics computed...\")\n",
    "    precision_tfidf = data_tfidf[\"precision\"]\n",
    "    recall = data_tfidf[\"recall\"]\n",
    "    mavp_tfidf = data_tfidf[\"mavp\"]\n",
    "    precisions_5.append(np.array(data_tfidf[\"p_5\"]).mean())\n",
    "    precisions_10.append(np.array(data_tfidf[\"p_10\"]).mean())\n",
    "    r_precisions.append(data_tfidf[\"r-precision\"])\n",
    "    print(f\"Mean Average Precision of this model ==> {mavp_tfidf}\")\n",
    "    p_5 = np.array(data_tfidf[\"p_5\"]).mean()\n",
    "    p_10 = np.array(data_tfidf[\"p_10\"]).mean()\n",
    "    print(f\"Mean P@5 of this model ==> {p_5}\")\n",
    "    print(f\"Mean P@10 of this model ==> {p_10}\")\n",
    "\n",
    "    plt.plot(recall, precision_tfidf, f\"{color}-o\", label=name)\n",
    "\n",
    "    \n",
    "for model in modelos_w2v:\n",
    "    name = model[\"name\"]\n",
    "    vector = model[\"vector\"]\n",
    "    window = model[\"window\"]\n",
    "    negative = model[\"negative\"]\n",
    "    algorithm = model[\"algorithm\"]\n",
    "    epochs = model[\"epochs\"]\n",
    "    color = model[\"color\"]\n",
    "    print(\"-------------------------------------------------------------------------------------\")\n",
    "    print(f\"Evaluating {name}: \\n\\tTraining algorithm = {algorithm}\\n\\tVector size = {vector}\\n\\tDistance predicted and current word = {window}\\n\\tNegative sampling = {negative}\\n\\tEpochs = {epochs}\")\n",
    "    print(\"Computing statistics...\")\n",
    "    data_w2v = get_statistics(launch_w2v(launch_query_w2v, queries_w2v.copy(), docs_filtered.copy()), queries_w2v.copy(), titles_w2v.copy(), metadata.copy(), judgements.copy())\n",
    "    print(\"Statistics computed...\")\n",
    "    precision_w2v = data_w2v[\"precision\"]\n",
    "    recall = data_w2v[\"recall\"]\n",
    "    mavp_w2v = data_w2v[\"mavp\"]\n",
    "    r_precisions.append(data_w2v[\"r-precision\"])\n",
    "    precisions_5.append(np.array(data_w2v[\"p_5\"]).mean())\n",
    "    precisions_10.append(np.array(data_w2v[\"p_10\"]).mean())\n",
    "    print(f\"Mean Average Precision of this model ==> {mavp_w2v}\")\n",
    "    p_5 = np.array(data_w2v[\"p_5\"]).mean()\n",
    "    p_10 = np.array(data_w2v[\"p_10\"]).mean()\n",
    "    print(f\"Mean P@5 of this model ==> {p_5}\")\n",
    "    print(f\"Mean P@10 of this model ==> {p_10}\")\n",
    "\n",
    "    plt.plot(recall, precision_w2v, \"-o\", color = color, label=name)\n",
    "\n",
    "    \n",
    "for model in modelos_ft:\n",
    "    name = model[\"name\"]\n",
    "    vector = model[\"vector\"]\n",
    "    window = model[\"window\"]\n",
    "    negative = model[\"negative\"]\n",
    "    algorithm = model[\"algorithm\"]\n",
    "    epochs = model[\"epochs\"]\n",
    "    color = model[\"color\"]\n",
    "    print(\"-------------------------------------------------------------------------------------\")\n",
    "    print(f\"Evaluating {name}: \\n\\tTraining algorithm = {algorithm}\\n\\tVector size = {vector}\\n\\tDistance predicted and current word = {window}\\n\\tNegative sampling = {negative}\\n\\tEpochs = {epochs}\")\n",
    "    print(\"Computing statistics...\")\n",
    "    data_ft = get_statistics(launch_w2v(launch_query_w2v, queries_ft.copy(), docs_filtered_ft.copy()), queries_ft.copy(), titles_ft.copy(), metadata.copy(), judgements.copy())\n",
    "    print(\"Statistics computed...\")\n",
    "    precision_ft = data_ft[\"precision\"]\n",
    "    recall = data_ft[\"recall\"]\n",
    "    mavp_ft = data_ft[\"mavp\"]\n",
    "    r_precisions.append(data_ft[\"r-precision\"])\n",
    "    precisions_5.append(np.array(data_ft[\"p_5\"]).mean())\n",
    "    precisions_10.append(np.array(data_ft[\"p_10\"]).mean())\n",
    "    print(f\"Mean Average Precision of this model ==> {mavp_ft}\")\n",
    "    p_5 = np.array(data_ft[\"p_5\"]).mean()\n",
    "    p_10 = np.array(data_ft[\"p_10\"]).mean()\n",
    "    print(f\"Mean P@5 of this model ==> {p_5}\")\n",
    "    print(f\"Mean P@10 of this model ==> {p_10}\")\n",
    "\n",
    "    plt.plot(recall, precision_ft, f\"{color}-o\", label=name)\n",
    "    \n",
    "for model in modelos_lsi:\n",
    "    name = model[\"name\"]\n",
    "    vector = model[\"vector\"]\n",
    "    version = model[\"version\"]\n",
    "    color = model[\"color\"]\n",
    "    print(\"-------------------------------------------------------------------------------------\")\n",
    "    print(f\"Evaluating {name}: \\n\\tVector size = {vector}\\n\\tCorpus version = {version}\")\n",
    "    print(\"Computing statistics...\")\n",
    "    data_lsi = get_statistics(launch(launch_query_lsi,model[\"model\"], dictionary, model_tfidf[bow], index_lsi, titles.copy()), queries.copy(), titles.copy(), metadata.copy(), judgements.copy())\n",
    "    print(\"Statistics computed...\")\n",
    "    precision_lsi = data_lsi[\"precision\"]\n",
    "    recall = data_lsi[\"recall\"]\n",
    "    mavp_lsi = data_lsi[\"mavp\"]\n",
    "    r_precisions.append(data_lsi[\"r-precision\"])\n",
    "    precisions_5.append(np.array(data_lsi[\"p_5\"]).mean())\n",
    "    precisions_10.append(np.array(data_lsi[\"p_10\"]).mean())\n",
    "    print(f\"Mean Average Precision of this model ==> {mavp_lsi}\")\n",
    "    p_5 = np.array(data_lsi[\"p_5\"]).mean()\n",
    "    p_10 = np.array(data_lsi[\"p_10\"]).mean()\n",
    "    print(f\"Mean P@5 of this model ==> {p_5}\")\n",
    "    print(f\"Mean P@10 of this model ==> {p_10}\")\n",
    "\n",
    "    plt.plot(recall, precision_lsi, f\"{color}-o\", label=name)\n",
    "\n",
    "plt.legend()\n",
    "plt.show()\n",
    "print(\"-------------------------------------------------------------------------------------\")\n",
    "print(\"Comparing our models: W2V vs LSI\")\n",
    "r_precision = np.array(r_precisions[-3]) - np.array(r_precisions[-1])\n",
    "# the histogram of the data\n",
    "plt.figure(figsize=(10,6))\n",
    "plt.bar(np.arange(1,51,1),r_precision)\n",
    "plt.xlabel('Query number')\n",
    "plt.ylabel('R-Precision W2V/LSI')\n",
    "plt.title('Comparison of R-Precisions')\n",
    "plt.grid(True)\n",
    "plt.show()\n",
    "print(\"-------------------------------------------------------------------------------------\")\n",
    "print(\"Evalution finished.\")\n",
    "print(\"###################################################################################\")"
   ]
  },
  {
   "cell_type": "markdown",
   "metadata": {},
   "source": [
    "# Conclusions\n",
    "\n"
   ]
  },
  {
   "cell_type": "markdown",
   "metadata": {},
   "source": [
    "This work aims to retrieve relevant COVID documents given a query and, hence, different models have been implemented and tested. The characteristics of these models are the following:\n",
    "\n",
    "* TFIDF. The term frequency (tf), document frequency (idf) and document normalization can be computed using different metrics. In this work, different combinations have been tested and the one with better performance is lpu: logarithm term frequency weighting, probabilist document frequency weighting and pivoted unique document normalization.\n",
    "* w2v (word2vec). This model computes the weights of the first layer of a neural network with one unique hiden layer. It performs better than any of the TFIDF models (r-precision, P@5 and P@10 improve their values).\n",
    "* fastText. It is based on the w2v model and the key difference among them is the use of n-grams. This model performs worse than w2v and take more time to train the model. Consequently, if the system will run in a real environment (not a learning one), we will exclude it from the possible retrieve models for the search engine. However, recent literature (Tiun et al.) reports that fastTest has better performance than w2v. This let us conclude that the performance of each model varies significantly among corpora. In comparison with TFIDF, we think that the improvement in the evaluation metrics is not worth it compared to the model training time.\n",
    "* Latent Semantic Indexing (LSI). This model considers the semantic meaning of the words: words that are in the same context tend to appear together. Regarding the mean average precision and the r-precisions, this model performs better than w2v. However, w2v achieves a higher value for P@5 and P@10. \n",
    "\n",
    "The two models that have a better performance are w2v and LSI. If we observe the plot that compares the r-precision of both models in all queries, we can see that, in general, LSI is better. However, P@5 and P@10 are higher in w2c and this suggest:\n",
    "\n",
    "* If we want to retrieve just a few results: better performance w2v (a higher value for P@5 and P@10).\n",
    "* If we want to retrieve all the results in the ranking: better performance LSI (a higher value for mean average precision). \n",
    "\n",
    "To conclude, we want to mention that there isn't any perfect model and, in this case, we select LSI and w2v. As a future line of work, we have seen in literature that results from different models can be integrated to retrieve a combined ranking. Additionally, it would be interesting to test also doc2vec model."
   ]
  },
  {
   "cell_type": "markdown",
   "metadata": {},
   "source": [
    "# References"
   ]
  },
  {
   "cell_type": "markdown",
   "metadata": {
    "ExecuteTime": {
     "end_time": "2020-12-12T14:51:15.363156Z",
     "start_time": "2020-12-12T14:51:15.357158Z"
    }
   },
   "source": [
    "Baeza-Yates, R., & Ribeiro-Neto, B. (2011). Modern information retrieval: the concepts and technology behind search. Choice Reviews Online, 48(12), 48-6950-48–6950. https://doi.org/10.5860/choice.48-6950\n",
    "\n",
    "Deerwester, S., Dumais, S. T., Furnas, G. W., Landauer, T. K., & Harshman, R. (1990). Indexing by latent semantic analysis. In Journal of the American Society for Information Science (Vol. 41, Issue 6). https://doi.org/10.1002/(SICI)1097-4571(199009)41:6<391::AID-ASI1>3.0.CO;2-9\n",
    "\n",
    "Mikolov, T., Sutskever, I., Chen, K., Corrado, G., & Dean, J. (2013). Distributed representations ofwords and phrases and their compositionality. Advances in Neural Information Processing Systems. http://arxiv.org/abs/1310.4546\n",
    "\n",
    "Mikolov, T., Chen, K., Corrado, G., & Dean, J. (2013). Efficient estimation of word representations in vector space. In 1st International Conference on Learning Representations, ICLR 2013 - Workshop Track Proceedings. http://ronan.collobert.com/senna/\n",
    "\n",
    "Tiun, S., U. A. Mokhtar, S. H. Bakar, and S. Saad. (2020). Classification of functional and non-functional requirement in software requirement using Word2vec and fast Text. In Journal of Physics: Conference Series, vol. 1529, no. 4, p. 042077. https://doi.org/10.1088%2F1742-6596%2F1529%2F4%2F042077\n",
    "\n",
    "Voorhees, E. M. (2005). Overview of TREC 2005. In NIST Special Publication."
   ]
  }
 ],
 "metadata": {
  "kernelspec": {
   "display_name": "Python 3",
   "language": "python",
   "name": "python3"
  },
  "language_info": {
   "codemirror_mode": {
    "name": "ipython",
    "version": 3
   },
   "file_extension": ".py",
   "mimetype": "text/x-python",
   "name": "python",
   "nbconvert_exporter": "python",
   "pygments_lexer": "ipython3",
   "version": "3.7.6"
  },
  "latex_envs": {
   "LaTeX_envs_menu_present": true,
   "autoclose": true,
   "autocomplete": true,
   "bibliofile": "biblio.bib",
   "cite_by": "apalike",
   "current_citInitial": 1,
   "eqLabelWithNumbers": true,
   "eqNumInitial": 1,
   "hotkeys": {
    "equation": "Ctrl-E",
    "itemize": "Ctrl-I"
   },
   "labels_anchors": false,
   "latex_user_defs": false,
   "report_style_numbering": false,
   "user_envs_cfg": false
  },
  "toc": {
   "base_numbering": 1,
   "nav_menu": {},
   "number_sections": true,
   "sideBar": true,
   "skip_h1_title": false,
   "title_cell": "Table of Contents",
   "title_sidebar": "Contents",
   "toc_cell": true,
   "toc_position": {
    "height": "calc(100% - 180px)",
    "left": "10px",
    "top": "150px",
    "width": "322.5px"
   },
   "toc_section_display": true,
   "toc_window_display": true
  },
  "varInspector": {
   "cols": {
    "lenName": 16,
    "lenType": 16,
    "lenVar": 40
   },
   "kernels_config": {
    "python": {
     "delete_cmd_postfix": "",
     "delete_cmd_prefix": "del ",
     "library": "var_list.py",
     "varRefreshCmd": "print(var_dic_list())"
    },
    "r": {
     "delete_cmd_postfix": ") ",
     "delete_cmd_prefix": "rm(",
     "library": "var_list.r",
     "varRefreshCmd": "cat(var_dic_list()) "
    }
   },
   "types_to_exclude": [
    "module",
    "function",
    "builtin_function_or_method",
    "instance",
    "_Feature"
   ],
   "window_display": false
  }
 },
 "nbformat": 4,
 "nbformat_minor": 4
}
