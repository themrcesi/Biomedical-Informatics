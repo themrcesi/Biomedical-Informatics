{
 "cells": [
  {
   "cell_type": "markdown",
   "metadata": {},
   "source": [
    "# Prerequisites\n",
    "\n",
    "Make sure you have downloaded the following pakcages in your environment:\n",
    "\n",
    "- nltk: nltk.download('stopwords')\n",
    "- xmltodict\n",
    "- numpy\n",
    "- gensim\n",
    "- pandas\n",
    "- matplotlib\n",
    "- dask\n",
    "- sklearn"
   ]
  },
  {
   "cell_type": "markdown",
   "metadata": {},
   "source": [
    "# Imports\n",
    "\n",
    "Import the required libraries for this project."
   ]
  },
  {
   "cell_type": "code",
   "execution_count": 1,
   "metadata": {
    "ExecuteTime": {
     "end_time": "2020-12-07T13:32:37.867151Z",
     "start_time": "2020-12-07T13:32:36.954152Z"
    }
   },
   "outputs": [],
   "source": [
    "import json\n",
    "import xmltodict as xtd\n",
    "import numpy as np\n",
    "import os\n",
    "from nltk.corpus import stopwords\n",
    "from nltk.tokenize import wordpunct_tokenize\n",
    "from nltk.stem import PorterStemmer\n",
    "from joblib import Parallel, delayed\n",
    "from gensim import corpora\n",
    "from gensim import models\n",
    "import pandas as pd\n",
    "from gensim.similarities import MatrixSimilarity, SparseMatrixSimilarity, Similarity\n",
    "from operator import itemgetter\n",
    "import glob\n",
    "from matplotlib import pyplot as plt"
   ]
  },
  {
   "cell_type": "markdown",
   "metadata": {},
   "source": [
    "# File paths\n",
    "\n",
    "Add the paths for the queries file, the texts (documents) and the judements file."
   ]
  },
  {
   "cell_type": "code",
   "execution_count": 2,
   "metadata": {
    "ExecuteTime": {
     "end_time": "2020-12-07T13:32:37.879154Z",
     "start_time": "2020-12-07T13:32:37.877153Z"
    }
   },
   "outputs": [],
   "source": [
    "\"\"\"path_queries = r\"B:\\document_parser\\document_parses\\topics-rnd5.xml\"\n",
    "path_texts = \"B:\\document_parser\\document_parses\\pdf_json\"\n",
    "path_test = \"B:/document_parser/document_parses/test\"\n",
    "path_judgements = \"B:/document_parser/document_parses/judgements.csv\"\n",
    "path_judgements2 = \"B:/document_parser/document_parses/judgements2.csv\"\"\"\n",
    "path_queries = r\"C:/Users/David.Rubio/Desktop/muia/topics-rnd5.xml\"\n",
    "path_texts = \"C:/Users/David.Rubio/Desktop/muia/2020-07-16/document_parses/pdf_json\"\n",
    "path_judgements = \"C:/Users/David.Rubio/Desktop/muia/qrels-covid_d5_j0.5-5.txt\"\n",
    "path_judgements2 = \"C:/Users/David.Rubio/Desktop/muia/qrels-covid_d5_j0.5-5.txt\""
   ]
  },
  {
   "cell_type": "markdown",
   "metadata": {},
   "source": [
    "# Preprocessing\n",
    "\n",
    "In this section, the dictionary, the bag of words (bow) and the similarity matrix will be generated."
   ]
  },
  {
   "cell_type": "markdown",
   "metadata": {},
   "source": [
    "## Creación del Diccionario\n",
    "\n",
    "Regarding the dictionary, we found out that there exists another special dictionary called HashDictionary, that doesn´t need to be filled before used it. However, it is likely that two different words get the same key. So, we decided to use the basic one in spite of having to fill it before hand."
   ]
  },
  {
   "cell_type": "code",
   "execution_count": 3,
   "metadata": {
    "ExecuteTime": {
     "end_time": "2020-12-05T10:53:30.036180Z",
     "start_time": "2020-12-05T10:50:34.377782Z"
    }
   },
   "outputs": [
    {
     "name": "stdout",
     "output_type": "stream",
     "text": [
      "Dictionary(1392828 unique tokens: ['abl', 'absenc', 'absent', 'abundantli', 'accept']...)\n"
     ]
    }
   ],
   "source": [
    "dictionary = corpora.Dictionary(line.split() for line in open(\"docs.txt\",\"r\"))\n",
    "dictionary.save('covid19.dict')  # store the dictionary, for future reference\n",
    "print(dictionary)"
   ]
  },
  {
   "cell_type": "markdown",
   "metadata": {},
   "source": [
    "## BOW generation\n",
    "\n",
    "First, the stopwords list needs to be assigned to a variable."
   ]
  },
  {
   "cell_type": "code",
   "execution_count": 4,
   "metadata": {
    "ExecuteTime": {
     "end_time": "2020-12-05T10:53:38.645238Z",
     "start_time": "2020-12-05T10:53:38.641238Z"
    }
   },
   "outputs": [],
   "source": [
    "stopset = set(stopwords.words(\"english\"))"
   ]
  },
  {
   "cell_type": "markdown",
   "metadata": {},
   "source": [
    "The method *preprocess_document* processes a document given a stopword list. In this method, we concatenate the information given by the title, the abstract and the body."
   ]
  },
  {
   "cell_type": "code",
   "execution_count": 5,
   "metadata": {
    "ExecuteTime": {
     "end_time": "2020-12-05T10:53:39.429195Z",
     "start_time": "2020-12-05T10:53:39.424196Z"
    }
   },
   "outputs": [],
   "source": [
    "def preprocess_document(doc,stopset):\n",
    "    title = np.array([doc[\"metadata\"][\"title\"]], dtype=str)\n",
    "    abstract = np.array([paragraph[\"text\"] for paragraph in doc[\"abstract\"]], dtype=str)\n",
    "    text = np.array([paragraph[\"text\"] for paragraph in doc[\"body_text\"]], dtype=str)\n",
    "    stemmer = PorterStemmer()\n",
    "    information = np.concatenate((title, abstract, text))\n",
    "    tokens = np.concatenate(([wordpunct_tokenize(inf) for inf in information]))\n",
    "    clean = [token.lower() for token in tokens if token.lower() not in stopset and len(token) > 2 and not token.isnumeric()]\n",
    "    final = \" \".join([stemmer.stem(word) for word in clean])\n",
    "    return title[0], str(final.encode(\"utf-8\"))"
   ]
  },
  {
   "cell_type": "markdown",
   "metadata": {},
   "source": [
    "With the data each file in path_texts we write one row per document in docs.txt with the most relevant information (use preprocess_document). This information will be essential to build the dictionary. This step takes more than an hour so, unless you need to generate the file, we strongly suggest not to remove the comments."
   ]
  },
  {
   "cell_type": "code",
   "execution_count": 6,
   "metadata": {
    "ExecuteTime": {
     "end_time": "2020-12-05T10:54:03.397173Z",
     "start_time": "2020-12-05T10:54:03.394172Z"
    }
   },
   "outputs": [],
   "source": [
    "#files = glob.glob(path_texts + \"/*.json\")\n",
    "#with open(\"docs.txt\", \"w+\") as f:\n",
    "#    i = 1\n",
    " #   for file in files:\n",
    "  #      print(i)\n",
    "   #     i+=1\n",
    "    #    with open(file) as js:\n",
    "     #       file_json = json.load(js)\n",
    "      #  _, stems = preprocess_document(file_json, stopset)\n",
    "       # f.write(stems.strip('b\\'')+\"\\n\")"
   ]
  },
  {
   "cell_type": "markdown",
   "metadata": {},
   "source": [
    "The class MyCorpus will help to iterate (\\_\\_iter\\_\\_ method) over each line of a document."
   ]
  },
  {
   "cell_type": "code",
   "execution_count": 7,
   "metadata": {
    "ExecuteTime": {
     "end_time": "2020-12-05T17:19:47.696861Z",
     "start_time": "2020-12-05T17:19:47.692861Z"
    }
   },
   "outputs": [],
   "source": [
    "class MyCorpus:\n",
    "    \n",
    "    def __init__(self, file):\n",
    "        self.path = file\n",
    "        \n",
    "    def __iter__(self):\n",
    "        for line in open(self.path):\n",
    "            # assume there's one document per line, tokens separated by whitespace\n",
    "            yield dictionary.doc2bow(line.split())"
   ]
  },
  {
   "cell_type": "markdown",
   "metadata": {},
   "source": [
    "We iterate over each row in \"docs.txt\" to build the bag of words."
   ]
  },
  {
   "cell_type": "code",
   "execution_count": 8,
   "metadata": {
    "ExecuteTime": {
     "end_time": "2020-12-05T17:22:24.149688Z",
     "start_time": "2020-12-05T17:19:48.268916Z"
    }
   },
   "outputs": [
    {
     "name": "stdout",
     "output_type": "stream",
     "text": [
      "<__main__.MyCorpus object at 0x000001ED7FCC4F10>\n"
     ]
    }
   ],
   "source": [
    "path_corpus = \"docs.txt\"\n",
    "bow = MyCorpus(path_corpus)\n",
    "corpora.MmCorpus.serialize(\"covid19.mm\", bow, metadata=True)\n",
    "print(bow)"
   ]
  },
  {
   "cell_type": "markdown",
   "metadata": {},
   "source": [
    "## Similarity matrix generation\n",
    "\n",
    "Regarding the similarities, we chose to use Similarity instead of MatrixSimilarity since it allows lazy generation, not making us to store all the data in RAM."
   ]
  },
  {
   "cell_type": "code",
   "execution_count": 9,
   "metadata": {
    "ExecuteTime": {
     "end_time": "2020-12-05T11:01:13.253778Z",
     "start_time": "2020-12-05T10:57:10.342528Z"
    }
   },
   "outputs": [],
   "source": [
    "from gensim.test.utils import datapath, get_tmpfile\n",
    "index_temp = get_tmpfile(\"index\")\n",
    "index = Similarity(index_temp, bow, num_features=len(dictionary))  # create index\n",
    "index.save(\"covid19.index\")"
   ]
  },
  {
   "cell_type": "markdown",
   "metadata": {},
   "source": [
    "# Data load \n",
    "\n",
    "In this section, relevant information will be loaded locally (title, judgmenets...). This information is useful during the evaluation step."
   ]
  },
  {
   "cell_type": "markdown",
   "metadata": {},
   "source": [
    "## Titles\n",
    "\n",
    "The title and the paper_id for each document in \"path_texts\" are needed to link the paper_id retrieved by the model with the title.\n",
    "\n",
    "For this task, dask is used to reduce the computing time (parallel computing): 6 workers with 2 threads per worker."
   ]
  },
  {
   "cell_type": "code",
   "execution_count": 10,
   "metadata": {
    "ExecuteTime": {
     "end_time": "2020-12-07T14:56:04.878643Z",
     "start_time": "2020-12-07T14:56:03.833644Z"
    }
   },
   "outputs": [
    {
     "data": {
      "text/html": [
       "<table style=\"border: 2px solid white;\">\n",
       "<tr>\n",
       "<td style=\"vertical-align: top; border: 0px solid white\">\n",
       "<h3 style=\"text-align: left;\">Client</h3>\n",
       "<ul style=\"text-align: left; list-style: none; margin: 0; padding: 0;\">\n",
       "  <li><b>Scheduler: </b>tcp://127.0.0.1:60840</li>\n",
       "  <li><b>Dashboard: </b><a href='http://127.0.0.1:8787/status' target='_blank'>http://127.0.0.1:8787/status</a></li>\n",
       "</ul>\n",
       "</td>\n",
       "<td style=\"vertical-align: top; border: 0px solid white\">\n",
       "<h3 style=\"text-align: left;\">Cluster</h3>\n",
       "<ul style=\"text-align: left; list-style:none; margin: 0; padding: 0;\">\n",
       "  <li><b>Workers: </b>6</li>\n",
       "  <li><b>Cores: </b>12</li>\n",
       "  <li><b>Memory: </b>34.08 GB</li>\n",
       "</ul>\n",
       "</td>\n",
       "</tr>\n",
       "</table>"
      ],
      "text/plain": [
       "<Client: 'tcp://127.0.0.1:60840' processes=6 threads=12, memory=34.08 GB>"
      ]
     },
     "execution_count": 10,
     "metadata": {},
     "output_type": "execute_result"
    }
   ],
   "source": [
    "import dask.bag as db\n",
    "from dask.distributed import Client, progress\n",
    "client = Client(n_workers=6, threads_per_worker=2)\n",
    "\n",
    "client"
   ]
  },
  {
   "cell_type": "markdown",
   "metadata": {},
   "source": [
    "The method load_dataset calls load_json for each file in the path. For this document, load_json calls load_dataset to get the paper_id, the title, the abtract and the body of the document."
   ]
  },
  {
   "cell_type": "code",
   "execution_count": 11,
   "metadata": {
    "ExecuteTime": {
     "end_time": "2020-12-07T14:56:07.434173Z",
     "start_time": "2020-12-07T14:56:07.429177Z"
    }
   },
   "outputs": [],
   "source": [
    "def load_dataset(path):\n",
    "    files = glob.glob(path + \"/*.json\")\n",
    "    b = db.from_sequence(files).map(load_json)\n",
    "    df = b.to_dataframe(columns=[\"id\", \"title\", \"abstract\", \"body\"])\n",
    "    return df\n",
    "\n",
    "def load_document(doc):\n",
    "    title = doc[\"metadata\"][\"title\"]\n",
    "    abstract = \" \".join([paragraph[\"text\"] for paragraph in doc[\"abstract\"]])\n",
    "    text = \" \".join([paragraph[\"text\"] for paragraph in doc[\"body_text\"]])\n",
    "    returned = {}\n",
    "    returned[\"id\"] = doc[\"paper_id\"]\n",
    "    returned[\"title\"] = title\n",
    "    returned[\"abstract\"] = abstract\n",
    "    returned[\"body\"] = text\n",
    "    return returned\n",
    "\n",
    "def load_json(file_path):\n",
    "    with open(file_path) as file:\n",
    "        file_json = json.load(file)\n",
    "    returned = load_document(file_json)\n",
    "    return returned"
   ]
  },
  {
   "cell_type": "markdown",
   "metadata": {},
   "source": [
    "The dataset is built (dataframe with paper_id, title, abstract and body columns for each document in \"path_texts\"). Then, the relevant parts of each row are selected (id and title)."
   ]
  },
  {
   "cell_type": "code",
   "execution_count": 12,
   "metadata": {
    "ExecuteTime": {
     "end_time": "2020-12-07T14:56:08.549656Z",
     "start_time": "2020-12-07T14:56:07.901377Z"
    }
   },
   "outputs": [],
   "source": [
    "dataset = load_dataset(path_texts)"
   ]
  },
  {
   "cell_type": "code",
   "execution_count": 13,
   "metadata": {
    "ExecuteTime": {
     "end_time": "2020-12-07T14:57:12.614598Z",
     "start_time": "2020-12-07T14:56:08.749657Z"
    }
   },
   "outputs": [],
   "source": [
    "titles = dataset[[\"id\",\"title\"]].compute()"
   ]
  },
  {
   "cell_type": "code",
   "execution_count": 14,
   "metadata": {
    "ExecuteTime": {
     "end_time": "2020-12-07T14:57:12.837596Z",
     "start_time": "2020-12-07T14:57:12.829595Z"
    }
   },
   "outputs": [
    {
     "data": {
      "text/html": [
       "<div>\n",
       "<style scoped>\n",
       "    .dataframe tbody tr th:only-of-type {\n",
       "        vertical-align: middle;\n",
       "    }\n",
       "\n",
       "    .dataframe tbody tr th {\n",
       "        vertical-align: top;\n",
       "    }\n",
       "\n",
       "    .dataframe thead th {\n",
       "        text-align: right;\n",
       "    }\n",
       "</style>\n",
       "<table border=\"1\" class=\"dataframe\">\n",
       "  <thead>\n",
       "    <tr style=\"text-align: right;\">\n",
       "      <th></th>\n",
       "      <th>id</th>\n",
       "      <th>title</th>\n",
       "    </tr>\n",
       "  </thead>\n",
       "  <tbody>\n",
       "    <tr>\n",
       "      <th>0</th>\n",
       "      <td>0001418189999fea7f7cbe3e82703d71c85a6fe5</td>\n",
       "      <td>Absence of surface expression of feline infect...</td>\n",
       "    </tr>\n",
       "    <tr>\n",
       "      <th>1</th>\n",
       "      <td>0003793cf9e709bc2b9d0c8111186f78fb73fc04</td>\n",
       "      <td>Title: Rethinking high-risk groups in COVID-19</td>\n",
       "    </tr>\n",
       "    <tr>\n",
       "      <th>2</th>\n",
       "      <td>000379d7a7f37a2ccb978862b9f2016bd03259ea</td>\n",
       "      <td>ScienceDirect ScienceDirect Effect of Nanomate...</td>\n",
       "    </tr>\n",
       "    <tr>\n",
       "      <th>3</th>\n",
       "      <td>00039b94e6cb7609ecbddee1755314bcfeb77faa</td>\n",
       "      <td>Plasma inflammatory cytokines and chemokines i...</td>\n",
       "    </tr>\n",
       "    <tr>\n",
       "      <th>4</th>\n",
       "      <td>0003ddc51c4291d742855e9ac56076a3bea33ad7</td>\n",
       "      <td>Journal Pre-proofs The Fire This Time: The Str...</td>\n",
       "    </tr>\n",
       "    <tr>\n",
       "      <th>...</th>\n",
       "      <td>...</td>\n",
       "      <td>...</td>\n",
       "    </tr>\n",
       "    <tr>\n",
       "      <th>15</th>\n",
       "      <td>fff8b9e88db122ffcbaf1daf6b697e44eaaffd93</td>\n",
       "      <td>Septic shock caused by Mycobacterium tuberculo...</td>\n",
       "    </tr>\n",
       "    <tr>\n",
       "      <th>16</th>\n",
       "      <td>fffaed7e9353b7df6c4ca8f66b62e117013cb86d</td>\n",
       "      <td>Dengue Virus Glycosylation: What Do We Know?</td>\n",
       "    </tr>\n",
       "    <tr>\n",
       "      <th>17</th>\n",
       "      <td>fffb268f02887d8680dc611f6fc0b20c489030cb</td>\n",
       "      <td>Emergence of novel coronavirus and progress to...</td>\n",
       "    </tr>\n",
       "    <tr>\n",
       "      <th>18</th>\n",
       "      <td>fffc88be66eb39823fc9b50f0683e06a3038c9fe</td>\n",
       "      <td>A fractional-order compartmental model for pre...</td>\n",
       "    </tr>\n",
       "    <tr>\n",
       "      <th>19</th>\n",
       "      <td>ffff2fb21d4880b63a7cf3849cecc45bc596f4f0</td>\n",
       "      <td>Comparison of SARS-CoV-2 detection in nasophar...</td>\n",
       "    </tr>\n",
       "  </tbody>\n",
       "</table>\n",
       "<p>84420 rows × 2 columns</p>\n",
       "</div>"
      ],
      "text/plain": [
       "                                          id  \\\n",
       "0   0001418189999fea7f7cbe3e82703d71c85a6fe5   \n",
       "1   0003793cf9e709bc2b9d0c8111186f78fb73fc04   \n",
       "2   000379d7a7f37a2ccb978862b9f2016bd03259ea   \n",
       "3   00039b94e6cb7609ecbddee1755314bcfeb77faa   \n",
       "4   0003ddc51c4291d742855e9ac56076a3bea33ad7   \n",
       "..                                       ...   \n",
       "15  fff8b9e88db122ffcbaf1daf6b697e44eaaffd93   \n",
       "16  fffaed7e9353b7df6c4ca8f66b62e117013cb86d   \n",
       "17  fffb268f02887d8680dc611f6fc0b20c489030cb   \n",
       "18  fffc88be66eb39823fc9b50f0683e06a3038c9fe   \n",
       "19  ffff2fb21d4880b63a7cf3849cecc45bc596f4f0   \n",
       "\n",
       "                                                title  \n",
       "0   Absence of surface expression of feline infect...  \n",
       "1      Title: Rethinking high-risk groups in COVID-19  \n",
       "2   ScienceDirect ScienceDirect Effect of Nanomate...  \n",
       "3   Plasma inflammatory cytokines and chemokines i...  \n",
       "4   Journal Pre-proofs The Fire This Time: The Str...  \n",
       "..                                                ...  \n",
       "15  Septic shock caused by Mycobacterium tuberculo...  \n",
       "16       Dengue Virus Glycosylation: What Do We Know?  \n",
       "17  Emergence of novel coronavirus and progress to...  \n",
       "18  A fractional-order compartmental model for pre...  \n",
       "19  Comparison of SARS-CoV-2 detection in nasophar...  \n",
       "\n",
       "[84420 rows x 2 columns]"
      ]
     },
     "execution_count": 14,
     "metadata": {},
     "output_type": "execute_result"
    }
   ],
   "source": [
    "titles"
   ]
  },
  {
   "cell_type": "markdown",
   "metadata": {},
   "source": [
    "## Judgements\n",
    "\n",
    "The next file needed for the evaluation is the judgements. This file contains for each query a set of cord_uid (unique identifiers for each paper) and, linked with each pair, the score (relevance). The score can be 0,1 or 2 so, the first step is to binarize it (1 if the score is greater or equal to 1, and 0 otherwise). The documents selected for each query comes from the suggestions given by different search engines. With these documents, a \"pool\" is generated and experts analyze if the documents in the pool are relevant for the query or not. The content of judgements will be the key to evaluate the performance of the model."
   ]
  },
  {
   "cell_type": "code",
   "execution_count": 15,
   "metadata": {
    "ExecuteTime": {
     "end_time": "2020-12-07T14:57:13.094595Z",
     "start_time": "2020-12-07T14:57:13.057598Z"
    }
   },
   "outputs": [
    {
     "data": {
      "text/html": [
       "<div>\n",
       "<style scoped>\n",
       "    .dataframe tbody tr th:only-of-type {\n",
       "        vertical-align: middle;\n",
       "    }\n",
       "\n",
       "    .dataframe tbody tr th {\n",
       "        vertical-align: top;\n",
       "    }\n",
       "\n",
       "    .dataframe thead th {\n",
       "        text-align: right;\n",
       "    }\n",
       "</style>\n",
       "<table border=\"1\" class=\"dataframe\">\n",
       "  <thead>\n",
       "    <tr style=\"text-align: right;\">\n",
       "      <th></th>\n",
       "      <th>query</th>\n",
       "      <th>cord_uid</th>\n",
       "      <th>score</th>\n",
       "      <th>binary_score</th>\n",
       "    </tr>\n",
       "  </thead>\n",
       "  <tbody>\n",
       "    <tr>\n",
       "      <th>0</th>\n",
       "      <td>1</td>\n",
       "      <td>005b2j4b</td>\n",
       "      <td>2</td>\n",
       "      <td>1.0</td>\n",
       "    </tr>\n",
       "    <tr>\n",
       "      <th>1</th>\n",
       "      <td>1</td>\n",
       "      <td>00fmeepz</td>\n",
       "      <td>1</td>\n",
       "      <td>1.0</td>\n",
       "    </tr>\n",
       "    <tr>\n",
       "      <th>2</th>\n",
       "      <td>1</td>\n",
       "      <td>010vptx3</td>\n",
       "      <td>2</td>\n",
       "      <td>1.0</td>\n",
       "    </tr>\n",
       "    <tr>\n",
       "      <th>3</th>\n",
       "      <td>1</td>\n",
       "      <td>0194oljo</td>\n",
       "      <td>1</td>\n",
       "      <td>1.0</td>\n",
       "    </tr>\n",
       "    <tr>\n",
       "      <th>4</th>\n",
       "      <td>1</td>\n",
       "      <td>021q9884</td>\n",
       "      <td>1</td>\n",
       "      <td>1.0</td>\n",
       "    </tr>\n",
       "    <tr>\n",
       "      <th>...</th>\n",
       "      <td>...</td>\n",
       "      <td>...</td>\n",
       "      <td>...</td>\n",
       "      <td>...</td>\n",
       "    </tr>\n",
       "    <tr>\n",
       "      <th>69313</th>\n",
       "      <td>50</td>\n",
       "      <td>zvop8bxh</td>\n",
       "      <td>2</td>\n",
       "      <td>1.0</td>\n",
       "    </tr>\n",
       "    <tr>\n",
       "      <th>69314</th>\n",
       "      <td>50</td>\n",
       "      <td>zwf26o63</td>\n",
       "      <td>1</td>\n",
       "      <td>1.0</td>\n",
       "    </tr>\n",
       "    <tr>\n",
       "      <th>69315</th>\n",
       "      <td>50</td>\n",
       "      <td>zwsvlnwe</td>\n",
       "      <td>0</td>\n",
       "      <td>0.0</td>\n",
       "    </tr>\n",
       "    <tr>\n",
       "      <th>69316</th>\n",
       "      <td>50</td>\n",
       "      <td>zxr01yln</td>\n",
       "      <td>1</td>\n",
       "      <td>1.0</td>\n",
       "    </tr>\n",
       "    <tr>\n",
       "      <th>69317</th>\n",
       "      <td>50</td>\n",
       "      <td>zz8wvos9</td>\n",
       "      <td>1</td>\n",
       "      <td>1.0</td>\n",
       "    </tr>\n",
       "  </tbody>\n",
       "</table>\n",
       "<p>69318 rows × 4 columns</p>\n",
       "</div>"
      ],
      "text/plain": [
       "       query  cord_uid  score  binary_score\n",
       "0          1  005b2j4b      2           1.0\n",
       "1          1  00fmeepz      1           1.0\n",
       "2          1  010vptx3      2           1.0\n",
       "3          1  0194oljo      1           1.0\n",
       "4          1  021q9884      1           1.0\n",
       "...      ...       ...    ...           ...\n",
       "69313     50  zvop8bxh      2           1.0\n",
       "69314     50  zwf26o63      1           1.0\n",
       "69315     50  zwsvlnwe      0           0.0\n",
       "69316     50  zxr01yln      1           1.0\n",
       "69317     50  zz8wvos9      1           1.0\n",
       "\n",
       "[69318 rows x 4 columns]"
      ]
     },
     "execution_count": 15,
     "metadata": {},
     "output_type": "execute_result"
    }
   ],
   "source": [
    "def load_judgements(path_judgements):\n",
    "    judgements = pd.read_csv(path_judgements, delimiter=' ', names = [\"query\", \"cord_uid\", \"score\"], usecols=[0,2,3])\n",
    "    judgements.loc[judgements['score'] < 1, 'binary_score'] = 0\n",
    "    judgements.loc[judgements['score'] >=1 , 'binary_score'] = 1\n",
    "    return judgements\n",
    "\n",
    "judgements = load_judgements(path_judgements2)\n",
    "judgements"
   ]
  },
  {
   "cell_type": "markdown",
   "metadata": {},
   "source": [
    "## Queries\n",
    "\n",
    "The content of the file help to link the number of the query in the judgements file with the text of the query."
   ]
  },
  {
   "cell_type": "code",
   "execution_count": 16,
   "metadata": {
    "ExecuteTime": {
     "end_time": "2020-12-07T14:57:13.305595Z",
     "start_time": "2020-12-07T14:57:13.295598Z"
    }
   },
   "outputs": [
    {
     "data": {
      "text/html": [
       "<div>\n",
       "<style scoped>\n",
       "    .dataframe tbody tr th:only-of-type {\n",
       "        vertical-align: middle;\n",
       "    }\n",
       "\n",
       "    .dataframe tbody tr th {\n",
       "        vertical-align: top;\n",
       "    }\n",
       "\n",
       "    .dataframe thead th {\n",
       "        text-align: right;\n",
       "    }\n",
       "</style>\n",
       "<table border=\"1\" class=\"dataframe\">\n",
       "  <thead>\n",
       "    <tr style=\"text-align: right;\">\n",
       "      <th></th>\n",
       "      <th>query</th>\n",
       "    </tr>\n",
       "  </thead>\n",
       "  <tbody>\n",
       "    <tr>\n",
       "      <th>1</th>\n",
       "      <td>coronavirus origin</td>\n",
       "    </tr>\n",
       "    <tr>\n",
       "      <th>2</th>\n",
       "      <td>coronavirus response to weather changes</td>\n",
       "    </tr>\n",
       "    <tr>\n",
       "      <th>3</th>\n",
       "      <td>coronavirus immunity</td>\n",
       "    </tr>\n",
       "    <tr>\n",
       "      <th>4</th>\n",
       "      <td>how do people die from the coronavirus</td>\n",
       "    </tr>\n",
       "    <tr>\n",
       "      <th>5</th>\n",
       "      <td>animal models of COVID-19</td>\n",
       "    </tr>\n",
       "  </tbody>\n",
       "</table>\n",
       "</div>"
      ],
      "text/plain": [
       "                                     query\n",
       "1                       coronavirus origin\n",
       "2  coronavirus response to weather changes\n",
       "3                     coronavirus immunity\n",
       "4   how do people die from the coronavirus\n",
       "5                animal models of COVID-19"
      ]
     },
     "execution_count": 16,
     "metadata": {},
     "output_type": "execute_result"
    }
   ],
   "source": [
    "def load_queries(queries_path):\n",
    "    \"\"\"\n",
    "    Receives the path of the queries files and returns a dictionary containing all the queries.\n",
    "\n",
    "    Parameters\n",
    "    ----------\n",
    "    queries_path : path of the queries file\n",
    "\n",
    "    Returns\n",
    "    -------\n",
    "    dic_judgements : dictionary\n",
    "\n",
    "    \"\"\"\n",
    "    with open(queries_path, \"r\") as xml_file:\n",
    "        data_dict = xtd.parse(xml_file.read())\n",
    "    xml_file.close()\n",
    "\n",
    "    dic_queries = {}\n",
    "    for query in data_dict[\"topics\"][\"topic\"]:\n",
    "        dic_queries[query[\"@number\"]] = query[\"query\"]\n",
    "\n",
    "    df = pd.DataFrame.from_dict(dic_queries, orient='index', columns=['query'])\n",
    "\n",
    "    return df\n",
    "\n",
    "queries = load_queries(path_queries)\n",
    "queries.head()"
   ]
  },
  {
   "cell_type": "markdown",
   "metadata": {},
   "source": [
    "## Metadata"
   ]
  },
  {
   "cell_type": "markdown",
   "metadata": {},
   "source": [
    "The metadata file link the identifier of the paper used for indexing the documents with the cord_uid given in the judgements file."
   ]
  },
  {
   "cell_type": "code",
   "execution_count": 17,
   "metadata": {
    "ExecuteTime": {
     "end_time": "2020-12-07T14:57:13.441596Z",
     "start_time": "2020-12-07T14:57:13.439598Z"
    }
   },
   "outputs": [],
   "source": [
    "#path_metadata = \"B:/document_parser/document_parses/metadata.csv\"\n",
    "path_metadata = \"C:/Users/David.Rubio/Desktop/muia/2020-07-16/metadata.csv\""
   ]
  },
  {
   "cell_type": "code",
   "execution_count": 18,
   "metadata": {
    "ExecuteTime": {
     "end_time": "2020-12-07T14:57:15.010252Z",
     "start_time": "2020-12-07T14:57:13.578598Z"
    }
   },
   "outputs": [
    {
     "name": "stderr",
     "output_type": "stream",
     "text": [
      "C:\\Users\\David.Rubio\\Anaconda3\\envs\\Biomedical informatics\\lib\\site-packages\\IPython\\core\\interactiveshell.py:3146: DtypeWarning: Columns (1) have mixed types.Specify dtype option on import or set low_memory=False.\n",
      "  has_raised = await self.run_ast_nodes(code_ast.body, cell_name,\n"
     ]
    }
   ],
   "source": [
    "metadata = pd.read_csv(path_metadata, header = 0, usecols = [0,1])"
   ]
  },
  {
   "cell_type": "code",
   "execution_count": 19,
   "metadata": {
    "ExecuteTime": {
     "end_time": "2020-12-07T14:57:15.784253Z",
     "start_time": "2020-12-07T14:57:15.136254Z"
    }
   },
   "outputs": [
    {
     "data": {
      "text/html": [
       "<div>\n",
       "<style scoped>\n",
       "    .dataframe tbody tr th:only-of-type {\n",
       "        vertical-align: middle;\n",
       "    }\n",
       "\n",
       "    .dataframe tbody tr th {\n",
       "        vertical-align: top;\n",
       "    }\n",
       "\n",
       "    .dataframe thead th {\n",
       "        text-align: right;\n",
       "    }\n",
       "</style>\n",
       "<table border=\"1\" class=\"dataframe\">\n",
       "  <thead>\n",
       "    <tr style=\"text-align: right;\">\n",
       "      <th></th>\n",
       "      <th>cord_uid</th>\n",
       "      <th>sha</th>\n",
       "    </tr>\n",
       "  </thead>\n",
       "  <tbody>\n",
       "    <tr>\n",
       "      <th>0</th>\n",
       "      <td>ug7v899j</td>\n",
       "      <td>d1aafb70c066a2068b02786f8929fd9c900897fb</td>\n",
       "    </tr>\n",
       "    <tr>\n",
       "      <th>1</th>\n",
       "      <td>02tnwd4m</td>\n",
       "      <td>6b0567729c2143a66d737eb0a2f63f2dce2e5a7d</td>\n",
       "    </tr>\n",
       "    <tr>\n",
       "      <th>2</th>\n",
       "      <td>ejv2xln0</td>\n",
       "      <td>06ced00a5fc04215949aa72528f2eeaae1d58927</td>\n",
       "    </tr>\n",
       "    <tr>\n",
       "      <th>3</th>\n",
       "      <td>2b73a28n</td>\n",
       "      <td>348055649b6b8cf2b9a376498df9bf41f7123605</td>\n",
       "    </tr>\n",
       "    <tr>\n",
       "      <th>4</th>\n",
       "      <td>9785vg6d</td>\n",
       "      <td>5f48792a5fa08bed9f56016f4981ae2ca6031b32</td>\n",
       "    </tr>\n",
       "    <tr>\n",
       "      <th>...</th>\n",
       "      <td>...</td>\n",
       "      <td>...</td>\n",
       "    </tr>\n",
       "    <tr>\n",
       "      <th>192504</th>\n",
       "      <td>z4ro6lmh</td>\n",
       "      <td>203f36475be74229101548475d68352b939f8b5b</td>\n",
       "    </tr>\n",
       "    <tr>\n",
       "      <th>192505</th>\n",
       "      <td>hi8k8wvb</td>\n",
       "      <td>9f1bc99798e8823e690697394dcb23533a45c60e</td>\n",
       "    </tr>\n",
       "    <tr>\n",
       "      <th>192506</th>\n",
       "      <td>ma3ndg41</td>\n",
       "      <td>ffba777376718ef2a0dd74a8eab90e2bfacd240f</td>\n",
       "    </tr>\n",
       "    <tr>\n",
       "      <th>192507</th>\n",
       "      <td>wh10285j</td>\n",
       "      <td>d521c5a2dcbd79a5be606fcf586b1e0448344172</td>\n",
       "    </tr>\n",
       "    <tr>\n",
       "      <th>192508</th>\n",
       "      <td>pnl9th2c</td>\n",
       "      <td>c047bf76813106d4fd586e49164e7feddfbe352f</td>\n",
       "    </tr>\n",
       "  </tbody>\n",
       "</table>\n",
       "<p>197180 rows × 2 columns</p>\n",
       "</div>"
      ],
      "text/plain": [
       "        cord_uid                                       sha\n",
       "0       ug7v899j  d1aafb70c066a2068b02786f8929fd9c900897fb\n",
       "1       02tnwd4m  6b0567729c2143a66d737eb0a2f63f2dce2e5a7d\n",
       "2       ejv2xln0  06ced00a5fc04215949aa72528f2eeaae1d58927\n",
       "3       2b73a28n  348055649b6b8cf2b9a376498df9bf41f7123605\n",
       "4       9785vg6d  5f48792a5fa08bed9f56016f4981ae2ca6031b32\n",
       "...          ...                                       ...\n",
       "192504  z4ro6lmh  203f36475be74229101548475d68352b939f8b5b\n",
       "192505  hi8k8wvb  9f1bc99798e8823e690697394dcb23533a45c60e\n",
       "192506  ma3ndg41  ffba777376718ef2a0dd74a8eab90e2bfacd240f\n",
       "192507  wh10285j  d521c5a2dcbd79a5be606fcf586b1e0448344172\n",
       "192508  pnl9th2c  c047bf76813106d4fd586e49164e7feddfbe352f\n",
       "\n",
       "[197180 rows x 2 columns]"
      ]
     },
     "execution_count": 19,
     "metadata": {},
     "output_type": "execute_result"
    }
   ],
   "source": [
    "metadata = metadata.assign(sha=metadata.sha.str.split('; ')).explode('sha')\n",
    "metadata"
   ]
  },
  {
   "cell_type": "code",
   "execution_count": 20,
   "metadata": {
    "ExecuteTime": {
     "end_time": "2020-12-07T14:57:15.935253Z",
     "start_time": "2020-12-07T14:57:15.922255Z"
    }
   },
   "outputs": [
    {
     "data": {
      "text/plain": [
       "112754"
      ]
     },
     "execution_count": 20,
     "metadata": {},
     "output_type": "execute_result"
    }
   ],
   "source": [
    "metadata['sha'].isnull().values.sum()"
   ]
  },
  {
   "cell_type": "code",
   "execution_count": 21,
   "metadata": {
    "ExecuteTime": {
     "end_time": "2020-12-07T14:57:16.100254Z",
     "start_time": "2020-12-07T14:57:16.066254Z"
    }
   },
   "outputs": [],
   "source": [
    "metadata = metadata.dropna()"
   ]
  },
  {
   "cell_type": "markdown",
   "metadata": {},
   "source": [
    "# Retrieval models"
   ]
  },
  {
   "cell_type": "markdown",
   "metadata": {},
   "source": [
    "## TFIDF Model\n",
    "\n",
    "The TFIDF (Term Frequency Inversed Document Frequency) model is a numerical statistical model. This model returns a score which indicates how important is a word/query for a document in a corpus (collection). This score is proportional to the number of times the word(s) appears (tf) and inversly proportional to the number of documents that contains this word(s)."
   ]
  },
  {
   "cell_type": "markdown",
   "metadata": {},
   "source": [
    "The first thing that we need to do is loading the bag of words created before."
   ]
  },
  {
   "cell_type": "code",
   "execution_count": 22,
   "metadata": {
    "ExecuteTime": {
     "end_time": "2020-12-07T15:15:22.447841Z",
     "start_time": "2020-12-07T15:15:22.436840Z"
    }
   },
   "outputs": [],
   "source": [
    "bow = corpora.MmCorpus('covid19.mm')"
   ]
  },
  {
   "cell_type": "markdown",
   "metadata": {},
   "source": [
    "Then, we also load the dictionary and the similarity matrix."
   ]
  },
  {
   "cell_type": "code",
   "execution_count": 23,
   "metadata": {
    "ExecuteTime": {
     "end_time": "2020-12-07T15:15:27.785254Z",
     "start_time": "2020-12-07T15:15:27.022257Z"
    }
   },
   "outputs": [],
   "source": [
    "dictionary = corpora.Dictionary.load(\"covid19.dict\")"
   ]
  },
  {
   "cell_type": "code",
   "execution_count": 24,
   "metadata": {
    "ExecuteTime": {
     "end_time": "2020-12-07T15:15:29.049333Z",
     "start_time": "2020-12-07T15:15:29.046334Z"
    }
   },
   "outputs": [],
   "source": [
    "similarities = Similarity.load(\"covid19.index\")"
   ]
  },
  {
   "cell_type": "markdown",
   "metadata": {},
   "source": [
    "Once we loaded the bow, dictionary and similarities, we are able to create our TFIDF model."
   ]
  },
  {
   "cell_type": "code",
   "execution_count": 25,
   "metadata": {
    "ExecuteTime": {
     "end_time": "2020-12-07T15:16:39.366645Z",
     "start_time": "2020-12-07T15:15:29.446551Z"
    }
   },
   "outputs": [],
   "source": [
    "# Default model uses nfc from SMART notation.\n",
    "model_tfidf = models.TfidfModel(bow)"
   ]
  },
  {
   "cell_type": "markdown",
   "metadata": {},
   "source": [
    "We create a function to execute a query that returns the ranking of documents retrieved for that specific query. Moreover, a util function to preprocess the query."
   ]
  },
  {
   "cell_type": "code",
   "execution_count": 26,
   "metadata": {
    "ExecuteTime": {
     "end_time": "2020-12-07T15:42:55.106982Z",
     "start_time": "2020-12-07T15:42:55.101982Z"
    }
   },
   "outputs": [],
   "source": [
    "def launch_query_tfidf(model, dictionary, bow, index, query, titles, verbose = 0):\n",
    "    \"\"\"\n",
    "    Given a specific query, it returns the ranking of documents.\n",
    "    \n",
    "    Parameters\n",
    "    ----------\n",
    "    model : tfidf model\n",
    "    dictionary: dictionary created\n",
    "    bow: bag of words\n",
    "    index: similarities matrix\n",
    "    query: specific query\n",
    "    titles: dataframe of the titles\n",
    "    verbose: flag for printing messages\n",
    "    \n",
    "    Returns\n",
    "    -------\n",
    "    ranking: ranking for the query in this format: [(doc_position, score), (doc_position, score), ... ]\n",
    "    similarities: similarities matrix\n",
    "\n",
    "    \"\"\"\n",
    "    stopset = set(stopwords.words(\"english\"))\n",
    "    index = index\n",
    "    pq = preprocess_query_tfidf(query, stopset)\n",
    "    vq = dictionary.doc2bow(pq)\n",
    "    qtfidf = model[vq]\n",
    "    sim = index[qtfidf]\n",
    "    ranking = sorted(enumerate(sim), key=itemgetter(1), reverse=True)\n",
    "    if verbose:\n",
    "        print(\"Query ==> \"+query)\n",
    "        for doc, score in ranking[:5]:\n",
    "            print(\"[ Score = \" + \"%.3f\" % round(score,3) + \" ] \" + titles['title'].iloc[doc])\n",
    "    return ranking, sim\n",
    "        \n",
    "def preprocess_query_tfidf(query, stopset):\n",
    "    \"\"\"\n",
    "    Basic function that preprocess a query given a stopset: tokenization, lower case, stopwords removal and stemming.\n",
    "    \n",
    "    Parameters\n",
    "    ----------\n",
    "    query: query to preprocess\n",
    "    stopset: set containing stopwords\n",
    "    \n",
    "    Returns\n",
    "    -------\n",
    "    stems: stems of the given query\n",
    "    \n",
    "    \"\"\"\n",
    "    stemmer = PorterStemmer()\n",
    "    tokens = wordpunct_tokenize(query)\n",
    "    clean = [token.lower() for token in tokens if token.lower() not in stopset and len(token) > 2]\n",
    "    stems = [stemmer.stem(word) for word in clean]\n",
    "    return stems"
   ]
  },
  {
   "cell_type": "markdown",
   "metadata": {},
   "source": [
    "We execute it to show you how it works. (Notice that in this case verbose is marked as 1)"
   ]
  },
  {
   "cell_type": "code",
   "execution_count": 27,
   "metadata": {
    "ExecuteTime": {
     "end_time": "2020-12-07T18:18:06.065098Z",
     "start_time": "2020-12-07T18:18:05.475102Z"
    }
   },
   "outputs": [
    {
     "name": "stdout",
     "output_type": "stream",
     "text": [
      "Query ==> coronavirus response to weather changes\n",
      "[ Score = 0.421 ] Advice-giving in newspaper weather commentaries\n",
      "[ Score = 0.387 ] Severe weather warnings predict fracture epidemics\n",
      "[ Score = 0.348 ] The Weather Impacts the Outbreak of COVID-19 in Mainland China\n",
      "[ Score = 0.324 ] Comparison of culturable antibiotic-resistant bacteria in polluted and non- polluted air in Beijing, China\n",
      "[ Score = 0.292 ] Weather-Dependent Risk for Legionnaires' Disease, United States Legionella pneumophila [leʺjə-nelʹə nooʺmo-filʹə]\n"
     ]
    }
   ],
   "source": [
    "ranking, sim = launch_query_tfidf(model_tfidf, dictionary, bow, similarities, queries.iloc[1][0], titles, verbose = 1)"
   ]
  },
  {
   "cell_type": "markdown",
   "metadata": {},
   "source": [
    "### Example of evaluation\n",
    "\n",
    "Once we are able to launch queries, it´s time for evaluation. We are going to show you step by step the process for evaluation for the query launched before. Once this process is explained, we will create parameterized functions in order to improve the quality and organization of our code, making us able to reuse it later.\n",
    "\n",
    "The first thing that we do is creating a dataframe from the ranking obtained."
   ]
  },
  {
   "cell_type": "code",
   "execution_count": 28,
   "metadata": {
    "ExecuteTime": {
     "end_time": "2020-12-07T18:18:06.987101Z",
     "start_time": "2020-12-07T18:18:06.876102Z"
    }
   },
   "outputs": [
    {
     "data": {
      "text/html": [
       "<div>\n",
       "<style scoped>\n",
       "    .dataframe tbody tr th:only-of-type {\n",
       "        vertical-align: middle;\n",
       "    }\n",
       "\n",
       "    .dataframe tbody tr th {\n",
       "        vertical-align: top;\n",
       "    }\n",
       "\n",
       "    .dataframe thead th {\n",
       "        text-align: right;\n",
       "    }\n",
       "</style>\n",
       "<table border=\"1\" class=\"dataframe\">\n",
       "  <thead>\n",
       "    <tr style=\"text-align: right;\">\n",
       "      <th></th>\n",
       "      <th>doc_position</th>\n",
       "      <th>rel_score</th>\n",
       "    </tr>\n",
       "  </thead>\n",
       "  <tbody>\n",
       "    <tr>\n",
       "      <th>0</th>\n",
       "      <td>54321</td>\n",
       "      <td>0.420703</td>\n",
       "    </tr>\n",
       "    <tr>\n",
       "      <th>1</th>\n",
       "      <td>12462</td>\n",
       "      <td>0.387222</td>\n",
       "    </tr>\n",
       "    <tr>\n",
       "      <th>2</th>\n",
       "      <td>11917</td>\n",
       "      <td>0.348274</td>\n",
       "    </tr>\n",
       "    <tr>\n",
       "      <th>3</th>\n",
       "      <td>83769</td>\n",
       "      <td>0.323658</td>\n",
       "    </tr>\n",
       "    <tr>\n",
       "      <th>4</th>\n",
       "      <td>41404</td>\n",
       "      <td>0.292001</td>\n",
       "    </tr>\n",
       "    <tr>\n",
       "      <th>...</th>\n",
       "      <td>...</td>\n",
       "      <td>...</td>\n",
       "    </tr>\n",
       "    <tr>\n",
       "      <th>84415</th>\n",
       "      <td>84377</td>\n",
       "      <td>0.000000</td>\n",
       "    </tr>\n",
       "    <tr>\n",
       "      <th>84416</th>\n",
       "      <td>84391</td>\n",
       "      <td>0.000000</td>\n",
       "    </tr>\n",
       "    <tr>\n",
       "      <th>84417</th>\n",
       "      <td>84397</td>\n",
       "      <td>0.000000</td>\n",
       "    </tr>\n",
       "    <tr>\n",
       "      <th>84418</th>\n",
       "      <td>84407</td>\n",
       "      <td>0.000000</td>\n",
       "    </tr>\n",
       "    <tr>\n",
       "      <th>84419</th>\n",
       "      <td>84408</td>\n",
       "      <td>0.000000</td>\n",
       "    </tr>\n",
       "  </tbody>\n",
       "</table>\n",
       "<p>84420 rows × 2 columns</p>\n",
       "</div>"
      ],
      "text/plain": [
       "       doc_position  rel_score\n",
       "0             54321   0.420703\n",
       "1             12462   0.387222\n",
       "2             11917   0.348274\n",
       "3             83769   0.323658\n",
       "4             41404   0.292001\n",
       "...             ...        ...\n",
       "84415         84377   0.000000\n",
       "84416         84391   0.000000\n",
       "84417         84397   0.000000\n",
       "84418         84407   0.000000\n",
       "84419         84408   0.000000\n",
       "\n",
       "[84420 rows x 2 columns]"
      ]
     },
     "execution_count": 28,
     "metadata": {},
     "output_type": "execute_result"
    }
   ],
   "source": [
    "ranking = [[position[0], position[1]] for position in ranking]\n",
    "ranking = pd.DataFrame(ranking, columns=[\"doc_position\", \"rel_score\"])\n",
    "ranking"
   ]
  },
  {
   "cell_type": "markdown",
   "metadata": {},
   "source": [
    "Now, we include the sha identifier of each document result and its global ranking."
   ]
  },
  {
   "cell_type": "code",
   "execution_count": 29,
   "metadata": {
    "ExecuteTime": {
     "end_time": "2020-12-07T18:19:48.421954Z",
     "start_time": "2020-12-07T18:19:47.791620Z"
    }
   },
   "outputs": [
    {
     "data": {
      "text/html": [
       "<div>\n",
       "<style scoped>\n",
       "    .dataframe tbody tr th:only-of-type {\n",
       "        vertical-align: middle;\n",
       "    }\n",
       "\n",
       "    .dataframe tbody tr th {\n",
       "        vertical-align: top;\n",
       "    }\n",
       "\n",
       "    .dataframe thead th {\n",
       "        text-align: right;\n",
       "    }\n",
       "</style>\n",
       "<table border=\"1\" class=\"dataframe\">\n",
       "  <thead>\n",
       "    <tr style=\"text-align: right;\">\n",
       "      <th></th>\n",
       "      <th>doc_position</th>\n",
       "      <th>rel_score</th>\n",
       "      <th>sha</th>\n",
       "      <th>ranking</th>\n",
       "    </tr>\n",
       "  </thead>\n",
       "  <tbody>\n",
       "    <tr>\n",
       "      <th>0</th>\n",
       "      <td>54321</td>\n",
       "      <td>0.420703</td>\n",
       "      <td>a4b6c8a9ecb94ba17e416cff443028d996454039</td>\n",
       "      <td>0</td>\n",
       "    </tr>\n",
       "    <tr>\n",
       "      <th>1</th>\n",
       "      <td>12462</td>\n",
       "      <td>0.387222</td>\n",
       "      <td>25f4d6c2f2dcb5f46464f5a31603be4606cb7116</td>\n",
       "      <td>1</td>\n",
       "    </tr>\n",
       "    <tr>\n",
       "      <th>2</th>\n",
       "      <td>11917</td>\n",
       "      <td>0.348274</td>\n",
       "      <td>244c5c9c6a6fb239d47c9b0016c62d24c23bf3e8</td>\n",
       "      <td>2</td>\n",
       "    </tr>\n",
       "    <tr>\n",
       "      <th>3</th>\n",
       "      <td>83769</td>\n",
       "      <td>0.323658</td>\n",
       "      <td>fdebb2b0f78abab06a7b1843831fdaa78c3463f7</td>\n",
       "      <td>3</td>\n",
       "    </tr>\n",
       "    <tr>\n",
       "      <th>4</th>\n",
       "      <td>41404</td>\n",
       "      <td>0.292001</td>\n",
       "      <td>7d7255ec9a213b7fe04cb8c08b326e0aacd2fd9b</td>\n",
       "      <td>4</td>\n",
       "    </tr>\n",
       "    <tr>\n",
       "      <th>...</th>\n",
       "      <td>...</td>\n",
       "      <td>...</td>\n",
       "      <td>...</td>\n",
       "      <td>...</td>\n",
       "    </tr>\n",
       "    <tr>\n",
       "      <th>84415</th>\n",
       "      <td>84377</td>\n",
       "      <td>0.000000</td>\n",
       "      <td>ffe3b2ad5b565d38aebab45629d4329fe8bf4e02</td>\n",
       "      <td>84415</td>\n",
       "    </tr>\n",
       "    <tr>\n",
       "      <th>84416</th>\n",
       "      <td>84391</td>\n",
       "      <td>0.000000</td>\n",
       "      <td>ffea289feac032cd0ba2c8890a9a725c763af652</td>\n",
       "      <td>84416</td>\n",
       "    </tr>\n",
       "    <tr>\n",
       "      <th>84417</th>\n",
       "      <td>84397</td>\n",
       "      <td>0.000000</td>\n",
       "      <td>ffed5d2a31a0c1a0db11905fe378e7735b6d70ca</td>\n",
       "      <td>84417</td>\n",
       "    </tr>\n",
       "    <tr>\n",
       "      <th>84418</th>\n",
       "      <td>84407</td>\n",
       "      <td>0.000000</td>\n",
       "      <td>fff3678cfe3ce7a9ccae1e7becf17d5d71d1b54a</td>\n",
       "      <td>84418</td>\n",
       "    </tr>\n",
       "    <tr>\n",
       "      <th>84419</th>\n",
       "      <td>84408</td>\n",
       "      <td>0.000000</td>\n",
       "      <td>fff37ff9de7ac14189bacc386448ae96a624f19f</td>\n",
       "      <td>84419</td>\n",
       "    </tr>\n",
       "  </tbody>\n",
       "</table>\n",
       "<p>84420 rows × 4 columns</p>\n",
       "</div>"
      ],
      "text/plain": [
       "       doc_position  rel_score                                       sha  \\\n",
       "0             54321   0.420703  a4b6c8a9ecb94ba17e416cff443028d996454039   \n",
       "1             12462   0.387222  25f4d6c2f2dcb5f46464f5a31603be4606cb7116   \n",
       "2             11917   0.348274  244c5c9c6a6fb239d47c9b0016c62d24c23bf3e8   \n",
       "3             83769   0.323658  fdebb2b0f78abab06a7b1843831fdaa78c3463f7   \n",
       "4             41404   0.292001  7d7255ec9a213b7fe04cb8c08b326e0aacd2fd9b   \n",
       "...             ...        ...                                       ...   \n",
       "84415         84377   0.000000  ffe3b2ad5b565d38aebab45629d4329fe8bf4e02   \n",
       "84416         84391   0.000000  ffea289feac032cd0ba2c8890a9a725c763af652   \n",
       "84417         84397   0.000000  ffed5d2a31a0c1a0db11905fe378e7735b6d70ca   \n",
       "84418         84407   0.000000  fff3678cfe3ce7a9ccae1e7becf17d5d71d1b54a   \n",
       "84419         84408   0.000000  fff37ff9de7ac14189bacc386448ae96a624f19f   \n",
       "\n",
       "       ranking  \n",
       "0            0  \n",
       "1            1  \n",
       "2            2  \n",
       "3            3  \n",
       "4            4  \n",
       "...        ...  \n",
       "84415    84415  \n",
       "84416    84416  \n",
       "84417    84417  \n",
       "84418    84418  \n",
       "84419    84419  \n",
       "\n",
       "[84420 rows x 4 columns]"
      ]
     },
     "execution_count": 29,
     "metadata": {},
     "output_type": "execute_result"
    }
   ],
   "source": [
    "results = ranking\n",
    "results[\"sha\"] = results[\"doc_position\"].map(lambda x: titles[\"id\"].iloc[x])\n",
    "results[\"ranking\"] = results.index\n",
    "results"
   ]
  },
  {
   "cell_type": "markdown",
   "metadata": {},
   "source": [
    "Now, we join this dataframe with metadata in order to obtain the cord_uid of each document retrieved. This will allow us later to obtain the relevance scores."
   ]
  },
  {
   "cell_type": "code",
   "execution_count": 30,
   "metadata": {
    "ExecuteTime": {
     "end_time": "2020-12-07T18:20:52.667287Z",
     "start_time": "2020-12-07T18:20:52.365634Z"
    }
   },
   "outputs": [
    {
     "data": {
      "text/html": [
       "<div>\n",
       "<style scoped>\n",
       "    .dataframe tbody tr th:only-of-type {\n",
       "        vertical-align: middle;\n",
       "    }\n",
       "\n",
       "    .dataframe tbody tr th {\n",
       "        vertical-align: top;\n",
       "    }\n",
       "\n",
       "    .dataframe thead th {\n",
       "        text-align: right;\n",
       "    }\n",
       "</style>\n",
       "<table border=\"1\" class=\"dataframe\">\n",
       "  <thead>\n",
       "    <tr style=\"text-align: right;\">\n",
       "      <th></th>\n",
       "      <th>doc_position</th>\n",
       "      <th>rel_score</th>\n",
       "      <th>ranking</th>\n",
       "      <th>cord_uid</th>\n",
       "    </tr>\n",
       "    <tr>\n",
       "      <th>sha</th>\n",
       "      <th></th>\n",
       "      <th></th>\n",
       "      <th></th>\n",
       "      <th></th>\n",
       "    </tr>\n",
       "  </thead>\n",
       "  <tbody>\n",
       "    <tr>\n",
       "      <th>a4b6c8a9ecb94ba17e416cff443028d996454039</th>\n",
       "      <td>54321</td>\n",
       "      <td>0.420703</td>\n",
       "      <td>0</td>\n",
       "      <td>kftchnhz</td>\n",
       "    </tr>\n",
       "    <tr>\n",
       "      <th>25f4d6c2f2dcb5f46464f5a31603be4606cb7116</th>\n",
       "      <td>12462</td>\n",
       "      <td>0.387222</td>\n",
       "      <td>1</td>\n",
       "      <td>2p9j4ksy</td>\n",
       "    </tr>\n",
       "    <tr>\n",
       "      <th>244c5c9c6a6fb239d47c9b0016c62d24c23bf3e8</th>\n",
       "      <td>11917</td>\n",
       "      <td>0.348274</td>\n",
       "      <td>2</td>\n",
       "      <td>akb96git</td>\n",
       "    </tr>\n",
       "    <tr>\n",
       "      <th>fdebb2b0f78abab06a7b1843831fdaa78c3463f7</th>\n",
       "      <td>83769</td>\n",
       "      <td>0.323658</td>\n",
       "      <td>3</td>\n",
       "      <td>h5ufxzv9</td>\n",
       "    </tr>\n",
       "    <tr>\n",
       "      <th>7d7255ec9a213b7fe04cb8c08b326e0aacd2fd9b</th>\n",
       "      <td>41404</td>\n",
       "      <td>0.292001</td>\n",
       "      <td>4</td>\n",
       "      <td>lv8dvdp7</td>\n",
       "    </tr>\n",
       "    <tr>\n",
       "      <th>...</th>\n",
       "      <td>...</td>\n",
       "      <td>...</td>\n",
       "      <td>...</td>\n",
       "      <td>...</td>\n",
       "    </tr>\n",
       "    <tr>\n",
       "      <th>ffe3b2ad5b565d38aebab45629d4329fe8bf4e02</th>\n",
       "      <td>84377</td>\n",
       "      <td>0.000000</td>\n",
       "      <td>84415</td>\n",
       "      <td>wg1qwmj1</td>\n",
       "    </tr>\n",
       "    <tr>\n",
       "      <th>ffea289feac032cd0ba2c8890a9a725c763af652</th>\n",
       "      <td>84391</td>\n",
       "      <td>0.000000</td>\n",
       "      <td>84416</td>\n",
       "      <td>alsps70x</td>\n",
       "    </tr>\n",
       "    <tr>\n",
       "      <th>ffed5d2a31a0c1a0db11905fe378e7735b6d70ca</th>\n",
       "      <td>84397</td>\n",
       "      <td>0.000000</td>\n",
       "      <td>84417</td>\n",
       "      <td>dabu4ohl</td>\n",
       "    </tr>\n",
       "    <tr>\n",
       "      <th>fff3678cfe3ce7a9ccae1e7becf17d5d71d1b54a</th>\n",
       "      <td>84407</td>\n",
       "      <td>0.000000</td>\n",
       "      <td>84418</td>\n",
       "      <td>1qtqergw</td>\n",
       "    </tr>\n",
       "    <tr>\n",
       "      <th>fff37ff9de7ac14189bacc386448ae96a624f19f</th>\n",
       "      <td>84408</td>\n",
       "      <td>0.000000</td>\n",
       "      <td>84419</td>\n",
       "      <td>prqrvemt</td>\n",
       "    </tr>\n",
       "  </tbody>\n",
       "</table>\n",
       "<p>84426 rows × 4 columns</p>\n",
       "</div>"
      ],
      "text/plain": [
       "                                          doc_position  rel_score  ranking  \\\n",
       "sha                                                                          \n",
       "a4b6c8a9ecb94ba17e416cff443028d996454039         54321   0.420703        0   \n",
       "25f4d6c2f2dcb5f46464f5a31603be4606cb7116         12462   0.387222        1   \n",
       "244c5c9c6a6fb239d47c9b0016c62d24c23bf3e8         11917   0.348274        2   \n",
       "fdebb2b0f78abab06a7b1843831fdaa78c3463f7         83769   0.323658        3   \n",
       "7d7255ec9a213b7fe04cb8c08b326e0aacd2fd9b         41404   0.292001        4   \n",
       "...                                                ...        ...      ...   \n",
       "ffe3b2ad5b565d38aebab45629d4329fe8bf4e02         84377   0.000000    84415   \n",
       "ffea289feac032cd0ba2c8890a9a725c763af652         84391   0.000000    84416   \n",
       "ffed5d2a31a0c1a0db11905fe378e7735b6d70ca         84397   0.000000    84417   \n",
       "fff3678cfe3ce7a9ccae1e7becf17d5d71d1b54a         84407   0.000000    84418   \n",
       "fff37ff9de7ac14189bacc386448ae96a624f19f         84408   0.000000    84419   \n",
       "\n",
       "                                          cord_uid  \n",
       "sha                                                 \n",
       "a4b6c8a9ecb94ba17e416cff443028d996454039  kftchnhz  \n",
       "25f4d6c2f2dcb5f46464f5a31603be4606cb7116  2p9j4ksy  \n",
       "244c5c9c6a6fb239d47c9b0016c62d24c23bf3e8  akb96git  \n",
       "fdebb2b0f78abab06a7b1843831fdaa78c3463f7  h5ufxzv9  \n",
       "7d7255ec9a213b7fe04cb8c08b326e0aacd2fd9b  lv8dvdp7  \n",
       "...                                            ...  \n",
       "ffe3b2ad5b565d38aebab45629d4329fe8bf4e02  wg1qwmj1  \n",
       "ffea289feac032cd0ba2c8890a9a725c763af652  alsps70x  \n",
       "ffed5d2a31a0c1a0db11905fe378e7735b6d70ca  dabu4ohl  \n",
       "fff3678cfe3ce7a9ccae1e7becf17d5d71d1b54a  1qtqergw  \n",
       "fff37ff9de7ac14189bacc386448ae96a624f19f  prqrvemt  \n",
       "\n",
       "[84426 rows x 4 columns]"
      ]
     },
     "execution_count": 30,
     "metadata": {},
     "output_type": "execute_result"
    }
   ],
   "source": [
    "results = results.set_index(\"sha\").join(metadata.set_index(\"sha\"))\n",
    "results = results.sort_values(by=[\"ranking\"])\n",
    "results"
   ]
  },
  {
   "cell_type": "markdown",
   "metadata": {},
   "source": [
    "We check that there are some null values in the cord_uid column. This means that some documents of our corpus don´t have a cord_uid in the metadata, so we drop them."
   ]
  },
  {
   "cell_type": "code",
   "execution_count": 31,
   "metadata": {
    "ExecuteTime": {
     "end_time": "2020-12-07T18:22:45.039835Z",
     "start_time": "2020-12-07T18:22:45.025834Z"
    }
   },
   "outputs": [
    {
     "data": {
      "text/plain": [
       "0"
      ]
     },
     "execution_count": 31,
     "metadata": {},
     "output_type": "execute_result"
    }
   ],
   "source": [
    "results['cord_uid'].isnull().sum()"
   ]
  },
  {
   "cell_type": "code",
   "execution_count": 32,
   "metadata": {
    "ExecuteTime": {
     "end_time": "2020-12-07T18:22:46.240852Z",
     "start_time": "2020-12-07T18:22:46.210852Z"
    }
   },
   "outputs": [
    {
     "data": {
      "text/html": [
       "<div>\n",
       "<style scoped>\n",
       "    .dataframe tbody tr th:only-of-type {\n",
       "        vertical-align: middle;\n",
       "    }\n",
       "\n",
       "    .dataframe tbody tr th {\n",
       "        vertical-align: top;\n",
       "    }\n",
       "\n",
       "    .dataframe thead th {\n",
       "        text-align: right;\n",
       "    }\n",
       "</style>\n",
       "<table border=\"1\" class=\"dataframe\">\n",
       "  <thead>\n",
       "    <tr style=\"text-align: right;\">\n",
       "      <th></th>\n",
       "      <th>doc_position</th>\n",
       "      <th>rel_score</th>\n",
       "      <th>ranking</th>\n",
       "      <th>cord_uid</th>\n",
       "    </tr>\n",
       "    <tr>\n",
       "      <th>sha</th>\n",
       "      <th></th>\n",
       "      <th></th>\n",
       "      <th></th>\n",
       "      <th></th>\n",
       "    </tr>\n",
       "  </thead>\n",
       "  <tbody>\n",
       "    <tr>\n",
       "      <th>a4b6c8a9ecb94ba17e416cff443028d996454039</th>\n",
       "      <td>54321</td>\n",
       "      <td>0.420703</td>\n",
       "      <td>0</td>\n",
       "      <td>kftchnhz</td>\n",
       "    </tr>\n",
       "    <tr>\n",
       "      <th>25f4d6c2f2dcb5f46464f5a31603be4606cb7116</th>\n",
       "      <td>12462</td>\n",
       "      <td>0.387222</td>\n",
       "      <td>1</td>\n",
       "      <td>2p9j4ksy</td>\n",
       "    </tr>\n",
       "    <tr>\n",
       "      <th>244c5c9c6a6fb239d47c9b0016c62d24c23bf3e8</th>\n",
       "      <td>11917</td>\n",
       "      <td>0.348274</td>\n",
       "      <td>2</td>\n",
       "      <td>akb96git</td>\n",
       "    </tr>\n",
       "    <tr>\n",
       "      <th>fdebb2b0f78abab06a7b1843831fdaa78c3463f7</th>\n",
       "      <td>83769</td>\n",
       "      <td>0.323658</td>\n",
       "      <td>3</td>\n",
       "      <td>h5ufxzv9</td>\n",
       "    </tr>\n",
       "    <tr>\n",
       "      <th>7d7255ec9a213b7fe04cb8c08b326e0aacd2fd9b</th>\n",
       "      <td>41404</td>\n",
       "      <td>0.292001</td>\n",
       "      <td>4</td>\n",
       "      <td>lv8dvdp7</td>\n",
       "    </tr>\n",
       "    <tr>\n",
       "      <th>...</th>\n",
       "      <td>...</td>\n",
       "      <td>...</td>\n",
       "      <td>...</td>\n",
       "      <td>...</td>\n",
       "    </tr>\n",
       "    <tr>\n",
       "      <th>ffe3b2ad5b565d38aebab45629d4329fe8bf4e02</th>\n",
       "      <td>84377</td>\n",
       "      <td>0.000000</td>\n",
       "      <td>84415</td>\n",
       "      <td>wg1qwmj1</td>\n",
       "    </tr>\n",
       "    <tr>\n",
       "      <th>ffea289feac032cd0ba2c8890a9a725c763af652</th>\n",
       "      <td>84391</td>\n",
       "      <td>0.000000</td>\n",
       "      <td>84416</td>\n",
       "      <td>alsps70x</td>\n",
       "    </tr>\n",
       "    <tr>\n",
       "      <th>ffed5d2a31a0c1a0db11905fe378e7735b6d70ca</th>\n",
       "      <td>84397</td>\n",
       "      <td>0.000000</td>\n",
       "      <td>84417</td>\n",
       "      <td>dabu4ohl</td>\n",
       "    </tr>\n",
       "    <tr>\n",
       "      <th>fff3678cfe3ce7a9ccae1e7becf17d5d71d1b54a</th>\n",
       "      <td>84407</td>\n",
       "      <td>0.000000</td>\n",
       "      <td>84418</td>\n",
       "      <td>1qtqergw</td>\n",
       "    </tr>\n",
       "    <tr>\n",
       "      <th>fff37ff9de7ac14189bacc386448ae96a624f19f</th>\n",
       "      <td>84408</td>\n",
       "      <td>0.000000</td>\n",
       "      <td>84419</td>\n",
       "      <td>prqrvemt</td>\n",
       "    </tr>\n",
       "  </tbody>\n",
       "</table>\n",
       "<p>84426 rows × 4 columns</p>\n",
       "</div>"
      ],
      "text/plain": [
       "                                          doc_position  rel_score  ranking  \\\n",
       "sha                                                                          \n",
       "a4b6c8a9ecb94ba17e416cff443028d996454039         54321   0.420703        0   \n",
       "25f4d6c2f2dcb5f46464f5a31603be4606cb7116         12462   0.387222        1   \n",
       "244c5c9c6a6fb239d47c9b0016c62d24c23bf3e8         11917   0.348274        2   \n",
       "fdebb2b0f78abab06a7b1843831fdaa78c3463f7         83769   0.323658        3   \n",
       "7d7255ec9a213b7fe04cb8c08b326e0aacd2fd9b         41404   0.292001        4   \n",
       "...                                                ...        ...      ...   \n",
       "ffe3b2ad5b565d38aebab45629d4329fe8bf4e02         84377   0.000000    84415   \n",
       "ffea289feac032cd0ba2c8890a9a725c763af652         84391   0.000000    84416   \n",
       "ffed5d2a31a0c1a0db11905fe378e7735b6d70ca         84397   0.000000    84417   \n",
       "fff3678cfe3ce7a9ccae1e7becf17d5d71d1b54a         84407   0.000000    84418   \n",
       "fff37ff9de7ac14189bacc386448ae96a624f19f         84408   0.000000    84419   \n",
       "\n",
       "                                          cord_uid  \n",
       "sha                                                 \n",
       "a4b6c8a9ecb94ba17e416cff443028d996454039  kftchnhz  \n",
       "25f4d6c2f2dcb5f46464f5a31603be4606cb7116  2p9j4ksy  \n",
       "244c5c9c6a6fb239d47c9b0016c62d24c23bf3e8  akb96git  \n",
       "fdebb2b0f78abab06a7b1843831fdaa78c3463f7  h5ufxzv9  \n",
       "7d7255ec9a213b7fe04cb8c08b326e0aacd2fd9b  lv8dvdp7  \n",
       "...                                            ...  \n",
       "ffe3b2ad5b565d38aebab45629d4329fe8bf4e02  wg1qwmj1  \n",
       "ffea289feac032cd0ba2c8890a9a725c763af652  alsps70x  \n",
       "ffed5d2a31a0c1a0db11905fe378e7735b6d70ca  dabu4ohl  \n",
       "fff3678cfe3ce7a9ccae1e7becf17d5d71d1b54a  1qtqergw  \n",
       "fff37ff9de7ac14189bacc386448ae96a624f19f  prqrvemt  \n",
       "\n",
       "[84426 rows x 4 columns]"
      ]
     },
     "execution_count": 32,
     "metadata": {},
     "output_type": "execute_result"
    }
   ],
   "source": [
    "results = results.dropna()\n",
    "results"
   ]
  },
  {
   "cell_type": "markdown",
   "metadata": {},
   "source": [
    "Before, we launched query 2, so now we need to obtain the relevance judgements of query 2."
   ]
  },
  {
   "cell_type": "code",
   "execution_count": 33,
   "metadata": {
    "ExecuteTime": {
     "end_time": "2020-12-07T18:23:31.268789Z",
     "start_time": "2020-12-07T18:23:31.256790Z"
    }
   },
   "outputs": [
    {
     "data": {
      "text/html": [
       "<div>\n",
       "<style scoped>\n",
       "    .dataframe tbody tr th:only-of-type {\n",
       "        vertical-align: middle;\n",
       "    }\n",
       "\n",
       "    .dataframe tbody tr th {\n",
       "        vertical-align: top;\n",
       "    }\n",
       "\n",
       "    .dataframe thead th {\n",
       "        text-align: right;\n",
       "    }\n",
       "</style>\n",
       "<table border=\"1\" class=\"dataframe\">\n",
       "  <thead>\n",
       "    <tr style=\"text-align: right;\">\n",
       "      <th></th>\n",
       "      <th>query</th>\n",
       "      <th>cord_uid</th>\n",
       "      <th>score</th>\n",
       "      <th>binary_score</th>\n",
       "    </tr>\n",
       "  </thead>\n",
       "  <tbody>\n",
       "    <tr>\n",
       "      <th>1647</th>\n",
       "      <td>2</td>\n",
       "      <td>01goni72</td>\n",
       "      <td>2</td>\n",
       "      <td>1.0</td>\n",
       "    </tr>\n",
       "    <tr>\n",
       "      <th>1648</th>\n",
       "      <td>2</td>\n",
       "      <td>01yc7lzk</td>\n",
       "      <td>0</td>\n",
       "      <td>0.0</td>\n",
       "    </tr>\n",
       "    <tr>\n",
       "      <th>1649</th>\n",
       "      <td>2</td>\n",
       "      <td>02cy1s8x</td>\n",
       "      <td>0</td>\n",
       "      <td>0.0</td>\n",
       "    </tr>\n",
       "    <tr>\n",
       "      <th>1650</th>\n",
       "      <td>2</td>\n",
       "      <td>02f0opkr</td>\n",
       "      <td>0</td>\n",
       "      <td>0.0</td>\n",
       "    </tr>\n",
       "    <tr>\n",
       "      <th>1651</th>\n",
       "      <td>2</td>\n",
       "      <td>03h85lvy</td>\n",
       "      <td>2</td>\n",
       "      <td>1.0</td>\n",
       "    </tr>\n",
       "    <tr>\n",
       "      <th>...</th>\n",
       "      <td>...</td>\n",
       "      <td>...</td>\n",
       "      <td>...</td>\n",
       "      <td>...</td>\n",
       "    </tr>\n",
       "    <tr>\n",
       "      <th>2929</th>\n",
       "      <td>2</td>\n",
       "      <td>zw0xh341</td>\n",
       "      <td>0</td>\n",
       "      <td>0.0</td>\n",
       "    </tr>\n",
       "    <tr>\n",
       "      <th>2930</th>\n",
       "      <td>2</td>\n",
       "      <td>zx28gr34</td>\n",
       "      <td>0</td>\n",
       "      <td>0.0</td>\n",
       "    </tr>\n",
       "    <tr>\n",
       "      <th>2931</th>\n",
       "      <td>2</td>\n",
       "      <td>zxvim4t8</td>\n",
       "      <td>0</td>\n",
       "      <td>0.0</td>\n",
       "    </tr>\n",
       "    <tr>\n",
       "      <th>2932</th>\n",
       "      <td>2</td>\n",
       "      <td>zxx7tikz</td>\n",
       "      <td>2</td>\n",
       "      <td>1.0</td>\n",
       "    </tr>\n",
       "    <tr>\n",
       "      <th>2933</th>\n",
       "      <td>2</td>\n",
       "      <td>zytu7wue</td>\n",
       "      <td>0</td>\n",
       "      <td>0.0</td>\n",
       "    </tr>\n",
       "  </tbody>\n",
       "</table>\n",
       "<p>1287 rows × 4 columns</p>\n",
       "</div>"
      ],
      "text/plain": [
       "      query  cord_uid  score  binary_score\n",
       "1647      2  01goni72      2           1.0\n",
       "1648      2  01yc7lzk      0           0.0\n",
       "1649      2  02cy1s8x      0           0.0\n",
       "1650      2  02f0opkr      0           0.0\n",
       "1651      2  03h85lvy      2           1.0\n",
       "...     ...       ...    ...           ...\n",
       "2929      2  zw0xh341      0           0.0\n",
       "2930      2  zx28gr34      0           0.0\n",
       "2931      2  zxvim4t8      0           0.0\n",
       "2932      2  zxx7tikz      2           1.0\n",
       "2933      2  zytu7wue      0           0.0\n",
       "\n",
       "[1287 rows x 4 columns]"
      ]
     },
     "execution_count": 33,
     "metadata": {},
     "output_type": "execute_result"
    }
   ],
   "source": [
    "judgements_parcial = judgements[judgements[\"query\"] == 2]\n",
    "judgements_parcial"
   ]
  },
  {
   "cell_type": "markdown",
   "metadata": {},
   "source": [
    "Once we have the judgements of query 2, we join this judgements with our ranking. This operation will allow us to know for each document retrieved whether it was relevant or not."
   ]
  },
  {
   "cell_type": "code",
   "execution_count": 34,
   "metadata": {
    "ExecuteTime": {
     "end_time": "2020-12-07T18:24:39.076432Z",
     "start_time": "2020-12-07T18:24:38.935435Z"
    }
   },
   "outputs": [
    {
     "data": {
      "text/html": [
       "<div>\n",
       "<style scoped>\n",
       "    .dataframe tbody tr th:only-of-type {\n",
       "        vertical-align: middle;\n",
       "    }\n",
       "\n",
       "    .dataframe tbody tr th {\n",
       "        vertical-align: top;\n",
       "    }\n",
       "\n",
       "    .dataframe thead th {\n",
       "        text-align: right;\n",
       "    }\n",
       "</style>\n",
       "<table border=\"1\" class=\"dataframe\">\n",
       "  <thead>\n",
       "    <tr style=\"text-align: right;\">\n",
       "      <th></th>\n",
       "      <th>doc_position</th>\n",
       "      <th>rel_score</th>\n",
       "      <th>ranking</th>\n",
       "      <th>query</th>\n",
       "      <th>score</th>\n",
       "      <th>binary_score</th>\n",
       "    </tr>\n",
       "    <tr>\n",
       "      <th>cord_uid</th>\n",
       "      <th></th>\n",
       "      <th></th>\n",
       "      <th></th>\n",
       "      <th></th>\n",
       "      <th></th>\n",
       "      <th></th>\n",
       "    </tr>\n",
       "  </thead>\n",
       "  <tbody>\n",
       "    <tr>\n",
       "      <th>000ajevz</th>\n",
       "      <td>7623</td>\n",
       "      <td>0.004281</td>\n",
       "      <td>52295</td>\n",
       "      <td>NaN</td>\n",
       "      <td>NaN</td>\n",
       "      <td>NaN</td>\n",
       "    </tr>\n",
       "    <tr>\n",
       "      <th>000q5l5n</th>\n",
       "      <td>17269</td>\n",
       "      <td>0.000000</td>\n",
       "      <td>77541</td>\n",
       "      <td>NaN</td>\n",
       "      <td>NaN</td>\n",
       "      <td>NaN</td>\n",
       "    </tr>\n",
       "    <tr>\n",
       "      <th>000tfenb</th>\n",
       "      <td>66091</td>\n",
       "      <td>0.006773</td>\n",
       "      <td>38919</td>\n",
       "      <td>NaN</td>\n",
       "      <td>NaN</td>\n",
       "      <td>NaN</td>\n",
       "    </tr>\n",
       "    <tr>\n",
       "      <th>001u8ecb</th>\n",
       "      <td>6127</td>\n",
       "      <td>0.026825</td>\n",
       "      <td>3817</td>\n",
       "      <td>NaN</td>\n",
       "      <td>NaN</td>\n",
       "      <td>NaN</td>\n",
       "    </tr>\n",
       "    <tr>\n",
       "      <th>003r4sjl</th>\n",
       "      <td>24650</td>\n",
       "      <td>0.002933</td>\n",
       "      <td>60799</td>\n",
       "      <td>NaN</td>\n",
       "      <td>NaN</td>\n",
       "      <td>NaN</td>\n",
       "    </tr>\n",
       "    <tr>\n",
       "      <th>...</th>\n",
       "      <td>...</td>\n",
       "      <td>...</td>\n",
       "      <td>...</td>\n",
       "      <td>...</td>\n",
       "      <td>...</td>\n",
       "      <td>...</td>\n",
       "    </tr>\n",
       "    <tr>\n",
       "      <th>zzvmj5qy</th>\n",
       "      <td>16372</td>\n",
       "      <td>0.006473</td>\n",
       "      <td>40313</td>\n",
       "      <td>NaN</td>\n",
       "      <td>NaN</td>\n",
       "      <td>NaN</td>\n",
       "    </tr>\n",
       "    <tr>\n",
       "      <th>zzw7zlh6</th>\n",
       "      <td>12233</td>\n",
       "      <td>0.000788</td>\n",
       "      <td>74181</td>\n",
       "      <td>NaN</td>\n",
       "      <td>NaN</td>\n",
       "      <td>NaN</td>\n",
       "    </tr>\n",
       "    <tr>\n",
       "      <th>zzxjv666</th>\n",
       "      <td>57978</td>\n",
       "      <td>0.011381</td>\n",
       "      <td>22277</td>\n",
       "      <td>NaN</td>\n",
       "      <td>NaN</td>\n",
       "      <td>NaN</td>\n",
       "    </tr>\n",
       "    <tr>\n",
       "      <th>zzykyblm</th>\n",
       "      <td>75960</td>\n",
       "      <td>0.007800</td>\n",
       "      <td>34410</td>\n",
       "      <td>NaN</td>\n",
       "      <td>NaN</td>\n",
       "      <td>NaN</td>\n",
       "    </tr>\n",
       "    <tr>\n",
       "      <th>zzys31e9</th>\n",
       "      <td>38250</td>\n",
       "      <td>0.023491</td>\n",
       "      <td>5505</td>\n",
       "      <td>NaN</td>\n",
       "      <td>NaN</td>\n",
       "      <td>NaN</td>\n",
       "    </tr>\n",
       "  </tbody>\n",
       "</table>\n",
       "<p>84426 rows × 6 columns</p>\n",
       "</div>"
      ],
      "text/plain": [
       "          doc_position  rel_score  ranking  query  score  binary_score\n",
       "cord_uid                                                              \n",
       "000ajevz          7623   0.004281    52295    NaN    NaN           NaN\n",
       "000q5l5n         17269   0.000000    77541    NaN    NaN           NaN\n",
       "000tfenb         66091   0.006773    38919    NaN    NaN           NaN\n",
       "001u8ecb          6127   0.026825     3817    NaN    NaN           NaN\n",
       "003r4sjl         24650   0.002933    60799    NaN    NaN           NaN\n",
       "...                ...        ...      ...    ...    ...           ...\n",
       "zzvmj5qy         16372   0.006473    40313    NaN    NaN           NaN\n",
       "zzw7zlh6         12233   0.000788    74181    NaN    NaN           NaN\n",
       "zzxjv666         57978   0.011381    22277    NaN    NaN           NaN\n",
       "zzykyblm         75960   0.007800    34410    NaN    NaN           NaN\n",
       "zzys31e9         38250   0.023491     5505    NaN    NaN           NaN\n",
       "\n",
       "[84426 rows x 6 columns]"
      ]
     },
     "execution_count": 34,
     "metadata": {},
     "output_type": "execute_result"
    }
   ],
   "source": [
    "statistics = results.set_index(\"cord_uid\").join(judgements_parcial.set_index(\"cord_uid\"))\n",
    "statistics"
   ]
  },
  {
   "cell_type": "markdown",
   "metadata": {},
   "source": [
    "Again, we observe that there are null values. These null values mean that there are some documents of our corpus that are not relevance judged. \n",
    "\n",
    "At this point have two possible options:\n",
    "* Drop the null values: since those documents are not judged, we don´t know whether they are relevant or not for that query. It makes sense to us dropping those documents, since assuming that they are relevant or not introduces uncertainty in our model.\n",
    "* Mark them as non-relevant: after reading the TREC guide for evaluation, we understood how this relevance judgements files are created by means of pools. It is indicated that documents not included in the pool should be marked as non-relevant. However, it´s also said that this approach is a bit controversial. \n",
    "\n",
    "After some more research, we realized that this is one of the most controversial aspects on evaluating information retrieval systems. Finally, we opted for the first action, since it made more sense for us."
   ]
  },
  {
   "cell_type": "code",
   "execution_count": 35,
   "metadata": {
    "ExecuteTime": {
     "end_time": "2020-12-07T18:32:39.239268Z",
     "start_time": "2020-12-07T18:32:39.222268Z"
    }
   },
   "outputs": [
    {
     "data": {
      "text/html": [
       "<div>\n",
       "<style scoped>\n",
       "    .dataframe tbody tr th:only-of-type {\n",
       "        vertical-align: middle;\n",
       "    }\n",
       "\n",
       "    .dataframe tbody tr th {\n",
       "        vertical-align: top;\n",
       "    }\n",
       "\n",
       "    .dataframe thead th {\n",
       "        text-align: right;\n",
       "    }\n",
       "</style>\n",
       "<table border=\"1\" class=\"dataframe\">\n",
       "  <thead>\n",
       "    <tr style=\"text-align: right;\">\n",
       "      <th></th>\n",
       "      <th>doc_position</th>\n",
       "      <th>rel_score</th>\n",
       "      <th>ranking</th>\n",
       "      <th>query</th>\n",
       "      <th>score</th>\n",
       "      <th>binary_score</th>\n",
       "    </tr>\n",
       "    <tr>\n",
       "      <th>cord_uid</th>\n",
       "      <th></th>\n",
       "      <th></th>\n",
       "      <th></th>\n",
       "      <th></th>\n",
       "      <th></th>\n",
       "      <th></th>\n",
       "    </tr>\n",
       "  </thead>\n",
       "  <tbody>\n",
       "    <tr>\n",
       "      <th>01goni72</th>\n",
       "      <td>9241</td>\n",
       "      <td>0.031456</td>\n",
       "      <td>2397</td>\n",
       "      <td>2.0</td>\n",
       "      <td>2.0</td>\n",
       "      <td>1.0</td>\n",
       "    </tr>\n",
       "    <tr>\n",
       "      <th>01yc7lzk</th>\n",
       "      <td>47554</td>\n",
       "      <td>0.052520</td>\n",
       "      <td>408</td>\n",
       "      <td>2.0</td>\n",
       "      <td>0.0</td>\n",
       "      <td>0.0</td>\n",
       "    </tr>\n",
       "    <tr>\n",
       "      <th>01yc7lzk</th>\n",
       "      <td>1294</td>\n",
       "      <td>0.000000</td>\n",
       "      <td>75891</td>\n",
       "      <td>2.0</td>\n",
       "      <td>0.0</td>\n",
       "      <td>0.0</td>\n",
       "    </tr>\n",
       "    <tr>\n",
       "      <th>03id5o2g</th>\n",
       "      <td>3289</td>\n",
       "      <td>0.018495</td>\n",
       "      <td>9643</td>\n",
       "      <td>2.0</td>\n",
       "      <td>0.0</td>\n",
       "      <td>0.0</td>\n",
       "    </tr>\n",
       "    <tr>\n",
       "      <th>03id5o2g</th>\n",
       "      <td>15835</td>\n",
       "      <td>0.004957</td>\n",
       "      <td>48305</td>\n",
       "      <td>2.0</td>\n",
       "      <td>0.0</td>\n",
       "      <td>0.0</td>\n",
       "    </tr>\n",
       "    <tr>\n",
       "      <th>...</th>\n",
       "      <td>...</td>\n",
       "      <td>...</td>\n",
       "      <td>...</td>\n",
       "      <td>...</td>\n",
       "      <td>...</td>\n",
       "      <td>...</td>\n",
       "    </tr>\n",
       "    <tr>\n",
       "      <th>zvvwwc0r</th>\n",
       "      <td>27644</td>\n",
       "      <td>0.049317</td>\n",
       "      <td>506</td>\n",
       "      <td>2.0</td>\n",
       "      <td>2.0</td>\n",
       "      <td>1.0</td>\n",
       "    </tr>\n",
       "    <tr>\n",
       "      <th>zx28gr34</th>\n",
       "      <td>77614</td>\n",
       "      <td>0.002560</td>\n",
       "      <td>63194</td>\n",
       "      <td>2.0</td>\n",
       "      <td>0.0</td>\n",
       "      <td>0.0</td>\n",
       "    </tr>\n",
       "    <tr>\n",
       "      <th>zxvim4t8</th>\n",
       "      <td>24588</td>\n",
       "      <td>0.012321</td>\n",
       "      <td>19868</td>\n",
       "      <td>2.0</td>\n",
       "      <td>0.0</td>\n",
       "      <td>0.0</td>\n",
       "    </tr>\n",
       "    <tr>\n",
       "      <th>zxx7tikz</th>\n",
       "      <td>67893</td>\n",
       "      <td>0.017106</td>\n",
       "      <td>11299</td>\n",
       "      <td>2.0</td>\n",
       "      <td>2.0</td>\n",
       "      <td>1.0</td>\n",
       "    </tr>\n",
       "    <tr>\n",
       "      <th>zytu7wue</th>\n",
       "      <td>11842</td>\n",
       "      <td>0.100053</td>\n",
       "      <td>66</td>\n",
       "      <td>2.0</td>\n",
       "      <td>0.0</td>\n",
       "      <td>0.0</td>\n",
       "    </tr>\n",
       "  </tbody>\n",
       "</table>\n",
       "<p>1074 rows × 6 columns</p>\n",
       "</div>"
      ],
      "text/plain": [
       "          doc_position  rel_score  ranking  query  score  binary_score\n",
       "cord_uid                                                              \n",
       "01goni72          9241   0.031456     2397    2.0    2.0           1.0\n",
       "01yc7lzk         47554   0.052520      408    2.0    0.0           0.0\n",
       "01yc7lzk          1294   0.000000    75891    2.0    0.0           0.0\n",
       "03id5o2g          3289   0.018495     9643    2.0    0.0           0.0\n",
       "03id5o2g         15835   0.004957    48305    2.0    0.0           0.0\n",
       "...                ...        ...      ...    ...    ...           ...\n",
       "zvvwwc0r         27644   0.049317      506    2.0    2.0           1.0\n",
       "zx28gr34         77614   0.002560    63194    2.0    0.0           0.0\n",
       "zxvim4t8         24588   0.012321    19868    2.0    0.0           0.0\n",
       "zxx7tikz         67893   0.017106    11299    2.0    2.0           1.0\n",
       "zytu7wue         11842   0.100053       66    2.0    0.0           0.0\n",
       "\n",
       "[1074 rows x 6 columns]"
      ]
     },
     "execution_count": 35,
     "metadata": {},
     "output_type": "execute_result"
    }
   ],
   "source": [
    "# Drop values\n",
    "statistics = statistics.dropna()\n",
    "# Mark them as non relevant\n",
    "#a[\"binary_score\"].fillna(0, inplace=True)\n",
    "statistics"
   ]
  },
  {
   "cell_type": "markdown",
   "metadata": {},
   "source": [
    "At this point, we already know whether each retrieved document is relevant or not.\n",
    "\n",
    "Now, we compute the total number of relevant documents, it will be used later.\n",
    "\n",
    "And, we remove all the results whose computed tfidf score is 0."
   ]
  },
  {
   "cell_type": "code",
   "execution_count": 36,
   "metadata": {
    "ExecuteTime": {
     "end_time": "2020-12-07T18:38:01.639206Z",
     "start_time": "2020-12-07T18:38:01.633208Z"
    }
   },
   "outputs": [],
   "source": [
    "r = statistics[\"binary_score\"].sum()\n",
    "statistics = statistics[statistics[\"rel_score\"]>0]"
   ]
  },
  {
   "cell_type": "code",
   "execution_count": 37,
   "metadata": {
    "ExecuteTime": {
     "end_time": "2020-12-07T18:38:02.392013Z",
     "start_time": "2020-12-07T18:38:02.377014Z"
    }
   },
   "outputs": [
    {
     "data": {
      "text/html": [
       "<div>\n",
       "<style scoped>\n",
       "    .dataframe tbody tr th:only-of-type {\n",
       "        vertical-align: middle;\n",
       "    }\n",
       "\n",
       "    .dataframe tbody tr th {\n",
       "        vertical-align: top;\n",
       "    }\n",
       "\n",
       "    .dataframe thead th {\n",
       "        text-align: right;\n",
       "    }\n",
       "</style>\n",
       "<table border=\"1\" class=\"dataframe\">\n",
       "  <thead>\n",
       "    <tr style=\"text-align: right;\">\n",
       "      <th></th>\n",
       "      <th>doc_position</th>\n",
       "      <th>rel_score</th>\n",
       "      <th>ranking</th>\n",
       "      <th>query</th>\n",
       "      <th>score</th>\n",
       "      <th>binary_score</th>\n",
       "    </tr>\n",
       "    <tr>\n",
       "      <th>cord_uid</th>\n",
       "      <th></th>\n",
       "      <th></th>\n",
       "      <th></th>\n",
       "      <th></th>\n",
       "      <th></th>\n",
       "      <th></th>\n",
       "    </tr>\n",
       "  </thead>\n",
       "  <tbody>\n",
       "    <tr>\n",
       "      <th>01goni72</th>\n",
       "      <td>9241</td>\n",
       "      <td>0.031456</td>\n",
       "      <td>2397</td>\n",
       "      <td>2.0</td>\n",
       "      <td>2.0</td>\n",
       "      <td>1.0</td>\n",
       "    </tr>\n",
       "    <tr>\n",
       "      <th>01yc7lzk</th>\n",
       "      <td>47554</td>\n",
       "      <td>0.052520</td>\n",
       "      <td>408</td>\n",
       "      <td>2.0</td>\n",
       "      <td>0.0</td>\n",
       "      <td>0.0</td>\n",
       "    </tr>\n",
       "    <tr>\n",
       "      <th>03id5o2g</th>\n",
       "      <td>3289</td>\n",
       "      <td>0.018495</td>\n",
       "      <td>9643</td>\n",
       "      <td>2.0</td>\n",
       "      <td>0.0</td>\n",
       "      <td>0.0</td>\n",
       "    </tr>\n",
       "    <tr>\n",
       "      <th>03id5o2g</th>\n",
       "      <td>15835</td>\n",
       "      <td>0.004957</td>\n",
       "      <td>48305</td>\n",
       "      <td>2.0</td>\n",
       "      <td>0.0</td>\n",
       "      <td>0.0</td>\n",
       "    </tr>\n",
       "    <tr>\n",
       "      <th>03s9spbi</th>\n",
       "      <td>330</td>\n",
       "      <td>0.179369</td>\n",
       "      <td>27</td>\n",
       "      <td>2.0</td>\n",
       "      <td>2.0</td>\n",
       "      <td>1.0</td>\n",
       "    </tr>\n",
       "    <tr>\n",
       "      <th>...</th>\n",
       "      <td>...</td>\n",
       "      <td>...</td>\n",
       "      <td>...</td>\n",
       "      <td>...</td>\n",
       "      <td>...</td>\n",
       "      <td>...</td>\n",
       "    </tr>\n",
       "    <tr>\n",
       "      <th>zvvwwc0r</th>\n",
       "      <td>27644</td>\n",
       "      <td>0.049317</td>\n",
       "      <td>506</td>\n",
       "      <td>2.0</td>\n",
       "      <td>2.0</td>\n",
       "      <td>1.0</td>\n",
       "    </tr>\n",
       "    <tr>\n",
       "      <th>zx28gr34</th>\n",
       "      <td>77614</td>\n",
       "      <td>0.002560</td>\n",
       "      <td>63194</td>\n",
       "      <td>2.0</td>\n",
       "      <td>0.0</td>\n",
       "      <td>0.0</td>\n",
       "    </tr>\n",
       "    <tr>\n",
       "      <th>zxvim4t8</th>\n",
       "      <td>24588</td>\n",
       "      <td>0.012321</td>\n",
       "      <td>19868</td>\n",
       "      <td>2.0</td>\n",
       "      <td>0.0</td>\n",
       "      <td>0.0</td>\n",
       "    </tr>\n",
       "    <tr>\n",
       "      <th>zxx7tikz</th>\n",
       "      <td>67893</td>\n",
       "      <td>0.017106</td>\n",
       "      <td>11299</td>\n",
       "      <td>2.0</td>\n",
       "      <td>2.0</td>\n",
       "      <td>1.0</td>\n",
       "    </tr>\n",
       "    <tr>\n",
       "      <th>zytu7wue</th>\n",
       "      <td>11842</td>\n",
       "      <td>0.100053</td>\n",
       "      <td>66</td>\n",
       "      <td>2.0</td>\n",
       "      <td>0.0</td>\n",
       "      <td>0.0</td>\n",
       "    </tr>\n",
       "  </tbody>\n",
       "</table>\n",
       "<p>1048 rows × 6 columns</p>\n",
       "</div>"
      ],
      "text/plain": [
       "          doc_position  rel_score  ranking  query  score  binary_score\n",
       "cord_uid                                                              \n",
       "01goni72          9241   0.031456     2397    2.0    2.0           1.0\n",
       "01yc7lzk         47554   0.052520      408    2.0    0.0           0.0\n",
       "03id5o2g          3289   0.018495     9643    2.0    0.0           0.0\n",
       "03id5o2g         15835   0.004957    48305    2.0    0.0           0.0\n",
       "03s9spbi           330   0.179369       27    2.0    2.0           1.0\n",
       "...                ...        ...      ...    ...    ...           ...\n",
       "zvvwwc0r         27644   0.049317      506    2.0    2.0           1.0\n",
       "zx28gr34         77614   0.002560    63194    2.0    0.0           0.0\n",
       "zxvim4t8         24588   0.012321    19868    2.0    0.0           0.0\n",
       "zxx7tikz         67893   0.017106    11299    2.0    2.0           1.0\n",
       "zytu7wue         11842   0.100053       66    2.0    0.0           0.0\n",
       "\n",
       "[1048 rows x 6 columns]"
      ]
     },
     "execution_count": 37,
     "metadata": {},
     "output_type": "execute_result"
    }
   ],
   "source": [
    "statistics"
   ]
  },
  {
   "cell_type": "markdown",
   "metadata": {},
   "source": [
    "We order our statistics by the ranking and reset the index.\n",
    "\n",
    "We compute the actual rank (starting in 1)."
   ]
  },
  {
   "cell_type": "code",
   "execution_count": 38,
   "metadata": {
    "ExecuteTime": {
     "end_time": "2020-12-07T18:39:02.268645Z",
     "start_time": "2020-12-07T18:39:02.263644Z"
    }
   },
   "outputs": [],
   "source": [
    "statistics = statistics.sort_values(by=[\"ranking\"])\n",
    "statistics = statistics.reset_index()\n",
    "statistics[\"rank\"] = statistics.index+1"
   ]
  },
  {
   "cell_type": "markdown",
   "metadata": {
    "ExecuteTime": {
     "end_time": "2020-12-07T17:05:40.594445Z",
     "start_time": "2020-12-07T17:05:40.591445Z"
    }
   },
   "source": [
    "Now, we compute precision and recall for each position of the ranking. Notice that we are making the table explained in the lecture notes (slide 51)."
   ]
  },
  {
   "cell_type": "code",
   "execution_count": 39,
   "metadata": {
    "ExecuteTime": {
     "end_time": "2020-12-07T18:42:26.168244Z",
     "start_time": "2020-12-07T18:42:26.162243Z"
    }
   },
   "outputs": [],
   "source": [
    "statistics[\"relevant\"] = statistics[\"binary_score\"]\n",
    "statistics[\"rel_retrieved\"] = statistics[\"binary_score\"].cumsum()\n",
    "statistics[\"precision\"] = statistics[\"rel_retrieved\"] / statistics[\"rank\"]\n",
    "statistics[\"recall\"] = statistics[\"rel_retrieved\"] / r\n",
    "statistics.drop([\"doc_position\", \"score\", \"binary_score\"], axis=1, inplace=True)"
   ]
  },
  {
   "cell_type": "code",
   "execution_count": 40,
   "metadata": {
    "ExecuteTime": {
     "end_time": "2020-12-07T18:42:26.488244Z",
     "start_time": "2020-12-07T18:42:26.471247Z"
    }
   },
   "outputs": [
    {
     "data": {
      "text/html": [
       "<div>\n",
       "<style scoped>\n",
       "    .dataframe tbody tr th:only-of-type {\n",
       "        vertical-align: middle;\n",
       "    }\n",
       "\n",
       "    .dataframe tbody tr th {\n",
       "        vertical-align: top;\n",
       "    }\n",
       "\n",
       "    .dataframe thead th {\n",
       "        text-align: right;\n",
       "    }\n",
       "</style>\n",
       "<table border=\"1\" class=\"dataframe\">\n",
       "  <thead>\n",
       "    <tr style=\"text-align: right;\">\n",
       "      <th></th>\n",
       "      <th>cord_uid</th>\n",
       "      <th>rel_score</th>\n",
       "      <th>ranking</th>\n",
       "      <th>query</th>\n",
       "      <th>rank</th>\n",
       "      <th>relevant</th>\n",
       "      <th>rel_retrieved</th>\n",
       "      <th>precision</th>\n",
       "      <th>recall</th>\n",
       "    </tr>\n",
       "  </thead>\n",
       "  <tbody>\n",
       "    <tr>\n",
       "      <th>0</th>\n",
       "      <td>kftchnhz</td>\n",
       "      <td>0.420703</td>\n",
       "      <td>0</td>\n",
       "      <td>2.0</td>\n",
       "      <td>1</td>\n",
       "      <td>0.0</td>\n",
       "      <td>0.0</td>\n",
       "      <td>0.000000</td>\n",
       "      <td>0.000000</td>\n",
       "    </tr>\n",
       "    <tr>\n",
       "      <th>1</th>\n",
       "      <td>2p9j4ksy</td>\n",
       "      <td>0.387222</td>\n",
       "      <td>1</td>\n",
       "      <td>2.0</td>\n",
       "      <td>2</td>\n",
       "      <td>0.0</td>\n",
       "      <td>0.0</td>\n",
       "      <td>0.000000</td>\n",
       "      <td>0.000000</td>\n",
       "    </tr>\n",
       "    <tr>\n",
       "      <th>2</th>\n",
       "      <td>akb96git</td>\n",
       "      <td>0.348274</td>\n",
       "      <td>2</td>\n",
       "      <td>2.0</td>\n",
       "      <td>3</td>\n",
       "      <td>1.0</td>\n",
       "      <td>1.0</td>\n",
       "      <td>0.333333</td>\n",
       "      <td>0.004237</td>\n",
       "    </tr>\n",
       "    <tr>\n",
       "      <th>3</th>\n",
       "      <td>h5ufxzv9</td>\n",
       "      <td>0.323658</td>\n",
       "      <td>3</td>\n",
       "      <td>2.0</td>\n",
       "      <td>4</td>\n",
       "      <td>0.0</td>\n",
       "      <td>1.0</td>\n",
       "      <td>0.250000</td>\n",
       "      <td>0.004237</td>\n",
       "    </tr>\n",
       "    <tr>\n",
       "      <th>4</th>\n",
       "      <td>lv8dvdp7</td>\n",
       "      <td>0.292001</td>\n",
       "      <td>4</td>\n",
       "      <td>2.0</td>\n",
       "      <td>5</td>\n",
       "      <td>0.0</td>\n",
       "      <td>1.0</td>\n",
       "      <td>0.200000</td>\n",
       "      <td>0.004237</td>\n",
       "    </tr>\n",
       "    <tr>\n",
       "      <th>...</th>\n",
       "      <td>...</td>\n",
       "      <td>...</td>\n",
       "      <td>...</td>\n",
       "      <td>...</td>\n",
       "      <td>...</td>\n",
       "      <td>...</td>\n",
       "      <td>...</td>\n",
       "      <td>...</td>\n",
       "      <td>...</td>\n",
       "    </tr>\n",
       "    <tr>\n",
       "      <th>1043</th>\n",
       "      <td>wr2sgixs</td>\n",
       "      <td>0.000660</td>\n",
       "      <td>74822</td>\n",
       "      <td>2.0</td>\n",
       "      <td>1044</td>\n",
       "      <td>0.0</td>\n",
       "      <td>231.0</td>\n",
       "      <td>0.221264</td>\n",
       "      <td>0.978814</td>\n",
       "    </tr>\n",
       "    <tr>\n",
       "      <th>1044</th>\n",
       "      <td>uxnxsdtw</td>\n",
       "      <td>0.000621</td>\n",
       "      <td>74998</td>\n",
       "      <td>2.0</td>\n",
       "      <td>1045</td>\n",
       "      <td>0.0</td>\n",
       "      <td>231.0</td>\n",
       "      <td>0.221053</td>\n",
       "      <td>0.978814</td>\n",
       "    </tr>\n",
       "    <tr>\n",
       "      <th>1045</th>\n",
       "      <td>fvj3cpie</td>\n",
       "      <td>0.000606</td>\n",
       "      <td>75060</td>\n",
       "      <td>2.0</td>\n",
       "      <td>1046</td>\n",
       "      <td>0.0</td>\n",
       "      <td>231.0</td>\n",
       "      <td>0.220841</td>\n",
       "      <td>0.978814</td>\n",
       "    </tr>\n",
       "    <tr>\n",
       "      <th>1046</th>\n",
       "      <td>xhffsa77</td>\n",
       "      <td>0.000573</td>\n",
       "      <td>75198</td>\n",
       "      <td>2.0</td>\n",
       "      <td>1047</td>\n",
       "      <td>0.0</td>\n",
       "      <td>231.0</td>\n",
       "      <td>0.220630</td>\n",
       "      <td>0.978814</td>\n",
       "    </tr>\n",
       "    <tr>\n",
       "      <th>1047</th>\n",
       "      <td>3xq5jwof</td>\n",
       "      <td>0.000502</td>\n",
       "      <td>75438</td>\n",
       "      <td>2.0</td>\n",
       "      <td>1048</td>\n",
       "      <td>0.0</td>\n",
       "      <td>231.0</td>\n",
       "      <td>0.220420</td>\n",
       "      <td>0.978814</td>\n",
       "    </tr>\n",
       "  </tbody>\n",
       "</table>\n",
       "<p>1048 rows × 9 columns</p>\n",
       "</div>"
      ],
      "text/plain": [
       "      cord_uid  rel_score  ranking  query  rank  relevant  rel_retrieved  \\\n",
       "0     kftchnhz   0.420703        0    2.0     1       0.0            0.0   \n",
       "1     2p9j4ksy   0.387222        1    2.0     2       0.0            0.0   \n",
       "2     akb96git   0.348274        2    2.0     3       1.0            1.0   \n",
       "3     h5ufxzv9   0.323658        3    2.0     4       0.0            1.0   \n",
       "4     lv8dvdp7   0.292001        4    2.0     5       0.0            1.0   \n",
       "...        ...        ...      ...    ...   ...       ...            ...   \n",
       "1043  wr2sgixs   0.000660    74822    2.0  1044       0.0          231.0   \n",
       "1044  uxnxsdtw   0.000621    74998    2.0  1045       0.0          231.0   \n",
       "1045  fvj3cpie   0.000606    75060    2.0  1046       0.0          231.0   \n",
       "1046  xhffsa77   0.000573    75198    2.0  1047       0.0          231.0   \n",
       "1047  3xq5jwof   0.000502    75438    2.0  1048       0.0          231.0   \n",
       "\n",
       "      precision    recall  \n",
       "0      0.000000  0.000000  \n",
       "1      0.000000  0.000000  \n",
       "2      0.333333  0.004237  \n",
       "3      0.250000  0.004237  \n",
       "4      0.200000  0.004237  \n",
       "...         ...       ...  \n",
       "1043   0.221264  0.978814  \n",
       "1044   0.221053  0.978814  \n",
       "1045   0.220841  0.978814  \n",
       "1046   0.220630  0.978814  \n",
       "1047   0.220420  0.978814  \n",
       "\n",
       "[1048 rows x 9 columns]"
      ]
     },
     "execution_count": 40,
     "metadata": {},
     "output_type": "execute_result"
    }
   ],
   "source": [
    "statistics"
   ]
  },
  {
   "cell_type": "markdown",
   "metadata": {},
   "source": [
    "We also compute the Mean Average Precision, the P@5 and P@10 and the R-Precision.\n",
    "\n",
    "This metrics and the precision and recall will be very helpfull for the evaluation of our models.\n",
    "\n",
    "* **Precision** = relevant documents retrieved / documents retrieved. \n",
    "* **Recall** = relevant documents retrieved / total amount of relevant documents\n",
    "* **P@X**: precision at position X of our ranking\n",
    "* **R-Precision**: precision at position R of our ranking, being R the total number of relevant documents for that query (remember that before we computed some r? That r is this R.)\n",
    "* **Mean Average Precision**: average of precisions after some relevant document is retrieved."
   ]
  },
  {
   "cell_type": "code",
   "execution_count": 41,
   "metadata": {
    "ExecuteTime": {
     "end_time": "2020-12-07T18:49:50.057119Z",
     "start_time": "2020-12-07T18:49:50.051117Z"
    }
   },
   "outputs": [
    {
     "name": "stdout",
     "output_type": "stream",
     "text": [
      "Mean average precision of TFIDF model for query 2 ==> 0.35207219207824614\n",
      "R-precision of TFIDF model for query 2 ==> 0.4025423728813559\n",
      "P@5 of this model for query 2 ==> 0.2\n",
      "P@10 of this model for query 2 ==> 0.4\n"
     ]
    }
   ],
   "source": [
    "mavp = (statistics[\"precision\"] * statistics[\"relevant\"]).sum() / r\n",
    "r_precision = statistics.iloc[int(r-1)].precision\n",
    "p_5 = statistics.iloc[4].precision\n",
    "p_10 = statistics.iloc[9].precision\n",
    "\n",
    "print(f\"Mean average precision of TFIDF model for query 2 ==> {mavp}\")\n",
    "print(f\"R-precision of TFIDF model for query 2 ==> {r_precision}\")\n",
    "print(f\"P@5 of this model for query 2 ==> {p_5}\")\n",
    "print(f\"P@10 of this model for query 2 ==> {p_10}\")"
   ]
  },
  {
   "cell_type": "markdown",
   "metadata": {},
   "source": [
    "Now we will plot the precision vs recall figure, but using the standarized metric as explained in class."
   ]
  },
  {
   "cell_type": "code",
   "execution_count": 42,
   "metadata": {
    "ExecuteTime": {
     "end_time": "2020-12-07T18:52:43.863375Z",
     "start_time": "2020-12-07T18:52:43.859376Z"
    }
   },
   "outputs": [],
   "source": [
    "precision = statistics[\"precision\"].values\n",
    "recall = statistics[\"recall\"].values"
   ]
  },
  {
   "cell_type": "code",
   "execution_count": 43,
   "metadata": {
    "ExecuteTime": {
     "end_time": "2020-12-07T18:52:44.702995Z",
     "start_time": "2020-12-07T18:52:44.699996Z"
    }
   },
   "outputs": [],
   "source": [
    "def get_higher_precision(statistics, recall):\n",
    "    \"\"\"\n",
    "    Auxiliary function to obtain the higher precision for a given recall value.\n",
    "    \n",
    "    \"\"\"\n",
    "    try:\n",
    "        index = statistics.index[statistics['recall'] >= recall].tolist()[0] \n",
    "        return statistics.iloc[index:][\"precision\"].max()\n",
    "    except:\n",
    "        return 0"
   ]
  },
  {
   "cell_type": "code",
   "execution_count": 44,
   "metadata": {
    "ExecuteTime": {
     "end_time": "2020-12-07T18:52:44.988996Z",
     "start_time": "2020-12-07T18:52:44.980995Z"
    }
   },
   "outputs": [],
   "source": [
    "precision_recall = [[recall_i, get_higher_precision(statistics, recall_i)] for recall_i in np.arange(0,recall.max()+0.1, 0.1)]\n",
    "precision = [precision[1] for precision in precision_recall]\n",
    "recall = [recall[0] for recall in precision_recall]"
   ]
  },
  {
   "cell_type": "code",
   "execution_count": 45,
   "metadata": {
    "ExecuteTime": {
     "end_time": "2020-12-07T18:52:46.036114Z",
     "start_time": "2020-12-07T18:52:45.948115Z"
    }
   },
   "outputs": [
    {
     "data": {
      "image/png": "[encoded data removed]",
      "text/plain": [
       "<Figure size 360x360 with 1 Axes>"
      ]
     },
     "metadata": {
      "needs_background": "light"
     },
     "output_type": "display_data"
    }
   ],
   "source": [
    "plt.figure(figsize=(5,5))\n",
    "plt.title(\"Precision vs recall standardized\")\n",
    "plt.plot(recall, precision, \"r-o\")\n",
    "plt.axis([0, 1, 0, 1])\n",
    "plt.xlabel(\"Recall\")\n",
    "plt.ylabel(\"Precision\")\n",
    "plt.show()"
   ]
  },
  {
   "cell_type": "markdown",
   "metadata": {},
   "source": [
    "### Parameterized Evaluation\n",
    "\n",
    "Before, we have explained step by step how the statistics are computed.\n",
    "\n",
    "The following three cells have the same code as above, but in functions so as to be reused later."
   ]
  },
  {
   "cell_type": "code",
   "execution_count": 46,
   "metadata": {
    "ExecuteTime": {
     "end_time": "2020-12-07T18:59:48.881712Z",
     "start_time": "2020-12-07T18:59:48.877712Z"
    }
   },
   "outputs": [],
   "source": [
    "def launch(function, model,dictionary,bow,index,titles):\n",
    "    \"\"\"\n",
    "    God function that allow us to pass independent launch query functions to our get_statistics function. \n",
    "    For more info, check Currying (Functional Programming).\n",
    "    \n",
    "    \"\"\"\n",
    "    def h(query):\n",
    "        return function(model,dictionary,bow,index,query,titles)\n",
    "    return h"
   ]
  },
  {
   "cell_type": "code",
   "execution_count": 47,
   "metadata": {
    "ExecuteTime": {
     "end_time": "2020-12-07T18:59:49.456419Z",
     "start_time": "2020-12-07T18:59:49.451422Z"
    }
   },
   "outputs": [],
   "source": [
    "def get_statistics(launch_query, queries, titles, metadata, judgements):\n",
    "    \"\"\"\n",
    "    General function that allow us to get statistics for all queries given a specific launch query function (model).\n",
    "    \n",
    "    Returns\n",
    "    -------\n",
    "    It returns all the metrics explained before.\n",
    "    \"\"\"\n",
    "    results = []\n",
    "    for index in range(len(queries)):\n",
    "        ranking, _ = launch_query(queries.iloc[index][0])#\n",
    "        result = get_statistics_query(ranking, index+1, titles, metadata, judgements)\n",
    "        results.append(result)\n",
    "    mavp = np.array([query[\"mavp\"] for query in results]).mean()\n",
    "    precision = np.array([query[\"precision\"] for query in results]).mean(axis=0)\n",
    "    r_precision = [query[\"r-precision\"] for query in results]\n",
    "    p_5 = [query[\"p_5\"] for query in results]\n",
    "    p_10 = [query[\"p_10\"] for query in results]\n",
    "    recall = np.array([query[\"recall\"] for query in results]).mean(axis=0)\n",
    "    return {\"mavp\": mavp, \"precision\":precision, \"r-precision\":r_precision, \"recall\":recall, \"p_5\": p_5, \"p_10\": p_10}"
   ]
  },
  {
   "cell_type": "code",
   "execution_count": 48,
   "metadata": {
    "ExecuteTime": {
     "end_time": "2020-12-07T18:59:50.844710Z",
     "start_time": "2020-12-07T18:59:50.835714Z"
    }
   },
   "outputs": [],
   "source": [
    "def get_statistics_query(ranking, id_query, titles, metadata, judgements):\n",
    "    \"\"\"\n",
    "    Individual function to compute the statistics for a specific query.\n",
    "    \n",
    "    Returns\n",
    "    -------\n",
    "    It returns all the metrics explained before.\n",
    "    \"\"\"\n",
    "    ranking = [[position[0], position[1]] for position in ranking]\n",
    "    ranking = pd.DataFrame(ranking, columns=[\"doc_position\", \"rel_score\"])\n",
    "    results = ranking\n",
    "    results[\"sha\"] = results[\"doc_position\"].map(lambda x: titles[\"id\"].iloc[x])\n",
    "    results[\"ranking\"] = results.index\n",
    "    results = results.set_index(\"sha\").join(metadata.set_index(\"sha\"))\n",
    "    results = results.sort_values(by=[\"ranking\"])\n",
    "    results = results.dropna()\n",
    "    judgements_parcial = judgements[judgements[\"query\"] == id_query]\n",
    "    statistics = results.set_index(\"cord_uid\").join(judgements_parcial.set_index(\"cord_uid\"))\n",
    "    statistics = statistics.dropna()\n",
    "    r = statistics[\"binary_score\"].sum()\n",
    "    statistics = statistics[statistics[\"rel_score\"]>0]\n",
    "    statistics = statistics.sort_values(by=[\"ranking\"])\n",
    "    statistics = statistics.reset_index()\n",
    "    statistics[\"rank\"] = statistics.index+1\n",
    "    statistics[\"relevant\"] = statistics[\"binary_score\"]\n",
    "    statistics[\"rel_retrieved\"] = statistics[\"binary_score\"].cumsum()\n",
    "    statistics[\"precision\"] = statistics[\"rel_retrieved\"] / statistics[\"rank\"]\n",
    "    r = statistics[\"relevant\"].sum()\n",
    "    if r == 0:\n",
    "        return {\"mavp\": 0, \"r-precision\": 0, \"precision\": list(np.zeros(11)), \"recall\":0, \"p_10\": 0, \"p_5\": 0}\n",
    "    statistics[\"recall\"] = statistics[\"rel_retrieved\"] / r\n",
    "    statistics.drop([\"doc_position\", \"score\", \"binary_score\"], axis=1, inplace=True)\n",
    "    mavp = (statistics[\"precision\"] * statistics[\"relevant\"]).sum() / r\n",
    "    r_precision = statistics.iloc[int(r-1)].precision\n",
    "    precision = statistics[\"precision\"].values\n",
    "    recall = statistics[\"recall\"].values\n",
    "    recall_range = np.arange(0,recall.max()+0.1, 0.1)\n",
    "    precision_recall = [[recall, get_higher_precision(statistics, recall)] for recall in recall_range]\n",
    "    precision = [precision[1] for precision in precision_recall]\n",
    "    p_5 = statistics.iloc[4].precision\n",
    "    p_10 = statistics.iloc[9].precision\n",
    "    return {\"mavp\": mavp, \"r-precision\": r_precision, \"precision\": precision, \"recall\":recall_range, \"p_10\": p_10, \"p_5\":p_5}"
   ]
  },
  {
   "cell_type": "markdown",
   "metadata": {},
   "source": [
    "## TFIDF 2.0\n",
    "\n",
    "Once we have all our structure created: launching queries and computing statistics, we create 4 variations of the TFIDF Model playing with the SMART notation values."
   ]
  },
  {
   "cell_type": "code",
   "execution_count": 49,
   "metadata": {
    "ExecuteTime": {
     "end_time": "2020-12-07T15:14:53.907468Z",
     "start_time": "2020-12-07T15:10:13.618868Z"
    }
   },
   "outputs": [],
   "source": [
    "model_tfidf_3 = models.TfidfModel(bow, smartirs=\"lpu\") # Logarithmic term frequency weighting, probabilistic document frequency weighting \n",
    "                                                        # and pivoted unique normalization\n",
    "model_tfidf_2 = models.TfidfModel(bow, smartirs=\"lfc\") # Logarithmic term frequency weighting, idf document frequency weighting \n",
    "                                                         # and cosine normalization\n",
    "model_tfidf_5 = models.TfidfModel(bow, smartirs=\"ltc\") # Logarithmic term frequency weighting, zero-corrected idf document frequency weighting \n",
    "                                                         # and cosine normalization\n",
    "model_tfidf_4 = models.TfidfModel(bow, smartirs=\"nnn\") # Raw term frequency weighting, none document frequency weighting \n",
    "                                                         # and none normalization"
   ]
  },
  {
   "cell_type": "markdown",
   "metadata": {},
   "source": [
    "## Word2Vec\n",
    "\n",
    "After creating several TFIDF models, we wanted to try the Word2Vec model."
   ]
  },
  {
   "cell_type": "code",
   "execution_count": 50,
   "metadata": {
    "ExecuteTime": {
     "end_time": "2020-12-07T14:57:57.020552Z",
     "start_time": "2020-12-07T14:57:57.016555Z"
    }
   },
   "outputs": [],
   "source": [
    "def clean(doc):\n",
    "    \"\"\"\n",
    "    Basic function to clean a document being a document a string with words separated by blank spaces.\n",
    "    \"\"\"\n",
    "    stopset = set(stopwords.words(\"english\"))\n",
    "    stemmer = PorterStemmer()\n",
    "    tokens = wordpunct_tokenize(doc)\n",
    "    clean = [token.lower() for token in tokens if token not in stopset and len(token) > 2 and not token.isnumeric()]\n",
    "    final = [stemmer.stem(token) for token in clean]\n",
    "    return \" \".join(final)"
   ]
  },
  {
   "cell_type": "markdown",
   "metadata": {},
   "source": [
    "### Creation\n",
    "\n",
    "The first thing that we need to do is to create our Word2Vec model. To do that, we need to obtain our dataset (documents and queries).\n",
    "\n",
    "The following cells create the dataset for our model."
   ]
  },
  {
   "cell_type": "code",
   "execution_count": 51,
   "metadata": {
    "ExecuteTime": {
     "end_time": "2020-12-07T14:58:02.656304Z",
     "start_time": "2020-12-07T14:57:57.544263Z"
    }
   },
   "outputs": [],
   "source": [
    "docs = pd.DataFrame((line for line in open(\"docs.txt\")), columns = [\"preprocess\"])"
   ]
  },
  {
   "cell_type": "code",
   "execution_count": 52,
   "metadata": {
    "ExecuteTime": {
     "end_time": "2020-12-07T14:58:02.806154Z",
     "start_time": "2020-12-07T14:58:02.790140Z"
    }
   },
   "outputs": [],
   "source": [
    "queries[\"preprocess\"] = queries[\"query\"].apply(lambda x: clean(x))"
   ]
  },
  {
   "cell_type": "code",
   "execution_count": 53,
   "metadata": {
    "ExecuteTime": {
     "end_time": "2020-12-07T14:58:02.985165Z",
     "start_time": "2020-12-07T14:58:02.943164Z"
    }
   },
   "outputs": [],
   "source": [
    "combined = pd.concat((docs[\"preprocess\"], queries[\"preprocess\"])).sample(frac=1).reset_index(drop=True)"
   ]
  },
  {
   "cell_type": "markdown",
   "metadata": {},
   "source": [
    "Once we have our dataset, it´s time to create and train our model. \n",
    "* **Size**: this is the size of the word embeddings. We chose this value after looking in some papers that suggested using a size between 200-500 for large corpus (as ours).\n",
    "* **Workers**: if you execute this code, please change this number to maximum number of threads of your computer (cores x 2 if you have hyper threading)\n",
    "\n",
    "**IMPORTANT** The following cell takes 10 minutes to finish in a computer with a Ryzen 5 3600. Remember this before executing it."
   ]
  },
  {
   "cell_type": "code",
   "execution_count": 54,
   "metadata": {
    "ExecuteTime": {
     "end_time": "2020-12-07T13:46:01.093894Z",
     "start_time": "2020-12-07T13:35:40.315818Z"
    }
   },
   "outputs": [],
   "source": [
    "w2v_model = models.Word2Vec([i.split() for i in combined], size = 300, workers=12)"
   ]
  },
  {
   "cell_type": "code",
   "execution_count": 55,
   "metadata": {
    "ExecuteTime": {
     "end_time": "2020-12-07T13:46:01.164895Z",
     "start_time": "2020-12-07T13:46:01.161896Z"
    }
   },
   "outputs": [
    {
     "data": {
      "text/plain": [
       "330933"
      ]
     },
     "execution_count": 55,
     "metadata": {},
     "output_type": "execute_result"
    }
   ],
   "source": [
    "len(w2v_model.wv.vocab) # We check the size of our vocabulary, having more than 300k unique words."
   ]
  },
  {
   "cell_type": "markdown",
   "metadata": {},
   "source": [
    "### Saving\n",
    "\n",
    "After creating our model, we can save it for later use in other applications."
   ]
  },
  {
   "cell_type": "code",
   "execution_count": 56,
   "metadata": {
    "ExecuteTime": {
     "end_time": "2020-12-07T13:46:02.116224Z",
     "start_time": "2020-12-07T13:46:01.230894Z"
    }
   },
   "outputs": [],
   "source": [
    "word_vectors = w2v_model.wv\n",
    "word_vectors.save(\"word2vec.wordvectors\")"
   ]
  },
  {
   "cell_type": "code",
   "execution_count": 57,
   "metadata": {
    "ExecuteTime": {
     "end_time": "2020-12-07T13:46:03.322224Z",
     "start_time": "2020-12-07T13:46:02.172225Z"
    }
   },
   "outputs": [],
   "source": [
    "w2v_model.save(\"word2vec.model\")"
   ]
  },
  {
   "cell_type": "code",
   "execution_count": 58,
   "metadata": {
    "ExecuteTime": {
     "end_time": "2020-12-07T13:46:03.419225Z",
     "start_time": "2020-12-07T13:46:03.379225Z"
    }
   },
   "outputs": [],
   "source": [
    "del w2v_model # We delete the model since we only need the word_vectors"
   ]
  },
  {
   "cell_type": "markdown",
   "metadata": {},
   "source": [
    "### Loading\n",
    "\n",
    "We load our word_vectors."
   ]
  },
  {
   "cell_type": "code",
   "execution_count": 59,
   "metadata": {
    "ExecuteTime": {
     "end_time": "2020-12-07T13:46:05.644227Z",
     "start_time": "2020-12-07T13:46:03.480228Z"
    }
   },
   "outputs": [],
   "source": [
    "from gensim.models import KeyedVectors\n",
    "word_vectors = KeyedVectors.load(\"word2vec.wordvectors\", mmap='r')"
   ]
  },
  {
   "cell_type": "markdown",
   "metadata": {},
   "source": [
    "### Getting embedding"
   ]
  },
  {
   "cell_type": "code",
   "execution_count": 60,
   "metadata": {
    "ExecuteTime": {
     "end_time": "2020-12-07T19:16:10.919777Z",
     "start_time": "2020-12-07T19:16:10.913780Z"
    }
   },
   "outputs": [],
   "source": [
    "def get_embedding_w2v(doc_tokens):\n",
    "    \"\"\"\n",
    "    Basic function to obtain the vector representation of a given document (list of tokens).\n",
    "    \n",
    "    \"\"\"\n",
    "    embeddings = []\n",
    "    if len(doc_tokens) < 1: # If the length of our document is 0 we return a vector of zeros with size 300 (remember this is the vector size used when creating the model)\n",
    "        return np.zeros(300)\n",
    "    else:\n",
    "        for token in doc_tokens:\n",
    "            if token in word_vectors.vocab: # if the word is in our vocabulary, we get its vector\n",
    "                embeddings.append(word_vectors.word_vec(token))\n",
    "            else:\n",
    "                embeddings.append(np.random.rand(300)) # if it´s not in our vocabulary a random vector is used\n",
    "        return np.mean(embeddings, axis = 0) # the vector representation of a document is the mean of its word´s vectors"
   ]
  },
  {
   "cell_type": "markdown",
   "metadata": {},
   "source": [
    "### Queries embeddings\n",
    "\n",
    "We compute the vector representations of our queries."
   ]
  },
  {
   "cell_type": "code",
   "execution_count": 61,
   "metadata": {
    "ExecuteTime": {
     "end_time": "2020-12-07T15:05:22.060128Z",
     "start_time": "2020-12-07T15:05:22.042128Z"
    }
   },
   "outputs": [
    {
     "data": {
      "text/html": [
       "<div>\n",
       "<style scoped>\n",
       "    .dataframe tbody tr th:only-of-type {\n",
       "        vertical-align: middle;\n",
       "    }\n",
       "\n",
       "    .dataframe tbody tr th {\n",
       "        vertical-align: top;\n",
       "    }\n",
       "\n",
       "    .dataframe thead th {\n",
       "        text-align: right;\n",
       "    }\n",
       "</style>\n",
       "<table border=\"1\" class=\"dataframe\">\n",
       "  <thead>\n",
       "    <tr style=\"text-align: right;\">\n",
       "      <th></th>\n",
       "      <th>query</th>\n",
       "      <th>preprocess</th>\n",
       "      <th>embeddings</th>\n",
       "    </tr>\n",
       "  </thead>\n",
       "  <tbody>\n",
       "    <tr>\n",
       "      <th>1</th>\n",
       "      <td>coronavirus origin</td>\n",
       "      <td>coronaviru origin</td>\n",
       "      <td>[-0.13622051, 0.18094239, 0.79380023, 0.764305...</td>\n",
       "    </tr>\n",
       "    <tr>\n",
       "      <th>2</th>\n",
       "      <td>coronavirus response to weather changes</td>\n",
       "      <td>coronaviru respons weather chang</td>\n",
       "      <td>[1.4093331, -0.033406567, 0.49390024, 0.789962...</td>\n",
       "    </tr>\n",
       "    <tr>\n",
       "      <th>3</th>\n",
       "      <td>coronavirus immunity</td>\n",
       "      <td>coronaviru immun</td>\n",
       "      <td>[-0.01556617, -1.0878538, -0.2560593, -0.69810...</td>\n",
       "    </tr>\n",
       "    <tr>\n",
       "      <th>4</th>\n",
       "      <td>how do people die from the coronavirus</td>\n",
       "      <td>peopl die coronaviru</td>\n",
       "      <td>[0.723676, -0.0922542, 0.51508594, -0.6484012,...</td>\n",
       "    </tr>\n",
       "    <tr>\n",
       "      <th>5</th>\n",
       "      <td>animal models of COVID-19</td>\n",
       "      <td>anim model covid</td>\n",
       "      <td>[-0.5845622, 0.33299574, -1.3217245, -0.580382...</td>\n",
       "    </tr>\n",
       "  </tbody>\n",
       "</table>\n",
       "</div>"
      ],
      "text/plain": [
       "                                     query                        preprocess  \\\n",
       "1                       coronavirus origin                 coronaviru origin   \n",
       "2  coronavirus response to weather changes  coronaviru respons weather chang   \n",
       "3                     coronavirus immunity                  coronaviru immun   \n",
       "4   how do people die from the coronavirus              peopl die coronaviru   \n",
       "5                animal models of COVID-19                  anim model covid   \n",
       "\n",
       "                                          embeddings  \n",
       "1  [-0.13622051, 0.18094239, 0.79380023, 0.764305...  \n",
       "2  [1.4093331, -0.033406567, 0.49390024, 0.789962...  \n",
       "3  [-0.01556617, -1.0878538, -0.2560593, -0.69810...  \n",
       "4  [0.723676, -0.0922542, 0.51508594, -0.6484012,...  \n",
       "5  [-0.5845622, 0.33299574, -1.3217245, -0.580382...  "
      ]
     },
     "execution_count": 61,
     "metadata": {},
     "output_type": "execute_result"
    }
   ],
   "source": [
    "queries[\"embeddings\"] = queries[\"preprocess\"].apply(lambda x: get_embedding_w2v(x.split()))\n",
    "queries.head()"
   ]
  },
  {
   "cell_type": "markdown",
   "metadata": {},
   "source": [
    "### Documents embeddings"
   ]
  },
  {
   "cell_type": "markdown",
   "metadata": {},
   "source": [
    "In order to reduce the amount of embeddings to be computed, we filter the documents and we only save the ones that have some query performed on it and appear in metadata.\n",
    "Then, we compute the embedding for each document, so as to have it precomputed and then, when computing the similarity, just taking this value."
   ]
  },
  {
   "cell_type": "code",
   "execution_count": 62,
   "metadata": {
    "ExecuteTime": {
     "end_time": "2020-12-07T14:58:10.694250Z",
     "start_time": "2020-12-07T14:58:10.690252Z"
    }
   },
   "outputs": [],
   "source": [
    "titles = titles.reset_index(drop=True)"
   ]
  },
  {
   "cell_type": "code",
   "execution_count": 63,
   "metadata": {
    "ExecuteTime": {
     "end_time": "2020-12-07T14:58:10.965247Z",
     "start_time": "2020-12-07T14:58:10.952249Z"
    }
   },
   "outputs": [
    {
     "data": {
      "text/html": [
       "<div>\n",
       "<style scoped>\n",
       "    .dataframe tbody tr th:only-of-type {\n",
       "        vertical-align: middle;\n",
       "    }\n",
       "\n",
       "    .dataframe tbody tr th {\n",
       "        vertical-align: top;\n",
       "    }\n",
       "\n",
       "    .dataframe thead th {\n",
       "        text-align: right;\n",
       "    }\n",
       "</style>\n",
       "<table border=\"1\" class=\"dataframe\">\n",
       "  <thead>\n",
       "    <tr style=\"text-align: right;\">\n",
       "      <th></th>\n",
       "      <th>id</th>\n",
       "      <th>title</th>\n",
       "      <th>preprocess</th>\n",
       "    </tr>\n",
       "  </thead>\n",
       "  <tbody>\n",
       "    <tr>\n",
       "      <th>0</th>\n",
       "      <td>0001418189999fea7f7cbe3e82703d71c85a6fe5</td>\n",
       "      <td>Absence of surface expression of feline infect...</td>\n",
       "      <td>absenc surfac express felin infecti periton vi...</td>\n",
       "    </tr>\n",
       "    <tr>\n",
       "      <th>1</th>\n",
       "      <td>0003793cf9e709bc2b9d0c8111186f78fb73fc04</td>\n",
       "      <td>Title: Rethinking high-risk groups in COVID-19</td>\n",
       "      <td>titl rethink high risk group covid protect hig...</td>\n",
       "    </tr>\n",
       "    <tr>\n",
       "      <th>2</th>\n",
       "      <td>000379d7a7f37a2ccb978862b9f2016bd03259ea</td>\n",
       "      <td>ScienceDirect ScienceDirect Effect of Nanomate...</td>\n",
       "      <td>sciencedirect sciencedirect effect nanomateri ...</td>\n",
       "    </tr>\n",
       "    <tr>\n",
       "      <th>3</th>\n",
       "      <td>00039b94e6cb7609ecbddee1755314bcfeb77faa</td>\n",
       "      <td>Plasma inflammatory cytokines and chemokines i...</td>\n",
       "      <td>plasma inflammatori cytokin chemokin sever acu...</td>\n",
       "    </tr>\n",
       "    <tr>\n",
       "      <th>4</th>\n",
       "      <td>0003ddc51c4291d742855e9ac56076a3bea33ad7</td>\n",
       "      <td>Journal Pre-proofs The Fire This Time: The Str...</td>\n",
       "      <td>journal pre proof fire time stress racism infl...</td>\n",
       "    </tr>\n",
       "  </tbody>\n",
       "</table>\n",
       "</div>"
      ],
      "text/plain": [
       "                                         id  \\\n",
       "0  0001418189999fea7f7cbe3e82703d71c85a6fe5   \n",
       "1  0003793cf9e709bc2b9d0c8111186f78fb73fc04   \n",
       "2  000379d7a7f37a2ccb978862b9f2016bd03259ea   \n",
       "3  00039b94e6cb7609ecbddee1755314bcfeb77faa   \n",
       "4  0003ddc51c4291d742855e9ac56076a3bea33ad7   \n",
       "\n",
       "                                               title  \\\n",
       "0  Absence of surface expression of feline infect...   \n",
       "1     Title: Rethinking high-risk groups in COVID-19   \n",
       "2  ScienceDirect ScienceDirect Effect of Nanomate...   \n",
       "3  Plasma inflammatory cytokines and chemokines i...   \n",
       "4  Journal Pre-proofs The Fire This Time: The Str...   \n",
       "\n",
       "                                          preprocess  \n",
       "0  absenc surfac express felin infecti periton vi...  \n",
       "1  titl rethink high risk group covid protect hig...  \n",
       "2  sciencedirect sciencedirect effect nanomateri ...  \n",
       "3  plasma inflammatori cytokin chemokin sever acu...  \n",
       "4  journal pre proof fire time stress racism infl...  "
      ]
     },
     "execution_count": 63,
     "metadata": {},
     "output_type": "execute_result"
    }
   ],
   "source": [
    "docs = titles.join(docs)\n",
    "docs.head()"
   ]
  },
  {
   "cell_type": "code",
   "execution_count": 64,
   "metadata": {
    "ExecuteTime": {
     "end_time": "2020-12-07T14:58:20.350236Z",
     "start_time": "2020-12-07T14:58:20.259239Z"
    }
   },
   "outputs": [
    {
     "data": {
      "text/html": [
       "<div>\n",
       "<style scoped>\n",
       "    .dataframe tbody tr th:only-of-type {\n",
       "        vertical-align: middle;\n",
       "    }\n",
       "\n",
       "    .dataframe tbody tr th {\n",
       "        vertical-align: top;\n",
       "    }\n",
       "\n",
       "    .dataframe thead th {\n",
       "        text-align: right;\n",
       "    }\n",
       "</style>\n",
       "<table border=\"1\" class=\"dataframe\">\n",
       "  <thead>\n",
       "    <tr style=\"text-align: right;\">\n",
       "      <th></th>\n",
       "      <th>id</th>\n",
       "      <th>title</th>\n",
       "      <th>preprocess</th>\n",
       "      <th>sha</th>\n",
       "    </tr>\n",
       "  </thead>\n",
       "  <tbody>\n",
       "    <tr>\n",
       "      <th>1</th>\n",
       "      <td>0003793cf9e709bc2b9d0c8111186f78fb73fc04</td>\n",
       "      <td>Title: Rethinking high-risk groups in COVID-19</td>\n",
       "      <td>titl rethink high risk group covid protect hig...</td>\n",
       "      <td>0003793cf9e709bc2b9d0c8111186f78fb73fc04</td>\n",
       "    </tr>\n",
       "    <tr>\n",
       "      <th>3</th>\n",
       "      <td>00039b94e6cb7609ecbddee1755314bcfeb77faa</td>\n",
       "      <td>Plasma inflammatory cytokines and chemokines i...</td>\n",
       "      <td>plasma inflammatori cytokin chemokin sever acu...</td>\n",
       "      <td>00039b94e6cb7609ecbddee1755314bcfeb77faa</td>\n",
       "    </tr>\n",
       "    <tr>\n",
       "      <th>4</th>\n",
       "      <td>0003ddc51c4291d742855e9ac56076a3bea33ad7</td>\n",
       "      <td>Journal Pre-proofs The Fire This Time: The Str...</td>\n",
       "      <td>journal pre proof fire time stress racism infl...</td>\n",
       "      <td>0003ddc51c4291d742855e9ac56076a3bea33ad7</td>\n",
       "    </tr>\n",
       "    <tr>\n",
       "      <th>5</th>\n",
       "      <td>0004456994f6c1d5db7327990386d33c01cff32a</td>\n",
       "      <td></td>\n",
       "      <td>ackground influenza immunis healthcar worker e...</td>\n",
       "      <td>0004456994f6c1d5db7327990386d33c01cff32a</td>\n",
       "    </tr>\n",
       "    <tr>\n",
       "      <th>7</th>\n",
       "      <td>00060fb61742ff60e4e3ba4648c74a34cfe9560d</td>\n",
       "      <td></td>\n",
       "      <td>outbreak novel coronaviru diseas led current g...</td>\n",
       "      <td>00060fb61742ff60e4e3ba4648c74a34cfe9560d</td>\n",
       "    </tr>\n",
       "  </tbody>\n",
       "</table>\n",
       "</div>"
      ],
      "text/plain": [
       "                                         id  \\\n",
       "1  0003793cf9e709bc2b9d0c8111186f78fb73fc04   \n",
       "3  00039b94e6cb7609ecbddee1755314bcfeb77faa   \n",
       "4  0003ddc51c4291d742855e9ac56076a3bea33ad7   \n",
       "5  0004456994f6c1d5db7327990386d33c01cff32a   \n",
       "7  00060fb61742ff60e4e3ba4648c74a34cfe9560d   \n",
       "\n",
       "                                               title  \\\n",
       "1     Title: Rethinking high-risk groups in COVID-19   \n",
       "3  Plasma inflammatory cytokines and chemokines i...   \n",
       "4  Journal Pre-proofs The Fire This Time: The Str...   \n",
       "5                                                      \n",
       "7                                                      \n",
       "\n",
       "                                          preprocess  \\\n",
       "1  titl rethink high risk group covid protect hig...   \n",
       "3  plasma inflammatori cytokin chemokin sever acu...   \n",
       "4  journal pre proof fire time stress racism infl...   \n",
       "5  ackground influenza immunis healthcar worker e...   \n",
       "7  outbreak novel coronaviru diseas led current g...   \n",
       "\n",
       "                                        sha  \n",
       "1  0003793cf9e709bc2b9d0c8111186f78fb73fc04  \n",
       "3  00039b94e6cb7609ecbddee1755314bcfeb77faa  \n",
       "4  0003ddc51c4291d742855e9ac56076a3bea33ad7  \n",
       "5  0004456994f6c1d5db7327990386d33c01cff32a  \n",
       "7  00060fb61742ff60e4e3ba4648c74a34cfe9560d  "
      ]
     },
     "execution_count": 64,
     "metadata": {},
     "output_type": "execute_result"
    }
   ],
   "source": [
    "# With this filter, we only use documents that appear in both judgements and metadata files, i.e, documents that have queries related.\n",
    "docs[\"sha\"] = docs[\"id\"]\n",
    "inCorpus = metadata[metadata[\"sha\"].isin(docs[\"sha\"])][\"cord_uid\"]\n",
    "inJudgements = inCorpus[inCorpus.isin(judgements[\"cord_uid\"])]\n",
    "filtered = metadata.loc[metadata['cord_uid'].isin(inJudgements)][\"sha\"].values\n",
    "docs_filtered = docs.loc[docs[\"id\"].isin(filtered)]\n",
    "docs_filtered.head()"
   ]
  },
  {
   "cell_type": "code",
   "execution_count": 65,
   "metadata": {
    "ExecuteTime": {
     "end_time": "2020-12-07T15:04:25.582803Z",
     "start_time": "2020-12-07T14:58:22.347644Z"
    }
   },
   "outputs": [
    {
     "name": "stderr",
     "output_type": "stream",
     "text": [
      "<ipython-input-65-6fd6c6ae85e9>:1: SettingWithCopyWarning: \n",
      "A value is trying to be set on a copy of a slice from a DataFrame.\n",
      "Try using .loc[row_indexer,col_indexer] = value instead\n",
      "\n",
      "See the caveats in the documentation: https://pandas.pydata.org/pandas-docs/stable/user_guide/indexing.html#returning-a-view-versus-a-copy\n",
      "  docs_filtered[\"embeddings\"] = docs_filtered[\"preprocess\"].apply(lambda x: get_embedding_w2v(x.split()))\n"
     ]
    }
   ],
   "source": [
    "docs_filtered[\"embeddings\"] = docs_filtered[\"preprocess\"].apply(lambda x: get_embedding_w2v(x.split())) "
   ]
  },
  {
   "cell_type": "code",
   "execution_count": 66,
   "metadata": {
    "ExecuteTime": {
     "end_time": "2020-12-07T15:04:25.751804Z",
     "start_time": "2020-12-07T15:04:25.727806Z"
    }
   },
   "outputs": [
    {
     "data": {
      "text/html": [
       "<div>\n",
       "<style scoped>\n",
       "    .dataframe tbody tr th:only-of-type {\n",
       "        vertical-align: middle;\n",
       "    }\n",
       "\n",
       "    .dataframe tbody tr th {\n",
       "        vertical-align: top;\n",
       "    }\n",
       "\n",
       "    .dataframe thead th {\n",
       "        text-align: right;\n",
       "    }\n",
       "</style>\n",
       "<table border=\"1\" class=\"dataframe\">\n",
       "  <thead>\n",
       "    <tr style=\"text-align: right;\">\n",
       "      <th></th>\n",
       "      <th>id</th>\n",
       "      <th>title</th>\n",
       "      <th>preprocess</th>\n",
       "      <th>sha</th>\n",
       "      <th>embeddings</th>\n",
       "    </tr>\n",
       "  </thead>\n",
       "  <tbody>\n",
       "    <tr>\n",
       "      <th>1</th>\n",
       "      <td>0003793cf9e709bc2b9d0c8111186f78fb73fc04</td>\n",
       "      <td>Title: Rethinking high-risk groups in COVID-19</td>\n",
       "      <td>titl rethink high risk group covid protect hig...</td>\n",
       "      <td>0003793cf9e709bc2b9d0c8111186f78fb73fc04</td>\n",
       "      <td>[0.1338663633357819, -0.2122794183152575, -0.1...</td>\n",
       "    </tr>\n",
       "    <tr>\n",
       "      <th>3</th>\n",
       "      <td>00039b94e6cb7609ecbddee1755314bcfeb77faa</td>\n",
       "      <td>Plasma inflammatory cytokines and chemokines i...</td>\n",
       "      <td>plasma inflammatori cytokin chemokin sever acu...</td>\n",
       "      <td>00039b94e6cb7609ecbddee1755314bcfeb77faa</td>\n",
       "      <td>[0.5001459094016298, -0.33409816613671756, -0....</td>\n",
       "    </tr>\n",
       "    <tr>\n",
       "      <th>4</th>\n",
       "      <td>0003ddc51c4291d742855e9ac56076a3bea33ad7</td>\n",
       "      <td>Journal Pre-proofs The Fire This Time: The Str...</td>\n",
       "      <td>journal pre proof fire time stress racism infl...</td>\n",
       "      <td>0003ddc51c4291d742855e9ac56076a3bea33ad7</td>\n",
       "      <td>[0.29451135, 0.032466672, -0.34254152, -0.3335...</td>\n",
       "    </tr>\n",
       "    <tr>\n",
       "      <th>5</th>\n",
       "      <td>0004456994f6c1d5db7327990386d33c01cff32a</td>\n",
       "      <td></td>\n",
       "      <td>ackground influenza immunis healthcar worker e...</td>\n",
       "      <td>0004456994f6c1d5db7327990386d33c01cff32a</td>\n",
       "      <td>[0.05182570070859275, -0.5597536415046115, 0.0...</td>\n",
       "    </tr>\n",
       "    <tr>\n",
       "      <th>7</th>\n",
       "      <td>00060fb61742ff60e4e3ba4648c74a34cfe9560d</td>\n",
       "      <td></td>\n",
       "      <td>outbreak novel coronaviru diseas led current g...</td>\n",
       "      <td>00060fb61742ff60e4e3ba4648c74a34cfe9560d</td>\n",
       "      <td>[0.08706925, -0.3442869, -0.46467376, 0.044986...</td>\n",
       "    </tr>\n",
       "  </tbody>\n",
       "</table>\n",
       "</div>"
      ],
      "text/plain": [
       "                                         id  \\\n",
       "1  0003793cf9e709bc2b9d0c8111186f78fb73fc04   \n",
       "3  00039b94e6cb7609ecbddee1755314bcfeb77faa   \n",
       "4  0003ddc51c4291d742855e9ac56076a3bea33ad7   \n",
       "5  0004456994f6c1d5db7327990386d33c01cff32a   \n",
       "7  00060fb61742ff60e4e3ba4648c74a34cfe9560d   \n",
       "\n",
       "                                               title  \\\n",
       "1     Title: Rethinking high-risk groups in COVID-19   \n",
       "3  Plasma inflammatory cytokines and chemokines i...   \n",
       "4  Journal Pre-proofs The Fire This Time: The Str...   \n",
       "5                                                      \n",
       "7                                                      \n",
       "\n",
       "                                          preprocess  \\\n",
       "1  titl rethink high risk group covid protect hig...   \n",
       "3  plasma inflammatori cytokin chemokin sever acu...   \n",
       "4  journal pre proof fire time stress racism infl...   \n",
       "5  ackground influenza immunis healthcar worker e...   \n",
       "7  outbreak novel coronaviru diseas led current g...   \n",
       "\n",
       "                                        sha  \\\n",
       "1  0003793cf9e709bc2b9d0c8111186f78fb73fc04   \n",
       "3  00039b94e6cb7609ecbddee1755314bcfeb77faa   \n",
       "4  0003ddc51c4291d742855e9ac56076a3bea33ad7   \n",
       "5  0004456994f6c1d5db7327990386d33c01cff32a   \n",
       "7  00060fb61742ff60e4e3ba4648c74a34cfe9560d   \n",
       "\n",
       "                                          embeddings  \n",
       "1  [0.1338663633357819, -0.2122794183152575, -0.1...  \n",
       "3  [0.5001459094016298, -0.33409816613671756, -0....  \n",
       "4  [0.29451135, 0.032466672, -0.34254152, -0.3335...  \n",
       "5  [0.05182570070859275, -0.5597536415046115, 0.0...  \n",
       "7  [0.08706925, -0.3442869, -0.46467376, 0.044986...  "
      ]
     },
     "execution_count": 66,
     "metadata": {},
     "output_type": "execute_result"
    }
   ],
   "source": [
    "docs_filtered.head()"
   ]
  },
  {
   "cell_type": "markdown",
   "metadata": {},
   "source": [
    "### Launch query in W2V Model\n",
    "\n",
    "As before with the TFIDF model, we create two functions to launch queries with our W2V model.\n",
    "\n",
    "We will show you the results for query 2."
   ]
  },
  {
   "cell_type": "code",
   "execution_count": 68,
   "metadata": {
    "ExecuteTime": {
     "end_time": "2020-12-07T19:23:38.656548Z",
     "start_time": "2020-12-07T19:23:38.650546Z"
    }
   },
   "outputs": [],
   "source": [
    "from sklearn.metrics.pairwise import cosine_similarity\n",
    "i = 2\n",
    "\n",
    "def launch_query_w2v(query_name, queries, docs_filtered, verbose=0):\n",
    "    \"\"\"\n",
    "    General function that allow us to launch queries to our W2V model.\n",
    "    \n",
    "    Parameter:\n",
    "    query_name: the name of the query\n",
    "    queries: dataframe of the queries\n",
    "    docs_filtered: dataframe of filtered documents with their vector representation (the one explained before)\n",
    "    \n",
    "    Returns:\n",
    "    \n",
    "    It returns the ranking.\n",
    "    \n",
    "    \"\"\"\n",
    "    query_name = query_name\n",
    "    # We obtain the vector of the query\n",
    "    query_vector = queries[queries[\"query\"] == query_name][\"embeddings\"].values[0]\n",
    "    docs_aux = docs_filtered.copy()\n",
    "    # We compute the cosine similarity of the query´s vector with the documents vectors\n",
    "    docs_aux[\"score\"] = docs_aux[\"embeddings\"].apply(\n",
    "        lambda x: cosine_similarity(np.array(query_vector).reshape(1,-1), np.array(x).reshape(1,-1)).item())\n",
    "    # We order the docs by this similarity\n",
    "    docs_aux = docs_aux.sort_values(by=\"score\", ascending=False)\n",
    "    doc_pos = docs_aux.index.values\n",
    "    rel_score = docs_aux[\"score\"].values\n",
    "    ranking = [z for z in zip(doc_pos, rel_score)]\n",
    "    if verbose:\n",
    "        print(\"Query ==> \"+query_name)\n",
    "        for i in range(5):\n",
    "            score = docs_aux.iloc[i][\"score\"]\n",
    "            title = docs_aux.iloc[i][\"title\"] if docs_aux.iloc[i][\"title\"]!=\"\" else \"No title available\"\n",
    "            print(f\"[Score = {score}] \"+ title)\n",
    "    return ranking, \"Just to work\"\n",
    "\n",
    "def launch_w2v(function, queries, docs_filtered):\n",
    "    \"\"\"\n",
    "    Again, function that allow us to reuse our code for evaluation.\n",
    "    \"\"\"\n",
    "    def h(query_name):\n",
    "        return function(query_name, queries, docs_filtered)\n",
    "    return h"
   ]
  },
  {
   "cell_type": "markdown",
   "metadata": {},
   "source": [
    "Execution of query 2 with its results. Notice that now the scores are higher."
   ]
  },
  {
   "cell_type": "code",
   "execution_count": 69,
   "metadata": {
    "ExecuteTime": {
     "end_time": "2020-12-07T19:24:23.831214Z",
     "start_time": "2020-12-07T19:24:19.415290Z"
    }
   },
   "outputs": [
    {
     "name": "stdout",
     "output_type": "stream",
     "text": [
      "Query ==> coronavirus response to weather changes\n",
      "[Score = 0.6382498718964247] Journal Pre-proof The most eagerly awaited summer of the Anthropocene: A perspective of SARS- CoV-2 decay and seasonal change\n",
      "[Score = 0.6366623198065687] Frontiers in climate change-disease research\n",
      "[Score = 0.6318109618431229] The rise and fall of infectious disease in a warmer world [version 1; referees: 2 approved]\n",
      "[Score = 0.6306033591859014] Climate Change and Health in Canada\n",
      "[Score = 0.6229537846403025] Impact of global warming on viral diseases: what is the evidence? This review comes from a themed issue on Pharmaceutical biotechnology Edited\n"
     ]
    }
   ],
   "source": [
    "ranking, _ = launch_query_w2v(queries.iloc[1][0], queries, docs_filtered, verbose=1)"
   ]
  },
  {
   "cell_type": "markdown",
   "metadata": {},
   "source": [
    "# Results\n",
    "\n",
    "So, after explaining how we implemented both models, it´s turn to evaluate them.\n",
    "\n",
    "We will consider the metrics explained before: precision, recall, mean average precision, P@5, P@10 and R-Precision.\n",
    "\n",
    "The following cell performs all the evaluation:\n",
    "* We print the P@5, P@10 and MAVP of each single document.\n",
    "* We plot a graph comparing the precision and recall of all the models tested.\n",
    "* We plot a graph comparing the difference of the R-precision of the best two models for each single query. If the values are positive mean that R-precision of model A was greater than model´s B R-Precision. Negative values mean that that R-precision of model B was greater than model´s A R-Precision\n",
    "\n",
    "The evaluation procedure was created following the indications in (Baeza and Ribeiro, 2011)."
   ]
  },
  {
   "cell_type": "code",
   "execution_count": 343,
   "metadata": {
    "ExecuteTime": {
     "end_time": "2020-12-07T17:57:24.763192Z",
     "start_time": "2020-12-07T17:47:28.340581Z"
    }
   },
   "outputs": [
    {
     "name": "stdout",
     "output_type": "stream",
     "text": [
      "###################################################################################\n",
      "Evaluating performance of our models...\n",
      "-------------------------------------------------------------------------------------\n",
      "Evaluating TFIDF (nfc): raw term frequency weighing, idf document frequency weighting, cosine normalization\n",
      "Computing statistics...\n",
      "Statistics computed...\n",
      "Mean Average Precision of this model ==> 0.4982978899333098\n",
      "Mean P@5 of this model ==> 0.572\n",
      "Mean P@10 of this model ==> 0.592\n",
      "-------------------------------------------------------------------------------------\n",
      "Evaluating TFIDF (lfc): logarithmic term frequency weighing, idf document frequency weighting, cosine normalization\n",
      "Computing statistics...\n",
      "Statistics computed...\n",
      "Mean Average Precision of this model ==> 0.4982978899333098\n",
      "Mean P@5 of this model ==> 0.572\n",
      "Mean P@10 of this model ==> 0.592\n",
      "-------------------------------------------------------------------------------------\n",
      "Evaluating TFIDF (lpu): logarithmic term frequency weighing, probabilistic document frequency weighting, pivoted unique normalization\n",
      "Computing statistics...\n"
     ]
    },
    {
     "name": "stderr",
     "output_type": "stream",
     "text": [
      "C:\\Users\\César\\AppData\\Roaming\\Python\\Python37\\site-packages\\ipykernel_launcher.py:12: VisibleDeprecationWarning: Creating an ndarray from ragged nested sequences (which is a list-or-tuple of lists-or-tuples-or ndarrays with different lengths or shapes) is deprecated. If you meant to do this, you must specify 'dtype=object' when creating the ndarray\n",
      "  if sys.path[0] == '':\n"
     ]
    },
    {
     "name": "stdout",
     "output_type": "stream",
     "text": [
      "Statistics computed...\n",
      "Mean Average Precision of this model ==> 0.5087887531431804\n",
      "Mean P@5 of this model ==> 0.5479999999999999\n",
      "Mean P@10 of this model ==> 0.574\n",
      "-------------------------------------------------------------------------------------\n",
      "Evaluating TFIDF (nnn): raw term frequency weighing, none document frequency weighting, none normalization\n",
      "Computing statistics...\n",
      "Statistics computed...\n",
      "Mean Average Precision of this model ==> 0.46953154581265527\n",
      "Mean P@5 of this model ==> 0.5519999999999999\n",
      "Mean P@10 of this model ==> 0.536\n",
      "-------------------------------------------------------------------------------------\n",
      "Evaluating TFIDF (ltc): logarithmic term frequency weighing, zero-corrected idf document frequency weighting, cosine normalization\n",
      "Computing statistics...\n",
      "Statistics computed...\n",
      "Mean Average Precision of this model ==> 0.49829782771365694\n",
      "Mean P@5 of this model ==> 0.572\n",
      "Mean P@10 of this model ==> 0.592\n",
      "-------------------------------------------------------------------------------------\n",
      "Evaluating Word2Vec: \n",
      "\tTraining algorithm = Continuous Bag of Words\n",
      "\tVector size = 300\n",
      "\tDistance predicted and current word = 5 (default)\n",
      "\tNegative sampling = 5 (default)\n",
      "\tEpochs = 5 (default)\n",
      "Computing statistics...\n",
      "Statistics computed...\n",
      "Mean Average Precision of this model ==> 0.5104813814009274\n",
      "Mean P@5 of this model ==> 0.66\n",
      "Mean P@10 of this model ==> 0.6260000000000001\n"
     ]
    },
    {
     "data": {
      "image/png": "[encoded data removed]",
      "text/plain": [
       "<Figure size 432x432 with 1 Axes>"
      ]
     },
     "metadata": {
      "needs_background": "light"
     },
     "output_type": "display_data"
    },
    {
     "name": "stdout",
     "output_type": "stream",
     "text": [
      "-------------------------------------------------------------------------------------\n",
      "Comparing our models: W2V vs TFIDF (lpu)\n"
     ]
    },
    {
     "data": {
      "image/png": "[encoded data removed]",
      "text/plain": [
       "<Figure size 720x432 with 1 Axes>"
      ]
     },
     "metadata": {
      "needs_background": "light"
     },
     "output_type": "display_data"
    },
    {
     "name": "stdout",
     "output_type": "stream",
     "text": [
      "-------------------------------------------------------------------------------------\n",
      "Evalution finished.\n",
      "###################################################################################\n"
     ]
    }
   ],
   "source": [
    "recall = np.arange(0,1.1, 0.1)\n",
    "modelos_tfidf = [{\"name\":\"TFIDF (nfc)\", \"term\": \"raw\", \"document\": \"idf\", \"normalization\": \"cosine\", \"model\": model_tfidf, \"color\": \"r\"},\n",
    "          {\"name\":\"TFIDF (lfc)\", \"term\": \"logarithmic\", \"document\": \"idf\", \"normalization\": \"cosine\", \n",
    "           \"model\": model_tfidf_2, \"color\": \"g\"},\n",
    "           {\"name\":\"TFIDF (lpu)\", \"term\": \"logarithmic\", \"document\": \"probabilistic\", \"normalization\": \"pivoted unique\", \n",
    "           \"model\": model_tfidf_3, \"color\": \"b\"},\n",
    "           {\"name\":\"TFIDF (nnn)\", \"term\": \"raw\", \"document\": \"none\", \"normalization\": \"none\", \n",
    "           \"model\": model_tfidf_4, \"color\": \"c\"},\n",
    "           {\"name\":\"TFIDF (ltc)\", \"term\": \"logarithmic\", \"document\": \"zero-corrected idf\", \"normalization\": \"cosine\", \n",
    "           \"model\": model_tfidf_5, \"color\": \"m\"}\n",
    "         ]\n",
    "\n",
    "modelos_w2v = [{\"name\": \"Word2Vec\", \"algorithm\": \"Continuous Bag of Words\", \"vector\": 300, \n",
    "                \"window\": \"5 (default)\", \"negative\": \"5 (default)\", \"epochs\": \"5 (default)\", \"color\":\"y\"}\n",
    "              ]\n",
    "r_precisions = []\n",
    "precisions_5 = []\n",
    "precisions_10 = []\n",
    "\n",
    "print(\"###################################################################################\")\n",
    "print(\"Evaluating performance of our models...\")\n",
    "plt.figure(figsize=(6,6))\n",
    "plt.title(\"Precision vs Recall standardized\")\n",
    "plt.axis([0, 1, 0, 1])\n",
    "plt.xlabel(\"Recall\")\n",
    "plt.ylabel(\"Precision\")\n",
    "\n",
    "for model in modelos_tfidf:\n",
    "    name = model[\"name\"]\n",
    "    term = model[\"term\"]\n",
    "    document = model[\"document\"]\n",
    "    normalization = model[\"normalization\"]\n",
    "    color = model[\"color\"]\n",
    "    print(\"-------------------------------------------------------------------------------------\")\n",
    "    print(f\"Evaluating {name}: {term} term frequency weighing, {document} document frequency weighting, {normalization} normalization\")\n",
    "    print(\"Computing statistics...\")\n",
    "    data_tfidf = get_statistics(launch(launch_query_tfidf,model[\"model\"], dictionary, bow, similarities, titles.copy()), queries.copy(), titles.copy(), metadata.copy(), judgements.copy())\n",
    "    print(\"Statistics computed...\")\n",
    "    precision_tfidf = data_tfidf[\"precision\"]\n",
    "    recall = data_tfidf[\"recall\"]\n",
    "    mavp_tfidf = data_tfidf[\"mavp\"]\n",
    "    precisions_5.append(np.array(data_tfidf[\"p_5\"]).mean())\n",
    "    precisions_10.append(np.array(data_tfidf[\"p_10\"]).mean())\n",
    "    r_precisions.append(data_tfidf[\"r-precision\"])\n",
    "    print(f\"Mean Average Precision of this model ==> {mavp_tfidf}\")\n",
    "    p_5 = np.array(data_tfidf[\"p_5\"]).mean()\n",
    "    p_10 = np.array(data_tfidf[\"p_10\"]).mean()\n",
    "    print(f\"Mean P@5 of this model ==> {p_5}\")\n",
    "    print(f\"Mean P@10 of this model ==> {p_10}\")\n",
    "\n",
    "    plt.plot(recall, precision_tfidf, f\"{color}-o\", label=name)\n",
    "\n",
    "for model in modelos_w2v:\n",
    "    name = model[\"name\"]\n",
    "    vector = model[\"vector\"]\n",
    "    window = model[\"window\"]\n",
    "    negative = model[\"negative\"]\n",
    "    algorithm = model[\"algorithm\"]\n",
    "    epochs = model[\"epochs\"]\n",
    "    color = model[\"color\"]\n",
    "    print(\"-------------------------------------------------------------------------------------\")\n",
    "    print(f\"Evaluating {name}: \\n\\tTraining algorithm = {algorithm}\\n\\tVector size = {vector}\\n\\tDistance predicted and current word = {window}\\n\\tNegative sampling = {negative}\\n\\tEpochs = {epochs}\")\n",
    "    print(\"Computing statistics...\")\n",
    "    data_w2v = get_statistics(launch_w2v(launch_query_w2v, queries.copy(), docs_filtered.copy()), queries.copy(), titles.copy(), metadata.copy(), judgements.copy())\n",
    "    print(\"Statistics computed...\")\n",
    "    precision_w2v = data_w2v[\"precision\"]\n",
    "    recall = data_w2v[\"recall\"]\n",
    "    mavp_w2v = data_w2v[\"mavp\"]\n",
    "    r_precisions.append(data_w2v[\"r-precision\"])\n",
    "    precisions_5.append(np.array(data_w2v[\"p_5\"]).mean())\n",
    "    precisions_10.append(np.array(data_w2v[\"p_10\"]).mean())\n",
    "    print(f\"Mean Average Precision of this model ==> {mavp_w2v}\")\n",
    "    p_5 = np.array(data_w2v[\"p_5\"]).mean()\n",
    "    p_10 = np.array(data_w2v[\"p_10\"]).mean()\n",
    "    print(f\"Mean P@5 of this model ==> {p_5}\")\n",
    "    print(f\"Mean P@10 of this model ==> {p_10}\")\n",
    "\n",
    "    plt.plot(recall, precision_w2v, f\"{color}-o\", label=name)\n",
    "\n",
    "plt.legend()\n",
    "plt.show()\n",
    "print(\"-------------------------------------------------------------------------------------\")\n",
    "print(\"Comparing our models: W2V vs TFIDF (lpu)\")\n",
    "r_precision = np.array(r_precisions[5]) - np.array(r_precisions[2])\n",
    "# the histogram of the data\n",
    "plt.figure(figsize=(10,6))\n",
    "plt.bar(np.arange(1,51,1),r_precision)\n",
    "plt.xlabel('Query number')\n",
    "plt.ylabel('R-Precision W2V/TFIDF (lpu)')\n",
    "plt.title('Comparison of R-Precisions')\n",
    "plt.grid(True)\n",
    "plt.show()\n",
    "print(\"-------------------------------------------------------------------------------------\")\n",
    "print(\"Evalution finished.\")\n",
    "print(\"###################################################################################\")"
   ]
  },
  {
   "cell_type": "markdown",
   "metadata": {},
   "source": [
    "# Conclusions\n",
    "\n"
   ]
  },
  {
   "cell_type": "code",
   "execution_count": null,
   "metadata": {},
   "outputs": [],
   "source": []
  }
 ],
 "metadata": {
  "kernelspec": {
   "display_name": "Python 3",
   "language": "python",
   "name": "python3"
  },
  "language_info": {
   "codemirror_mode": {
    "name": "ipython",
    "version": 3
   },
   "file_extension": ".py",
   "mimetype": "text/x-python",
   "name": "python",
   "nbconvert_exporter": "python",
   "pygments_lexer": "ipython3",
   "version": "3.8.5"
  },
  "latex_envs": {
   "LaTeX_envs_menu_present": true,
   "autoclose": true,
   "autocomplete": true,
   "bibliofile": "biblio.bib",
   "cite_by": "apalike",
   "current_citInitial": 1,
   "eqLabelWithNumbers": true,
   "eqNumInitial": 1,
   "hotkeys": {
    "equation": "Ctrl-E",
    "itemize": "Ctrl-I"
   },
   "labels_anchors": false,
   "latex_user_defs": false,
   "report_style_numbering": false,
   "user_envs_cfg": false
  },
  "varInspector": {
   "cols": {
    "lenName": 16,
    "lenType": 16,
    "lenVar": 40
   },
   "kernels_config": {
    "python": {
     "delete_cmd_postfix": "",
     "delete_cmd_prefix": "del ",
     "library": "var_list.py",
     "varRefreshCmd": "print(var_dic_list())"
    },
    "r": {
     "delete_cmd_postfix": ") ",
     "delete_cmd_prefix": "rm(",
     "library": "var_list.r",
     "varRefreshCmd": "cat(var_dic_list()) "
    }
   },
   "types_to_exclude": [
    "module",
    "function",
    "builtin_function_or_method",
    "instance",
    "_Feature"
   ],
   "window_display": false
  }
 },
 "nbformat": 4,
 "nbformat_minor": 4
}
