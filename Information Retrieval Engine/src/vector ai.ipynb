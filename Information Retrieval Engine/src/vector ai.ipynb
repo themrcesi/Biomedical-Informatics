{
 "cells": [
  {
   "cell_type": "code",
   "execution_count": 1,
   "metadata": {
    "ExecuteTime": {
     "end_time": "2020-10-30T09:24:32.310775Z",
     "start_time": "2020-10-30T09:24:27.381596Z"
    }
   },
   "outputs": [
    {
     "name": "stdout",
     "output_type": "stream",
     "text": [
      "Logged in. Welcome cesar-cabeza. To view list of available collections, call list_collections() method.\n"
     ]
    }
   ],
   "source": [
    "from vectorai import ViClient\n",
    "import json\n",
    "import xmltodict as xtd\n",
    "import numpy as np\n",
    "import os\n",
    "from nltk.corpus import stopwords\n",
    "from nltk.tokenize import wordpunct_tokenize\n",
    "from nltk.stem import PorterStemmer\n",
    "from joblib import Parallel, delayed\n",
    "from gensim import corpora\n",
    "from gensim import models\n",
    "import pandas as pd\n",
    "from gensim import similarities\n",
    "from operator import itemgetter\n",
    "\n",
    "username = 'cesar-cabeza'\n",
    "api_key = 'amdXU0VYVUJXN1RRYmVKWGUwcG46Ni1zRW15R01SNFNmLUZ4Ry00MHFmZw'\n",
    "\n",
    "vi_client = ViClient(username=username, api_key = api_key)\n",
    "from vectorai.models.deployed import ViText2Vec\n",
    "text_encoder = ViText2Vec(username, api_key)\n"
   ]
  },
  {
   "cell_type": "code",
   "execution_count": 7,
   "metadata": {
    "ExecuteTime": {
     "end_time": "2020-10-30T09:34:00.485092Z",
     "start_time": "2020-10-30T09:33:59.064310Z"
    }
   },
   "outputs": [
    {
     "data": {
      "text/plain": [
       "{'documents': [{'_id': 'a998defbe9236dc5f7880910ccb4b2c6f350879d',\n",
       "   'document': {'title': 'IFITM3 directly engages and shuttles incoming virus particles to lysosomes',\n",
       "    'abstract': ['Interferon-induced transmembrane proteins (IFITMs) (1, 2 and 3) have emerged as important innate immune effectors that prevent diverse virus infections in vertebrates. However, the cellular mechanisms and live cell imaging of these small membrane proteins have been challenging to evaluate during viral entry of mammalian cells. Using CRISPR-Cas9-mediated IFITM-mutant cell lines, we demonstrate that human IFITM1, 2 and 3 act cooperatively and function in dosedependent fashion in interferon-stimulated cells. Through site-specific fluorophore tagging and live cell imaging studies, we show IFITM3 is on endocytic vesicles that fuse with incoming virus particles and enhances the trafficking of this pathogenic cargo to lysosomes. IFITM3 trafficking is specific to restricted viruses, requires S-palmitoylation and is abrogated with loss-of-function'],\n",
       "    'text': ['Interferon-induced transmembrane proteins (IFITMs, 1, 2 and 3) have emerged as important gatekeepers of pathogen infection in vertebrates. 1 Initial siRNA knockdown studies of IFITM3 increased the susceptibility of mammalian cell lines to influenza A virus (IAV), and overexpression showed that IFITM1, 2 and 3 could also inhibit infection by other strains of IAV as well as flaviviruses such as West Nile virus (WNV) and dengue virus (DENV), with IFITM3 being the most active against IAV. 2 In addition to IFITM1, 2 and 3, humans have two other IFITM isoforms (5 and 10) and mice have four others (5, 6, 7 and 10) that are not induced by IFNs. [1] [2] [3] Subsequent studies have demonstrated that IFITM1, 2 and 3 are active against many other viruses, 1, 3 including Ebola virus (EBOV), vesicular stomatitis virus (VSV), SARS coronavirus (SARS-CoV), human immunodeficiency virus (HIV), respiratory syncytial virus (RSV), non-enveloped mammalian reovirus, hepatitis C virus (HCV) and Zika virus (ZIKV). 4, 5 IFITMs are, however, not active against DNA viruses such as papillomavirus, cytomegalovirus and adenovirus 6 and even promote human coronavirus OC43 infection 7, 8 . SiRNA knockdown of IFITM1, 2 and 3 together has also been reported to increase Mycobacterium tuberculosis (Mtb) infection in macrophages. 9 Moreover, IFITM3 was shown to associate with Mtb in late endosomal compartments and was shown to restrict Mtb by imaging flow cytometry. 9 IFITMs are active in multiple mammalian cell types, including primary CD8+ T cells and respiratory DCs directly involved in adaptive immunity to IAV. 10 Notably, ifitm3−/− mice are more susceptible to infection by IAV. 11, 12 Moreover, IFITM3 appears to be important for the intrinsic and inducible antiviral activity of human embryonic stem cells. 13 IFITMs have also been suggested to limit virus infection in a variety of other vertebrates, 1, 3 highlighting their possible evolutionarily-conserved function in host immunity.',\n",
       "     \"IFITMs encode relatively small membrane proteins (107 -144 amino acids) 1 that were originally predicted to be dual-pass transmembrane proteins based on two hydrophobic domains 2 (Fig. 1a) . However, subsequent epitope mapping studies in cells [14] [15] [16] and preliminary structural studies in vitro 17 have suggested that IFITMs are type IV membrane proteins in which only the second hydrophobic domain is a transmembrane domain, with the C-terminus facing outside of cells. In contrast, the first hydrophobic domain of IFITM3 is suggested to function as an amphipathic helix and regulate interactions with the inner leaflet of host membranes. 18 This IFITM membrane topology model is also supported by the discovery of posttranslational modifications on IFITM3 (S-fatty-acylation of Cys71, 72 and 105, phosphorylation of Tyr20, ubiquitination of Lys24, 83, 88 and 104 as well as methylation of Lys88). 19 In mammalian cells, IFITM2 and 3 are mostly distributed through early and late endocytic vesicles and on lysosomes by immunofluorescence 1, 3, 19 and live cell imaging studies 20 . IFITM1 has a truncated N-terminus and lacks an AP2 sorting motif (YXXΦ) found in IFITM2 and 3, and shows more plasma membrane localization. 1, 3, 19 The cellular localization of the IFITMs may be a crucial determinant for their specificities towards viruses, since IFITM1 is more active against viruses that enter through the plasma membrane or early endocytic vesicles, whereas IFITM2 and 3 are more active against viruses that enter within late endocytic compartments. 1, 3, 19 In humans, individuals with the IFITM3 SNP rs12252-C allele, which encodes a predicted 21-amino acid truncation of the N-terminus (IFITM3-N21Δ), show increased morbidity and mortality to H1N1 strains of IAV. 12 The IFITM3 rs12252-C allele is more prevalent in Asian populations 21 and is associated with fatal IAV H7N9 infection 22, 23 as well as acute HIV-1 infection 24 . However, recent meta-analyses [25] [26] [27] , overexpression studies 28 and direct transcript analysis 29 have challenged the significance of this allele in humans. Further studies of IFITM3 SNPs have identified rs34481144 as another loss-of-function allele in the IFITM3 5' UTR that results in lower mRNA expression, which correlates with reduced numbers of CD8 + T cells in patient airways and increased severity of influenza-mediated illness 30 . These studies highlight that IFITMs are highly regulated in mammalian cells and important for host susceptibility to diverse pathogens.\",\n",
       "     'While expression levels, subcellular localization and mutation of IFITM1, 2 and 3 clearly modulate host susceptibility towards different viruses, the precise cellular and biochemical mechanisms by which IFITMs inhibit virus entry in IFN-stimulated cells are still unclear 1 . Overexpression studies showed that IFITMs do not affect the expression levels of host ligands/receptors for viruses (e.g. sialic acid levels) 2 or uptake of IAV particles into mammalian cells 31 , suggesting that these small membrane proteins may interfere with intermediate or late stages of virus entry rather than initial binding or internalization into host cells. Notably, overexpression of IFITM3 appears to arrest internalized virus particles within endocytic vesicles and prevent the translocation of viral contents into the cytosol. 31 Overexpression studies have also suggested that IFITM3 expands Rab7-and LAMP1positive late endocytic compartments 31 and potentially alters the localization and activity of v-ATPase 32 , without affecting lysosomal cathepsin activity 33 . Alternatively, overexpression studies have also suggested that IFITMs can influence cell-cell fusion 34 or indirectly alter intracellular cholesterol homeostasis 35 to block viral hemifusion with host membranes. However, live cell imaging of IAV entry and lipid mixing has shown that IFITMs do not affect virus hemifusion in endosomes 36 or localization to endosomes 37 , indicating a possible role in blocking fusion pore formation. Interestingly, IFITMs may also be incorporated in HIV-1 virions and other viruses to inhibit virus spreading or transferred through exosomes to propagate antiviral activity to neighboring cells. 38 The broad activity of IFITMs against different classes of viruses and perhaps even intracellular bacterial pathogens suggests a general mechanism of action that is functional in many different cell types. However, the lack of IFITM1, 2 and 3 mutant cell lines and tools for live imaging of IFITMs has limited their direct mechanistic investigation in host cells during infection as well as dissection of their regulatory mechanisms.',\n",
       "     'To address the antiviral mechanism of IFITMs and their interactions with viruses in mammalian cells, we generated human IFITM1, 2, and 3 mutant cell lines by CRISPR-Cas9 gene editing and established site-specific fluorophore labeling of IFITM3 20 for live cell imaging during virus infection. We discovered that IFITM1, 2 and 3 act cooperatively in IFN-stimulated cells against diverse viruses (IAV, VSV, DENV, WNV, ZIKV) and enhance the trafficking of both endogenous (activated EGFR) and exogenous (virus particles) cargo in late endocytic vesicles to lysosomes for degradation. Using live cell IFITM3 imaging experiments, we observed that internalized IAV particles primarily undergo lipid mixing or hemifusion with host membranes after fusion of virus-bearing vesicles with IFITM3-positive vesicles. The pre-fusion colocalization of virus particles with IFITM3-positive vesicles was specific to restricted viruses (IAV and EBOV) and was markedly decreased with loss-offunction IFITM3 mutants such as the N21Δ SNP rs12252-C allele. We also demonstrated that site-specific S-fatty-acylation of Cys72 is important for IFITM3 trafficking to incoming IAV particles. Collectively, our results showed that IFITM3 can engage vesicles bearing incoming virus particles and promote shuttling of late endocytic cargo to lysosomes for degradation, which highlights a general mechanism by which IFITMs may intercept pathogens and prevent their entry into host cells. These studies were uniquely enabled by site-specific protein labeling and imaging methods, which should also facilitate the functional analysis of other host factors involved in pathogen restriction as well as their mechanisms of regulation.',\n",
       "     'To evaluate antiviral activity of endogenously expressed human IFITMs, we employed CRISPR-Cas9 gene editing to generate human IFITM2 and 3 knockout (KO) cell lines for HeLa (cervical epithelial) cells and A549 (lung epithelial) cells, which normally express high levels of human IFITM1, 2 and 3 following IFN-stimulation (Supplementary Results, Fig. 1a ). Amongst the gRNAs we evaluated targeting exon 1 of human IFITM3 (Supplementary Results, Supplementary Fig. 1b) , gRNA3 afforded the most efficient cleavage of genomic IFITM3 (Supplementary Results, Supplementary Fig. 1c ). Western blot analysis of CRISPR-Cas9-gRNA3 transfected stable cell clones after puromycin selection yielded several HeLa and A549 clones with decreased and/or deleted IFITM2 and 3 using an N-terminally-directed antibody that cross-reacts with both proteins (Supplementary Results, Supplementary Fig. 1d ). Since human IFITM2 and 3 have high sequence identity in their first exons and also flank IFITM1 on chromosome 11, we evaluated the expression of IFITM1, 2 and 3 using isoform-specific antibodies (Fig. 1b) . From this analysis, we identified HeLa cell clones with reduced expression in IFITM2 (C4-4) or IFITM3 (C345-5), or both (C5-2, IFITM2/3-KO), as well as one clone that showed loss of IFITM1, 2 and 3 expression (C5-9) compared to Cas9-empty vector-treated HeLa cells (WT HeLa) (Fig. 1b) . For A549 cells, we only isolated IFITM2/IFITM3 double KO clones with partially reduced expression of IFITM1 (C1-3) (Fig. 1c) . A summary of the IFITM2 and 3 mutations in these HeLa and A549 mutant cell lines is included (Supplementary Results, Table 1 ).',\n",
       "     \"We next evaluated the virus susceptibility of these HeLa and A549 IFITM (1, 2 and 3) mutant cell lines with and without IFN-α treatment. Infection of the HeLa cell clones with IAV (A/PR/8/34 (H1N1) strain) showed that reduced expression of IFITM2 or IFITM3 increased virus susceptibility approximately 2-or 4-fold, respectively, compared to controls ( Fig. 1d and Supplementary Results, Supplementary Fig. 1e) . However, HeLa cell clones with complete loss of IFITM2 and 3 (C5-2, IFITM2/3-KO) or all three isoforms (C5-9) exhibited greater than 20-fold increased infection, as judged by anti-influenza A virus nucleoprotein (NP) staining ( Fig. 1d and Supplementary Results, Supplementary Fig. 1e ). The cooperative antiviral activity among IFITMs was even more pronounced in IFN-α treated cells, in which reduced expression of IFITM2 or IFITM3 alone did not have a significant effect on IAV infection, whereas deletion of both or all three isoforms again resulted in greater than 20-fold increased susceptibility ( Fig. 1d and Supplementary Results, Supplementary Fig. 1e ). No significant difference in IAV infection of clones with KO of IFITM2/3 (C5-2,) or all three isoforms (C5-9) was observed, even with IFN-α treatment ( Fig. 1d and Supplementary Results, Supplementary Fig. 1e ), suggesting that IFITM1 does not play a significant role in preventing IAV infection. In contrast, the analysis of IFITM mutant cell lines with other viruses showed that VSV and Venezuelan equine encephalitis virus (VEEV) infected naïve HeLa cell clones at similar levels, but with IFN-α treatment, reduced expression or deletion of IFITM1, 2 or 3 increased infection, particularly when all three isoforms were deleted (Supplementary Results, Supplementary Fig. 1f ). DENV also showed increased infectivity in the naïve IFITM-mutant HeLa cell lines (Supplementary Results, Supplementary Fig. 1f ). However, loss of IFITM2 or 3 expression alone in IFN-α treated cells only partially attenuated DENV infection compared to HeLa cells without IFITM1, 2 and 3 (Supplementary Results, Supplementary Fig. 1f ). YFV and o'nyong'nyong virus (ONNV) showed enhanced infection of naïve IFITM-mutant cells but were attenuated with IFN-α treatment (Supplementary Results, Supplementary Fig. 1f ), suggesting that other IFN-effectors also contribute to host restriction of these viruses. We observed similar trends with virus infections of naïve and IFN-α treated IFITM2/3-mutant A549 cells compared to wild-type (WT) controls (Supplementary Results, Supplementary Fig. 1g ). To confirm that the virus susceptibility was indeed due to reduced expression or deletion of IFITM2 or 3, we generated stable clones reconstituted with IFITM2 or 3. In the HeLa IFITM2/3-KO clone (C5-2), we generated cells expressing low, medium or near-WT levels of IFITM3 and a clone expressing only IFITM2 (Fig. 1e) . IAV infection of these HeLa cell lines showed dose-dependent antiviral activity by IFITM3 and that IFITM3 or IFITM2 expression alone was sufficient to render these IFITM2/3-KO HeLa and A549 cells resistant to virus infection (Fig. 1f) . These results show that human IFITM3 functions in a dose-dependent manner and may be redundant with IFITM2 towards some viruses, but it may act synergistically with IFITM1 to restrict a broad spectrum of viruses in IFN-stimulated cells. At endogenous levels in IFN-stimulated cells, IFITM2 and 3 are most important for IAV and VEEV, whereas all three IFITMs are involved in preventing VSV and DENV infection.\",\n",
       "     'To elucidate cellular mechanisms by which IFITMs inhibit virus infection, we evaluated the localization of endogenous IFITM3, endocytic vesicle distribution and cargo trafficking in IFN-α treated cells. Immunofluorescence analysis showed that endogenous as well as reconstituted IFITM3 is present on intracellular vesicular structures that partially colocalize with CD63-positive late endocytic compartments in IFN-α treated A549 cells (Fig. 2a) . Fluorescence imaging of endocytic markers (GFP-Rab5a, GFP-Rab7a and LAMP1-mCherry) did not show significant differences in the distribution of early endosomes, late endosomes and lysosomes between A549 WT and IFITM2/3-KO cells (Supplementary Results, Supplementary Fig. 2a,b) . We also did not observe significant enlargement or expansion of LAMP1-mCherry compartments in IFN-α treated control cells compared to IFITM2/3-KO cells (Supplementary Results, Supplementary Fig. 2a,b) , in contrast to previous IFITM3 overexpression studies 31 . Moreover, the uptake of exogenous cargo (dextran particles) was similar between IFN-α treated WT and IFITM2/3-KO cells (Supplementary Results, Supplementary Fig. 2c,d) . IFN-α treated WT and IFITM2/3-KO cells also exhibited similar labeling with fluorogenic cell-penetrating peptides that enter through the endocytic pathway 39 (Supplementary Results, Supplementary Fig. 3 ). These results collectively suggest that IFITM2/3 do not significantly regulate early endocytic events or generally alter endocytic vesicle membrane permeability.',\n",
       "     'Since early endocytic events are not affected and endogenous IFITM3 is mainly localized to late endosomes or lysosomes, we evaluated whether IFITM2/3 may affect late endocytic vesicle cargo trafficking and degradation. Our initial pulse-chase labeling studies with fluorescent dextran particles suggested that exogenous cargo trafficking to lysosomes was modestly delayed in IFN-α treated IFITM2/3-KO cells (Supplementary Results, Supplementary Fig. 2c,d) . To evaluate the trafficking and degradation of endogenous endocytic cargo, we focused on the turnover of activated epidermal growth factor receptor (EGFR), which is one of the major sialylated cell surface receptors for IAV 40 and is readily detectable in A549 cells. While the cell surface levels of EGFR were similar (Supplementary Results, Supplementary Fig. 4a ), following EGF-stimulation of IFN-α treated A549 cells, EGFR was largely degraded after 90 minutes (Fig. 2b,c) . Notably, EGFR turnover was markedly delayed in IFN-α treated IFITM2/3-KO cells, with significant levels still present after 90 minutes (Fig. 2b,c) . Stable reconstitution of IFITM3 in IFN-α treated IFITM2/3-KO cells rescued and even accelerated the degradation of EGFR (Fig. 2b,c) . In contrast, treatment of these cells with transferrin (Tf) in the same time frame (Supplementary Results, Supplementary Fig. 4b ,c), suggests IFITM2/3 do not significantly affect the turnover of activated transferrin receptor (TfR, CD71), a GPI-anchor modified membrane protein that is recycled to the plasma membrane. Analysis of lysosomal protease activity using a fluorogenic cathepsin B substrate and cysteine protease activity-based profiling showed similar levels of endolysosomal proteolytic activity in IFN-α treated A549 and HeLa cells regardless of IFITM2/3 expression levels (Supplementary Results, Supplementary Fig. 4d ,e). These data together with pulse-chase analysis of fluorescent-dextran particles suggest IFITM2/3 do not significantly alter endolysosomal protease activity but may enhance the trafficking of late endocytic cargo to lysosomes for degradation, even in the absence of virus infection.',\n",
       "     \"To investigate the effects of IFITMs on viral entry and trafficking, we employed live-cell fluorescence microscopy to monitor individual IAV particles during synchronized infection. Using a membrane-incorporated dye, 1,1'-dioctadecyl-3,3,3',3'tetramethylindodicarbocyanine (DiD), that readily labels IAV particles in vitro (Supplementary Results, Supplementary Fig. 5 ) and exhibits fluorescence dequenching upon hemifusion or full fusion between viral and endosomal membranes 41 , we were able to track viral membrane fusion, as indicated by glycoprotein-mediated lipid mixing, and monitor the trafficking of virus-fused vesicles. Because IAV is known to fuse with late endosomes, we first evaluated IAV lipid mixing and trafficking in WT and IFITM2/3-KO cells transduced to express LAMP1-GFP. These experiments were performed in HeLa cells, which exhibit less contour than A549 cells and enabled more comprehensive quantitative imaging of DiD-IAV particles by wide-field epifluorescence microscopy. IAV lipid mixing occurred almost exclusively in LAMP1-positive compartments (Fig. 3a ,b and Supplementary Results, Supplementary Movie 1). The rate at which IAV particles underwent lipid mixing was similar in WT and IFITM2/3-KO cells (Fig. 3c , black and white circles), with a t 1/2 of approximately 41 min for both. In IFN-α treated cells, the DiD-IAV dequenching rate was delayed in IFITM2/3-KO HeLa cells compared to WT cells (Fig. 3c , black and white squares). The t 1/2 for lipid mixing in IFN-treated IFITM2/3-KO HeLa cells occurred 11 min later than in WT cells. Moreover, the trafficking of DiD-IAV particles to LAMP1-positive compartments in IFN-α treated WT HeLa cells was also on average ~10 min faster, even though virus trafficking times may vary widely even in synchronized-infections (Fig. 3d ). No significant difference in trafficking of DiD-IAV particles to LAMP1-positive compartments was observed in unstimulated cells (Fig. 3d) . While IFN-α treatment reduced the relative amount of dequenched DiD-IAV particles, the percentage of dequenched DiD-IAV particles (Fig. 3e ) and the degree of colocalization with LAMP1-positive compartments were similar between HeLa WT and IFITM2/3-KO cells at 2 h post-infection (Fig. 3f) . These results show that IFN-α treatment impacts the kinetics but not total extent of viral lipid mixing in IFITM2/3-KO cells versus WT cells, which suggests that IFITM2/3 primarily influences the rate of virus trafficking to late endosomal compartments rather than the gross composition of the endosomal milieu, consistent with our data on dextran particle trafficking (Supplementary Results, Supplementary Fig. 2c ,d) EGFR (Fig. 2b ,c) and TfR turnover (Supplementary Results, Supplementary Fig. 4b ,c).\",\n",
       "     'The trafficking of IFITMs in live cells during virus infection has not been previously described. Immunofluorescence and electron microscopy studies have suggested IFITM3 is localized around IAV and VSV 16, 33, 35, 42 as well as Mtb-containing vesicles 9 . Indeed, our immunofluorescence studies also showed that endogenous IFITM3 in IFN-α treated A549 cells partially colocalized with internalized IAV particles visualized by anti-IAV NP antibody staining (Supplementary Results, Supplementary Fig. 6a ) and perhaps even surrounded virus particles when imaged with higher resolution structured illumination microscopy (Supplementary Results, Supplementary Fig. 6b ). However, these studies do not reveal whether IFITMs interact with incoming virus particles or affect their trafficking within endocytic compartments.',\n",
       "     'To address this key aspect of IFITMs function during virus entry, we recently optimized sitespecific fluorophore labeling of proteins using amber codon suppression-mediated unnatural amino acid mutagenesis to evaluate IFITM3 trafficking in live mammalian cells 20 . Briefly, the transfection of mammalian cells with plasmids encoding with HA-IFITM3-F8-TAG with Mm-PylRS-AF/Pyl-tRNA CUA plasmids enables site-specific incorporation of transcyclooct-2-ene-lysine (TCOK) and subsequent bioorthogonal labeling with BODIPYtetrazine (BODIPY-Tz) (Supplementary Results, Supplementary Fig. 7) . Importantly, HA-IFITM3-F8-TCOK labeled with BODIPY-Tz retains antiviral activity towards IAV (Supplementary Results, Supplementary Fig. 8a ). The analysis of IFITM3 expression levels by α-IFITM3 antibody staining showed that HA-IFITM3 site-specifically labeled with TCOK in IFITM2/3-KO cells yielded slightly lower levels of total protein compared to WT HeLa cells + IFN-α by western blot and flow cytometry analysis (Supplementary Results, Supplementary Fig. 8b ,c) and similar pattern of vesicle staining by immunofluorescence (Supplementary Results, Supplementary Fig. 8d ). These results demonstrate that TCOKlabeled IFITM3 expression levels from transient transfection are within the physiological range of endogenous IFITM3 protein levels and exhibit comparable subcellular localization and antiviral activity.',\n",
       "     'We then performed these imaging studies in IFITM2/3-KO cells, which enabled us to monitor all IFITM3-positive compartments and avoid potential heterotypic interactions with endogenous IFITMs. Live imaging of IFITM2/3-KO cells revealed that relatively little BODIPY-IFITM3 colocalized with Rab5 at steady-state (Manders correlation coefficient (MCC) 0.45 ± 0.13) (Supplementary Results, Supplementary Fig. 9 ). Instead, significantly greater overlap of BODIPY-IFITM3 with Rab7 (MCC 0.98 ± 0.06) and LAMP1 (MCC 0.97 ± 0.03) was observed (Supplementary Results, Supplementary Fig. 9 ), which shows that IFITM3 largely resides in late endocytic vesicles and is consistent with previous immunofluorescence 9, 16, 33, 35 and live cell imaging studies of IFITM3 in WT HeLa cells 20 . Using DiD-labeled IAV and epifluorescence imaging, we observed BODIPY-IFITM3 colocalization with the majority of internalized virus particles prior to lipid mixing (Fig. 4a,b and Supplementary Results, Supplementary Movie 2), with another 20 percent of DiDdequenching events occurring in compartments without detectable BODIPY-IFITM3 (Fig.  4c ). In these latter events, BODIPY-IFITM3 vesicles were observed to colocalize with DiDdequenched puncta later in time, where secondary DiD dequenching events could occasionally be observed ( Fig. 4d and Supplementary Results, Supplementary Movie 3). This secondary DiD-dequenching likely represents further dye diffusion due to endosome fusion with an IFITM3-positive vesicle and expansion of the limiting membrane. Reintroduction of IFITM3 into HeLa IFITM2/3-KO cells did not significantly alter the total percentage of IAV particles undergoing lipid mixing by 2 h post-infection (Supplementary Results, Supplementary Fig. 10a ). Consistent with our previous experiments (Fig. 3) , these results show that while virus particles may fuse with IFITM3-positive vesicles, IFITM3 does not significantly inhibit IAV lipid mixing or hemifusion with endocytic membranes. More importantly, IFITM3 colocalized with nearly 80 percent of DiD-IAV particles at the time of lipid mixing (Fig. 4e ), but this was markedly decreased with VSV particles pseudotyped with the glycoprotein complex (GPC) of Lassa virus (LASV), a late-penetrating arenavirus that is not restricted by IFITMs 2 (Fig. 4e and Supplementary Results, Supplementary Movie 4). In these experiments, both IAV and LASV GPC-pseudotyped VSV still trafficked to late endocytic compartments, as indicated by colocalization with LAMP1 (Fig. 4e) , and the extent of colocalization of both viruses with IFITM3 at 1 hour post-infection was similar (Supplementary Results, Supplementary Fig. 10b ). However, most LASV GPC-bearing particles dequenched before their endosomes acquired IFITM3 (Fig. 4f) , while IAV dequenching generally occurred shortly after colocalization with IFITM3 (Fig. 4f) . To further investigate the specificity of IFITM3 trafficking towards restricted viruses, we analyzed VSV particles pseudotyped with the glycoprotein of Ebola virus (EBOV), a late endosome/lysosome entering virus that is restricted by IFITM3 33, 42 . Like IAV, the majority of DiD-EBOV particles colocalized with IFITM3 prior lipid mixing (Fig. 4e,f) . These results demonstrate for the first time that incoming virus particles interact with IFITM3-positive vesicles prior to fusion and that this phenomenon is specific to restricted viruses such as IAV and EBOV.',\n",
       "     'To evaluate the features of IFITM3 that are required for trafficking to incoming IAV particles, we analyzed loss-of-function and key posttranslational modification mutants. In particular, we evaluated the rs12252-C allele of IFITM3 that yields an N21Δ truncation mutant and is suggested to affect host cell susceptibility to IAV infection. 12, 43 Stable expression of IFITM3-N21Δ in A549 IFITM2/3-KO cells revealed more peripheral plasma membrane distribution (Supplementary Results, Supplementary Fig. 11a ), lower protein levels and reduced antiviral activity against IAV compared to WT IFITM3 (Supplementary Results, Supplementary Fig. 11b,c) , consistent with previous studies 12, 43 . Moreover, IFITM3-N21Δ also exhibited decreased antiviral activity towards IAV and ZIKV compared to similar levels of full length IFITM2 or IFITM3 in HeLa IFITM2/3-KO (C5-2) cells ( Fig.  5a-c) . To analyze IFITM3-N21Δ trafficking during IAV infection, we generated HA-IFITM3-N21Δ-V93-TAG construct for site-specific fluorophore labeling with BODIPY-Tz. While wide-field epifluorescence microscopy showed the BODIPY-labeled IFITM3 constructs were primarily in intracellular vesicles (Supplementary Results, Supplementary  Fig. 12) , confocal fluorescence microscopy showed that HA-IFITM3-N21Δ-V93-BODIPY exhibited slightly more co-staining with a plasma membrane marker compared to the HA-IFITM3-F8-BODIPY and HA-IFITM3-V93-BODIPY constructs (Supplementary Results, Supplementary Fig. 13a,b) . For DiD-IAV imaging studies, we observed a 55 percent reduction in the number of IAV particles colocalized with IFITM3-N21Δ at the time of lipid mixing versus WT IFITM3 (Fig. 5d-f) , indicating that the truncated protein is less likely to be incorporated into, but not completely absent from, endosomal compartments supporting viral fusion (Fig. 5d-f ). Reintroduction of WT IFITM3 and IFITM3-N21Δ into HeLa IFITM2/3-KO cells also did not significantly alter the total percentage of IAV particles undergoing lipid mixing by 2 h post-infection (Supplementary Results, Supplementary Fig.  10c ). These results demonstrate that a quantitative difference in IFITM3 trafficking to incoming virus particles is correlated with altered steady-state localization and antiviral activity, further suggesting that direct engagement or fusion of IFITM3-positive vesicles with pathogens is important for its cellular mechanism of action.',\n",
       "     'To further investigate mechanisms that control IFITM3 trafficking to virus particles, we analyzed site-specific mutants of S-palmitoylation. 14, 44, 45 Previous studies from our group demonstrated that Cys72 on human IFITM3 is the most prominent site of Spalmitoylation 45, 46 and is crucial for antiviral activity towards IAV 45, 47 as well as DENV 47 . However, the mechanism by which site-specific S-palmitoylation regulates IFITM3 antiviral activity is unclear, since similar levels of steady-state protein expression and cellular localization patterns were observed with WT IFITM3 and individual Ala mutants at Cys71, 72 and 105. 45 We therefore generated F8-TAG constructs of these IFITM3 Cys-to-Ala mutants and analyzed their trafficking properties during IAV entry. These IFITM3 Cys-to-Ala mutants were expressed at similar levels to WT IFITM3-F8-TAG and showed decreased levels of S-fatty-acylation in HeLa IFITM2/3-KO (C5-2) cells, particularly with the Cys72-Ala (C72A) mutant (Supplementary Results, Supplementary Fig. 14a,b) . Although the relative levels of site-specific S-fatty-acylation on these TAG-modified constructs of human IFITM3 are less dramatic than our previous studies with murine IFITM3, 45 Cys72 is still the most prominent site of modification. 46 Importantly, mutation of Cys72 to Ala most significantly decreased the antiviral activity of IFITM3 towards IAV, whereas Cys71 and 105 Ala mutants retained more activity (Supplementary Results, Supplementary Fig. 14c) , consistent with previous studies from our group 45 and others 47 . 45, 47 The steady-state localization of these BODIPY-labeled constructs was similar to WT IFITM3 (Supplementary Results, Supplementary Fig. 9 and 15 ). However, the trafficking and colocalization of the IFITM3-C72A mutant with dequenched DiD-IAV particles were significantly decreased to ~20 percent compared to WT IFITM3 or Ala mutants at Cys71 and 105 ( Fig. 6 and Supplementary Results, Supplementary Fig. 16 ). In comparison to WT, IFITM3-C72A mutant trafficking to DiD-IAV particles was also delayed (Supplementary Results, Supplementary Fig. 14d) . These results show that while S-fatty-acylation does not significantly affect IFITM3 steady-state cellular distribution, site-specific S-palmitoylation of IFITM3 at Cys72 is important for its rate of trafficking to IAV particles during infection, which was only revealed by site-specific fluorophore labeling and live cell imaging.',\n",
       "     'IFITM1, 2 and 3 are important IFN-stimulated effectors that prevent diverse virus infections in a variety of vertebrate animals and are emerging as key virus susceptibility factors in humans. Nonetheless, the precise cellular and biochemical mechanisms of action for these small membrane proteins have been challenging to elucidate. By generating single and multiple IFITM-deficient mammalian cell lines, we demonstrated that IFITM2 and 3 may be redundant and act synergistically with IFITM1 towards different restricted viruses in naïve and IFN-α stimulated cells. Furthermore, we demonstrated that these IFITMs function in a dose-dependent fashion and do not affect early stages of exogenous cargo or pathogen uptake, but rather enhance the trafficking and turnover of late endocytic cargo to lysosomes. In the absence of infection, IFITM2/3-deficient cells stimulated with IFN-α showed slower rates of EGFR turnover. During IAV infection, we observed that fluorescently-labeled IAV particles enter host cells and undergo hemifusion at similar rates in WT and IFITM2/3deficient cells, consistent with previous siRNA knockdown studies of IFITM3 36 . However, in IFITM2/3-KO cells we observed that fluorescently-labeled IAV particles traffic approximately 10 minutes more slowly on average to lysosomes. Our findings suggest that beyond potentially inhibiting virus pore formation 36 , IFITM2/3 may prevent virus entry by altering rates of virus-endosome fusion and/or accelerating the trafficking of endosomal cargo to lysosomes for destruction.',\n",
       "     'While previous studies have correlated the cellular distribution of IFITM1, 2 or 3 with their antiviral activity, their trafficking and interactions with viruses during infection were unknown. Using site-specific fluorophore labeling of IFITM3 in mammalian cells, we were able to directly visualize IFITM3 trafficking with fluorescently-labeled virus particles and observed for the first time that IFITM3-positive vesicles fuse with incoming virus-bearing vesicles prior to hemifusion. Importantly, the IFITM3-positive vesicle fusion and colocalization prior to hemifusion were specific to restricted viruses such as IAV and pseudotyped EBOV, but not LASV-pseudotyped virus particles, and colocalization was significantly reduced with loss-of-function mutants such as IFITM3-N21Δ. The ability of IFITMs to engage endosomes bearing incoming virus particles and enhance their trafficking to late endocytic compartments provides an important mechanism to explain the specificity of IFITMs against different viruses and potentially predicts points of viral entry into host cells. Different viruses may therefore initiate fusion in different subsets of late endo/ lysosomal compartments and exhibit differential sensitivity to IFN effector expression levels and trafficking properties. These interactions are not readily apparent from bulk viral entry studies, which highlight the utility of our site-specific protein labeling and live singleparticle imaging approaches that should facilitate future studies on virus-host factor dynamics.',\n",
       "     'Our ability to image IFITM3 trafficking in live cells has not only revealed interactions with pathogens during infection but also uncovered how posttranslational modifications regulate the function of these small membrane proteins. We initially discovered IFITM3 S-fattyacylation 14, 44 , determined endogenous levels 45 and specific sites of modification 45, 46 , as well as confirmed its modification with palmitic acid 46 . While these results have also been confirmed by others [47] [48] [49] and also shown for IFITM5 50 , how S-palmitoylation at Cys72 regulated IFITM3 antiviral activity was unclear from steady-state localization studies. Using site-specific fluorophore labeling and live cell imaging during infection, we now observe that inhibition of S-palmitoylation at Cys72, but not Cys71 or 105, by site-directed mutagenesis impairs IFITM3 trafficking to incoming IAV particles and thus reveals how site-specific S-palmitoylation regulates IFITM3 antiviral activity. The chemical imaging approach described here has uncovered important aspects of how IFITMs engage pathogens during infection, as well as key regulatory mechanisms, and should facilitate the analysis of other host factors involved in pathogen restriction. Nonetheless, key questions still remain regarding the cellular pathway and biochemical mechanism by which these IFN-effectors prevent pathogen entry and accelerate trafficking of incoming viral particles to lysosomes for destruction. Our ability to conduct site-specific labeling IFITM3 with unique chemical reactivity should enable additional imaging studies, discovery of specific protein-protein interaction partners and reconstitution of lipidated isoforms for biochemical and structural studies in the future.',\n",
       "     \"Both HeLa and A549 were ordered from ATCC and cultured in Dulbecco's Modified Eagle's Medium (DMEM, Gibco 12800-017) containing 10% fetal bovine serum (FBS, Hyclone SN30087.02). The IFITM1, 2, 3 antibodies were ordered from Cell Signaling Technology (13126S), Proteintech group (66137-1-Ig) and Abgent (AP1153a). Anti-IFITM3 (polyclonal) 10088-604 was from VWR International. EGFR antibody [E235] was from Abcam (ab32077). TfR antibody was from R&D systems (AF2474). AlexaFluor 488-CD63 (sc-5275) was from Santa Cruz Biotechnology. Influenza A virus nucleoprotein antibody [AA5H] (ab20343) was from Abcam. AlexaFluor 647 Antibody Labeling Kit (A20186) was ordered from Life Technologies. The secondary antibodies HRP-conjugated goat anti-mouse IgG (HCL) (115-035-003) and HRP-conjugated goat anti-rabbit IgG (HCL) (111-035-003) were purchased from Jackson ImmunoResearch. Sheep IgG horseradish peroxidaseconjugated antibody (#HAF016) was ordered from Fisher Scientific. Anti-HA antibody conjugated to AlexaFluor-594 was purchased from Life Technologies. Anti-HA HRPconjugated antibody was ordered from Roche. Anti-calnexin (ab22595) was from Abcam. Dextran-AlexaFluor 488 (D22910), dextran-pHrodo-red (P10361), transferrin-AlexaFluor 647 (T23366) and recombinant human EGF (10605HNAE25) were from Life Technologies. Human holo-Transferrin (T0665) was from Sigma Aldrich. Human interferon-α (IFN-α, 8927SC) was from Cell Signaling Technology. Influenza A/PR/8/34 (H1N1) (10100374) was from Charles River Laboratories. Magic Red Cathepsin B Assay Kit (937) was from Immunochemistry Technologies. Bafilomycin A1 (ab120497) was from Abcam. 6 -TAMRA, Special Formulation (6-carboxytetramethylrhodamine, AS-81122) was from ANASPEC. QuikChange II Site-Directed Mutagenesis Kit (#200523) was from Agilent Technologies. T7 Endonuclease I (M0302S) was from New England Biolabs.\",\n",
       "     'pEF-IFITM1, 2, 3 were cloned by PCR amplification and inserted into a pEF6-BSD vector. All mutants of IFITM3 were generated by using the QuikChange Multi Site-Directed Mutagenesis Kit (Stratagene). The pCAS9 plasmid and gRNA basic vector (pGL3-U6) were gifts from Dr. Wensheng Wei (Peking University) 51 .',\n",
       "     'Cells were lysed for genome extraction after transfection with gRNA and cas9 plamsids for 60-72 h. The gRNA target site was amplified by using genome PCR primers (hIFITM3-GF1: AGGAAACT GTTGAGAAACCGAA; hIFITM3-GR1: GCTAGTGGATAGCCGGGGAC). The PCR products were gel purified, followed by denaturation and annealing. The annealing mixture was treated with T7 endonuclease I for 15 min at 37°C, then the cleavage efficiency was monitored by gel electrophoresis.',\n",
       "     'The gRNA plasmid was constructed by inserting gRNA oligos into a pGL3-U6 vector through Golden Gate ligation. Cells were transfected with gRNA, pCas9 and pcDNA6-Puro with a ratio of 1:1:0.1 (ug). After 48 h, cells were detached and split into two parts. One part was lysed for T7E1 assay to check the cleavage efficiency of specific gRNA; another part was reseeded into six-well plates at different dilutions. Puromycin was added to select the positive clones. After selection for one week, the separated cell colonies were picked out into a new 24-well plate. New cell colonies were expanded and analyzed by western blot and genome sequencing to evaluate the knockout efficiency.',\n",
       "     'For western blot analysis, cells were lysed with sodium dodecyl sulfate (SDS) lysis buffer (2% SDS, 50 mM Tris, 2 mM EDTA) and boiled 10 min at 98°C. For immunoprecipitation, cells were lysed with Brij buffer (0.1 mM triethanolamine (TEA), 150 mM NaCl, 1% BrijO10 (pH7.4)) containing EDTA-free protease inhibitor mixture, then incubated with anti-HA affinity beads (Sigma). All primary antibodies were used at a 1:1000 dilution, and secondary antibody was used at 1:5000.',\n",
       "     \"For genomic sequencing of IFITM clones, total genome was extracted by genome extraction kit from QIAGEN. The target genomic site was amplified by gene-specific primers. The amplified fragments were added dATP at 3' end by taq polymerase and then ligated with T vectors. After transformation, ten bacteria colonies were picked randomly and sent for sequencing.\",\n",
       "     'A549, HeLa, Vero (WHO) and Huh-7.5 cells were maintained in DMEM supplemented with 10% FBS. A549 and HeLa cells were used in functional studies (viral replication assays) whereas Vero and Huh-7.5 cells were used for virus production and virus titration. All cell lines tested negative for contamination with mycoplasma and were obtained from ATCC (with the exception of Huh-7.5).',\n",
       "     'HeLa or A549 cells were infected with influenza A/PR/8/34 virus (H1N1) at a MOI of 2.5 for 12 h. Infected cells were washed with PBS and harvested using 0.25% trypsin-EDTA. Cells were fixed in 3.7% paraformaldehyde (PFA) for 10 min and permeated with 0.1% Triton X-100 for 10 min. Cells were stained with anti-influenza nucleoprotein (NP) antibody (1:333) directly conjugated to AlexaFluor 647 using a 100 μg antibody labeling kit (Invitrogen). All antibodies were diluted in 0.1% Triton X-100 in PBS, and cells were stained for 20 min. Cells were washed twice with 0.1% Triton X-100 in PBS after each antibody treatment. PBS was used for final resuspension of cells for cytometric analysis using a FACS Canto II flow cytometer (BD Biosciences).',\n",
       "     'HeLa or A549 cells were seeded into 24-well plates (5×10 4 cells/well) and incubated overnight (16 h) in the presence or absence of IFN-α1 at a concentration of 100 μg/mL. Next, cells were washed with Opti-MEM (Gibco) prior to infection. Viruses were diluted in Opti-MEM at the indicated MOIs, and cells were inoculated for 2 h at 37°C. Following incubation, viral inoculum was removed, and cultures were washed three times with Opti-MEM before DMEM was re-added. Treatment with IFN-α1 was continued throughout experiments. Cells infected with GFP-tagged viruses were harvested at indicated time points to measure infection by flow cytometry. The generation of viral stocks for the following viruses has been previously described: YFV-Venus 52 (derived from YF17D-5′C25Venus2AUbi), WNV-GFP 53 (derived from pBELO-WNV-GFP-RZ ic), DENV-GFP 54 (derived from IC30P-A, a full-length infectious clone of strain 16681), VEEV-GFP 55 (derived from pTC83-GFP infectious clone), ONNV-GFP 56 (derived from infectious clone pONNV.GFP) and VSV-GFP (generously provided by John Rose, Yale). ZIKV (PRVABC59 obtained from the CDC, Ft. Collins) was amplified in Huh-7.5 cells and titered by plaque assay on Huh-7.5 cells. Experiments with WNV were carried out in biosafety level 3 (BSL3) containment in compliance with institutional and federal guidelines. Infected cells were harvested into 300 μl Accumax cell dissociation medium (eBioscience) and transferred to a 96-well block containing 300 μl 4% PFA. Cells were pelleted at 930 RCF for 5 min at 4°C, resuspended in cold PBS containing 3% FBS, and stored at 4°C until FACS analysis. Cells infected with ZIKV were harvested as described above and subsequently stained using a monoclonal antibody for flavivirus group antigen 4G2 (Millipore) at 1:500 as a primary antibody and anti-rabbit AlexaFluor594 at 1:1000 as secondary antibody. In addition to cells, supernatants from ZIKV infections were harvested to determine viral titers by standard plaque assay performed on Huh-7.5 cells. All samples were analyzed using the LSRII flow cytometer (BD Biosciences) equipped with a 488 nm and 561 nm laser for detection of GFP, YFP (venus) and RFP. Data were analyzed using FlowJo software (Treestar) with a 0.1% compensation matrix.',\n",
       "     'Cells were grown on glass coverslips in six-well plates. After treatments, cells were washed with PBS twice, fixed with 4% PFA for 10 min, permeabilized with 0.2% Triton X-100 for 10 min, blocked with 1% bovine serum albumin (BSA, Roche, 735094) for 1 h, and incubated with primary antibody (1:100 diluted in 1% BSA) for 1.5 h, followed by secondary antibody for 1 h at room temperature. Finally, the coverslips were mounted onto slides using mounting medium containing DAPI, and the cells were examined by inverted LSM 780 laser scanning confocal microscope (Zeiss).',\n",
       "     'Cells were serum-starved for 45 min at 37°C in DMEM. Cells were incubated on ice for 5 min followed by addition of 50 μg/mL Alexa647-conjugated transferrin (Invitrogen) in DMEM. After 30 min on ice, cells were transferred to 37°C for 7 min or 20 min, pelleted, washed in ice-cold PBS, acid-washed (0.1 M glycine and 150 mM NaCl at pH 3) twice, washed with PBS once, and fixed (wt/vol 3% PFA and 4% sucrose in PBS) before flow cytometric analysis, as described above.',\n",
       "     'Synthesis of dfTAT by Yen-Chih Wang was as previously described 39 . After pretreatment with or without 100 ug/ml IFN-α for 16 h, cells were incubated with 2 uM dfTAT in DMEM for the indicated time, placed on ice and washed by ice-cold PBS three times, and fixed (wt/vol 3% PFA and 4% sucrose in PBS) before flow cytometric analysis or fluorescence microscopy.',\n",
       "     'Cells were cultured to 80% confluency, washed twice with PBS and starved in serum-free DMEM for 2 h at 37 °C to maximize surface epidermal growth factor receptor (EGFR), then pretreated with 10-25 μg/ml cycloheximide for 1 h in serum-free DMEM, preventing synthesis of new EGFR during stimulation by EGF. Immediately after, cells were continuously stimulated with 100 ng/ml EGF for 15, 30, 60, or 120 min in the presence of cycloheximide. The levels of EGFR and tubulin were determined by western blotting. For cell surface staining experiments, cells were incubated with primary anti-EGFR antibody on ice for 40 min and washed three times with PBS. AlexaFluor 647-conjugated secondary antibodies were then incubated with the cells for 40 min on ice and washed three times with PBS. Cells were suspended in 2% FBS in PBS and immediately analyzed via flow cytometry.',\n",
       "     'For TfR turnover experiments, cells were cultured to 80% confluency, washed twice with PBS and starved in serum-free DMEM for 2 h at 37 °C, then pretreated with 10-25 μg/ml cycloheximide for 1 h in serum-free DMEM, preventing synthesis of new transferrin receptor (TfR). Immediately after, cells were continuously stimulated with 20 μg/ml Tf for 0, 30, 60, 90 or 180 min in the presence of cycloheximide. The levels of TfR, IFITM3 and tubulin were determined by western blotting.',\n",
       "     'Cells were incubated for 4 h in culture medium containing 25 ug/ml pHrodo-red dextran followed by a 20 h chase in fluorophore-free medium to promote lysosomal accumulation of dextran. The cells were then incubated in medium containing 50 ug/ml dextran-AlexaFluor 488 for 10 min at 37°C before replacement with fluorophore-free medium. At the time points noted, cells were fixed with ice-cold 4% PFA for immunofluorescence staining.',\n",
       "     'Lysosomal protease activity assays.',\n",
       "     'Cathepsin B activity was assayed using the cathepsin B activity kit following the protocol provided by the manufacturer. After treatment with IFN-α for 16 h with or without Bafilomycin A1, cells were incubated with Magic Red (1:26) for 30-60 min at 37°C before being washed twice with PBS. Then cells were fixed using 4% PFA and analyzed by flow cytometry.',\n",
       "     'Activity-based labeling of cathepsins (Vergent Bioscience, Pan Cathepsin probe) was performed as previously reported with minor modifications 57 . Briefly, cells were seeded 24 h prior to labeling, and cells were activated with IFN-α 16 h prior to labeling. Media was replaced, and cells were treated with 1 μM IABP ™ Pan Cathepsin Probe for 2 h. Cells were washed with PBS and lysed on ice with a hypotonic lysis buffer (50 mM PIPES pH 7.4, 10 mM KCl, 5 mM MgCl 2 , 2 mM EDTA, 4 mM DTT, 1% NP-40). Cell debris was removed by spinning down lysates at 500 × g for 5 min at 4 °C. Supernatants were then mixed with 4× sample loading buffer, and 70 μg of total protein were analyzed by SDS-PAGE. The gel was washed twice with deionized water before in-gel fluorescence analysis on a BioRad ChemiDoc MP Imaging System and Coomassie staining or transfer for western blot analysis.',\n",
       "     \"Purified influenza virus A/PR/8/34 (H1N1) and recombinant VSV expressing LASV GPC (generated as previously described [86]) were labeled with self-quenching concentrations of the lipophilic dye 1,1'-dioctactadecyl-3,3,3',3'-tetramethylindodicarbocyanine (DiD, Life Technologies). Purified virus (1 mg/ml) in PBS was incubated with 50 μM DiD while agitated for 1 h at 4°C. Virus was separated from excess dye by ultracentrifugation through a 10% sucrose cushion for 2 h at 107,000 × g and 4°C using a SW41 rotor (Beckman Coulter).\",\n",
       "     'Labeled virus pellets were resuspended in PBS at a viral protein concentration of 1 mg/ml, aliquoted, and stored at −80°C until use.',\n",
       "     'For live cell imaging studies, HeLa cells were seeded onto 35 mm glass bottom dishes to be at approximately 70% confluency for imaging the next day. Following adherence, cells were transfected with the plasmid of interest containing a HA-IFITM3-TAG variant (1 μg per dish) and the Mm-PylRS-AF/Pyl-tRNA CUA plasmid (1 μg per dish) using 3 μL Viafect (Promega) in complete cell growth media containing unnatural amino acids (TCOK). After overnight incubation, cell media were changed into fresh cell growth media without TCOK. After another 2 h culture at 37 °C/5% CO 2 , cells were labeled with tetrazine-fluorophores (250 nM) in FluoroBrite DMEM (Life Technologies) for 30 min at 37 °C and washed with complete cell growth media 3 times over 1 h.',\n",
       "     \"For wide-field epifluorescence microscopy, cells were transduced with CellLight vectors (Life Technologies) for early endosomes (RFP-Rab5), late endosomes (RFP-Rab7), or lysosomes (RFP-LAMP1) approximately 18 h prior to imaging according to the manufacturer's instructions. Live-cell microscopy was performed as previously described with an AxioObserver.Z1 wide-field epifluorescence microscope (Zeiss) equipped with a 40×/1.3N.A. objective, DAPI/GFP/Texas Red/Cy5 filter set, and heated environmental enclosure maintained at 37°C. HeLa cell monolayers were seeded onto fibronectin-coated 35 mm glass coverslip dishes (MatTek) 24 h prior to experiments. Cells were chilled on ice for several minutes before spinoculation of DiD-labeled virus onto monolayers at 1500 × g and 6°C for 20 min. Unbound particles were removed by five washes with cold PBS, and 500 μl cold imaging buffer (140 mM NaCl, 2.5 mM KCl, 1.8 mM MgCl 2 , 20 mM HEPES, 5 mM sucrose, 2 μM Hoechst 33342, and 2% FBS) was added to cover the cells. The dish was immediately mounted on the microscope objective and focused. The coverslip dish was then flooded with 1.5 ml warm imaging buffer to mark the start of experiments (t = 0). Images were acquired every 10 s over the duration of the experiments using a single Z-section, which encompassed nearly all cell-associated particles.\",\n",
       "     \"For confocal microscopy, Hela cells were seeded in 35 mm glass bottom dishes (ibidi) and cultured overnight. The next day cells were transfected with the plasmid of interest containing a TAG codon (1 µg per dish), PylRS/Pyl-tRNA plasmid (1 µg per dish) using 6 µL Lipofectamine 3000 in complete cell growth media containing 2'a-TCOK. After 16 h incubation, cell media were changed into fresh cell growth media without UAA. After another 6 h culture at 37 °C/5% CO2, cells were labeled with tetrazine-BODIPY (500 nM) in FluoroBrite DMEM (Life Technologies)/10% FBS for 0.5 h 37 °C and washed with FluoroBrite DMEM (Life Technologies)/10% FBS 4 times over 2 h. Finally, cells were stained with NucBlue Live Cell Stain (Life Technologies) for 20 min and imaged in FluoroBrite DMEM/10% FBS with confocal microscopy. For plasma membrane staining, cells were stained with CellMask Red (1:1000, Life Technologies) in Live Cell Imaging Solution (LCIS) for 5 min at 37 °C and washed with LCIS three times before staining with NucBlue Live Cell Stain. Cells were imaged on an inverted LSM 780 laser scanning confocal microscope (Zeiss) with a Zeiss Plan-Apochromatic 63X/1.4 oil immersion objective. The microscope was equipped with a stage-top incubator set at 37 °C/5% CO2 for live cell imaging. Hoescht were excited with a 405 nm laser with emission spectra collected between 410 nm and 480 nm. Tz-BODIPY were excited with a 488 nm laser with emission spectra collected between 490 nm and 550 nm. CellMask Red were excited with a 561 nm laser with emission spectra collected between 570 nm and 620 nm. Images were acquired with the ZEN blue 2012 software (Zeiss) and analyzed by ImageJ (NIH). Pearson's correlation coefficients were calculated in ImageJ using the Coloc 2 plugin.\",\n",
       "     'Image analysis and single-particle tracking were performed using Volocity software (PerkinElmer) as previously described 41 . Image files were not manipulated, apart from minor adjustments in brightness and contrast. Viral puncta were thresholded by initial intensity and size. Puncta falling outside the range of 0.25 to 1 μm 2 expected of individual DiD-labeled virions were excluded from single-particle analysis. Virions were considered colocalized with LAMP1 or IFITM3 only if the cellular marker punctum exceeded the background signal by 30% or more and if the GFP or BODIPY and DiD puncta cotrafficked with greater than 70% overlap of signals. Mean measurements (± standard deviations) were derived from three separate experiments, unless otherwise indicated.',\n",
       "     'For western blot analysis, Hela cells were seeded in 6 well plate and cultured overnight. ',\n",
       "     'IFITM2/3 KO HeLa cells were seeded in 12 well plates (Corning) and cultured overnight. Cells were cotransfected with HA-hIFITM3 constructs (1 μg/well) and the Mm-PylRS-AF/ Pyl-tRNA plasmid (1 μg/well) using 3 μl Lipofectamine 3000 in 1 ml of complete cell growth media containing 10 ul of 100 mM BocK (final concentration 1 mM). After 16 h, cells were infected with influenza virus A/PR/8/34 virus (H1N1) with MOI of 5. After 6 h of infection, cells were trypsinized and collected in cluster tubes (Corning). Cells were washed twice with PBS and then fixed with 400 ul of PBS with 4% PFA for 10 min. The fixed cells were permeabilized with 200 ul of 0.2% saponin in PBS for 10 min and then blocked with 200 uL 0.2% BSA and 0.2% saponin in PBS for 10 min. Cells were treated with antiinfluenza NP antibody conjugated to AlexaFluor-647 and anti-HA antibody conjugated to Alexafluor-594 (1:250) in PBS with 0.02% saponin. After three washes with PBS, cells were resuspended in 150 uL PBS with 0.2% BSA and 0.02% saponin. The samples were analyzed by flow cytometry (BD LSRII). All samples were first gated by HA-positive staining, indicating successful transfection, and then NP-positive percentage of NP-positive staining, indicating successful infection. The HA-tag epitope is derived from an H3 influenza virus strain and is not present in the PR8 strain of H1N1 influenza virus. Data analysis was performed using FLowJo software.',\n",
       "     'Metabolic labeling of cells with the alkyne-palmitic acid reporter alk-16 was performed as previously described 58 with some modifications. Alk-16 and az-rho was synthesized as previously reported 58 . IFITM2/3 KO HeLa cells were transfected with HA-hIFITM3 constructs as described above. After 16 h, cells were incubated with 50 μM alk-16 in DMEM containing 10% FBS for 2 h. Cells were harvested, washed once with PBS and lysed in 1% Brij 97 (Sigma) in 50 mM TEA, 150 mM NaCl pH 7.4, 1X Roche protease inhibitor, and 1,500 units/ml benzonase (EMD). Protein concentrations were determined by the BCA assay. For immunoprecipitation, 150 μg of total protein was added to 20 μl of anti-HA antibody-conjugated agarose (Sigma) in a total volume of 150 μl and rocked at 4 °C for 1 h. Agarose beads were washed by resuspension in 500 μl of 50 mM HEPES buffer (containing 150 mM NaCl, pH 7.4) by centrifugation at 3,500 × g for 30 s. The beads were then resuspended in 45 μl of the above buffer and 5 μl of CuAAC reactant solution (0.5 μl of 10 mM azido-rhodamine (final concentration 100 μM), 1 μl of 50 mM freshly prepared CuSO4·5H2O in H2O (final concentration 1 mM, Sigma), 1 μl of 50 mM freshly prepared TCEP (final concentration 1 mM) and 2.5 μl of 10 mM Tris[(1-benzyl-1H-1,2,3-triazol-4yl)methyl]amine (TBTA) (final concentration 500 μM)) was added. The samples were rocked at room temperature for 1 h and washed twice with RIPA buffer. Laemmli sample buffer (20 μl) was added to the samples (1.0:1.3 ratio of buffer to sample), which were heated for 10 min at 95 °C and separated by gel electrophoresis. In-gel fluorescence scanning was performed using a Bio-Rad ChemiDoc MP Imaging System. Western blots for HA-tagged proteins were performed using an anti-HA HRP conjugated antibody (1:1,000; Roche). Quantification of band intensities in fluorescence gels and western blots were performed with Image Lab (Bio-Rad). Data from three biological replicates were quantified and averaged for plotting. independent experiments. (e) Stable reconstitution with IFITM2 and 3 in HeLa IFITM2/3-KO cells (C5-2). (f) IAV infection of IFITM2 and 3 reconstituted HeLa and A549 cell clones stimulated with IFN-α (100 μg/mL). Experiments were performed and data were analyzed as described in (d). ']},\n",
       "   'document_vector_': [-0.0448842794,\n",
       "    0.0606362745,\n",
       "    -0.0454736352,\n",
       "    0.0413032584,\n",
       "    -0.0542674884,\n",
       "    0.0380699597,\n",
       "    -0.0243217852,\n",
       "    -0.0528506972,\n",
       "    -0.0232241601,\n",
       "    -0.0308010597,\n",
       "    -0.015989989,\n",
       "    0.0157532,\n",
       "    -0.0164861456,\n",
       "    -0.0388870873,\n",
       "    -0.00779197738,\n",
       "    -0.0353838876,\n",
       "    -0.00102542131,\n",
       "    0.0263715498,\n",
       "    -0.0415910743,\n",
       "    -0.00599696487,\n",
       "    0.0421551466,\n",
       "    0.0330177695,\n",
       "    0.0305582378,\n",
       "    -0.0278614201,\n",
       "    0.0248815864,\n",
       "    0.00177760632,\n",
       "    0.0434544869,\n",
       "    0.00338898227,\n",
       "    -0.00067471,\n",
       "    0.0164579488,\n",
       "    -0.0145441452,\n",
       "    0.00619892916,\n",
       "    0.0268148966,\n",
       "    -0.0511541,\n",
       "    -0.0375748761,\n",
       "    -0.0139920535,\n",
       "    0.0347284712,\n",
       "    -0.0351967178,\n",
       "    -0.0475059897,\n",
       "    -0.0908137485,\n",
       "    0.00473805657,\n",
       "    -0.00613668095,\n",
       "    0.00179287279,\n",
       "    -0.0625669882,\n",
       "    0.00737858936,\n",
       "    0.065404132,\n",
       "    0.0435114652,\n",
       "    0.0241519175,\n",
       "    0.0475845039,\n",
       "    0.037569195,\n",
       "    -0.0560645536,\n",
       "    0.0157815926,\n",
       "    -0.049620904,\n",
       "    -0.0482643023,\n",
       "    0.0104596941,\n",
       "    0.0577910431,\n",
       "    -0.0119448081,\n",
       "    -0.0252604019,\n",
       "    -0.0870976,\n",
       "    0.0585211329,\n",
       "    0.0174507648,\n",
       "    -0.0483676791,\n",
       "    -0.0499463081,\n",
       "    0.0274531133,\n",
       "    -0.0253276099,\n",
       "    0.0857411772,\n",
       "    -0.0170369893,\n",
       "    -0.0370496176,\n",
       "    -0.0314611793,\n",
       "    -0.0406862423,\n",
       "    0.0345073156,\n",
       "    -0.0174828619,\n",
       "    0.0121212602,\n",
       "    0.0146947419,\n",
       "    -0.0818996876,\n",
       "    0.0161315948,\n",
       "    0.0465248413,\n",
       "    -0.0315611698,\n",
       "    -0.0491728932,\n",
       "    -0.000765222299,\n",
       "    0.0226232093,\n",
       "    -0.0760397911,\n",
       "    -0.149180785,\n",
       "    0.0636564717,\n",
       "    -0.0512359515,\n",
       "    -0.0293978676,\n",
       "    0.0541610606,\n",
       "    0.0649361461,\n",
       "    -0.0349987783,\n",
       "    -0.0240703486,\n",
       "    -0.0140098678,\n",
       "    0.0313336141,\n",
       "    -0.155491441,\n",
       "    -0.00898526423,\n",
       "    -0.0571085103,\n",
       "    0.154720351,\n",
       "    -0.0245810691,\n",
       "    0.06434156,\n",
       "    0.00913636573,\n",
       "    0.00361122121,\n",
       "    -0.0345437825,\n",
       "    -0.0272505525,\n",
       "    0.0585343204,\n",
       "    0.0321392678,\n",
       "    0.0282279942,\n",
       "    0.0155812893,\n",
       "    -0.014411347,\n",
       "    0.0104680127,\n",
       "    -0.0426614843,\n",
       "    -0.0458362326,\n",
       "    -0.036691051,\n",
       "    0.139421776,\n",
       "    0.0136416843,\n",
       "    -0.00412839046,\n",
       "    0.0782466233,\n",
       "    0.0484800637,\n",
       "    -0.0281963628,\n",
       "    -0.0292282458,\n",
       "    0.0407497771,\n",
       "    0.0362705626,\n",
       "    -0.0457588024,\n",
       "    -0.0235727,\n",
       "    -0.0335924439,\n",
       "    -0.0478371456,\n",
       "    0.048012089,\n",
       "    -0.018539194,\n",
       "    -0.0522574298,\n",
       "    -0.0381154418,\n",
       "    -0.00671804976,\n",
       "    -0.0570953228,\n",
       "    0.0335646085,\n",
       "    0.0700322762,\n",
       "    -0.080170922,\n",
       "    -0.0362652764,\n",
       "    0.0724351,\n",
       "    -0.00239996589,\n",
       "    0.0116401874,\n",
       "    -0.0401186273,\n",
       "    -0.00946106669,\n",
       "    -0.0516051725,\n",
       "    0.0769537464,\n",
       "    -0.0314692035,\n",
       "    -0.0214426052,\n",
       "    -0.0273969322,\n",
       "    -0.0225765333,\n",
       "    -0.00370760146,\n",
       "    -0.0101103336,\n",
       "    0.0667983,\n",
       "    0.0493795387,\n",
       "    -0.0066319597,\n",
       "    -0.0415062457,\n",
       "    0.0524720922,\n",
       "    -0.0365796685,\n",
       "    0.0321498737,\n",
       "    0.0249119848,\n",
       "    0.0360546112,\n",
       "    -0.0414117314,\n",
       "    0.0104809916,\n",
       "    0.00876550283,\n",
       "    0.0126831513,\n",
       "    -0.0497676022,\n",
       "    -0.00019910367,\n",
       "    -0.057339251,\n",
       "    0.0401898958,\n",
       "    -0.0144217713,\n",
       "    -0.0211425573,\n",
       "    -0.0213296022,\n",
       "    -0.0553670041,\n",
       "    0.017833177,\n",
       "    0.00800974667,\n",
       "    -0.108720697,\n",
       "    0.0734718144,\n",
       "    -0.0396503285,\n",
       "    0.000914505043,\n",
       "    0.0109677957,\n",
       "    0.0428537317,\n",
       "    -0.00351680559,\n",
       "    -0.0273790788,\n",
       "    -0.0307802446,\n",
       "    -0.0319254,\n",
       "    -0.0653376,\n",
       "    0.022218423,\n",
       "    0.0511539616,\n",
       "    -0.0458481796,\n",
       "    -0.013260344,\n",
       "    0.00477941427,\n",
       "    0.00501943612,\n",
       "    -0.0729811713,\n",
       "    0.0455047525,\n",
       "    -0.0630686283,\n",
       "    0.0508262217,\n",
       "    -0.0352627188,\n",
       "    0.0102291284,\n",
       "    -0.0635324419,\n",
       "    0.00999859907,\n",
       "    0.0361373425,\n",
       "    -0.0284902025,\n",
       "    0.0141148977,\n",
       "    0.0266801696,\n",
       "    0.035065107,\n",
       "    -0.00369203812,\n",
       "    -0.0496116653,\n",
       "    -0.0617339797,\n",
       "    -0.0557359867,\n",
       "    -0.0435482673,\n",
       "    0.0169171616,\n",
       "    -0.0975918546,\n",
       "    -0.0434501,\n",
       "    0.0265085902,\n",
       "    -0.017964093,\n",
       "    -0.0279337503,\n",
       "    -0.00646901038,\n",
       "    -0.0637947917,\n",
       "    0.00846963376,\n",
       "    0.0427584201,\n",
       "    -0.04924,\n",
       "    -0.0415972844,\n",
       "    -0.0222965647,\n",
       "    0.0174042489,\n",
       "    0.0436633043,\n",
       "    -0.0108674485,\n",
       "    0.0306259543,\n",
       "    -0.0194905456,\n",
       "    -0.041417364,\n",
       "    0.0406154618,\n",
       "    -0.0375241823,\n",
       "    0.0624433421,\n",
       "    -0.0115034133,\n",
       "    0.0353319161,\n",
       "    0.0100136502,\n",
       "    0.00564942416,\n",
       "    0.0456606895,\n",
       "    -0.0059280633,\n",
       "    0.0299157556,\n",
       "    -0.0514461026,\n",
       "    -0.0235655047,\n",
       "    -0.0138409613,\n",
       "    -0.0338565558,\n",
       "    -0.0400767811,\n",
       "    0.0759162158,\n",
       "    -0.00554062333,\n",
       "    -0.0618557446,\n",
       "    0.0638285726,\n",
       "    -0.0148355188,\n",
       "    0.0583806783,\n",
       "    0.0333002694,\n",
       "    -0.00785729,\n",
       "    0.00872461218,\n",
       "    -0.00111866812,\n",
       "    0.0756702721,\n",
       "    0.00444845203,\n",
       "    0.0321816131,\n",
       "    -0.0776612535,\n",
       "    0.0485452563,\n",
       "    0.00763368234,\n",
       "    0.0703958794,\n",
       "    -0.0414998457,\n",
       "    -0.0522595346,\n",
       "    -0.00801410899,\n",
       "    -0.0448338613,\n",
       "    -0.000686992833,\n",
       "    0.0598278753,\n",
       "    -0.00941498484,\n",
       "    -0.0475370884,\n",
       "    0.000456506241,\n",
       "    -0.0414597057,\n",
       "    0.00122901832,\n",
       "    0.0271647628,\n",
       "    0.0152855599,\n",
       "    -0.00095883233,\n",
       "    -0.0418880619,\n",
       "    0.0488436408,\n",
       "    0.0370394252,\n",
       "    -0.0477831028,\n",
       "    0.00424268562,\n",
       "    -0.0158985257,\n",
       "    -0.0432417467,\n",
       "    0.0324144363,\n",
       "    0.064938,\n",
       "    -0.00173426233,\n",
       "    0.00138169166,\n",
       "    -0.0257492,\n",
       "    0.0634209737,\n",
       "    -0.0645345449,\n",
       "    -0.00221077236,\n",
       "    -0.031061383,\n",
       "    -0.0634625852,\n",
       "    0.0409849472,\n",
       "    -0.0286692232,\n",
       "    -0.0555811189,\n",
       "    -0.0308022108,\n",
       "    -0.0624579117,\n",
       "    0.00156917435,\n",
       "    -0.0046834778,\n",
       "    -0.028806407,\n",
       "    -0.0410302021,\n",
       "    0.0488357916,\n",
       "    -0.0578363165,\n",
       "    -0.0405093506,\n",
       "    -0.00686723506,\n",
       "    -0.0119863078,\n",
       "    0.000392185058,\n",
       "    0.0639255419,\n",
       "    0.0386636369,\n",
       "    0.0602682,\n",
       "    0.0791429505,\n",
       "    0.0184750929,\n",
       "    0.0578333773,\n",
       "    -0.0233726557,\n",
       "    0.0319496244,\n",
       "    0.105014324,\n",
       "    -0.00572944526,\n",
       "    -0.0573471896,\n",
       "    -0.0244082,\n",
       "    0.0180610251,\n",
       "    -0.000332888827,\n",
       "    -0.00531294057,\n",
       "    0.0333345123,\n",
       "    -0.0528600477,\n",
       "    0.0174233988,\n",
       "    0.027264677,\n",
       "    -0.0596971698,\n",
       "    0.103143901,\n",
       "    0.0115819788,\n",
       "    0.0314265266,\n",
       "    0.0114457561,\n",
       "    -0.0275683627,\n",
       "    0.0377588235,\n",
       "    0.0956656411,\n",
       "    -0.0103779975,\n",
       "    0.0144139491,\n",
       "    0.0794656053,\n",
       "    -0.00351768383,\n",
       "    0.0188392941,\n",
       "    -0.0750330538,\n",
       "    -0.029242713,\n",
       "    -0.049407538,\n",
       "    -0.0806694403,\n",
       "    0.0498022325,\n",
       "    0.0211171694,\n",
       "    -0.099557288,\n",
       "    -0.0231285691,\n",
       "    -0.0181388855,\n",
       "    0.0337985866,\n",
       "    -0.00916465838,\n",
       "    -0.0100201592,\n",
       "    0.040959239,\n",
       "    0.0463076197,\n",
       "    0.0351618938,\n",
       "    0.000247282878,\n",
       "    0.0252509359,\n",
       "    -0.00436171051,\n",
       "    -0.0726406053,\n",
       "    -0.0439692214,\n",
       "    -0.0242272168,\n",
       "    -0.031264782,\n",
       "    -0.106111452,\n",
       "    0.0782954618,\n",
       "    -0.0202175044,\n",
       "    -0.043686498,\n",
       "    0.00336090289,\n",
       "    -0.027409777,\n",
       "    0.0319399834,\n",
       "    0.0266195405,\n",
       "    -0.0325198174,\n",
       "    0.0862159953,\n",
       "    -0.0285585988,\n",
       "    -0.0172126684,\n",
       "    0.0483597033,\n",
       "    0.0294402782,\n",
       "    -0.0111917015,\n",
       "    -0.0224961583,\n",
       "    -0.0061579491,\n",
       "    0.113698617,\n",
       "    -0.0308442265,\n",
       "    0.0144598931,\n",
       "    -0.00202504126,\n",
       "    0.0707636327,\n",
       "    -0.020303268,\n",
       "    -0.0344363414,\n",
       "    0.0359585471,\n",
       "    -0.0869607553,\n",
       "    -0.0522865541,\n",
       "    -0.0241250508,\n",
       "    0.0672842413,\n",
       "    -0.00200743903,\n",
       "    0.0567385145,\n",
       "    0.0592477433,\n",
       "    -0.0422985628,\n",
       "    0.00932632573,\n",
       "    0.0139764939,\n",
       "    -0.0188500937,\n",
       "    0.0514656231,\n",
       "    -0.0765762404,\n",
       "    -0.129828289,\n",
       "    0.0151493894,\n",
       "    -0.045187261,\n",
       "    -0.0841376,\n",
       "    -0.047825668,\n",
       "    -0.0393386222,\n",
       "    -0.00199018209,\n",
       "    0.0484002829,\n",
       "    -0.0929532945,\n",
       "    -0.0250295941,\n",
       "    0.0520838276,\n",
       "    -0.0236225,\n",
       "    0.0377289951,\n",
       "    0.021822134,\n",
       "    0.0104837669,\n",
       "    0.00538260443,\n",
       "    0.0828829706,\n",
       "    -0.0390219502,\n",
       "    -0.00401422475,\n",
       "    -0.026234135,\n",
       "    0.076729171,\n",
       "    -0.00437666336,\n",
       "    0.0530578382,\n",
       "    0.0396045707,\n",
       "    0.0494888574,\n",
       "    -0.0546541773,\n",
       "    -0.0417061336,\n",
       "    -0.00429534446,\n",
       "    -0.0210765079,\n",
       "    0.0429977737,\n",
       "    -0.0307365656,\n",
       "    0.0313336402,\n",
       "    -0.0244588982,\n",
       "    -0.0215126388,\n",
       "    0.0183278434,\n",
       "    0.0372881815,\n",
       "    -0.0396588333,\n",
       "    0.0856888518,\n",
       "    -0.0462799817,\n",
       "    -0.0534767099,\n",
       "    -0.0264295824,\n",
       "    0.0699303821,\n",
       "    0.0489524342,\n",
       "    -0.0268474892,\n",
       "    0.0197665095,\n",
       "    -0.036126323,\n",
       "    0.0305398833,\n",
       "    -0.153146744,\n",
       "    -0.0318174101,\n",
       "    -0.00637284387,\n",
       "    0.0587386414,\n",
       "    0.0353774875,\n",
       "    -0.0213933177,\n",
       "    0.0233178511,\n",
       "    0.0094772568,\n",
       "    -0.00532777281,\n",
       "    0.0187467188,\n",
       "    0.019495327,\n",
       "    -0.0421063043,\n",
       "    0.0217043646,\n",
       "    -0.0417976789,\n",
       "    0.000827598793,\n",
       "    0.0374049731,\n",
       "    -0.0233097691,\n",
       "    0.0528098792,\n",
       "    0.0162124131,\n",
       "    -0.0480594039,\n",
       "    -0.0527197495,\n",
       "    0.0161911491,\n",
       "    0.0364075042,\n",
       "    0.015489894,\n",
       "    -0.0125979697,\n",
       "    -0.00619145902,\n",
       "    0.0520564504,\n",
       "    0.0682222471,\n",
       "    0.00270067877,\n",
       "    -0.0297726616,\n",
       "    0.0810982808,\n",
       "    -0.0626385882,\n",
       "    0.0350307301,\n",
       "    -0.0128593529,\n",
       "    -0.00415145839,\n",
       "    -0.00624353439,\n",
       "    -0.0136301722,\n",
       "    -0.00778301712,\n",
       "    0.028065199,\n",
       "    -0.0617275871,\n",
       "    -0.0256216843,\n",
       "    0.0938627,\n",
       "    -0.0232319552,\n",
       "    -0.0186420716,\n",
       "    -0.0152835501,\n",
       "    0.0174688175,\n",
       "    -0.00887171179,\n",
       "    0.0341783613,\n",
       "    0.0463037603,\n",
       "    0.0252345428,\n",
       "    -0.00218310929,\n",
       "    0.0308828726,\n",
       "    0.011172561,\n",
       "    0.0382130332,\n",
       "    0.0257942565,\n",
       "    -0.0501559339,\n",
       "    0.0301799327,\n",
       "    0.040418461,\n",
       "    -0.0795805,\n",
       "    0.00734398747,\n",
       "    0.0163655188,\n",
       "    0.0459197573,\n",
       "    0.0337048024,\n",
       "    -0.00280771544,\n",
       "    -0.00438702758,\n",
       "    -0.0145007847,\n",
       "    -0.0926712677,\n",
       "    -0.0174233504,\n",
       "    -0.00233644363,\n",
       "    0.0534123853,\n",
       "    0.0186601374],\n",
       "   'insert_date_': '2020-10-30T00:00:52.174736'}]}"
      ]
     },
     "execution_count": 7,
     "metadata": {},
     "output_type": "execute_result"
    }
   ],
   "source": [
    "vi_client.random_documents(\"corpus-test\", page_size = 1, seed = 8)"
   ]
  },
  {
   "cell_type": "code",
   "execution_count": 70,
   "metadata": {
    "ExecuteTime": {
     "end_time": "2020-10-29T23:54:50.684198Z",
     "start_time": "2020-10-29T23:54:48.763746Z"
    }
   },
   "outputs": [
    {
     "data": {
      "text/plain": [
       "{'status': 'complete', 'message': 'corpus-test deleted'}"
      ]
     },
     "execution_count": 70,
     "metadata": {},
     "output_type": "execute_result"
    }
   ],
   "source": [
    "vi_client.delete_collection('corpus-test')"
   ]
  },
  {
   "cell_type": "code",
   "execution_count": 71,
   "metadata": {
    "ExecuteTime": {
     "end_time": "2020-10-29T23:54:54.623411Z",
     "start_time": "2020-10-29T23:54:54.620411Z"
    }
   },
   "outputs": [],
   "source": [
    "path_test = \"B:/document_parser/document_parses/test\""
   ]
  },
  {
   "cell_type": "code",
   "execution_count": 72,
   "metadata": {
    "ExecuteTime": {
     "end_time": "2020-10-29T23:54:54.857271Z",
     "start_time": "2020-10-29T23:54:54.852272Z"
    }
   },
   "outputs": [],
   "source": [
    "def load_corpus_single(path_corpus, client, username, api_key):\n",
    "    text_encoder = ViText2Vec(username, api_key)\n",
    "    directory = os.fsencode(path_corpus)  \n",
    "    documents = []\n",
    "    counter = 1\n",
    "    for file in os.listdir(directory):\n",
    "        filename = os.fsdecode(file)\n",
    "        with open(\"\\\\\".join([path_corpus, filename])) as file:\n",
    "            file_json = json.load(file)\n",
    "            file_json = preprocess_document(file_json)\n",
    "        documents.append(file_json)\n",
    "        if(counter % 139 == 0):\n",
    "            client.insert_documents(\"corpus-test\", documents, models = {\"document\": text_encoder.encode})            \n",
    "            documents = []\n",
    "        counter += 1\n",
    "    return \n",
    "\n",
    "def preprocess_document(file):\n",
    "    returned = {}\n",
    "    returned[\"_id\"]= file[\"paper_id\"]\n",
    "    title = file[\"metadata\"][\"title\"]\n",
    "    abstract = [paragraph[\"text\"] for paragraph in file[\"abstract\"]]\n",
    "    text = [paragraph[\"text\"] for paragraph in file[\"body_text\"]]\n",
    "    returned[\"document\"] = {\"title\": title, \"abstract\":abstract, \"text\": text}\n",
    "    return returned"
   ]
  },
  {
   "cell_type": "code",
   "execution_count": 73,
   "metadata": {
    "ExecuteTime": {
     "end_time": "2020-10-30T00:00:51.919552Z",
     "start_time": "2020-10-29T23:54:55.220708Z"
    }
   },
   "outputs": [
    {
     "data": {
      "application/vnd.jupyter.widget-view+json": {
       "model_id": "42564139d20e4593901ee6affcfc76fd",
       "version_major": 2,
       "version_minor": 0
      },
      "text/plain": [
       "HBox(children=(FloatProgress(value=0.0, max=9.0), HTML(value='')))"
      ]
     },
     "metadata": {},
     "output_type": "display_data"
    },
    {
     "name": "stdout",
     "output_type": "stream",
     "text": [
      "\n"
     ]
    },
    {
     "data": {
      "application/vnd.jupyter.widget-view+json": {
       "model_id": "c5297cc0b0734cf89383f5204fff282a",
       "version_major": 2,
       "version_minor": 0
      },
      "text/plain": [
       "HBox(children=(FloatProgress(value=0.0, max=9.0), HTML(value='')))"
      ]
     },
     "metadata": {},
     "output_type": "display_data"
    },
    {
     "name": "stdout",
     "output_type": "stream",
     "text": [
      "\n"
     ]
    },
    {
     "data": {
      "application/vnd.jupyter.widget-view+json": {
       "model_id": "689f32405a5341c6b3a5aec288014baf",
       "version_major": 2,
       "version_minor": 0
      },
      "text/plain": [
       "HBox(children=(FloatProgress(value=0.0, max=9.0), HTML(value='')))"
      ]
     },
     "metadata": {},
     "output_type": "display_data"
    },
    {
     "name": "stdout",
     "output_type": "stream",
     "text": [
      "\n"
     ]
    },
    {
     "data": {
      "application/vnd.jupyter.widget-view+json": {
       "model_id": "1278ccb292454935ae031b0b7de4b185",
       "version_major": 2,
       "version_minor": 0
      },
      "text/plain": [
       "HBox(children=(FloatProgress(value=0.0, max=9.0), HTML(value='')))"
      ]
     },
     "metadata": {},
     "output_type": "display_data"
    },
    {
     "name": "stdout",
     "output_type": "stream",
     "text": [
      "\n"
     ]
    }
   ],
   "source": [
    "load_corpus_single(path_test, vi_client, username, api_key)"
   ]
  },
  {
   "cell_type": "code",
   "execution_count": 74,
   "metadata": {
    "ExecuteTime": {
     "end_time": "2020-10-30T00:03:49.156128Z",
     "start_time": "2020-10-30T00:03:48.394807Z"
    }
   },
   "outputs": [
    {
     "data": {
      "text/plain": [
       "['corpus-test']"
      ]
     },
     "execution_count": 74,
     "metadata": {},
     "output_type": "execute_result"
    }
   ],
   "source": [
    "vi_client.list_collections()"
   ]
  },
  {
   "cell_type": "code",
   "execution_count": 75,
   "metadata": {
    "ExecuteTime": {
     "end_time": "2020-10-30T00:03:49.820274Z",
     "start_time": "2020-10-30T00:03:49.818272Z"
    }
   },
   "outputs": [],
   "source": [
    "text_encoder = ViText2Vec(username, api_key)"
   ]
  },
  {
   "cell_type": "code",
   "execution_count": 89,
   "metadata": {
    "ExecuteTime": {
     "end_time": "2020-10-30T00:09:45.990929Z",
     "start_time": "2020-10-30T00:09:45.067174Z"
    }
   },
   "outputs": [],
   "source": [
    "results = vi_client.search('corpus-test', text_encoder.encode('papers abour '), 'document_vector_', page_size=10)"
   ]
  },
  {
   "cell_type": "code",
   "execution_count": 90,
   "metadata": {
    "ExecuteTime": {
     "end_time": "2020-10-30T00:09:46.750925Z",
     "start_time": "2020-10-30T00:09:46.746924Z"
    }
   },
   "outputs": [
    {
     "data": {
      "text/plain": [
       "{'status': 'error',\n",
       " 'message': 'Something went wrong, please raise the error with maintainer.',\n",
       " 'error': 'Unknown Error'}"
      ]
     },
     "execution_count": 90,
     "metadata": {},
     "output_type": "execute_result"
    }
   ],
   "source": [
    "results"
   ]
  },
  {
   "cell_type": "code",
   "execution_count": 87,
   "metadata": {
    "ExecuteTime": {
     "end_time": "2020-10-30T00:06:49.953459Z",
     "start_time": "2020-10-30T00:06:49.950460Z"
    }
   },
   "outputs": [
    {
     "data": {
      "text/plain": [
       "'PfSWIB, a potential chromatin regulator for var gene regulation and parasite development in Plasmodium falciparum'"
      ]
     },
     "execution_count": 87,
     "metadata": {},
     "output_type": "execute_result"
    }
   ],
   "source": [
    "results[\"results\"][0][\"document\"][\"title\"]"
   ]
  },
  {
   "cell_type": "code",
   "execution_count": 88,
   "metadata": {
    "ExecuteTime": {
     "end_time": "2020-10-30T00:06:49.966459Z",
     "start_time": "2020-10-30T00:06:49.963459Z"
    }
   },
   "outputs": [
    {
     "data": {
      "text/plain": [
       "['PfSWIB, a potential chromatin regulator for var gene regulation and parasite development in Plasmodium falciparum',\n",
       " 'Correlation between antimicrobial consumption and incidence of health-care- associated infections due to methicillin- resistant Staphylococcus aureus and vancomycin-resistant enterococci at a university hospital in Taiwan from 2000 to 2010',\n",
       " 'Full Title: A systematic review of MERS-CoV (Middle East Respiratory Syndrome Coronavirus) 2 seroprevalence and viral RNA prevalence in dromedary camels: implications for animal vaccination',\n",
       " 'Supplementary Information An eco-epidemiological study of Morbilli-related paramyxovirus infection in Madagascar bats reveals host-switching as the dominant macro-evolutionary mechanism',\n",
       " 'FDA Perspectives on Diagnostic Device Clinical Studies for Respiratory Infections',\n",
       " 'Innovations in research ethics governance in humanitarian settings',\n",
       " 'Laboratory-based surveillance of hospital-acquired respiratory virus infection in a tertiary care hospital',\n",
       " '',\n",
       " 'Molecular cloning, genomic structure, polymorphism and expression analysis of major histocompatibility complex class IIA gene of swamp eel Monopterus albus',\n",
       " 'Journal Pre-proof Fighting COVID-19 Hypoxia with One Hand Tied Behind Our Back: Blanket Prohibition of High Flow Oxygen and Non-Invasive Positive End-Expiratory Pressure in United States Hospitals Fighting COVID-19 Hypoxia with One Hand Tied Behind Our Back: Blanket Prohibition of High Flow Oxygen and Non-Invasive Positive End-Expiratory Pressure in United States Hospitals Fighting COVID-19 Hypoxia with One Hand Tied Behind Our Back: Blanket Prohibition of High Flow Oxygen and Non-Invasive Positive End-Expiratory Pressure in United States Hospitals']"
      ]
     },
     "execution_count": 88,
     "metadata": {},
     "output_type": "execute_result"
    }
   ],
   "source": [
    "[results[\"results\"][i][\"document\"][\"title\"] for i in range(len(results[\"results\"]))]"
   ]
  },
  {
   "cell_type": "code",
   "execution_count": null,
   "metadata": {},
   "outputs": [],
   "source": []
  }
 ],
 "metadata": {
  "kernelspec": {
   "display_name": "Python 3",
   "language": "python",
   "name": "python3"
  },
  "language_info": {
   "codemirror_mode": {
    "name": "ipython",
    "version": 3
   },
   "file_extension": ".py",
   "mimetype": "text/x-python",
   "name": "python",
   "nbconvert_exporter": "python",
   "pygments_lexer": "ipython3",
   "version": "3.7.6"
  },
  "latex_envs": {
   "LaTeX_envs_menu_present": true,
   "autoclose": true,
   "autocomplete": true,
   "bibliofile": "biblio.bib",
   "cite_by": "apalike",
   "current_citInitial": 1,
   "eqLabelWithNumbers": true,
   "eqNumInitial": 1,
   "hotkeys": {
    "equation": "Ctrl-E",
    "itemize": "Ctrl-I"
   },
   "labels_anchors": false,
   "latex_user_defs": false,
   "report_style_numbering": false,
   "user_envs_cfg": false
  },
  "varInspector": {
   "cols": {
    "lenName": 16,
    "lenType": 16,
    "lenVar": 40
   },
   "kernels_config": {
    "python": {
     "delete_cmd_postfix": "",
     "delete_cmd_prefix": "del ",
     "library": "var_list.py",
     "varRefreshCmd": "print(var_dic_list())"
    },
    "r": {
     "delete_cmd_postfix": ") ",
     "delete_cmd_prefix": "rm(",
     "library": "var_list.r",
     "varRefreshCmd": "cat(var_dic_list()) "
    }
   },
   "types_to_exclude": [
    "module",
    "function",
    "builtin_function_or_method",
    "instance",
    "_Feature"
   ],
   "window_display": false
  }
 },
 "nbformat": 4,
 "nbformat_minor": 4
}
