{
 "cells": [
  {
   "cell_type": "code",
   "execution_count": 1,
   "metadata": {
    "ExecuteTime": {
     "end_time": "2020-12-07T13:11:41.533323Z",
     "start_time": "2020-12-07T13:11:39.188287Z"
    }
   },
   "outputs": [],
   "source": [
    "import json\n",
    "import xmltodict as xtd\n",
    "import numpy as np\n",
    "import os\n",
    "from nltk.corpus import stopwords\n",
    "from nltk.tokenize import wordpunct_tokenize\n",
    "from nltk.stem import PorterStemmer\n",
    "from joblib import Parallel, delayed\n",
    "from gensim import corpora\n",
    "from gensim import models\n",
    "import pandas as pd\n",
    "from gensim.similarities import MatrixSimilarity, SparseMatrixSimilarity, Similarity\n",
    "from operator import itemgetter\n",
    "import glob\n",
    "from matplotlib import pyplot as plt"
   ]
  },
  {
   "cell_type": "code",
   "execution_count": 2,
   "metadata": {
    "ExecuteTime": {
     "end_time": "2020-12-07T13:11:41.543326Z",
     "start_time": "2020-12-07T13:11:41.539324Z"
    }
   },
   "outputs": [],
   "source": [
    "path_queries = r\"B:\\document_parser\\document_parses\\topics-rnd5.xml\"\n",
    "path_texts = \"B:\\document_parser\\document_parses\\pdf_json\"\n",
    "path_test = \"B:/document_parser/document_parses/test\"\n",
    "path_judgements = \"B:/document_parser/document_parses/judgements.csv\"\n",
    "path_judgements2 = \"B:/document_parser/document_parses/judgements2.csv\""
   ]
  },
  {
   "cell_type": "markdown",
   "metadata": {},
   "source": [
    "# Preprocessing"
   ]
  },
  {
   "cell_type": "markdown",
   "metadata": {},
   "source": [
    "## Creación del Diccionario"
   ]
  },
  {
   "cell_type": "code",
   "execution_count": 21,
   "metadata": {
    "ExecuteTime": {
     "end_time": "2020-12-05T10:53:30.036180Z",
     "start_time": "2020-12-05T10:50:34.377782Z"
    }
   },
   "outputs": [
    {
     "name": "stdout",
     "output_type": "stream",
     "text": [
      "Dictionary(1392828 unique tokens: ['abl', 'absenc', 'absent', 'abundantli', 'accept']...)\n"
     ]
    }
   ],
   "source": [
    "dictionary = corpora.Dictionary(line.split() for line in open(\"docs.txt\",\"r\"))\n",
    "dictionary.save('covid19.dict')  # store the dictionary, for future reference\n",
    "print(dictionary)"
   ]
  },
  {
   "cell_type": "markdown",
   "metadata": {},
   "source": [
    "## Creación BOW"
   ]
  },
  {
   "cell_type": "code",
   "execution_count": 22,
   "metadata": {
    "ExecuteTime": {
     "end_time": "2020-12-05T10:53:38.645238Z",
     "start_time": "2020-12-05T10:53:38.641238Z"
    }
   },
   "outputs": [],
   "source": [
    "stopset = set(stopwords.words(\"english\"))"
   ]
  },
  {
   "cell_type": "code",
   "execution_count": 23,
   "metadata": {
    "ExecuteTime": {
     "end_time": "2020-12-05T10:53:39.429195Z",
     "start_time": "2020-12-05T10:53:39.424196Z"
    }
   },
   "outputs": [],
   "source": [
    "def preprocess_document(doc,stopset):\n",
    "    title = np.array([doc[\"metadata\"][\"title\"]], dtype=str)\n",
    "    abstract = np.array([paragraph[\"text\"] for paragraph in doc[\"abstract\"]], dtype=str)\n",
    "    text = np.array([paragraph[\"text\"] for paragraph in doc[\"body_text\"]], dtype=str)\n",
    "    stemmer = PorterStemmer()\n",
    "    information = np.concatenate((title, abstract, text))\n",
    "    tokens = np.concatenate(([wordpunct_tokenize(inf) for inf in information]))\n",
    "    clean = [token.lower() for token in tokens if token.lower() not in stopset and len(token) > 2 and not token.isnumeric()]\n",
    "    final = \" \".join([stemmer.stem(word) for word in clean])\n",
    "    return title[0], str(final.encode(\"utf-8\"))"
   ]
  },
  {
   "cell_type": "code",
   "execution_count": 25,
   "metadata": {
    "ExecuteTime": {
     "end_time": "2020-12-05T10:54:03.397173Z",
     "start_time": "2020-12-05T10:54:03.394172Z"
    }
   },
   "outputs": [],
   "source": [
    "#files = glob.glob(path_texts + \"/*.json\")\n",
    "#with open(\"docs.txt\", \"w+\") as f:\n",
    "#    i = 1\n",
    " #   for file in files:\n",
    "  #      print(i)\n",
    "   #     i+=1\n",
    "    #    with open(file) as js:\n",
    "     #       file_json = json.load(js)\n",
    "      #  _, stems = preprocess_document(file_json, stopset)\n",
    "       # f.write(stems.strip('b\\'')+\"\\n\")"
   ]
  },
  {
   "cell_type": "code",
   "execution_count": 85,
   "metadata": {
    "ExecuteTime": {
     "end_time": "2020-12-05T17:19:47.696861Z",
     "start_time": "2020-12-05T17:19:47.692861Z"
    }
   },
   "outputs": [],
   "source": [
    "class MyCorpus:\n",
    "    \n",
    "    def __init__(self, file):\n",
    "        self.path = file\n",
    "        \n",
    "    def __iter__(self):\n",
    "        for line in open(self.path):\n",
    "            # assume there's one document per line, tokens separated by whitespace\n",
    "            yield dictionary.doc2bow(line.split())"
   ]
  },
  {
   "cell_type": "code",
   "execution_count": 86,
   "metadata": {
    "ExecuteTime": {
     "end_time": "2020-12-05T17:22:24.149688Z",
     "start_time": "2020-12-05T17:19:48.268916Z"
    }
   },
   "outputs": [
    {
     "name": "stdout",
     "output_type": "stream",
     "text": [
      "<__main__.MyCorpus object at 0x0000021AF18084C8>\n"
     ]
    }
   ],
   "source": [
    "path_corpus = \"docs.txt\"\n",
    "bow = MyCorpus(path_corpus)\n",
    "corpora.MmCorpus.serialize(\"covid19.mm\", bow, metadata=True)\n",
    "print(bow)"
   ]
  },
  {
   "cell_type": "markdown",
   "metadata": {},
   "source": [
    "## Creación de la matriz de Similaridades"
   ]
  },
  {
   "cell_type": "code",
   "execution_count": null,
   "metadata": {
    "ExecuteTime": {
     "end_time": "2020-12-05T11:01:13.253778Z",
     "start_time": "2020-12-05T10:57:10.342528Z"
    }
   },
   "outputs": [],
   "source": [
    "from gensim.test.utils import datapath, get_tmpfile\n",
    "index_temp = get_tmpfile(\"index\")\n",
    "index = Similarity(index_temp, bow, num_features=len(dictionary))  # create index\n",
    "index.save(\"covid19.index\")"
   ]
  },
  {
   "cell_type": "markdown",
   "metadata": {},
   "source": [
    "# Carga de datos "
   ]
  },
  {
   "cell_type": "markdown",
   "metadata": {},
   "source": [
    "## Titles"
   ]
  },
  {
   "cell_type": "code",
   "execution_count": 3,
   "metadata": {
    "ExecuteTime": {
     "end_time": "2020-12-07T13:11:45.606325Z",
     "start_time": "2020-12-07T13:11:44.315327Z"
    }
   },
   "outputs": [
    {
     "data": {
      "text/html": [
       "<table style=\"border: 2px solid white;\">\n",
       "<tr>\n",
       "<td style=\"vertical-align: top; border: 0px solid white\">\n",
       "<h3 style=\"text-align: left;\">Client</h3>\n",
       "<ul style=\"text-align: left; list-style: none; margin: 0; padding: 0;\">\n",
       "  <li><b>Scheduler: </b>tcp://127.0.0.1:50859</li>\n",
       "  <li><b>Dashboard: </b><a href='http://127.0.0.1:8787/status' target='_blank'>http://127.0.0.1:8787/status</a>\n",
       "</ul>\n",
       "</td>\n",
       "<td style=\"vertical-align: top; border: 0px solid white\">\n",
       "<h3 style=\"text-align: left;\">Cluster</h3>\n",
       "<ul style=\"text-align: left; list-style:none; margin: 0; padding: 0;\">\n",
       "  <li><b>Workers: </b>6</li>\n",
       "  <li><b>Cores: </b>12</li>\n",
       "  <li><b>Memory: </b>34.31 GB</li>\n",
       "</ul>\n",
       "</td>\n",
       "</tr>\n",
       "</table>"
      ],
      "text/plain": [
       "<Client: 'tcp://127.0.0.1:50859' processes=6 threads=12, memory=34.31 GB>"
      ]
     },
     "execution_count": 3,
     "metadata": {},
     "output_type": "execute_result"
    }
   ],
   "source": [
    "import dask.bag as db\n",
    "from dask.distributed import Client, progress\n",
    "client = Client(n_workers=6, threads_per_worker=2)\n",
    "\n",
    "client"
   ]
  },
  {
   "cell_type": "code",
   "execution_count": 4,
   "metadata": {
    "ExecuteTime": {
     "end_time": "2020-12-07T13:11:45.616325Z",
     "start_time": "2020-12-07T13:11:45.612325Z"
    }
   },
   "outputs": [],
   "source": [
    "def load_dataset(path):\n",
    "    files = glob.glob(path + \"/*.json\")\n",
    "    b = db.from_sequence(files).map(load_json)\n",
    "    df = b.to_dataframe(columns=[\"id\", \"title\", \"abstract\", \"body\"])\n",
    "    return df\n",
    "\n",
    "def load_document(doc):\n",
    "    title = doc[\"metadata\"][\"title\"]\n",
    "    abstract = \" \".join([paragraph[\"text\"] for paragraph in doc[\"abstract\"]])\n",
    "    text = \" \".join([paragraph[\"text\"] for paragraph in doc[\"body_text\"]])\n",
    "    returned = {}\n",
    "    returned[\"id\"] = doc[\"paper_id\"]\n",
    "    returned[\"title\"] = title\n",
    "    returned[\"abstract\"] = abstract\n",
    "    returned[\"body\"] = text\n",
    "    return returned\n",
    "\n",
    "def load_json(file_path):\n",
    "    with open(file_path) as file:\n",
    "        file_json = json.load(file)\n",
    "    returned = load_document(file_json)\n",
    "    return returned"
   ]
  },
  {
   "cell_type": "code",
   "execution_count": 5,
   "metadata": {
    "ExecuteTime": {
     "end_time": "2020-12-07T13:11:46.369325Z",
     "start_time": "2020-12-07T13:11:45.621325Z"
    }
   },
   "outputs": [],
   "source": [
    "dataset = load_dataset(path_texts)"
   ]
  },
  {
   "cell_type": "code",
   "execution_count": 6,
   "metadata": {
    "ExecuteTime": {
     "end_time": "2020-12-07T13:13:44.798566Z",
     "start_time": "2020-12-07T13:11:46.383325Z"
    }
   },
   "outputs": [],
   "source": [
    "titles = dataset[[\"id\",\"title\"]].compute()"
   ]
  },
  {
   "cell_type": "code",
   "execution_count": 7,
   "metadata": {
    "ExecuteTime": {
     "end_time": "2020-12-07T13:13:44.821567Z",
     "start_time": "2020-12-07T13:13:44.814568Z"
    }
   },
   "outputs": [
    {
     "data": {
      "text/html": [
       "<div>\n",
       "<style scoped>\n",
       "    .dataframe tbody tr th:only-of-type {\n",
       "        vertical-align: middle;\n",
       "    }\n",
       "\n",
       "    .dataframe tbody tr th {\n",
       "        vertical-align: top;\n",
       "    }\n",
       "\n",
       "    .dataframe thead th {\n",
       "        text-align: right;\n",
       "    }\n",
       "</style>\n",
       "<table border=\"1\" class=\"dataframe\">\n",
       "  <thead>\n",
       "    <tr style=\"text-align: right;\">\n",
       "      <th></th>\n",
       "      <th>id</th>\n",
       "      <th>title</th>\n",
       "    </tr>\n",
       "  </thead>\n",
       "  <tbody>\n",
       "    <tr>\n",
       "      <th>0</th>\n",
       "      <td>0001418189999fea7f7cbe3e82703d71c85a6fe5</td>\n",
       "      <td>Absence of surface expression of feline infect...</td>\n",
       "    </tr>\n",
       "    <tr>\n",
       "      <th>1</th>\n",
       "      <td>0003793cf9e709bc2b9d0c8111186f78fb73fc04</td>\n",
       "      <td>Title: Rethinking high-risk groups in COVID-19</td>\n",
       "    </tr>\n",
       "    <tr>\n",
       "      <th>2</th>\n",
       "      <td>000379d7a7f37a2ccb978862b9f2016bd03259ea</td>\n",
       "      <td>ScienceDirect ScienceDirect Effect of Nanomate...</td>\n",
       "    </tr>\n",
       "    <tr>\n",
       "      <th>3</th>\n",
       "      <td>00039b94e6cb7609ecbddee1755314bcfeb77faa</td>\n",
       "      <td>Plasma inflammatory cytokines and chemokines i...</td>\n",
       "    </tr>\n",
       "    <tr>\n",
       "      <th>4</th>\n",
       "      <td>0003ddc51c4291d742855e9ac56076a3bea33ad7</td>\n",
       "      <td>Journal Pre-proofs The Fire This Time: The Str...</td>\n",
       "    </tr>\n",
       "    <tr>\n",
       "      <th>...</th>\n",
       "      <td>...</td>\n",
       "      <td>...</td>\n",
       "    </tr>\n",
       "    <tr>\n",
       "      <th>15</th>\n",
       "      <td>fff8b9e88db122ffcbaf1daf6b697e44eaaffd93</td>\n",
       "      <td>Septic shock caused by Mycobacterium tuberculo...</td>\n",
       "    </tr>\n",
       "    <tr>\n",
       "      <th>16</th>\n",
       "      <td>fffaed7e9353b7df6c4ca8f66b62e117013cb86d</td>\n",
       "      <td>Dengue Virus Glycosylation: What Do We Know?</td>\n",
       "    </tr>\n",
       "    <tr>\n",
       "      <th>17</th>\n",
       "      <td>fffb268f02887d8680dc611f6fc0b20c489030cb</td>\n",
       "      <td>Emergence of novel coronavirus and progress to...</td>\n",
       "    </tr>\n",
       "    <tr>\n",
       "      <th>18</th>\n",
       "      <td>fffc88be66eb39823fc9b50f0683e06a3038c9fe</td>\n",
       "      <td>A fractional-order compartmental model for pre...</td>\n",
       "    </tr>\n",
       "    <tr>\n",
       "      <th>19</th>\n",
       "      <td>ffff2fb21d4880b63a7cf3849cecc45bc596f4f0</td>\n",
       "      <td>Comparison of SARS-CoV-2 detection in nasophar...</td>\n",
       "    </tr>\n",
       "  </tbody>\n",
       "</table>\n",
       "<p>84420 rows × 2 columns</p>\n",
       "</div>"
      ],
      "text/plain": [
       "                                          id  \\\n",
       "0   0001418189999fea7f7cbe3e82703d71c85a6fe5   \n",
       "1   0003793cf9e709bc2b9d0c8111186f78fb73fc04   \n",
       "2   000379d7a7f37a2ccb978862b9f2016bd03259ea   \n",
       "3   00039b94e6cb7609ecbddee1755314bcfeb77faa   \n",
       "4   0003ddc51c4291d742855e9ac56076a3bea33ad7   \n",
       "..                                       ...   \n",
       "15  fff8b9e88db122ffcbaf1daf6b697e44eaaffd93   \n",
       "16  fffaed7e9353b7df6c4ca8f66b62e117013cb86d   \n",
       "17  fffb268f02887d8680dc611f6fc0b20c489030cb   \n",
       "18  fffc88be66eb39823fc9b50f0683e06a3038c9fe   \n",
       "19  ffff2fb21d4880b63a7cf3849cecc45bc596f4f0   \n",
       "\n",
       "                                                title  \n",
       "0   Absence of surface expression of feline infect...  \n",
       "1      Title: Rethinking high-risk groups in COVID-19  \n",
       "2   ScienceDirect ScienceDirect Effect of Nanomate...  \n",
       "3   Plasma inflammatory cytokines and chemokines i...  \n",
       "4   Journal Pre-proofs The Fire This Time: The Str...  \n",
       "..                                                ...  \n",
       "15  Septic shock caused by Mycobacterium tuberculo...  \n",
       "16       Dengue Virus Glycosylation: What Do We Know?  \n",
       "17  Emergence of novel coronavirus and progress to...  \n",
       "18  A fractional-order compartmental model for pre...  \n",
       "19  Comparison of SARS-CoV-2 detection in nasophar...  \n",
       "\n",
       "[84420 rows x 2 columns]"
      ]
     },
     "execution_count": 7,
     "metadata": {},
     "output_type": "execute_result"
    }
   ],
   "source": [
    "titles"
   ]
  },
  {
   "cell_type": "markdown",
   "metadata": {},
   "source": [
    "## Judgements"
   ]
  },
  {
   "cell_type": "code",
   "execution_count": 8,
   "metadata": {
    "ExecuteTime": {
     "end_time": "2020-12-07T13:13:44.877570Z",
     "start_time": "2020-12-07T13:13:44.835569Z"
    }
   },
   "outputs": [
    {
     "data": {
      "text/html": [
       "<div>\n",
       "<style scoped>\n",
       "    .dataframe tbody tr th:only-of-type {\n",
       "        vertical-align: middle;\n",
       "    }\n",
       "\n",
       "    .dataframe tbody tr th {\n",
       "        vertical-align: top;\n",
       "    }\n",
       "\n",
       "    .dataframe thead th {\n",
       "        text-align: right;\n",
       "    }\n",
       "</style>\n",
       "<table border=\"1\" class=\"dataframe\">\n",
       "  <thead>\n",
       "    <tr style=\"text-align: right;\">\n",
       "      <th></th>\n",
       "      <th>query</th>\n",
       "      <th>cord_uid</th>\n",
       "      <th>score</th>\n",
       "      <th>binary_score</th>\n",
       "    </tr>\n",
       "  </thead>\n",
       "  <tbody>\n",
       "    <tr>\n",
       "      <th>0</th>\n",
       "      <td>1</td>\n",
       "      <td>005b2j4b</td>\n",
       "      <td>2</td>\n",
       "      <td>1.0</td>\n",
       "    </tr>\n",
       "    <tr>\n",
       "      <th>1</th>\n",
       "      <td>1</td>\n",
       "      <td>00fmeepz</td>\n",
       "      <td>1</td>\n",
       "      <td>1.0</td>\n",
       "    </tr>\n",
       "    <tr>\n",
       "      <th>2</th>\n",
       "      <td>1</td>\n",
       "      <td>010vptx3</td>\n",
       "      <td>2</td>\n",
       "      <td>1.0</td>\n",
       "    </tr>\n",
       "    <tr>\n",
       "      <th>3</th>\n",
       "      <td>1</td>\n",
       "      <td>0194oljo</td>\n",
       "      <td>1</td>\n",
       "      <td>1.0</td>\n",
       "    </tr>\n",
       "    <tr>\n",
       "      <th>4</th>\n",
       "      <td>1</td>\n",
       "      <td>021q9884</td>\n",
       "      <td>1</td>\n",
       "      <td>1.0</td>\n",
       "    </tr>\n",
       "    <tr>\n",
       "      <th>...</th>\n",
       "      <td>...</td>\n",
       "      <td>...</td>\n",
       "      <td>...</td>\n",
       "      <td>...</td>\n",
       "    </tr>\n",
       "    <tr>\n",
       "      <th>69313</th>\n",
       "      <td>50</td>\n",
       "      <td>zvop8bxh</td>\n",
       "      <td>2</td>\n",
       "      <td>1.0</td>\n",
       "    </tr>\n",
       "    <tr>\n",
       "      <th>69314</th>\n",
       "      <td>50</td>\n",
       "      <td>zwf26o63</td>\n",
       "      <td>1</td>\n",
       "      <td>1.0</td>\n",
       "    </tr>\n",
       "    <tr>\n",
       "      <th>69315</th>\n",
       "      <td>50</td>\n",
       "      <td>zwsvlnwe</td>\n",
       "      <td>0</td>\n",
       "      <td>0.0</td>\n",
       "    </tr>\n",
       "    <tr>\n",
       "      <th>69316</th>\n",
       "      <td>50</td>\n",
       "      <td>zxr01yln</td>\n",
       "      <td>1</td>\n",
       "      <td>1.0</td>\n",
       "    </tr>\n",
       "    <tr>\n",
       "      <th>69317</th>\n",
       "      <td>50</td>\n",
       "      <td>zz8wvos9</td>\n",
       "      <td>1</td>\n",
       "      <td>1.0</td>\n",
       "    </tr>\n",
       "  </tbody>\n",
       "</table>\n",
       "<p>69318 rows × 4 columns</p>\n",
       "</div>"
      ],
      "text/plain": [
       "       query  cord_uid  score  binary_score\n",
       "0          1  005b2j4b      2           1.0\n",
       "1          1  00fmeepz      1           1.0\n",
       "2          1  010vptx3      2           1.0\n",
       "3          1  0194oljo      1           1.0\n",
       "4          1  021q9884      1           1.0\n",
       "...      ...       ...    ...           ...\n",
       "69313     50  zvop8bxh      2           1.0\n",
       "69314     50  zwf26o63      1           1.0\n",
       "69315     50  zwsvlnwe      0           0.0\n",
       "69316     50  zxr01yln      1           1.0\n",
       "69317     50  zz8wvos9      1           1.0\n",
       "\n",
       "[69318 rows x 4 columns]"
      ]
     },
     "execution_count": 8,
     "metadata": {},
     "output_type": "execute_result"
    }
   ],
   "source": [
    "def load_judgements(path_judgements):\n",
    "    judgements = pd.read_csv(path_judgements, delimiter=' ', names = [\"query\", \"cord_uid\", \"score\"], usecols=[0,2,3])\n",
    "    judgements.loc[judgements['score'] < 1, 'binary_score'] = 0\n",
    "    judgements.loc[judgements['score'] >=1 , 'binary_score'] = 1\n",
    "    return judgements\n",
    "\n",
    "judgements = load_judgements(path_judgements2)\n",
    "judgements"
   ]
  },
  {
   "cell_type": "markdown",
   "metadata": {},
   "source": [
    "## Queries"
   ]
  },
  {
   "cell_type": "code",
   "execution_count": 9,
   "metadata": {
    "ExecuteTime": {
     "end_time": "2020-12-07T13:13:44.908567Z",
     "start_time": "2020-12-07T13:13:44.894568Z"
    }
   },
   "outputs": [
    {
     "data": {
      "text/html": [
       "<div>\n",
       "<style scoped>\n",
       "    .dataframe tbody tr th:only-of-type {\n",
       "        vertical-align: middle;\n",
       "    }\n",
       "\n",
       "    .dataframe tbody tr th {\n",
       "        vertical-align: top;\n",
       "    }\n",
       "\n",
       "    .dataframe thead th {\n",
       "        text-align: right;\n",
       "    }\n",
       "</style>\n",
       "<table border=\"1\" class=\"dataframe\">\n",
       "  <thead>\n",
       "    <tr style=\"text-align: right;\">\n",
       "      <th></th>\n",
       "      <th>query</th>\n",
       "    </tr>\n",
       "  </thead>\n",
       "  <tbody>\n",
       "    <tr>\n",
       "      <th>1</th>\n",
       "      <td>coronavirus origin</td>\n",
       "    </tr>\n",
       "    <tr>\n",
       "      <th>2</th>\n",
       "      <td>coronavirus response to weather changes</td>\n",
       "    </tr>\n",
       "    <tr>\n",
       "      <th>3</th>\n",
       "      <td>coronavirus immunity</td>\n",
       "    </tr>\n",
       "    <tr>\n",
       "      <th>4</th>\n",
       "      <td>how do people die from the coronavirus</td>\n",
       "    </tr>\n",
       "    <tr>\n",
       "      <th>5</th>\n",
       "      <td>animal models of COVID-19</td>\n",
       "    </tr>\n",
       "  </tbody>\n",
       "</table>\n",
       "</div>"
      ],
      "text/plain": [
       "                                     query\n",
       "1                       coronavirus origin\n",
       "2  coronavirus response to weather changes\n",
       "3                     coronavirus immunity\n",
       "4   how do people die from the coronavirus\n",
       "5                animal models of COVID-19"
      ]
     },
     "execution_count": 9,
     "metadata": {},
     "output_type": "execute_result"
    }
   ],
   "source": [
    "def load_queries(queries_path):\n",
    "    \"\"\"\n",
    "    Receives the path of the queries files and returns a dictionary containing all the queries.\n",
    "\n",
    "    Parameters\n",
    "    ----------\n",
    "    queries_path : path of the queries file\n",
    "\n",
    "    Returns\n",
    "    -------\n",
    "    dic_judgements : dictionary\n",
    "\n",
    "    \"\"\"\n",
    "    with open(queries_path, \"r\") as xml_file:\n",
    "        data_dict = xtd.parse(xml_file.read())\n",
    "    xml_file.close()\n",
    "\n",
    "    dic_queries = {}\n",
    "    for query in data_dict[\"topics\"][\"topic\"]:\n",
    "        dic_queries[query[\"@number\"]] = query[\"query\"]\n",
    "\n",
    "    df = pd.DataFrame.from_dict(dic_queries, orient='index', columns=['query'])\n",
    "\n",
    "    return df\n",
    "\n",
    "queries = load_queries(path_queries)\n",
    "queries.head()"
   ]
  },
  {
   "cell_type": "markdown",
   "metadata": {},
   "source": [
    "## Metadata"
   ]
  },
  {
   "cell_type": "code",
   "execution_count": 10,
   "metadata": {
    "ExecuteTime": {
     "end_time": "2020-12-07T13:13:44.934568Z",
     "start_time": "2020-12-07T13:13:44.931568Z"
    }
   },
   "outputs": [],
   "source": [
    "path_metadata = \"B:/document_parser/document_parses/metadata.csv\""
   ]
  },
  {
   "cell_type": "code",
   "execution_count": 11,
   "metadata": {
    "ExecuteTime": {
     "end_time": "2020-12-07T13:13:46.387923Z",
     "start_time": "2020-12-07T13:13:44.956568Z"
    }
   },
   "outputs": [],
   "source": [
    "metadata = pd.read_csv(path_metadata, header = 0, usecols = [0,1])"
   ]
  },
  {
   "cell_type": "code",
   "execution_count": 12,
   "metadata": {
    "ExecuteTime": {
     "end_time": "2020-12-07T13:13:46.880924Z",
     "start_time": "2020-12-07T13:13:46.409924Z"
    }
   },
   "outputs": [
    {
     "data": {
      "text/html": [
       "<div>\n",
       "<style scoped>\n",
       "    .dataframe tbody tr th:only-of-type {\n",
       "        vertical-align: middle;\n",
       "    }\n",
       "\n",
       "    .dataframe tbody tr th {\n",
       "        vertical-align: top;\n",
       "    }\n",
       "\n",
       "    .dataframe thead th {\n",
       "        text-align: right;\n",
       "    }\n",
       "</style>\n",
       "<table border=\"1\" class=\"dataframe\">\n",
       "  <thead>\n",
       "    <tr style=\"text-align: right;\">\n",
       "      <th></th>\n",
       "      <th>cord_uid</th>\n",
       "      <th>sha</th>\n",
       "    </tr>\n",
       "  </thead>\n",
       "  <tbody>\n",
       "    <tr>\n",
       "      <th>0</th>\n",
       "      <td>ug7v899j</td>\n",
       "      <td>d1aafb70c066a2068b02786f8929fd9c900897fb</td>\n",
       "    </tr>\n",
       "    <tr>\n",
       "      <th>1</th>\n",
       "      <td>02tnwd4m</td>\n",
       "      <td>6b0567729c2143a66d737eb0a2f63f2dce2e5a7d</td>\n",
       "    </tr>\n",
       "    <tr>\n",
       "      <th>2</th>\n",
       "      <td>ejv2xln0</td>\n",
       "      <td>06ced00a5fc04215949aa72528f2eeaae1d58927</td>\n",
       "    </tr>\n",
       "    <tr>\n",
       "      <th>3</th>\n",
       "      <td>2b73a28n</td>\n",
       "      <td>348055649b6b8cf2b9a376498df9bf41f7123605</td>\n",
       "    </tr>\n",
       "    <tr>\n",
       "      <th>4</th>\n",
       "      <td>9785vg6d</td>\n",
       "      <td>5f48792a5fa08bed9f56016f4981ae2ca6031b32</td>\n",
       "    </tr>\n",
       "    <tr>\n",
       "      <th>...</th>\n",
       "      <td>...</td>\n",
       "      <td>...</td>\n",
       "    </tr>\n",
       "    <tr>\n",
       "      <th>320513</th>\n",
       "      <td>jwp8f10m</td>\n",
       "      <td>fc8e76ad02e87bd7d66d5e952a23d1d15480e27c</td>\n",
       "    </tr>\n",
       "    <tr>\n",
       "      <th>320514</th>\n",
       "      <td>r21k0gku</td>\n",
       "      <td>c7c88bf0abd741c2969d03f55373a729ddfcd802</td>\n",
       "    </tr>\n",
       "    <tr>\n",
       "      <th>320515</th>\n",
       "      <td>jx8wulcg</td>\n",
       "      <td>a183646896ed073a4ec4035c5b6c6c77db89f0b3</td>\n",
       "    </tr>\n",
       "    <tr>\n",
       "      <th>320516</th>\n",
       "      <td>q1fzxt3r</td>\n",
       "      <td>c4e99c8b861f4457b4a0518860bc9e52f5348e87</td>\n",
       "    </tr>\n",
       "    <tr>\n",
       "      <th>320517</th>\n",
       "      <td>3gg7ju6f</td>\n",
       "      <td>30fcdec34c5743310e04d2afc601ac4311eb0288</td>\n",
       "    </tr>\n",
       "  </tbody>\n",
       "</table>\n",
       "<p>327142 rows × 2 columns</p>\n",
       "</div>"
      ],
      "text/plain": [
       "        cord_uid                                       sha\n",
       "0       ug7v899j  d1aafb70c066a2068b02786f8929fd9c900897fb\n",
       "1       02tnwd4m  6b0567729c2143a66d737eb0a2f63f2dce2e5a7d\n",
       "2       ejv2xln0  06ced00a5fc04215949aa72528f2eeaae1d58927\n",
       "3       2b73a28n  348055649b6b8cf2b9a376498df9bf41f7123605\n",
       "4       9785vg6d  5f48792a5fa08bed9f56016f4981ae2ca6031b32\n",
       "...          ...                                       ...\n",
       "320513  jwp8f10m  fc8e76ad02e87bd7d66d5e952a23d1d15480e27c\n",
       "320514  r21k0gku  c7c88bf0abd741c2969d03f55373a729ddfcd802\n",
       "320515  jx8wulcg  a183646896ed073a4ec4035c5b6c6c77db89f0b3\n",
       "320516  q1fzxt3r  c4e99c8b861f4457b4a0518860bc9e52f5348e87\n",
       "320517  3gg7ju6f  30fcdec34c5743310e04d2afc601ac4311eb0288\n",
       "\n",
       "[327142 rows x 2 columns]"
      ]
     },
     "execution_count": 12,
     "metadata": {},
     "output_type": "execute_result"
    }
   ],
   "source": [
    "metadata = metadata.assign(sha=metadata.sha.str.split('; ')).explode('sha')\n",
    "metadata"
   ]
  },
  {
   "cell_type": "code",
   "execution_count": 13,
   "metadata": {
    "ExecuteTime": {
     "end_time": "2020-12-07T13:13:46.918928Z",
     "start_time": "2020-12-07T13:13:46.906926Z"
    }
   },
   "outputs": [
    {
     "data": {
      "text/plain": [
       "204463"
      ]
     },
     "execution_count": 13,
     "metadata": {},
     "output_type": "execute_result"
    }
   ],
   "source": [
    "metadata['sha'].isnull().values.sum()"
   ]
  },
  {
   "cell_type": "code",
   "execution_count": 14,
   "metadata": {
    "ExecuteTime": {
     "end_time": "2020-12-07T13:13:46.973925Z",
     "start_time": "2020-12-07T13:13:46.946924Z"
    }
   },
   "outputs": [],
   "source": [
    "metadata = metadata.dropna()"
   ]
  },
  {
   "cell_type": "markdown",
   "metadata": {},
   "source": [
    "# Trabajo"
   ]
  },
  {
   "cell_type": "markdown",
   "metadata": {},
   "source": [
    "## TFIDF Model"
   ]
  },
  {
   "cell_type": "code",
   "execution_count": 15,
   "metadata": {
    "ExecuteTime": {
     "end_time": "2020-12-07T13:13:47.016923Z",
     "start_time": "2020-12-07T13:13:46.996924Z"
    }
   },
   "outputs": [],
   "source": [
    "bow = corpora.MmCorpus('covid19.mm')"
   ]
  },
  {
   "cell_type": "code",
   "execution_count": 16,
   "metadata": {
    "ExecuteTime": {
     "end_time": "2020-12-07T13:13:47.742927Z",
     "start_time": "2020-12-07T13:13:47.044925Z"
    }
   },
   "outputs": [],
   "source": [
    "dictionary = corpora.Dictionary.load(\"covid19.dict\")"
   ]
  },
  {
   "cell_type": "code",
   "execution_count": 17,
   "metadata": {
    "ExecuteTime": {
     "end_time": "2020-12-07T13:13:47.770923Z",
     "start_time": "2020-12-07T13:13:47.763925Z"
    }
   },
   "outputs": [],
   "source": [
    "similarities = Similarity.load(\"covid19.index\")"
   ]
  },
  {
   "cell_type": "code",
   "execution_count": 18,
   "metadata": {
    "ExecuteTime": {
     "end_time": "2020-12-07T13:14:52.609521Z",
     "start_time": "2020-12-07T13:13:47.791924Z"
    }
   },
   "outputs": [],
   "source": [
    "model_tfidf = models.TfidfModel(bow)"
   ]
  },
  {
   "cell_type": "code",
   "execution_count": 20,
   "metadata": {
    "ExecuteTime": {
     "end_time": "2020-12-06T21:12:14.627567Z",
     "start_time": "2020-12-06T21:12:14.622567Z"
    }
   },
   "outputs": [],
   "source": [
    "def launch_query_tfidf(model, dictionary, bow, index, query, titles, verbose = 0):\n",
    "    stopset = set(stopwords.words(\"english\"))\n",
    "    index = index\n",
    "    pq = preprocess_query_tfidf(query, stopset)\n",
    "    vq = dictionary.doc2bow(pq)\n",
    "    qtfidf = model[vq]\n",
    "    sim = index[qtfidf]\n",
    "    ranking = sorted(enumerate(sim), key=itemgetter(1), reverse=True)\n",
    "    if verbose:\n",
    "        for doc, score in ranking[:5]:\n",
    "            print(\"[ Score = \" + \"%.3f\" % round(score,3) + \" ] \" + titles['title'].iloc[doc])\n",
    "    return ranking, sim\n",
    "        \n",
    "def preprocess_query_tfidf(query, stopset):\n",
    "    stemmer = PorterStemmer()\n",
    "    tokens = wordpunct_tokenize(query)\n",
    "    clean = [token.lower() for token in tokens if token.lower() not in stopset and len(token) > 2]\n",
    "    stems = [stemmer.stem(word) for word in clean]\n",
    "    return stems"
   ]
  },
  {
   "cell_type": "markdown",
   "metadata": {},
   "source": []
  },
  {
   "cell_type": "code",
   "execution_count": 21,
   "metadata": {
    "ExecuteTime": {
     "end_time": "2020-12-06T21:12:15.974166Z",
     "start_time": "2020-12-06T21:12:14.647569Z"
    }
   },
   "outputs": [
    {
     "name": "stdout",
     "output_type": "stream",
     "text": [
      "[ Score = 0.382 ] Characteristics of Metazoan DNA Replication Origins\n",
      "[ Score = 0.360 ] Possible Bat Origin of Severe Acute Respiratory Syndrome Coronavirus 2\n",
      "[ Score = 0.333 ] Journal Pre-proof Clinically Significant Fear and Anxiety of COVID-19: A Psychometric Examination of the Coronavirus Anxiety Scale\n",
      "[ Score = 0.323 ] Journal Pre-proof Fatalism in the context of COVID-19: Perceiving coronavirus as a death sentence predicts reluctance to perform recommended preventative behaviors\n",
      "[ Score = 0.316 ] \n"
     ]
    }
   ],
   "source": [
    "ranking, sim = launch_query_tfidf(model_tfidf, dictionary, bow, similarities, queries.iloc[0][0], titles, verbose = 1)"
   ]
  },
  {
   "cell_type": "markdown",
   "metadata": {},
   "source": [
    "### Example of evaluation"
   ]
  },
  {
   "cell_type": "code",
   "execution_count": 22,
   "metadata": {
    "ExecuteTime": {
     "end_time": "2020-12-06T21:12:16.134173Z",
     "start_time": "2020-12-06T21:12:16.048165Z"
    }
   },
   "outputs": [],
   "source": [
    "ranking = [[position[0], position[1]] for position in ranking]"
   ]
  },
  {
   "cell_type": "code",
   "execution_count": 23,
   "metadata": {
    "ExecuteTime": {
     "end_time": "2020-12-06T21:12:16.255173Z",
     "start_time": "2020-12-06T21:12:16.200173Z"
    }
   },
   "outputs": [],
   "source": [
    "ranking = pd.DataFrame(ranking, columns=[\"doc_position\", \"rel_score\"])"
   ]
  },
  {
   "cell_type": "code",
   "execution_count": 24,
   "metadata": {
    "ExecuteTime": {
     "end_time": "2020-12-06T21:12:16.284174Z",
     "start_time": "2020-12-06T21:12:16.278172Z"
    }
   },
   "outputs": [
    {
     "data": {
      "text/html": [
       "<div>\n",
       "<style scoped>\n",
       "    .dataframe tbody tr th:only-of-type {\n",
       "        vertical-align: middle;\n",
       "    }\n",
       "\n",
       "    .dataframe tbody tr th {\n",
       "        vertical-align: top;\n",
       "    }\n",
       "\n",
       "    .dataframe thead th {\n",
       "        text-align: right;\n",
       "    }\n",
       "</style>\n",
       "<table border=\"1\" class=\"dataframe\">\n",
       "  <thead>\n",
       "    <tr style=\"text-align: right;\">\n",
       "      <th></th>\n",
       "      <th>doc_position</th>\n",
       "      <th>rel_score</th>\n",
       "    </tr>\n",
       "  </thead>\n",
       "  <tbody>\n",
       "    <tr>\n",
       "      <th>0</th>\n",
       "      <td>57867</td>\n",
       "      <td>0.381604</td>\n",
       "    </tr>\n",
       "    <tr>\n",
       "      <th>1</th>\n",
       "      <td>78990</td>\n",
       "      <td>0.360190</td>\n",
       "    </tr>\n",
       "    <tr>\n",
       "      <th>2</th>\n",
       "      <td>79519</td>\n",
       "      <td>0.332744</td>\n",
       "    </tr>\n",
       "    <tr>\n",
       "      <th>3</th>\n",
       "      <td>61289</td>\n",
       "      <td>0.322894</td>\n",
       "    </tr>\n",
       "    <tr>\n",
       "      <th>4</th>\n",
       "      <td>4471</td>\n",
       "      <td>0.315705</td>\n",
       "    </tr>\n",
       "    <tr>\n",
       "      <th>...</th>\n",
       "      <td>...</td>\n",
       "      <td>...</td>\n",
       "    </tr>\n",
       "    <tr>\n",
       "      <th>84415</th>\n",
       "      <td>84406</td>\n",
       "      <td>0.000000</td>\n",
       "    </tr>\n",
       "    <tr>\n",
       "      <th>84416</th>\n",
       "      <td>84407</td>\n",
       "      <td>0.000000</td>\n",
       "    </tr>\n",
       "    <tr>\n",
       "      <th>84417</th>\n",
       "      <td>84408</td>\n",
       "      <td>0.000000</td>\n",
       "    </tr>\n",
       "    <tr>\n",
       "      <th>84418</th>\n",
       "      <td>84409</td>\n",
       "      <td>0.000000</td>\n",
       "    </tr>\n",
       "    <tr>\n",
       "      <th>84419</th>\n",
       "      <td>84415</td>\n",
       "      <td>0.000000</td>\n",
       "    </tr>\n",
       "  </tbody>\n",
       "</table>\n",
       "<p>84420 rows × 2 columns</p>\n",
       "</div>"
      ],
      "text/plain": [
       "       doc_position  rel_score\n",
       "0             57867   0.381604\n",
       "1             78990   0.360190\n",
       "2             79519   0.332744\n",
       "3             61289   0.322894\n",
       "4              4471   0.315705\n",
       "...             ...        ...\n",
       "84415         84406   0.000000\n",
       "84416         84407   0.000000\n",
       "84417         84408   0.000000\n",
       "84418         84409   0.000000\n",
       "84419         84415   0.000000\n",
       "\n",
       "[84420 rows x 2 columns]"
      ]
     },
     "execution_count": 24,
     "metadata": {},
     "output_type": "execute_result"
    }
   ],
   "source": [
    "ranking"
   ]
  },
  {
   "cell_type": "code",
   "execution_count": 25,
   "metadata": {
    "ExecuteTime": {
     "end_time": "2020-12-06T21:12:16.900551Z",
     "start_time": "2020-12-06T21:12:16.307173Z"
    }
   },
   "outputs": [
    {
     "name": "stdout",
     "output_type": "stream",
     "text": [
      "0.01424068978318777\n"
     ]
    },
    {
     "data": {
      "text/html": [
       "<div>\n",
       "<style scoped>\n",
       "    .dataframe tbody tr th:only-of-type {\n",
       "        vertical-align: middle;\n",
       "    }\n",
       "\n",
       "    .dataframe tbody tr th {\n",
       "        vertical-align: top;\n",
       "    }\n",
       "\n",
       "    .dataframe thead th {\n",
       "        text-align: right;\n",
       "    }\n",
       "</style>\n",
       "<table border=\"1\" class=\"dataframe\">\n",
       "  <thead>\n",
       "    <tr style=\"text-align: right;\">\n",
       "      <th></th>\n",
       "      <th>doc_position</th>\n",
       "      <th>rel_score</th>\n",
       "      <th>sha</th>\n",
       "      <th>ranking</th>\n",
       "    </tr>\n",
       "  </thead>\n",
       "  <tbody>\n",
       "    <tr>\n",
       "      <th>0</th>\n",
       "      <td>57867</td>\n",
       "      <td>0.381604</td>\n",
       "      <td>af71282a17e1b5f85f664ad1832f585fc29fa83b</td>\n",
       "      <td>0</td>\n",
       "    </tr>\n",
       "    <tr>\n",
       "      <th>1</th>\n",
       "      <td>78990</td>\n",
       "      <td>0.360190</td>\n",
       "      <td>efa8c88425a643428cdd2972aaca8c0f38040737</td>\n",
       "      <td>1</td>\n",
       "    </tr>\n",
       "    <tr>\n",
       "      <th>2</th>\n",
       "      <td>79519</td>\n",
       "      <td>0.332744</td>\n",
       "      <td>f13a223cf5a744477fb2259c624d52da436c5b32</td>\n",
       "      <td>2</td>\n",
       "    </tr>\n",
       "    <tr>\n",
       "      <th>3</th>\n",
       "      <td>61289</td>\n",
       "      <td>0.322894</td>\n",
       "      <td>b9abb25c38229bd2f5b9f418e3d83c51a9441e14</td>\n",
       "      <td>3</td>\n",
       "    </tr>\n",
       "    <tr>\n",
       "      <th>4</th>\n",
       "      <td>4471</td>\n",
       "      <td>0.315705</td>\n",
       "      <td>0d8a8b1f36f58232f56fa225dfd02d318c3b6433</td>\n",
       "      <td>4</td>\n",
       "    </tr>\n",
       "    <tr>\n",
       "      <th>...</th>\n",
       "      <td>...</td>\n",
       "      <td>...</td>\n",
       "      <td>...</td>\n",
       "      <td>...</td>\n",
       "    </tr>\n",
       "    <tr>\n",
       "      <th>84415</th>\n",
       "      <td>84406</td>\n",
       "      <td>0.000000</td>\n",
       "      <td>fff28c4948e827bb5efc14f075b97fa5ed7c1cf5</td>\n",
       "      <td>84415</td>\n",
       "    </tr>\n",
       "    <tr>\n",
       "      <th>84416</th>\n",
       "      <td>84407</td>\n",
       "      <td>0.000000</td>\n",
       "      <td>fff3678cfe3ce7a9ccae1e7becf17d5d71d1b54a</td>\n",
       "      <td>84416</td>\n",
       "    </tr>\n",
       "    <tr>\n",
       "      <th>84417</th>\n",
       "      <td>84408</td>\n",
       "      <td>0.000000</td>\n",
       "      <td>fff37ff9de7ac14189bacc386448ae96a624f19f</td>\n",
       "      <td>84417</td>\n",
       "    </tr>\n",
       "    <tr>\n",
       "      <th>84418</th>\n",
       "      <td>84409</td>\n",
       "      <td>0.000000</td>\n",
       "      <td>fff5ef42f08b25d724bfca377d6f1c88ab33664e</td>\n",
       "      <td>84418</td>\n",
       "    </tr>\n",
       "    <tr>\n",
       "      <th>84419</th>\n",
       "      <td>84415</td>\n",
       "      <td>0.000000</td>\n",
       "      <td>fff8b9e88db122ffcbaf1daf6b697e44eaaffd93</td>\n",
       "      <td>84419</td>\n",
       "    </tr>\n",
       "  </tbody>\n",
       "</table>\n",
       "<p>84420 rows × 4 columns</p>\n",
       "</div>"
      ],
      "text/plain": [
       "       doc_position  rel_score                                       sha  \\\n",
       "0             57867   0.381604  af71282a17e1b5f85f664ad1832f585fc29fa83b   \n",
       "1             78990   0.360190  efa8c88425a643428cdd2972aaca8c0f38040737   \n",
       "2             79519   0.332744  f13a223cf5a744477fb2259c624d52da436c5b32   \n",
       "3             61289   0.322894  b9abb25c38229bd2f5b9f418e3d83c51a9441e14   \n",
       "4              4471   0.315705  0d8a8b1f36f58232f56fa225dfd02d318c3b6433   \n",
       "...             ...        ...                                       ...   \n",
       "84415         84406   0.000000  fff28c4948e827bb5efc14f075b97fa5ed7c1cf5   \n",
       "84416         84407   0.000000  fff3678cfe3ce7a9ccae1e7becf17d5d71d1b54a   \n",
       "84417         84408   0.000000  fff37ff9de7ac14189bacc386448ae96a624f19f   \n",
       "84418         84409   0.000000  fff5ef42f08b25d724bfca377d6f1c88ab33664e   \n",
       "84419         84415   0.000000  fff8b9e88db122ffcbaf1daf6b697e44eaaffd93   \n",
       "\n",
       "       ranking  \n",
       "0            0  \n",
       "1            1  \n",
       "2            2  \n",
       "3            3  \n",
       "4            4  \n",
       "...        ...  \n",
       "84415    84415  \n",
       "84416    84416  \n",
       "84417    84417  \n",
       "84418    84418  \n",
       "84419    84419  \n",
       "\n",
       "[84420 rows x 4 columns]"
      ]
     },
     "execution_count": 25,
     "metadata": {},
     "output_type": "execute_result"
    }
   ],
   "source": [
    "results = ranking\n",
    "results[\"sha\"] = results[\"doc_position\"].map(lambda x: titles[\"id\"].iloc[x])\n",
    "results[\"ranking\"] = results.index\n",
    "print(results[\"rel_score\"].mean())\n",
    "#results = results[results[\"rel_score\"]>0.008760440347593913]\n",
    "results"
   ]
  },
  {
   "cell_type": "code",
   "execution_count": 26,
   "metadata": {
    "ExecuteTime": {
     "end_time": "2020-12-06T21:12:17.201568Z",
     "start_time": "2020-12-06T21:12:16.928550Z"
    }
   },
   "outputs": [],
   "source": [
    "results = results.set_index(\"sha\").join(metadata.set_index(\"sha\"))\n",
    "results = results.sort_values(by=[\"ranking\"])"
   ]
  },
  {
   "cell_type": "code",
   "execution_count": 27,
   "metadata": {
    "ExecuteTime": {
     "end_time": "2020-12-06T21:12:17.235443Z",
     "start_time": "2020-12-06T21:12:17.226443Z"
    }
   },
   "outputs": [
    {
     "data": {
      "text/html": [
       "<div>\n",
       "<style scoped>\n",
       "    .dataframe tbody tr th:only-of-type {\n",
       "        vertical-align: middle;\n",
       "    }\n",
       "\n",
       "    .dataframe tbody tr th {\n",
       "        vertical-align: top;\n",
       "    }\n",
       "\n",
       "    .dataframe thead th {\n",
       "        text-align: right;\n",
       "    }\n",
       "</style>\n",
       "<table border=\"1\" class=\"dataframe\">\n",
       "  <thead>\n",
       "    <tr style=\"text-align: right;\">\n",
       "      <th></th>\n",
       "      <th>doc_position</th>\n",
       "      <th>rel_score</th>\n",
       "      <th>ranking</th>\n",
       "      <th>cord_uid</th>\n",
       "    </tr>\n",
       "    <tr>\n",
       "      <th>sha</th>\n",
       "      <th></th>\n",
       "      <th></th>\n",
       "      <th></th>\n",
       "      <th></th>\n",
       "    </tr>\n",
       "  </thead>\n",
       "  <tbody>\n",
       "    <tr>\n",
       "      <th>af71282a17e1b5f85f664ad1832f585fc29fa83b</th>\n",
       "      <td>57867</td>\n",
       "      <td>0.381604</td>\n",
       "      <td>0</td>\n",
       "      <td>2qto9vsb</td>\n",
       "    </tr>\n",
       "    <tr>\n",
       "      <th>efa8c88425a643428cdd2972aaca8c0f38040737</th>\n",
       "      <td>78990</td>\n",
       "      <td>0.360190</td>\n",
       "      <td>1</td>\n",
       "      <td>12dcftwt</td>\n",
       "    </tr>\n",
       "    <tr>\n",
       "      <th>f13a223cf5a744477fb2259c624d52da436c5b32</th>\n",
       "      <td>79519</td>\n",
       "      <td>0.332744</td>\n",
       "      <td>2</td>\n",
       "      <td>a845az43</td>\n",
       "    </tr>\n",
       "    <tr>\n",
       "      <th>b9abb25c38229bd2f5b9f418e3d83c51a9441e14</th>\n",
       "      <td>61289</td>\n",
       "      <td>0.322894</td>\n",
       "      <td>3</td>\n",
       "      <td>k83zt387</td>\n",
       "    </tr>\n",
       "    <tr>\n",
       "      <th>0d8a8b1f36f58232f56fa225dfd02d318c3b6433</th>\n",
       "      <td>4471</td>\n",
       "      <td>0.315705</td>\n",
       "      <td>4</td>\n",
       "      <td>c7j2eoz0</td>\n",
       "    </tr>\n",
       "    <tr>\n",
       "      <th>...</th>\n",
       "      <td>...</td>\n",
       "      <td>...</td>\n",
       "      <td>...</td>\n",
       "      <td>...</td>\n",
       "    </tr>\n",
       "    <tr>\n",
       "      <th>fff28c4948e827bb5efc14f075b97fa5ed7c1cf5</th>\n",
       "      <td>84406</td>\n",
       "      <td>0.000000</td>\n",
       "      <td>84415</td>\n",
       "      <td>b59uexhr</td>\n",
       "    </tr>\n",
       "    <tr>\n",
       "      <th>fff3678cfe3ce7a9ccae1e7becf17d5d71d1b54a</th>\n",
       "      <td>84407</td>\n",
       "      <td>0.000000</td>\n",
       "      <td>84416</td>\n",
       "      <td>1qtqergw</td>\n",
       "    </tr>\n",
       "    <tr>\n",
       "      <th>fff37ff9de7ac14189bacc386448ae96a624f19f</th>\n",
       "      <td>84408</td>\n",
       "      <td>0.000000</td>\n",
       "      <td>84417</td>\n",
       "      <td>prqrvemt</td>\n",
       "    </tr>\n",
       "    <tr>\n",
       "      <th>fff5ef42f08b25d724bfca377d6f1c88ab33664e</th>\n",
       "      <td>84409</td>\n",
       "      <td>0.000000</td>\n",
       "      <td>84418</td>\n",
       "      <td>6trpwyzh</td>\n",
       "    </tr>\n",
       "    <tr>\n",
       "      <th>fff8b9e88db122ffcbaf1daf6b697e44eaaffd93</th>\n",
       "      <td>84415</td>\n",
       "      <td>0.000000</td>\n",
       "      <td>84419</td>\n",
       "      <td>po9q7ol1</td>\n",
       "    </tr>\n",
       "  </tbody>\n",
       "</table>\n",
       "<p>84425 rows × 4 columns</p>\n",
       "</div>"
      ],
      "text/plain": [
       "                                          doc_position  rel_score  ranking  \\\n",
       "sha                                                                          \n",
       "af71282a17e1b5f85f664ad1832f585fc29fa83b         57867   0.381604        0   \n",
       "efa8c88425a643428cdd2972aaca8c0f38040737         78990   0.360190        1   \n",
       "f13a223cf5a744477fb2259c624d52da436c5b32         79519   0.332744        2   \n",
       "b9abb25c38229bd2f5b9f418e3d83c51a9441e14         61289   0.322894        3   \n",
       "0d8a8b1f36f58232f56fa225dfd02d318c3b6433          4471   0.315705        4   \n",
       "...                                                ...        ...      ...   \n",
       "fff28c4948e827bb5efc14f075b97fa5ed7c1cf5         84406   0.000000    84415   \n",
       "fff3678cfe3ce7a9ccae1e7becf17d5d71d1b54a         84407   0.000000    84416   \n",
       "fff37ff9de7ac14189bacc386448ae96a624f19f         84408   0.000000    84417   \n",
       "fff5ef42f08b25d724bfca377d6f1c88ab33664e         84409   0.000000    84418   \n",
       "fff8b9e88db122ffcbaf1daf6b697e44eaaffd93         84415   0.000000    84419   \n",
       "\n",
       "                                          cord_uid  \n",
       "sha                                                 \n",
       "af71282a17e1b5f85f664ad1832f585fc29fa83b  2qto9vsb  \n",
       "efa8c88425a643428cdd2972aaca8c0f38040737  12dcftwt  \n",
       "f13a223cf5a744477fb2259c624d52da436c5b32  a845az43  \n",
       "b9abb25c38229bd2f5b9f418e3d83c51a9441e14  k83zt387  \n",
       "0d8a8b1f36f58232f56fa225dfd02d318c3b6433  c7j2eoz0  \n",
       "...                                            ...  \n",
       "fff28c4948e827bb5efc14f075b97fa5ed7c1cf5  b59uexhr  \n",
       "fff3678cfe3ce7a9ccae1e7becf17d5d71d1b54a  1qtqergw  \n",
       "fff37ff9de7ac14189bacc386448ae96a624f19f  prqrvemt  \n",
       "fff5ef42f08b25d724bfca377d6f1c88ab33664e  6trpwyzh  \n",
       "fff8b9e88db122ffcbaf1daf6b697e44eaaffd93  po9q7ol1  \n",
       "\n",
       "[84425 rows x 4 columns]"
      ]
     },
     "execution_count": 27,
     "metadata": {},
     "output_type": "execute_result"
    }
   ],
   "source": [
    "results"
   ]
  },
  {
   "cell_type": "code",
   "execution_count": 28,
   "metadata": {
    "ExecuteTime": {
     "end_time": "2020-12-06T21:12:17.273444Z",
     "start_time": "2020-12-06T21:12:17.262443Z"
    }
   },
   "outputs": [
    {
     "data": {
      "text/plain": [
       "840"
      ]
     },
     "execution_count": 28,
     "metadata": {},
     "output_type": "execute_result"
    }
   ],
   "source": [
    "results['cord_uid'].isnull().sum()"
   ]
  },
  {
   "cell_type": "code",
   "execution_count": 29,
   "metadata": {
    "ExecuteTime": {
     "end_time": "2020-12-06T21:12:17.326451Z",
     "start_time": "2020-12-06T21:12:17.299443Z"
    }
   },
   "outputs": [
    {
     "data": {
      "text/html": [
       "<div>\n",
       "<style scoped>\n",
       "    .dataframe tbody tr th:only-of-type {\n",
       "        vertical-align: middle;\n",
       "    }\n",
       "\n",
       "    .dataframe tbody tr th {\n",
       "        vertical-align: top;\n",
       "    }\n",
       "\n",
       "    .dataframe thead th {\n",
       "        text-align: right;\n",
       "    }\n",
       "</style>\n",
       "<table border=\"1\" class=\"dataframe\">\n",
       "  <thead>\n",
       "    <tr style=\"text-align: right;\">\n",
       "      <th></th>\n",
       "      <th>doc_position</th>\n",
       "      <th>rel_score</th>\n",
       "      <th>ranking</th>\n",
       "      <th>cord_uid</th>\n",
       "    </tr>\n",
       "    <tr>\n",
       "      <th>sha</th>\n",
       "      <th></th>\n",
       "      <th></th>\n",
       "      <th></th>\n",
       "      <th></th>\n",
       "    </tr>\n",
       "  </thead>\n",
       "  <tbody>\n",
       "    <tr>\n",
       "      <th>af71282a17e1b5f85f664ad1832f585fc29fa83b</th>\n",
       "      <td>57867</td>\n",
       "      <td>0.381604</td>\n",
       "      <td>0</td>\n",
       "      <td>2qto9vsb</td>\n",
       "    </tr>\n",
       "    <tr>\n",
       "      <th>efa8c88425a643428cdd2972aaca8c0f38040737</th>\n",
       "      <td>78990</td>\n",
       "      <td>0.360190</td>\n",
       "      <td>1</td>\n",
       "      <td>12dcftwt</td>\n",
       "    </tr>\n",
       "    <tr>\n",
       "      <th>f13a223cf5a744477fb2259c624d52da436c5b32</th>\n",
       "      <td>79519</td>\n",
       "      <td>0.332744</td>\n",
       "      <td>2</td>\n",
       "      <td>a845az43</td>\n",
       "    </tr>\n",
       "    <tr>\n",
       "      <th>b9abb25c38229bd2f5b9f418e3d83c51a9441e14</th>\n",
       "      <td>61289</td>\n",
       "      <td>0.322894</td>\n",
       "      <td>3</td>\n",
       "      <td>k83zt387</td>\n",
       "    </tr>\n",
       "    <tr>\n",
       "      <th>0d8a8b1f36f58232f56fa225dfd02d318c3b6433</th>\n",
       "      <td>4471</td>\n",
       "      <td>0.315705</td>\n",
       "      <td>4</td>\n",
       "      <td>c7j2eoz0</td>\n",
       "    </tr>\n",
       "    <tr>\n",
       "      <th>...</th>\n",
       "      <td>...</td>\n",
       "      <td>...</td>\n",
       "      <td>...</td>\n",
       "      <td>...</td>\n",
       "    </tr>\n",
       "    <tr>\n",
       "      <th>fff28c4948e827bb5efc14f075b97fa5ed7c1cf5</th>\n",
       "      <td>84406</td>\n",
       "      <td>0.000000</td>\n",
       "      <td>84415</td>\n",
       "      <td>b59uexhr</td>\n",
       "    </tr>\n",
       "    <tr>\n",
       "      <th>fff3678cfe3ce7a9ccae1e7becf17d5d71d1b54a</th>\n",
       "      <td>84407</td>\n",
       "      <td>0.000000</td>\n",
       "      <td>84416</td>\n",
       "      <td>1qtqergw</td>\n",
       "    </tr>\n",
       "    <tr>\n",
       "      <th>fff37ff9de7ac14189bacc386448ae96a624f19f</th>\n",
       "      <td>84408</td>\n",
       "      <td>0.000000</td>\n",
       "      <td>84417</td>\n",
       "      <td>prqrvemt</td>\n",
       "    </tr>\n",
       "    <tr>\n",
       "      <th>fff5ef42f08b25d724bfca377d6f1c88ab33664e</th>\n",
       "      <td>84409</td>\n",
       "      <td>0.000000</td>\n",
       "      <td>84418</td>\n",
       "      <td>6trpwyzh</td>\n",
       "    </tr>\n",
       "    <tr>\n",
       "      <th>fff8b9e88db122ffcbaf1daf6b697e44eaaffd93</th>\n",
       "      <td>84415</td>\n",
       "      <td>0.000000</td>\n",
       "      <td>84419</td>\n",
       "      <td>po9q7ol1</td>\n",
       "    </tr>\n",
       "  </tbody>\n",
       "</table>\n",
       "<p>83585 rows × 4 columns</p>\n",
       "</div>"
      ],
      "text/plain": [
       "                                          doc_position  rel_score  ranking  \\\n",
       "sha                                                                          \n",
       "af71282a17e1b5f85f664ad1832f585fc29fa83b         57867   0.381604        0   \n",
       "efa8c88425a643428cdd2972aaca8c0f38040737         78990   0.360190        1   \n",
       "f13a223cf5a744477fb2259c624d52da436c5b32         79519   0.332744        2   \n",
       "b9abb25c38229bd2f5b9f418e3d83c51a9441e14         61289   0.322894        3   \n",
       "0d8a8b1f36f58232f56fa225dfd02d318c3b6433          4471   0.315705        4   \n",
       "...                                                ...        ...      ...   \n",
       "fff28c4948e827bb5efc14f075b97fa5ed7c1cf5         84406   0.000000    84415   \n",
       "fff3678cfe3ce7a9ccae1e7becf17d5d71d1b54a         84407   0.000000    84416   \n",
       "fff37ff9de7ac14189bacc386448ae96a624f19f         84408   0.000000    84417   \n",
       "fff5ef42f08b25d724bfca377d6f1c88ab33664e         84409   0.000000    84418   \n",
       "fff8b9e88db122ffcbaf1daf6b697e44eaaffd93         84415   0.000000    84419   \n",
       "\n",
       "                                          cord_uid  \n",
       "sha                                                 \n",
       "af71282a17e1b5f85f664ad1832f585fc29fa83b  2qto9vsb  \n",
       "efa8c88425a643428cdd2972aaca8c0f38040737  12dcftwt  \n",
       "f13a223cf5a744477fb2259c624d52da436c5b32  a845az43  \n",
       "b9abb25c38229bd2f5b9f418e3d83c51a9441e14  k83zt387  \n",
       "0d8a8b1f36f58232f56fa225dfd02d318c3b6433  c7j2eoz0  \n",
       "...                                            ...  \n",
       "fff28c4948e827bb5efc14f075b97fa5ed7c1cf5  b59uexhr  \n",
       "fff3678cfe3ce7a9ccae1e7becf17d5d71d1b54a  1qtqergw  \n",
       "fff37ff9de7ac14189bacc386448ae96a624f19f  prqrvemt  \n",
       "fff5ef42f08b25d724bfca377d6f1c88ab33664e  6trpwyzh  \n",
       "fff8b9e88db122ffcbaf1daf6b697e44eaaffd93  po9q7ol1  \n",
       "\n",
       "[83585 rows x 4 columns]"
      ]
     },
     "execution_count": 29,
     "metadata": {},
     "output_type": "execute_result"
    }
   ],
   "source": [
    "results = results.dropna()\n",
    "results"
   ]
  },
  {
   "cell_type": "code",
   "execution_count": 30,
   "metadata": {
    "ExecuteTime": {
     "end_time": "2020-12-06T21:12:17.361451Z",
     "start_time": "2020-12-06T21:12:17.351452Z"
    }
   },
   "outputs": [
    {
     "data": {
      "text/html": [
       "<div>\n",
       "<style scoped>\n",
       "    .dataframe tbody tr th:only-of-type {\n",
       "        vertical-align: middle;\n",
       "    }\n",
       "\n",
       "    .dataframe tbody tr th {\n",
       "        vertical-align: top;\n",
       "    }\n",
       "\n",
       "    .dataframe thead th {\n",
       "        text-align: right;\n",
       "    }\n",
       "</style>\n",
       "<table border=\"1\" class=\"dataframe\">\n",
       "  <thead>\n",
       "    <tr style=\"text-align: right;\">\n",
       "      <th></th>\n",
       "      <th>query</th>\n",
       "      <th>cord_uid</th>\n",
       "      <th>score</th>\n",
       "      <th>binary_score</th>\n",
       "    </tr>\n",
       "  </thead>\n",
       "  <tbody>\n",
       "    <tr>\n",
       "      <th>0</th>\n",
       "      <td>1</td>\n",
       "      <td>005b2j4b</td>\n",
       "      <td>2</td>\n",
       "      <td>1.0</td>\n",
       "    </tr>\n",
       "    <tr>\n",
       "      <th>1</th>\n",
       "      <td>1</td>\n",
       "      <td>00fmeepz</td>\n",
       "      <td>1</td>\n",
       "      <td>1.0</td>\n",
       "    </tr>\n",
       "    <tr>\n",
       "      <th>2</th>\n",
       "      <td>1</td>\n",
       "      <td>010vptx3</td>\n",
       "      <td>2</td>\n",
       "      <td>1.0</td>\n",
       "    </tr>\n",
       "    <tr>\n",
       "      <th>3</th>\n",
       "      <td>1</td>\n",
       "      <td>0194oljo</td>\n",
       "      <td>1</td>\n",
       "      <td>1.0</td>\n",
       "    </tr>\n",
       "    <tr>\n",
       "      <th>4</th>\n",
       "      <td>1</td>\n",
       "      <td>021q9884</td>\n",
       "      <td>1</td>\n",
       "      <td>1.0</td>\n",
       "    </tr>\n",
       "    <tr>\n",
       "      <th>...</th>\n",
       "      <td>...</td>\n",
       "      <td>...</td>\n",
       "      <td>...</td>\n",
       "      <td>...</td>\n",
       "    </tr>\n",
       "    <tr>\n",
       "      <th>1642</th>\n",
       "      <td>1</td>\n",
       "      <td>zv0ysi8m</td>\n",
       "      <td>1</td>\n",
       "      <td>1.0</td>\n",
       "    </tr>\n",
       "    <tr>\n",
       "      <th>1643</th>\n",
       "      <td>1</td>\n",
       "      <td>zxvim4t8</td>\n",
       "      <td>0</td>\n",
       "      <td>0.0</td>\n",
       "    </tr>\n",
       "    <tr>\n",
       "      <th>1644</th>\n",
       "      <td>1</td>\n",
       "      <td>zy8qjaai</td>\n",
       "      <td>1</td>\n",
       "      <td>1.0</td>\n",
       "    </tr>\n",
       "    <tr>\n",
       "      <th>1645</th>\n",
       "      <td>1</td>\n",
       "      <td>zz24hrva</td>\n",
       "      <td>1</td>\n",
       "      <td>1.0</td>\n",
       "    </tr>\n",
       "    <tr>\n",
       "      <th>1646</th>\n",
       "      <td>1</td>\n",
       "      <td>zzpw375i</td>\n",
       "      <td>0</td>\n",
       "      <td>0.0</td>\n",
       "    </tr>\n",
       "  </tbody>\n",
       "</table>\n",
       "<p>1647 rows × 4 columns</p>\n",
       "</div>"
      ],
      "text/plain": [
       "      query  cord_uid  score  binary_score\n",
       "0         1  005b2j4b      2           1.0\n",
       "1         1  00fmeepz      1           1.0\n",
       "2         1  010vptx3      2           1.0\n",
       "3         1  0194oljo      1           1.0\n",
       "4         1  021q9884      1           1.0\n",
       "...     ...       ...    ...           ...\n",
       "1642      1  zv0ysi8m      1           1.0\n",
       "1643      1  zxvim4t8      0           0.0\n",
       "1644      1  zy8qjaai      1           1.0\n",
       "1645      1  zz24hrva      1           1.0\n",
       "1646      1  zzpw375i      0           0.0\n",
       "\n",
       "[1647 rows x 4 columns]"
      ]
     },
     "execution_count": 30,
     "metadata": {},
     "output_type": "execute_result"
    }
   ],
   "source": [
    "judgements_parcial = judgements[judgements[\"query\"] == 1]\n",
    "judgements_parcial"
   ]
  },
  {
   "cell_type": "code",
   "execution_count": 31,
   "metadata": {
    "ExecuteTime": {
     "end_time": "2020-12-06T21:12:17.542040Z",
     "start_time": "2020-12-06T21:12:17.389452Z"
    }
   },
   "outputs": [
    {
     "data": {
      "text/html": [
       "<div>\n",
       "<style scoped>\n",
       "    .dataframe tbody tr th:only-of-type {\n",
       "        vertical-align: middle;\n",
       "    }\n",
       "\n",
       "    .dataframe tbody tr th {\n",
       "        vertical-align: top;\n",
       "    }\n",
       "\n",
       "    .dataframe thead th {\n",
       "        text-align: right;\n",
       "    }\n",
       "</style>\n",
       "<table border=\"1\" class=\"dataframe\">\n",
       "  <thead>\n",
       "    <tr style=\"text-align: right;\">\n",
       "      <th></th>\n",
       "      <th>doc_position</th>\n",
       "      <th>rel_score</th>\n",
       "      <th>ranking</th>\n",
       "      <th>query</th>\n",
       "      <th>score</th>\n",
       "      <th>binary_score</th>\n",
       "    </tr>\n",
       "    <tr>\n",
       "      <th>cord_uid</th>\n",
       "      <th></th>\n",
       "      <th></th>\n",
       "      <th></th>\n",
       "      <th></th>\n",
       "      <th></th>\n",
       "      <th></th>\n",
       "    </tr>\n",
       "  </thead>\n",
       "  <tbody>\n",
       "    <tr>\n",
       "      <th>000ajevz</th>\n",
       "      <td>7623</td>\n",
       "      <td>0.006667</td>\n",
       "      <td>43292</td>\n",
       "      <td>NaN</td>\n",
       "      <td>NaN</td>\n",
       "      <td>NaN</td>\n",
       "    </tr>\n",
       "    <tr>\n",
       "      <th>000q5l5n</th>\n",
       "      <td>17269</td>\n",
       "      <td>0.000000</td>\n",
       "      <td>65252</td>\n",
       "      <td>NaN</td>\n",
       "      <td>NaN</td>\n",
       "      <td>NaN</td>\n",
       "    </tr>\n",
       "    <tr>\n",
       "      <th>000tfenb</th>\n",
       "      <td>66091</td>\n",
       "      <td>0.029836</td>\n",
       "      <td>11690</td>\n",
       "      <td>NaN</td>\n",
       "      <td>NaN</td>\n",
       "      <td>NaN</td>\n",
       "    </tr>\n",
       "    <tr>\n",
       "      <th>001u8ecb</th>\n",
       "      <td>6127</td>\n",
       "      <td>0.000000</td>\n",
       "      <td>62069</td>\n",
       "      <td>NaN</td>\n",
       "      <td>NaN</td>\n",
       "      <td>NaN</td>\n",
       "    </tr>\n",
       "    <tr>\n",
       "      <th>003r4sjl</th>\n",
       "      <td>24650</td>\n",
       "      <td>0.011316</td>\n",
       "      <td>32139</td>\n",
       "      <td>NaN</td>\n",
       "      <td>NaN</td>\n",
       "      <td>NaN</td>\n",
       "    </tr>\n",
       "    <tr>\n",
       "      <th>...</th>\n",
       "      <td>...</td>\n",
       "      <td>...</td>\n",
       "      <td>...</td>\n",
       "      <td>...</td>\n",
       "      <td>...</td>\n",
       "      <td>...</td>\n",
       "    </tr>\n",
       "    <tr>\n",
       "      <th>zzvmj5qy</th>\n",
       "      <td>16372</td>\n",
       "      <td>0.006720</td>\n",
       "      <td>43131</td>\n",
       "      <td>NaN</td>\n",
       "      <td>NaN</td>\n",
       "      <td>NaN</td>\n",
       "    </tr>\n",
       "    <tr>\n",
       "      <th>zzw7zlh6</th>\n",
       "      <td>12233</td>\n",
       "      <td>0.004560</td>\n",
       "      <td>49925</td>\n",
       "      <td>NaN</td>\n",
       "      <td>NaN</td>\n",
       "      <td>NaN</td>\n",
       "    </tr>\n",
       "    <tr>\n",
       "      <th>zzxjv666</th>\n",
       "      <td>57978</td>\n",
       "      <td>0.047535</td>\n",
       "      <td>5356</td>\n",
       "      <td>NaN</td>\n",
       "      <td>NaN</td>\n",
       "      <td>NaN</td>\n",
       "    </tr>\n",
       "    <tr>\n",
       "      <th>zzykyblm</th>\n",
       "      <td>75960</td>\n",
       "      <td>0.025456</td>\n",
       "      <td>14584</td>\n",
       "      <td>NaN</td>\n",
       "      <td>NaN</td>\n",
       "      <td>NaN</td>\n",
       "    </tr>\n",
       "    <tr>\n",
       "      <th>zzys31e9</th>\n",
       "      <td>38250</td>\n",
       "      <td>0.005703</td>\n",
       "      <td>46078</td>\n",
       "      <td>NaN</td>\n",
       "      <td>NaN</td>\n",
       "      <td>NaN</td>\n",
       "    </tr>\n",
       "  </tbody>\n",
       "</table>\n",
       "<p>83585 rows × 6 columns</p>\n",
       "</div>"
      ],
      "text/plain": [
       "          doc_position  rel_score  ranking  query  score  binary_score\n",
       "cord_uid                                                              \n",
       "000ajevz          7623   0.006667    43292    NaN    NaN           NaN\n",
       "000q5l5n         17269   0.000000    65252    NaN    NaN           NaN\n",
       "000tfenb         66091   0.029836    11690    NaN    NaN           NaN\n",
       "001u8ecb          6127   0.000000    62069    NaN    NaN           NaN\n",
       "003r4sjl         24650   0.011316    32139    NaN    NaN           NaN\n",
       "...                ...        ...      ...    ...    ...           ...\n",
       "zzvmj5qy         16372   0.006720    43131    NaN    NaN           NaN\n",
       "zzw7zlh6         12233   0.004560    49925    NaN    NaN           NaN\n",
       "zzxjv666         57978   0.047535     5356    NaN    NaN           NaN\n",
       "zzykyblm         75960   0.025456    14584    NaN    NaN           NaN\n",
       "zzys31e9         38250   0.005703    46078    NaN    NaN           NaN\n",
       "\n",
       "[83585 rows x 6 columns]"
      ]
     },
     "execution_count": 31,
     "metadata": {},
     "output_type": "execute_result"
    }
   ],
   "source": [
    "statistics = results.set_index(\"cord_uid\").join(judgements_parcial.set_index(\"cord_uid\"))\n",
    "statistics"
   ]
  },
  {
   "cell_type": "code",
   "execution_count": 32,
   "metadata": {
    "ExecuteTime": {
     "end_time": "2020-12-06T21:12:17.582041Z",
     "start_time": "2020-12-06T21:12:17.574040Z"
    }
   },
   "outputs": [],
   "source": [
    "# En vez de dropear, rellanmos con 0\n",
    "statistics = statistics.dropna()\n",
    "#a[\"binary_score\"].fillna(0, inplace=True)"
   ]
  },
  {
   "cell_type": "code",
   "execution_count": 33,
   "metadata": {
    "ExecuteTime": {
     "end_time": "2020-12-06T21:12:17.616040Z",
     "start_time": "2020-12-06T21:12:17.613040Z"
    }
   },
   "outputs": [],
   "source": [
    "statistics = statistics[statistics[\"rel_score\"]>0]"
   ]
  },
  {
   "cell_type": "code",
   "execution_count": 34,
   "metadata": {
    "ExecuteTime": {
     "end_time": "2020-12-06T21:12:17.657041Z",
     "start_time": "2020-12-06T21:12:17.647040Z"
    }
   },
   "outputs": [
    {
     "data": {
      "text/html": [
       "<div>\n",
       "<style scoped>\n",
       "    .dataframe tbody tr th:only-of-type {\n",
       "        vertical-align: middle;\n",
       "    }\n",
       "\n",
       "    .dataframe tbody tr th {\n",
       "        vertical-align: top;\n",
       "    }\n",
       "\n",
       "    .dataframe thead th {\n",
       "        text-align: right;\n",
       "    }\n",
       "</style>\n",
       "<table border=\"1\" class=\"dataframe\">\n",
       "  <thead>\n",
       "    <tr style=\"text-align: right;\">\n",
       "      <th></th>\n",
       "      <th>doc_position</th>\n",
       "      <th>rel_score</th>\n",
       "      <th>ranking</th>\n",
       "      <th>query</th>\n",
       "      <th>score</th>\n",
       "      <th>binary_score</th>\n",
       "    </tr>\n",
       "    <tr>\n",
       "      <th>cord_uid</th>\n",
       "      <th></th>\n",
       "      <th></th>\n",
       "      <th></th>\n",
       "      <th></th>\n",
       "      <th></th>\n",
       "      <th></th>\n",
       "    </tr>\n",
       "  </thead>\n",
       "  <tbody>\n",
       "    <tr>\n",
       "      <th>005b2j4b</th>\n",
       "      <td>24564</td>\n",
       "      <td>0.099406</td>\n",
       "      <td>945</td>\n",
       "      <td>1.0</td>\n",
       "      <td>2.0</td>\n",
       "      <td>1.0</td>\n",
       "    </tr>\n",
       "    <tr>\n",
       "      <th>010vptx3</th>\n",
       "      <td>948</td>\n",
       "      <td>0.064816</td>\n",
       "      <td>2832</td>\n",
       "      <td>1.0</td>\n",
       "      <td>2.0</td>\n",
       "      <td>1.0</td>\n",
       "    </tr>\n",
       "    <tr>\n",
       "      <th>0194oljo</th>\n",
       "      <td>21873</td>\n",
       "      <td>0.028815</td>\n",
       "      <td>12308</td>\n",
       "      <td>1.0</td>\n",
       "      <td>1.0</td>\n",
       "      <td>1.0</td>\n",
       "    </tr>\n",
       "    <tr>\n",
       "      <th>047xpt2c</th>\n",
       "      <td>66284</td>\n",
       "      <td>0.054961</td>\n",
       "      <td>3989</td>\n",
       "      <td>1.0</td>\n",
       "      <td>0.0</td>\n",
       "      <td>0.0</td>\n",
       "    </tr>\n",
       "    <tr>\n",
       "      <th>047xpt2c</th>\n",
       "      <td>82390</td>\n",
       "      <td>0.031783</td>\n",
       "      <td>10631</td>\n",
       "      <td>1.0</td>\n",
       "      <td>0.0</td>\n",
       "      <td>0.0</td>\n",
       "    </tr>\n",
       "    <tr>\n",
       "      <th>...</th>\n",
       "      <td>...</td>\n",
       "      <td>...</td>\n",
       "      <td>...</td>\n",
       "      <td>...</td>\n",
       "      <td>...</td>\n",
       "      <td>...</td>\n",
       "    </tr>\n",
       "    <tr>\n",
       "      <th>zsx7wfyj</th>\n",
       "      <td>24633</td>\n",
       "      <td>0.116521</td>\n",
       "      <td>590</td>\n",
       "      <td>1.0</td>\n",
       "      <td>1.0</td>\n",
       "      <td>1.0</td>\n",
       "    </tr>\n",
       "    <tr>\n",
       "      <th>ztcyvsoi</th>\n",
       "      <td>51414</td>\n",
       "      <td>0.123075</td>\n",
       "      <td>484</td>\n",
       "      <td>1.0</td>\n",
       "      <td>1.0</td>\n",
       "      <td>1.0</td>\n",
       "    </tr>\n",
       "    <tr>\n",
       "      <th>zu46bdpu</th>\n",
       "      <td>40525</td>\n",
       "      <td>0.015517</td>\n",
       "      <td>24943</td>\n",
       "      <td>1.0</td>\n",
       "      <td>2.0</td>\n",
       "      <td>1.0</td>\n",
       "    </tr>\n",
       "    <tr>\n",
       "      <th>zv0ysi8m</th>\n",
       "      <td>81309</td>\n",
       "      <td>0.037668</td>\n",
       "      <td>8079</td>\n",
       "      <td>1.0</td>\n",
       "      <td>1.0</td>\n",
       "      <td>1.0</td>\n",
       "    </tr>\n",
       "    <tr>\n",
       "      <th>zy8qjaai</th>\n",
       "      <td>31727</td>\n",
       "      <td>0.065009</td>\n",
       "      <td>2823</td>\n",
       "      <td>1.0</td>\n",
       "      <td>1.0</td>\n",
       "      <td>1.0</td>\n",
       "    </tr>\n",
       "  </tbody>\n",
       "</table>\n",
       "<p>1257 rows × 6 columns</p>\n",
       "</div>"
      ],
      "text/plain": [
       "          doc_position  rel_score  ranking  query  score  binary_score\n",
       "cord_uid                                                              \n",
       "005b2j4b         24564   0.099406      945    1.0    2.0           1.0\n",
       "010vptx3           948   0.064816     2832    1.0    2.0           1.0\n",
       "0194oljo         21873   0.028815    12308    1.0    1.0           1.0\n",
       "047xpt2c         66284   0.054961     3989    1.0    0.0           0.0\n",
       "047xpt2c         82390   0.031783    10631    1.0    0.0           0.0\n",
       "...                ...        ...      ...    ...    ...           ...\n",
       "zsx7wfyj         24633   0.116521      590    1.0    1.0           1.0\n",
       "ztcyvsoi         51414   0.123075      484    1.0    1.0           1.0\n",
       "zu46bdpu         40525   0.015517    24943    1.0    2.0           1.0\n",
       "zv0ysi8m         81309   0.037668     8079    1.0    1.0           1.0\n",
       "zy8qjaai         31727   0.065009     2823    1.0    1.0           1.0\n",
       "\n",
       "[1257 rows x 6 columns]"
      ]
     },
     "execution_count": 34,
     "metadata": {},
     "output_type": "execute_result"
    }
   ],
   "source": [
    "statistics"
   ]
  },
  {
   "cell_type": "code",
   "execution_count": 35,
   "metadata": {
    "ExecuteTime": {
     "end_time": "2020-12-06T21:12:17.691040Z",
     "start_time": "2020-12-06T21:12:17.688041Z"
    }
   },
   "outputs": [],
   "source": [
    "statistics = statistics.sort_values(by=[\"ranking\"])"
   ]
  },
  {
   "cell_type": "code",
   "execution_count": 36,
   "metadata": {
    "ExecuteTime": {
     "end_time": "2020-12-06T21:12:17.727040Z",
     "start_time": "2020-12-06T21:12:17.724040Z"
    }
   },
   "outputs": [],
   "source": [
    "statistics = statistics.reset_index()"
   ]
  },
  {
   "cell_type": "code",
   "execution_count": 37,
   "metadata": {
    "ExecuteTime": {
     "end_time": "2020-12-06T21:12:17.764042Z",
     "start_time": "2020-12-06T21:12:17.762040Z"
    }
   },
   "outputs": [],
   "source": [
    "statistics[\"rank\"] = statistics.index+1"
   ]
  },
  {
   "cell_type": "code",
   "execution_count": 38,
   "metadata": {
    "ExecuteTime": {
     "end_time": "2020-12-06T21:12:17.805042Z",
     "start_time": "2020-12-06T21:12:17.798039Z"
    }
   },
   "outputs": [],
   "source": [
    "statistics[\"relevant\"] = statistics[\"binary_score\"]\n",
    "statistics[\"rel_retrieved\"] = statistics[\"binary_score\"].cumsum()\n",
    "statistics[\"precision\"] = statistics[\"rel_retrieved\"] / statistics[\"rank\"]\n",
    "r = statistics[\"relevant\"].sum()\n",
    "statistics[\"recall\"] = statistics[\"rel_retrieved\"] / r\n",
    "statistics.drop([\"doc_position\", \"score\", \"binary_score\"], axis=1, inplace=True)"
   ]
  },
  {
   "cell_type": "code",
   "execution_count": 39,
   "metadata": {
    "ExecuteTime": {
     "end_time": "2020-12-06T21:12:17.854040Z",
     "start_time": "2020-12-06T21:12:17.840040Z"
    }
   },
   "outputs": [
    {
     "data": {
      "text/html": [
       "<div>\n",
       "<style scoped>\n",
       "    .dataframe tbody tr th:only-of-type {\n",
       "        vertical-align: middle;\n",
       "    }\n",
       "\n",
       "    .dataframe tbody tr th {\n",
       "        vertical-align: top;\n",
       "    }\n",
       "\n",
       "    .dataframe thead th {\n",
       "        text-align: right;\n",
       "    }\n",
       "</style>\n",
       "<table border=\"1\" class=\"dataframe\">\n",
       "  <thead>\n",
       "    <tr style=\"text-align: right;\">\n",
       "      <th></th>\n",
       "      <th>cord_uid</th>\n",
       "      <th>rel_score</th>\n",
       "      <th>ranking</th>\n",
       "      <th>query</th>\n",
       "      <th>rank</th>\n",
       "      <th>relevant</th>\n",
       "      <th>rel_retrieved</th>\n",
       "      <th>precision</th>\n",
       "      <th>recall</th>\n",
       "    </tr>\n",
       "  </thead>\n",
       "  <tbody>\n",
       "    <tr>\n",
       "      <th>0</th>\n",
       "      <td>2qto9vsb</td>\n",
       "      <td>0.381604</td>\n",
       "      <td>0</td>\n",
       "      <td>1.0</td>\n",
       "      <td>1</td>\n",
       "      <td>0.0</td>\n",
       "      <td>0.0</td>\n",
       "      <td>0.000000</td>\n",
       "      <td>0.000000</td>\n",
       "    </tr>\n",
       "    <tr>\n",
       "      <th>1</th>\n",
       "      <td>12dcftwt</td>\n",
       "      <td>0.360190</td>\n",
       "      <td>1</td>\n",
       "      <td>1.0</td>\n",
       "      <td>2</td>\n",
       "      <td>1.0</td>\n",
       "      <td>1.0</td>\n",
       "      <td>0.500000</td>\n",
       "      <td>0.001953</td>\n",
       "    </tr>\n",
       "    <tr>\n",
       "      <th>2</th>\n",
       "      <td>a845az43</td>\n",
       "      <td>0.332744</td>\n",
       "      <td>2</td>\n",
       "      <td>1.0</td>\n",
       "      <td>3</td>\n",
       "      <td>0.0</td>\n",
       "      <td>1.0</td>\n",
       "      <td>0.333333</td>\n",
       "      <td>0.001953</td>\n",
       "    </tr>\n",
       "    <tr>\n",
       "      <th>3</th>\n",
       "      <td>k83zt387</td>\n",
       "      <td>0.322894</td>\n",
       "      <td>3</td>\n",
       "      <td>1.0</td>\n",
       "      <td>4</td>\n",
       "      <td>0.0</td>\n",
       "      <td>1.0</td>\n",
       "      <td>0.250000</td>\n",
       "      <td>0.001953</td>\n",
       "    </tr>\n",
       "    <tr>\n",
       "      <th>4</th>\n",
       "      <td>c7j2eoz0</td>\n",
       "      <td>0.315705</td>\n",
       "      <td>4</td>\n",
       "      <td>1.0</td>\n",
       "      <td>5</td>\n",
       "      <td>0.0</td>\n",
       "      <td>1.0</td>\n",
       "      <td>0.200000</td>\n",
       "      <td>0.001953</td>\n",
       "    </tr>\n",
       "    <tr>\n",
       "      <th>...</th>\n",
       "      <td>...</td>\n",
       "      <td>...</td>\n",
       "      <td>...</td>\n",
       "      <td>...</td>\n",
       "      <td>...</td>\n",
       "      <td>...</td>\n",
       "      <td>...</td>\n",
       "      <td>...</td>\n",
       "      <td>...</td>\n",
       "    </tr>\n",
       "    <tr>\n",
       "      <th>1252</th>\n",
       "      <td>w3catjj3</td>\n",
       "      <td>0.002467</td>\n",
       "      <td>57943</td>\n",
       "      <td>1.0</td>\n",
       "      <td>1253</td>\n",
       "      <td>0.0</td>\n",
       "      <td>511.0</td>\n",
       "      <td>0.407821</td>\n",
       "      <td>0.998047</td>\n",
       "    </tr>\n",
       "    <tr>\n",
       "      <th>1253</th>\n",
       "      <td>ivgwn32n</td>\n",
       "      <td>0.002382</td>\n",
       "      <td>58222</td>\n",
       "      <td>1.0</td>\n",
       "      <td>1254</td>\n",
       "      <td>0.0</td>\n",
       "      <td>511.0</td>\n",
       "      <td>0.407496</td>\n",
       "      <td>0.998047</td>\n",
       "    </tr>\n",
       "    <tr>\n",
       "      <th>1254</th>\n",
       "      <td>r9scxa76</td>\n",
       "      <td>0.002347</td>\n",
       "      <td>58333</td>\n",
       "      <td>1.0</td>\n",
       "      <td>1255</td>\n",
       "      <td>0.0</td>\n",
       "      <td>511.0</td>\n",
       "      <td>0.407171</td>\n",
       "      <td>0.998047</td>\n",
       "    </tr>\n",
       "    <tr>\n",
       "      <th>1255</th>\n",
       "      <td>3oxnox9j</td>\n",
       "      <td>0.002327</td>\n",
       "      <td>58390</td>\n",
       "      <td>1.0</td>\n",
       "      <td>1256</td>\n",
       "      <td>0.0</td>\n",
       "      <td>511.0</td>\n",
       "      <td>0.406847</td>\n",
       "      <td>0.998047</td>\n",
       "    </tr>\n",
       "    <tr>\n",
       "      <th>1256</th>\n",
       "      <td>x6s34z1s</td>\n",
       "      <td>0.001817</td>\n",
       "      <td>59556</td>\n",
       "      <td>1.0</td>\n",
       "      <td>1257</td>\n",
       "      <td>1.0</td>\n",
       "      <td>512.0</td>\n",
       "      <td>0.407319</td>\n",
       "      <td>1.000000</td>\n",
       "    </tr>\n",
       "  </tbody>\n",
       "</table>\n",
       "<p>1257 rows × 9 columns</p>\n",
       "</div>"
      ],
      "text/plain": [
       "      cord_uid  rel_score  ranking  query  rank  relevant  rel_retrieved  \\\n",
       "0     2qto9vsb   0.381604        0    1.0     1       0.0            0.0   \n",
       "1     12dcftwt   0.360190        1    1.0     2       1.0            1.0   \n",
       "2     a845az43   0.332744        2    1.0     3       0.0            1.0   \n",
       "3     k83zt387   0.322894        3    1.0     4       0.0            1.0   \n",
       "4     c7j2eoz0   0.315705        4    1.0     5       0.0            1.0   \n",
       "...        ...        ...      ...    ...   ...       ...            ...   \n",
       "1252  w3catjj3   0.002467    57943    1.0  1253       0.0          511.0   \n",
       "1253  ivgwn32n   0.002382    58222    1.0  1254       0.0          511.0   \n",
       "1254  r9scxa76   0.002347    58333    1.0  1255       0.0          511.0   \n",
       "1255  3oxnox9j   0.002327    58390    1.0  1256       0.0          511.0   \n",
       "1256  x6s34z1s   0.001817    59556    1.0  1257       1.0          512.0   \n",
       "\n",
       "      precision    recall  \n",
       "0      0.000000  0.000000  \n",
       "1      0.500000  0.001953  \n",
       "2      0.333333  0.001953  \n",
       "3      0.250000  0.001953  \n",
       "4      0.200000  0.001953  \n",
       "...         ...       ...  \n",
       "1252   0.407821  0.998047  \n",
       "1253   0.407496  0.998047  \n",
       "1254   0.407171  0.998047  \n",
       "1255   0.406847  0.998047  \n",
       "1256   0.407319  1.000000  \n",
       "\n",
       "[1257 rows x 9 columns]"
      ]
     },
     "execution_count": 39,
     "metadata": {},
     "output_type": "execute_result"
    }
   ],
   "source": [
    "statistics"
   ]
  },
  {
   "cell_type": "code",
   "execution_count": 40,
   "metadata": {
    "ExecuteTime": {
     "end_time": "2020-12-06T21:12:17.891040Z",
     "start_time": "2020-12-06T21:12:17.887040Z"
    }
   },
   "outputs": [
    {
     "name": "stdout",
     "output_type": "stream",
     "text": [
      "Mean average precision of TFIDF model for query 1 ==> 0.5458155238852109\n",
      "R-precision of TFIDF model for query 1 ==> 0.56640625\n"
     ]
    }
   ],
   "source": [
    "mavp = (statistics[\"precision\"] * statistics[\"relevant\"]).sum() / r\n",
    "r_precision = statistics.iloc[int(r-1)].precision\n",
    "\n",
    "print(f\"Mean average precision of TFIDF model for query 1 ==> {mavp}\")\n",
    "print(f\"R-precision of TFIDF model for query 1 ==> {r_precision}\")"
   ]
  },
  {
   "cell_type": "code",
   "execution_count": 41,
   "metadata": {
    "ExecuteTime": {
     "end_time": "2020-12-06T21:12:17.930042Z",
     "start_time": "2020-12-06T21:12:17.927041Z"
    }
   },
   "outputs": [],
   "source": [
    "precision = statistics[\"precision\"].values\n",
    "recall = statistics[\"recall\"].values"
   ]
  },
  {
   "cell_type": "code",
   "execution_count": 42,
   "metadata": {
    "ExecuteTime": {
     "end_time": "2020-12-06T21:12:17.976040Z",
     "start_time": "2020-12-06T21:12:17.973040Z"
    }
   },
   "outputs": [],
   "source": [
    "def get_higher_precision(statistics, recall):\n",
    "    index = statistics.index[statistics['recall'] >= recall].tolist()[0]\n",
    "    return statistics.iloc[index:][\"precision\"].max()"
   ]
  },
  {
   "cell_type": "code",
   "execution_count": 43,
   "metadata": {
    "ExecuteTime": {
     "end_time": "2020-12-06T21:12:18.020039Z",
     "start_time": "2020-12-06T21:12:18.012041Z"
    }
   },
   "outputs": [],
   "source": [
    "precision_recall = [[recall, get_higher_precision(statistics, recall)] for recall in np.arange(0,1.1, 0.1)]\n",
    "precision = [precision[1] for precision in precision_recall]\n",
    "recall = [recall[0] for recall in precision_recall]"
   ]
  },
  {
   "cell_type": "code",
   "execution_count": 43,
   "metadata": {
    "ExecuteTime": {
     "end_time": "2020-12-06T14:08:31.730465Z",
     "start_time": "2020-12-06T14:08:31.632466Z"
    }
   },
   "outputs": [
    {
     "data": {
      "image/png": "[encoded data removed]",
      "text/plain": [
       "<Figure size 360x360 with 1 Axes>"
      ]
     },
     "metadata": {
      "needs_background": "light"
     },
     "output_type": "display_data"
    }
   ],
   "source": [
    "plt.figure(figsize=(5,5))\n",
    "plt.title(\"Precision vs recall standardized\")\n",
    "plt.plot(recall, precision, \"r-o\")\n",
    "plt.axis([0, 1, 0, 1])\n",
    "plt.xlabel(\"Recall\")\n",
    "plt.ylabel(\"Precision\")\n",
    "plt.show()"
   ]
  },
  {
   "cell_type": "markdown",
   "metadata": {},
   "source": [
    "## TFIDF 2.0"
   ]
  },
  {
   "cell_type": "code",
   "execution_count": 44,
   "metadata": {
    "ExecuteTime": {
     "end_time": "2020-12-06T21:17:00.165784Z",
     "start_time": "2020-12-06T21:12:42.340555Z"
    }
   },
   "outputs": [],
   "source": [
    "model_tfidf_3 = models.TfidfModel(bow, smartirs=\"lpu\")\n",
    "model_tfidf_2 = models.TfidfModel(bow, smartirs=\"lfc\")\n",
    "model_tfidf_5 = models.TfidfModel(bow, smartirs=\"ltc\")\n",
    "model_tfidf_4 = models.TfidfModel(bow, smartirs=\"nnn\")"
   ]
  },
  {
   "cell_type": "markdown",
   "metadata": {},
   "source": [
    "# Results"
   ]
  },
  {
   "cell_type": "code",
   "execution_count": 45,
   "metadata": {
    "ExecuteTime": {
     "end_time": "2020-12-06T21:17:00.211783Z",
     "start_time": "2020-12-06T21:17:00.203784Z"
    }
   },
   "outputs": [],
   "source": [
    "def get_statistics_query(ranking, id_query, titles, metadata, judgements):\n",
    "    ranking = [[position[0], position[1]] for position in ranking]\n",
    "    ranking = pd.DataFrame(ranking, columns=[\"doc_position\", \"rel_score\"])\n",
    "    results = ranking\n",
    "    results[\"sha\"] = results[\"doc_position\"].map(lambda x: titles[\"id\"].iloc[x])\n",
    "    results[\"ranking\"] = results.index\n",
    "    results = results.set_index(\"sha\").join(metadata.set_index(\"sha\"))\n",
    "    results = results.sort_values(by=[\"ranking\"])\n",
    "    results = results.dropna()\n",
    "    judgements_parcial = judgements[judgements[\"query\"] == id_query]\n",
    "    statistics = results.set_index(\"cord_uid\").join(judgements_parcial.set_index(\"cord_uid\"))\n",
    "    statistics = statistics.dropna()\n",
    "    statistics = statistics[statistics[\"rel_score\"]>0]\n",
    "    statistics = statistics.sort_values(by=[\"ranking\"])\n",
    "    statistics = statistics.reset_index()\n",
    "    statistics[\"rank\"] = statistics.index+1\n",
    "    statistics[\"relevant\"] = statistics[\"binary_score\"]\n",
    "    statistics[\"rel_retrieved\"] = statistics[\"binary_score\"].cumsum()\n",
    "    statistics[\"precision\"] = statistics[\"rel_retrieved\"] / statistics[\"rank\"]\n",
    "    r = statistics[\"relevant\"].sum()\n",
    "    if r == 0:\n",
    "        return {\"mavp\": 0, \"r-precision\": 0, \"precision\": list(np.zeros(11))}\n",
    "    statistics[\"recall\"] = statistics[\"rel_retrieved\"] / r\n",
    "    statistics.drop([\"doc_position\", \"score\", \"binary_score\"], axis=1, inplace=True)\n",
    "    mavp = (statistics[\"precision\"] * statistics[\"relevant\"]).sum() / r\n",
    "    r_precision = statistics.iloc[int(r-1)].precision\n",
    "    precision = statistics[\"precision\"].values\n",
    "    recall = statistics[\"recall\"].values\n",
    "    precision_recall = [[recall, get_higher_precision(statistics, recall)] for recall in np.arange(0,1.1, 0.1)]\n",
    "    precision = [precision[1] for precision in precision_recall]\n",
    "    \n",
    "    return {\"mavp\": mavp, \"r-precision\": r_precision, \"precision\": precision}"
   ]
  },
  {
   "cell_type": "code",
   "execution_count": 46,
   "metadata": {
    "ExecuteTime": {
     "end_time": "2020-12-06T21:17:00.251787Z",
     "start_time": "2020-12-06T21:17:00.248786Z"
    }
   },
   "outputs": [],
   "source": [
    "def launch(function, y,z,a,b,c):\n",
    "    def h(x):\n",
    "        return function(y,z,a,b,x,c)\n",
    "    return h"
   ]
  },
  {
   "cell_type": "code",
   "execution_count": 47,
   "metadata": {
    "ExecuteTime": {
     "end_time": "2020-12-06T21:17:00.300788Z",
     "start_time": "2020-12-06T21:17:00.296786Z"
    }
   },
   "outputs": [],
   "source": [
    "def get_statistics(launch_query, queries, titles, metadata, judgements):\n",
    "    results = []\n",
    "    for index in range(len(queries)):\n",
    "        ranking, _ = launch_query(queries.iloc[index][0])#\n",
    "        result = get_statistics_query(ranking, index+1, titles, metadata, judgements)\n",
    "        results.append(result)\n",
    "    mavp = np.array([query[\"mavp\"] for query in results]).mean()\n",
    "    precision = np.array([query[\"precision\"] for query in results]).mean(axis=0)\n",
    "    r_precision = [query[\"r-precision\"] for query in results]\n",
    "    return {\"mavp\": mavp, \"precision\":precision, \"r-precision\":r_precision}"
   ]
  },
  {
   "cell_type": "code",
   "execution_count": 48,
   "metadata": {
    "ExecuteTime": {
     "end_time": "2020-12-06T21:22:16.258216Z",
     "start_time": "2020-12-06T21:17:00.336786Z"
    }
   },
   "outputs": [
    {
     "name": "stdout",
     "output_type": "stream",
     "text": [
      "###################################################################################\n",
      "Evaluating performance of our models...\n",
      "-------------------------------------------------------------------------------------\n",
      "Evaluating TFIDF (nfc): raw term frequency weighing, idf document frequency weighting, cosine normalization\n",
      "Computing statistics...\n",
      "Statistics computed...\n",
      "Mean Average Precision of this model ==> 0.4982978899333098\n",
      "-------------------------------------------------------------------------------------\n",
      "Evaluating TFIDF (lfc): logarithmic term frequency weighing, idf document frequency weighting, cosine normalization\n",
      "Computing statistics...\n",
      "Statistics computed...\n",
      "Mean Average Precision of this model ==> 0.4982978899333098\n",
      "-------------------------------------------------------------------------------------\n",
      "Evaluating TFIDF (lpu): logarithmic term frequency weighing, probabilistic document frequency weighting, pivoted unique normalization\n",
      "Computing statistics...\n",
      "Statistics computed...\n",
      "Mean Average Precision of this model ==> 0.5087887531431804\n",
      "-------------------------------------------------------------------------------------\n",
      "Evaluating TFIDF (nnn): raw term frequency weighing, none document frequency weighting, none normalization\n",
      "Computing statistics...\n",
      "Statistics computed...\n",
      "Mean Average Precision of this model ==> 0.46953154581265527\n",
      "-------------------------------------------------------------------------------------\n",
      "Evaluating TFIDF (ltc): logarithmic term frequency weighing, zero-corrected idf document frequency weighting, cosine normalization\n",
      "Computing statistics...\n",
      "Statistics computed...\n",
      "Mean Average Precision of this model ==> 0.49829782771365694\n"
     ]
    },
    {
     "data": {
      "image/png": "[encoded data removed]",
      "text/plain": [
       "<Figure size 432x432 with 1 Axes>"
      ]
     },
     "metadata": {
      "needs_background": "light"
     },
     "output_type": "display_data"
    },
    {
     "name": "stdout",
     "output_type": "stream",
     "text": [
      "-------------------------------------------------------------------------------------\n",
      "Comparing our models: TFDIF (nfc) vs TFIDF (lpu)\n"
     ]
    },
    {
     "data": {
      "image/png": "[encoded data removed]",
      "text/plain": [
       "<Figure size 720x432 with 1 Axes>"
      ]
     },
     "metadata": {
      "needs_background": "light"
     },
     "output_type": "display_data"
    },
    {
     "name": "stdout",
     "output_type": "stream",
     "text": [
      "-------------------------------------------------------------------------------------\n",
      "Evalution finished.\n",
      "###################################################################################\n"
     ]
    }
   ],
   "source": [
    "recall = np.arange(0,1.1, 0.1)\n",
    "modelos = [{\"name\":\"TFIDF (nfc)\", \"term\": \"raw\", \"document\": \"idf\", \"normalization\": \"cosine\", \"model\": model_tfidf, \"color\": \"r\"},\n",
    "          {\"name\":\"TFIDF (lfc)\", \"term\": \"logarithmic\", \"document\": \"idf\", \"normalization\": \"cosine\", \n",
    "           \"model\": model_tfidf_2, \"color\": \"g\"},\n",
    "           {\"name\":\"TFIDF (lpu)\", \"term\": \"logarithmic\", \"document\": \"probabilistic\", \"normalization\": \"pivoted unique\", \n",
    "           \"model\": model_tfidf_3, \"color\": \"b\"},\n",
    "           {\"name\":\"TFIDF (nnn)\", \"term\": \"raw\", \"document\": \"none\", \"normalization\": \"none\", \n",
    "           \"model\": model_tfidf_4, \"color\": \"c\"},\n",
    "           {\"name\":\"TFIDF (ltc)\", \"term\": \"logarithmic\", \"document\": \"zero-corrected idf\", \"normalization\": \"cosine\", \n",
    "           \"model\": model_tfidf_5, \"color\": \"m\"}\n",
    "         ]\n",
    "r_precisions = []\n",
    "\n",
    "print(\"###################################################################################\")\n",
    "print(\"Evaluating performance of our models...\")\n",
    "plt.figure(figsize=(6,6))\n",
    "plt.title(\"Precision vs Recall standardized\")\n",
    "plt.axis([0, 1, 0, 1])\n",
    "plt.xlabel(\"Recall\")\n",
    "plt.ylabel(\"Precision\")\n",
    "\n",
    "for model in modelos:\n",
    "    name = model[\"name\"]\n",
    "    term = model[\"term\"]\n",
    "    document = model[\"document\"]\n",
    "    normalization = model[\"normalization\"]\n",
    "    color = model[\"color\"]\n",
    "    print(\"-------------------------------------------------------------------------------------\")\n",
    "    print(f\"Evaluating {name}: {term} term frequency weighing, {document} document frequency weighting, {normalization} normalization\")\n",
    "    print(\"Computing statistics...\")\n",
    "    data_tfidf = get_statistics(launch(launch_query_tfidf,model[\"model\"], dictionary, bow, similarities, titles.copy()), queries.copy(), titles.copy(), metadata.copy(), judgements.copy())\n",
    "    print(\"Statistics computed...\")\n",
    "    precision_tfidf = data_tfidf[\"precision\"]\n",
    "    mavp_tfidf = data_tfidf[\"mavp\"]\n",
    "    r_precisions.append(data_tfidf[\"r-precision\"])\n",
    "    print(f\"Mean Average Precision of this model ==> {mavp_tfidf}\")\n",
    "    plt.plot(recall, precision_tfidf, f\"{color}-o\", label=name)\n",
    "#print(\"-------------------------------------------------------------------------------------\")\n",
    "#print(\"Evaluating TFIDF 2.0: logarithmic term frequency weighing, idf document frequency weighting, cosine normalization\")\n",
    "#print(\"Computing statistics...\")\n",
    "#data_tfidf_2 = get_statistics(launch(launch_query_tfidf,model_tfidf_2, dictionary, bow, similarities, titles.copy()), queries.copy(), titles.copy(), metadata.copy(), judgements.copy())\n",
    "#print(\"Statistics computed...\")\n",
    "#precision_tfidf_2 = data_tfidf_2[\"precision\"]\n",
    "#mavp_tfidf_2 = data_tfidf_2[\"mavp\"]\n",
    "#r_precision_tfidf_2 = data_tfidf_2[\"r-precision\"]\n",
    "#print(f\"Mean Average Precision of this model ==> {mavp_tfidf_2}\")\n",
    "#plt.plot(recall, precision_tfidf_2, \"b-o\", label=\"TFIDF 2.0\")\n",
    "plt.legend()\n",
    "plt.show()\n",
    "print(\"-------------------------------------------------------------------------------------\")\n",
    "print(\"Comparing our models: TFDIF (nfc) vs TFIDF (lpu)\")\n",
    "r_precision = np.array(r_precisions[0]) - np.array(r_precisions[2])\n",
    "# the histogram of the data\n",
    "plt.figure(figsize=(10,6))\n",
    "plt.bar(np.arange(1,51,1),r_precision)\n",
    "plt.xlabel('Query number')\n",
    "plt.ylabel('R-Precision TFIDF/TFIDF 2.0')\n",
    "plt.title('Comparison of R-Precisions')\n",
    "plt.grid(True)\n",
    "plt.show()\n",
    "print(\"-------------------------------------------------------------------------------------\")\n",
    "print(\"Evalution finished.\")\n",
    "print(\"###################################################################################\")"
   ]
  },
  {
   "cell_type": "markdown",
   "metadata": {},
   "source": [
    "## Word2Vec"
   ]
  },
  {
   "cell_type": "code",
   "execution_count": 15,
   "metadata": {
    "ExecuteTime": {
     "end_time": "2020-12-07T10:34:14.810609Z",
     "start_time": "2020-12-07T10:34:14.806611Z"
    }
   },
   "outputs": [],
   "source": [
    "def clean(doc):\n",
    "    stopset = set(stopwords.words(\"english\"))\n",
    "    stemmer = PorterStemmer()\n",
    "    tokens = wordpunct_tokenize(doc)\n",
    "    clean = [token.lower() for token in tokens if token not in stopset and len(token) > 2 and not token.isnumeric()]\n",
    "    final = [stemmer.stem(token) for token in clean]\n",
    "    return \" \".join(final)"
   ]
  },
  {
   "cell_type": "code",
   "execution_count": 16,
   "metadata": {
    "ExecuteTime": {
     "end_time": "2020-12-07T10:34:19.703272Z",
     "start_time": "2020-12-07T10:34:14.833610Z"
    }
   },
   "outputs": [],
   "source": [
    "docs = pd.DataFrame((line for line in open(\"docs.txt\")), columns = [\"preprocess\"])"
   ]
  },
  {
   "cell_type": "code",
   "execution_count": 17,
   "metadata": {
    "ExecuteTime": {
     "end_time": "2020-12-07T10:34:19.759273Z",
     "start_time": "2020-12-07T10:34:19.731272Z"
    }
   },
   "outputs": [],
   "source": [
    "queries[\"preprocess\"] = queries[\"query\"].apply(lambda x: clean(x))\n"
   ]
  },
  {
   "cell_type": "code",
   "execution_count": 18,
   "metadata": {
    "ExecuteTime": {
     "end_time": "2020-12-07T10:34:19.812483Z",
     "start_time": "2020-12-07T10:34:19.784483Z"
    }
   },
   "outputs": [],
   "source": [
    "combined = pd.concat((docs[\"preprocess\"], queries[\"preprocess\"])).sample(frac=1).reset_index(drop=True)"
   ]
  },
  {
   "cell_type": "code",
   "execution_count": 26,
   "metadata": {
    "ExecuteTime": {
     "end_time": "2020-12-06T23:29:13.626093Z",
     "start_time": "2020-12-06T23:19:17.006979Z"
    }
   },
   "outputs": [],
   "source": [
    "w2v_model = models.Word2Vec([i.split() for i in combined], size = 300, workers=12)"
   ]
  },
  {
   "cell_type": "code",
   "execution_count": 28,
   "metadata": {
    "ExecuteTime": {
     "end_time": "2020-12-06T23:30:36.322355Z",
     "start_time": "2020-12-06T23:30:36.318355Z"
    }
   },
   "outputs": [
    {
     "data": {
      "text/plain": [
       "330933"
      ]
     },
     "execution_count": 28,
     "metadata": {},
     "output_type": "execute_result"
    }
   ],
   "source": [
    "len(w2v_model.wv.vocab)"
   ]
  },
  {
   "cell_type": "code",
   "execution_count": 30,
   "metadata": {
    "ExecuteTime": {
     "end_time": "2020-12-06T23:32:04.377163Z",
     "start_time": "2020-12-06T23:32:03.502993Z"
    }
   },
   "outputs": [],
   "source": [
    "word_vectors = w2v_model.wv\n",
    "word_vectors.save(\"word2vec.wordvectors\")"
   ]
  },
  {
   "cell_type": "code",
   "execution_count": 31,
   "metadata": {
    "ExecuteTime": {
     "end_time": "2020-12-06T23:35:05.061896Z",
     "start_time": "2020-12-06T23:35:03.899019Z"
    }
   },
   "outputs": [],
   "source": [
    "w2v_model.save(\"word2vec.model\")"
   ]
  },
  {
   "cell_type": "code",
   "execution_count": 32,
   "metadata": {
    "ExecuteTime": {
     "end_time": "2020-12-06T23:38:53.236977Z",
     "start_time": "2020-12-06T23:38:53.200979Z"
    }
   },
   "outputs": [],
   "source": [
    "del w2v_model"
   ]
  },
  {
   "cell_type": "code",
   "execution_count": 19,
   "metadata": {
    "ExecuteTime": {
     "end_time": "2020-12-07T10:49:44.316283Z",
     "start_time": "2020-12-07T10:49:43.574994Z"
    }
   },
   "outputs": [],
   "source": [
    "from gensim.models import KeyedVectors\n",
    "word_vectors = KeyedVectors.load(\"word2vec.wordvectors\", mmap='r')"
   ]
  },
  {
   "cell_type": "code",
   "execution_count": 20,
   "metadata": {
    "ExecuteTime": {
     "end_time": "2020-12-07T10:49:46.380588Z",
     "start_time": "2020-12-07T10:49:46.376592Z"
    }
   },
   "outputs": [],
   "source": [
    "def get_embedding_w2v(doc_tokens):\n",
    "    embeddings = []\n",
    "    if len(doc_tokens) < 1:\n",
    "        return np.zeros(300)\n",
    "    else:\n",
    "        for token in doc_tokens:\n",
    "            if token in word_vectors.vocab:\n",
    "                embeddings.append(word_vectors.word_vec(token))\n",
    "            else:\n",
    "                embeddings.append(np.random.rand(300))\n",
    "        return np.mean(embeddings, axis = 0)\n",
    "    \n",
    "def get_embedding_w2v_par(doc_tokens):\n",
    "    embeddings = []\n",
    "    if len(doc_tokens) < 1:\n",
    "        return np.zeros(300)\n",
    "    embeddings = [Parallel()]\n",
    "    else:\n",
    "        for token in doc_tokens:\n",
    "            if token in word_vectors.vocab:\n",
    "                embeddings.append(word_vectors.word_vec(token))\n",
    "            else:\n",
    "                embeddings.append(np.random.rand(300))\n",
    "        return np.mean(embeddings, axis = 0)"
   ]
  },
  {
   "cell_type": "code",
   "execution_count": 21,
   "metadata": {
    "ExecuteTime": {
     "end_time": "2020-12-07T10:49:50.962243Z",
     "start_time": "2020-12-07T10:49:50.943244Z"
    }
   },
   "outputs": [],
   "source": [
    "queries[\"embeddings\"] = queries[\"preprocess\"].apply(lambda x: get_embedding_w2v(x.split()))"
   ]
  },
  {
   "cell_type": "code",
   "execution_count": 22,
   "metadata": {
    "ExecuteTime": {
     "end_time": "2020-12-07T10:49:53.958999Z",
     "start_time": "2020-12-07T10:49:53.954000Z"
    }
   },
   "outputs": [],
   "source": [
    "titles = titles.reset_index(drop=True)"
   ]
  },
  {
   "cell_type": "code",
   "execution_count": 23,
   "metadata": {
    "ExecuteTime": {
     "end_time": "2020-12-07T10:49:54.984084Z",
     "start_time": "2020-12-07T10:49:54.968086Z"
    }
   },
   "outputs": [],
   "source": [
    "docs = titles.join(docs)"
   ]
  },
  {
   "cell_type": "code",
   "execution_count": 24,
   "metadata": {
    "ExecuteTime": {
     "end_time": "2020-12-07T10:49:58.908453Z",
     "start_time": "2020-12-07T10:49:58.897455Z"
    }
   },
   "outputs": [
    {
     "data": {
      "text/html": [
       "<div>\n",
       "<style scoped>\n",
       "    .dataframe tbody tr th:only-of-type {\n",
       "        vertical-align: middle;\n",
       "    }\n",
       "\n",
       "    .dataframe tbody tr th {\n",
       "        vertical-align: top;\n",
       "    }\n",
       "\n",
       "    .dataframe thead th {\n",
       "        text-align: right;\n",
       "    }\n",
       "</style>\n",
       "<table border=\"1\" class=\"dataframe\">\n",
       "  <thead>\n",
       "    <tr style=\"text-align: right;\">\n",
       "      <th></th>\n",
       "      <th>id</th>\n",
       "      <th>title</th>\n",
       "      <th>preprocess</th>\n",
       "    </tr>\n",
       "  </thead>\n",
       "  <tbody>\n",
       "    <tr>\n",
       "      <th>0</th>\n",
       "      <td>0001418189999fea7f7cbe3e82703d71c85a6fe5</td>\n",
       "      <td>Absence of surface expression of feline infect...</td>\n",
       "      <td>absenc surfac express felin infecti periton vi...</td>\n",
       "    </tr>\n",
       "    <tr>\n",
       "      <th>1</th>\n",
       "      <td>0003793cf9e709bc2b9d0c8111186f78fb73fc04</td>\n",
       "      <td>Title: Rethinking high-risk groups in COVID-19</td>\n",
       "      <td>titl rethink high risk group covid protect hig...</td>\n",
       "    </tr>\n",
       "    <tr>\n",
       "      <th>2</th>\n",
       "      <td>000379d7a7f37a2ccb978862b9f2016bd03259ea</td>\n",
       "      <td>ScienceDirect ScienceDirect Effect of Nanomate...</td>\n",
       "      <td>sciencedirect sciencedirect effect nanomateri ...</td>\n",
       "    </tr>\n",
       "    <tr>\n",
       "      <th>3</th>\n",
       "      <td>00039b94e6cb7609ecbddee1755314bcfeb77faa</td>\n",
       "      <td>Plasma inflammatory cytokines and chemokines i...</td>\n",
       "      <td>plasma inflammatori cytokin chemokin sever acu...</td>\n",
       "    </tr>\n",
       "    <tr>\n",
       "      <th>4</th>\n",
       "      <td>0003ddc51c4291d742855e9ac56076a3bea33ad7</td>\n",
       "      <td>Journal Pre-proofs The Fire This Time: The Str...</td>\n",
       "      <td>journal pre proof fire time stress racism infl...</td>\n",
       "    </tr>\n",
       "    <tr>\n",
       "      <th>...</th>\n",
       "      <td>...</td>\n",
       "      <td>...</td>\n",
       "      <td>...</td>\n",
       "    </tr>\n",
       "    <tr>\n",
       "      <th>84415</th>\n",
       "      <td>fff8b9e88db122ffcbaf1daf6b697e44eaaffd93</td>\n",
       "      <td>Septic shock caused by Mycobacterium tuberculo...</td>\n",
       "      <td>septic shock caus mycobacterium tuberculosi no...</td>\n",
       "    </tr>\n",
       "    <tr>\n",
       "      <th>84416</th>\n",
       "      <td>fffaed7e9353b7df6c4ca8f66b62e117013cb86d</td>\n",
       "      <td>Dengue Virus Glycosylation: What Do We Know?</td>\n",
       "      <td>dengu viru glycosyl know mani infecti diseas c...</td>\n",
       "    </tr>\n",
       "    <tr>\n",
       "      <th>84417</th>\n",
       "      <td>fffb268f02887d8680dc611f6fc0b20c489030cb</td>\n",
       "      <td>Emergence of novel coronavirus and progress to...</td>\n",
       "      <td>emerg novel coronaviru progress toward treatme...</td>\n",
       "    </tr>\n",
       "    <tr>\n",
       "      <th>84418</th>\n",
       "      <td>fffc88be66eb39823fc9b50f0683e06a3038c9fe</td>\n",
       "      <td>A fractional-order compartmental model for pre...</td>\n",
       "      <td>fraction order compartment model predict sprea...</td>\n",
       "    </tr>\n",
       "    <tr>\n",
       "      <th>84419</th>\n",
       "      <td>ffff2fb21d4880b63a7cf3849cecc45bc596f4f0</td>\n",
       "      <td>Comparison of SARS-CoV-2 detection in nasophar...</td>\n",
       "      <td>comparison sar cov detect nasopharyng swab sal...</td>\n",
       "    </tr>\n",
       "  </tbody>\n",
       "</table>\n",
       "<p>84420 rows × 3 columns</p>\n",
       "</div>"
      ],
      "text/plain": [
       "                                             id  \\\n",
       "0      0001418189999fea7f7cbe3e82703d71c85a6fe5   \n",
       "1      0003793cf9e709bc2b9d0c8111186f78fb73fc04   \n",
       "2      000379d7a7f37a2ccb978862b9f2016bd03259ea   \n",
       "3      00039b94e6cb7609ecbddee1755314bcfeb77faa   \n",
       "4      0003ddc51c4291d742855e9ac56076a3bea33ad7   \n",
       "...                                         ...   \n",
       "84415  fff8b9e88db122ffcbaf1daf6b697e44eaaffd93   \n",
       "84416  fffaed7e9353b7df6c4ca8f66b62e117013cb86d   \n",
       "84417  fffb268f02887d8680dc611f6fc0b20c489030cb   \n",
       "84418  fffc88be66eb39823fc9b50f0683e06a3038c9fe   \n",
       "84419  ffff2fb21d4880b63a7cf3849cecc45bc596f4f0   \n",
       "\n",
       "                                                   title  \\\n",
       "0      Absence of surface expression of feline infect...   \n",
       "1         Title: Rethinking high-risk groups in COVID-19   \n",
       "2      ScienceDirect ScienceDirect Effect of Nanomate...   \n",
       "3      Plasma inflammatory cytokines and chemokines i...   \n",
       "4      Journal Pre-proofs The Fire This Time: The Str...   \n",
       "...                                                  ...   \n",
       "84415  Septic shock caused by Mycobacterium tuberculo...   \n",
       "84416       Dengue Virus Glycosylation: What Do We Know?   \n",
       "84417  Emergence of novel coronavirus and progress to...   \n",
       "84418  A fractional-order compartmental model for pre...   \n",
       "84419  Comparison of SARS-CoV-2 detection in nasophar...   \n",
       "\n",
       "                                              preprocess  \n",
       "0      absenc surfac express felin infecti periton vi...  \n",
       "1      titl rethink high risk group covid protect hig...  \n",
       "2      sciencedirect sciencedirect effect nanomateri ...  \n",
       "3      plasma inflammatori cytokin chemokin sever acu...  \n",
       "4      journal pre proof fire time stress racism infl...  \n",
       "...                                                  ...  \n",
       "84415  septic shock caus mycobacterium tuberculosi no...  \n",
       "84416  dengu viru glycosyl know mani infecti diseas c...  \n",
       "84417  emerg novel coronaviru progress toward treatme...  \n",
       "84418  fraction order compartment model predict sprea...  \n",
       "84419  comparison sar cov detect nasopharyng swab sal...  \n",
       "\n",
       "[84420 rows x 3 columns]"
      ]
     },
     "execution_count": 24,
     "metadata": {},
     "output_type": "execute_result"
    }
   ],
   "source": [
    "docs"
   ]
  },
  {
   "cell_type": "code",
   "execution_count": 56,
   "metadata": {
    "ExecuteTime": {
     "end_time": "2020-12-07T01:43:37.793200Z",
     "start_time": "2020-12-07T01:43:36.210205Z"
    }
   },
   "outputs": [],
   "source": [
    "import dask.dataframe as ddf\n",
    "docs = ddf.from_pandas(docs, npartitions = 12)"
   ]
  },
  {
   "cell_type": "code",
   "execution_count": 58,
   "metadata": {
    "ExecuteTime": {
     "end_time": "2020-12-07T01:46:36.576854Z",
     "start_time": "2020-12-07T01:46:17.056919Z"
    }
   },
   "outputs": [],
   "source": [
    "docs[\"embeddings\"] = docs[\"preprocess\"].apply(lambda x: get_embedding_w2v(x.split()), meta=('preprocess', 'object'))"
   ]
  },
  {
   "cell_type": "code",
   "execution_count": null,
   "metadata": {
    "ExecuteTime": {
     "start_time": "2020-12-07T01:46:18.285Z"
    }
   },
   "outputs": [],
   "source": [
    "docs = client.persist(docs)"
   ]
  },
  {
   "cell_type": "code",
   "execution_count": null,
   "metadata": {
    "ExecuteTime": {
     "start_time": "2020-12-07T01:46:20.662Z"
    }
   },
   "outputs": [],
   "source": [
    "docs"
   ]
  },
  {
   "cell_type": "code",
   "execution_count": null,
   "metadata": {
    "ExecuteTime": {
     "start_time": "2020-12-07T01:46:22.762Z"
    }
   },
   "outputs": [],
   "source": [
    "docs[\"embeddings\"].values.compute()"
   ]
  },
  {
   "cell_type": "code",
   "execution_count": 51,
   "metadata": {
    "ExecuteTime": {
     "end_time": "2020-12-07T01:41:41.345386Z",
     "start_time": "2020-12-07T01:41:39.650387Z"
    }
   },
   "outputs": [
    {
     "data": {
      "text/html": [
       "<table style=\"border: 2px solid white;\">\n",
       "<tr>\n",
       "<td style=\"vertical-align: top; border: 0px solid white\">\n",
       "<h3 style=\"text-align: left;\">Client</h3>\n",
       "<ul style=\"text-align: left; list-style: none; margin: 0; padding: 0;\">\n",
       "  <li><b>Scheduler: </b>tcp://127.0.0.1:53543</li>\n",
       "  <li><b>Dashboard: </b><a href='http://127.0.0.1:8787/status' target='_blank'>http://127.0.0.1:8787/status</a>\n",
       "</ul>\n",
       "</td>\n",
       "<td style=\"vertical-align: top; border: 0px solid white\">\n",
       "<h3 style=\"text-align: left;\">Cluster</h3>\n",
       "<ul style=\"text-align: left; list-style:none; margin: 0; padding: 0;\">\n",
       "  <li><b>Workers: </b>1</li>\n",
       "  <li><b>Cores: </b>2</li>\n",
       "  <li><b>Memory: </b>5.72 GB</li>\n",
       "</ul>\n",
       "</td>\n",
       "</tr>\n",
       "</table>"
      ],
      "text/plain": [
       "<Client: 'tcp://127.0.0.1:53543' processes=0 threads=0, memory=0 B>"
      ]
     },
     "execution_count": 51,
     "metadata": {},
     "output_type": "execute_result"
    }
   ],
   "source": [
    "client.restart()"
   ]
  },
  {
   "cell_type": "code",
   "execution_count": 26,
   "metadata": {
    "ExecuteTime": {
     "end_time": "2020-12-07T10:52:05.730398Z",
     "start_time": "2020-12-07T10:52:05.679409Z"
    }
   },
   "outputs": [
    {
     "data": {
      "text/plain": [
       "array([-6.09078177e-01,  4.07745631e-01, -7.44885512e-01, -9.22567532e-02,\n",
       "        5.52799930e-01,  2.66084511e-01, -4.81817371e-02,  9.36211342e-01,\n",
       "       -4.39312879e-01,  4.55677330e-01,  5.02419642e-02,  9.31901206e-02,\n",
       "       -7.51115969e-01,  2.52598866e-01,  3.67409702e-01, -4.15345468e-01,\n",
       "       -6.13268911e-01,  5.11757266e-01, -2.10876047e-01,  2.31704687e-01,\n",
       "       -1.15349924e-01,  3.96398957e-01, -5.19221507e-01,  9.90211051e-02,\n",
       "       -2.11536542e-01,  1.46748216e-02,  1.00395057e-01,  5.48738259e-01,\n",
       "        2.67129112e-01,  3.94490382e-02, -1.61925406e-03, -7.61358898e-01,\n",
       "        2.38310739e-01,  3.77974560e-01,  2.02269469e-01,  3.59291956e-01,\n",
       "        7.24694689e-01,  1.69681020e-01,  3.76364304e-01, -6.41114554e-01,\n",
       "        2.18409567e-01,  5.43548028e-01, -1.06022093e-01, -7.35662019e-02,\n",
       "        3.28629240e-02, -7.15270177e-01, -3.31165542e-01, -1.65560700e-01,\n",
       "        1.62005246e-01, -3.10818188e-01,  5.10185602e-02,  4.74526478e-01,\n",
       "        6.28836978e-01, -5.94561681e-01, -3.51324880e-01, -5.02988990e-01,\n",
       "       -8.56946230e-01,  6.25369029e-01, -3.22891110e-01,  2.43931739e-02,\n",
       "        6.69640531e-01, -5.29344784e-01, -1.31040390e-01, -3.32843623e-01,\n",
       "        1.26295454e-01, -1.90316172e-01, -1.12409167e-01, -3.83753061e-01,\n",
       "       -4.94903023e-01,  5.15880619e-01, -4.87516069e-01, -4.36948422e-01,\n",
       "        4.28566122e-01, -4.97107976e-01,  1.76604481e-02, -4.15284072e-02,\n",
       "       -1.14437216e-01,  1.48683834e-03,  1.63093335e-01,  6.02189897e-01,\n",
       "       -2.21565213e-01,  3.30931985e-01,  1.00825560e-01, -5.94601895e-01,\n",
       "       -4.20749651e-01,  4.26875250e-02, -8.25297861e-02,  2.05073000e-01,\n",
       "        3.02147593e-01,  5.67094518e-01, -6.99405150e-02, -7.74814963e-01,\n",
       "       -4.97870332e-02,  3.46039319e-01, -2.14820361e-01,  2.03959992e-01,\n",
       "       -1.70106644e-02, -4.35147355e-01,  4.43025833e-01,  3.71067492e-01,\n",
       "       -5.59181743e-01, -1.67093457e-01,  3.43004540e-01, -6.09207931e-01,\n",
       "       -3.78493919e-02, -7.59640553e-01, -4.41425328e-02,  9.96342020e-02,\n",
       "       -8.81733729e-01, -3.58303834e-01,  3.18026927e-01,  2.52645258e-01,\n",
       "        3.32070181e-01,  4.59609408e-01,  9.42978040e-02, -4.41889320e-02,\n",
       "       -5.20429383e-01,  1.65181910e-02,  5.81808209e-01, -2.22449054e-01,\n",
       "        5.34478277e-01,  7.23457046e-02, -5.75588683e-01, -3.30821496e-01,\n",
       "        1.80332014e-01, -8.93984142e-02,  3.24321297e-01, -1.18216896e+00,\n",
       "       -5.91801299e-01,  2.14401670e-01, -8.70640609e-01, -1.56633399e-02,\n",
       "        1.43872865e-01,  4.67212167e-01,  3.20667875e-01, -2.83635524e-01,\n",
       "       -5.93661205e-01,  3.60696490e-01,  1.37558673e-01, -5.41416606e-02,\n",
       "        2.27920705e-01,  8.17184024e-02,  3.43346375e-02, -5.89749690e-01,\n",
       "        3.58416652e-01,  1.63941800e-01,  1.12959322e-01,  1.23308291e-01,\n",
       "       -1.39400770e-01, -2.11641726e-01,  1.17672827e-02, -7.14373708e-02,\n",
       "       -1.14328741e-01,  3.54922096e-01,  8.12619997e-01, -1.23658670e-01,\n",
       "       -2.38647246e-01,  2.50096538e-01,  4.55980848e-01,  4.21842439e-01,\n",
       "        4.14728096e-01,  1.83303481e-01, -1.81582682e-01, -8.50075677e-01,\n",
       "       -3.63933887e-01, -2.82555226e-01,  7.92584700e-01,  5.02099841e-01,\n",
       "       -2.07994614e-01,  5.51352727e-01, -4.32484639e-01,  7.00974702e-01,\n",
       "       -7.10633963e-01, -4.44267573e-01,  6.74493643e-01,  4.54694723e-01,\n",
       "        6.22227491e-01,  4.45978509e-01,  3.03604409e-01, -5.38762452e-02,\n",
       "        4.83970643e-01,  2.14457989e-01, -3.80162510e-02, -5.33575598e-01,\n",
       "       -1.10682804e+00,  4.52021411e-01, -2.31679488e-01, -5.17109283e-02,\n",
       "       -6.72020288e-03,  6.39753342e-01,  1.12649350e-03, -1.16511230e-01,\n",
       "        1.83969991e-01, -1.77838170e-02, -5.93178778e-01,  3.57113859e-01,\n",
       "        2.63389095e-01, -1.07729689e-01, -3.60425032e-01,  1.14163811e+00,\n",
       "        2.03291559e-01,  4.04675269e-01, -7.55876046e-02,  9.50833656e-01,\n",
       "        3.81509431e-01,  6.32754143e-01,  2.62559931e-01, -7.62962462e-01,\n",
       "        2.71616862e-01,  9.26452984e-01, -2.99574831e-01, -9.28222552e-01,\n",
       "        7.62645427e-01,  6.45314209e-01,  2.30314435e-01,  4.92979726e-01,\n",
       "        1.06761798e-01, -3.44418956e-02,  1.01301593e-01, -8.55754950e-02,\n",
       "       -7.84448684e-01,  2.83821908e-01,  5.61956313e-01,  8.42034300e-02,\n",
       "        3.92976973e-01, -3.12089444e-01, -5.12161539e-01, -6.69235577e-01,\n",
       "        4.35002750e-01,  7.70816281e-02,  2.29416598e-01, -1.35657739e-01,\n",
       "        2.64853542e-01,  6.43100500e-01,  1.17382337e-01,  1.05825286e-01,\n",
       "        2.80112652e-01,  1.53200793e-01, -1.90945959e-02,  7.96721315e-01,\n",
       "       -4.23200139e-01, -3.00269806e-01, -5.21522503e-01,  2.50280932e-01,\n",
       "       -9.58980130e-01, -4.06112514e-01, -7.11515393e-01,  6.69951798e-01,\n",
       "       -5.50044064e-01, -3.68643726e-01,  3.65876175e-01,  9.66545575e-02,\n",
       "       -1.09583366e+00,  7.28227111e-01,  8.10521870e-01,  1.09932577e-01,\n",
       "       -2.72902399e-02,  5.94696502e-01,  3.21528593e-01, -4.59402509e-01,\n",
       "       -2.62680324e-01,  1.22933118e+00, -9.28295172e-02, -3.14085860e-01,\n",
       "        3.76591136e-01,  2.82994532e-02,  2.12290492e-01,  5.07658365e-01,\n",
       "       -7.59414501e-02, -1.43928109e-01,  1.26753483e+00, -2.79020502e-01,\n",
       "       -1.16124641e-01, -3.54923122e-01, -3.55246380e-01,  3.27999243e-01,\n",
       "       -5.46316604e-01,  5.49666949e-02, -1.62773593e-01,  7.12231685e-01,\n",
       "        1.20512516e-01,  1.16811647e+00,  1.82282636e-01,  3.20950206e-01,\n",
       "       -1.17735352e-01, -9.81048052e-01, -2.51762177e-01, -5.48767935e-01,\n",
       "       -6.33742678e-01,  1.84973163e-01,  6.22935276e-01,  3.02731131e-01,\n",
       "       -4.35909375e-01,  5.21731263e-01,  4.60090862e-01,  1.73437152e-01,\n",
       "        3.63168653e-01,  8.99173510e-02, -4.73992469e-01, -3.79648684e-01])"
      ]
     },
     "execution_count": 26,
     "metadata": {},
     "output_type": "execute_result"
    }
   ],
   "source": [
    "get_embedding_w2v(docs[\"preprocess\"][0].split())"
   ]
  },
  {
   "cell_type": "code",
   "execution_count": 27,
   "metadata": {
    "ExecuteTime": {
     "end_time": "2020-12-07T10:54:36.077523Z",
     "start_time": "2020-12-07T10:54:36.073525Z"
    }
   },
   "outputs": [
    {
     "data": {
      "text/plain": [
       "joblib.parallel.Parallel"
      ]
     },
     "execution_count": 27,
     "metadata": {},
     "output_type": "execute_result"
    }
   ],
   "source": [
    "Parallel"
   ]
  },
  {
   "cell_type": "markdown",
   "metadata": {},
   "source": [
    "In order to reduce the amount of embeddings to be computed, we filter the documents and we only save the ones that have some query perform on it and appear in metadata.\n",
    "Then, we compute the embedding for each document, so as to have it precomputed and then, when computing the similarity, just taking this value."
   ]
  },
  {
   "cell_type": "code",
   "execution_count": 108,
   "metadata": {
    "ExecuteTime": {
     "end_time": "2020-12-07T12:01:21.111707Z",
     "start_time": "2020-12-07T12:01:21.046713Z"
    }
   },
   "outputs": [],
   "source": [
    "docs[\"sha\"] = docs[\"id\"]\n",
    "inCorpus = metadata[metadata[\"sha\"].isin(docs[\"sha\"])][\"cord_uid\"]\n",
    "inJudgements = inCorpus[inCorpus.isin(judgements[\"cord_uid\"])]\n",
    "filtered = metadata.loc[metadata['cord_uid'].isin(inJudgements)][\"sha\"].values\n",
    "docs_filtered = docs.loc[docs[\"id\"].isin(filtered)]"
   ]
  },
  {
   "cell_type": "code",
   "execution_count": 109,
   "metadata": {
    "ExecuteTime": {
     "end_time": "2020-12-07T12:01:24.929697Z",
     "start_time": "2020-12-07T12:01:24.921698Z"
    }
   },
   "outputs": [
    {
     "data": {
      "text/html": [
       "<div>\n",
       "<style scoped>\n",
       "    .dataframe tbody tr th:only-of-type {\n",
       "        vertical-align: middle;\n",
       "    }\n",
       "\n",
       "    .dataframe tbody tr th {\n",
       "        vertical-align: top;\n",
       "    }\n",
       "\n",
       "    .dataframe thead th {\n",
       "        text-align: right;\n",
       "    }\n",
       "</style>\n",
       "<table border=\"1\" class=\"dataframe\">\n",
       "  <thead>\n",
       "    <tr style=\"text-align: right;\">\n",
       "      <th></th>\n",
       "      <th>id</th>\n",
       "      <th>title</th>\n",
       "      <th>preprocess</th>\n",
       "      <th>sha</th>\n",
       "    </tr>\n",
       "  </thead>\n",
       "  <tbody>\n",
       "    <tr>\n",
       "      <th>1</th>\n",
       "      <td>0003793cf9e709bc2b9d0c8111186f78fb73fc04</td>\n",
       "      <td>Title: Rethinking high-risk groups in COVID-19</td>\n",
       "      <td>titl rethink high risk group covid protect hig...</td>\n",
       "      <td>0003793cf9e709bc2b9d0c8111186f78fb73fc04</td>\n",
       "    </tr>\n",
       "    <tr>\n",
       "      <th>3</th>\n",
       "      <td>00039b94e6cb7609ecbddee1755314bcfeb77faa</td>\n",
       "      <td>Plasma inflammatory cytokines and chemokines i...</td>\n",
       "      <td>plasma inflammatori cytokin chemokin sever acu...</td>\n",
       "      <td>00039b94e6cb7609ecbddee1755314bcfeb77faa</td>\n",
       "    </tr>\n",
       "    <tr>\n",
       "      <th>4</th>\n",
       "      <td>0003ddc51c4291d742855e9ac56076a3bea33ad7</td>\n",
       "      <td>Journal Pre-proofs The Fire This Time: The Str...</td>\n",
       "      <td>journal pre proof fire time stress racism infl...</td>\n",
       "      <td>0003ddc51c4291d742855e9ac56076a3bea33ad7</td>\n",
       "    </tr>\n",
       "    <tr>\n",
       "      <th>5</th>\n",
       "      <td>0004456994f6c1d5db7327990386d33c01cff32a</td>\n",
       "      <td></td>\n",
       "      <td>ackground influenza immunis healthcar worker e...</td>\n",
       "      <td>0004456994f6c1d5db7327990386d33c01cff32a</td>\n",
       "    </tr>\n",
       "    <tr>\n",
       "      <th>7</th>\n",
       "      <td>00060fb61742ff60e4e3ba4648c74a34cfe9560d</td>\n",
       "      <td></td>\n",
       "      <td>outbreak novel coronaviru diseas led current g...</td>\n",
       "      <td>00060fb61742ff60e4e3ba4648c74a34cfe9560d</td>\n",
       "    </tr>\n",
       "    <tr>\n",
       "      <th>...</th>\n",
       "      <td>...</td>\n",
       "      <td>...</td>\n",
       "      <td>...</td>\n",
       "      <td>...</td>\n",
       "    </tr>\n",
       "    <tr>\n",
       "      <th>84398</th>\n",
       "      <td>ffee9b5aa941373afcb67928225bda51c2ca9fb2</td>\n",
       "      <td></td>\n",
       "      <td>march april new york citi nyc experienc expone...</td>\n",
       "      <td>ffee9b5aa941373afcb67928225bda51c2ca9fb2</td>\n",
       "    </tr>\n",
       "    <tr>\n",
       "      <th>84406</th>\n",
       "      <td>fff28c4948e827bb5efc14f075b97fa5ed7c1cf5</td>\n",
       "      <td></td>\n",
       "      <td>studi epidem model develop simul past fifti da...</td>\n",
       "      <td>fff28c4948e827bb5efc14f075b97fa5ed7c1cf5</td>\n",
       "    </tr>\n",
       "    <tr>\n",
       "      <th>84407</th>\n",
       "      <td>fff3678cfe3ce7a9ccae1e7becf17d5d71d1b54a</td>\n",
       "      <td>Gaining Insights into the Codon Usage Patterns...</td>\n",
       "      <td>gain insight codon usag pattern tp53 gene acro...</td>\n",
       "      <td>fff3678cfe3ce7a9ccae1e7becf17d5d71d1b54a</td>\n",
       "    </tr>\n",
       "    <tr>\n",
       "      <th>84413</th>\n",
       "      <td>fff6fe12beb51ee2641ddb5381378ff3560d8103</td>\n",
       "      <td>Health shocks and their long-lasting impact on...</td>\n",
       "      <td>health shock long last impact health behavior ...</td>\n",
       "      <td>fff6fe12beb51ee2641ddb5381378ff3560d8103</td>\n",
       "    </tr>\n",
       "    <tr>\n",
       "      <th>84417</th>\n",
       "      <td>fffb268f02887d8680dc611f6fc0b20c489030cb</td>\n",
       "      <td>Emergence of novel coronavirus and progress to...</td>\n",
       "      <td>emerg novel coronaviru progress toward treatme...</td>\n",
       "      <td>fffb268f02887d8680dc611f6fc0b20c489030cb</td>\n",
       "    </tr>\n",
       "  </tbody>\n",
       "</table>\n",
       "<p>26101 rows × 4 columns</p>\n",
       "</div>"
      ],
      "text/plain": [
       "                                             id  \\\n",
       "1      0003793cf9e709bc2b9d0c8111186f78fb73fc04   \n",
       "3      00039b94e6cb7609ecbddee1755314bcfeb77faa   \n",
       "4      0003ddc51c4291d742855e9ac56076a3bea33ad7   \n",
       "5      0004456994f6c1d5db7327990386d33c01cff32a   \n",
       "7      00060fb61742ff60e4e3ba4648c74a34cfe9560d   \n",
       "...                                         ...   \n",
       "84398  ffee9b5aa941373afcb67928225bda51c2ca9fb2   \n",
       "84406  fff28c4948e827bb5efc14f075b97fa5ed7c1cf5   \n",
       "84407  fff3678cfe3ce7a9ccae1e7becf17d5d71d1b54a   \n",
       "84413  fff6fe12beb51ee2641ddb5381378ff3560d8103   \n",
       "84417  fffb268f02887d8680dc611f6fc0b20c489030cb   \n",
       "\n",
       "                                                   title  \\\n",
       "1         Title: Rethinking high-risk groups in COVID-19   \n",
       "3      Plasma inflammatory cytokines and chemokines i...   \n",
       "4      Journal Pre-proofs The Fire This Time: The Str...   \n",
       "5                                                          \n",
       "7                                                          \n",
       "...                                                  ...   \n",
       "84398                                                      \n",
       "84406                                                      \n",
       "84407  Gaining Insights into the Codon Usage Patterns...   \n",
       "84413  Health shocks and their long-lasting impact on...   \n",
       "84417  Emergence of novel coronavirus and progress to...   \n",
       "\n",
       "                                              preprocess  \\\n",
       "1      titl rethink high risk group covid protect hig...   \n",
       "3      plasma inflammatori cytokin chemokin sever acu...   \n",
       "4      journal pre proof fire time stress racism infl...   \n",
       "5      ackground influenza immunis healthcar worker e...   \n",
       "7      outbreak novel coronaviru diseas led current g...   \n",
       "...                                                  ...   \n",
       "84398  march april new york citi nyc experienc expone...   \n",
       "84406  studi epidem model develop simul past fifti da...   \n",
       "84407  gain insight codon usag pattern tp53 gene acro...   \n",
       "84413  health shock long last impact health behavior ...   \n",
       "84417  emerg novel coronaviru progress toward treatme...   \n",
       "\n",
       "                                            sha  \n",
       "1      0003793cf9e709bc2b9d0c8111186f78fb73fc04  \n",
       "3      00039b94e6cb7609ecbddee1755314bcfeb77faa  \n",
       "4      0003ddc51c4291d742855e9ac56076a3bea33ad7  \n",
       "5      0004456994f6c1d5db7327990386d33c01cff32a  \n",
       "7      00060fb61742ff60e4e3ba4648c74a34cfe9560d  \n",
       "...                                         ...  \n",
       "84398  ffee9b5aa941373afcb67928225bda51c2ca9fb2  \n",
       "84406  fff28c4948e827bb5efc14f075b97fa5ed7c1cf5  \n",
       "84407  fff3678cfe3ce7a9ccae1e7becf17d5d71d1b54a  \n",
       "84413  fff6fe12beb51ee2641ddb5381378ff3560d8103  \n",
       "84417  fffb268f02887d8680dc611f6fc0b20c489030cb  \n",
       "\n",
       "[26101 rows x 4 columns]"
      ]
     },
     "execution_count": 109,
     "metadata": {},
     "output_type": "execute_result"
    }
   ],
   "source": [
    "docs_filtered[\"prepr\"]"
   ]
  },
  {
   "cell_type": "code",
   "execution_count": null,
   "metadata": {},
   "outputs": [],
   "source": []
  }
 ],
 "metadata": {
  "kernelspec": {
   "display_name": "Python 3",
   "language": "python",
   "name": "python3"
  },
  "language_info": {
   "codemirror_mode": {
    "name": "ipython",
    "version": 3
   },
   "file_extension": ".py",
   "mimetype": "text/x-python",
   "name": "python",
   "nbconvert_exporter": "python",
   "pygments_lexer": "ipython3",
   "version": "3.7.6"
  },
  "latex_envs": {
   "LaTeX_envs_menu_present": true,
   "autoclose": true,
   "autocomplete": true,
   "bibliofile": "biblio.bib",
   "cite_by": "apalike",
   "current_citInitial": 1,
   "eqLabelWithNumbers": true,
   "eqNumInitial": 1,
   "hotkeys": {
    "equation": "Ctrl-E",
    "itemize": "Ctrl-I"
   },
   "labels_anchors": false,
   "latex_user_defs": false,
   "report_style_numbering": false,
   "user_envs_cfg": false
  },
  "varInspector": {
   "cols": {
    "lenName": 16,
    "lenType": 16,
    "lenVar": 40
   },
   "kernels_config": {
    "python": {
     "delete_cmd_postfix": "",
     "delete_cmd_prefix": "del ",
     "library": "var_list.py",
     "varRefreshCmd": "print(var_dic_list())"
    },
    "r": {
     "delete_cmd_postfix": ") ",
     "delete_cmd_prefix": "rm(",
     "library": "var_list.r",
     "varRefreshCmd": "cat(var_dic_list()) "
    }
   },
   "types_to_exclude": [
    "module",
    "function",
    "builtin_function_or_method",
    "instance",
    "_Feature"
   ],
   "window_display": false
  }
 },
 "nbformat": 4,
 "nbformat_minor": 4
}
